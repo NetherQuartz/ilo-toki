{
 "cells": [
  {
   "cell_type": "code",
   "execution_count": 1,
   "id": "23eaa6c6",
   "metadata": {},
   "outputs": [],
   "source": [
    "import datasets\n",
    "import polars as pl\n",
    "\n",
    "from hashlib import sha256"
   ]
  },
  {
   "cell_type": "code",
   "execution_count": 3,
   "id": "8780f6aa",
   "metadata": {},
   "outputs": [
    {
     "data": {
      "text/html": [
       "<div><style>\n",
       ".dataframe > thead > tr,\n",
       ".dataframe > tbody > tr {\n",
       "  text-align: right;\n",
       "  white-space: pre-wrap;\n",
       "}\n",
       "</style>\n",
       "<small>shape: (42, 3)</small><table border=\"1\" class=\"dataframe\"><thead><tr><th>id</th><th>url</th><th>text</th></tr><tr><td>i64</td><td>str</td><td>str</td></tr></thead><tbody><tr><td>0</td><td>&quot;https://lipukule.org/post/2021…</td><td>&quot;lipu sin pi toki pona li kama …</td></tr><tr><td>1</td><td>&quot;https://lipukule.org/post/2021…</td><td>&quot;ken la, sina lon kulupu &#x27;ma po…</td></tr><tr><td>2</td><td>&quot;https://lipukule.org/post/2021…</td><td>&quot;lipu kule li tan wile pi jan m…</td></tr><tr><td>3</td><td>&quot;https://lipukule.org/post/2021…</td><td>&quot;tenpo pini la jan mute li jo a…</td></tr><tr><td>4</td><td>&quot;https://lipukule.org/post/2021…</td><td>&quot;o awen\n",
       ": sina jan sin pi toki …</td></tr><tr><td>&hellip;</td><td>&hellip;</td><td>&hellip;</td></tr><tr><td>37</td><td>&quot;https://lipukule.org/post/2023…</td><td>&quot;o sona e ni: mi toki e ike taw…</td></tr><tr><td>38</td><td>&quot;https://lipukule.org/post/2023…</td><td>&quot;o sona a: moli en pilin ike li…</td></tr><tr><td>39</td><td>&quot;https://lipukule.org/post/2024…</td><td>&quot;nasin sitelen pona mute li lon…</td></tr><tr><td>40</td><td>&quot;https://lipukule.org/post/2024…</td><td>&quot;tenpo ni\n",
       "tenpo ni la nasin Jun…</td></tr><tr><td>41</td><td>&quot;https://lipukule.org/post/2024…</td><td>&quot;nasin ni li pali e pan linja n…</td></tr></tbody></table></div>"
      ],
      "text/plain": [
       "shape: (42, 3)\n",
       "┌─────┬─────────────────────────────────┬─────────────────────────────────┐\n",
       "│ id  ┆ url                             ┆ text                            │\n",
       "│ --- ┆ ---                             ┆ ---                             │\n",
       "│ i64 ┆ str                             ┆ str                             │\n",
       "╞═════╪═════════════════════════════════╪═════════════════════════════════╡\n",
       "│ 0   ┆ https://lipukule.org/post/2021… ┆ lipu sin pi toki pona li kama … │\n",
       "│ 1   ┆ https://lipukule.org/post/2021… ┆ ken la, sina lon kulupu 'ma po… │\n",
       "│ 2   ┆ https://lipukule.org/post/2021… ┆ lipu kule li tan wile pi jan m… │\n",
       "│ 3   ┆ https://lipukule.org/post/2021… ┆ tenpo pini la jan mute li jo a… │\n",
       "│ 4   ┆ https://lipukule.org/post/2021… ┆ o awen                          │\n",
       "│     ┆                                 ┆ : sina jan sin pi toki …        │\n",
       "│ …   ┆ …                               ┆ …                               │\n",
       "│ 37  ┆ https://lipukule.org/post/2023… ┆ o sona e ni: mi toki e ike taw… │\n",
       "│ 38  ┆ https://lipukule.org/post/2023… ┆ o sona a: moli en pilin ike li… │\n",
       "│ 39  ┆ https://lipukule.org/post/2024… ┆ nasin sitelen pona mute li lon… │\n",
       "│ 40  ┆ https://lipukule.org/post/2024… ┆ tenpo ni                        │\n",
       "│     ┆                                 ┆ tenpo ni la nasin Jun…          │\n",
       "│ 41  ┆ https://lipukule.org/post/2024… ┆ nasin ni li pali e pan linja n… │\n",
       "└─────┴─────────────────────────────────┴─────────────────────────────────┘"
      ]
     },
     "execution_count": 3,
     "metadata": {},
     "output_type": "execute_result"
    }
   ],
   "source": [
    "data = pl.read_parquet(\"lipu-kule.pq\").sort(\"url\")\n",
    "data = data.with_columns(pl.Series(range(len(data))).alias(\"id\"))\n",
    "data = data[[\"id\", *data.columns[:-1]]]\n",
    "data"
   ]
  },
  {
   "cell_type": "code",
   "execution_count": 4,
   "id": "d350db3e",
   "metadata": {},
   "outputs": [
    {
     "data": {
      "text/plain": [
       "Dataset({\n",
       "    features: ['id', 'url', 'text'],\n",
       "    num_rows: 42\n",
       "})"
      ]
     },
     "execution_count": 4,
     "metadata": {},
     "output_type": "execute_result"
    }
   ],
   "source": [
    "dataset = datasets.Dataset.from_polars(data)\n",
    "dataset"
   ]
  },
  {
   "cell_type": "code",
   "execution_count": 5,
   "id": "5f9fcda4",
   "metadata": {},
   "outputs": [
    {
     "data": {
      "application/vnd.jupyter.widget-view+json": {
       "model_id": "f2cf7e32a48d46b184a18e6e7c47f789",
       "version_major": 2,
       "version_minor": 0
      },
      "text/plain": [
       "Uploading the dataset shards:   0%|          | 0/1 [00:00<?, ? shards/s]"
      ]
     },
     "metadata": {},
     "output_type": "display_data"
    },
    {
     "data": {
      "application/vnd.jupyter.widget-view+json": {
       "model_id": "58f5367ae15748f6bd1f5dae9965a7f3",
       "version_major": 2,
       "version_minor": 0
      },
      "text/plain": [
       "Creating parquet from Arrow format:   0%|          | 0/1 [00:00<?, ?ba/s]"
      ]
     },
     "metadata": {},
     "output_type": "display_data"
    },
    {
     "data": {
      "application/vnd.jupyter.widget-view+json": {
       "model_id": "45865347c3cc4aebb340583f390d8e06",
       "version_major": 2,
       "version_minor": 0
      },
      "text/plain": [
       "Processing Files (0 / 0): |          |  0.00B /  0.00B            "
      ]
     },
     "metadata": {},
     "output_type": "display_data"
    },
    {
     "data": {
      "application/vnd.jupyter.widget-view+json": {
       "model_id": "2162ad1796144df8a0e1b6deef87e267",
       "version_major": 2,
       "version_minor": 0
      },
      "text/plain": [
       "New Data Upload: |          |  0.00B /  0.00B            "
      ]
     },
     "metadata": {},
     "output_type": "display_data"
    },
    {
     "data": {
      "text/plain": [
       "CommitInfo(commit_url='https://huggingface.co/datasets/NetherQuartz/lipu-kule/commit/bf7ff6b237de8f41dd4dab5d01ee973240c6523d', commit_message='Upload dataset', commit_description='', oid='bf7ff6b237de8f41dd4dab5d01ee973240c6523d', pr_url=None, repo_url=RepoUrl('https://huggingface.co/datasets/NetherQuartz/lipu-kule', endpoint='https://huggingface.co', repo_type='dataset', repo_id='NetherQuartz/lipu-kule'), pr_revision=None, pr_num=None)"
      ]
     },
     "execution_count": 5,
     "metadata": {},
     "output_type": "execute_result"
    }
   ],
   "source": [
    "dataset.push_to_hub(\"NetherQuartz/lipu-kule\")"
   ]
  }
 ],
 "metadata": {
  "kernelspec": {
   "display_name": "ilo-toki",
   "language": "python",
   "name": "python3"
  },
  "language_info": {
   "codemirror_mode": {
    "name": "ipython",
    "version": 3
   },
   "file_extension": ".py",
   "mimetype": "text/x-python",
   "name": "python",
   "nbconvert_exporter": "python",
   "pygments_lexer": "ipython3",
   "version": "3.12.2"
  }
 },
 "nbformat": 4,
 "nbformat_minor": 5
}
