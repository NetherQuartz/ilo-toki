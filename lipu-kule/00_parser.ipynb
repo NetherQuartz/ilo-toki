{
 "cells": [
  {
   "cell_type": "code",
   "execution_count": 25,
   "id": "50f7ac2a",
   "metadata": {},
   "outputs": [
    {
     "name": "stdout",
     "output_type": "stream",
     "text": [
      "Найдено 42 ссылок.\n"
     ]
    },
    {
     "name": "stderr",
     "output_type": "stream",
     "text": [
      "100%|██████████| 42/42 [00:43<00:00,  1.03s/it]\n"
     ]
    }
   ],
   "source": [
    "import requests\n",
    "from bs4 import BeautifulSoup\n",
    "import time\n",
    "\n",
    "from tqdm import tqdm\n",
    "\n",
    "BASE_URL = \"https://lipukule.org\"\n",
    "\n",
    "def get_post_links(page):\n",
    "    \"\"\"Собрать ссылки на все посты с главной (или из списка).\"\"\"\n",
    "    resp = requests.get(BASE_URL + f\"/page/{page}\")\n",
    "    resp.raise_for_status()\n",
    "    soup = BeautifulSoup(resp.text, \"html.parser\")\n",
    "    # На главной странице каждый заголовок ссылки — <a> внутри <h2> или <h3>? Нужно подстроить.\n",
    "    links = []\n",
    "    for a in soup.find_all(\"a\"):\n",
    "        href = a.get(\"href\")\n",
    "        if href and href.startswith(\"/\") and len(href) > 1:\n",
    "            # Простейшая фильтрация — относительные ссылки\n",
    "            if not \"/post/\" in href:\n",
    "                continue\n",
    "            links.append(BASE_URL + href)\n",
    "    # Можно дополнительно фильтровать по шаблону, чтобы оставить только посты\n",
    "    links = set(links)\n",
    "    return links\n",
    "\n",
    "def parse_post(url):\n",
    "    \"\"\"Скачать страницу поста и извлечь текст.\"\"\"\n",
    "    resp = requests.get(url)\n",
    "    resp.raise_for_status()\n",
    "    soup = BeautifulSoup(resp.text, \"html.parser\")\n",
    "    # Предположим, что тело статьи — внутри <div class=\"post-content\"> либо просто <article>\n",
    "    # Надо посмотреть HTML структуры сайта и подставить правильный селектор.\n",
    "    content = \"\"\n",
    "    # Пример:\n",
    "    # main = soup.find(\"article\")\n",
    "    main = soup.find(\"div\", class_=\"prose\")\n",
    "    if main is None:\n",
    "        raise Exception(\"main is none\")\n",
    "        # попробовать другой селектор\n",
    "        main = soup.find(\"div\", class_=\"content\")\n",
    "    if main:\n",
    "        # извлечь все текстовые узлы\n",
    "        content = main.get_text(separator=\"\\n\", strip=True)\n",
    "    else:\n",
    "        # fallback — весь текст страницы\n",
    "        content = soup.get_text(separator=\"\\n\", strip=True)\n",
    "    return content\n",
    "\n",
    "\n",
    "results = []\n",
    "links = set()\n",
    "for page in range(1, 8):\n",
    "    links |= get_post_links(page)\n",
    "\n",
    "print(f\"Найдено {len(links)} ссылок.\")\n",
    "for link in tqdm(links):\n",
    "    try:\n",
    "        text = parse_post(link)\n",
    "        results.append({\"url\": link, \"text\": text})\n",
    "        time.sleep(0.5)\n",
    "    except Exception as e:\n",
    "        print(\"Ошибка при обработке\", link, e)"
   ]
  },
  {
   "cell_type": "code",
   "execution_count": 26,
   "id": "c0964717",
   "metadata": {},
   "outputs": [
    {
     "data": {
      "text/html": [
       "<div><style>\n",
       ".dataframe > thead > tr,\n",
       ".dataframe > tbody > tr {\n",
       "  text-align: right;\n",
       "  white-space: pre-wrap;\n",
       "}\n",
       "</style>\n",
       "<small>shape: (42, 2)</small><table border=\"1\" class=\"dataframe\"><thead><tr><th>url</th><th>text</th></tr><tr><td>str</td><td>str</td></tr></thead><tbody><tr><td>&quot;https://lipukule.org/post/2021…</td><td>&quot;suli:\n",
       "nimi musi ni li monsuta …</td></tr><tr><td>&quot;https://lipukule.org/post/2021…</td><td>&quot;SITELEN NANPA WAN: kijetesanta…</td></tr><tr><td>&quot;https://lipukule.org/post/2022…</td><td>&quot;sina sona ala sona e ni: jan m…</td></tr><tr><td>&quot;https://lipukule.org/post/2021…</td><td>&quot;tonsi li seme? nimi ‘tonsi’ la…</td></tr><tr><td>&quot;https://lipukule.org/post/2021…</td><td>&quot;toki ilo\n",
       "forth\n",
       "li ilo wan ala.…</td></tr><tr><td>&hellip;</td><td>&hellip;</td></tr><tr><td>&quot;https://lipukule.org/post/2021…</td><td>&quot;tenpo pini la jan mute li jo a…</td></tr><tr><td>&quot;https://lipukule.org/post/2022…</td><td>&quot;mi ante e toki pi toki lili “A…</td></tr><tr><td>&quot;https://lipukule.org/post/2024…</td><td>&quot;nasin ni li pali e pan linja n…</td></tr><tr><td>&quot;https://lipukule.org/post/2021…</td><td>&quot;tenpo kama la, mi wile ala mol…</td></tr><tr><td>&quot;https://lipukule.org/post/2021…</td><td>&quot;tenpo ale la, jan mute li pali…</td></tr></tbody></table></div>"
      ],
      "text/plain": [
       "shape: (42, 2)\n",
       "┌─────────────────────────────────┬─────────────────────────────────┐\n",
       "│ url                             ┆ text                            │\n",
       "│ ---                             ┆ ---                             │\n",
       "│ str                             ┆ str                             │\n",
       "╞═════════════════════════════════╪═════════════════════════════════╡\n",
       "│ https://lipukule.org/post/2021… ┆ suli:                           │\n",
       "│                                 ┆ nimi musi ni li monsuta …       │\n",
       "│ https://lipukule.org/post/2021… ┆ SITELEN NANPA WAN: kijetesanta… │\n",
       "│ https://lipukule.org/post/2022… ┆ sina sona ala sona e ni: jan m… │\n",
       "│ https://lipukule.org/post/2021… ┆ tonsi li seme? nimi ‘tonsi’ la… │\n",
       "│ https://lipukule.org/post/2021… ┆ toki ilo                        │\n",
       "│                                 ┆ forth                           │\n",
       "│                                 ┆ li ilo wan ala.…                │\n",
       "│ …                               ┆ …                               │\n",
       "│ https://lipukule.org/post/2021… ┆ tenpo pini la jan mute li jo a… │\n",
       "│ https://lipukule.org/post/2022… ┆ mi ante e toki pi toki lili “A… │\n",
       "│ https://lipukule.org/post/2024… ┆ nasin ni li pali e pan linja n… │\n",
       "│ https://lipukule.org/post/2021… ┆ tenpo kama la, mi wile ala mol… │\n",
       "│ https://lipukule.org/post/2021… ┆ tenpo ale la, jan mute li pali… │\n",
       "└─────────────────────────────────┴─────────────────────────────────┘"
      ]
     },
     "execution_count": 26,
     "metadata": {},
     "output_type": "execute_result"
    }
   ],
   "source": [
    "import polars as pl\n",
    "from IPython.display import display\n",
    "\n",
    "\n",
    "df = pl.DataFrame(results)\n",
    "df = df.filter(~df[\"url\"].str.contains_any([\"/kule/\", \"/poki/\", \"/page/\"]))\n",
    "\n",
    "df"
   ]
  },
  {
   "cell_type": "code",
   "execution_count": 29,
   "id": "83fd6c44",
   "metadata": {},
   "outputs": [
    {
     "name": "stdout",
     "output_type": "stream",
     "text": [
      "suli:\n",
      "nimi musi ni li monsuta lili. ni li ike tawa sina la o lukin ala e ona.\n",
      "tenpo pini mute la, kulupu li lon. kulupu ni li lili mute. jan lawa pi kulupu li jan Makalesi. ona li sona mute li lawa pona e kulupu. jan olin ona en ona li jo e jan lili wan. jan lili li jan Maku. ona li wile sona e ale li toki tawa jan ale. tenpo ale la, jan Maku li toki e ni: \"ni li seme? tan seme la ni li lon? ma seme la ni li kama?\"\n",
      "mama pi jan Maku li sona ala e ijo la jan Maku li tawa tomo pi jan Olopa. tomo ona li lon poka pi ma kasi suli. jan Maku li pilin ike tan ma kasi suli. taso, jan Olopa li pona mute tawa ona. jan Olopa li jo e linja pi pimeja walo. ona li sona e ijo nasa mute. jan Maku li toki tawa jan Olopa la jan Olopa li pana e sona pi ijo nasa tawa ona. ni li pona tawa jan Maku. ona li wile sona e ijo nasa ale.\n",
      "tenpo suno wan la, jan Maku li kute e nimi sin. ona li sona ala e nimi ni. nimi ni li pana e pilin nasa tawa jan Maku. taso, jan Maku li wile sona e kon nimi. jan Maku li tawa jan Makalesi li toki e ni: \"mama o, nimi 'monsuta' li seme?\" tenpo ni la, jan Makalesi li lukin lon weka. tenpo lili la, ona li toki ni: \"jan lili Maku o, sina o weka e sona tan nimi ni!\" jan Maku li sona ala li toki: \"mama o, tan seme la mi o toki ala e ni?\" mama ona li toki wawa: \"o kute tawa mi a! nimi ni li ike. o toki ala e ona. tenpo ni la, toki mi li pini. mi wile ala kute e nimi ni a!\"\n",
      "jan Maku li tawa tan tomo. ona li toki insa. monsuta li seme? tan seme la mama pi jan Maku li wile ala toki e monsuta? tenpo pini la, mama ona li toki wawa ala tawa ona. jan Maku li toki insa la ona li open tawa.\n",
      "tenpo mute la, ona li lon poka pi tomo pi jan Olopa. jan Maku li tawa insa. jan Maku li toki tawa jan Olopa: \"jan Olopa o, mi ken ala ken toki tawa sina tan nimi nasa?\" jan Olopa li lukin e jan Maku li toki: \"jan lili Maku o, sina ken toki tawa mi lon tenpo ale tan ijo ale!\" ni li pona mute tawa jan Maku. tan ni la, ona li toki: \"jan Olopa o, sina sona ala sona e nimi 'monsuta'? mama mi li wile ala toki e 'monsuta' a...\" lukin pi jan Olopa li kama suli mute. ona li toki kepeken kalama lili: \"jan Maku o, sina kute e nimi ni lon seme? jan pi nanpa lili li sona e ni!\"\n",
      "jan Maku li toki insa e ni: 'mi sona ala. mi kute e monsuta lon seme?' tenpo ni la, jan Maku li pilin nasa. selo ona li pilin lete. jan Olopa li toki e ni: \"jan Maku o kute tawa mi a! jan ale li pilin ike tan nimi ni. sina lukin nasa tan sama. sina pilin seme?\" selo pi jan Maku li pana e telo lete.  ona li wile taso tawa tan tomo. taso, jan Olopa li jo e luka ona li toki: \"jan Maku o! sina o toki ala e nimi! sina o toki insa ala e nimi! tenpo kama la, sina tawa tomo sina la o lukin ala e ma kasi suli! ma kasi ni li pana e pilin nasa tawa sina, anu seme?\" jan Maku li pilin ike mute lon tenpo ni. ona li toki: \"tenpo ni la, mi wile ala sona e monsuta!\" jan Olopa li toki wawa: \"o toki ala e nimi! ... tenpo seme li lon? suno li pini lon tenpo seme?\" ona tu li lukin e sewi tan lupa. suno li anpa lon poka ma.\n",
      "tenpo pimeja li kama la, ona tu li kute e kalama nasa tan ma kasi. ona li kute sama e nimi. ona li kute e ni: \"a a a! o lukin ala e monsi!\"\n"
     ]
    }
   ],
   "source": [
    "print(df[\"text\"][0])"
   ]
  },
  {
   "cell_type": "code",
   "execution_count": 30,
   "id": "20f8cb64",
   "metadata": {},
   "outputs": [],
   "source": [
    "df.write_parquet(\"lipu-kule.pq\")"
   ]
  }
 ],
 "metadata": {
  "kernelspec": {
   "display_name": "ilo-toki",
   "language": "python",
   "name": "python3"
  },
  "language_info": {
   "codemirror_mode": {
    "name": "ipython",
    "version": 3
   },
   "file_extension": ".py",
   "mimetype": "text/x-python",
   "name": "python",
   "nbconvert_exporter": "python",
   "pygments_lexer": "ipython3",
   "version": "3.12.2"
  }
 },
 "nbformat": 4,
 "nbformat_minor": 5
}
