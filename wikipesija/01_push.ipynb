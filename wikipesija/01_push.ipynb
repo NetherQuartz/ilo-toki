{
 "cells": [
  {
   "cell_type": "code",
   "execution_count": 1,
   "id": "3a210110",
   "metadata": {},
   "outputs": [],
   "source": [
    "import datasets\n",
    "import polars as pl\n",
    "\n",
    "from hashlib import sha256"
   ]
  },
  {
   "cell_type": "code",
   "execution_count": 2,
   "id": "0fc7cda5",
   "metadata": {},
   "outputs": [
    {
     "data": {
      "text/html": [
       "<div><style>\n",
       ".dataframe > thead > tr,\n",
       ".dataframe > tbody > tr {\n",
       "  text-align: right;\n",
       "  white-space: pre-wrap;\n",
       "}\n",
       "</style>\n",
       "<small>shape: (3_063, 4)</small><table border=\"1\" class=\"dataframe\"><thead><tr><th>id</th><th>url</th><th>title</th><th>text</th></tr><tr><td>i64</td><td>str</td><td>str</td><td>str</td></tr></thead><tbody><tr><td>0</td><td>&quot;https://wikipesija.org/wiki/Z&quot;</td><td>&quot;Z&quot;</td><td>&quot;Z li sitelen pini lon nasin si…</td></tr><tr><td>1</td><td>&quot;https://wikipesija.org/wiki/ku…</td><td>&quot;kulupu_SCP&quot;</td><td>&quot;kulupu SCP anu kulupu Esipi li…</td></tr><tr><td>2</td><td>&quot;https://wikipesija.org/wiki/po…</td><td>&quot;poki_mani&quot;</td><td>&quot;lon poki mani la, jan li ken p…</td></tr><tr><td>3</td><td>&quot;https://wikipesija.org/wiki/so…</td><td>&quot;sona_pi_pu_taso&quot;</td><td>&quot;sona pi pu taso (toki Inli: pu…</td></tr><tr><td>4</td><td>&quot;https://wikipesija.org/wiki/IS…</td><td>&quot;ISO_3166:CR&quot;</td><td>&quot;ma Kosalika (Costa Rica) anu m…</td></tr><tr><td>&hellip;</td><td>&hellip;</td><td>&hellip;</td><td>&hellip;</td></tr><tr><td>3058</td><td>&quot;https://wikipesija.org/wiki/ma…</td><td>&quot;ma_Upe&quot;</td><td>&quot;ma Upe(toki Sonko:湖北省hu2 bei3 …</td></tr><tr><td>3059</td><td>&quot;https://wikipesija.org/wiki/IS…</td><td>&quot;ISO_3166:ER&quot;</td><td>&quot;ma Eliteja li ma lawa lon ma A…</td></tr><tr><td>3060</td><td>&quot;https://wikipesija.org/wiki/ja…</td><td>&quot;jaki&quot;</td><td>&quot;jaki li ijo ike. jan li wile w…</td></tr><tr><td>3061</td><td>&quot;https://wikipesija.org/wiki/ja…</td><td>&quot;jan_sewi_Asokasuntali&quot;</td><td>&quot;jan sewi Asokasuntali (toki Sa…</td></tr><tr><td>3062</td><td>&quot;https://wikipesija.org/wiki/ma…</td><td>&quot;ma_lili_pi_ma_Inli&quot;</td><td>&quot;ma lili mute li kipisi pi ma I…</td></tr></tbody></table></div>"
      ],
      "text/plain": [
       "shape: (3_063, 4)\n",
       "┌──────┬─────────────────────────────────┬───────────────────────┬─────────────────────────────────┐\n",
       "│ id   ┆ url                             ┆ title                 ┆ text                            │\n",
       "│ ---  ┆ ---                             ┆ ---                   ┆ ---                             │\n",
       "│ i64  ┆ str                             ┆ str                   ┆ str                             │\n",
       "╞══════╪═════════════════════════════════╪═══════════════════════╪═════════════════════════════════╡\n",
       "│ 0    ┆ https://wikipesija.org/wiki/Z   ┆ Z                     ┆ Z li sitelen pini lon nasin si… │\n",
       "│ 1    ┆ https://wikipesija.org/wiki/ku… ┆ kulupu_SCP            ┆ kulupu SCP anu kulupu Esipi li… │\n",
       "│ 2    ┆ https://wikipesija.org/wiki/po… ┆ poki_mani             ┆ lon poki mani la, jan li ken p… │\n",
       "│ 3    ┆ https://wikipesija.org/wiki/so… ┆ sona_pi_pu_taso       ┆ sona pi pu taso (toki Inli: pu… │\n",
       "│ 4    ┆ https://wikipesija.org/wiki/IS… ┆ ISO_3166:CR           ┆ ma Kosalika (Costa Rica) anu m… │\n",
       "│ …    ┆ …                               ┆ …                     ┆ …                               │\n",
       "│ 3058 ┆ https://wikipesija.org/wiki/ma… ┆ ma_Upe                ┆ ma Upe(toki Sonko:湖北省hu2     │\n",
       "│      ┆                                 ┆                       ┆ bei3 …                          │\n",
       "│ 3059 ┆ https://wikipesija.org/wiki/IS… ┆ ISO_3166:ER           ┆ ma Eliteja li ma lawa lon ma A… │\n",
       "│ 3060 ┆ https://wikipesija.org/wiki/ja… ┆ jaki                  ┆ jaki li ijo ike. jan li wile w… │\n",
       "│ 3061 ┆ https://wikipesija.org/wiki/ja… ┆ jan_sewi_Asokasuntali ┆ jan sewi Asokasuntali (toki Sa… │\n",
       "│ 3062 ┆ https://wikipesija.org/wiki/ma… ┆ ma_lili_pi_ma_Inli    ┆ ma lili mute li kipisi pi ma I… │\n",
       "└──────┴─────────────────────────────────┴───────────────────────┴─────────────────────────────────┘"
      ]
     },
     "execution_count": 2,
     "metadata": {},
     "output_type": "execute_result"
    }
   ],
   "source": [
    "data = pl.read_parquet(\"wikipesija.pq\")\n",
    "data = data.with_columns(pl.Series(range(len(data))).alias(\"id\"))\n",
    "data = data[[\"id\", \"url\", \"title\", \"text\"]]\n",
    "data"
   ]
  },
  {
   "cell_type": "code",
   "execution_count": 3,
   "id": "0493b276",
   "metadata": {},
   "outputs": [
    {
     "data": {
      "text/html": [
       "\n",
       "<style>\n",
       "  #altair-viz-66fa37cf5d14428aa6b368fe4ff468f7.vega-embed {\n",
       "    width: 100%;\n",
       "    display: flex;\n",
       "  }\n",
       "\n",
       "  #altair-viz-66fa37cf5d14428aa6b368fe4ff468f7.vega-embed details,\n",
       "  #altair-viz-66fa37cf5d14428aa6b368fe4ff468f7.vega-embed details summary {\n",
       "    position: relative;\n",
       "  }\n",
       "</style>\n",
       "<div id=\"altair-viz-66fa37cf5d14428aa6b368fe4ff468f7\"></div>\n",
       "<script type=\"text/javascript\">\n",
       "  var VEGA_DEBUG = (typeof VEGA_DEBUG == \"undefined\") ? {} : VEGA_DEBUG;\n",
       "  (function(spec, embedOpt){\n",
       "    let outputDiv = document.currentScript.previousElementSibling;\n",
       "    if (outputDiv.id !== \"altair-viz-66fa37cf5d14428aa6b368fe4ff468f7\") {\n",
       "      outputDiv = document.getElementById(\"altair-viz-66fa37cf5d14428aa6b368fe4ff468f7\");\n",
       "    }\n",
       "\n",
       "    const paths = {\n",
       "      \"vega\": \"https://cdn.jsdelivr.net/npm/vega@5?noext\",\n",
       "      \"vega-lib\": \"https://cdn.jsdelivr.net/npm/vega-lib?noext\",\n",
       "      \"vega-lite\": \"https://cdn.jsdelivr.net/npm/vega-lite@5.20.1?noext\",\n",
       "      \"vega-embed\": \"https://cdn.jsdelivr.net/npm/vega-embed@6?noext\",\n",
       "    };\n",
       "\n",
       "    function maybeLoadScript(lib, version) {\n",
       "      var key = `${lib.replace(\"-\", \"\")}_version`;\n",
       "      return (VEGA_DEBUG[key] == version) ?\n",
       "        Promise.resolve(paths[lib]) :\n",
       "        new Promise(function(resolve, reject) {\n",
       "          var s = document.createElement('script');\n",
       "          document.getElementsByTagName(\"head\")[0].appendChild(s);\n",
       "          s.async = true;\n",
       "          s.onload = () => {\n",
       "            VEGA_DEBUG[key] = version;\n",
       "            return resolve(paths[lib]);\n",
       "          };\n",
       "          s.onerror = () => reject(`Error loading script: ${paths[lib]}`);\n",
       "          s.src = paths[lib];\n",
       "        });\n",
       "    }\n",
       "\n",
       "    function showError(err) {\n",
       "      outputDiv.innerHTML = `<div class=\"error\" style=\"color:red;\">${err}</div>`;\n",
       "      throw err;\n",
       "    }\n",
       "\n",
       "    function displayChart(vegaEmbed) {\n",
       "      vegaEmbed(outputDiv, spec, embedOpt)\n",
       "        .catch(err => showError(`Javascript Error: ${err.message}<br>This usually means there's a typo in your chart specification. See the javascript console for the full traceback.`));\n",
       "    }\n",
       "\n",
       "    if(typeof define === \"function\" && define.amd) {\n",
       "      requirejs.config({paths});\n",
       "      let deps = [\"vega-embed\"];\n",
       "      require(deps, displayChart, err => showError(`Error loading script: ${err.message}`));\n",
       "    } else {\n",
       "      maybeLoadScript(\"vega\", \"5\")\n",
       "        .then(() => maybeLoadScript(\"vega-lite\", \"5.20.1\"))\n",
       "        .then(() => maybeLoadScript(\"vega-embed\", \"6\"))\n",
       "        .catch(showError)\n",
       "        .then(() => displayChart(vegaEmbed));\n",
       "    }\n",
       "  })({\"config\": {\"view\": {\"continuousWidth\": 300, \"continuousHeight\": 300}}, \"data\": {\"name\": \"data-b09ea3710719181a4d6f60905388e5fc\"}, \"mark\": {\"type\": \"bar\", \"tooltip\": true}, \"encoding\": {\"x\": {\"bin\": true, \"field\": \"hash\", \"type\": \"quantitative\"}, \"y\": {\"aggregate\": \"count\", \"type\": \"quantitative\"}}, \"params\": [{\"name\": \"param_1\", \"select\": {\"type\": \"interval\", \"encodings\": [\"x\", \"y\"]}, \"bind\": \"scales\"}], \"$schema\": \"https://vega.github.io/schema/vega-lite/v5.20.1.json\", \"datasets\": {\"data-b09ea3710719181a4d6f60905388e5fc\": [{\"hash\": 7832}, {\"hash\": 4770}, {\"hash\": 6618}, {\"hash\": 8703}, {\"hash\": 6667}, {\"hash\": 9665}, {\"hash\": 3110}, {\"hash\": 2204}, {\"hash\": 6550}, {\"hash\": 3347}, {\"hash\": 3002}, {\"hash\": 6667}, {\"hash\": 4723}, {\"hash\": 2525}, {\"hash\": 890}, {\"hash\": 8044}, {\"hash\": 1694}, {\"hash\": 8104}, {\"hash\": 711}, {\"hash\": 8284}, {\"hash\": 9613}, {\"hash\": 3859}, {\"hash\": 898}, {\"hash\": 1547}, {\"hash\": 2753}, {\"hash\": 9274}, {\"hash\": 3302}, {\"hash\": 655}, {\"hash\": 8671}, {\"hash\": 1520}, {\"hash\": 532}, {\"hash\": 1222}, {\"hash\": 6978}, {\"hash\": 7101}, {\"hash\": 8787}, {\"hash\": 2226}, {\"hash\": 7567}, {\"hash\": 8148}, {\"hash\": 1035}, {\"hash\": 9572}, {\"hash\": 8444}, {\"hash\": 5073}, {\"hash\": 6556}, {\"hash\": 2132}, {\"hash\": 3576}, {\"hash\": 3482}, {\"hash\": 7991}, {\"hash\": 7504}, {\"hash\": 173}, {\"hash\": 2321}, {\"hash\": 2410}, {\"hash\": 7779}, {\"hash\": 766}, {\"hash\": 1787}, {\"hash\": 4018}, {\"hash\": 46}, {\"hash\": 6412}, {\"hash\": 2742}, {\"hash\": 7555}, {\"hash\": 7858}, {\"hash\": 2207}, {\"hash\": 5171}, {\"hash\": 5858}, {\"hash\": 711}, {\"hash\": 1756}, {\"hash\": 1711}, {\"hash\": 8403}, {\"hash\": 4074}, {\"hash\": 2031}, {\"hash\": 8301}, {\"hash\": 4284}, {\"hash\": 4854}, {\"hash\": 2997}, {\"hash\": 3630}, {\"hash\": 1780}, {\"hash\": 5557}, {\"hash\": 2330}, {\"hash\": 5048}, {\"hash\": 8218}, {\"hash\": 9673}, {\"hash\": 2865}, {\"hash\": 7569}, {\"hash\": 4888}, {\"hash\": 554}, {\"hash\": 1329}, {\"hash\": 6774}, {\"hash\": 4714}, {\"hash\": 306}, {\"hash\": 1166}, {\"hash\": 606}, {\"hash\": 3054}, {\"hash\": 9703}, {\"hash\": 3096}, {\"hash\": 8927}, {\"hash\": 7041}, {\"hash\": 3974}, {\"hash\": 5897}, {\"hash\": 9550}, {\"hash\": 6081}, {\"hash\": 5108}, {\"hash\": 4809}, {\"hash\": 4917}, {\"hash\": 8453}, {\"hash\": 9120}, {\"hash\": 1534}, {\"hash\": 9641}, {\"hash\": 9635}, {\"hash\": 7485}, {\"hash\": 3296}, {\"hash\": 1849}, {\"hash\": 1094}, {\"hash\": 6537}, {\"hash\": 8925}, {\"hash\": 6854}, {\"hash\": 7078}, {\"hash\": 6691}, {\"hash\": 533}, {\"hash\": 8928}, {\"hash\": 4978}, {\"hash\": 5933}, {\"hash\": 166}, {\"hash\": 5228}, {\"hash\": 6867}, {\"hash\": 4527}, {\"hash\": 9805}, {\"hash\": 1264}, {\"hash\": 2580}, {\"hash\": 8713}, {\"hash\": 7397}, {\"hash\": 8378}, {\"hash\": 4050}, {\"hash\": 8139}, {\"hash\": 7624}, {\"hash\": 7908}, {\"hash\": 7658}, {\"hash\": 3334}, {\"hash\": 377}, {\"hash\": 2305}, {\"hash\": 8766}, {\"hash\": 5521}, {\"hash\": 1615}, {\"hash\": 8394}, {\"hash\": 4847}, {\"hash\": 3}, {\"hash\": 8613}, {\"hash\": 443}, {\"hash\": 3962}, {\"hash\": 875}, {\"hash\": 9747}, {\"hash\": 8957}, {\"hash\": 4376}, {\"hash\": 6322}, {\"hash\": 841}, {\"hash\": 1133}, {\"hash\": 4626}, {\"hash\": 7817}, {\"hash\": 6186}, {\"hash\": 9594}, {\"hash\": 4538}, {\"hash\": 2072}, {\"hash\": 2483}, {\"hash\": 7612}, {\"hash\": 285}, {\"hash\": 9491}, {\"hash\": 6492}, {\"hash\": 1994}, {\"hash\": 9180}, {\"hash\": 6596}, {\"hash\": 7533}, {\"hash\": 1729}, {\"hash\": 5144}, {\"hash\": 2204}, {\"hash\": 8008}, {\"hash\": 7201}, {\"hash\": 1727}, {\"hash\": 8834}, {\"hash\": 7139}, {\"hash\": 6536}, {\"hash\": 2959}, {\"hash\": 8063}, {\"hash\": 7106}, {\"hash\": 3889}, {\"hash\": 2197}, {\"hash\": 711}, {\"hash\": 7824}, {\"hash\": 2700}, {\"hash\": 1985}, {\"hash\": 9859}, {\"hash\": 6349}, {\"hash\": 170}, {\"hash\": 9684}, {\"hash\": 4438}, {\"hash\": 8765}, {\"hash\": 8372}, {\"hash\": 7459}, {\"hash\": 2657}, {\"hash\": 3727}, {\"hash\": 2730}, {\"hash\": 8478}, {\"hash\": 8327}, {\"hash\": 1964}, {\"hash\": 9915}, {\"hash\": 9461}, {\"hash\": 4002}, {\"hash\": 2721}, {\"hash\": 3535}, {\"hash\": 7453}, {\"hash\": 6490}, {\"hash\": 7234}, {\"hash\": 6731}, {\"hash\": 7707}, {\"hash\": 9369}, {\"hash\": 988}, {\"hash\": 7864}, {\"hash\": 6056}, {\"hash\": 7005}, {\"hash\": 7631}, {\"hash\": 5488}, {\"hash\": 3555}, {\"hash\": 7369}, {\"hash\": 8782}, {\"hash\": 7576}, {\"hash\": 4021}, {\"hash\": 1508}, {\"hash\": 2295}, {\"hash\": 7141}, {\"hash\": 9429}, {\"hash\": 1422}, {\"hash\": 229}, {\"hash\": 8813}, {\"hash\": 7271}, {\"hash\": 3481}, {\"hash\": 3409}, {\"hash\": 8554}, {\"hash\": 5358}, {\"hash\": 7610}, {\"hash\": 6925}, {\"hash\": 1702}, {\"hash\": 5285}, {\"hash\": 4589}, {\"hash\": 7619}, {\"hash\": 4961}, {\"hash\": 2462}, {\"hash\": 7410}, {\"hash\": 4702}, {\"hash\": 2922}, {\"hash\": 3562}, {\"hash\": 6065}, {\"hash\": 348}, {\"hash\": 4136}, {\"hash\": 9533}, {\"hash\": 9099}, {\"hash\": 2499}, {\"hash\": 7750}, {\"hash\": 8605}, {\"hash\": 2914}, {\"hash\": 1331}, {\"hash\": 472}, {\"hash\": 8550}, {\"hash\": 4043}, {\"hash\": 7604}, {\"hash\": 7820}, {\"hash\": 6260}, {\"hash\": 7242}, {\"hash\": 9695}, {\"hash\": 7891}, {\"hash\": 7878}, {\"hash\": 2147}, {\"hash\": 1014}, {\"hash\": 6952}, {\"hash\": 1439}, {\"hash\": 717}, {\"hash\": 4359}, {\"hash\": 4285}, {\"hash\": 6883}, {\"hash\": 8235}, {\"hash\": 4119}, {\"hash\": 985}, {\"hash\": 7813}, {\"hash\": 2132}, {\"hash\": 5029}, {\"hash\": 6940}, {\"hash\": 4007}, {\"hash\": 7530}, {\"hash\": 2520}, {\"hash\": 5909}, {\"hash\": 1981}, {\"hash\": 7604}, {\"hash\": 1868}, {\"hash\": 4520}, {\"hash\": 4461}, {\"hash\": 2656}, {\"hash\": 3901}, {\"hash\": 2294}, {\"hash\": 1420}, {\"hash\": 8734}, {\"hash\": 534}, {\"hash\": 9447}, {\"hash\": 2177}, {\"hash\": 6690}, {\"hash\": 2896}, {\"hash\": 2025}, {\"hash\": 3924}, {\"hash\": 1171}, {\"hash\": 6574}, {\"hash\": 5908}, {\"hash\": 9748}, {\"hash\": 9038}, {\"hash\": 4845}, {\"hash\": 381}, {\"hash\": 1859}, {\"hash\": 4513}, {\"hash\": 1669}, {\"hash\": 6935}, {\"hash\": 1903}, {\"hash\": 1780}, {\"hash\": 8756}, {\"hash\": 8214}, {\"hash\": 3535}, {\"hash\": 112}, {\"hash\": 9653}, {\"hash\": 2769}, {\"hash\": 761}, {\"hash\": 1917}, {\"hash\": 8059}, {\"hash\": 5388}, {\"hash\": 6239}, {\"hash\": 3301}, {\"hash\": 7515}, {\"hash\": 5429}, {\"hash\": 992}, {\"hash\": 5279}, {\"hash\": 4010}, {\"hash\": 8763}, {\"hash\": 1861}, {\"hash\": 4957}, {\"hash\": 658}, {\"hash\": 6605}, {\"hash\": 6708}, {\"hash\": 3454}, {\"hash\": 489}, {\"hash\": 8468}, {\"hash\": 3392}, {\"hash\": 2168}, {\"hash\": 9787}, {\"hash\": 2985}, {\"hash\": 9147}, {\"hash\": 8522}, {\"hash\": 5779}, {\"hash\": 7352}, {\"hash\": 8066}, {\"hash\": 1841}, {\"hash\": 2924}, {\"hash\": 1411}, {\"hash\": 8921}, {\"hash\": 1434}, {\"hash\": 2451}, {\"hash\": 4043}, {\"hash\": 6362}, {\"hash\": 7856}, {\"hash\": 6061}, {\"hash\": 1916}, {\"hash\": 9180}, {\"hash\": 4976}, {\"hash\": 9350}, {\"hash\": 9309}, {\"hash\": 1266}, {\"hash\": 7390}, {\"hash\": 8803}, {\"hash\": 8338}, {\"hash\": 6551}, {\"hash\": 8525}, {\"hash\": 4202}, {\"hash\": 4375}, {\"hash\": 1617}, {\"hash\": 8139}, {\"hash\": 7135}, {\"hash\": 7823}, {\"hash\": 7292}, {\"hash\": 9624}, {\"hash\": 1431}, {\"hash\": 6418}, {\"hash\": 3}, {\"hash\": 8757}, {\"hash\": 6779}, {\"hash\": 6605}, {\"hash\": 8013}, {\"hash\": 7315}, {\"hash\": 6820}, {\"hash\": 493}, {\"hash\": 2157}, {\"hash\": 1703}, {\"hash\": 2771}, {\"hash\": 350}, {\"hash\": 3230}, {\"hash\": 111}, {\"hash\": 4938}, {\"hash\": 6942}, {\"hash\": 582}, {\"hash\": 4312}, {\"hash\": 4168}, {\"hash\": 2439}, {\"hash\": 5890}, {\"hash\": 5884}, {\"hash\": 916}, {\"hash\": 1450}, {\"hash\": 6890}, {\"hash\": 5081}, {\"hash\": 6431}, {\"hash\": 2516}, {\"hash\": 4470}, {\"hash\": 4997}, {\"hash\": 2216}, {\"hash\": 3938}, {\"hash\": 2478}, {\"hash\": 1474}, {\"hash\": 7837}, {\"hash\": 3514}, {\"hash\": 7264}, {\"hash\": 4223}, {\"hash\": 4708}, {\"hash\": 5332}, {\"hash\": 5388}, {\"hash\": 4140}, {\"hash\": 4244}, {\"hash\": 8754}, {\"hash\": 2628}, {\"hash\": 6375}, {\"hash\": 9869}, {\"hash\": 7276}, {\"hash\": 499}, {\"hash\": 539}, {\"hash\": 2945}, {\"hash\": 8305}, {\"hash\": 1605}, {\"hash\": 572}, {\"hash\": 6580}, {\"hash\": 8285}, {\"hash\": 4030}, {\"hash\": 5073}, {\"hash\": 5036}, {\"hash\": 2988}, {\"hash\": 813}, {\"hash\": 3174}, {\"hash\": 5025}, {\"hash\": 5749}, {\"hash\": 3254}, {\"hash\": 5418}, {\"hash\": 7739}, {\"hash\": 3057}, {\"hash\": 7029}, {\"hash\": 5878}, {\"hash\": 678}, {\"hash\": 6075}, {\"hash\": 5363}, {\"hash\": 6161}, {\"hash\": 4401}, {\"hash\": 8301}, {\"hash\": 6164}, {\"hash\": 2158}, {\"hash\": 8778}, {\"hash\": 8498}, {\"hash\": 6616}, {\"hash\": 2139}, {\"hash\": 9781}, {\"hash\": 7850}, {\"hash\": 5375}, {\"hash\": 4503}, {\"hash\": 5161}, {\"hash\": 7969}, {\"hash\": 857}, {\"hash\": 1338}, {\"hash\": 9964}, {\"hash\": 6879}, {\"hash\": 4499}, {\"hash\": 3341}, {\"hash\": 4838}, {\"hash\": 10}, {\"hash\": 3030}, {\"hash\": 8641}, {\"hash\": 9971}, {\"hash\": 9053}, {\"hash\": 3954}, {\"hash\": 2665}, {\"hash\": 1880}, {\"hash\": 3751}, {\"hash\": 5820}, {\"hash\": 9022}, {\"hash\": 1841}, {\"hash\": 5927}, {\"hash\": 4059}, {\"hash\": 3894}, {\"hash\": 5493}, {\"hash\": 9013}, {\"hash\": 5166}, {\"hash\": 1306}, {\"hash\": 9929}, {\"hash\": 2363}, {\"hash\": 8426}, {\"hash\": 4967}, {\"hash\": 4947}, {\"hash\": 429}, {\"hash\": 15}, {\"hash\": 670}, {\"hash\": 3078}, {\"hash\": 6019}, {\"hash\": 1264}, {\"hash\": 2434}, {\"hash\": 4852}, {\"hash\": 1799}, {\"hash\": 8291}, {\"hash\": 2783}, {\"hash\": 8693}, {\"hash\": 5229}, {\"hash\": 9253}, {\"hash\": 5411}, {\"hash\": 7277}, {\"hash\": 7625}, {\"hash\": 5633}, {\"hash\": 8196}, {\"hash\": 2609}, {\"hash\": 2857}, {\"hash\": 4717}, {\"hash\": 9113}, {\"hash\": 898}, {\"hash\": 7101}, {\"hash\": 9229}, {\"hash\": 4654}, {\"hash\": 2402}, {\"hash\": 1447}, {\"hash\": 8338}, {\"hash\": 845}, {\"hash\": 7586}, {\"hash\": 5111}, {\"hash\": 9558}, {\"hash\": 5025}, {\"hash\": 5052}, {\"hash\": 9121}, {\"hash\": 574}, {\"hash\": 2501}, {\"hash\": 3200}, {\"hash\": 5855}, {\"hash\": 6213}, {\"hash\": 3716}, {\"hash\": 3893}, {\"hash\": 4239}, {\"hash\": 431}, {\"hash\": 358}, {\"hash\": 8920}, {\"hash\": 5888}, {\"hash\": 3259}, {\"hash\": 7887}, {\"hash\": 1716}, {\"hash\": 2482}, {\"hash\": 2782}, {\"hash\": 9247}, {\"hash\": 6705}, {\"hash\": 9188}, {\"hash\": 4957}, {\"hash\": 5566}, {\"hash\": 7424}, {\"hash\": 3071}, {\"hash\": 3676}, {\"hash\": 2957}, {\"hash\": 5748}, {\"hash\": 4410}, {\"hash\": 1959}, {\"hash\": 1200}, {\"hash\": 8381}, {\"hash\": 6721}, {\"hash\": 2915}, {\"hash\": 1844}, {\"hash\": 4336}, {\"hash\": 6127}, {\"hash\": 7812}, {\"hash\": 9962}, {\"hash\": 5335}, {\"hash\": 9224}, {\"hash\": 5728}, {\"hash\": 9561}, {\"hash\": 9439}, {\"hash\": 2244}, {\"hash\": 9520}, {\"hash\": 7735}, {\"hash\": 6378}, {\"hash\": 5780}, {\"hash\": 4603}, {\"hash\": 1239}, {\"hash\": 2434}, {\"hash\": 9798}, {\"hash\": 2044}, {\"hash\": 6337}, {\"hash\": 1107}, {\"hash\": 5319}, {\"hash\": 8788}, {\"hash\": 2440}, {\"hash\": 3911}, {\"hash\": 6813}, {\"hash\": 719}, {\"hash\": 588}, {\"hash\": 8650}, {\"hash\": 1100}, {\"hash\": 7534}, {\"hash\": 5270}, {\"hash\": 2386}, {\"hash\": 6881}, {\"hash\": 2653}, {\"hash\": 2075}, {\"hash\": 8132}, {\"hash\": 5337}, {\"hash\": 4664}, {\"hash\": 5354}, {\"hash\": 6117}, {\"hash\": 5975}, {\"hash\": 5857}, {\"hash\": 6774}, {\"hash\": 181}, {\"hash\": 7969}, {\"hash\": 1826}, {\"hash\": 4319}, {\"hash\": 910}, {\"hash\": 4466}, {\"hash\": 7919}, {\"hash\": 5030}, {\"hash\": 1721}, {\"hash\": 6238}, {\"hash\": 8489}, {\"hash\": 3254}, {\"hash\": 2462}, {\"hash\": 7324}, {\"hash\": 3541}, {\"hash\": 8261}, {\"hash\": 1613}, {\"hash\": 4252}, {\"hash\": 7823}, {\"hash\": 8372}, {\"hash\": 8170}, {\"hash\": 7610}, {\"hash\": 7581}, {\"hash\": 3580}, {\"hash\": 4848}, {\"hash\": 8515}, {\"hash\": 5645}, {\"hash\": 4535}, {\"hash\": 8599}, {\"hash\": 5653}, {\"hash\": 2604}, {\"hash\": 8188}, {\"hash\": 4342}, {\"hash\": 5936}, {\"hash\": 6365}, {\"hash\": 9847}, {\"hash\": 8856}, {\"hash\": 6069}, {\"hash\": 1380}, {\"hash\": 2303}, {\"hash\": 2970}, {\"hash\": 6903}, {\"hash\": 8496}, {\"hash\": 7857}, {\"hash\": 3170}, {\"hash\": 6259}, {\"hash\": 2218}, {\"hash\": 6823}, {\"hash\": 3147}, {\"hash\": 3921}, {\"hash\": 4946}, {\"hash\": 3537}, {\"hash\": 2870}, {\"hash\": 7449}, {\"hash\": 5092}, {\"hash\": 9596}, {\"hash\": 1023}, {\"hash\": 523}, {\"hash\": 254}, {\"hash\": 2872}, {\"hash\": 6073}, {\"hash\": 5013}, {\"hash\": 2633}, {\"hash\": 3544}, {\"hash\": 7338}, {\"hash\": 6104}, {\"hash\": 8836}, {\"hash\": 2560}, {\"hash\": 9811}, {\"hash\": 1636}, {\"hash\": 6042}, {\"hash\": 7630}, {\"hash\": 4786}, {\"hash\": 1127}, {\"hash\": 1968}, {\"hash\": 9318}, {\"hash\": 3093}, {\"hash\": 7752}, {\"hash\": 5447}, {\"hash\": 4621}, {\"hash\": 2685}, {\"hash\": 3743}, {\"hash\": 7458}, {\"hash\": 6230}, {\"hash\": 7788}, {\"hash\": 3333}, {\"hash\": 8804}, {\"hash\": 815}, {\"hash\": 1119}, {\"hash\": 4109}, {\"hash\": 3646}, {\"hash\": 5697}, {\"hash\": 2866}, {\"hash\": 9266}, {\"hash\": 9422}, {\"hash\": 9747}, {\"hash\": 9767}, {\"hash\": 4983}, {\"hash\": 6335}, {\"hash\": 1032}, {\"hash\": 2761}, {\"hash\": 4078}, {\"hash\": 2696}, {\"hash\": 7382}, {\"hash\": 8447}, {\"hash\": 4986}, {\"hash\": 731}, {\"hash\": 37}, {\"hash\": 3080}, {\"hash\": 6579}, {\"hash\": 328}, {\"hash\": 5158}, {\"hash\": 3128}, {\"hash\": 7103}, {\"hash\": 2817}, {\"hash\": 1448}, {\"hash\": 4562}, {\"hash\": 9506}, {\"hash\": 5566}, {\"hash\": 5433}, {\"hash\": 3137}, {\"hash\": 8614}, {\"hash\": 8660}, {\"hash\": 120}, {\"hash\": 7971}, {\"hash\": 7858}, {\"hash\": 4246}, {\"hash\": 7360}, {\"hash\": 4763}, {\"hash\": 267}, {\"hash\": 4025}, {\"hash\": 1949}, {\"hash\": 1825}, {\"hash\": 5699}, {\"hash\": 1280}, {\"hash\": 6426}, {\"hash\": 9781}, {\"hash\": 8585}, {\"hash\": 2165}, {\"hash\": 8173}, {\"hash\": 9977}, {\"hash\": 5660}, {\"hash\": 4481}, {\"hash\": 7669}, {\"hash\": 1439}, {\"hash\": 4134}, {\"hash\": 1274}, {\"hash\": 9271}, {\"hash\": 765}, {\"hash\": 3636}, {\"hash\": 3733}, {\"hash\": 4438}, {\"hash\": 8156}, {\"hash\": 3688}, {\"hash\": 801}, {\"hash\": 1723}, {\"hash\": 9726}, {\"hash\": 285}, {\"hash\": 5517}, {\"hash\": 6120}, {\"hash\": 9924}, {\"hash\": 9857}, {\"hash\": 2879}, {\"hash\": 4110}, {\"hash\": 4931}, {\"hash\": 4066}, {\"hash\": 9898}, {\"hash\": 1022}, {\"hash\": 130}, {\"hash\": 3871}, {\"hash\": 8331}, {\"hash\": 5491}, {\"hash\": 4964}, {\"hash\": 3876}, {\"hash\": 7767}, {\"hash\": 410}, {\"hash\": 1431}, {\"hash\": 7648}, {\"hash\": 4867}, {\"hash\": 3016}, {\"hash\": 4580}, {\"hash\": 5190}, {\"hash\": 4582}, {\"hash\": 6853}, {\"hash\": 6377}, {\"hash\": 4139}, {\"hash\": 4971}, {\"hash\": 4743}, {\"hash\": 974}, {\"hash\": 6112}, {\"hash\": 348}, {\"hash\": 110}, {\"hash\": 9796}, {\"hash\": 4708}, {\"hash\": 7817}, {\"hash\": 2590}, {\"hash\": 8687}, {\"hash\": 8986}, {\"hash\": 9144}, {\"hash\": 2030}, {\"hash\": 9233}, {\"hash\": 5404}, {\"hash\": 246}, {\"hash\": 3595}, {\"hash\": 388}, {\"hash\": 2101}, {\"hash\": 3351}, {\"hash\": 9162}, {\"hash\": 10}, {\"hash\": 8362}, {\"hash\": 5583}, {\"hash\": 8827}, {\"hash\": 6911}, {\"hash\": 6431}, {\"hash\": 2615}, {\"hash\": 3531}, {\"hash\": 2034}, {\"hash\": 7964}, {\"hash\": 425}, {\"hash\": 8493}, {\"hash\": 9669}, {\"hash\": 3019}, {\"hash\": 6509}, {\"hash\": 1856}, {\"hash\": 4331}, {\"hash\": 9285}, {\"hash\": 1284}, {\"hash\": 996}, {\"hash\": 6057}, {\"hash\": 4100}, {\"hash\": 2222}, {\"hash\": 322}, {\"hash\": 3871}, {\"hash\": 3091}, {\"hash\": 2961}, {\"hash\": 8887}, {\"hash\": 4452}, {\"hash\": 3500}, {\"hash\": 8344}, {\"hash\": 566}, {\"hash\": 7396}, {\"hash\": 1045}, {\"hash\": 7312}, {\"hash\": 2888}, {\"hash\": 2450}, {\"hash\": 7557}, {\"hash\": 3708}, {\"hash\": 6012}, {\"hash\": 2144}, {\"hash\": 204}, {\"hash\": 2886}, {\"hash\": 8007}, {\"hash\": 985}, {\"hash\": 1615}, {\"hash\": 297}, {\"hash\": 4990}, {\"hash\": 4058}, {\"hash\": 3230}, {\"hash\": 112}, {\"hash\": 1589}, {\"hash\": 5338}, {\"hash\": 2183}, {\"hash\": 8530}, {\"hash\": 7109}, {\"hash\": 7986}, {\"hash\": 1122}, {\"hash\": 4950}, {\"hash\": 1534}, {\"hash\": 7999}, {\"hash\": 692}, {\"hash\": 9957}, {\"hash\": 8152}, {\"hash\": 9352}, {\"hash\": 2754}, {\"hash\": 1460}, {\"hash\": 8660}, {\"hash\": 1483}, {\"hash\": 3510}, {\"hash\": 8916}, {\"hash\": 5422}, {\"hash\": 5476}, {\"hash\": 5508}, {\"hash\": 1790}, {\"hash\": 5606}, {\"hash\": 5949}, {\"hash\": 1657}, {\"hash\": 2900}, {\"hash\": 6762}, {\"hash\": 6072}, {\"hash\": 1987}, {\"hash\": 4147}, {\"hash\": 1571}, {\"hash\": 2485}, {\"hash\": 4601}, {\"hash\": 8947}, {\"hash\": 8527}, {\"hash\": 7978}, {\"hash\": 148}, {\"hash\": 7645}, {\"hash\": 1746}, {\"hash\": 3937}, {\"hash\": 2215}, {\"hash\": 8407}, {\"hash\": 337}, {\"hash\": 8558}, {\"hash\": 406}, {\"hash\": 9482}, {\"hash\": 6404}, {\"hash\": 6604}, {\"hash\": 8646}, {\"hash\": 7299}, {\"hash\": 2294}, {\"hash\": 9662}, {\"hash\": 6109}, {\"hash\": 6506}, {\"hash\": 6951}, {\"hash\": 6161}, {\"hash\": 3253}, {\"hash\": 3471}, {\"hash\": 1894}, {\"hash\": 9779}, {\"hash\": 5760}, {\"hash\": 6541}, {\"hash\": 1322}, {\"hash\": 467}, {\"hash\": 8303}, {\"hash\": 6555}, {\"hash\": 9869}, {\"hash\": 3255}, {\"hash\": 5945}, {\"hash\": 9090}, {\"hash\": 5709}, {\"hash\": 9707}, {\"hash\": 7014}, {\"hash\": 8008}, {\"hash\": 4990}, {\"hash\": 3329}, {\"hash\": 3121}, {\"hash\": 4225}, {\"hash\": 9782}, {\"hash\": 9269}, {\"hash\": 2815}, {\"hash\": 2709}, {\"hash\": 1443}, {\"hash\": 7869}, {\"hash\": 6757}, {\"hash\": 3639}, {\"hash\": 1790}, {\"hash\": 9342}, {\"hash\": 3346}, {\"hash\": 5997}, {\"hash\": 8084}, {\"hash\": 2925}, {\"hash\": 3977}, {\"hash\": 9744}, {\"hash\": 2829}, {\"hash\": 1488}, {\"hash\": 5144}, {\"hash\": 1132}, {\"hash\": 7280}, {\"hash\": 988}, {\"hash\": 6909}, {\"hash\": 8390}, {\"hash\": 4802}, {\"hash\": 6210}, {\"hash\": 9246}, {\"hash\": 2433}, {\"hash\": 7972}, {\"hash\": 2958}, {\"hash\": 8949}, {\"hash\": 3053}, {\"hash\": 5012}, {\"hash\": 9495}, {\"hash\": 5832}, {\"hash\": 3837}, {\"hash\": 4811}, {\"hash\": 7438}, {\"hash\": 3092}, {\"hash\": 5587}, {\"hash\": 7225}, {\"hash\": 1752}, {\"hash\": 9653}, {\"hash\": 7188}, {\"hash\": 5369}, {\"hash\": 1713}, {\"hash\": 7654}, {\"hash\": 4157}, {\"hash\": 1567}, {\"hash\": 606}, {\"hash\": 5083}, {\"hash\": 189}, {\"hash\": 862}, {\"hash\": 4282}, {\"hash\": 3030}, {\"hash\": 3565}, {\"hash\": 4762}, {\"hash\": 4436}, {\"hash\": 1653}, {\"hash\": 2457}, {\"hash\": 737}, {\"hash\": 259}, {\"hash\": 1372}, {\"hash\": 6011}, {\"hash\": 4954}, {\"hash\": 6420}, {\"hash\": 956}, {\"hash\": 3623}, {\"hash\": 4586}, {\"hash\": 6174}, {\"hash\": 4656}, {\"hash\": 6530}, {\"hash\": 4967}, {\"hash\": 1970}, {\"hash\": 1029}, {\"hash\": 4763}, {\"hash\": 5289}, {\"hash\": 7891}, {\"hash\": 6003}, {\"hash\": 7518}, {\"hash\": 1039}, {\"hash\": 598}, {\"hash\": 8585}, {\"hash\": 6813}, {\"hash\": 8573}, {\"hash\": 2436}, {\"hash\": 1154}, {\"hash\": 2922}, {\"hash\": 2119}, {\"hash\": 7749}, {\"hash\": 9601}, {\"hash\": 88}, {\"hash\": 1182}, {\"hash\": 5303}, {\"hash\": 3429}, {\"hash\": 657}, {\"hash\": 3061}, {\"hash\": 1906}, {\"hash\": 1120}, {\"hash\": 2296}, {\"hash\": 9543}, {\"hash\": 1360}, {\"hash\": 1455}, {\"hash\": 3016}, {\"hash\": 9552}, {\"hash\": 7380}, {\"hash\": 9756}, {\"hash\": 3718}, {\"hash\": 2556}, {\"hash\": 7482}, {\"hash\": 5285}, {\"hash\": 2034}, {\"hash\": 4334}, {\"hash\": 5680}, {\"hash\": 7678}, {\"hash\": 8499}, {\"hash\": 4990}, {\"hash\": 5716}, {\"hash\": 333}, {\"hash\": 9997}, {\"hash\": 3147}, {\"hash\": 1433}, {\"hash\": 8436}, {\"hash\": 4675}, {\"hash\": 9235}, {\"hash\": 7591}, {\"hash\": 7929}, {\"hash\": 9610}, {\"hash\": 5788}, {\"hash\": 588}, {\"hash\": 2622}, {\"hash\": 7360}, {\"hash\": 3575}, {\"hash\": 5030}, {\"hash\": 6573}, {\"hash\": 5475}, {\"hash\": 523}, {\"hash\": 259}, {\"hash\": 2533}, {\"hash\": 7769}, {\"hash\": 3214}, {\"hash\": 326}, {\"hash\": 4239}, {\"hash\": 7488}, {\"hash\": 523}, {\"hash\": 2442}, {\"hash\": 5140}, {\"hash\": 1232}, {\"hash\": 6962}, {\"hash\": 5784}, {\"hash\": 8486}, {\"hash\": 576}, {\"hash\": 1653}, {\"hash\": 7512}, {\"hash\": 4655}, {\"hash\": 119}, {\"hash\": 4063}, {\"hash\": 1271}, {\"hash\": 2388}, {\"hash\": 4701}, {\"hash\": 9021}, {\"hash\": 2682}, {\"hash\": 7326}, {\"hash\": 5180}, {\"hash\": 3815}, {\"hash\": 246}, {\"hash\": 8791}, {\"hash\": 1134}, {\"hash\": 877}, {\"hash\": 2781}, {\"hash\": 6908}, {\"hash\": 4384}, {\"hash\": 5553}, {\"hash\": 2657}, {\"hash\": 9331}, {\"hash\": 8601}, {\"hash\": 1485}, {\"hash\": 4061}, {\"hash\": 2317}, {\"hash\": 8133}, {\"hash\": 1075}, {\"hash\": 65}, {\"hash\": 9807}, {\"hash\": 5323}, {\"hash\": 3479}, {\"hash\": 6755}, {\"hash\": 7515}, {\"hash\": 4146}, {\"hash\": 1677}, {\"hash\": 9312}, {\"hash\": 1382}, {\"hash\": 4984}, {\"hash\": 3299}, {\"hash\": 4466}, {\"hash\": 5509}, {\"hash\": 4530}, {\"hash\": 5813}, {\"hash\": 1256}, {\"hash\": 8973}, {\"hash\": 6967}, {\"hash\": 5461}, {\"hash\": 9428}, {\"hash\": 3247}, {\"hash\": 1128}, {\"hash\": 1658}, {\"hash\": 5930}, {\"hash\": 6658}, {\"hash\": 1364}, {\"hash\": 5402}, {\"hash\": 7421}, {\"hash\": 2381}, {\"hash\": 8349}, {\"hash\": 9421}, {\"hash\": 6293}, {\"hash\": 497}, {\"hash\": 514}, {\"hash\": 3169}, {\"hash\": 4589}, {\"hash\": 729}, {\"hash\": 4568}, {\"hash\": 9090}, {\"hash\": 3635}, {\"hash\": 9073}, {\"hash\": 950}, {\"hash\": 4045}, {\"hash\": 2253}, {\"hash\": 3206}, {\"hash\": 6838}, {\"hash\": 5751}, {\"hash\": 3858}, {\"hash\": 1515}, {\"hash\": 3128}, {\"hash\": 4737}, {\"hash\": 3765}, {\"hash\": 4384}, {\"hash\": 4223}, {\"hash\": 5132}, {\"hash\": 5644}, {\"hash\": 4121}, {\"hash\": 6777}, {\"hash\": 8504}, {\"hash\": 3986}, {\"hash\": 3538}, {\"hash\": 723}, {\"hash\": 2137}, {\"hash\": 8229}, {\"hash\": 4609}, {\"hash\": 9621}, {\"hash\": 9780}, {\"hash\": 1010}, {\"hash\": 1484}, {\"hash\": 3207}, {\"hash\": 1412}, {\"hash\": 210}, {\"hash\": 1415}, {\"hash\": 8935}, {\"hash\": 8052}, {\"hash\": 9177}, {\"hash\": 8839}, {\"hash\": 737}, {\"hash\": 7501}, {\"hash\": 4419}, {\"hash\": 89}, {\"hash\": 4493}, {\"hash\": 8378}, {\"hash\": 6711}, {\"hash\": 5841}, {\"hash\": 8969}, {\"hash\": 779}, {\"hash\": 2867}, {\"hash\": 4508}, {\"hash\": 2561}, {\"hash\": 7421}, {\"hash\": 2944}, {\"hash\": 3822}, {\"hash\": 1470}, {\"hash\": 1698}, {\"hash\": 9033}, {\"hash\": 6507}, {\"hash\": 6317}, {\"hash\": 475}, {\"hash\": 5468}, {\"hash\": 6069}, {\"hash\": 7857}, {\"hash\": 5800}, {\"hash\": 7773}, {\"hash\": 2401}, {\"hash\": 9734}, {\"hash\": 6943}, {\"hash\": 2067}, {\"hash\": 6647}, {\"hash\": 5563}, {\"hash\": 2814}, {\"hash\": 8594}, {\"hash\": 9193}, {\"hash\": 7898}, {\"hash\": 1914}, {\"hash\": 558}, {\"hash\": 9156}, {\"hash\": 1210}, {\"hash\": 6080}, {\"hash\": 1795}, {\"hash\": 6854}, {\"hash\": 7479}, {\"hash\": 1602}, {\"hash\": 3400}, {\"hash\": 9555}, {\"hash\": 89}, {\"hash\": 3475}, {\"hash\": 2382}, {\"hash\": 4027}, {\"hash\": 830}, {\"hash\": 6594}, {\"hash\": 4295}, {\"hash\": 3286}, {\"hash\": 414}, {\"hash\": 5837}, {\"hash\": 4229}, {\"hash\": 5128}, {\"hash\": 6224}, {\"hash\": 1409}, {\"hash\": 803}, {\"hash\": 4427}, {\"hash\": 6111}, {\"hash\": 9264}, {\"hash\": 4752}, {\"hash\": 3505}, {\"hash\": 1750}, {\"hash\": 4302}, {\"hash\": 5735}, {\"hash\": 1560}, {\"hash\": 3758}, {\"hash\": 3373}, {\"hash\": 7619}, {\"hash\": 4663}, {\"hash\": 1320}, {\"hash\": 5904}, {\"hash\": 8443}, {\"hash\": 3121}, {\"hash\": 611}, {\"hash\": 3117}, {\"hash\": 226}, {\"hash\": 9210}, {\"hash\": 2210}, {\"hash\": 1553}, {\"hash\": 6427}, {\"hash\": 2840}, {\"hash\": 8864}, {\"hash\": 3657}, {\"hash\": 1578}, {\"hash\": 2437}, {\"hash\": 8567}, {\"hash\": 6744}, {\"hash\": 3203}, {\"hash\": 7135}, {\"hash\": 5448}, {\"hash\": 2897}, {\"hash\": 5233}, {\"hash\": 3578}, {\"hash\": 1466}, {\"hash\": 8125}, {\"hash\": 403}, {\"hash\": 1363}, {\"hash\": 3241}, {\"hash\": 7419}, {\"hash\": 425}, {\"hash\": 5901}, {\"hash\": 2332}, {\"hash\": 1142}, {\"hash\": 4850}, {\"hash\": 6538}, {\"hash\": 1405}, {\"hash\": 3168}, {\"hash\": 5103}, {\"hash\": 6472}, {\"hash\": 9725}, {\"hash\": 4386}, {\"hash\": 8803}, {\"hash\": 9659}, {\"hash\": 8745}, {\"hash\": 5792}, {\"hash\": 8294}, {\"hash\": 2330}, {\"hash\": 2500}, {\"hash\": 3476}, {\"hash\": 8822}, {\"hash\": 3119}, {\"hash\": 3689}, {\"hash\": 2119}, {\"hash\": 982}, {\"hash\": 2084}, {\"hash\": 7009}, {\"hash\": 561}, {\"hash\": 2834}, {\"hash\": 3952}, {\"hash\": 2228}, {\"hash\": 7532}, {\"hash\": 2728}, {\"hash\": 6960}, {\"hash\": 5094}, {\"hash\": 6613}, {\"hash\": 7808}, {\"hash\": 5337}, {\"hash\": 8929}, {\"hash\": 3808}, {\"hash\": 7751}, {\"hash\": 4861}, {\"hash\": 4674}, {\"hash\": 142}, {\"hash\": 1819}, {\"hash\": 2024}, {\"hash\": 4471}, {\"hash\": 8070}, {\"hash\": 6188}, {\"hash\": 1681}, {\"hash\": 2894}, {\"hash\": 6855}, {\"hash\": 9654}, {\"hash\": 9443}, {\"hash\": 7880}, {\"hash\": 2834}, {\"hash\": 2719}, {\"hash\": 4604}, {\"hash\": 2207}, {\"hash\": 517}, {\"hash\": 5666}, {\"hash\": 4722}, {\"hash\": 5889}, {\"hash\": 94}, {\"hash\": 5851}, {\"hash\": 8775}, {\"hash\": 8599}, {\"hash\": 1049}, {\"hash\": 4544}, {\"hash\": 5025}, {\"hash\": 6233}, {\"hash\": 7540}, {\"hash\": 6389}, {\"hash\": 6401}, {\"hash\": 4694}, {\"hash\": 8037}, {\"hash\": 9326}, {\"hash\": 7894}, {\"hash\": 4675}, {\"hash\": 17}, {\"hash\": 8365}, {\"hash\": 1684}, {\"hash\": 5035}, {\"hash\": 1584}, {\"hash\": 86}, {\"hash\": 3563}, {\"hash\": 1804}, {\"hash\": 3743}, {\"hash\": 5169}, {\"hash\": 1337}, {\"hash\": 6968}, {\"hash\": 6467}, {\"hash\": 3570}, {\"hash\": 8273}, {\"hash\": 8522}, {\"hash\": 280}, {\"hash\": 6916}, {\"hash\": 8473}, {\"hash\": 6360}, {\"hash\": 9812}, {\"hash\": 29}, {\"hash\": 1569}, {\"hash\": 2624}, {\"hash\": 180}, {\"hash\": 8411}, {\"hash\": 2832}, {\"hash\": 1296}, {\"hash\": 5531}, {\"hash\": 1268}, {\"hash\": 4611}, {\"hash\": 9262}, {\"hash\": 7007}, {\"hash\": 1674}, {\"hash\": 4513}, {\"hash\": 7470}, {\"hash\": 1873}, {\"hash\": 551}, {\"hash\": 6901}, {\"hash\": 4310}, {\"hash\": 5353}, {\"hash\": 2705}, {\"hash\": 9305}, {\"hash\": 9208}, {\"hash\": 6324}, {\"hash\": 4049}, {\"hash\": 2091}, {\"hash\": 4856}, {\"hash\": 6209}, {\"hash\": 2242}, {\"hash\": 7837}, {\"hash\": 8515}, {\"hash\": 709}, {\"hash\": 2877}, {\"hash\": 4551}, {\"hash\": 5200}, {\"hash\": 3256}, {\"hash\": 3461}, {\"hash\": 7481}, {\"hash\": 4152}, {\"hash\": 6309}, {\"hash\": 4984}, {\"hash\": 3784}, {\"hash\": 959}, {\"hash\": 3809}, {\"hash\": 8948}, {\"hash\": 986}, {\"hash\": 1199}, {\"hash\": 8073}, {\"hash\": 2536}, {\"hash\": 9096}, {\"hash\": 5390}, {\"hash\": 7267}, {\"hash\": 2515}, {\"hash\": 7072}, {\"hash\": 651}, {\"hash\": 4414}, {\"hash\": 8934}, {\"hash\": 2254}, {\"hash\": 965}, {\"hash\": 9472}, {\"hash\": 2021}, {\"hash\": 337}, {\"hash\": 7762}, {\"hash\": 1983}, {\"hash\": 5744}, {\"hash\": 6855}, {\"hash\": 4978}, {\"hash\": 6639}, {\"hash\": 1650}, {\"hash\": 8686}, {\"hash\": 7940}, {\"hash\": 8073}, {\"hash\": 6970}, {\"hash\": 9008}, {\"hash\": 8910}, {\"hash\": 3349}, {\"hash\": 9558}, {\"hash\": 1102}, {\"hash\": 2375}, {\"hash\": 8884}, {\"hash\": 8109}, {\"hash\": 4615}, {\"hash\": 5851}, {\"hash\": 6976}, {\"hash\": 639}, {\"hash\": 6344}, {\"hash\": 6911}, {\"hash\": 4914}, {\"hash\": 5182}, {\"hash\": 6533}, {\"hash\": 5325}, {\"hash\": 9785}, {\"hash\": 560}, {\"hash\": 9127}, {\"hash\": 3102}, {\"hash\": 5559}, {\"hash\": 7886}, {\"hash\": 7598}, {\"hash\": 3173}, {\"hash\": 7428}, {\"hash\": 2778}, {\"hash\": 8626}, {\"hash\": 9160}, {\"hash\": 1168}, {\"hash\": 9290}, {\"hash\": 9227}, {\"hash\": 6746}, {\"hash\": 6359}, {\"hash\": 3378}, {\"hash\": 307}, {\"hash\": 8122}, {\"hash\": 5587}, {\"hash\": 8667}, {\"hash\": 9797}, {\"hash\": 7299}, {\"hash\": 6637}, {\"hash\": 9281}, {\"hash\": 7540}, {\"hash\": 9350}, {\"hash\": 4946}, {\"hash\": 2517}, {\"hash\": 8543}, {\"hash\": 8649}, {\"hash\": 4822}, {\"hash\": 5015}, {\"hash\": 5766}, {\"hash\": 7878}, {\"hash\": 294}, {\"hash\": 8783}, {\"hash\": 7074}, {\"hash\": 5398}, {\"hash\": 2304}, {\"hash\": 6483}, {\"hash\": 2560}, {\"hash\": 1888}, {\"hash\": 7636}, {\"hash\": 1700}, {\"hash\": 5573}, {\"hash\": 1513}, {\"hash\": 4630}, {\"hash\": 6721}, {\"hash\": 4343}, {\"hash\": 6828}, {\"hash\": 107}, {\"hash\": 835}, {\"hash\": 32}, {\"hash\": 6534}, {\"hash\": 8163}, {\"hash\": 2608}, {\"hash\": 3989}, {\"hash\": 4163}, {\"hash\": 7091}, {\"hash\": 4241}, {\"hash\": 5001}, {\"hash\": 5192}, {\"hash\": 5037}, {\"hash\": 5808}, {\"hash\": 4484}, {\"hash\": 6716}, {\"hash\": 9029}, {\"hash\": 8833}, {\"hash\": 6215}, {\"hash\": 7416}, {\"hash\": 728}, {\"hash\": 7954}, {\"hash\": 4944}, {\"hash\": 6818}, {\"hash\": 599}, {\"hash\": 7392}, {\"hash\": 4103}, {\"hash\": 9482}, {\"hash\": 8744}, {\"hash\": 4807}, {\"hash\": 4527}, {\"hash\": 3892}, {\"hash\": 5500}, {\"hash\": 5037}, {\"hash\": 3272}, {\"hash\": 9419}, {\"hash\": 7474}, {\"hash\": 7371}, {\"hash\": 163}, {\"hash\": 3127}, {\"hash\": 6409}, {\"hash\": 6735}, {\"hash\": 4091}, {\"hash\": 7598}, {\"hash\": 5153}, {\"hash\": 295}, {\"hash\": 1081}, {\"hash\": 7452}, {\"hash\": 1033}, {\"hash\": 7056}, {\"hash\": 8000}, {\"hash\": 8769}, {\"hash\": 3319}, {\"hash\": 998}, {\"hash\": 9763}, {\"hash\": 4469}, {\"hash\": 9640}, {\"hash\": 9405}, {\"hash\": 5469}, {\"hash\": 7259}, {\"hash\": 6857}, {\"hash\": 6625}, {\"hash\": 4956}, {\"hash\": 2224}, {\"hash\": 2083}, {\"hash\": 513}, {\"hash\": 1827}, {\"hash\": 7921}, {\"hash\": 5771}, {\"hash\": 2768}, {\"hash\": 7021}, {\"hash\": 8594}, {\"hash\": 7013}, {\"hash\": 2022}, {\"hash\": 3291}, {\"hash\": 1831}, {\"hash\": 1337}, {\"hash\": 1473}, {\"hash\": 1714}, {\"hash\": 4131}, {\"hash\": 9062}, {\"hash\": 1992}, {\"hash\": 9393}, {\"hash\": 9639}, {\"hash\": 9552}, {\"hash\": 5694}, {\"hash\": 2539}, {\"hash\": 1894}, {\"hash\": 6712}, {\"hash\": 9560}, {\"hash\": 8761}, {\"hash\": 9154}, {\"hash\": 8072}, {\"hash\": 32}, {\"hash\": 6391}, {\"hash\": 8161}, {\"hash\": 9130}, {\"hash\": 4133}, {\"hash\": 9312}, {\"hash\": 8576}, {\"hash\": 6876}, {\"hash\": 3573}, {\"hash\": 427}, {\"hash\": 4249}, {\"hash\": 4570}, {\"hash\": 8157}, {\"hash\": 9815}, {\"hash\": 3619}, {\"hash\": 5697}, {\"hash\": 323}, {\"hash\": 5586}, {\"hash\": 9267}, {\"hash\": 2531}, {\"hash\": 6338}, {\"hash\": 4344}, {\"hash\": 9810}, {\"hash\": 740}, {\"hash\": 3017}, {\"hash\": 7112}, {\"hash\": 6713}, {\"hash\": 6307}, {\"hash\": 1636}, {\"hash\": 851}, {\"hash\": 6361}, {\"hash\": 2827}, {\"hash\": 5499}, {\"hash\": 5634}, {\"hash\": 2562}, {\"hash\": 6610}, {\"hash\": 7870}, {\"hash\": 5917}, {\"hash\": 8236}, {\"hash\": 7234}, {\"hash\": 2459}, {\"hash\": 1380}, {\"hash\": 1269}, {\"hash\": 8701}, {\"hash\": 587}, {\"hash\": 3621}, {\"hash\": 3830}, {\"hash\": 19}, {\"hash\": 1921}, {\"hash\": 6211}, {\"hash\": 5595}, {\"hash\": 3183}, {\"hash\": 4192}, {\"hash\": 4955}, {\"hash\": 8809}, {\"hash\": 4769}, {\"hash\": 4775}, {\"hash\": 4511}, {\"hash\": 6900}, {\"hash\": 9791}, {\"hash\": 1726}, {\"hash\": 1041}, {\"hash\": 2960}, {\"hash\": 7256}, {\"hash\": 9051}, {\"hash\": 5421}, {\"hash\": 5466}, {\"hash\": 9648}, {\"hash\": 7330}, {\"hash\": 6174}, {\"hash\": 2913}, {\"hash\": 4734}, {\"hash\": 488}, {\"hash\": 8515}, {\"hash\": 796}, {\"hash\": 7598}, {\"hash\": 6442}, {\"hash\": 5739}, {\"hash\": 2895}, {\"hash\": 9232}, {\"hash\": 1831}, {\"hash\": 3366}, {\"hash\": 6669}, {\"hash\": 2216}, {\"hash\": 4662}, {\"hash\": 6241}, {\"hash\": 1743}, {\"hash\": 9889}, {\"hash\": 7897}, {\"hash\": 6161}, {\"hash\": 6171}, {\"hash\": 6105}, {\"hash\": 2862}, {\"hash\": 4802}, {\"hash\": 6978}, {\"hash\": 1277}, {\"hash\": 5806}, {\"hash\": 944}, {\"hash\": 5148}, {\"hash\": 1327}, {\"hash\": 8736}, {\"hash\": 4759}, {\"hash\": 4734}, {\"hash\": 5896}, {\"hash\": 3217}, {\"hash\": 8074}, {\"hash\": 5552}, {\"hash\": 5954}, {\"hash\": 1666}, {\"hash\": 8367}, {\"hash\": 7454}, {\"hash\": 9065}, {\"hash\": 8308}, {\"hash\": 725}, {\"hash\": 3085}, {\"hash\": 5074}, {\"hash\": 1793}, {\"hash\": 1411}, {\"hash\": 3835}, {\"hash\": 3217}, {\"hash\": 6862}, {\"hash\": 8285}, {\"hash\": 4923}, {\"hash\": 3643}, {\"hash\": 9721}, {\"hash\": 2236}, {\"hash\": 1323}, {\"hash\": 1785}, {\"hash\": 7120}, {\"hash\": 5036}, {\"hash\": 9937}, {\"hash\": 6102}, {\"hash\": 7628}, {\"hash\": 1053}, {\"hash\": 6315}, {\"hash\": 9061}, {\"hash\": 4155}, {\"hash\": 4116}, {\"hash\": 1420}, {\"hash\": 8861}, {\"hash\": 9455}, {\"hash\": 2924}, {\"hash\": 3174}, {\"hash\": 781}, {\"hash\": 1895}, {\"hash\": 8495}, {\"hash\": 5564}, {\"hash\": 8522}, {\"hash\": 5105}, {\"hash\": 2699}, {\"hash\": 7021}, {\"hash\": 2321}, {\"hash\": 6921}, {\"hash\": 2298}, {\"hash\": 9608}, {\"hash\": 5031}, {\"hash\": 5166}, {\"hash\": 1126}, {\"hash\": 4204}, {\"hash\": 9158}, {\"hash\": 4142}, {\"hash\": 7915}, {\"hash\": 7565}, {\"hash\": 2068}, {\"hash\": 4236}, {\"hash\": 8142}, {\"hash\": 1322}, {\"hash\": 8292}, {\"hash\": 112}, {\"hash\": 3486}, {\"hash\": 7989}, {\"hash\": 9006}, {\"hash\": 1770}, {\"hash\": 5646}, {\"hash\": 4532}, {\"hash\": 1156}, {\"hash\": 9183}, {\"hash\": 2525}, {\"hash\": 4187}, {\"hash\": 789}, {\"hash\": 9827}, {\"hash\": 3180}, {\"hash\": 1294}, {\"hash\": 617}, {\"hash\": 4333}, {\"hash\": 4260}, {\"hash\": 1281}, {\"hash\": 6923}, {\"hash\": 6345}, {\"hash\": 8888}, {\"hash\": 8297}, {\"hash\": 1919}, {\"hash\": 3155}, {\"hash\": 1325}, {\"hash\": 4890}, {\"hash\": 1890}, {\"hash\": 2111}, {\"hash\": 3464}, {\"hash\": 4611}, {\"hash\": 8781}, {\"hash\": 7416}, {\"hash\": 2839}, {\"hash\": 1704}, {\"hash\": 740}, {\"hash\": 7899}, {\"hash\": 8452}, {\"hash\": 363}, {\"hash\": 894}, {\"hash\": 5629}, {\"hash\": 8800}, {\"hash\": 1612}, {\"hash\": 7277}, {\"hash\": 4145}, {\"hash\": 6272}, {\"hash\": 6560}, {\"hash\": 9090}, {\"hash\": 3132}, {\"hash\": 3139}, {\"hash\": 9166}, {\"hash\": 9346}, {\"hash\": 8982}, {\"hash\": 1628}, {\"hash\": 6856}, {\"hash\": 8992}, {\"hash\": 7453}, {\"hash\": 6013}, {\"hash\": 3819}, {\"hash\": 9936}, {\"hash\": 5837}, {\"hash\": 5351}, {\"hash\": 5237}, {\"hash\": 7261}, {\"hash\": 6769}, {\"hash\": 6675}, {\"hash\": 6437}, {\"hash\": 9390}, {\"hash\": 2928}, {\"hash\": 1605}, {\"hash\": 8722}, {\"hash\": 2045}, {\"hash\": 2164}, {\"hash\": 3017}, {\"hash\": 1463}, {\"hash\": 8556}, {\"hash\": 3471}, {\"hash\": 3216}, {\"hash\": 7217}, {\"hash\": 2791}, {\"hash\": 3572}, {\"hash\": 4584}, {\"hash\": 2034}, {\"hash\": 904}, {\"hash\": 3127}, {\"hash\": 2366}, {\"hash\": 7478}, {\"hash\": 9837}, {\"hash\": 611}, {\"hash\": 4131}, {\"hash\": 1088}, {\"hash\": 7220}, {\"hash\": 8420}, {\"hash\": 9633}, {\"hash\": 667}, {\"hash\": 7274}, {\"hash\": 5970}, {\"hash\": 5187}, {\"hash\": 6465}, {\"hash\": 8105}, {\"hash\": 7811}, {\"hash\": 9882}, {\"hash\": 4271}, {\"hash\": 893}, {\"hash\": 4551}, {\"hash\": 7013}, {\"hash\": 7615}, {\"hash\": 3973}, {\"hash\": 8290}, {\"hash\": 5158}, {\"hash\": 7229}, {\"hash\": 4245}, {\"hash\": 7752}, {\"hash\": 8910}, {\"hash\": 2896}, {\"hash\": 127}, {\"hash\": 7490}, {\"hash\": 8710}, {\"hash\": 3413}, {\"hash\": 9600}, {\"hash\": 5656}, {\"hash\": 6474}, {\"hash\": 1643}, {\"hash\": 5963}, {\"hash\": 273}, {\"hash\": 3089}, {\"hash\": 5228}, {\"hash\": 1566}, {\"hash\": 8790}, {\"hash\": 3860}, {\"hash\": 5060}, {\"hash\": 7726}, {\"hash\": 9612}, {\"hash\": 8154}, {\"hash\": 8066}, {\"hash\": 6332}, {\"hash\": 9095}, {\"hash\": 4327}, {\"hash\": 4564}, {\"hash\": 4899}, {\"hash\": 7867}, {\"hash\": 5652}, {\"hash\": 3955}, {\"hash\": 4496}, {\"hash\": 6637}, {\"hash\": 1124}, {\"hash\": 6092}, {\"hash\": 6586}, {\"hash\": 9270}, {\"hash\": 3044}, {\"hash\": 6036}, {\"hash\": 2667}, {\"hash\": 925}, {\"hash\": 6508}, {\"hash\": 9658}, {\"hash\": 7458}, {\"hash\": 190}, {\"hash\": 9864}, {\"hash\": 4989}, {\"hash\": 6556}, {\"hash\": 3439}, {\"hash\": 3417}, {\"hash\": 7359}, {\"hash\": 7044}, {\"hash\": 9442}, {\"hash\": 7335}, {\"hash\": 2333}, {\"hash\": 1110}, {\"hash\": 7489}, {\"hash\": 1279}, {\"hash\": 4193}, {\"hash\": 8313}, {\"hash\": 2569}, {\"hash\": 7575}, {\"hash\": 8202}, {\"hash\": 2389}, {\"hash\": 1964}, {\"hash\": 6419}, {\"hash\": 8639}, {\"hash\": 4284}, {\"hash\": 16}, {\"hash\": 265}, {\"hash\": 5934}, {\"hash\": 7465}, {\"hash\": 6293}, {\"hash\": 9167}, {\"hash\": 6982}, {\"hash\": 8615}, {\"hash\": 5333}, {\"hash\": 8041}, {\"hash\": 5549}, {\"hash\": 2851}, {\"hash\": 7276}, {\"hash\": 4829}, {\"hash\": 2651}, {\"hash\": 1364}, {\"hash\": 5286}, {\"hash\": 7362}, {\"hash\": 5702}, {\"hash\": 6441}, {\"hash\": 4491}, {\"hash\": 2200}, {\"hash\": 3164}, {\"hash\": 759}, {\"hash\": 1158}, {\"hash\": 5587}, {\"hash\": 3146}, {\"hash\": 7997}, {\"hash\": 9621}, {\"hash\": 4363}, {\"hash\": 7212}, {\"hash\": 8833}, {\"hash\": 914}, {\"hash\": 4371}, {\"hash\": 9018}, {\"hash\": 3727}, {\"hash\": 1705}, {\"hash\": 5158}, {\"hash\": 1268}, {\"hash\": 4955}, {\"hash\": 8800}, {\"hash\": 8994}, {\"hash\": 2292}, {\"hash\": 7306}, {\"hash\": 3434}, {\"hash\": 4889}, {\"hash\": 8480}, {\"hash\": 5698}, {\"hash\": 9556}, {\"hash\": 9168}, {\"hash\": 2742}, {\"hash\": 7497}, {\"hash\": 7466}, {\"hash\": 2004}, {\"hash\": 6116}, {\"hash\": 5481}, {\"hash\": 5445}, {\"hash\": 9017}, {\"hash\": 3176}, {\"hash\": 8961}, {\"hash\": 5181}, {\"hash\": 4495}, {\"hash\": 1506}, {\"hash\": 4884}, {\"hash\": 3736}, {\"hash\": 3425}, {\"hash\": 2507}, {\"hash\": 8841}, {\"hash\": 2240}, {\"hash\": 2389}, {\"hash\": 5716}, {\"hash\": 4564}, {\"hash\": 8710}, {\"hash\": 9592}, {\"hash\": 2403}, {\"hash\": 9701}, {\"hash\": 1273}, {\"hash\": 3526}, {\"hash\": 8976}, {\"hash\": 4374}, {\"hash\": 7857}, {\"hash\": 6141}, {\"hash\": 580}, {\"hash\": 5027}, {\"hash\": 6968}, {\"hash\": 2776}, {\"hash\": 370}, {\"hash\": 9028}, {\"hash\": 2549}, {\"hash\": 3578}, {\"hash\": 639}, {\"hash\": 7386}, {\"hash\": 5182}, {\"hash\": 3618}, {\"hash\": 7099}, {\"hash\": 1556}, {\"hash\": 7663}, {\"hash\": 1120}, {\"hash\": 4365}, {\"hash\": 4331}, {\"hash\": 3412}, {\"hash\": 3222}, {\"hash\": 917}, {\"hash\": 4866}, {\"hash\": 8343}, {\"hash\": 2157}, {\"hash\": 2954}, {\"hash\": 400}, {\"hash\": 4596}, {\"hash\": 6488}, {\"hash\": 1362}, {\"hash\": 9583}, {\"hash\": 4762}, {\"hash\": 4982}, {\"hash\": 6361}, {\"hash\": 4350}, {\"hash\": 5459}, {\"hash\": 1741}, {\"hash\": 6449}, {\"hash\": 2714}, {\"hash\": 4958}, {\"hash\": 6495}, {\"hash\": 4776}, {\"hash\": 4747}, {\"hash\": 4552}, {\"hash\": 5057}, {\"hash\": 1909}, {\"hash\": 5751}, {\"hash\": 4670}, {\"hash\": 2799}, {\"hash\": 3667}, {\"hash\": 646}, {\"hash\": 4525}, {\"hash\": 9888}, {\"hash\": 3331}, {\"hash\": 5333}, {\"hash\": 8095}, {\"hash\": 1563}, {\"hash\": 2291}, {\"hash\": 3624}, {\"hash\": 8552}, {\"hash\": 7780}, {\"hash\": 8968}, {\"hash\": 7830}, {\"hash\": 1148}, {\"hash\": 8881}, {\"hash\": 9799}, {\"hash\": 487}, {\"hash\": 1890}, {\"hash\": 7471}, {\"hash\": 6767}, {\"hash\": 1486}, {\"hash\": 6877}, {\"hash\": 572}, {\"hash\": 2807}, {\"hash\": 7686}, {\"hash\": 845}, {\"hash\": 5220}, {\"hash\": 4973}, {\"hash\": 3669}, {\"hash\": 2431}, {\"hash\": 5556}, {\"hash\": 839}, {\"hash\": 7230}, {\"hash\": 7795}, {\"hash\": 1502}, {\"hash\": 2156}, {\"hash\": 6318}, {\"hash\": 4131}, {\"hash\": 4300}, {\"hash\": 6122}, {\"hash\": 896}, {\"hash\": 5303}, {\"hash\": 2691}, {\"hash\": 1371}, {\"hash\": 732}, {\"hash\": 7555}, {\"hash\": 5156}, {\"hash\": 4433}, {\"hash\": 3442}, {\"hash\": 950}, {\"hash\": 542}, {\"hash\": 6249}, {\"hash\": 5234}, {\"hash\": 7770}, {\"hash\": 2246}, {\"hash\": 7272}, {\"hash\": 4278}, {\"hash\": 1160}, {\"hash\": 1538}, {\"hash\": 6556}, {\"hash\": 1532}, {\"hash\": 267}, {\"hash\": 60}, {\"hash\": 3486}, {\"hash\": 6543}, {\"hash\": 5573}, {\"hash\": 3037}, {\"hash\": 5253}, {\"hash\": 4746}, {\"hash\": 4885}, {\"hash\": 6872}, {\"hash\": 1058}, {\"hash\": 3003}, {\"hash\": 4121}, {\"hash\": 9039}, {\"hash\": 7973}, {\"hash\": 571}, {\"hash\": 6946}, {\"hash\": 7440}, {\"hash\": 5106}, {\"hash\": 2489}, {\"hash\": 8463}, {\"hash\": 1054}, {\"hash\": 9546}, {\"hash\": 5850}, {\"hash\": 7958}, {\"hash\": 7990}, {\"hash\": 1579}, {\"hash\": 5021}, {\"hash\": 2917}, {\"hash\": 7089}, {\"hash\": 8089}, {\"hash\": 8608}, {\"hash\": 4866}, {\"hash\": 8775}, {\"hash\": 5652}, {\"hash\": 496}, {\"hash\": 9405}, {\"hash\": 9581}, {\"hash\": 878}, {\"hash\": 3384}, {\"hash\": 5191}, {\"hash\": 6634}, {\"hash\": 5073}, {\"hash\": 6585}, {\"hash\": 6823}, {\"hash\": 6488}, {\"hash\": 4228}, {\"hash\": 7800}, {\"hash\": 6080}, {\"hash\": 1829}, {\"hash\": 6926}, {\"hash\": 4690}, {\"hash\": 5375}, {\"hash\": 3921}, {\"hash\": 6733}, {\"hash\": 4228}, {\"hash\": 2949}, {\"hash\": 879}, {\"hash\": 6837}, {\"hash\": 4807}, {\"hash\": 2841}, {\"hash\": 4290}, {\"hash\": 16}, {\"hash\": 6188}, {\"hash\": 773}, {\"hash\": 3271}, {\"hash\": 2880}, {\"hash\": 3054}, {\"hash\": 6883}, {\"hash\": 9987}, {\"hash\": 7962}, {\"hash\": 7677}, {\"hash\": 9440}, {\"hash\": 7157}, {\"hash\": 8211}, {\"hash\": 4829}, {\"hash\": 7398}, {\"hash\": 2468}, {\"hash\": 9855}, {\"hash\": 8618}, {\"hash\": 9467}, {\"hash\": 1494}, {\"hash\": 9968}, {\"hash\": 4642}, {\"hash\": 8646}, {\"hash\": 4584}, {\"hash\": 5569}, {\"hash\": 1617}, {\"hash\": 3759}, {\"hash\": 96}, {\"hash\": 8949}, {\"hash\": 3887}, {\"hash\": 2133}, {\"hash\": 2277}, {\"hash\": 9814}, {\"hash\": 9833}, {\"hash\": 4051}, {\"hash\": 9354}, {\"hash\": 7459}, {\"hash\": 7593}, {\"hash\": 3620}, {\"hash\": 8682}, {\"hash\": 1662}, {\"hash\": 7561}, {\"hash\": 8468}, {\"hash\": 9915}, {\"hash\": 1882}, {\"hash\": 2560}, {\"hash\": 8368}, {\"hash\": 2248}, {\"hash\": 3860}, {\"hash\": 7034}, {\"hash\": 5675}, {\"hash\": 4506}, {\"hash\": 3228}, {\"hash\": 4494}, {\"hash\": 5631}, {\"hash\": 513}, {\"hash\": 6893}, {\"hash\": 5413}, {\"hash\": 9554}, {\"hash\": 949}, {\"hash\": 2687}, {\"hash\": 6956}, {\"hash\": 7966}, {\"hash\": 9007}, {\"hash\": 757}, {\"hash\": 4724}, {\"hash\": 9135}, {\"hash\": 7861}, {\"hash\": 9786}, {\"hash\": 5763}, {\"hash\": 5501}, {\"hash\": 8720}, {\"hash\": 9766}, {\"hash\": 4152}, {\"hash\": 1440}, {\"hash\": 9400}, {\"hash\": 7198}, {\"hash\": 7396}, {\"hash\": 3391}, {\"hash\": 9695}, {\"hash\": 3788}, {\"hash\": 1238}, {\"hash\": 477}, {\"hash\": 1303}, {\"hash\": 2539}, {\"hash\": 1764}, {\"hash\": 1552}, {\"hash\": 6909}, {\"hash\": 5562}, {\"hash\": 3955}, {\"hash\": 253}, {\"hash\": 9137}, {\"hash\": 3290}, {\"hash\": 919}, {\"hash\": 6340}, {\"hash\": 3701}, {\"hash\": 3879}, {\"hash\": 4476}, {\"hash\": 8666}, {\"hash\": 6860}, {\"hash\": 2997}, {\"hash\": 6890}, {\"hash\": 8043}, {\"hash\": 8295}, {\"hash\": 9911}, {\"hash\": 1544}, {\"hash\": 7758}, {\"hash\": 7941}, {\"hash\": 694}, {\"hash\": 1424}, {\"hash\": 2066}, {\"hash\": 3364}, {\"hash\": 2438}, {\"hash\": 3382}, {\"hash\": 829}, {\"hash\": 5477}, {\"hash\": 2166}, {\"hash\": 250}, {\"hash\": 2107}, {\"hash\": 5919}, {\"hash\": 3101}, {\"hash\": 7761}, {\"hash\": 3731}, {\"hash\": 3771}, {\"hash\": 3522}, {\"hash\": 2846}, {\"hash\": 5115}, {\"hash\": 7590}, {\"hash\": 624}, {\"hash\": 269}, {\"hash\": 5496}, {\"hash\": 8344}, {\"hash\": 4648}, {\"hash\": 4088}, {\"hash\": 9410}, {\"hash\": 5855}, {\"hash\": 8070}, {\"hash\": 6197}, {\"hash\": 5355}, {\"hash\": 7430}, {\"hash\": 3149}, {\"hash\": 3220}, {\"hash\": 889}, {\"hash\": 9041}, {\"hash\": 279}, {\"hash\": 8646}, {\"hash\": 7426}, {\"hash\": 14}, {\"hash\": 3344}, {\"hash\": 5730}, {\"hash\": 6855}, {\"hash\": 6889}, {\"hash\": 7964}, {\"hash\": 931}, {\"hash\": 1755}, {\"hash\": 3050}, {\"hash\": 8117}, {\"hash\": 6263}, {\"hash\": 6774}, {\"hash\": 1701}, {\"hash\": 6220}, {\"hash\": 4950}, {\"hash\": 4832}, {\"hash\": 8953}, {\"hash\": 6986}, {\"hash\": 3624}, {\"hash\": 9421}, {\"hash\": 4637}, {\"hash\": 6801}, {\"hash\": 2779}, {\"hash\": 3205}, {\"hash\": 605}, {\"hash\": 1724}, {\"hash\": 8342}, {\"hash\": 730}, {\"hash\": 972}, {\"hash\": 1170}, {\"hash\": 1144}, {\"hash\": 2974}, {\"hash\": 1542}, {\"hash\": 5154}, {\"hash\": 5031}, {\"hash\": 3260}, {\"hash\": 739}, {\"hash\": 5883}, {\"hash\": 564}, {\"hash\": 83}, {\"hash\": 611}, {\"hash\": 4433}, {\"hash\": 9059}, {\"hash\": 8801}, {\"hash\": 4594}, {\"hash\": 3878}, {\"hash\": 9936}, {\"hash\": 8820}, {\"hash\": 8132}, {\"hash\": 2841}, {\"hash\": 1707}, {\"hash\": 7331}, {\"hash\": 1507}, {\"hash\": 6146}, {\"hash\": 5281}, {\"hash\": 403}, {\"hash\": 3084}, {\"hash\": 8891}, {\"hash\": 9255}, {\"hash\": 1569}, {\"hash\": 8210}, {\"hash\": 9344}, {\"hash\": 4652}, {\"hash\": 3665}, {\"hash\": 1582}, {\"hash\": 3067}, {\"hash\": 2911}, {\"hash\": 353}, {\"hash\": 5378}, {\"hash\": 8432}, {\"hash\": 696}, {\"hash\": 8934}, {\"hash\": 7796}, {\"hash\": 6412}, {\"hash\": 5042}, {\"hash\": 7960}, {\"hash\": 3002}, {\"hash\": 7393}, {\"hash\": 7722}, {\"hash\": 2173}, {\"hash\": 4696}, {\"hash\": 7696}, {\"hash\": 4691}, {\"hash\": 9301}, {\"hash\": 6959}, {\"hash\": 149}, {\"hash\": 4116}, {\"hash\": 4788}, {\"hash\": 6959}, {\"hash\": 5117}, {\"hash\": 3213}, {\"hash\": 1371}, {\"hash\": 6241}, {\"hash\": 4124}, {\"hash\": 3275}, {\"hash\": 3471}, {\"hash\": 4542}, {\"hash\": 8775}, {\"hash\": 2278}, {\"hash\": 6416}, {\"hash\": 6321}, {\"hash\": 5792}, {\"hash\": 4443}, {\"hash\": 5270}, {\"hash\": 9261}, {\"hash\": 7618}, {\"hash\": 6868}, {\"hash\": 6353}, {\"hash\": 3684}, {\"hash\": 4886}, {\"hash\": 4564}, {\"hash\": 8873}, {\"hash\": 2449}, {\"hash\": 1768}, {\"hash\": 5493}, {\"hash\": 204}, {\"hash\": 5622}, {\"hash\": 789}, {\"hash\": 7729}, {\"hash\": 8548}, {\"hash\": 4373}, {\"hash\": 372}, {\"hash\": 865}, {\"hash\": 362}, {\"hash\": 9194}, {\"hash\": 842}, {\"hash\": 5378}, {\"hash\": 2719}, {\"hash\": 6692}, {\"hash\": 993}, {\"hash\": 7751}, {\"hash\": 5158}, {\"hash\": 7349}, {\"hash\": 3650}, {\"hash\": 8814}, {\"hash\": 5670}, {\"hash\": 7060}, {\"hash\": 7175}, {\"hash\": 6027}, {\"hash\": 4468}, {\"hash\": 3048}, {\"hash\": 525}, {\"hash\": 2882}, {\"hash\": 1781}, {\"hash\": 9722}, {\"hash\": 2871}, {\"hash\": 5684}, {\"hash\": 4739}, {\"hash\": 8606}, {\"hash\": 5619}, {\"hash\": 6682}, {\"hash\": 6775}, {\"hash\": 5355}, {\"hash\": 8530}, {\"hash\": 1174}, {\"hash\": 7584}, {\"hash\": 29}, {\"hash\": 1069}, {\"hash\": 1264}, {\"hash\": 7998}, {\"hash\": 3853}, {\"hash\": 457}, {\"hash\": 365}, {\"hash\": 6045}, {\"hash\": 9162}, {\"hash\": 2085}, {\"hash\": 2953}, {\"hash\": 8988}, {\"hash\": 2195}, {\"hash\": 2644}, {\"hash\": 7578}, {\"hash\": 7307}, {\"hash\": 9123}, {\"hash\": 4347}, {\"hash\": 8369}, {\"hash\": 4071}, {\"hash\": 4449}, {\"hash\": 392}, {\"hash\": 7949}, {\"hash\": 427}, {\"hash\": 7534}, {\"hash\": 3801}, {\"hash\": 6808}, {\"hash\": 8399}, {\"hash\": 4799}, {\"hash\": 7840}, {\"hash\": 915}, {\"hash\": 5775}, {\"hash\": 3432}, {\"hash\": 6384}, {\"hash\": 9305}, {\"hash\": 5520}, {\"hash\": 8267}, {\"hash\": 4470}, {\"hash\": 9188}, {\"hash\": 2627}, {\"hash\": 2224}, {\"hash\": 8624}, {\"hash\": 6613}, {\"hash\": 4924}, {\"hash\": 9135}, {\"hash\": 9114}, {\"hash\": 573}, {\"hash\": 5158}, {\"hash\": 9022}, {\"hash\": 9711}, {\"hash\": 2164}, {\"hash\": 2949}, {\"hash\": 5728}, {\"hash\": 5903}, {\"hash\": 5315}, {\"hash\": 1027}, {\"hash\": 819}, {\"hash\": 4776}, {\"hash\": 9074}, {\"hash\": 2532}, {\"hash\": 7691}, {\"hash\": 5321}, {\"hash\": 7726}, {\"hash\": 8152}, {\"hash\": 9167}, {\"hash\": 5628}, {\"hash\": 1948}, {\"hash\": 988}, {\"hash\": 6789}, {\"hash\": 2791}, {\"hash\": 3955}, {\"hash\": 2889}, {\"hash\": 9667}, {\"hash\": 7802}, {\"hash\": 4821}, {\"hash\": 4331}, {\"hash\": 1516}, {\"hash\": 272}, {\"hash\": 4429}, {\"hash\": 6661}, {\"hash\": 1748}, {\"hash\": 4988}, {\"hash\": 4001}, {\"hash\": 8915}, {\"hash\": 6289}, {\"hash\": 4317}, {\"hash\": 9186}, {\"hash\": 5192}, {\"hash\": 4058}, {\"hash\": 3215}, {\"hash\": 9244}, {\"hash\": 2291}, {\"hash\": 3355}, {\"hash\": 9067}, {\"hash\": 6222}, {\"hash\": 9688}, {\"hash\": 8867}, {\"hash\": 2027}, {\"hash\": 5935}, {\"hash\": 6965}, {\"hash\": 6995}, {\"hash\": 9226}, {\"hash\": 8083}, {\"hash\": 4576}, {\"hash\": 870}, {\"hash\": 493}, {\"hash\": 8442}, {\"hash\": 9170}, {\"hash\": 5491}, {\"hash\": 4298}, {\"hash\": 5935}, {\"hash\": 3279}, {\"hash\": 6662}, {\"hash\": 6574}, {\"hash\": 8109}, {\"hash\": 327}, {\"hash\": 9399}, {\"hash\": 699}, {\"hash\": 9921}, {\"hash\": 6214}, {\"hash\": 3569}, {\"hash\": 523}, {\"hash\": 4399}, {\"hash\": 6396}, {\"hash\": 4943}, {\"hash\": 5577}, {\"hash\": 6961}, {\"hash\": 6326}, {\"hash\": 2014}, {\"hash\": 9550}, {\"hash\": 9880}, {\"hash\": 9040}, {\"hash\": 371}, {\"hash\": 5342}, {\"hash\": 494}, {\"hash\": 1849}, {\"hash\": 116}, {\"hash\": 5748}, {\"hash\": 435}, {\"hash\": 6001}, {\"hash\": 86}, {\"hash\": 6408}, {\"hash\": 4403}, {\"hash\": 5655}, {\"hash\": 4184}, {\"hash\": 8488}, {\"hash\": 2062}, {\"hash\": 4757}, {\"hash\": 4192}, {\"hash\": 93}, {\"hash\": 6608}, {\"hash\": 1289}, {\"hash\": 7912}, {\"hash\": 5539}, {\"hash\": 7289}, {\"hash\": 4665}, {\"hash\": 659}, {\"hash\": 2692}, {\"hash\": 1641}, {\"hash\": 6045}, {\"hash\": 141}, {\"hash\": 6053}, {\"hash\": 9832}, {\"hash\": 7101}, {\"hash\": 6069}, {\"hash\": 2851}, {\"hash\": 2677}, {\"hash\": 5180}, {\"hash\": 9459}, {\"hash\": 7036}, {\"hash\": 7643}, {\"hash\": 4675}, {\"hash\": 9633}, {\"hash\": 3356}, {\"hash\": 9047}, {\"hash\": 8107}, {\"hash\": 5381}, {\"hash\": 4367}, {\"hash\": 4438}, {\"hash\": 5782}, {\"hash\": 6112}, {\"hash\": 6939}, {\"hash\": 3910}, {\"hash\": 2297}, {\"hash\": 3802}, {\"hash\": 4292}, {\"hash\": 2223}, {\"hash\": 1940}, {\"hash\": 2025}, {\"hash\": 6271}, {\"hash\": 8290}, {\"hash\": 5007}, {\"hash\": 4256}, {\"hash\": 2875}, {\"hash\": 1547}, {\"hash\": 3314}, {\"hash\": 66}, {\"hash\": 8765}, {\"hash\": 7522}, {\"hash\": 3747}, {\"hash\": 9184}, {\"hash\": 3209}, {\"hash\": 6835}, {\"hash\": 1104}, {\"hash\": 1036}, {\"hash\": 85}, {\"hash\": 1764}, {\"hash\": 1459}, {\"hash\": 1741}, {\"hash\": 9376}, {\"hash\": 6171}, {\"hash\": 8087}, {\"hash\": 8306}, {\"hash\": 8389}, {\"hash\": 9740}, {\"hash\": 8102}, {\"hash\": 9725}, {\"hash\": 5092}, {\"hash\": 7568}, {\"hash\": 2023}, {\"hash\": 555}, {\"hash\": 3168}, {\"hash\": 5644}, {\"hash\": 5385}, {\"hash\": 8257}, {\"hash\": 8511}, {\"hash\": 4780}, {\"hash\": 7882}, {\"hash\": 1622}, {\"hash\": 4651}, {\"hash\": 2528}, {\"hash\": 8360}, {\"hash\": 3216}, {\"hash\": 7910}, {\"hash\": 3114}, {\"hash\": 13}, {\"hash\": 3090}, {\"hash\": 2150}, {\"hash\": 7770}, {\"hash\": 572}, {\"hash\": 6247}, {\"hash\": 2601}, {\"hash\": 8443}, {\"hash\": 4645}, {\"hash\": 8867}, {\"hash\": 3737}, {\"hash\": 5225}, {\"hash\": 5929}, {\"hash\": 4807}, {\"hash\": 7489}, {\"hash\": 4718}, {\"hash\": 7798}, {\"hash\": 8168}, {\"hash\": 5880}, {\"hash\": 8572}, {\"hash\": 2526}, {\"hash\": 123}, {\"hash\": 5209}, {\"hash\": 8986}, {\"hash\": 3194}, {\"hash\": 7405}, {\"hash\": 1834}, {\"hash\": 755}, {\"hash\": 7676}, {\"hash\": 9564}, {\"hash\": 1178}, {\"hash\": 6839}, {\"hash\": 8523}, {\"hash\": 2658}, {\"hash\": 1164}, {\"hash\": 9478}, {\"hash\": 9117}, {\"hash\": 4117}, {\"hash\": 1167}, {\"hash\": 7105}, {\"hash\": 8078}, {\"hash\": 1786}, {\"hash\": 3229}, {\"hash\": 6760}, {\"hash\": 5571}, {\"hash\": 7099}, {\"hash\": 9026}, {\"hash\": 5231}, {\"hash\": 3284}, {\"hash\": 3820}, {\"hash\": 6739}, {\"hash\": 8969}, {\"hash\": 798}, {\"hash\": 558}, {\"hash\": 1797}, {\"hash\": 3306}, {\"hash\": 1461}, {\"hash\": 7229}, {\"hash\": 4851}, {\"hash\": 250}, {\"hash\": 532}, {\"hash\": 222}, {\"hash\": 1437}, {\"hash\": 2307}, {\"hash\": 4385}, {\"hash\": 6968}, {\"hash\": 6597}, {\"hash\": 3158}, {\"hash\": 4908}, {\"hash\": 8174}, {\"hash\": 7348}, {\"hash\": 4109}, {\"hash\": 4243}, {\"hash\": 7379}, {\"hash\": 2163}, {\"hash\": 7820}, {\"hash\": 9868}, {\"hash\": 7326}, {\"hash\": 3852}, {\"hash\": 487}, {\"hash\": 668}, {\"hash\": 9952}, {\"hash\": 6991}, {\"hash\": 7626}, {\"hash\": 8270}, {\"hash\": 6601}, {\"hash\": 7423}, {\"hash\": 7606}, {\"hash\": 3146}, {\"hash\": 7373}, {\"hash\": 3933}, {\"hash\": 1565}, {\"hash\": 2229}, {\"hash\": 523}, {\"hash\": 7607}, {\"hash\": 84}, {\"hash\": 2457}, {\"hash\": 735}, {\"hash\": 9906}, {\"hash\": 9446}, {\"hash\": 8979}, {\"hash\": 7120}, {\"hash\": 3254}, {\"hash\": 1434}, {\"hash\": 3794}, {\"hash\": 1177}, {\"hash\": 8636}, {\"hash\": 4871}, {\"hash\": 802}, {\"hash\": 380}, {\"hash\": 8823}, {\"hash\": 8140}, {\"hash\": 4412}, {\"hash\": 5330}, {\"hash\": 4235}, {\"hash\": 7391}, {\"hash\": 2454}, {\"hash\": 1038}, {\"hash\": 2448}, {\"hash\": 8887}, {\"hash\": 7140}, {\"hash\": 3726}, {\"hash\": 5962}, {\"hash\": 8040}, {\"hash\": 2319}, {\"hash\": 7174}, {\"hash\": 2493}, {\"hash\": 8951}, {\"hash\": 8966}, {\"hash\": 1324}, {\"hash\": 3669}, {\"hash\": 5342}, {\"hash\": 9553}, {\"hash\": 1214}, {\"hash\": 6944}, {\"hash\": 1223}, {\"hash\": 6225}, {\"hash\": 5188}, {\"hash\": 6203}, {\"hash\": 3663}, {\"hash\": 5683}, {\"hash\": 3599}, {\"hash\": 88}, {\"hash\": 809}, {\"hash\": 1789}, {\"hash\": 4862}, {\"hash\": 9913}, {\"hash\": 2809}, {\"hash\": 8223}, {\"hash\": 9371}, {\"hash\": 3480}, {\"hash\": 1901}, {\"hash\": 8747}, {\"hash\": 1646}, {\"hash\": 2694}, {\"hash\": 7113}, {\"hash\": 5419}, {\"hash\": 9400}, {\"hash\": 6675}, {\"hash\": 523}, {\"hash\": 8766}, {\"hash\": 9493}, {\"hash\": 4855}, {\"hash\": 7748}, {\"hash\": 2051}, {\"hash\": 2809}, {\"hash\": 2921}, {\"hash\": 3291}, {\"hash\": 4344}, {\"hash\": 580}, {\"hash\": 8384}, {\"hash\": 6534}, {\"hash\": 1406}, {\"hash\": 3995}, {\"hash\": 5338}, {\"hash\": 652}, {\"hash\": 7511}, {\"hash\": 493}, {\"hash\": 8240}, {\"hash\": 1534}, {\"hash\": 5790}, {\"hash\": 109}, {\"hash\": 5891}, {\"hash\": 1160}, {\"hash\": 6937}, {\"hash\": 1583}, {\"hash\": 1561}, {\"hash\": 6162}, {\"hash\": 9010}, {\"hash\": 2527}, {\"hash\": 3254}, {\"hash\": 5540}, {\"hash\": 9215}, {\"hash\": 8908}, {\"hash\": 4431}, {\"hash\": 919}, {\"hash\": 6238}, {\"hash\": 6027}, {\"hash\": 2277}, {\"hash\": 7605}, {\"hash\": 1874}, {\"hash\": 1506}, {\"hash\": 8}, {\"hash\": 4181}, {\"hash\": 3744}, {\"hash\": 8617}, {\"hash\": 6704}, {\"hash\": 4627}, {\"hash\": 949}, {\"hash\": 462}, {\"hash\": 217}, {\"hash\": 8935}, {\"hash\": 8675}, {\"hash\": 9811}, {\"hash\": 2935}, {\"hash\": 6377}, {\"hash\": 9225}, {\"hash\": 542}, {\"hash\": 7960}, {\"hash\": 7163}, {\"hash\": 8136}, {\"hash\": 1031}, {\"hash\": 1350}, {\"hash\": 7618}, {\"hash\": 1252}, {\"hash\": 5797}, {\"hash\": 0}, {\"hash\": 162}, {\"hash\": 4290}, {\"hash\": 5245}, {\"hash\": 5663}, {\"hash\": 5296}, {\"hash\": 3694}, {\"hash\": 9876}, {\"hash\": 7116}, {\"hash\": 353}, {\"hash\": 9928}, {\"hash\": 4587}, {\"hash\": 4879}, {\"hash\": 7744}, {\"hash\": 1802}, {\"hash\": 5234}, {\"hash\": 3438}, {\"hash\": 3489}, {\"hash\": 8538}, {\"hash\": 5977}, {\"hash\": 9939}, {\"hash\": 8113}, {\"hash\": 2888}, {\"hash\": 784}, {\"hash\": 8566}, {\"hash\": 7658}, {\"hash\": 6831}, {\"hash\": 2244}, {\"hash\": 6827}, {\"hash\": 1968}, {\"hash\": 560}, {\"hash\": 503}, {\"hash\": 7334}, {\"hash\": 888}, {\"hash\": 9182}, {\"hash\": 7169}, {\"hash\": 9345}, {\"hash\": 6475}, {\"hash\": 6661}, {\"hash\": 3709}, {\"hash\": 1709}]}}, {\"mode\": \"vega-lite\"});\n",
       "</script>"
      ],
      "text/plain": [
       "alt.Chart(...)"
      ]
     },
     "execution_count": 3,
     "metadata": {},
     "output_type": "execute_result"
    }
   ],
   "source": [
    "data = data.with_columns(\n",
    "    data[\"text\"]\n",
    "        .map_elements(\n",
    "            lambda t:\n",
    "            int(sha256(t.encode()).hexdigest(), 16) % 10000\n",
    "        )\n",
    "        .alias(\"hash\")\n",
    ")\n",
    "data[\"hash\"].plot.hist()"
   ]
  },
  {
   "cell_type": "code",
   "execution_count": 4,
   "id": "804a6ce3",
   "metadata": {},
   "outputs": [
    {
     "data": {
      "text/plain": [
       "DatasetDict({\n",
       "    train: Dataset({\n",
       "        features: ['id', 'url', 'title', 'text'],\n",
       "        num_rows: 2917\n",
       "    })\n",
       "    validation: Dataset({\n",
       "        features: ['id', 'url', 'title', 'text'],\n",
       "        num_rows: 146\n",
       "    })\n",
       "})"
      ]
     },
     "execution_count": 4,
     "metadata": {},
     "output_type": "execute_result"
    }
   ],
   "source": [
    "dataset_dict = datasets.DatasetDict()\n",
    "dataset_dict[\"train\"] = datasets.Dataset.from_polars(data.filter(data[\"hash\"] > 500)[data.columns[:-1]])\n",
    "dataset_dict[\"validation\"] = datasets.Dataset.from_polars(data.filter(data[\"hash\"] <= 500)[data.columns[:-1]])\n",
    "\n",
    "dataset_dict"
   ]
  },
  {
   "cell_type": "code",
   "execution_count": 5,
   "id": "675997b8",
   "metadata": {},
   "outputs": [
    {
     "data": {
      "application/vnd.jupyter.widget-view+json": {
       "model_id": "f96f6c4029fd4bd79c0443829963045f",
       "version_major": 2,
       "version_minor": 0
      },
      "text/plain": [
       "Uploading the dataset shards:   0%|          | 0/1 [00:00<?, ? shards/s]"
      ]
     },
     "metadata": {},
     "output_type": "display_data"
    },
    {
     "data": {
      "application/vnd.jupyter.widget-view+json": {
       "model_id": "94f1e4b63a7b49bc9405a928930bb71f",
       "version_major": 2,
       "version_minor": 0
      },
      "text/plain": [
       "Creating parquet from Arrow format:   0%|          | 0/1 [00:00<?, ?ba/s]"
      ]
     },
     "metadata": {},
     "output_type": "display_data"
    },
    {
     "data": {
      "application/vnd.jupyter.widget-view+json": {
       "model_id": "812747fffa274ab7b6d63cac407bfd1f",
       "version_major": 2,
       "version_minor": 0
      },
      "text/plain": [
       "Processing Files (0 / 0): |          |  0.00B /  0.00B            "
      ]
     },
     "metadata": {},
     "output_type": "display_data"
    },
    {
     "data": {
      "application/vnd.jupyter.widget-view+json": {
       "model_id": "0be2ce8e2d1b4a7385e428e3c806ec31",
       "version_major": 2,
       "version_minor": 0
      },
      "text/plain": [
       "New Data Upload: |          |  0.00B /  0.00B            "
      ]
     },
     "metadata": {},
     "output_type": "display_data"
    },
    {
     "data": {
      "application/vnd.jupyter.widget-view+json": {
       "model_id": "974c8c2b09a1428f8dd88c067a239f24",
       "version_major": 2,
       "version_minor": 0
      },
      "text/plain": [
       "Uploading the dataset shards:   0%|          | 0/1 [00:00<?, ? shards/s]"
      ]
     },
     "metadata": {},
     "output_type": "display_data"
    },
    {
     "data": {
      "application/vnd.jupyter.widget-view+json": {
       "model_id": "b97887696b29406c98f1dd299c33f838",
       "version_major": 2,
       "version_minor": 0
      },
      "text/plain": [
       "Creating parquet from Arrow format:   0%|          | 0/1 [00:00<?, ?ba/s]"
      ]
     },
     "metadata": {},
     "output_type": "display_data"
    },
    {
     "data": {
      "application/vnd.jupyter.widget-view+json": {
       "model_id": "90a10ce846b4425f9a68f019648775bf",
       "version_major": 2,
       "version_minor": 0
      },
      "text/plain": [
       "Processing Files (0 / 0): |          |  0.00B /  0.00B            "
      ]
     },
     "metadata": {},
     "output_type": "display_data"
    },
    {
     "data": {
      "application/vnd.jupyter.widget-view+json": {
       "model_id": "c58936c93d84432caaaf5ec4b53a3a57",
       "version_major": 2,
       "version_minor": 0
      },
      "text/plain": [
       "New Data Upload: |          |  0.00B /  0.00B            "
      ]
     },
     "metadata": {},
     "output_type": "display_data"
    },
    {
     "data": {
      "text/plain": [
       "CommitInfo(commit_url='https://huggingface.co/datasets/NetherQuartz/wikipesija/commit/b7c0e1fad208224900b1a21f3e9d4d11fd16afef', commit_message='Upload dataset', commit_description='', oid='b7c0e1fad208224900b1a21f3e9d4d11fd16afef', pr_url=None, repo_url=RepoUrl('https://huggingface.co/datasets/NetherQuartz/wikipesija', endpoint='https://huggingface.co', repo_type='dataset', repo_id='NetherQuartz/wikipesija'), pr_revision=None, pr_num=None)"
      ]
     },
     "execution_count": 5,
     "metadata": {},
     "output_type": "execute_result"
    }
   ],
   "source": [
    "dataset_dict.push_to_hub(\"NetherQuartz/wikipesija\")"
   ]
  }
 ],
 "metadata": {
  "kernelspec": {
   "display_name": "ilo-toki",
   "language": "python",
   "name": "python3"
  },
  "language_info": {
   "codemirror_mode": {
    "name": "ipython",
    "version": 3
   },
   "file_extension": ".py",
   "mimetype": "text/x-python",
   "name": "python",
   "nbconvert_exporter": "python",
   "pygments_lexer": "ipython3",
   "version": "3.12.2"
  }
 },
 "nbformat": 4,
 "nbformat_minor": 5
}
