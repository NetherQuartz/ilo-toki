{
 "cells": [
  {
   "cell_type": "code",
   "execution_count": 1,
   "id": "1a27a924",
   "metadata": {},
   "outputs": [
    {
     "name": "stderr",
     "output_type": "stream",
     "text": [
      "0it [00:00, ?it/s]"
     ]
    },
    {
     "name": "stdout",
     "output_type": "stream",
     "text": [
      "NEW PAGE https://wikipesija.org/wiki/Special:AllPages\n"
     ]
    },
    {
     "name": "stderr",
     "output_type": "stream",
     "text": [
      "163it [11:55, 20.32s/it]"
     ]
    },
    {
     "name": "stdout",
     "output_type": "stream",
     "text": [
      "Error on https://wikipesija.org/wiki/ISO_3166:DO: None\n"
     ]
    },
    {
     "name": "stderr",
     "output_type": "stream",
     "text": [
      "257it [20:42,  1.29s/it]"
     ]
    },
    {
     "name": "stdout",
     "output_type": "stream",
     "text": [
      "Error on https://wikipesija.org/wiki/ISO_3166:KZ: None\n"
     ]
    },
    {
     "name": "stderr",
     "output_type": "stream",
     "text": [
      "345it [22:58,  1.72s/it]"
     ]
    },
    {
     "name": "stdout",
     "output_type": "stream",
     "text": [
      "NEW PAGE https://wikipesija.org/index.php?title=ilo:Lipu_ale&from=ISO+3166%3ASV\n"
     ]
    },
    {
     "name": "stderr",
     "output_type": "stream",
     "text": [
      "346it [23:00,  1.88s/it]"
     ]
    },
    {
     "name": "stdout",
     "output_type": "stream",
     "text": [
      "Error on https://wikipesija.org/wiki/ISO_3166:SV: None\n"
     ]
    },
    {
     "name": "stderr",
     "output_type": "stream",
     "text": [
      "366it [23:34,  1.95s/it]"
     ]
    },
    {
     "name": "stdout",
     "output_type": "stream",
     "text": [
      "Error on https://wikipesija.org/wiki/ISO_3166:TR-42: None\n"
     ]
    },
    {
     "name": "stderr",
     "output_type": "stream",
     "text": [
      "545it [27:08,  1.22s/it]"
     ]
    },
    {
     "name": "stdout",
     "output_type": "stream",
     "text": [
      "Error on https://wikipesija.org/wiki/ISO_639:kaz: None\n"
     ]
    },
    {
     "name": "stderr",
     "output_type": "stream",
     "text": [
      "546it [27:08,  1.13s/it]"
     ]
    },
    {
     "name": "stdout",
     "output_type": "stream",
     "text": [
      "Error on https://wikipesija.org/wiki/ISO_639:kk: None\n"
     ]
    },
    {
     "name": "stderr",
     "output_type": "stream",
     "text": [
      "606it [28:15,  1.06s/it]"
     ]
    },
    {
     "name": "stdout",
     "output_type": "stream",
     "text": [
      "Error on https://wikipesija.org/wiki/ISO_639:sa: None\n"
     ]
    },
    {
     "name": "stderr",
     "output_type": "stream",
     "text": [
      "607it [28:17,  1.16s/it]"
     ]
    },
    {
     "name": "stdout",
     "output_type": "stream",
     "text": [
      "Error on https://wikipesija.org/wiki/ISO_639:san: None\n"
     ]
    },
    {
     "name": "stderr",
     "output_type": "stream",
     "text": [
      "679it [29:45,  1.06s/it]"
     ]
    },
    {
     "name": "stdout",
     "output_type": "stream",
     "text": [
      "Error on https://wikipesija.org/wiki/Leke: None\n"
     ]
    },
    {
     "name": "stderr",
     "output_type": "stream",
     "text": [
      "686it [30:17,  4.74s/it]"
     ]
    },
    {
     "name": "stdout",
     "output_type": "stream",
     "text": [
      "Error on https://wikipesija.org/wiki/Main_Page: None\n"
     ]
    },
    {
     "name": "stderr",
     "output_type": "stream",
     "text": [
      "690it [30:22,  2.00s/it]"
     ]
    },
    {
     "name": "stdout",
     "output_type": "stream",
     "text": [
      "NEW PAGE https://wikipesija.org/index.php?title=ilo:Lipu_ale&from=Olbia\n"
     ]
    },
    {
     "name": "stderr",
     "output_type": "stream",
     "text": [
      "697it [30:41,  3.74s/it]"
     ]
    },
    {
     "name": "stdout",
     "output_type": "stream",
     "text": [
      "Error on https://wikipesija.org/wiki/Portal:ma_Tona: None\n"
     ]
    },
    {
     "name": "stderr",
     "output_type": "stream",
     "text": [
      "698it [31:01,  8.68s/it]"
     ]
    },
    {
     "name": "stdout",
     "output_type": "stream",
     "text": [
      "Error on https://wikipesija.org/wiki/Portal:toki_pona: None\n"
     ]
    },
    {
     "name": "stderr",
     "output_type": "stream",
     "text": [
      "719it [31:35,  1.87s/it]"
     ]
    },
    {
     "name": "stdout",
     "output_type": "stream",
     "text": [
      "Error on https://wikipesija.org/wiki/The_history_of_Toki_Pona: None\n"
     ]
    },
    {
     "name": "stderr",
     "output_type": "stream",
     "text": [
      "743it [32:15,  1.19s/it]"
     ]
    },
    {
     "name": "stdout",
     "output_type": "stream",
     "text": [
      "Error on https://wikipesija.org/wiki/Where_is_Toki_Pona_used%3F: None\n"
     ]
    },
    {
     "name": "stderr",
     "output_type": "stream",
     "text": [
      "1032it [46:39,  5.41s/it]"
     ]
    },
    {
     "name": "stdout",
     "output_type": "stream",
     "text": [
      "Error on https://wikipesija.org/wiki/ilo_tawa_supa: None\n"
     ]
    },
    {
     "name": "stderr",
     "output_type": "stream",
     "text": [
      "1035it [46:45,  3.24s/it]"
     ]
    },
    {
     "name": "stdout",
     "output_type": "stream",
     "text": [
      "NEW PAGE https://wikipesija.org/index.php?title=ilo:Lipu_ale&from=ilo+telo\n"
     ]
    },
    {
     "name": "stderr",
     "output_type": "stream",
     "text": [
      "1076it [48:12,  2.48s/it]"
     ]
    },
    {
     "name": "stdout",
     "output_type": "stream",
     "text": [
      "Error on https://wikipesija.org/wiki/jan_Alesanta_Puskin: None\n"
     ]
    },
    {
     "name": "stderr",
     "output_type": "stream",
     "text": [
      "1077it [48:13,  1.95s/it]"
     ]
    },
    {
     "name": "stdout",
     "output_type": "stream",
     "text": [
      "Error on https://wikipesija.org/wiki/jan_Alesante_Pusin: None\n"
     ]
    },
    {
     "name": "stderr",
     "output_type": "stream",
     "text": [
      "1080it [48:15,  1.17s/it]"
     ]
    },
    {
     "name": "stdout",
     "output_type": "stream",
     "text": [
      "Error on https://wikipesija.org/wiki/jan_Alisanta_Pukin: None\n"
     ]
    },
    {
     "name": "stderr",
     "output_type": "stream",
     "text": [
      "1147it [50:24,  1.88s/it]"
     ]
    },
    {
     "name": "stdout",
     "output_type": "stream",
     "text": [
      "Error on https://wikipesija.org/wiki/jan_Hatsune_Miku: None\n"
     ]
    },
    {
     "name": "stderr",
     "output_type": "stream",
     "text": [
      "1171it [51:11,  2.15s/it]"
     ]
    },
    {
     "name": "stdout",
     "output_type": "stream",
     "text": [
      "Error on https://wikipesija.org/wiki/jan_James_Cook: None\n"
     ]
    },
    {
     "name": "stderr",
     "output_type": "stream",
     "text": [
      "1178it [51:21,  1.57s/it]"
     ]
    },
    {
     "name": "stdout",
     "output_type": "stream",
     "text": [
      "Error on https://wikipesija.org/wiki/jan_Jeko_Leto: None\n"
     ]
    },
    {
     "name": "stderr",
     "output_type": "stream",
     "text": [
      "1179it [51:22,  1.44s/it]"
     ]
    },
    {
     "name": "stdout",
     "output_type": "stream",
     "text": [
      "Error on https://wikipesija.org/wiki/jan_Jemu_Ku: None\n"
     ]
    },
    {
     "name": "stderr",
     "output_type": "stream",
     "text": [
      "1202it [52:01,  1.43s/it]"
     ]
    },
    {
     "name": "stdout",
     "output_type": "stream",
     "text": [
      "Error on https://wikipesija.org/wiki/jan_Kagamine_Len: None\n"
     ]
    },
    {
     "name": "stderr",
     "output_type": "stream",
     "text": [
      "1203it [52:01,  1.24s/it]"
     ]
    },
    {
     "name": "stdout",
     "output_type": "stream",
     "text": [
      "Error on https://wikipesija.org/wiki/jan_Kagamine_Rin: None\n"
     ]
    },
    {
     "name": "stderr",
     "output_type": "stream",
     "text": [
      "1206it [52:06,  1.30s/it]"
     ]
    },
    {
     "name": "stdout",
     "output_type": "stream",
     "text": [
      "Error on https://wikipesija.org/wiki/jan_Kakamine_Len: None\n"
     ]
    },
    {
     "name": "stderr",
     "output_type": "stream",
     "text": [
      "1207it [52:07,  1.12s/it]"
     ]
    },
    {
     "name": "stdout",
     "output_type": "stream",
     "text": [
      "Error on https://wikipesija.org/wiki/jan_Kakamine_Lin: None\n"
     ]
    },
    {
     "name": "stderr",
     "output_type": "stream",
     "text": [
      "1261it [53:50,  5.50s/it]"
     ]
    },
    {
     "name": "stdout",
     "output_type": "stream",
     "text": [
      "Error on https://wikipesija.org/wiki/jan_Kopusije: None\n"
     ]
    },
    {
     "name": "stderr",
     "output_type": "stream",
     "text": [
      "1359it [57:13,  2.00s/it]"
     ]
    },
    {
     "name": "stdout",
     "output_type": "stream",
     "text": [
      "Error on https://wikipesija.org/wiki/jan_Miku: None\n"
     ]
    },
    {
     "name": "stderr",
     "output_type": "stream",
     "text": [
      "1370it [57:41,  3.43s/it]"
     ]
    },
    {
     "name": "stdout",
     "output_type": "stream",
     "text": [
      "Error on https://wikipesija.org/wiki/jan_Mose: None\n"
     ]
    },
    {
     "name": "stderr",
     "output_type": "stream",
     "text": [
      "1378it [58:02,  2.75s/it]"
     ]
    },
    {
     "name": "stdout",
     "output_type": "stream",
     "text": [
      "Error on https://wikipesija.org/wiki/jan_Nalpi: None\n"
     ]
    },
    {
     "name": "stderr",
     "output_type": "stream",
     "text": [
      "1380it [58:06,  2.65s/it]"
     ]
    },
    {
     "name": "stdout",
     "output_type": "stream",
     "text": [
      "NEW PAGE https://wikipesija.org/index.php?title=ilo:Lipu_ale&from=jan+Napako\n"
     ]
    },
    {
     "name": "stderr",
     "output_type": "stream",
     "text": [
      "1423it [59:25,  1.18s/it]"
     ]
    },
    {
     "name": "stdout",
     "output_type": "stream",
     "text": [
      "Error on https://wikipesija.org/wiki/jan_Pake: None\n"
     ]
    },
    {
     "name": "stderr",
     "output_type": "stream",
     "text": [
      "1501it [1:02:33,  3.22s/it]"
     ]
    },
    {
     "name": "stdout",
     "output_type": "stream",
     "text": [
      "Error on https://wikipesija.org/wiki/jan_Semu_Ku: None\n"
     ]
    },
    {
     "name": "stderr",
     "output_type": "stream",
     "text": [
      "1503it [1:02:38,  2.68s/it]"
     ]
    },
    {
     "name": "stdout",
     "output_type": "stream",
     "text": [
      "Error on https://wikipesija.org/wiki/jan_Sen_Ku: None\n"
     ]
    },
    {
     "name": "stderr",
     "output_type": "stream",
     "text": [
      "1530it [1:03:24,  1.88s/it]"
     ]
    },
    {
     "name": "stdout",
     "output_type": "stream",
     "text": [
      "Error on https://wikipesija.org/wiki/jan_Sojan_Sepasijen_Pake: None\n"
     ]
    },
    {
     "name": "stderr",
     "output_type": "stream",
     "text": [
      "1564it [1:04:48,  1.72s/it]"
     ]
    },
    {
     "name": "stdout",
     "output_type": "stream",
     "text": [
      "Error on https://wikipesija.org/wiki/jan_Tali_Patan: None\n"
     ]
    },
    {
     "name": "stderr",
     "output_type": "stream",
     "text": [
      "1565it [1:04:49,  1.45s/it]"
     ]
    },
    {
     "name": "stdout",
     "output_type": "stream",
     "text": [
      "Error on https://wikipesija.org/wiki/jan_Tali_Paton: None\n"
     ]
    },
    {
     "name": "stderr",
     "output_type": "stream",
     "text": [
      "1725it [1:10:23,  1.44s/it]"
     ]
    },
    {
     "name": "stdout",
     "output_type": "stream",
     "text": [
      "NEW PAGE https://wikipesija.org/index.php?title=ilo:Lipu_ale&from=jan+sewi+Alakimi\n"
     ]
    },
    {
     "name": "stderr",
     "output_type": "stream",
     "text": [
      "1763it [1:12:32,  5.14s/it]"
     ]
    },
    {
     "name": "stdout",
     "output_type": "stream",
     "text": [
      "Error on https://wikipesija.org/wiki/jan_utala_tan_ma_Palata_li_utala_e_ma_Sinkapo_lon_tenpo_sike_nanpa_1915: None\n"
     ]
    },
    {
     "name": "stderr",
     "output_type": "stream",
     "text": [
      "1884it [1:16:36,  4.12s/it]"
     ]
    },
    {
     "name": "stdout",
     "output_type": "stream",
     "text": [
      "Error on https://wikipesija.org/wiki/kiwen_en_ilo_en_lipu: None\n"
     ]
    },
    {
     "name": "stderr",
     "output_type": "stream",
     "text": [
      "1885it [1:16:36,  3.13s/it]"
     ]
    },
    {
     "name": "stdout",
     "output_type": "stream",
     "text": [
      "Error on https://wikipesija.org/wiki/kiwen_en_ilo_kipisi_en_lipu: None\n"
     ]
    },
    {
     "name": "stderr",
     "output_type": "stream",
     "text": [
      "1999it [1:20:34,  1.27s/it]"
     ]
    },
    {
     "name": "stdout",
     "output_type": "stream",
     "text": [
      "Error on https://wikipesija.org/wiki/kulupu_Latole: None\n"
     ]
    },
    {
     "name": "stderr",
     "output_type": "stream",
     "text": [
      "2069it [1:22:37,  1.28s/it]"
     ]
    },
    {
     "name": "stdout",
     "output_type": "stream",
     "text": [
      "Error on https://wikipesija.org/wiki/kulupu_jan_Senise: None\n"
     ]
    },
    {
     "name": "stderr",
     "output_type": "stream",
     "text": [
      "2070it [1:22:40,  1.82s/it]"
     ]
    },
    {
     "name": "stdout",
     "output_type": "stream",
     "text": [
      "NEW PAGE https://wikipesija.org/index.php?title=ilo:Lipu_ale&from=kulupu+jan+Sensine\n"
     ]
    },
    {
     "name": "stderr",
     "output_type": "stream",
     "text": [
      "2073it [1:22:47,  2.00s/it]"
     ]
    },
    {
     "name": "stdout",
     "output_type": "stream",
     "text": [
      "Error on https://wikipesija.org/wiki/kulupu_jan_Sonwa: None\n"
     ]
    },
    {
     "name": "stderr",
     "output_type": "stream",
     "text": [
      "2076it [1:22:51,  1.42s/it]"
     ]
    },
    {
     "name": "stdout",
     "output_type": "stream",
     "text": [
      "Error on https://wikipesija.org/wiki/kulupu_jan_Wa: None\n"
     ]
    },
    {
     "name": "stderr",
     "output_type": "stream",
     "text": [
      "2350it [1:32:29,  1.82s/it]"
     ]
    },
    {
     "name": "stdout",
     "output_type": "stream",
     "text": [
      "Error on https://wikipesija.org/wiki/lipu_Tanaka: None\n"
     ]
    },
    {
     "name": "stderr",
     "output_type": "stream",
     "text": [
      "2372it [1:33:30,  2.42s/it]"
     ]
    },
    {
     "name": "stdout",
     "output_type": "stream",
     "text": [
      "Error on https://wikipesija.org/wiki/lipu_Wikitata: None\n"
     ]
    },
    {
     "name": "stderr",
     "output_type": "stream",
     "text": [
      "2396it [1:34:05,  1.51s/it]"
     ]
    },
    {
     "name": "stdout",
     "output_type": "stream",
     "text": [
      "Error on https://wikipesija.org/wiki/lipu_open: None\n"
     ]
    },
    {
     "name": "stderr",
     "output_type": "stream",
     "text": [
      "2397it [1:34:07,  1.62s/it]"
     ]
    },
    {
     "name": "stdout",
     "output_type": "stream",
     "text": [
      "Error on https://wikipesija.org/wiki/lipu_open:ma_Tona: None\n"
     ]
    },
    {
     "name": "stderr",
     "output_type": "stream",
     "text": [
      "2398it [1:34:08,  1.40s/it]"
     ]
    },
    {
     "name": "stdout",
     "output_type": "stream",
     "text": [
      "Error on https://wikipesija.org/wiki/lipu_open:ma_Tona/kulupu: None\n"
     ]
    },
    {
     "name": "stderr",
     "output_type": "stream",
     "text": [
      "2405it [1:34:24,  1.81s/it]"
     ]
    },
    {
     "name": "stdout",
     "output_type": "stream",
     "text": [
      "Error on https://wikipesija.org/wiki/lipu_open:toki_pona: None\n"
     ]
    },
    {
     "name": "stderr",
     "output_type": "stream",
     "text": [
      "2407it [1:34:25,  1.27s/it]"
     ]
    },
    {
     "name": "stdout",
     "output_type": "stream",
     "text": [
      "Error on https://wikipesija.org/wiki/lipu_open:toki_pona/kulupu: None\n"
     ]
    },
    {
     "name": "stderr",
     "output_type": "stream",
     "text": [
      "2415it [1:34:42,  2.57s/it]"
     ]
    },
    {
     "name": "stdout",
     "output_type": "stream",
     "text": [
      "NEW PAGE https://wikipesija.org/index.php?title=ilo:Lipu_ale&from=lipu+pi+jan+Eja+Nasi\n"
     ]
    },
    {
     "name": "stderr",
     "output_type": "stream",
     "text": [
      "2445it [1:35:42,  1.90s/it]"
     ]
    },
    {
     "name": "stdout",
     "output_type": "stream",
     "text": [
      "Error on https://wikipesija.org/wiki/lipu_sona_TaNaKa: None\n"
     ]
    },
    {
     "name": "stderr",
     "output_type": "stream",
     "text": [
      "2493it [1:36:56,  1.85s/it]"
     ]
    },
    {
     "name": "stdout",
     "output_type": "stream",
     "text": [
      "Error on https://wikipesija.org/wiki/lupa_lipu:ma_Tona: None\n"
     ]
    },
    {
     "name": "stderr",
     "output_type": "stream",
     "text": [
      "2494it [1:36:57,  1.61s/it]"
     ]
    },
    {
     "name": "stdout",
     "output_type": "stream",
     "text": [
      "Error on https://wikipesija.org/wiki/lupa_lipu:toki_pona: None\n"
     ]
    },
    {
     "name": "stderr",
     "output_type": "stream",
     "text": [
      "2502it [1:37:11,  1.38s/it]"
     ]
    },
    {
     "name": "stdout",
     "output_type": "stream",
     "text": [
      "Error on https://wikipesija.org/wiki/ma: None\n"
     ]
    },
    {
     "name": "stderr",
     "output_type": "stream",
     "text": [
      "2679it [1:43:19,  1.07s/it]"
     ]
    },
    {
     "name": "stdout",
     "output_type": "stream",
     "text": [
      "Error on https://wikipesija.org/wiki/ma_Kalisija: None\n"
     ]
    },
    {
     "name": "stderr",
     "output_type": "stream",
     "text": [
      "2709it [1:44:20,  1.27s/it]"
     ]
    },
    {
     "name": "stdout",
     "output_type": "stream",
     "text": [
      "Error on https://wikipesija.org/wiki/ma_Kasaka: None\n"
     ]
    },
    {
     "name": "stderr",
     "output_type": "stream",
     "text": [
      "2710it [1:44:21,  1.12s/it]"
     ]
    },
    {
     "name": "stdout",
     "output_type": "stream",
     "text": [
      "Error on https://wikipesija.org/wiki/ma_Kasakatan: None\n"
     ]
    },
    {
     "name": "stderr",
     "output_type": "stream",
     "text": [
      "2760it [1:45:53,  1.45s/it]"
     ]
    },
    {
     "name": "stdout",
     "output_type": "stream",
     "text": [
      "NEW PAGE https://wikipesija.org/index.php?title=ilo:Lipu_ale&from=ma+Kiposi+pi+soto+suno\n"
     ]
    },
    {
     "name": "stderr",
     "output_type": "stream",
     "text": [
      "2818it [1:47:43,  1.69s/it]"
     ]
    },
    {
     "name": "stdout",
     "output_type": "stream",
     "text": [
      "Error on https://wikipesija.org/wiki/ma_Loma: None\n"
     ]
    },
    {
     "name": "stderr",
     "output_type": "stream",
     "text": [
      "2819it [1:47:44,  1.44s/it]"
     ]
    },
    {
     "name": "stdout",
     "output_type": "stream",
     "text": [
      "Error on https://wikipesija.org/wiki/ma_Loma_pi_tenpo_pini: None\n"
     ]
    },
    {
     "name": "stderr",
     "output_type": "stream",
     "text": [
      "2820it [1:47:45,  1.25s/it]"
     ]
    },
    {
     "name": "stdout",
     "output_type": "stream",
     "text": [
      "Error on https://wikipesija.org/wiki/ma_Loma_suli: None\n"
     ]
    },
    {
     "name": "stderr",
     "output_type": "stream",
     "text": [
      "2875it [1:49:41,  2.54s/it]"
     ]
    },
    {
     "name": "stdout",
     "output_type": "stream",
     "text": [
      "Error on https://wikipesija.org/wiki/ma_Mewika_en_ma_Sesesele_li_utala: None\n"
     ]
    },
    {
     "name": "stderr",
     "output_type": "stream",
     "text": [
      "2876it [1:49:42,  2.04s/it]"
     ]
    },
    {
     "name": "stdout",
     "output_type": "stream",
     "text": [
      "Error on https://wikipesija.org/wiki/ma_Mewika_en_ma_Sesesele_li_utala_lon_tenpo_suli_kepeken_moli_ala_kepeken_toki: None\n"
     ]
    },
    {
     "name": "stderr",
     "output_type": "stream",
     "text": [
      "2956it [1:52:02,  1.58s/it]"
     ]
    },
    {
     "name": "stdout",
     "output_type": "stream",
     "text": [
      "Error on https://wikipesija.org/wiki/ma_Omanije: None\n"
     ]
    },
    {
     "name": "stderr",
     "output_type": "stream",
     "text": [
      "2969it [1:52:24,  1.53s/it]"
     ]
    },
    {
     "name": "stdout",
     "output_type": "stream",
     "text": [
      "Error on https://wikipesija.org/wiki/ma_Osumanije: None\n"
     ]
    },
    {
     "name": "stderr",
     "output_type": "stream",
     "text": [
      "3006it [1:53:32,  1.64s/it]"
     ]
    },
    {
     "name": "stdout",
     "output_type": "stream",
     "text": [
      "Error on https://wikipesija.org/wiki/ma_Paten_Wetenpu: None\n"
     ]
    },
    {
     "name": "stderr",
     "output_type": "stream",
     "text": [
      "3007it [1:53:33,  1.39s/it]"
     ]
    },
    {
     "name": "stdout",
     "output_type": "stream",
     "text": [
      "Error on https://wikipesija.org/wiki/ma_Paten_Witenpe: None\n"
     ]
    },
    {
     "name": "stderr",
     "output_type": "stream",
     "text": [
      "3081it [1:55:54,  1.86s/it]"
     ]
    },
    {
     "name": "stdout",
     "output_type": "stream",
     "text": [
      "Error on https://wikipesija.org/wiki/ma_Sakalin: None\n"
     ]
    },
    {
     "name": "stderr",
     "output_type": "stream",
     "text": [
      "3105it [1:56:48,  2.16s/it]"
     ]
    },
    {
     "name": "stdout",
     "output_type": "stream",
     "text": [
      "NEW PAGE https://wikipesija.org/index.php?title=ilo:Lipu_ale&from=ma+Sapi\n"
     ]
    },
    {
     "name": "stderr",
     "output_type": "stream",
     "text": [
      "3204it [2:00:29,  1.83s/it]"
     ]
    },
    {
     "name": "stdout",
     "output_type": "stream",
     "text": [
      "Error on https://wikipesija.org/wiki/ma_Sumatela: None\n"
     ]
    },
    {
     "name": "stderr",
     "output_type": "stream",
     "text": [
      "3234it [2:01:08,  1.31s/it]"
     ]
    },
    {
     "name": "stdout",
     "output_type": "stream",
     "text": [
      "Error on https://wikipesija.org/wiki/ma_Tela: None\n"
     ]
    },
    {
     "name": "stderr",
     "output_type": "stream",
     "text": [
      "3313it [2:03:26,  1.55s/it]"
     ]
    },
    {
     "name": "stdout",
     "output_type": "stream",
     "text": [
      "Error on https://wikipesija.org/wiki/ma_ale: None\n"
     ]
    },
    {
     "name": "stderr",
     "output_type": "stream",
     "text": [
      "3316it [2:03:30,  1.29s/it]"
     ]
    },
    {
     "name": "stdout",
     "output_type": "stream",
     "text": [
      "Error on https://wikipesija.org/wiki/ma_ali: None\n"
     ]
    },
    {
     "name": "stderr",
     "output_type": "stream",
     "text": [
      "3319it [2:03:39,  2.81s/it]"
     ]
    },
    {
     "name": "stdout",
     "output_type": "stream",
     "text": [
      "Error on https://wikipesija.org/wiki/ma_esun_pi_jan_monsuta_Kolin: None\n"
     ]
    },
    {
     "name": "stderr",
     "output_type": "stream",
     "text": [
      "3332it [2:04:11,  2.07s/it]"
     ]
    },
    {
     "name": "stdout",
     "output_type": "stream",
     "text": [
      "Error on https://wikipesija.org/wiki/ma_lawa_suli_Tuki: None\n"
     ]
    },
    {
     "name": "stderr",
     "output_type": "stream",
     "text": [
      "3432it [2:06:21,  1.23s/it]"
     ]
    },
    {
     "name": "stdout",
     "output_type": "stream",
     "text": [
      "Error on https://wikipesija.org/wiki/ma_sike_Tela: None\n"
     ]
    },
    {
     "name": "stderr",
     "output_type": "stream",
     "text": [
      "3436it [2:06:24,  1.13it/s]"
     ]
    },
    {
     "name": "stdout",
     "output_type": "stream",
     "text": [
      "Error on https://wikipesija.org/wiki/ma_suli: None\n"
     ]
    },
    {
     "name": "stderr",
     "output_type": "stream",
     "text": [
      "3439it [2:06:27,  1.18it/s]"
     ]
    },
    {
     "name": "stdout",
     "output_type": "stream",
     "text": [
      "Error on https://wikipesija.org/wiki/ma_suli_Loma: None\n"
     ]
    },
    {
     "name": "stderr",
     "output_type": "stream",
     "text": [
      "3441it [2:06:31,  1.55s/it]"
     ]
    },
    {
     "name": "stdout",
     "output_type": "stream",
     "text": [
      "Error on https://wikipesija.org/wiki/ma_suli_Osoman: None\n"
     ]
    },
    {
     "name": "stderr",
     "output_type": "stream",
     "text": [
      "3450it [2:07:06,  2.83s/it]"
     ]
    },
    {
     "name": "stdout",
     "output_type": "stream",
     "text": [
      "NEW PAGE https://wikipesija.org/index.php?title=ilo:Lipu_ale&from=ma+telo+Lipuka\n"
     ]
    },
    {
     "name": "stderr",
     "output_type": "stream",
     "text": [
      "3457it [2:07:23,  1.90s/it]"
     ]
    },
    {
     "name": "stdout",
     "output_type": "stream",
     "text": [
      "Error on https://wikipesija.org/wiki/ma_telo_Nosensine: None\n"
     ]
    },
    {
     "name": "stderr",
     "output_type": "stream",
     "text": [
      "3461it [2:07:30,  1.69s/it]"
     ]
    },
    {
     "name": "stdout",
     "output_type": "stream",
     "text": [
      "Error on https://wikipesija.org/wiki/ma_telo_Sumala: None\n"
     ]
    },
    {
     "name": "stderr",
     "output_type": "stream",
     "text": [
      "3462it [2:07:30,  1.39s/it]"
     ]
    },
    {
     "name": "stdout",
     "output_type": "stream",
     "text": [
      "Error on https://wikipesija.org/wiki/ma_telo_Sumata: None\n"
     ]
    },
    {
     "name": "stderr",
     "output_type": "stream",
     "text": [
      "3795it [2:20:59,  3.05s/it]"
     ]
    },
    {
     "name": "stdout",
     "output_type": "stream",
     "text": [
      "NEW PAGE https://wikipesija.org/index.php?title=ilo:Lipu_ale&from=ma+tomo+Tipa\n"
     ]
    },
    {
     "name": "stderr",
     "output_type": "stream",
     "text": [
      "3967it [2:29:04,  1.89s/it]"
     ]
    },
    {
     "name": "stdout",
     "output_type": "stream",
     "text": [
      "Error on https://wikipesija.org/wiki/mun_mi: None\n"
     ]
    },
    {
     "name": "stderr",
     "output_type": "stream",
     "text": [
      "3991it [2:29:37,  1.01s/it]"
     ]
    },
    {
     "name": "stdout",
     "output_type": "stream",
     "text": [
      "Error on https://wikipesija.org/wiki/musi_Kiwen_Lipu_Kipisi: None\n"
     ]
    },
    {
     "name": "stderr",
     "output_type": "stream",
     "text": [
      "4056it [2:31:14,  1.15it/s]"
     ]
    },
    {
     "name": "stdout",
     "output_type": "stream",
     "text": [
      "Error on https://wikipesija.org/wiki/musi_pi_kiwen_en_lipu_en_ilo_kipisi: None\n"
     ]
    },
    {
     "name": "stderr",
     "output_type": "stream",
     "text": [
      "4113it [2:32:40,  2.66s/it]"
     ]
    },
    {
     "name": "stdout",
     "output_type": "stream",
     "text": [
      "Error on https://wikipesija.org/wiki/nanpa_wan: None\n"
     ]
    },
    {
     "name": "stderr",
     "output_type": "stream",
     "text": [
      "4140it [2:33:41,  1.74s/it]"
     ]
    },
    {
     "name": "stdout",
     "output_type": "stream",
     "text": [
      "NEW PAGE https://wikipesija.org/index.php?title=ilo:Lipu_ale&from=nasin+ijo\n"
     ]
    },
    {
     "name": "stderr",
     "output_type": "stream",
     "text": [
      "4356it [2:40:30,  1.27s/it]"
     ]
    },
    {
     "name": "stdout",
     "output_type": "stream",
     "text": [
      "Error on https://wikipesija.org/wiki/nimi_ale_pi_toki_pona_kepeken_toki_Epanja: None\n"
     ]
    },
    {
     "name": "stderr",
     "output_type": "stream",
     "text": [
      "4357it [2:40:31,  1.18s/it]"
     ]
    },
    {
     "name": "stdout",
     "output_type": "stream",
     "text": [
      "Error on https://wikipesija.org/wiki/nimi_ale_pi_toki_pona_kepeken_toki_Epano: None\n"
     ]
    },
    {
     "name": "stderr",
     "output_type": "stream",
     "text": [
      "4359it [2:40:33,  1.15s/it]"
     ]
    },
    {
     "name": "stdout",
     "output_type": "stream",
     "text": [
      "Error on https://wikipesija.org/wiki/nimi_ale_pi_toki_pona_lon_toki_Epano: None\n"
     ]
    },
    {
     "name": "stderr",
     "output_type": "stream",
     "text": [
      "4485it [2:45:04,  3.19s/it]"
     ]
    },
    {
     "name": "stdout",
     "output_type": "stream",
     "text": [
      "NEW PAGE https://wikipesija.org/index.php?title=ilo:Lipu_ale&from=poki+mani\n"
     ]
    },
    {
     "name": "stderr",
     "output_type": "stream",
     "text": [
      "4513it [2:45:49,  1.51s/it]"
     ]
    },
    {
     "name": "stdout",
     "output_type": "stream",
     "text": [
      "Error on https://wikipesija.org/wiki/selo_ma: None\n"
     ]
    },
    {
     "name": "stderr",
     "output_type": "stream",
     "text": [
      "4558it [2:47:08,  3.09s/it]"
     ]
    },
    {
     "name": "stdout",
     "output_type": "stream",
     "text": [
      "Error on https://wikipesija.org/wiki/sike_telo_Paka: None\n"
     ]
    },
    {
     "name": "stderr",
     "output_type": "stream",
     "text": [
      "4610it [2:49:13,  1.46s/it]"
     ]
    },
    {
     "name": "stdout",
     "output_type": "stream",
     "text": [
      "Error on https://wikipesija.org/wiki/sitelen_Sinkeki_No_Kosin: None\n"
     ]
    },
    {
     "name": "stderr",
     "output_type": "stream",
     "text": [
      "4679it [2:51:16,  2.36s/it]"
     ]
    },
    {
     "name": "stdout",
     "output_type": "stream",
     "text": [
      "Error on https://wikipesija.org/wiki/sitelen_tawa_Neon_Kenesis_Ewankelion: None\n"
     ]
    },
    {
     "name": "stderr",
     "output_type": "stream",
     "text": [
      "4681it [2:51:18,  1.55s/it]"
     ]
    },
    {
     "name": "stdout",
     "output_type": "stream",
     "text": [
      "Error on https://wikipesija.org/wiki/sitelen_tawa_Nijan_Senesi_Ewankelijan: None\n"
     ]
    },
    {
     "name": "stderr",
     "output_type": "stream",
     "text": [
      "4707it [2:52:01,  1.08it/s]"
     ]
    },
    {
     "name": "stdout",
     "output_type": "stream",
     "text": [
      "Error on https://wikipesija.org/wiki/sitelen_tawa_utala_pi_jan_suli: None\n"
     ]
    },
    {
     "name": "stderr",
     "output_type": "stream",
     "text": [
      "4769it [2:53:35,  1.68s/it]"
     ]
    },
    {
     "name": "stdout",
     "output_type": "stream",
     "text": [
      "Error on https://wikipesija.org/wiki/soweli_Pu: None\n"
     ]
    },
    {
     "name": "stderr",
     "output_type": "stream",
     "text": [
      "4771it [2:53:38,  1.48s/it]"
     ]
    },
    {
     "name": "stdout",
     "output_type": "stream",
     "text": [
      "Error on https://wikipesija.org/wiki/soweli_Wini_Pu: None\n"
     ]
    },
    {
     "name": "stderr",
     "output_type": "stream",
     "text": [
      "4830it [2:55:20,  2.87s/it]"
     ]
    },
    {
     "name": "stdout",
     "output_type": "stream",
     "text": [
      "NEW PAGE https://wikipesija.org/index.php?title=ilo:Lipu_ale&from=supa+ma\n"
     ]
    },
    {
     "name": "stderr",
     "output_type": "stream",
     "text": [
      "4931it [2:58:21,  1.06it/s]"
     ]
    },
    {
     "name": "stdout",
     "output_type": "stream",
     "text": [
      "Error on https://wikipesija.org/wiki/telo_suli_Paka: None\n"
     ]
    },
    {
     "name": "stderr",
     "output_type": "stream",
     "text": [
      "4937it [2:58:28,  1.03it/s]"
     ]
    },
    {
     "name": "stdout",
     "output_type": "stream",
     "text": [
      "Error on https://wikipesija.org/wiki/telo_suli_Pikala: None\n"
     ]
    },
    {
     "name": "stderr",
     "output_type": "stream",
     "text": [
      "4947it [2:58:49,  1.61s/it]"
     ]
    },
    {
     "name": "stdout",
     "output_type": "stream",
     "text": [
      "Error on https://wikipesija.org/wiki/telo_suli_sike_Paka: None\n"
     ]
    },
    {
     "name": "stderr",
     "output_type": "stream",
     "text": [
      "5144it [3:04:13,  1.04it/s]"
     ]
    },
    {
     "name": "stdout",
     "output_type": "stream",
     "text": [
      "Error on https://wikipesija.org/wiki/toki_Kasasan: None\n"
     ]
    },
    {
     "name": "stderr",
     "output_type": "stream",
     "text": [
      "5175it [3:04:49,  1.04it/s]"
     ]
    },
    {
     "name": "stdout",
     "output_type": "stream",
     "text": [
      "NEW PAGE https://wikipesija.org/index.php?title=ilo:Lipu_ale&from=toki+Kowi\n"
     ]
    },
    {
     "name": "stderr",
     "output_type": "stream",
     "text": [
      "5224it [3:05:46,  1.16s/it]"
     ]
    },
    {
     "name": "stdout",
     "output_type": "stream",
     "text": [
      "Error on https://wikipesija.org/wiki/toki_Malajalan: None\n"
     ]
    },
    {
     "name": "stderr",
     "output_type": "stream",
     "text": [
      "5301it [3:07:27,  1.49s/it]"
     ]
    },
    {
     "name": "stdout",
     "output_type": "stream",
     "text": [
      "Error on https://wikipesija.org/wiki/toki_Sankita: None\n"
     ]
    },
    {
     "name": "stderr",
     "output_type": "stream",
     "text": [
      "5303it [3:07:28,  1.18s/it]"
     ]
    },
    {
     "name": "stdout",
     "output_type": "stream",
     "text": [
      "Error on https://wikipesija.org/wiki/toki_Sansekita: None\n"
     ]
    },
    {
     "name": "stderr",
     "output_type": "stream",
     "text": [
      "5352it [3:08:30,  1.23s/it]"
     ]
    },
    {
     "name": "stdout",
     "output_type": "stream",
     "text": [
      "Error on https://wikipesija.org/wiki/toki_Tona: None\n"
     ]
    },
    {
     "name": "stderr",
     "output_type": "stream",
     "text": [
      "5520it [3:12:50,  2.68s/it]"
     ]
    },
    {
     "name": "stdout",
     "output_type": "stream",
     "text": [
      "NEW PAGE https://wikipesija.org/index.php?title=ilo:Lipu_ale&from=tomo+tawa+waso\n"
     ]
    },
    {
     "name": "stderr",
     "output_type": "stream",
     "text": [
      "5564it [3:13:57,  1.96s/it]"
     ]
    },
    {
     "name": "stdout",
     "output_type": "stream",
     "text": [
      "Error on https://wikipesija.org/wiki/utala_lete: None\n"
     ]
    },
    {
     "name": "stderr",
     "output_type": "stream",
     "text": [
      "5714it [3:19:38,  2.22s/it]"
     ]
    },
    {
     "name": "stdout",
     "output_type": "stream",
     "text": [
      "NEW PAGE https://wikipesija.org/index.php?title=ilo:Lipu_ale&from=toki+Kowi\n"
     ]
    },
    {
     "name": "stderr",
     "output_type": "stream",
     "text": [
      "5763it [3:20:37,  1.27s/it]"
     ]
    },
    {
     "name": "stdout",
     "output_type": "stream",
     "text": [
      "Error on https://wikipesija.org/wiki/toki_Malajalan: None\n"
     ]
    },
    {
     "name": "stderr",
     "output_type": "stream",
     "text": [
      "5840it [3:22:05,  1.46s/it]"
     ]
    },
    {
     "name": "stdout",
     "output_type": "stream",
     "text": [
      "Error on https://wikipesija.org/wiki/toki_Sankita: None\n"
     ]
    },
    {
     "name": "stderr",
     "output_type": "stream",
     "text": [
      "5842it [3:22:07,  1.19s/it]"
     ]
    },
    {
     "name": "stdout",
     "output_type": "stream",
     "text": [
      "Error on https://wikipesija.org/wiki/toki_Sansekita: None\n"
     ]
    },
    {
     "name": "stderr",
     "output_type": "stream",
     "text": [
      "5891it [3:23:03,  1.27s/it]"
     ]
    },
    {
     "name": "stdout",
     "output_type": "stream",
     "text": [
      "Error on https://wikipesija.org/wiki/toki_Tona: None\n"
     ]
    },
    {
     "name": "stderr",
     "output_type": "stream",
     "text": [
      "6059it [3:26:52,  1.66s/it]"
     ]
    },
    {
     "name": "stdout",
     "output_type": "stream",
     "text": [
      "NEW PAGE https://wikipesija.org/index.php?title=ilo:Lipu_ale&from=tomo+tawa+waso\n"
     ]
    },
    {
     "name": "stderr",
     "output_type": "stream",
     "text": [
      "6103it [3:27:46,  1.78s/it]"
     ]
    },
    {
     "name": "stdout",
     "output_type": "stream",
     "text": [
      "Error on https://wikipesija.org/wiki/utala_lete: None\n"
     ]
    },
    {
     "name": "stderr",
     "output_type": "stream",
     "text": [
      "6253it [3:30:07,  1.35it/s]"
     ]
    },
    {
     "name": "stdout",
     "output_type": "stream",
     "text": [
      "NEW PAGE https://wikipesija.org/index.php?title=ilo:Lipu_ale&from=toki+Kowi\n"
     ]
    },
    {
     "name": "stderr",
     "output_type": "stream",
     "text": [
      "6302it [3:30:47,  1.21it/s]"
     ]
    },
    {
     "name": "stdout",
     "output_type": "stream",
     "text": [
      "Error on https://wikipesija.org/wiki/toki_Malajalan: None\n"
     ]
    },
    {
     "name": "stderr",
     "output_type": "stream",
     "text": [
      "6379it [3:31:48,  1.09it/s]"
     ]
    },
    {
     "name": "stdout",
     "output_type": "stream",
     "text": [
      "Error on https://wikipesija.org/wiki/toki_Sankita: None\n"
     ]
    },
    {
     "name": "stderr",
     "output_type": "stream",
     "text": [
      "6381it [3:31:50,  1.08it/s]"
     ]
    },
    {
     "name": "stdout",
     "output_type": "stream",
     "text": [
      "Error on https://wikipesija.org/wiki/toki_Sansekita: None\n"
     ]
    },
    {
     "name": "stderr",
     "output_type": "stream",
     "text": [
      "6430it [3:32:29,  1.23it/s]"
     ]
    },
    {
     "name": "stdout",
     "output_type": "stream",
     "text": [
      "Error on https://wikipesija.org/wiki/toki_Tona: None\n"
     ]
    },
    {
     "name": "stderr",
     "output_type": "stream",
     "text": [
      "6598it [3:34:39,  1.32it/s]"
     ]
    },
    {
     "name": "stdout",
     "output_type": "stream",
     "text": [
      "NEW PAGE https://wikipesija.org/index.php?title=ilo:Lipu_ale&from=tomo+tawa+waso\n"
     ]
    },
    {
     "name": "stderr",
     "output_type": "stream",
     "text": [
      "6642it [3:35:15,  1.17it/s]"
     ]
    },
    {
     "name": "stdout",
     "output_type": "stream",
     "text": [
      "Error on https://wikipesija.org/wiki/utala_lete: None\n"
     ]
    },
    {
     "name": "stderr",
     "output_type": "stream",
     "text": [
      "6792it [3:37:11,  1.26it/s]"
     ]
    },
    {
     "name": "stdout",
     "output_type": "stream",
     "text": [
      "NEW PAGE https://wikipesija.org/index.php?title=ilo:Lipu_ale&from=toki+Kowi\n"
     ]
    },
    {
     "name": "stderr",
     "output_type": "stream",
     "text": [
      "6841it [3:37:59,  1.14it/s]"
     ]
    },
    {
     "name": "stdout",
     "output_type": "stream",
     "text": [
      "Error on https://wikipesija.org/wiki/toki_Malajalan: None\n"
     ]
    },
    {
     "name": "stderr",
     "output_type": "stream",
     "text": [
      "6918it [3:39:01,  1.16it/s]"
     ]
    },
    {
     "name": "stdout",
     "output_type": "stream",
     "text": [
      "Error on https://wikipesija.org/wiki/toki_Sankita: None\n"
     ]
    },
    {
     "name": "stderr",
     "output_type": "stream",
     "text": [
      "6920it [3:39:03,  1.09it/s]"
     ]
    },
    {
     "name": "stdout",
     "output_type": "stream",
     "text": [
      "Error on https://wikipesija.org/wiki/toki_Sansekita: None\n"
     ]
    },
    {
     "name": "stderr",
     "output_type": "stream",
     "text": [
      "6969it [3:39:43,  1.13it/s]"
     ]
    },
    {
     "name": "stdout",
     "output_type": "stream",
     "text": [
      "Error on https://wikipesija.org/wiki/toki_Tona: None\n"
     ]
    },
    {
     "name": "stderr",
     "output_type": "stream",
     "text": [
      "7137it [3:41:57,  1.27it/s]"
     ]
    },
    {
     "name": "stdout",
     "output_type": "stream",
     "text": [
      "NEW PAGE https://wikipesija.org/index.php?title=ilo:Lipu_ale&from=tomo+tawa+waso\n"
     ]
    },
    {
     "name": "stderr",
     "output_type": "stream",
     "text": [
      "7181it [3:42:32,  1.20it/s]"
     ]
    },
    {
     "name": "stdout",
     "output_type": "stream",
     "text": [
      "Error on https://wikipesija.org/wiki/utala_lete: None\n"
     ]
    },
    {
     "name": "stderr",
     "output_type": "stream",
     "text": [
      "7331it [3:44:30,  1.31it/s]"
     ]
    },
    {
     "name": "stdout",
     "output_type": "stream",
     "text": [
      "NEW PAGE https://wikipesija.org/index.php?title=ilo:Lipu_ale&from=toki+Kowi\n"
     ]
    },
    {
     "name": "stderr",
     "output_type": "stream",
     "text": [
      "7380it [3:45:09,  1.26it/s]"
     ]
    },
    {
     "name": "stdout",
     "output_type": "stream",
     "text": [
      "Error on https://wikipesija.org/wiki/toki_Malajalan: None\n"
     ]
    },
    {
     "name": "stderr",
     "output_type": "stream",
     "text": [
      "7457it [3:46:10,  1.12it/s]"
     ]
    },
    {
     "name": "stdout",
     "output_type": "stream",
     "text": [
      "Error on https://wikipesija.org/wiki/toki_Sankita: None\n"
     ]
    },
    {
     "name": "stderr",
     "output_type": "stream",
     "text": [
      "7459it [3:46:12,  1.04it/s]"
     ]
    },
    {
     "name": "stdout",
     "output_type": "stream",
     "text": [
      "Error on https://wikipesija.org/wiki/toki_Sansekita: None\n"
     ]
    },
    {
     "name": "stderr",
     "output_type": "stream",
     "text": [
      "7508it [3:46:50,  1.24it/s]"
     ]
    },
    {
     "name": "stdout",
     "output_type": "stream",
     "text": [
      "Error on https://wikipesija.org/wiki/toki_Tona: None\n"
     ]
    },
    {
     "name": "stderr",
     "output_type": "stream",
     "text": [
      "7676it [3:49:03,  1.28it/s]"
     ]
    },
    {
     "name": "stdout",
     "output_type": "stream",
     "text": [
      "NEW PAGE https://wikipesija.org/index.php?title=ilo:Lipu_ale&from=tomo+tawa+waso\n"
     ]
    },
    {
     "name": "stderr",
     "output_type": "stream",
     "text": [
      "7720it [3:49:41,  1.06it/s]"
     ]
    },
    {
     "name": "stdout",
     "output_type": "stream",
     "text": [
      "Error on https://wikipesija.org/wiki/utala_lete: None\n"
     ]
    },
    {
     "name": "stderr",
     "output_type": "stream",
     "text": [
      "7870it [3:51:38,  1.29it/s]"
     ]
    },
    {
     "name": "stdout",
     "output_type": "stream",
     "text": [
      "NEW PAGE https://wikipesija.org/index.php?title=ilo:Lipu_ale&from=toki+Kowi\n"
     ]
    },
    {
     "name": "stderr",
     "output_type": "stream",
     "text": [
      "7919it [3:52:19,  1.22it/s]"
     ]
    },
    {
     "name": "stdout",
     "output_type": "stream",
     "text": [
      "Error on https://wikipesija.org/wiki/toki_Malajalan: None\n"
     ]
    },
    {
     "name": "stderr",
     "output_type": "stream",
     "text": [
      "7996it [3:53:23,  1.16it/s]"
     ]
    },
    {
     "name": "stdout",
     "output_type": "stream",
     "text": [
      "Error on https://wikipesija.org/wiki/toki_Sankita: None\n"
     ]
    },
    {
     "name": "stderr",
     "output_type": "stream",
     "text": [
      "7998it [3:53:24,  1.15it/s]"
     ]
    },
    {
     "name": "stdout",
     "output_type": "stream",
     "text": [
      "Error on https://wikipesija.org/wiki/toki_Sansekita: None\n"
     ]
    },
    {
     "name": "stderr",
     "output_type": "stream",
     "text": [
      "8047it [3:54:03,  1.32it/s]"
     ]
    },
    {
     "name": "stdout",
     "output_type": "stream",
     "text": [
      "Error on https://wikipesija.org/wiki/toki_Tona: None\n"
     ]
    },
    {
     "name": "stderr",
     "output_type": "stream",
     "text": [
      "8215it [3:56:17,  1.31it/s]"
     ]
    },
    {
     "name": "stdout",
     "output_type": "stream",
     "text": [
      "NEW PAGE https://wikipesija.org/index.php?title=ilo:Lipu_ale&from=tomo+tawa+waso\n"
     ]
    },
    {
     "name": "stderr",
     "output_type": "stream",
     "text": [
      "8259it [3:56:54,  1.12it/s]"
     ]
    },
    {
     "name": "stdout",
     "output_type": "stream",
     "text": [
      "Error on https://wikipesija.org/wiki/utala_lete: None\n"
     ]
    },
    {
     "name": "stderr",
     "output_type": "stream",
     "text": [
      "8409it [3:59:02,  1.32it/s]"
     ]
    },
    {
     "name": "stdout",
     "output_type": "stream",
     "text": [
      "NEW PAGE https://wikipesija.org/index.php?title=ilo:Lipu_ale&from=toki+Kowi\n"
     ]
    },
    {
     "name": "stderr",
     "output_type": "stream",
     "text": [
      "8458it [3:59:44,  1.28it/s]"
     ]
    },
    {
     "name": "stdout",
     "output_type": "stream",
     "text": [
      "Error on https://wikipesija.org/wiki/toki_Malajalan: None\n"
     ]
    },
    {
     "name": "stderr",
     "output_type": "stream",
     "text": [
      "8535it [4:00:45,  1.05it/s]"
     ]
    },
    {
     "name": "stdout",
     "output_type": "stream",
     "text": [
      "Error on https://wikipesija.org/wiki/toki_Sankita: None\n"
     ]
    },
    {
     "name": "stderr",
     "output_type": "stream",
     "text": [
      "8537it [4:00:48,  1.08s/it]"
     ]
    },
    {
     "name": "stdout",
     "output_type": "stream",
     "text": [
      "Error on https://wikipesija.org/wiki/toki_Sansekita: None\n"
     ]
    },
    {
     "name": "stderr",
     "output_type": "stream",
     "text": [
      "8586it [4:01:30,  1.32it/s]"
     ]
    },
    {
     "name": "stdout",
     "output_type": "stream",
     "text": [
      "Error on https://wikipesija.org/wiki/toki_Tona: None\n"
     ]
    },
    {
     "name": "stderr",
     "output_type": "stream",
     "text": [
      "8754it [4:03:42,  1.32it/s]"
     ]
    },
    {
     "name": "stdout",
     "output_type": "stream",
     "text": [
      "NEW PAGE https://wikipesija.org/index.php?title=ilo:Lipu_ale&from=tomo+tawa+waso\n"
     ]
    },
    {
     "name": "stderr",
     "output_type": "stream",
     "text": [
      "8798it [4:04:18,  1.20it/s]"
     ]
    },
    {
     "name": "stdout",
     "output_type": "stream",
     "text": [
      "Error on https://wikipesija.org/wiki/utala_lete: None\n"
     ]
    },
    {
     "name": "stderr",
     "output_type": "stream",
     "text": [
      "8948it [4:06:14,  1.33it/s]"
     ]
    },
    {
     "name": "stdout",
     "output_type": "stream",
     "text": [
      "NEW PAGE https://wikipesija.org/index.php?title=ilo:Lipu_ale&from=toki+Kowi\n"
     ]
    },
    {
     "name": "stderr",
     "output_type": "stream",
     "text": [
      "8997it [4:06:54,  1.21it/s]"
     ]
    },
    {
     "name": "stdout",
     "output_type": "stream",
     "text": [
      "Error on https://wikipesija.org/wiki/toki_Malajalan: None\n"
     ]
    },
    {
     "name": "stderr",
     "output_type": "stream",
     "text": [
      "9074it [4:07:55,  1.10it/s]"
     ]
    },
    {
     "name": "stdout",
     "output_type": "stream",
     "text": [
      "Error on https://wikipesija.org/wiki/toki_Sankita: None\n"
     ]
    },
    {
     "name": "stderr",
     "output_type": "stream",
     "text": [
      "9076it [4:07:57,  1.13it/s]"
     ]
    },
    {
     "name": "stdout",
     "output_type": "stream",
     "text": [
      "Error on https://wikipesija.org/wiki/toki_Sansekita: None\n"
     ]
    },
    {
     "name": "stderr",
     "output_type": "stream",
     "text": [
      "9125it [4:08:37,  1.22it/s]"
     ]
    },
    {
     "name": "stdout",
     "output_type": "stream",
     "text": [
      "Error on https://wikipesija.org/wiki/toki_Tona: None\n"
     ]
    },
    {
     "name": "stderr",
     "output_type": "stream",
     "text": [
      "9293it [4:10:52,  1.27it/s]"
     ]
    },
    {
     "name": "stdout",
     "output_type": "stream",
     "text": [
      "NEW PAGE https://wikipesija.org/index.php?title=ilo:Lipu_ale&from=tomo+tawa+waso\n"
     ]
    },
    {
     "name": "stderr",
     "output_type": "stream",
     "text": [
      "9337it [4:11:28,  1.15it/s]"
     ]
    },
    {
     "name": "stdout",
     "output_type": "stream",
     "text": [
      "Error on https://wikipesija.org/wiki/utala_lete: None\n"
     ]
    },
    {
     "name": "stderr",
     "output_type": "stream",
     "text": [
      "9487it [4:13:25,  1.22it/s]"
     ]
    },
    {
     "name": "stdout",
     "output_type": "stream",
     "text": [
      "NEW PAGE https://wikipesija.org/index.php?title=ilo:Lipu_ale&from=toki+Kowi\n"
     ]
    },
    {
     "name": "stderr",
     "output_type": "stream",
     "text": [
      "9536it [4:14:05,  1.20it/s]"
     ]
    },
    {
     "name": "stdout",
     "output_type": "stream",
     "text": [
      "Error on https://wikipesija.org/wiki/toki_Malajalan: None\n"
     ]
    },
    {
     "name": "stderr",
     "output_type": "stream",
     "text": [
      "9613it [4:15:23,  1.09s/it]"
     ]
    },
    {
     "name": "stdout",
     "output_type": "stream",
     "text": [
      "Error on https://wikipesija.org/wiki/toki_Sankita: None\n"
     ]
    },
    {
     "name": "stderr",
     "output_type": "stream",
     "text": [
      "9615it [4:15:25,  1.06s/it]"
     ]
    },
    {
     "name": "stdout",
     "output_type": "stream",
     "text": [
      "Error on https://wikipesija.org/wiki/toki_Sansekita: None\n"
     ]
    },
    {
     "name": "stderr",
     "output_type": "stream",
     "text": [
      "9664it [4:16:03,  1.24it/s]"
     ]
    },
    {
     "name": "stdout",
     "output_type": "stream",
     "text": [
      "Error on https://wikipesija.org/wiki/toki_Tona: None\n"
     ]
    },
    {
     "name": "stderr",
     "output_type": "stream",
     "text": [
      "9832it [4:18:17,  1.25it/s]"
     ]
    },
    {
     "name": "stdout",
     "output_type": "stream",
     "text": [
      "NEW PAGE https://wikipesija.org/index.php?title=ilo:Lipu_ale&from=tomo+tawa+waso\n"
     ]
    },
    {
     "name": "stderr",
     "output_type": "stream",
     "text": [
      "9876it [4:19:01,  1.08it/s]"
     ]
    },
    {
     "name": "stdout",
     "output_type": "stream",
     "text": [
      "Error on https://wikipesija.org/wiki/utala_lete: None\n"
     ]
    },
    {
     "name": "stderr",
     "output_type": "stream",
     "text": [
      "10026it [4:21:14,  1.21it/s]"
     ]
    },
    {
     "name": "stdout",
     "output_type": "stream",
     "text": [
      "NEW PAGE https://wikipesija.org/index.php?title=ilo:Lipu_ale&from=toki+Kowi\n"
     ]
    },
    {
     "name": "stderr",
     "output_type": "stream",
     "text": [
      "10075it [4:21:55,  1.25it/s]"
     ]
    },
    {
     "name": "stdout",
     "output_type": "stream",
     "text": [
      "Error on https://wikipesija.org/wiki/toki_Malajalan: None\n"
     ]
    },
    {
     "name": "stderr",
     "output_type": "stream",
     "text": [
      "10152it [4:22:57,  1.18it/s]"
     ]
    },
    {
     "name": "stdout",
     "output_type": "stream",
     "text": [
      "Error on https://wikipesija.org/wiki/toki_Sankita: None\n"
     ]
    },
    {
     "name": "stderr",
     "output_type": "stream",
     "text": [
      "10154it [4:22:59,  1.13it/s]"
     ]
    },
    {
     "name": "stdout",
     "output_type": "stream",
     "text": [
      "Error on https://wikipesija.org/wiki/toki_Sansekita: None\n"
     ]
    },
    {
     "name": "stderr",
     "output_type": "stream",
     "text": [
      "10203it [4:23:37,  1.26it/s]"
     ]
    },
    {
     "name": "stdout",
     "output_type": "stream",
     "text": [
      "Error on https://wikipesija.org/wiki/toki_Tona: None\n"
     ]
    },
    {
     "name": "stderr",
     "output_type": "stream",
     "text": [
      "10371it [4:25:48,  1.31it/s]"
     ]
    },
    {
     "name": "stdout",
     "output_type": "stream",
     "text": [
      "NEW PAGE https://wikipesija.org/index.php?title=ilo:Lipu_ale&from=tomo+tawa+waso\n"
     ]
    },
    {
     "name": "stderr",
     "output_type": "stream",
     "text": [
      "10415it [4:26:25,  1.18it/s]"
     ]
    },
    {
     "name": "stdout",
     "output_type": "stream",
     "text": [
      "Error on https://wikipesija.org/wiki/utala_lete: None\n"
     ]
    },
    {
     "name": "stderr",
     "output_type": "stream",
     "text": [
      "10565it [4:28:24,  1.30it/s]"
     ]
    },
    {
     "name": "stdout",
     "output_type": "stream",
     "text": [
      "NEW PAGE https://wikipesija.org/index.php?title=ilo:Lipu_ale&from=toki+Kowi\n"
     ]
    },
    {
     "name": "stderr",
     "output_type": "stream",
     "text": [
      "10614it [4:29:09,  1.19it/s]"
     ]
    },
    {
     "name": "stdout",
     "output_type": "stream",
     "text": [
      "Error on https://wikipesija.org/wiki/toki_Malajalan: None\n"
     ]
    },
    {
     "name": "stderr",
     "output_type": "stream",
     "text": [
      "10691it [4:30:11,  1.15it/s]"
     ]
    },
    {
     "name": "stdout",
     "output_type": "stream",
     "text": [
      "Error on https://wikipesija.org/wiki/toki_Sankita: None\n"
     ]
    },
    {
     "name": "stderr",
     "output_type": "stream",
     "text": [
      "10693it [4:30:13,  1.08it/s]"
     ]
    },
    {
     "name": "stdout",
     "output_type": "stream",
     "text": [
      "Error on https://wikipesija.org/wiki/toki_Sansekita: None\n"
     ]
    },
    {
     "name": "stderr",
     "output_type": "stream",
     "text": [
      "10742it [4:30:54,  1.17it/s]"
     ]
    },
    {
     "name": "stdout",
     "output_type": "stream",
     "text": [
      "Error on https://wikipesija.org/wiki/toki_Tona: None\n"
     ]
    },
    {
     "name": "stderr",
     "output_type": "stream",
     "text": [
      "10910it [4:33:13,  1.24it/s]"
     ]
    },
    {
     "name": "stdout",
     "output_type": "stream",
     "text": [
      "NEW PAGE https://wikipesija.org/index.php?title=ilo:Lipu_ale&from=tomo+tawa+waso\n"
     ]
    },
    {
     "name": "stderr",
     "output_type": "stream",
     "text": [
      "10954it [4:33:48,  1.25it/s]"
     ]
    },
    {
     "name": "stdout",
     "output_type": "stream",
     "text": [
      "Error on https://wikipesija.org/wiki/utala_lete: None\n"
     ]
    },
    {
     "name": "stderr",
     "output_type": "stream",
     "text": [
      "11104it [4:35:45,  1.35it/s]"
     ]
    },
    {
     "name": "stdout",
     "output_type": "stream",
     "text": [
      "NEW PAGE https://wikipesija.org/index.php?title=ilo:Lipu_ale&from=toki+Kowi\n"
     ]
    },
    {
     "name": "stderr",
     "output_type": "stream",
     "text": [
      "11153it [4:36:26,  1.09it/s]"
     ]
    },
    {
     "name": "stdout",
     "output_type": "stream",
     "text": [
      "Error on https://wikipesija.org/wiki/toki_Malajalan: None\n"
     ]
    },
    {
     "name": "stderr",
     "output_type": "stream",
     "text": [
      "11230it [4:37:26,  1.25it/s]"
     ]
    },
    {
     "name": "stdout",
     "output_type": "stream",
     "text": [
      "Error on https://wikipesija.org/wiki/toki_Sankita: None\n"
     ]
    },
    {
     "name": "stderr",
     "output_type": "stream",
     "text": [
      "11232it [4:37:28,  1.17it/s]"
     ]
    },
    {
     "name": "stdout",
     "output_type": "stream",
     "text": [
      "Error on https://wikipesija.org/wiki/toki_Sansekita: None\n"
     ]
    },
    {
     "name": "stderr",
     "output_type": "stream",
     "text": [
      "11281it [4:38:07,  1.34it/s]"
     ]
    },
    {
     "name": "stdout",
     "output_type": "stream",
     "text": [
      "Error on https://wikipesija.org/wiki/toki_Tona: None\n"
     ]
    },
    {
     "name": "stderr",
     "output_type": "stream",
     "text": [
      "11449it [4:40:38,  1.96s/it]"
     ]
    },
    {
     "name": "stdout",
     "output_type": "stream",
     "text": [
      "NEW PAGE https://wikipesija.org/index.php?title=ilo:Lipu_ale&from=tomo+tawa+waso\n"
     ]
    },
    {
     "name": "stderr",
     "output_type": "stream",
     "text": [
      "11493it [4:41:37,  1.85s/it]"
     ]
    },
    {
     "name": "stdout",
     "output_type": "stream",
     "text": [
      "Error on https://wikipesija.org/wiki/utala_lete: None\n"
     ]
    },
    {
     "name": "stderr",
     "output_type": "stream",
     "text": [
      "11643it [4:45:08,  1.38s/it]"
     ]
    },
    {
     "name": "stdout",
     "output_type": "stream",
     "text": [
      "NEW PAGE https://wikipesija.org/index.php?title=ilo:Lipu_ale&from=toki+Kowi\n"
     ]
    },
    {
     "name": "stderr",
     "output_type": "stream",
     "text": [
      "11692it [4:46:05,  1.33s/it]"
     ]
    },
    {
     "name": "stdout",
     "output_type": "stream",
     "text": [
      "Error on https://wikipesija.org/wiki/toki_Malajalan: None\n"
     ]
    },
    {
     "name": "stderr",
     "output_type": "stream",
     "text": [
      "11769it [4:47:34,  1.59s/it]"
     ]
    },
    {
     "name": "stdout",
     "output_type": "stream",
     "text": [
      "Error on https://wikipesija.org/wiki/toki_Sankita: None\n"
     ]
    },
    {
     "name": "stderr",
     "output_type": "stream",
     "text": [
      "11771it [4:47:36,  1.29s/it]"
     ]
    },
    {
     "name": "stdout",
     "output_type": "stream",
     "text": [
      "Error on https://wikipesija.org/wiki/toki_Sansekita: None\n"
     ]
    },
    {
     "name": "stderr",
     "output_type": "stream",
     "text": [
      "11820it [4:48:36,  1.32s/it]"
     ]
    },
    {
     "name": "stdout",
     "output_type": "stream",
     "text": [
      "Error on https://wikipesija.org/wiki/toki_Tona: None\n"
     ]
    },
    {
     "name": "stderr",
     "output_type": "stream",
     "text": [
      "11988it [4:52:17,  1.29it/s]"
     ]
    },
    {
     "name": "stdout",
     "output_type": "stream",
     "text": [
      "NEW PAGE https://wikipesija.org/index.php?title=ilo:Lipu_ale&from=tomo+tawa+waso\n"
     ]
    },
    {
     "name": "stderr",
     "output_type": "stream",
     "text": [
      "12032it [4:52:52,  1.27it/s]"
     ]
    },
    {
     "name": "stdout",
     "output_type": "stream",
     "text": [
      "Error on https://wikipesija.org/wiki/utala_lete: None\n"
     ]
    },
    {
     "name": "stderr",
     "output_type": "stream",
     "text": [
      "12182it [4:56:14,  1.55s/it]"
     ]
    },
    {
     "name": "stdout",
     "output_type": "stream",
     "text": [
      "NEW PAGE https://wikipesija.org/index.php?title=ilo:Lipu_ale&from=toki+Kowi\n"
     ]
    },
    {
     "name": "stderr",
     "output_type": "stream",
     "text": [
      "12231it [4:56:56,  1.25it/s]"
     ]
    },
    {
     "name": "stdout",
     "output_type": "stream",
     "text": [
      "Error on https://wikipesija.org/wiki/toki_Malajalan: None\n"
     ]
    },
    {
     "name": "stderr",
     "output_type": "stream",
     "text": [
      "12308it [4:57:57,  1.09it/s]"
     ]
    },
    {
     "name": "stdout",
     "output_type": "stream",
     "text": [
      "Error on https://wikipesija.org/wiki/toki_Sankita: None\n"
     ]
    },
    {
     "name": "stderr",
     "output_type": "stream",
     "text": [
      "12310it [4:57:59,  1.04it/s]"
     ]
    },
    {
     "name": "stdout",
     "output_type": "stream",
     "text": [
      "Error on https://wikipesija.org/wiki/toki_Sansekita: None\n"
     ]
    },
    {
     "name": "stderr",
     "output_type": "stream",
     "text": [
      "12359it [4:58:37,  1.29it/s]"
     ]
    },
    {
     "name": "stdout",
     "output_type": "stream",
     "text": [
      "Error on https://wikipesija.org/wiki/toki_Tona: None\n"
     ]
    },
    {
     "name": "stderr",
     "output_type": "stream",
     "text": [
      "12527it [5:00:49,  1.33it/s]"
     ]
    },
    {
     "name": "stdout",
     "output_type": "stream",
     "text": [
      "NEW PAGE https://wikipesija.org/index.php?title=ilo:Lipu_ale&from=tomo+tawa+waso\n"
     ]
    },
    {
     "name": "stderr",
     "output_type": "stream",
     "text": [
      "12571it [5:01:25,  1.12it/s]"
     ]
    },
    {
     "name": "stdout",
     "output_type": "stream",
     "text": [
      "Error on https://wikipesija.org/wiki/utala_lete: None\n"
     ]
    },
    {
     "name": "stderr",
     "output_type": "stream",
     "text": [
      "12721it [5:03:43,  1.28it/s]"
     ]
    },
    {
     "name": "stdout",
     "output_type": "stream",
     "text": [
      "NEW PAGE https://wikipesija.org/index.php?title=ilo:Lipu_ale&from=toki+Kowi\n"
     ]
    },
    {
     "name": "stderr",
     "output_type": "stream",
     "text": [
      "12770it [5:04:25,  1.14it/s]"
     ]
    },
    {
     "name": "stdout",
     "output_type": "stream",
     "text": [
      "Error on https://wikipesija.org/wiki/toki_Malajalan: None\n"
     ]
    },
    {
     "name": "stderr",
     "output_type": "stream",
     "text": [
      "12847it [5:05:30,  1.08it/s]"
     ]
    },
    {
     "name": "stdout",
     "output_type": "stream",
     "text": [
      "Error on https://wikipesija.org/wiki/toki_Sankita: None\n"
     ]
    },
    {
     "name": "stderr",
     "output_type": "stream",
     "text": [
      "12849it [5:05:32,  1.01it/s]"
     ]
    },
    {
     "name": "stdout",
     "output_type": "stream",
     "text": [
      "Error on https://wikipesija.org/wiki/toki_Sansekita: None\n"
     ]
    },
    {
     "name": "stderr",
     "output_type": "stream",
     "text": [
      "12898it [5:06:09,  1.30it/s]"
     ]
    },
    {
     "name": "stdout",
     "output_type": "stream",
     "text": [
      "Error on https://wikipesija.org/wiki/toki_Tona: None\n"
     ]
    },
    {
     "name": "stderr",
     "output_type": "stream",
     "text": [
      "13066it [5:08:25,  1.28it/s]"
     ]
    },
    {
     "name": "stdout",
     "output_type": "stream",
     "text": [
      "NEW PAGE https://wikipesija.org/index.php?title=ilo:Lipu_ale&from=tomo+tawa+waso\n"
     ]
    },
    {
     "name": "stderr",
     "output_type": "stream",
     "text": [
      "13110it [5:09:00,  1.30it/s]"
     ]
    },
    {
     "name": "stdout",
     "output_type": "stream",
     "text": [
      "Error on https://wikipesija.org/wiki/utala_lete: None\n"
     ]
    },
    {
     "name": "stderr",
     "output_type": "stream",
     "text": [
      "13260it [5:11:08,  1.37it/s]"
     ]
    },
    {
     "name": "stdout",
     "output_type": "stream",
     "text": [
      "NEW PAGE https://wikipesija.org/index.php?title=ilo:Lipu_ale&from=toki+Kowi\n"
     ]
    },
    {
     "name": "stderr",
     "output_type": "stream",
     "text": [
      "13309it [5:11:48,  1.20it/s]"
     ]
    },
    {
     "name": "stdout",
     "output_type": "stream",
     "text": [
      "Error on https://wikipesija.org/wiki/toki_Malajalan: None\n"
     ]
    },
    {
     "name": "stderr",
     "output_type": "stream",
     "text": [
      "13386it [5:12:50,  1.17it/s]"
     ]
    },
    {
     "name": "stdout",
     "output_type": "stream",
     "text": [
      "Error on https://wikipesija.org/wiki/toki_Sankita: None\n"
     ]
    },
    {
     "name": "stderr",
     "output_type": "stream",
     "text": [
      "13388it [5:12:51,  1.13it/s]"
     ]
    },
    {
     "name": "stdout",
     "output_type": "stream",
     "text": [
      "Error on https://wikipesija.org/wiki/toki_Sansekita: None\n"
     ]
    },
    {
     "name": "stderr",
     "output_type": "stream",
     "text": [
      "13437it [5:13:30,  1.27it/s]"
     ]
    },
    {
     "name": "stdout",
     "output_type": "stream",
     "text": [
      "Error on https://wikipesija.org/wiki/toki_Tona: None\n"
     ]
    },
    {
     "name": "stderr",
     "output_type": "stream",
     "text": [
      "13605it [5:15:49,  1.34it/s]"
     ]
    },
    {
     "name": "stdout",
     "output_type": "stream",
     "text": [
      "NEW PAGE https://wikipesija.org/index.php?title=ilo:Lipu_ale&from=tomo+tawa+waso\n"
     ]
    },
    {
     "name": "stderr",
     "output_type": "stream",
     "text": [
      "13649it [5:16:26,  1.17it/s]"
     ]
    },
    {
     "name": "stdout",
     "output_type": "stream",
     "text": [
      "Error on https://wikipesija.org/wiki/utala_lete: None\n"
     ]
    },
    {
     "name": "stderr",
     "output_type": "stream",
     "text": [
      "13799it [5:18:32,  1.34it/s]"
     ]
    },
    {
     "name": "stdout",
     "output_type": "stream",
     "text": [
      "NEW PAGE https://wikipesija.org/index.php?title=ilo:Lipu_ale&from=toki+Kowi\n"
     ]
    },
    {
     "name": "stderr",
     "output_type": "stream",
     "text": [
      "13848it [5:19:12,  1.19it/s]"
     ]
    },
    {
     "name": "stdout",
     "output_type": "stream",
     "text": [
      "Error on https://wikipesija.org/wiki/toki_Malajalan: None\n"
     ]
    },
    {
     "name": "stderr",
     "output_type": "stream",
     "text": [
      "13925it [5:20:14,  1.09it/s]"
     ]
    },
    {
     "name": "stdout",
     "output_type": "stream",
     "text": [
      "Error on https://wikipesija.org/wiki/toki_Sankita: None\n"
     ]
    },
    {
     "name": "stderr",
     "output_type": "stream",
     "text": [
      "13927it [5:20:16,  1.09it/s]"
     ]
    },
    {
     "name": "stdout",
     "output_type": "stream",
     "text": [
      "Error on https://wikipesija.org/wiki/toki_Sansekita: None\n"
     ]
    },
    {
     "name": "stderr",
     "output_type": "stream",
     "text": [
      "13976it [5:20:58,  1.28it/s]"
     ]
    },
    {
     "name": "stdout",
     "output_type": "stream",
     "text": [
      "Error on https://wikipesija.org/wiki/toki_Tona: None\n"
     ]
    },
    {
     "name": "stderr",
     "output_type": "stream",
     "text": [
      "14144it [5:23:19,  1.29it/s]"
     ]
    },
    {
     "name": "stdout",
     "output_type": "stream",
     "text": [
      "NEW PAGE https://wikipesija.org/index.php?title=ilo:Lipu_ale&from=tomo+tawa+waso\n"
     ]
    },
    {
     "name": "stderr",
     "output_type": "stream",
     "text": [
      "14188it [5:23:57,  1.20it/s]"
     ]
    },
    {
     "name": "stdout",
     "output_type": "stream",
     "text": [
      "Error on https://wikipesija.org/wiki/utala_lete: None\n"
     ]
    },
    {
     "name": "stderr",
     "output_type": "stream",
     "text": [
      "14338it [5:25:58,  1.17it/s]"
     ]
    },
    {
     "name": "stdout",
     "output_type": "stream",
     "text": [
      "NEW PAGE https://wikipesija.org/index.php?title=ilo:Lipu_ale&from=toki+Kowi\n"
     ]
    },
    {
     "name": "stderr",
     "output_type": "stream",
     "text": [
      "14387it [5:26:40,  1.21it/s]"
     ]
    },
    {
     "name": "stdout",
     "output_type": "stream",
     "text": [
      "Error on https://wikipesija.org/wiki/toki_Malajalan: None\n"
     ]
    },
    {
     "name": "stderr",
     "output_type": "stream",
     "text": [
      "14464it [5:27:40,  1.24it/s]"
     ]
    },
    {
     "name": "stdout",
     "output_type": "stream",
     "text": [
      "Error on https://wikipesija.org/wiki/toki_Sankita: None\n"
     ]
    },
    {
     "name": "stderr",
     "output_type": "stream",
     "text": [
      "14466it [5:27:41,  1.18it/s]"
     ]
    },
    {
     "name": "stdout",
     "output_type": "stream",
     "text": [
      "Error on https://wikipesija.org/wiki/toki_Sansekita: None\n"
     ]
    },
    {
     "name": "stderr",
     "output_type": "stream",
     "text": [
      "14515it [5:28:21,  1.21it/s]"
     ]
    },
    {
     "name": "stdout",
     "output_type": "stream",
     "text": [
      "Error on https://wikipesija.org/wiki/toki_Tona: None\n"
     ]
    },
    {
     "name": "stderr",
     "output_type": "stream",
     "text": [
      "14683it [5:30:37,  1.24it/s]"
     ]
    },
    {
     "name": "stdout",
     "output_type": "stream",
     "text": [
      "NEW PAGE https://wikipesija.org/index.php?title=ilo:Lipu_ale&from=tomo+tawa+waso\n"
     ]
    },
    {
     "name": "stderr",
     "output_type": "stream",
     "text": [
      "14727it [5:31:14,  1.06it/s]"
     ]
    },
    {
     "name": "stdout",
     "output_type": "stream",
     "text": [
      "Error on https://wikipesija.org/wiki/utala_lete: None\n"
     ]
    },
    {
     "name": "stderr",
     "output_type": "stream",
     "text": [
      "14877it [5:33:14,  1.28it/s]"
     ]
    },
    {
     "name": "stdout",
     "output_type": "stream",
     "text": [
      "NEW PAGE https://wikipesija.org/index.php?title=ilo:Lipu_ale&from=toki+Kowi\n"
     ]
    },
    {
     "name": "stderr",
     "output_type": "stream",
     "text": [
      "14926it [5:33:59,  1.01s/it]"
     ]
    },
    {
     "name": "stdout",
     "output_type": "stream",
     "text": [
      "Error on https://wikipesija.org/wiki/toki_Malajalan: None\n"
     ]
    },
    {
     "name": "stderr",
     "output_type": "stream",
     "text": [
      "15003it [5:35:02,  1.09it/s]"
     ]
    },
    {
     "name": "stdout",
     "output_type": "stream",
     "text": [
      "Error on https://wikipesija.org/wiki/toki_Sankita: None\n"
     ]
    },
    {
     "name": "stderr",
     "output_type": "stream",
     "text": [
      "15005it [5:35:04,  1.06it/s]"
     ]
    },
    {
     "name": "stdout",
     "output_type": "stream",
     "text": [
      "Error on https://wikipesija.org/wiki/toki_Sansekita: None\n"
     ]
    },
    {
     "name": "stderr",
     "output_type": "stream",
     "text": [
      "15054it [5:35:42,  1.31it/s]"
     ]
    },
    {
     "name": "stdout",
     "output_type": "stream",
     "text": [
      "Error on https://wikipesija.org/wiki/toki_Tona: None\n"
     ]
    },
    {
     "name": "stderr",
     "output_type": "stream",
     "text": [
      "15222it [5:37:56,  1.30it/s]"
     ]
    },
    {
     "name": "stdout",
     "output_type": "stream",
     "text": [
      "NEW PAGE https://wikipesija.org/index.php?title=ilo:Lipu_ale&from=tomo+tawa+waso\n"
     ]
    },
    {
     "name": "stderr",
     "output_type": "stream",
     "text": [
      "15266it [5:38:32,  1.20it/s]"
     ]
    },
    {
     "name": "stdout",
     "output_type": "stream",
     "text": [
      "Error on https://wikipesija.org/wiki/utala_lete: None\n"
     ]
    },
    {
     "name": "stderr",
     "output_type": "stream",
     "text": [
      "15416it [5:40:32,  1.15it/s]"
     ]
    },
    {
     "name": "stdout",
     "output_type": "stream",
     "text": [
      "NEW PAGE https://wikipesija.org/index.php?title=ilo:Lipu_ale&from=toki+Kowi\n"
     ]
    },
    {
     "name": "stderr",
     "output_type": "stream",
     "text": [
      "15465it [5:41:12,  1.23it/s]"
     ]
    },
    {
     "name": "stdout",
     "output_type": "stream",
     "text": [
      "Error on https://wikipesija.org/wiki/toki_Malajalan: None\n"
     ]
    },
    {
     "name": "stderr",
     "output_type": "stream",
     "text": [
      "15542it [5:42:15,  1.11it/s]"
     ]
    },
    {
     "name": "stdout",
     "output_type": "stream",
     "text": [
      "Error on https://wikipesija.org/wiki/toki_Sankita: None\n"
     ]
    },
    {
     "name": "stderr",
     "output_type": "stream",
     "text": [
      "15544it [5:42:17,  1.13it/s]"
     ]
    },
    {
     "name": "stdout",
     "output_type": "stream",
     "text": [
      "Error on https://wikipesija.org/wiki/toki_Sansekita: None\n"
     ]
    },
    {
     "name": "stderr",
     "output_type": "stream",
     "text": [
      "15593it [5:42:55,  1.13it/s]"
     ]
    },
    {
     "name": "stdout",
     "output_type": "stream",
     "text": [
      "Error on https://wikipesija.org/wiki/toki_Tona: None\n"
     ]
    },
    {
     "name": "stderr",
     "output_type": "stream",
     "text": [
      "15761it [5:45:13,  1.27it/s]"
     ]
    },
    {
     "name": "stdout",
     "output_type": "stream",
     "text": [
      "NEW PAGE https://wikipesija.org/index.php?title=ilo:Lipu_ale&from=tomo+tawa+waso\n"
     ]
    },
    {
     "name": "stderr",
     "output_type": "stream",
     "text": [
      "15805it [5:45:50,  1.19it/s]"
     ]
    },
    {
     "name": "stdout",
     "output_type": "stream",
     "text": [
      "Error on https://wikipesija.org/wiki/utala_lete: None\n"
     ]
    },
    {
     "name": "stderr",
     "output_type": "stream",
     "text": [
      "15955it [5:47:50,  1.24it/s]"
     ]
    },
    {
     "name": "stdout",
     "output_type": "stream",
     "text": [
      "NEW PAGE https://wikipesija.org/index.php?title=ilo:Lipu_ale&from=toki+Kowi\n"
     ]
    },
    {
     "name": "stderr",
     "output_type": "stream",
     "text": [
      "16004it [5:48:34,  1.12it/s]"
     ]
    },
    {
     "name": "stdout",
     "output_type": "stream",
     "text": [
      "Error on https://wikipesija.org/wiki/toki_Malajalan: None\n"
     ]
    },
    {
     "name": "stderr",
     "output_type": "stream",
     "text": [
      "16081it [5:49:37,  1.06it/s]"
     ]
    },
    {
     "name": "stdout",
     "output_type": "stream",
     "text": [
      "Error on https://wikipesija.org/wiki/toki_Sankita: None\n"
     ]
    },
    {
     "name": "stderr",
     "output_type": "stream",
     "text": [
      "16083it [5:49:40,  1.03s/it]"
     ]
    },
    {
     "name": "stdout",
     "output_type": "stream",
     "text": [
      "Error on https://wikipesija.org/wiki/toki_Sansekita: None\n"
     ]
    },
    {
     "name": "stderr",
     "output_type": "stream",
     "text": [
      "16132it [5:50:19,  1.28it/s]"
     ]
    },
    {
     "name": "stdout",
     "output_type": "stream",
     "text": [
      "Error on https://wikipesija.org/wiki/toki_Tona: None\n"
     ]
    },
    {
     "name": "stderr",
     "output_type": "stream",
     "text": [
      "16300it [5:52:31,  1.38it/s]"
     ]
    },
    {
     "name": "stdout",
     "output_type": "stream",
     "text": [
      "NEW PAGE https://wikipesija.org/index.php?title=ilo:Lipu_ale&from=tomo+tawa+waso\n"
     ]
    },
    {
     "name": "stderr",
     "output_type": "stream",
     "text": [
      "16344it [5:53:10,  1.10it/s]"
     ]
    },
    {
     "name": "stdout",
     "output_type": "stream",
     "text": [
      "Error on https://wikipesija.org/wiki/utala_lete: None\n"
     ]
    },
    {
     "name": "stderr",
     "output_type": "stream",
     "text": [
      "16494it [5:55:08,  1.33it/s]"
     ]
    },
    {
     "name": "stdout",
     "output_type": "stream",
     "text": [
      "NEW PAGE https://wikipesija.org/index.php?title=ilo:Lipu_ale&from=toki+Kowi\n"
     ]
    },
    {
     "name": "stderr",
     "output_type": "stream",
     "text": [
      "16543it [5:55:49,  1.25it/s]"
     ]
    },
    {
     "name": "stdout",
     "output_type": "stream",
     "text": [
      "Error on https://wikipesija.org/wiki/toki_Malajalan: None\n"
     ]
    },
    {
     "name": "stderr",
     "output_type": "stream",
     "text": [
      "16620it [5:58:55, 38.31s/it]"
     ]
    },
    {
     "name": "stdout",
     "output_type": "stream",
     "text": [
      "Error on https://wikipesija.org/wiki/toki_Sankita: None\n"
     ]
    },
    {
     "name": "stderr",
     "output_type": "stream",
     "text": [
      "16622it [6:00:50, 53.05s/it]"
     ]
    },
    {
     "name": "stdout",
     "output_type": "stream",
     "text": [
      "Error on https://wikipesija.org/wiki/toki_Sansekita: None\n"
     ]
    },
    {
     "name": "stderr",
     "output_type": "stream",
     "text": [
      "16671it [6:01:29,  1.24it/s]"
     ]
    },
    {
     "name": "stdout",
     "output_type": "stream",
     "text": [
      "Error on https://wikipesija.org/wiki/toki_Tona: None\n"
     ]
    },
    {
     "name": "stderr",
     "output_type": "stream",
     "text": [
      "16839it [6:03:43,  1.35it/s]"
     ]
    },
    {
     "name": "stdout",
     "output_type": "stream",
     "text": [
      "NEW PAGE https://wikipesija.org/index.php?title=ilo:Lipu_ale&from=tomo+tawa+waso\n"
     ]
    },
    {
     "name": "stderr",
     "output_type": "stream",
     "text": [
      "16883it [6:04:20,  1.31it/s]"
     ]
    },
    {
     "name": "stdout",
     "output_type": "stream",
     "text": [
      "Error on https://wikipesija.org/wiki/utala_lete: None\n"
     ]
    },
    {
     "name": "stderr",
     "output_type": "stream",
     "text": [
      "17033it [6:06:20,  1.24it/s]"
     ]
    },
    {
     "name": "stdout",
     "output_type": "stream",
     "text": [
      "NEW PAGE https://wikipesija.org/index.php?title=ilo:Lipu_ale&from=toki+Kowi\n"
     ]
    },
    {
     "name": "stderr",
     "output_type": "stream",
     "text": [
      "17082it [6:07:00,  1.23it/s]"
     ]
    },
    {
     "name": "stdout",
     "output_type": "stream",
     "text": [
      "Error on https://wikipesija.org/wiki/toki_Malajalan: None\n"
     ]
    },
    {
     "name": "stderr",
     "output_type": "stream",
     "text": [
      "17159it [6:09:45, 30.77s/it]"
     ]
    },
    {
     "name": "stdout",
     "output_type": "stream",
     "text": [
      "Error on https://wikipesija.org/wiki/toki_Sankita: None\n"
     ]
    },
    {
     "name": "stderr",
     "output_type": "stream",
     "text": [
      "17161it [6:14:10, 87.31s/it]"
     ]
    },
    {
     "name": "stdout",
     "output_type": "stream",
     "text": [
      "Error on https://wikipesija.org/wiki/toki_Sansekita: None\n"
     ]
    },
    {
     "name": "stderr",
     "output_type": "stream",
     "text": [
      "17210it [6:15:19,  1.83s/it]"
     ]
    },
    {
     "name": "stdout",
     "output_type": "stream",
     "text": [
      "Error on https://wikipesija.org/wiki/toki_Tona: None\n"
     ]
    },
    {
     "name": "stderr",
     "output_type": "stream",
     "text": [
      "17378it [6:19:12,  1.58s/it]"
     ]
    },
    {
     "name": "stdout",
     "output_type": "stream",
     "text": [
      "NEW PAGE https://wikipesija.org/index.php?title=ilo:Lipu_ale&from=tomo+tawa+waso\n"
     ]
    },
    {
     "name": "stderr",
     "output_type": "stream",
     "text": [
      "17422it [6:20:10,  1.91s/it]"
     ]
    },
    {
     "name": "stdout",
     "output_type": "stream",
     "text": [
      "Error on https://wikipesija.org/wiki/utala_lete: None\n"
     ]
    },
    {
     "name": "stderr",
     "output_type": "stream",
     "text": [
      "17572it [6:23:46,  1.41s/it]"
     ]
    },
    {
     "name": "stdout",
     "output_type": "stream",
     "text": [
      "NEW PAGE https://wikipesija.org/index.php?title=ilo:Lipu_ale&from=toki+Kowi\n"
     ]
    },
    {
     "name": "stderr",
     "output_type": "stream",
     "text": [
      "17621it [6:24:42,  1.48s/it]"
     ]
    },
    {
     "name": "stdout",
     "output_type": "stream",
     "text": [
      "Error on https://wikipesija.org/wiki/toki_Malajalan: None\n"
     ]
    },
    {
     "name": "stderr",
     "output_type": "stream",
     "text": [
      "17698it [6:27:53, 32.82s/it]"
     ]
    },
    {
     "name": "stdout",
     "output_type": "stream",
     "text": [
      "Error on https://wikipesija.org/wiki/toki_Sankita: None\n"
     ]
    },
    {
     "name": "stderr",
     "output_type": "stream",
     "text": [
      "17700it [6:29:45, 49.59s/it]"
     ]
    },
    {
     "name": "stdout",
     "output_type": "stream",
     "text": [
      "Error on https://wikipesija.org/wiki/toki_Sansekita: None\n"
     ]
    },
    {
     "name": "stderr",
     "output_type": "stream",
     "text": [
      "17749it [6:30:34,  1.15it/s]"
     ]
    },
    {
     "name": "stdout",
     "output_type": "stream",
     "text": [
      "Error on https://wikipesija.org/wiki/toki_Tona: None\n"
     ]
    },
    {
     "name": "stderr",
     "output_type": "stream",
     "text": [
      "17917it [6:32:51,  1.22it/s]"
     ]
    },
    {
     "name": "stdout",
     "output_type": "stream",
     "text": [
      "NEW PAGE https://wikipesija.org/index.php?title=ilo:Lipu_ale&from=tomo+tawa+waso\n"
     ]
    },
    {
     "name": "stderr",
     "output_type": "stream",
     "text": [
      "17961it [6:33:38,  1.19s/it]"
     ]
    },
    {
     "name": "stdout",
     "output_type": "stream",
     "text": [
      "Error on https://wikipesija.org/wiki/utala_lete: None\n"
     ]
    },
    {
     "name": "stderr",
     "output_type": "stream",
     "text": [
      "18111it [6:35:36,  1.29it/s]"
     ]
    },
    {
     "name": "stdout",
     "output_type": "stream",
     "text": [
      "NEW PAGE https://wikipesija.org/index.php?title=ilo:Lipu_ale&from=toki+Kowi\n"
     ]
    },
    {
     "name": "stderr",
     "output_type": "stream",
     "text": [
      "18160it [6:36:19,  1.20it/s]"
     ]
    },
    {
     "name": "stdout",
     "output_type": "stream",
     "text": [
      "Error on https://wikipesija.org/wiki/toki_Malajalan: None\n"
     ]
    },
    {
     "name": "stderr",
     "output_type": "stream",
     "text": [
      "18237it [6:37:29,  1.24it/s]"
     ]
    },
    {
     "name": "stdout",
     "output_type": "stream",
     "text": [
      "Error on https://wikipesija.org/wiki/toki_Sankita: None\n"
     ]
    },
    {
     "name": "stderr",
     "output_type": "stream",
     "text": [
      "18239it [6:37:30,  1.18it/s]"
     ]
    },
    {
     "name": "stdout",
     "output_type": "stream",
     "text": [
      "Error on https://wikipesija.org/wiki/toki_Sansekita: None\n"
     ]
    },
    {
     "name": "stderr",
     "output_type": "stream",
     "text": [
      "18288it [6:38:08,  1.28it/s]"
     ]
    },
    {
     "name": "stdout",
     "output_type": "stream",
     "text": [
      "Error on https://wikipesija.org/wiki/toki_Tona: None\n"
     ]
    },
    {
     "name": "stderr",
     "output_type": "stream",
     "text": [
      "18456it [6:40:23,  1.23it/s]"
     ]
    },
    {
     "name": "stdout",
     "output_type": "stream",
     "text": [
      "NEW PAGE https://wikipesija.org/index.php?title=ilo:Lipu_ale&from=tomo+tawa+waso\n"
     ]
    },
    {
     "name": "stderr",
     "output_type": "stream",
     "text": [
      "18500it [6:41:00,  1.25it/s]"
     ]
    },
    {
     "name": "stdout",
     "output_type": "stream",
     "text": [
      "Error on https://wikipesija.org/wiki/utala_lete: None\n"
     ]
    },
    {
     "name": "stderr",
     "output_type": "stream",
     "text": [
      "18650it [6:43:00,  1.35it/s]"
     ]
    },
    {
     "name": "stdout",
     "output_type": "stream",
     "text": [
      "NEW PAGE https://wikipesija.org/index.php?title=ilo:Lipu_ale&from=toki+Kowi\n"
     ]
    },
    {
     "name": "stderr",
     "output_type": "stream",
     "text": [
      "18699it [6:43:39,  1.28it/s]"
     ]
    },
    {
     "name": "stdout",
     "output_type": "stream",
     "text": [
      "Error on https://wikipesija.org/wiki/toki_Malajalan: None\n"
     ]
    },
    {
     "name": "stderr",
     "output_type": "stream",
     "text": [
      "18776it [6:44:44,  1.07it/s]"
     ]
    },
    {
     "name": "stdout",
     "output_type": "stream",
     "text": [
      "Error on https://wikipesija.org/wiki/toki_Sankita: None\n"
     ]
    },
    {
     "name": "stderr",
     "output_type": "stream",
     "text": [
      "18778it [6:44:46,  1.05it/s]"
     ]
    },
    {
     "name": "stdout",
     "output_type": "stream",
     "text": [
      "Error on https://wikipesija.org/wiki/toki_Sansekita: None\n"
     ]
    },
    {
     "name": "stderr",
     "output_type": "stream",
     "text": [
      "18827it [6:45:26,  1.07it/s]"
     ]
    },
    {
     "name": "stdout",
     "output_type": "stream",
     "text": [
      "Error on https://wikipesija.org/wiki/toki_Tona: None\n"
     ]
    },
    {
     "name": "stderr",
     "output_type": "stream",
     "text": [
      "18995it [6:47:45,  1.20it/s]"
     ]
    },
    {
     "name": "stdout",
     "output_type": "stream",
     "text": [
      "NEW PAGE https://wikipesija.org/index.php?title=ilo:Lipu_ale&from=tomo+tawa+waso\n"
     ]
    },
    {
     "name": "stderr",
     "output_type": "stream",
     "text": [
      "19039it [6:48:22,  1.05it/s]"
     ]
    },
    {
     "name": "stdout",
     "output_type": "stream",
     "text": [
      "Error on https://wikipesija.org/wiki/utala_lete: None\n"
     ]
    },
    {
     "name": "stderr",
     "output_type": "stream",
     "text": [
      "19189it [6:50:29,  1.29it/s]"
     ]
    },
    {
     "name": "stdout",
     "output_type": "stream",
     "text": [
      "NEW PAGE https://wikipesija.org/index.php?title=ilo:Lipu_ale&from=toki+Kowi\n"
     ]
    },
    {
     "name": "stderr",
     "output_type": "stream",
     "text": [
      "19238it [6:51:10,  1.15it/s]"
     ]
    },
    {
     "name": "stdout",
     "output_type": "stream",
     "text": [
      "Error on https://wikipesija.org/wiki/toki_Malajalan: None\n"
     ]
    },
    {
     "name": "stderr",
     "output_type": "stream",
     "text": [
      "19315it [6:52:13,  1.12it/s]"
     ]
    },
    {
     "name": "stdout",
     "output_type": "stream",
     "text": [
      "Error on https://wikipesija.org/wiki/toki_Sankita: None\n"
     ]
    },
    {
     "name": "stderr",
     "output_type": "stream",
     "text": [
      "19317it [6:52:15,  1.12it/s]"
     ]
    },
    {
     "name": "stdout",
     "output_type": "stream",
     "text": [
      "Error on https://wikipesija.org/wiki/toki_Sansekita: None\n"
     ]
    },
    {
     "name": "stderr",
     "output_type": "stream",
     "text": [
      "19366it [6:52:55,  1.31it/s]"
     ]
    },
    {
     "name": "stdout",
     "output_type": "stream",
     "text": [
      "Error on https://wikipesija.org/wiki/toki_Tona: None\n"
     ]
    },
    {
     "name": "stderr",
     "output_type": "stream",
     "text": [
      "19534it [6:55:16,  1.19it/s]"
     ]
    },
    {
     "name": "stdout",
     "output_type": "stream",
     "text": [
      "NEW PAGE https://wikipesija.org/index.php?title=ilo:Lipu_ale&from=tomo+tawa+waso\n"
     ]
    },
    {
     "name": "stderr",
     "output_type": "stream",
     "text": [
      "19578it [6:55:53,  1.15it/s]"
     ]
    },
    {
     "name": "stdout",
     "output_type": "stream",
     "text": [
      "Error on https://wikipesija.org/wiki/utala_lete: None\n"
     ]
    },
    {
     "name": "stderr",
     "output_type": "stream",
     "text": [
      "19728it [6:57:54,  1.11it/s]"
     ]
    },
    {
     "name": "stdout",
     "output_type": "stream",
     "text": [
      "NEW PAGE https://wikipesija.org/index.php?title=ilo:Lipu_ale&from=toki+Kowi\n"
     ]
    },
    {
     "name": "stderr",
     "output_type": "stream",
     "text": [
      "19777it [6:58:39,  1.20it/s]"
     ]
    },
    {
     "name": "stdout",
     "output_type": "stream",
     "text": [
      "Error on https://wikipesija.org/wiki/toki_Malajalan: None\n"
     ]
    },
    {
     "name": "stderr",
     "output_type": "stream",
     "text": [
      "19854it [6:59:43,  1.09it/s]"
     ]
    },
    {
     "name": "stdout",
     "output_type": "stream",
     "text": [
      "Error on https://wikipesija.org/wiki/toki_Sankita: None\n"
     ]
    },
    {
     "name": "stderr",
     "output_type": "stream",
     "text": [
      "19856it [6:59:46,  1.00s/it]"
     ]
    },
    {
     "name": "stdout",
     "output_type": "stream",
     "text": [
      "Error on https://wikipesija.org/wiki/toki_Sansekita: None\n"
     ]
    },
    {
     "name": "stderr",
     "output_type": "stream",
     "text": [
      "19905it [7:00:38,  1.67s/it]"
     ]
    },
    {
     "name": "stdout",
     "output_type": "stream",
     "text": [
      "Error on https://wikipesija.org/wiki/toki_Tona: None\n"
     ]
    },
    {
     "name": "stderr",
     "output_type": "stream",
     "text": [
      "20073it [7:04:41,  1.96s/it]"
     ]
    },
    {
     "name": "stdout",
     "output_type": "stream",
     "text": [
      "NEW PAGE https://wikipesija.org/index.php?title=ilo:Lipu_ale&from=tomo+tawa+waso\n"
     ]
    },
    {
     "name": "stderr",
     "output_type": "stream",
     "text": [
      "20117it [7:05:42,  2.28s/it]"
     ]
    },
    {
     "name": "stdout",
     "output_type": "stream",
     "text": [
      "Error on https://wikipesija.org/wiki/utala_lete: None\n"
     ]
    },
    {
     "name": "stderr",
     "output_type": "stream",
     "text": [
      "20267it [7:09:26,  1.54s/it]"
     ]
    },
    {
     "name": "stdout",
     "output_type": "stream",
     "text": [
      "NEW PAGE https://wikipesija.org/index.php?title=ilo:Lipu_ale&from=toki+Kowi\n"
     ]
    },
    {
     "name": "stderr",
     "output_type": "stream",
     "text": [
      "20316it [7:10:23,  1.38s/it]"
     ]
    },
    {
     "name": "stdout",
     "output_type": "stream",
     "text": [
      "Error on https://wikipesija.org/wiki/toki_Malajalan: None\n"
     ]
    },
    {
     "name": "stderr",
     "output_type": "stream",
     "text": [
      "20393it [7:12:00,  1.38s/it]"
     ]
    },
    {
     "name": "stdout",
     "output_type": "stream",
     "text": [
      "Error on https://wikipesija.org/wiki/toki_Sankita: None\n"
     ]
    },
    {
     "name": "stderr",
     "output_type": "stream",
     "text": [
      "20395it [7:12:03,  1.20s/it]"
     ]
    },
    {
     "name": "stdout",
     "output_type": "stream",
     "text": [
      "Error on https://wikipesija.org/wiki/toki_Sansekita: None\n"
     ]
    },
    {
     "name": "stderr",
     "output_type": "stream",
     "text": [
      "20444it [7:13:06,  1.15it/s]"
     ]
    },
    {
     "name": "stdout",
     "output_type": "stream",
     "text": [
      "Error on https://wikipesija.org/wiki/toki_Tona: None\n"
     ]
    },
    {
     "name": "stderr",
     "output_type": "stream",
     "text": [
      "20612it [7:15:29,  1.22it/s]"
     ]
    },
    {
     "name": "stdout",
     "output_type": "stream",
     "text": [
      "NEW PAGE https://wikipesija.org/index.php?title=ilo:Lipu_ale&from=tomo+tawa+waso\n"
     ]
    },
    {
     "name": "stderr",
     "output_type": "stream",
     "text": [
      "20656it [7:16:06,  1.05it/s]"
     ]
    },
    {
     "name": "stdout",
     "output_type": "stream",
     "text": [
      "Error on https://wikipesija.org/wiki/utala_lete: None\n"
     ]
    },
    {
     "name": "stderr",
     "output_type": "stream",
     "text": [
      "20806it [7:18:08,  1.22it/s]"
     ]
    },
    {
     "name": "stdout",
     "output_type": "stream",
     "text": [
      "NEW PAGE https://wikipesija.org/index.php?title=ilo:Lipu_ale&from=toki+Kowi\n"
     ]
    },
    {
     "name": "stderr",
     "output_type": "stream",
     "text": [
      "20855it [7:18:50,  1.29it/s]"
     ]
    },
    {
     "name": "stdout",
     "output_type": "stream",
     "text": [
      "Error on https://wikipesija.org/wiki/toki_Malajalan: None\n"
     ]
    },
    {
     "name": "stderr",
     "output_type": "stream",
     "text": [
      "20932it [7:19:54,  1.15it/s]"
     ]
    },
    {
     "name": "stdout",
     "output_type": "stream",
     "text": [
      "Error on https://wikipesija.org/wiki/toki_Sankita: None\n"
     ]
    },
    {
     "name": "stderr",
     "output_type": "stream",
     "text": [
      "20934it [7:19:57,  1.00it/s]"
     ]
    },
    {
     "name": "stdout",
     "output_type": "stream",
     "text": [
      "Error on https://wikipesija.org/wiki/toki_Sansekita: None\n"
     ]
    },
    {
     "name": "stderr",
     "output_type": "stream",
     "text": [
      "20983it [7:20:40,  1.21it/s]"
     ]
    },
    {
     "name": "stdout",
     "output_type": "stream",
     "text": [
      "Error on https://wikipesija.org/wiki/toki_Tona: None\n"
     ]
    },
    {
     "name": "stderr",
     "output_type": "stream",
     "text": [
      "21151it [7:23:00,  1.24it/s]"
     ]
    },
    {
     "name": "stdout",
     "output_type": "stream",
     "text": [
      "NEW PAGE https://wikipesija.org/index.php?title=ilo:Lipu_ale&from=tomo+tawa+waso\n"
     ]
    },
    {
     "name": "stderr",
     "output_type": "stream",
     "text": [
      "21195it [7:23:37,  1.25it/s]"
     ]
    },
    {
     "name": "stdout",
     "output_type": "stream",
     "text": [
      "Error on https://wikipesija.org/wiki/utala_lete: None\n"
     ]
    },
    {
     "name": "stderr",
     "output_type": "stream",
     "text": [
      "21345it [7:25:39,  1.26it/s]"
     ]
    },
    {
     "name": "stdout",
     "output_type": "stream",
     "text": [
      "NEW PAGE https://wikipesija.org/index.php?title=ilo:Lipu_ale&from=toki+Kowi\n"
     ]
    },
    {
     "name": "stderr",
     "output_type": "stream",
     "text": [
      "21394it [7:26:18,  1.23it/s]"
     ]
    },
    {
     "name": "stdout",
     "output_type": "stream",
     "text": [
      "Error on https://wikipesija.org/wiki/toki_Malajalan: None\n"
     ]
    },
    {
     "name": "stderr",
     "output_type": "stream",
     "text": [
      "21471it [7:27:18,  1.12it/s]"
     ]
    },
    {
     "name": "stdout",
     "output_type": "stream",
     "text": [
      "Error on https://wikipesija.org/wiki/toki_Sankita: None\n"
     ]
    },
    {
     "name": "stderr",
     "output_type": "stream",
     "text": [
      "21473it [7:27:20,  1.02it/s]"
     ]
    },
    {
     "name": "stdout",
     "output_type": "stream",
     "text": [
      "Error on https://wikipesija.org/wiki/toki_Sansekita: None\n"
     ]
    },
    {
     "name": "stderr",
     "output_type": "stream",
     "text": [
      "21522it [7:27:58,  1.34it/s]"
     ]
    },
    {
     "name": "stdout",
     "output_type": "stream",
     "text": [
      "Error on https://wikipesija.org/wiki/toki_Tona: None\n"
     ]
    },
    {
     "name": "stderr",
     "output_type": "stream",
     "text": [
      "21690it [7:30:10,  1.08it/s]"
     ]
    },
    {
     "name": "stdout",
     "output_type": "stream",
     "text": [
      "NEW PAGE https://wikipesija.org/index.php?title=ilo:Lipu_ale&from=tomo+tawa+waso\n"
     ]
    },
    {
     "name": "stderr",
     "output_type": "stream",
     "text": [
      "21734it [7:30:48,  1.13it/s]"
     ]
    },
    {
     "name": "stdout",
     "output_type": "stream",
     "text": [
      "Error on https://wikipesija.org/wiki/utala_lete: None\n"
     ]
    },
    {
     "name": "stderr",
     "output_type": "stream",
     "text": [
      "21884it [7:32:46,  1.34it/s]"
     ]
    },
    {
     "name": "stdout",
     "output_type": "stream",
     "text": [
      "NEW PAGE https://wikipesija.org/index.php?title=ilo:Lipu_ale&from=toki+Kowi\n"
     ]
    },
    {
     "name": "stderr",
     "output_type": "stream",
     "text": [
      "21933it [7:33:25,  1.21it/s]"
     ]
    },
    {
     "name": "stdout",
     "output_type": "stream",
     "text": [
      "Error on https://wikipesija.org/wiki/toki_Malajalan: None\n"
     ]
    },
    {
     "name": "stderr",
     "output_type": "stream",
     "text": [
      "22010it [7:34:27,  1.19it/s]"
     ]
    },
    {
     "name": "stdout",
     "output_type": "stream",
     "text": [
      "Error on https://wikipesija.org/wiki/toki_Sankita: None\n"
     ]
    },
    {
     "name": "stderr",
     "output_type": "stream",
     "text": [
      "22012it [7:34:28,  1.09it/s]"
     ]
    },
    {
     "name": "stdout",
     "output_type": "stream",
     "text": [
      "Error on https://wikipesija.org/wiki/toki_Sansekita: None\n"
     ]
    },
    {
     "name": "stderr",
     "output_type": "stream",
     "text": [
      "22061it [7:35:09,  1.15it/s]"
     ]
    },
    {
     "name": "stdout",
     "output_type": "stream",
     "text": [
      "Error on https://wikipesija.org/wiki/toki_Tona: None\n"
     ]
    },
    {
     "name": "stderr",
     "output_type": "stream",
     "text": [
      "22229it [7:37:16,  1.34it/s]"
     ]
    },
    {
     "name": "stdout",
     "output_type": "stream",
     "text": [
      "NEW PAGE https://wikipesija.org/index.php?title=ilo:Lipu_ale&from=tomo+tawa+waso\n"
     ]
    },
    {
     "name": "stderr",
     "output_type": "stream",
     "text": [
      "22273it [7:37:52,  1.21it/s]"
     ]
    },
    {
     "name": "stdout",
     "output_type": "stream",
     "text": [
      "Error on https://wikipesija.org/wiki/utala_lete: None\n"
     ]
    },
    {
     "name": "stderr",
     "output_type": "stream",
     "text": [
      "22423it [7:39:51,  1.37it/s]"
     ]
    },
    {
     "name": "stdout",
     "output_type": "stream",
     "text": [
      "NEW PAGE https://wikipesija.org/index.php?title=ilo:Lipu_ale&from=toki+Kowi\n"
     ]
    },
    {
     "name": "stderr",
     "output_type": "stream",
     "text": [
      "22472it [7:40:49,  1.17it/s]"
     ]
    },
    {
     "name": "stdout",
     "output_type": "stream",
     "text": [
      "Error on https://wikipesija.org/wiki/toki_Malajalan: None\n"
     ]
    },
    {
     "name": "stderr",
     "output_type": "stream",
     "text": [
      "22549it [7:41:51,  1.12it/s]"
     ]
    },
    {
     "name": "stdout",
     "output_type": "stream",
     "text": [
      "Error on https://wikipesija.org/wiki/toki_Sankita: None\n"
     ]
    },
    {
     "name": "stderr",
     "output_type": "stream",
     "text": [
      "22551it [7:41:53,  1.05it/s]"
     ]
    },
    {
     "name": "stdout",
     "output_type": "stream",
     "text": [
      "Error on https://wikipesija.org/wiki/toki_Sansekita: None\n"
     ]
    },
    {
     "name": "stderr",
     "output_type": "stream",
     "text": [
      "22600it [7:42:36,  1.20it/s]"
     ]
    },
    {
     "name": "stdout",
     "output_type": "stream",
     "text": [
      "Error on https://wikipesija.org/wiki/toki_Tona: None\n"
     ]
    },
    {
     "name": "stderr",
     "output_type": "stream",
     "text": [
      "22768it [7:44:57,  1.25it/s]"
     ]
    },
    {
     "name": "stdout",
     "output_type": "stream",
     "text": [
      "NEW PAGE https://wikipesija.org/index.php?title=ilo:Lipu_ale&from=tomo+tawa+waso\n"
     ]
    },
    {
     "name": "stderr",
     "output_type": "stream",
     "text": [
      "22812it [7:45:35,  1.18it/s]"
     ]
    },
    {
     "name": "stdout",
     "output_type": "stream",
     "text": [
      "Error on https://wikipesija.org/wiki/utala_lete: None\n"
     ]
    },
    {
     "name": "stderr",
     "output_type": "stream",
     "text": [
      "22962it [7:47:35,  1.28it/s]"
     ]
    },
    {
     "name": "stdout",
     "output_type": "stream",
     "text": [
      "NEW PAGE https://wikipesija.org/index.php?title=ilo:Lipu_ale&from=toki+Kowi\n"
     ]
    },
    {
     "name": "stderr",
     "output_type": "stream",
     "text": [
      "23011it [7:48:16,  1.22it/s]"
     ]
    },
    {
     "name": "stdout",
     "output_type": "stream",
     "text": [
      "Error on https://wikipesija.org/wiki/toki_Malajalan: None\n"
     ]
    },
    {
     "name": "stderr",
     "output_type": "stream",
     "text": [
      "23088it [7:49:17,  1.17it/s]"
     ]
    },
    {
     "name": "stdout",
     "output_type": "stream",
     "text": [
      "Error on https://wikipesija.org/wiki/toki_Sankita: None\n"
     ]
    },
    {
     "name": "stderr",
     "output_type": "stream",
     "text": [
      "23090it [7:49:19,  1.13it/s]"
     ]
    },
    {
     "name": "stdout",
     "output_type": "stream",
     "text": [
      "Error on https://wikipesija.org/wiki/toki_Sansekita: None\n"
     ]
    },
    {
     "name": "stderr",
     "output_type": "stream",
     "text": [
      "23139it [7:49:58,  1.26it/s]"
     ]
    },
    {
     "name": "stdout",
     "output_type": "stream",
     "text": [
      "Error on https://wikipesija.org/wiki/toki_Tona: None\n"
     ]
    },
    {
     "name": "stderr",
     "output_type": "stream",
     "text": [
      "23307it [7:52:14,  1.34it/s]"
     ]
    },
    {
     "name": "stdout",
     "output_type": "stream",
     "text": [
      "NEW PAGE https://wikipesija.org/index.php?title=ilo:Lipu_ale&from=tomo+tawa+waso\n"
     ]
    },
    {
     "name": "stderr",
     "output_type": "stream",
     "text": [
      "23351it [7:52:49,  1.21it/s]"
     ]
    },
    {
     "name": "stdout",
     "output_type": "stream",
     "text": [
      "Error on https://wikipesija.org/wiki/utala_lete: None\n"
     ]
    },
    {
     "name": "stderr",
     "output_type": "stream",
     "text": [
      "23501it [7:54:45,  1.27it/s]"
     ]
    },
    {
     "name": "stdout",
     "output_type": "stream",
     "text": [
      "NEW PAGE https://wikipesija.org/index.php?title=ilo:Lipu_ale&from=toki+Kowi\n"
     ]
    },
    {
     "name": "stderr",
     "output_type": "stream",
     "text": [
      "23550it [7:55:25,  1.22it/s]"
     ]
    },
    {
     "name": "stdout",
     "output_type": "stream",
     "text": [
      "Error on https://wikipesija.org/wiki/toki_Malajalan: None\n"
     ]
    },
    {
     "name": "stderr",
     "output_type": "stream",
     "text": [
      "23627it [7:56:25,  1.22it/s]"
     ]
    },
    {
     "name": "stdout",
     "output_type": "stream",
     "text": [
      "Error on https://wikipesija.org/wiki/toki_Sankita: None\n"
     ]
    },
    {
     "name": "stderr",
     "output_type": "stream",
     "text": [
      "23629it [7:56:27,  1.14it/s]"
     ]
    },
    {
     "name": "stdout",
     "output_type": "stream",
     "text": [
      "Error on https://wikipesija.org/wiki/toki_Sansekita: None\n"
     ]
    },
    {
     "name": "stderr",
     "output_type": "stream",
     "text": [
      "23678it [7:57:06,  1.25it/s]"
     ]
    },
    {
     "name": "stdout",
     "output_type": "stream",
     "text": [
      "Error on https://wikipesija.org/wiki/toki_Tona: None\n"
     ]
    },
    {
     "name": "stderr",
     "output_type": "stream",
     "text": [
      "23846it [7:59:31,  1.24it/s]"
     ]
    },
    {
     "name": "stdout",
     "output_type": "stream",
     "text": [
      "NEW PAGE https://wikipesija.org/index.php?title=ilo:Lipu_ale&from=tomo+tawa+waso\n"
     ]
    },
    {
     "name": "stderr",
     "output_type": "stream",
     "text": [
      "23890it [8:00:07,  1.12it/s]"
     ]
    },
    {
     "name": "stdout",
     "output_type": "stream",
     "text": [
      "Error on https://wikipesija.org/wiki/utala_lete: None\n"
     ]
    },
    {
     "name": "stderr",
     "output_type": "stream",
     "text": [
      "24040it [8:02:08,  1.28it/s]"
     ]
    },
    {
     "name": "stdout",
     "output_type": "stream",
     "text": [
      "NEW PAGE https://wikipesija.org/index.php?title=ilo:Lipu_ale&from=toki+Kowi\n"
     ]
    },
    {
     "name": "stderr",
     "output_type": "stream",
     "text": [
      "24089it [8:02:50,  1.18it/s]"
     ]
    },
    {
     "name": "stdout",
     "output_type": "stream",
     "text": [
      "Error on https://wikipesija.org/wiki/toki_Malajalan: None\n"
     ]
    },
    {
     "name": "stderr",
     "output_type": "stream",
     "text": [
      "24166it [8:03:52,  1.11it/s]"
     ]
    },
    {
     "name": "stdout",
     "output_type": "stream",
     "text": [
      "Error on https://wikipesija.org/wiki/toki_Sankita: None\n"
     ]
    },
    {
     "name": "stderr",
     "output_type": "stream",
     "text": [
      "24168it [8:03:54,  1.05it/s]"
     ]
    },
    {
     "name": "stdout",
     "output_type": "stream",
     "text": [
      "Error on https://wikipesija.org/wiki/toki_Sansekita: None\n"
     ]
    },
    {
     "name": "stderr",
     "output_type": "stream",
     "text": [
      "24217it [8:04:37,  1.17s/it]"
     ]
    },
    {
     "name": "stdout",
     "output_type": "stream",
     "text": [
      "Error on https://wikipesija.org/wiki/toki_Tona: None\n"
     ]
    },
    {
     "name": "stderr",
     "output_type": "stream",
     "text": [
      "24385it [8:06:50,  1.37it/s]"
     ]
    },
    {
     "name": "stdout",
     "output_type": "stream",
     "text": [
      "NEW PAGE https://wikipesija.org/index.php?title=ilo:Lipu_ale&from=tomo+tawa+waso\n"
     ]
    },
    {
     "name": "stderr",
     "output_type": "stream",
     "text": [
      "24429it [8:07:27,  1.20it/s]"
     ]
    },
    {
     "name": "stdout",
     "output_type": "stream",
     "text": [
      "Error on https://wikipesija.org/wiki/utala_lete: None\n"
     ]
    },
    {
     "name": "stderr",
     "output_type": "stream",
     "text": [
      "24579it [8:09:29,  1.25it/s]"
     ]
    },
    {
     "name": "stdout",
     "output_type": "stream",
     "text": [
      "NEW PAGE https://wikipesija.org/index.php?title=ilo:Lipu_ale&from=toki+Kowi\n"
     ]
    },
    {
     "name": "stderr",
     "output_type": "stream",
     "text": [
      "24628it [8:10:12,  1.23it/s]"
     ]
    },
    {
     "name": "stdout",
     "output_type": "stream",
     "text": [
      "Error on https://wikipesija.org/wiki/toki_Malajalan: None\n"
     ]
    },
    {
     "name": "stderr",
     "output_type": "stream",
     "text": [
      "24705it [8:11:14,  1.12it/s]"
     ]
    },
    {
     "name": "stdout",
     "output_type": "stream",
     "text": [
      "Error on https://wikipesija.org/wiki/toki_Sankita: None\n"
     ]
    },
    {
     "name": "stderr",
     "output_type": "stream",
     "text": [
      "24707it [8:11:15,  1.13it/s]"
     ]
    },
    {
     "name": "stdout",
     "output_type": "stream",
     "text": [
      "Error on https://wikipesija.org/wiki/toki_Sansekita: None\n"
     ]
    },
    {
     "name": "stderr",
     "output_type": "stream",
     "text": [
      "24756it [8:11:53,  1.26it/s]"
     ]
    },
    {
     "name": "stdout",
     "output_type": "stream",
     "text": [
      "Error on https://wikipesija.org/wiki/toki_Tona: None\n"
     ]
    },
    {
     "name": "stderr",
     "output_type": "stream",
     "text": [
      "24924it [8:14:05,  1.11it/s]"
     ]
    },
    {
     "name": "stdout",
     "output_type": "stream",
     "text": [
      "NEW PAGE https://wikipesija.org/index.php?title=ilo:Lipu_ale&from=tomo+tawa+waso\n"
     ]
    },
    {
     "name": "stderr",
     "output_type": "stream",
     "text": [
      "24968it [8:14:42,  1.25it/s]"
     ]
    },
    {
     "name": "stdout",
     "output_type": "stream",
     "text": [
      "Error on https://wikipesija.org/wiki/utala_lete: None\n"
     ]
    },
    {
     "name": "stderr",
     "output_type": "stream",
     "text": [
      "25118it [8:16:46,  1.23it/s]"
     ]
    },
    {
     "name": "stdout",
     "output_type": "stream",
     "text": [
      "NEW PAGE https://wikipesija.org/index.php?title=ilo:Lipu_ale&from=toki+Kowi\n"
     ]
    },
    {
     "name": "stderr",
     "output_type": "stream",
     "text": [
      "25167it [8:17:28,  1.06it/s]"
     ]
    },
    {
     "name": "stdout",
     "output_type": "stream",
     "text": [
      "Error on https://wikipesija.org/wiki/toki_Malajalan: None\n"
     ]
    },
    {
     "name": "stderr",
     "output_type": "stream",
     "text": [
      "25244it [8:18:32,  1.01s/it]"
     ]
    },
    {
     "name": "stdout",
     "output_type": "stream",
     "text": [
      "Error on https://wikipesija.org/wiki/toki_Sankita: None\n"
     ]
    },
    {
     "name": "stderr",
     "output_type": "stream",
     "text": [
      "25246it [8:18:34,  1.06it/s]"
     ]
    },
    {
     "name": "stdout",
     "output_type": "stream",
     "text": [
      "Error on https://wikipesija.org/wiki/toki_Sansekita: None\n"
     ]
    },
    {
     "name": "stderr",
     "output_type": "stream",
     "text": [
      "25295it [8:19:19,  1.25it/s]"
     ]
    },
    {
     "name": "stdout",
     "output_type": "stream",
     "text": [
      "Error on https://wikipesija.org/wiki/toki_Tona: None\n"
     ]
    },
    {
     "name": "stderr",
     "output_type": "stream",
     "text": [
      "25463it [8:21:33,  1.32it/s]"
     ]
    },
    {
     "name": "stdout",
     "output_type": "stream",
     "text": [
      "NEW PAGE https://wikipesija.org/index.php?title=ilo:Lipu_ale&from=tomo+tawa+waso\n"
     ]
    },
    {
     "name": "stderr",
     "output_type": "stream",
     "text": [
      "25507it [8:22:10,  1.30it/s]"
     ]
    },
    {
     "name": "stdout",
     "output_type": "stream",
     "text": [
      "Error on https://wikipesija.org/wiki/utala_lete: None\n"
     ]
    },
    {
     "name": "stderr",
     "output_type": "stream",
     "text": [
      "25657it [8:24:08,  1.37it/s]"
     ]
    },
    {
     "name": "stdout",
     "output_type": "stream",
     "text": [
      "NEW PAGE https://wikipesija.org/index.php?title=ilo:Lipu_ale&from=toki+Kowi\n"
     ]
    },
    {
     "name": "stderr",
     "output_type": "stream",
     "text": [
      "25706it [8:24:47,  1.29it/s]"
     ]
    },
    {
     "name": "stdout",
     "output_type": "stream",
     "text": [
      "Error on https://wikipesija.org/wiki/toki_Malajalan: None\n"
     ]
    },
    {
     "name": "stderr",
     "output_type": "stream",
     "text": [
      "25783it [8:25:48,  1.12it/s]"
     ]
    },
    {
     "name": "stdout",
     "output_type": "stream",
     "text": [
      "Error on https://wikipesija.org/wiki/toki_Sankita: None\n"
     ]
    },
    {
     "name": "stderr",
     "output_type": "stream",
     "text": [
      "25785it [8:25:50,  1.08it/s]"
     ]
    },
    {
     "name": "stdout",
     "output_type": "stream",
     "text": [
      "Error on https://wikipesija.org/wiki/toki_Sansekita: None\n"
     ]
    },
    {
     "name": "stderr",
     "output_type": "stream",
     "text": [
      "25834it [8:26:28,  1.27it/s]"
     ]
    },
    {
     "name": "stdout",
     "output_type": "stream",
     "text": [
      "Error on https://wikipesija.org/wiki/toki_Tona: None\n"
     ]
    },
    {
     "name": "stderr",
     "output_type": "stream",
     "text": [
      "26002it [8:28:45,  1.28it/s]"
     ]
    },
    {
     "name": "stdout",
     "output_type": "stream",
     "text": [
      "NEW PAGE https://wikipesija.org/index.php?title=ilo:Lipu_ale&from=tomo+tawa+waso\n"
     ]
    },
    {
     "name": "stderr",
     "output_type": "stream",
     "text": [
      "26046it [8:29:21,  1.26it/s]"
     ]
    },
    {
     "name": "stdout",
     "output_type": "stream",
     "text": [
      "Error on https://wikipesija.org/wiki/utala_lete: None\n"
     ]
    },
    {
     "name": "stderr",
     "output_type": "stream",
     "text": [
      "26196it [8:32:44,  1.48s/it]"
     ]
    },
    {
     "name": "stdout",
     "output_type": "stream",
     "text": [
      "NEW PAGE https://wikipesija.org/index.php?title=ilo:Lipu_ale&from=toki+Kowi\n"
     ]
    },
    {
     "name": "stderr",
     "output_type": "stream",
     "text": [
      "26245it [8:33:41,  1.34s/it]"
     ]
    },
    {
     "name": "stdout",
     "output_type": "stream",
     "text": [
      "Error on https://wikipesija.org/wiki/toki_Malajalan: None\n"
     ]
    },
    {
     "name": "stderr",
     "output_type": "stream",
     "text": [
      "26322it [8:35:11,  1.59s/it]"
     ]
    },
    {
     "name": "stdout",
     "output_type": "stream",
     "text": [
      "Error on https://wikipesija.org/wiki/toki_Sankita: None\n"
     ]
    },
    {
     "name": "stderr",
     "output_type": "stream",
     "text": [
      "26324it [8:35:12,  1.25s/it]"
     ]
    },
    {
     "name": "stdout",
     "output_type": "stream",
     "text": [
      "Error on https://wikipesija.org/wiki/toki_Sansekita: None\n"
     ]
    },
    {
     "name": "stderr",
     "output_type": "stream",
     "text": [
      "26373it [8:36:10,  1.17s/it]"
     ]
    },
    {
     "name": "stdout",
     "output_type": "stream",
     "text": [
      "Error on https://wikipesija.org/wiki/toki_Tona: None\n"
     ]
    },
    {
     "name": "stderr",
     "output_type": "stream",
     "text": [
      "26541it [8:39:58,  1.55s/it]"
     ]
    },
    {
     "name": "stdout",
     "output_type": "stream",
     "text": [
      "NEW PAGE https://wikipesija.org/index.php?title=ilo:Lipu_ale&from=tomo+tawa+waso\n"
     ]
    },
    {
     "name": "stderr",
     "output_type": "stream",
     "text": [
      "26585it [8:40:52,  1.80s/it]"
     ]
    },
    {
     "name": "stdout",
     "output_type": "stream",
     "text": [
      "Error on https://wikipesija.org/wiki/utala_lete: None\n"
     ]
    },
    {
     "name": "stderr",
     "output_type": "stream",
     "text": [
      "26735it [8:43:06,  1.26it/s]"
     ]
    },
    {
     "name": "stdout",
     "output_type": "stream",
     "text": [
      "NEW PAGE https://wikipesija.org/index.php?title=ilo:Lipu_ale&from=toki+Kowi\n"
     ]
    },
    {
     "name": "stderr",
     "output_type": "stream",
     "text": [
      "26784it [8:43:47,  1.23it/s]"
     ]
    },
    {
     "name": "stdout",
     "output_type": "stream",
     "text": [
      "Error on https://wikipesija.org/wiki/toki_Malajalan: None\n"
     ]
    },
    {
     "name": "stderr",
     "output_type": "stream",
     "text": [
      "26861it [8:44:52,  1.03it/s]"
     ]
    },
    {
     "name": "stdout",
     "output_type": "stream",
     "text": [
      "Error on https://wikipesija.org/wiki/toki_Sankita: None\n"
     ]
    },
    {
     "name": "stderr",
     "output_type": "stream",
     "text": [
      "26863it [8:44:54,  1.02it/s]"
     ]
    },
    {
     "name": "stdout",
     "output_type": "stream",
     "text": [
      "Error on https://wikipesija.org/wiki/toki_Sansekita: None\n"
     ]
    },
    {
     "name": "stderr",
     "output_type": "stream",
     "text": [
      "26912it [8:45:34,  1.14s/it]"
     ]
    },
    {
     "name": "stdout",
     "output_type": "stream",
     "text": [
      "Error on https://wikipesija.org/wiki/toki_Tona: None\n"
     ]
    },
    {
     "name": "stderr",
     "output_type": "stream",
     "text": [
      "27080it [8:48:03,  1.20it/s]"
     ]
    },
    {
     "name": "stdout",
     "output_type": "stream",
     "text": [
      "NEW PAGE https://wikipesija.org/index.php?title=ilo:Lipu_ale&from=tomo+tawa+waso\n"
     ]
    },
    {
     "name": "stderr",
     "output_type": "stream",
     "text": [
      "27124it [8:48:39,  1.25it/s]"
     ]
    },
    {
     "name": "stdout",
     "output_type": "stream",
     "text": [
      "Error on https://wikipesija.org/wiki/utala_lete: None\n"
     ]
    },
    {
     "name": "stderr",
     "output_type": "stream",
     "text": [
      "27274it [8:50:37,  1.30it/s]"
     ]
    },
    {
     "name": "stdout",
     "output_type": "stream",
     "text": [
      "NEW PAGE https://wikipesija.org/index.php?title=ilo:Lipu_ale&from=toki+Kowi\n"
     ]
    },
    {
     "name": "stderr",
     "output_type": "stream",
     "text": [
      "27323it [8:51:20,  1.16s/it]"
     ]
    },
    {
     "name": "stdout",
     "output_type": "stream",
     "text": [
      "Error on https://wikipesija.org/wiki/toki_Malajalan: None\n"
     ]
    },
    {
     "name": "stderr",
     "output_type": "stream",
     "text": [
      "27400it [8:52:21,  1.12it/s]"
     ]
    },
    {
     "name": "stdout",
     "output_type": "stream",
     "text": [
      "Error on https://wikipesija.org/wiki/toki_Sankita: None\n"
     ]
    },
    {
     "name": "stderr",
     "output_type": "stream",
     "text": [
      "27402it [8:52:23,  1.12it/s]"
     ]
    },
    {
     "name": "stdout",
     "output_type": "stream",
     "text": [
      "Error on https://wikipesija.org/wiki/toki_Sansekita: None\n"
     ]
    },
    {
     "name": "stderr",
     "output_type": "stream",
     "text": [
      "27451it [8:53:03,  1.28it/s]"
     ]
    },
    {
     "name": "stdout",
     "output_type": "stream",
     "text": [
      "Error on https://wikipesija.org/wiki/toki_Tona: None\n"
     ]
    },
    {
     "name": "stderr",
     "output_type": "stream",
     "text": [
      "27619it [8:55:17,  1.31it/s]"
     ]
    },
    {
     "name": "stdout",
     "output_type": "stream",
     "text": [
      "NEW PAGE https://wikipesija.org/index.php?title=ilo:Lipu_ale&from=tomo+tawa+waso\n"
     ]
    },
    {
     "name": "stderr",
     "output_type": "stream",
     "text": [
      "27663it [8:56:07,  1.91s/it]"
     ]
    },
    {
     "name": "stdout",
     "output_type": "stream",
     "text": [
      "Error on https://wikipesija.org/wiki/utala_lete: None\n"
     ]
    },
    {
     "name": "stderr",
     "output_type": "stream",
     "text": [
      "27813it [8:58:09,  1.26it/s]"
     ]
    },
    {
     "name": "stdout",
     "output_type": "stream",
     "text": [
      "NEW PAGE https://wikipesija.org/index.php?title=ilo:Lipu_ale&from=toki+Kowi\n"
     ]
    },
    {
     "name": "stderr",
     "output_type": "stream",
     "text": [
      "27862it [8:58:50,  1.21it/s]"
     ]
    },
    {
     "name": "stdout",
     "output_type": "stream",
     "text": [
      "Error on https://wikipesija.org/wiki/toki_Malajalan: None\n"
     ]
    },
    {
     "name": "stderr",
     "output_type": "stream",
     "text": [
      "27939it [8:59:51,  1.17it/s]"
     ]
    },
    {
     "name": "stdout",
     "output_type": "stream",
     "text": [
      "Error on https://wikipesija.org/wiki/toki_Sankita: None\n"
     ]
    },
    {
     "name": "stderr",
     "output_type": "stream",
     "text": [
      "27941it [8:59:53,  1.06it/s]"
     ]
    },
    {
     "name": "stdout",
     "output_type": "stream",
     "text": [
      "Error on https://wikipesija.org/wiki/toki_Sansekita: None\n"
     ]
    },
    {
     "name": "stderr",
     "output_type": "stream",
     "text": [
      "27990it [9:00:33,  1.01s/it]"
     ]
    },
    {
     "name": "stdout",
     "output_type": "stream",
     "text": [
      "Error on https://wikipesija.org/wiki/toki_Tona: None\n"
     ]
    },
    {
     "name": "stderr",
     "output_type": "stream",
     "text": [
      "28158it [9:02:48,  1.27it/s]"
     ]
    },
    {
     "name": "stdout",
     "output_type": "stream",
     "text": [
      "NEW PAGE https://wikipesija.org/index.php?title=ilo:Lipu_ale&from=tomo+tawa+waso\n"
     ]
    },
    {
     "name": "stderr",
     "output_type": "stream",
     "text": [
      "28202it [9:03:24,  1.24it/s]"
     ]
    },
    {
     "name": "stdout",
     "output_type": "stream",
     "text": [
      "Error on https://wikipesija.org/wiki/utala_lete: None\n"
     ]
    },
    {
     "name": "stderr",
     "output_type": "stream",
     "text": [
      "28352it [9:05:19,  1.32it/s]"
     ]
    },
    {
     "name": "stdout",
     "output_type": "stream",
     "text": [
      "NEW PAGE https://wikipesija.org/index.php?title=ilo:Lipu_ale&from=toki+Kowi\n"
     ]
    },
    {
     "name": "stderr",
     "output_type": "stream",
     "text": [
      "28401it [9:06:08,  1.20it/s]"
     ]
    },
    {
     "name": "stdout",
     "output_type": "stream",
     "text": [
      "Error on https://wikipesija.org/wiki/toki_Malajalan: None\n"
     ]
    },
    {
     "name": "stderr",
     "output_type": "stream",
     "text": [
      "28478it [9:07:09,  1.21it/s]"
     ]
    },
    {
     "name": "stdout",
     "output_type": "stream",
     "text": [
      "Error on https://wikipesija.org/wiki/toki_Sankita: None\n"
     ]
    },
    {
     "name": "stderr",
     "output_type": "stream",
     "text": [
      "28480it [9:07:11,  1.11it/s]"
     ]
    },
    {
     "name": "stdout",
     "output_type": "stream",
     "text": [
      "Error on https://wikipesija.org/wiki/toki_Sansekita: None\n"
     ]
    },
    {
     "name": "stderr",
     "output_type": "stream",
     "text": [
      "28529it [9:07:49,  1.30it/s]"
     ]
    },
    {
     "name": "stdout",
     "output_type": "stream",
     "text": [
      "Error on https://wikipesija.org/wiki/toki_Tona: None\n"
     ]
    },
    {
     "name": "stderr",
     "output_type": "stream",
     "text": [
      "28697it [9:10:01,  1.25it/s]"
     ]
    },
    {
     "name": "stdout",
     "output_type": "stream",
     "text": [
      "NEW PAGE https://wikipesija.org/index.php?title=ilo:Lipu_ale&from=tomo+tawa+waso\n"
     ]
    },
    {
     "name": "stderr",
     "output_type": "stream",
     "text": [
      "28741it [9:10:39,  1.15it/s]"
     ]
    },
    {
     "name": "stdout",
     "output_type": "stream",
     "text": [
      "Error on https://wikipesija.org/wiki/utala_lete: None\n"
     ]
    },
    {
     "name": "stderr",
     "output_type": "stream",
     "text": [
      "28891it [9:12:38,  1.30it/s]"
     ]
    },
    {
     "name": "stdout",
     "output_type": "stream",
     "text": [
      "NEW PAGE https://wikipesija.org/index.php?title=ilo:Lipu_ale&from=toki+Kowi\n"
     ]
    },
    {
     "name": "stderr",
     "output_type": "stream",
     "text": [
      "28940it [9:13:20,  1.09it/s]"
     ]
    },
    {
     "name": "stdout",
     "output_type": "stream",
     "text": [
      "Error on https://wikipesija.org/wiki/toki_Malajalan: None\n"
     ]
    },
    {
     "name": "stderr",
     "output_type": "stream",
     "text": [
      "29017it [9:14:24,  1.03s/it]"
     ]
    },
    {
     "name": "stdout",
     "output_type": "stream",
     "text": [
      "Error on https://wikipesija.org/wiki/toki_Sankita: None\n"
     ]
    },
    {
     "name": "stderr",
     "output_type": "stream",
     "text": [
      "29019it [9:14:26,  1.05s/it]"
     ]
    },
    {
     "name": "stdout",
     "output_type": "stream",
     "text": [
      "Error on https://wikipesija.org/wiki/toki_Sansekita: None\n"
     ]
    },
    {
     "name": "stderr",
     "output_type": "stream",
     "text": [
      "29068it [9:15:07,  1.15it/s]"
     ]
    },
    {
     "name": "stdout",
     "output_type": "stream",
     "text": [
      "Error on https://wikipesija.org/wiki/toki_Tona: None\n"
     ]
    },
    {
     "name": "stderr",
     "output_type": "stream",
     "text": [
      "29236it [9:17:22,  1.21it/s]"
     ]
    },
    {
     "name": "stdout",
     "output_type": "stream",
     "text": [
      "NEW PAGE https://wikipesija.org/index.php?title=ilo:Lipu_ale&from=tomo+tawa+waso\n"
     ]
    },
    {
     "name": "stderr",
     "output_type": "stream",
     "text": [
      "29280it [9:17:59,  1.25it/s]"
     ]
    },
    {
     "name": "stdout",
     "output_type": "stream",
     "text": [
      "Error on https://wikipesija.org/wiki/utala_lete: None\n"
     ]
    },
    {
     "name": "stderr",
     "output_type": "stream",
     "text": [
      "29430it [9:19:59,  1.28it/s]"
     ]
    },
    {
     "name": "stdout",
     "output_type": "stream",
     "text": [
      "NEW PAGE https://wikipesija.org/index.php?title=ilo:Lipu_ale&from=toki+Kowi\n"
     ]
    },
    {
     "name": "stderr",
     "output_type": "stream",
     "text": [
      "29479it [9:20:40,  1.27it/s]"
     ]
    },
    {
     "name": "stdout",
     "output_type": "stream",
     "text": [
      "Error on https://wikipesija.org/wiki/toki_Malajalan: None\n"
     ]
    },
    {
     "name": "stderr",
     "output_type": "stream",
     "text": [
      "29556it [9:21:44,  1.15it/s]"
     ]
    },
    {
     "name": "stdout",
     "output_type": "stream",
     "text": [
      "Error on https://wikipesija.org/wiki/toki_Sankita: None\n"
     ]
    },
    {
     "name": "stderr",
     "output_type": "stream",
     "text": [
      "29558it [9:21:46,  1.11it/s]"
     ]
    },
    {
     "name": "stdout",
     "output_type": "stream",
     "text": [
      "Error on https://wikipesija.org/wiki/toki_Sansekita: None\n"
     ]
    },
    {
     "name": "stderr",
     "output_type": "stream",
     "text": [
      "29607it [9:22:27,  1.20it/s]"
     ]
    },
    {
     "name": "stdout",
     "output_type": "stream",
     "text": [
      "Error on https://wikipesija.org/wiki/toki_Tona: None\n"
     ]
    },
    {
     "name": "stderr",
     "output_type": "stream",
     "text": [
      "29775it [9:24:43,  1.31it/s]"
     ]
    },
    {
     "name": "stdout",
     "output_type": "stream",
     "text": [
      "NEW PAGE https://wikipesija.org/index.php?title=ilo:Lipu_ale&from=tomo+tawa+waso\n"
     ]
    },
    {
     "name": "stderr",
     "output_type": "stream",
     "text": [
      "29819it [9:25:26,  1.09s/it]"
     ]
    },
    {
     "name": "stdout",
     "output_type": "stream",
     "text": [
      "Error on https://wikipesija.org/wiki/utala_lete: None\n"
     ]
    },
    {
     "name": "stderr",
     "output_type": "stream",
     "text": [
      "29969it [9:27:26,  1.05it/s]"
     ]
    },
    {
     "name": "stdout",
     "output_type": "stream",
     "text": [
      "NEW PAGE https://wikipesija.org/index.php?title=ilo:Lipu_ale&from=toki+Kowi\n"
     ]
    },
    {
     "name": "stderr",
     "output_type": "stream",
     "text": [
      "29983it [9:27:39,  1.14s/it]\n"
     ]
    },
    {
     "ename": "KeyboardInterrupt",
     "evalue": "",
     "output_type": "error",
     "traceback": [
      "\u001b[31m---------------------------------------------------------------------------\u001b[39m",
      "\u001b[31mKeyboardInterrupt\u001b[39m                         Traceback (most recent call last)",
      "\u001b[36mCell\u001b[39m\u001b[36m \u001b[39m\u001b[32mIn[1]\u001b[39m\u001b[32m, line 59\u001b[39m\n\u001b[32m     57\u001b[39m \u001b[38;5;28;01mfor\u001b[39;00m _ \u001b[38;5;129;01min\u001b[39;00m \u001b[38;5;28mrange\u001b[39m(\u001b[32m5\u001b[39m):\n\u001b[32m     58\u001b[39m     \u001b[38;5;28;01mtry\u001b[39;00m:\n\u001b[32m---> \u001b[39m\u001b[32m59\u001b[39m         text = \u001b[43mparse_article\u001b[49m\u001b[43m(\u001b[49m\u001b[43mlink\u001b[49m\u001b[43m)\u001b[49m\n\u001b[32m     60\u001b[39m         \u001b[38;5;28;01mbreak\u001b[39;00m\n\u001b[32m     61\u001b[39m     \u001b[38;5;28;01mexcept\u001b[39;00m \u001b[38;5;167;01mException\u001b[39;00m \u001b[38;5;28;01mas\u001b[39;00m e:\n",
      "\u001b[36mCell\u001b[39m\u001b[36m \u001b[39m\u001b[32mIn[1]\u001b[39m\u001b[32m, line 30\u001b[39m, in \u001b[36mparse_article\u001b[39m\u001b[34m(url)\u001b[39m\n\u001b[32m     29\u001b[39m \u001b[38;5;28;01mdef\u001b[39;00m\u001b[38;5;250m \u001b[39m\u001b[34mparse_article\u001b[39m(url):\n\u001b[32m---> \u001b[39m\u001b[32m30\u001b[39m     resp = \u001b[43mrequests\u001b[49m\u001b[43m.\u001b[49m\u001b[43mget\u001b[49m\u001b[43m(\u001b[49m\u001b[43murl\u001b[49m\u001b[43m)\u001b[49m\n\u001b[32m     31\u001b[39m     resp.raise_for_status()\n\u001b[32m     32\u001b[39m     soup = BeautifulSoup(resp.text, \u001b[33m\"\u001b[39m\u001b[33mhtml.parser\u001b[39m\u001b[33m\"\u001b[39m)\n",
      "\u001b[36mFile \u001b[39m\u001b[32mc:\\Users\\vd-la\\Documents\\toki pona\\venv\\Lib\\site-packages\\requests\\api.py:73\u001b[39m, in \u001b[36mget\u001b[39m\u001b[34m(url, params, **kwargs)\u001b[39m\n\u001b[32m     62\u001b[39m \u001b[38;5;28;01mdef\u001b[39;00m\u001b[38;5;250m \u001b[39m\u001b[34mget\u001b[39m(url, params=\u001b[38;5;28;01mNone\u001b[39;00m, **kwargs):\n\u001b[32m     63\u001b[39m \u001b[38;5;250m    \u001b[39m\u001b[33mr\u001b[39m\u001b[33;03m\"\"\"Sends a GET request.\u001b[39;00m\n\u001b[32m     64\u001b[39m \n\u001b[32m     65\u001b[39m \u001b[33;03m    :param url: URL for the new :class:`Request` object.\u001b[39;00m\n\u001b[32m   (...)\u001b[39m\u001b[32m     70\u001b[39m \u001b[33;03m    :rtype: requests.Response\u001b[39;00m\n\u001b[32m     71\u001b[39m \u001b[33;03m    \"\"\"\u001b[39;00m\n\u001b[32m---> \u001b[39m\u001b[32m73\u001b[39m     \u001b[38;5;28;01mreturn\u001b[39;00m \u001b[43mrequest\u001b[49m\u001b[43m(\u001b[49m\u001b[33;43m\"\u001b[39;49m\u001b[33;43mget\u001b[39;49m\u001b[33;43m\"\u001b[39;49m\u001b[43m,\u001b[49m\u001b[43m \u001b[49m\u001b[43murl\u001b[49m\u001b[43m,\u001b[49m\u001b[43m \u001b[49m\u001b[43mparams\u001b[49m\u001b[43m=\u001b[49m\u001b[43mparams\u001b[49m\u001b[43m,\u001b[49m\u001b[43m \u001b[49m\u001b[43m*\u001b[49m\u001b[43m*\u001b[49m\u001b[43mkwargs\u001b[49m\u001b[43m)\u001b[49m\n",
      "\u001b[36mFile \u001b[39m\u001b[32mc:\\Users\\vd-la\\Documents\\toki pona\\venv\\Lib\\site-packages\\requests\\api.py:59\u001b[39m, in \u001b[36mrequest\u001b[39m\u001b[34m(method, url, **kwargs)\u001b[39m\n\u001b[32m     55\u001b[39m \u001b[38;5;66;03m# By using the 'with' statement we are sure the session is closed, thus we\u001b[39;00m\n\u001b[32m     56\u001b[39m \u001b[38;5;66;03m# avoid leaving sockets open which can trigger a ResourceWarning in some\u001b[39;00m\n\u001b[32m     57\u001b[39m \u001b[38;5;66;03m# cases, and look like a memory leak in others.\u001b[39;00m\n\u001b[32m     58\u001b[39m \u001b[38;5;28;01mwith\u001b[39;00m sessions.Session() \u001b[38;5;28;01mas\u001b[39;00m session:\n\u001b[32m---> \u001b[39m\u001b[32m59\u001b[39m     \u001b[38;5;28;01mreturn\u001b[39;00m \u001b[43msession\u001b[49m\u001b[43m.\u001b[49m\u001b[43mrequest\u001b[49m\u001b[43m(\u001b[49m\u001b[43mmethod\u001b[49m\u001b[43m=\u001b[49m\u001b[43mmethod\u001b[49m\u001b[43m,\u001b[49m\u001b[43m \u001b[49m\u001b[43murl\u001b[49m\u001b[43m=\u001b[49m\u001b[43murl\u001b[49m\u001b[43m,\u001b[49m\u001b[43m \u001b[49m\u001b[43m*\u001b[49m\u001b[43m*\u001b[49m\u001b[43mkwargs\u001b[49m\u001b[43m)\u001b[49m\n",
      "\u001b[36mFile \u001b[39m\u001b[32mc:\\Users\\vd-la\\Documents\\toki pona\\venv\\Lib\\site-packages\\requests\\sessions.py:589\u001b[39m, in \u001b[36mSession.request\u001b[39m\u001b[34m(self, method, url, params, data, headers, cookies, files, auth, timeout, allow_redirects, proxies, hooks, stream, verify, cert, json)\u001b[39m\n\u001b[32m    584\u001b[39m send_kwargs = {\n\u001b[32m    585\u001b[39m     \u001b[33m\"\u001b[39m\u001b[33mtimeout\u001b[39m\u001b[33m\"\u001b[39m: timeout,\n\u001b[32m    586\u001b[39m     \u001b[33m\"\u001b[39m\u001b[33mallow_redirects\u001b[39m\u001b[33m\"\u001b[39m: allow_redirects,\n\u001b[32m    587\u001b[39m }\n\u001b[32m    588\u001b[39m send_kwargs.update(settings)\n\u001b[32m--> \u001b[39m\u001b[32m589\u001b[39m resp = \u001b[38;5;28;43mself\u001b[39;49m\u001b[43m.\u001b[49m\u001b[43msend\u001b[49m\u001b[43m(\u001b[49m\u001b[43mprep\u001b[49m\u001b[43m,\u001b[49m\u001b[43m \u001b[49m\u001b[43m*\u001b[49m\u001b[43m*\u001b[49m\u001b[43msend_kwargs\u001b[49m\u001b[43m)\u001b[49m\n\u001b[32m    591\u001b[39m \u001b[38;5;28;01mreturn\u001b[39;00m resp\n",
      "\u001b[36mFile \u001b[39m\u001b[32mc:\\Users\\vd-la\\Documents\\toki pona\\venv\\Lib\\site-packages\\requests\\sessions.py:703\u001b[39m, in \u001b[36mSession.send\u001b[39m\u001b[34m(self, request, **kwargs)\u001b[39m\n\u001b[32m    700\u001b[39m start = preferred_clock()\n\u001b[32m    702\u001b[39m \u001b[38;5;66;03m# Send the request\u001b[39;00m\n\u001b[32m--> \u001b[39m\u001b[32m703\u001b[39m r = \u001b[43madapter\u001b[49m\u001b[43m.\u001b[49m\u001b[43msend\u001b[49m\u001b[43m(\u001b[49m\u001b[43mrequest\u001b[49m\u001b[43m,\u001b[49m\u001b[43m \u001b[49m\u001b[43m*\u001b[49m\u001b[43m*\u001b[49m\u001b[43mkwargs\u001b[49m\u001b[43m)\u001b[49m\n\u001b[32m    705\u001b[39m \u001b[38;5;66;03m# Total elapsed time of the request (approximately)\u001b[39;00m\n\u001b[32m    706\u001b[39m elapsed = preferred_clock() - start\n",
      "\u001b[36mFile \u001b[39m\u001b[32mc:\\Users\\vd-la\\Documents\\toki pona\\venv\\Lib\\site-packages\\requests\\adapters.py:667\u001b[39m, in \u001b[36mHTTPAdapter.send\u001b[39m\u001b[34m(self, request, stream, timeout, verify, cert, proxies)\u001b[39m\n\u001b[32m    664\u001b[39m     timeout = TimeoutSauce(connect=timeout, read=timeout)\n\u001b[32m    666\u001b[39m \u001b[38;5;28;01mtry\u001b[39;00m:\n\u001b[32m--> \u001b[39m\u001b[32m667\u001b[39m     resp = \u001b[43mconn\u001b[49m\u001b[43m.\u001b[49m\u001b[43murlopen\u001b[49m\u001b[43m(\u001b[49m\n\u001b[32m    668\u001b[39m \u001b[43m        \u001b[49m\u001b[43mmethod\u001b[49m\u001b[43m=\u001b[49m\u001b[43mrequest\u001b[49m\u001b[43m.\u001b[49m\u001b[43mmethod\u001b[49m\u001b[43m,\u001b[49m\n\u001b[32m    669\u001b[39m \u001b[43m        \u001b[49m\u001b[43murl\u001b[49m\u001b[43m=\u001b[49m\u001b[43murl\u001b[49m\u001b[43m,\u001b[49m\n\u001b[32m    670\u001b[39m \u001b[43m        \u001b[49m\u001b[43mbody\u001b[49m\u001b[43m=\u001b[49m\u001b[43mrequest\u001b[49m\u001b[43m.\u001b[49m\u001b[43mbody\u001b[49m\u001b[43m,\u001b[49m\n\u001b[32m    671\u001b[39m \u001b[43m        \u001b[49m\u001b[43mheaders\u001b[49m\u001b[43m=\u001b[49m\u001b[43mrequest\u001b[49m\u001b[43m.\u001b[49m\u001b[43mheaders\u001b[49m\u001b[43m,\u001b[49m\n\u001b[32m    672\u001b[39m \u001b[43m        \u001b[49m\u001b[43mredirect\u001b[49m\u001b[43m=\u001b[49m\u001b[38;5;28;43;01mFalse\u001b[39;49;00m\u001b[43m,\u001b[49m\n\u001b[32m    673\u001b[39m \u001b[43m        \u001b[49m\u001b[43massert_same_host\u001b[49m\u001b[43m=\u001b[49m\u001b[38;5;28;43;01mFalse\u001b[39;49;00m\u001b[43m,\u001b[49m\n\u001b[32m    674\u001b[39m \u001b[43m        \u001b[49m\u001b[43mpreload_content\u001b[49m\u001b[43m=\u001b[49m\u001b[38;5;28;43;01mFalse\u001b[39;49;00m\u001b[43m,\u001b[49m\n\u001b[32m    675\u001b[39m \u001b[43m        \u001b[49m\u001b[43mdecode_content\u001b[49m\u001b[43m=\u001b[49m\u001b[38;5;28;43;01mFalse\u001b[39;49;00m\u001b[43m,\u001b[49m\n\u001b[32m    676\u001b[39m \u001b[43m        \u001b[49m\u001b[43mretries\u001b[49m\u001b[43m=\u001b[49m\u001b[38;5;28;43mself\u001b[39;49m\u001b[43m.\u001b[49m\u001b[43mmax_retries\u001b[49m\u001b[43m,\u001b[49m\n\u001b[32m    677\u001b[39m \u001b[43m        \u001b[49m\u001b[43mtimeout\u001b[49m\u001b[43m=\u001b[49m\u001b[43mtimeout\u001b[49m\u001b[43m,\u001b[49m\n\u001b[32m    678\u001b[39m \u001b[43m        \u001b[49m\u001b[43mchunked\u001b[49m\u001b[43m=\u001b[49m\u001b[43mchunked\u001b[49m\u001b[43m,\u001b[49m\n\u001b[32m    679\u001b[39m \u001b[43m    \u001b[49m\u001b[43m)\u001b[49m\n\u001b[32m    681\u001b[39m \u001b[38;5;28;01mexcept\u001b[39;00m (ProtocolError, \u001b[38;5;167;01mOSError\u001b[39;00m) \u001b[38;5;28;01mas\u001b[39;00m err:\n\u001b[32m    682\u001b[39m     \u001b[38;5;28;01mraise\u001b[39;00m \u001b[38;5;167;01mConnectionError\u001b[39;00m(err, request=request)\n",
      "\u001b[36mFile \u001b[39m\u001b[32mc:\\Users\\vd-la\\Documents\\toki pona\\venv\\Lib\\site-packages\\urllib3\\connectionpool.py:787\u001b[39m, in \u001b[36mHTTPConnectionPool.urlopen\u001b[39m\u001b[34m(self, method, url, body, headers, retries, redirect, assert_same_host, timeout, pool_timeout, release_conn, chunked, body_pos, preload_content, decode_content, **response_kw)\u001b[39m\n\u001b[32m    784\u001b[39m response_conn = conn \u001b[38;5;28;01mif\u001b[39;00m \u001b[38;5;129;01mnot\u001b[39;00m release_conn \u001b[38;5;28;01melse\u001b[39;00m \u001b[38;5;28;01mNone\u001b[39;00m\n\u001b[32m    786\u001b[39m \u001b[38;5;66;03m# Make the request on the HTTPConnection object\u001b[39;00m\n\u001b[32m--> \u001b[39m\u001b[32m787\u001b[39m response = \u001b[38;5;28;43mself\u001b[39;49m\u001b[43m.\u001b[49m\u001b[43m_make_request\u001b[49m\u001b[43m(\u001b[49m\n\u001b[32m    788\u001b[39m \u001b[43m    \u001b[49m\u001b[43mconn\u001b[49m\u001b[43m,\u001b[49m\n\u001b[32m    789\u001b[39m \u001b[43m    \u001b[49m\u001b[43mmethod\u001b[49m\u001b[43m,\u001b[49m\n\u001b[32m    790\u001b[39m \u001b[43m    \u001b[49m\u001b[43murl\u001b[49m\u001b[43m,\u001b[49m\n\u001b[32m    791\u001b[39m \u001b[43m    \u001b[49m\u001b[43mtimeout\u001b[49m\u001b[43m=\u001b[49m\u001b[43mtimeout_obj\u001b[49m\u001b[43m,\u001b[49m\n\u001b[32m    792\u001b[39m \u001b[43m    \u001b[49m\u001b[43mbody\u001b[49m\u001b[43m=\u001b[49m\u001b[43mbody\u001b[49m\u001b[43m,\u001b[49m\n\u001b[32m    793\u001b[39m \u001b[43m    \u001b[49m\u001b[43mheaders\u001b[49m\u001b[43m=\u001b[49m\u001b[43mheaders\u001b[49m\u001b[43m,\u001b[49m\n\u001b[32m    794\u001b[39m \u001b[43m    \u001b[49m\u001b[43mchunked\u001b[49m\u001b[43m=\u001b[49m\u001b[43mchunked\u001b[49m\u001b[43m,\u001b[49m\n\u001b[32m    795\u001b[39m \u001b[43m    \u001b[49m\u001b[43mretries\u001b[49m\u001b[43m=\u001b[49m\u001b[43mretries\u001b[49m\u001b[43m,\u001b[49m\n\u001b[32m    796\u001b[39m \u001b[43m    \u001b[49m\u001b[43mresponse_conn\u001b[49m\u001b[43m=\u001b[49m\u001b[43mresponse_conn\u001b[49m\u001b[43m,\u001b[49m\n\u001b[32m    797\u001b[39m \u001b[43m    \u001b[49m\u001b[43mpreload_content\u001b[49m\u001b[43m=\u001b[49m\u001b[43mpreload_content\u001b[49m\u001b[43m,\u001b[49m\n\u001b[32m    798\u001b[39m \u001b[43m    \u001b[49m\u001b[43mdecode_content\u001b[49m\u001b[43m=\u001b[49m\u001b[43mdecode_content\u001b[49m\u001b[43m,\u001b[49m\n\u001b[32m    799\u001b[39m \u001b[43m    \u001b[49m\u001b[43m*\u001b[49m\u001b[43m*\u001b[49m\u001b[43mresponse_kw\u001b[49m\u001b[43m,\u001b[49m\n\u001b[32m    800\u001b[39m \u001b[43m\u001b[49m\u001b[43m)\u001b[49m\n\u001b[32m    802\u001b[39m \u001b[38;5;66;03m# Everything went great!\u001b[39;00m\n\u001b[32m    803\u001b[39m clean_exit = \u001b[38;5;28;01mTrue\u001b[39;00m\n",
      "\u001b[36mFile \u001b[39m\u001b[32mc:\\Users\\vd-la\\Documents\\toki pona\\venv\\Lib\\site-packages\\urllib3\\connectionpool.py:534\u001b[39m, in \u001b[36mHTTPConnectionPool._make_request\u001b[39m\u001b[34m(self, conn, method, url, body, headers, retries, timeout, chunked, response_conn, preload_content, decode_content, enforce_content_length)\u001b[39m\n\u001b[32m    532\u001b[39m \u001b[38;5;66;03m# Receive the response from the server\u001b[39;00m\n\u001b[32m    533\u001b[39m \u001b[38;5;28;01mtry\u001b[39;00m:\n\u001b[32m--> \u001b[39m\u001b[32m534\u001b[39m     response = \u001b[43mconn\u001b[49m\u001b[43m.\u001b[49m\u001b[43mgetresponse\u001b[49m\u001b[43m(\u001b[49m\u001b[43m)\u001b[49m\n\u001b[32m    535\u001b[39m \u001b[38;5;28;01mexcept\u001b[39;00m (BaseSSLError, \u001b[38;5;167;01mOSError\u001b[39;00m) \u001b[38;5;28;01mas\u001b[39;00m e:\n\u001b[32m    536\u001b[39m     \u001b[38;5;28mself\u001b[39m._raise_timeout(err=e, url=url, timeout_value=read_timeout)\n",
      "\u001b[36mFile \u001b[39m\u001b[32mc:\\Users\\vd-la\\Documents\\toki pona\\venv\\Lib\\site-packages\\urllib3\\connection.py:516\u001b[39m, in \u001b[36mHTTPConnection.getresponse\u001b[39m\u001b[34m(self)\u001b[39m\n\u001b[32m    513\u001b[39m _shutdown = \u001b[38;5;28mgetattr\u001b[39m(\u001b[38;5;28mself\u001b[39m.sock, \u001b[33m\"\u001b[39m\u001b[33mshutdown\u001b[39m\u001b[33m\"\u001b[39m, \u001b[38;5;28;01mNone\u001b[39;00m)\n\u001b[32m    515\u001b[39m \u001b[38;5;66;03m# Get the response from http.client.HTTPConnection\u001b[39;00m\n\u001b[32m--> \u001b[39m\u001b[32m516\u001b[39m httplib_response = \u001b[38;5;28;43msuper\u001b[39;49m\u001b[43m(\u001b[49m\u001b[43m)\u001b[49m\u001b[43m.\u001b[49m\u001b[43mgetresponse\u001b[49m\u001b[43m(\u001b[49m\u001b[43m)\u001b[49m\n\u001b[32m    518\u001b[39m \u001b[38;5;28;01mtry\u001b[39;00m:\n\u001b[32m    519\u001b[39m     assert_header_parsing(httplib_response.msg)\n",
      "\u001b[36mFile \u001b[39m\u001b[32m~\\.pyenv\\pyenv-win\\versions\\3.12.3\\Lib\\http\\client.py:1428\u001b[39m, in \u001b[36mHTTPConnection.getresponse\u001b[39m\u001b[34m(self)\u001b[39m\n\u001b[32m   1426\u001b[39m \u001b[38;5;28;01mtry\u001b[39;00m:\n\u001b[32m   1427\u001b[39m     \u001b[38;5;28;01mtry\u001b[39;00m:\n\u001b[32m-> \u001b[39m\u001b[32m1428\u001b[39m         \u001b[43mresponse\u001b[49m\u001b[43m.\u001b[49m\u001b[43mbegin\u001b[49m\u001b[43m(\u001b[49m\u001b[43m)\u001b[49m\n\u001b[32m   1429\u001b[39m     \u001b[38;5;28;01mexcept\u001b[39;00m \u001b[38;5;167;01mConnectionError\u001b[39;00m:\n\u001b[32m   1430\u001b[39m         \u001b[38;5;28mself\u001b[39m.close()\n",
      "\u001b[36mFile \u001b[39m\u001b[32m~\\.pyenv\\pyenv-win\\versions\\3.12.3\\Lib\\http\\client.py:331\u001b[39m, in \u001b[36mHTTPResponse.begin\u001b[39m\u001b[34m(self)\u001b[39m\n\u001b[32m    329\u001b[39m \u001b[38;5;66;03m# read until we get a non-100 response\u001b[39;00m\n\u001b[32m    330\u001b[39m \u001b[38;5;28;01mwhile\u001b[39;00m \u001b[38;5;28;01mTrue\u001b[39;00m:\n\u001b[32m--> \u001b[39m\u001b[32m331\u001b[39m     version, status, reason = \u001b[38;5;28;43mself\u001b[39;49m\u001b[43m.\u001b[49m\u001b[43m_read_status\u001b[49m\u001b[43m(\u001b[49m\u001b[43m)\u001b[49m\n\u001b[32m    332\u001b[39m     \u001b[38;5;28;01mif\u001b[39;00m status != CONTINUE:\n\u001b[32m    333\u001b[39m         \u001b[38;5;28;01mbreak\u001b[39;00m\n",
      "\u001b[36mFile \u001b[39m\u001b[32m~\\.pyenv\\pyenv-win\\versions\\3.12.3\\Lib\\http\\client.py:292\u001b[39m, in \u001b[36mHTTPResponse._read_status\u001b[39m\u001b[34m(self)\u001b[39m\n\u001b[32m    291\u001b[39m \u001b[38;5;28;01mdef\u001b[39;00m\u001b[38;5;250m \u001b[39m\u001b[34m_read_status\u001b[39m(\u001b[38;5;28mself\u001b[39m):\n\u001b[32m--> \u001b[39m\u001b[32m292\u001b[39m     line = \u001b[38;5;28mstr\u001b[39m(\u001b[38;5;28;43mself\u001b[39;49m\u001b[43m.\u001b[49m\u001b[43mfp\u001b[49m\u001b[43m.\u001b[49m\u001b[43mreadline\u001b[49m\u001b[43m(\u001b[49m\u001b[43m_MAXLINE\u001b[49m\u001b[43m \u001b[49m\u001b[43m+\u001b[49m\u001b[43m \u001b[49m\u001b[32;43m1\u001b[39;49m\u001b[43m)\u001b[49m, \u001b[33m\"\u001b[39m\u001b[33miso-8859-1\u001b[39m\u001b[33m\"\u001b[39m)\n\u001b[32m    293\u001b[39m     \u001b[38;5;28;01mif\u001b[39;00m \u001b[38;5;28mlen\u001b[39m(line) > _MAXLINE:\n\u001b[32m    294\u001b[39m         \u001b[38;5;28;01mraise\u001b[39;00m LineTooLong(\u001b[33m\"\u001b[39m\u001b[33mstatus line\u001b[39m\u001b[33m\"\u001b[39m)\n",
      "\u001b[36mFile \u001b[39m\u001b[32m~\\.pyenv\\pyenv-win\\versions\\3.12.3\\Lib\\socket.py:707\u001b[39m, in \u001b[36mSocketIO.readinto\u001b[39m\u001b[34m(self, b)\u001b[39m\n\u001b[32m    705\u001b[39m \u001b[38;5;28;01mwhile\u001b[39;00m \u001b[38;5;28;01mTrue\u001b[39;00m:\n\u001b[32m    706\u001b[39m     \u001b[38;5;28;01mtry\u001b[39;00m:\n\u001b[32m--> \u001b[39m\u001b[32m707\u001b[39m         \u001b[38;5;28;01mreturn\u001b[39;00m \u001b[38;5;28;43mself\u001b[39;49m\u001b[43m.\u001b[49m\u001b[43m_sock\u001b[49m\u001b[43m.\u001b[49m\u001b[43mrecv_into\u001b[49m\u001b[43m(\u001b[49m\u001b[43mb\u001b[49m\u001b[43m)\u001b[49m\n\u001b[32m    708\u001b[39m     \u001b[38;5;28;01mexcept\u001b[39;00m timeout:\n\u001b[32m    709\u001b[39m         \u001b[38;5;28mself\u001b[39m._timeout_occurred = \u001b[38;5;28;01mTrue\u001b[39;00m\n",
      "\u001b[36mFile \u001b[39m\u001b[32m~\\.pyenv\\pyenv-win\\versions\\3.12.3\\Lib\\ssl.py:1252\u001b[39m, in \u001b[36mSSLSocket.recv_into\u001b[39m\u001b[34m(self, buffer, nbytes, flags)\u001b[39m\n\u001b[32m   1248\u001b[39m     \u001b[38;5;28;01mif\u001b[39;00m flags != \u001b[32m0\u001b[39m:\n\u001b[32m   1249\u001b[39m         \u001b[38;5;28;01mraise\u001b[39;00m \u001b[38;5;167;01mValueError\u001b[39;00m(\n\u001b[32m   1250\u001b[39m           \u001b[33m\"\u001b[39m\u001b[33mnon-zero flags not allowed in calls to recv_into() on \u001b[39m\u001b[38;5;132;01m%s\u001b[39;00m\u001b[33m\"\u001b[39m %\n\u001b[32m   1251\u001b[39m           \u001b[38;5;28mself\u001b[39m.\u001b[34m__class__\u001b[39m)\n\u001b[32m-> \u001b[39m\u001b[32m1252\u001b[39m     \u001b[38;5;28;01mreturn\u001b[39;00m \u001b[38;5;28;43mself\u001b[39;49m\u001b[43m.\u001b[49m\u001b[43mread\u001b[49m\u001b[43m(\u001b[49m\u001b[43mnbytes\u001b[49m\u001b[43m,\u001b[49m\u001b[43m \u001b[49m\u001b[43mbuffer\u001b[49m\u001b[43m)\u001b[49m\n\u001b[32m   1253\u001b[39m \u001b[38;5;28;01melse\u001b[39;00m:\n\u001b[32m   1254\u001b[39m     \u001b[38;5;28;01mreturn\u001b[39;00m \u001b[38;5;28msuper\u001b[39m().recv_into(buffer, nbytes, flags)\n",
      "\u001b[36mFile \u001b[39m\u001b[32m~\\.pyenv\\pyenv-win\\versions\\3.12.3\\Lib\\ssl.py:1104\u001b[39m, in \u001b[36mSSLSocket.read\u001b[39m\u001b[34m(self, len, buffer)\u001b[39m\n\u001b[32m   1102\u001b[39m \u001b[38;5;28;01mtry\u001b[39;00m:\n\u001b[32m   1103\u001b[39m     \u001b[38;5;28;01mif\u001b[39;00m buffer \u001b[38;5;129;01mis\u001b[39;00m \u001b[38;5;129;01mnot\u001b[39;00m \u001b[38;5;28;01mNone\u001b[39;00m:\n\u001b[32m-> \u001b[39m\u001b[32m1104\u001b[39m         \u001b[38;5;28;01mreturn\u001b[39;00m \u001b[38;5;28;43mself\u001b[39;49m\u001b[43m.\u001b[49m\u001b[43m_sslobj\u001b[49m\u001b[43m.\u001b[49m\u001b[43mread\u001b[49m\u001b[43m(\u001b[49m\u001b[38;5;28;43mlen\u001b[39;49m\u001b[43m,\u001b[49m\u001b[43m \u001b[49m\u001b[43mbuffer\u001b[49m\u001b[43m)\u001b[49m\n\u001b[32m   1105\u001b[39m     \u001b[38;5;28;01melse\u001b[39;00m:\n\u001b[32m   1106\u001b[39m         \u001b[38;5;28;01mreturn\u001b[39;00m \u001b[38;5;28mself\u001b[39m._sslobj.read(\u001b[38;5;28mlen\u001b[39m)\n",
      "\u001b[31mKeyboardInterrupt\u001b[39m: "
     ]
    }
   ],
   "source": [
    "import requests\n",
    "from bs4 import BeautifulSoup\n",
    "import time\n",
    "\n",
    "from tqdm import tqdm\n",
    "\n",
    "BASE_URL = \"https://wikipesija.org\"\n",
    "START_URL = f\"{BASE_URL}/wiki/Special:AllPages\"\n",
    "\n",
    "def get_all_pages():\n",
    "    url = START_URL\n",
    "    while url:\n",
    "        print(f\"NEW PAGE {url}\")\n",
    "        resp = requests.get(url)\n",
    "        resp.raise_for_status()\n",
    "        soup = BeautifulSoup(resp.text, \"html.parser\")\n",
    "\n",
    "        # Ссылки на статьи\n",
    "        for li in soup.select(\".mw-allpages-body li a\"):\n",
    "            yield BASE_URL + li[\"href\"]\n",
    "\n",
    "        next_link_a = list(soup.select(\".mw-allpages-nav a\"))\n",
    "        if not next_link_a:\n",
    "            break\n",
    "        next_link = next_link_a[-1]\n",
    "        url = BASE_URL + next_link[\"href\"] if next_link else None\n",
    "        time.sleep(0.5)\n",
    "\n",
    "def parse_article(url):\n",
    "    resp = requests.get(url)\n",
    "    resp.raise_for_status()\n",
    "    soup = BeautifulSoup(resp.text, \"html.parser\")\n",
    "    content_div = soup.find(\"div\", class_=\"mw-parser-output\")\n",
    "    if not content_div:\n",
    "        return \"\"\n",
    "\n",
    "    for tag in content_div.find_all([\"table\", \"div\"]):\n",
    "        tag.decompose()\n",
    "\n",
    "    for tag in content_div.find_all(class_=[\"mw-editsection\", \"cite-bracket\", \"reference\"]):\n",
    "        tag.decompose()\n",
    "\n",
    "    parts = []\n",
    "    for elem in content_div.find_all([\"p\", \"li\"]):\n",
    "        txt = elem.get_text(\" \", strip=True)  # внутри — пробел, а не \\n\n",
    "        if txt:\n",
    "            parts.append(txt.strip())\n",
    "\n",
    "    return \"\\n\".join(parts)\n",
    "\n",
    "results = []\n",
    "\n",
    "for link in tqdm(get_all_pages()):\n",
    "    title = link.split(\"/\")[-1]\n",
    "    text = None\n",
    "    e = None\n",
    "    for _ in range(5):\n",
    "        try:\n",
    "            text = parse_article(link)\n",
    "            break\n",
    "        except Exception as e:\n",
    "            time.sleep(1)\n",
    "    if not text:\n",
    "        print(f\"Error on {link}: {e}\")\n",
    "    results.append({\"url\": link, \"title\": title, \"text\": text})\n",
    "    time.sleep(0.1)"
   ]
  },
  {
   "cell_type": "code",
   "execution_count": 2,
   "id": "959a8141",
   "metadata": {},
   "outputs": [
    {
     "data": {
      "text/plain": [
       "29983"
      ]
     },
     "execution_count": 2,
     "metadata": {},
     "output_type": "execute_result"
    }
   ],
   "source": [
    "len(results)"
   ]
  },
  {
   "cell_type": "code",
   "execution_count": 45,
   "id": "24005f30",
   "metadata": {},
   "outputs": [
    {
     "data": {
      "text/html": [
       "<div><style>\n",
       ".dataframe > thead > tr,\n",
       ".dataframe > tbody > tr {\n",
       "  text-align: right;\n",
       "  white-space: pre-wrap;\n",
       "}\n",
       "</style>\n",
       "<small>shape: (29_983, 3)</small><table border=\"1\" class=\"dataframe\"><thead><tr><th>url</th><th>title</th><th>text</th></tr><tr><td>str</td><td>str</td><td>str</td></tr></thead><tbody><tr><td>&quot;https://wikipesija.org/wiki/-1&quot;</td><td>&quot;-1&quot;</td><td>&quot;-1 li nanpa li lili tawa 0 . s…</td></tr><tr><td>&quot;https://wikipesija.org/wiki/0&quot;</td><td>&quot;0&quot;</td><td>&quot;0 li ijo ala li ala. nasin nan…</td></tr><tr><td>&quot;https://wikipesija.org/wiki/1&quot;</td><td>&quot;1&quot;</td><td>&quot;wan li nanpa . tu li suli tawa…</td></tr><tr><td>&quot;https://wikipesija.org/wiki/10&quot;</td><td>&quot;10&quot;</td><td>&quot;10 ( luka luka [nnp] ) li nanp…</td></tr><tr><td>&quot;https://wikipesija.org/wiki/10…</td><td>&quot;100&quot;</td><td>&quot;100 (ale [nnp] ) li nanpa li l…</td></tr><tr><td>&hellip;</td><td>&hellip;</td><td>&hellip;</td></tr><tr><td>&quot;https://wikipesija.org/wiki/to…</td><td>&quot;toki_Lalen&quot;</td><td>&quot;toki Suko ( Scots anu Lallans …</td></tr><tr><td>&quot;https://wikipesija.org/wiki/to…</td><td>&quot;toki_Lanpun&quot;</td><td>&quot;toki Lanpun li toki sin musi p…</td></tr><tr><td>&quot;https://wikipesija.org/wiki/to…</td><td>&quot;toki_Lasena&quot;</td><td>&quot;toki Lasena ( toki Lasena : 𐌓𐌀…</td></tr><tr><td>&quot;https://wikipesija.org/wiki/to…</td><td>&quot;toki_Lasin&quot;</td><td>&quot;toki Lasin ( toki Lasin : ladi…</td></tr><tr><td>&quot;https://wikipesija.org/wiki/to…</td><td>&quot;toki_Lasina&quot;</td><td>&quot;toki Lasina ( toki Lasina : li…</td></tr></tbody></table></div>"
      ],
      "text/plain": [
       "shape: (29_983, 3)\n",
       "┌─────────────────────────────────┬─────────────┬─────────────────────────────────┐\n",
       "│ url                             ┆ title       ┆ text                            │\n",
       "│ ---                             ┆ ---         ┆ ---                             │\n",
       "│ str                             ┆ str         ┆ str                             │\n",
       "╞═════════════════════════════════╪═════════════╪═════════════════════════════════╡\n",
       "│ https://wikipesija.org/wiki/-1  ┆ -1          ┆ -1 li nanpa li lili tawa 0 . s… │\n",
       "│ https://wikipesija.org/wiki/0   ┆ 0           ┆ 0 li ijo ala li ala. nasin nan… │\n",
       "│ https://wikipesija.org/wiki/1   ┆ 1           ┆ wan li nanpa . tu li suli tawa… │\n",
       "│ https://wikipesija.org/wiki/10  ┆ 10          ┆ 10 ( luka luka [nnp] ) li nanp… │\n",
       "│ https://wikipesija.org/wiki/10… ┆ 100         ┆ 100 (ale [nnp] ) li nanpa li l… │\n",
       "│ …                               ┆ …           ┆ …                               │\n",
       "│ https://wikipesija.org/wiki/to… ┆ toki_Lalen  ┆ toki Suko ( Scots anu Lallans … │\n",
       "│ https://wikipesija.org/wiki/to… ┆ toki_Lanpun ┆ toki Lanpun li toki sin musi p… │\n",
       "│ https://wikipesija.org/wiki/to… ┆ toki_Lasena ┆ toki Lasena ( toki Lasena : 𐌓𐌀… │\n",
       "│ https://wikipesija.org/wiki/to… ┆ toki_Lasin  ┆ toki Lasin ( toki Lasin : ladi… │\n",
       "│ https://wikipesija.org/wiki/to… ┆ toki_Lasina ┆ toki Lasina ( toki Lasina : li… │\n",
       "└─────────────────────────────────┴─────────────┴─────────────────────────────────┘"
      ]
     },
     "execution_count": 45,
     "metadata": {},
     "output_type": "execute_result"
    }
   ],
   "source": [
    "import polars as pl\n",
    "\n",
    "data = pl.DataFrame(results, infer_schema_length=len(results))\n",
    "data"
   ]
  },
  {
   "cell_type": "code",
   "execution_count": 46,
   "id": "acc471fe",
   "metadata": {},
   "outputs": [
    {
     "data": {
      "text/plain": [
       "3064"
      ]
     },
     "execution_count": 46,
     "metadata": {},
     "output_type": "execute_result"
    }
   ],
   "source": [
    "data[\"text\"].n_unique()"
   ]
  },
  {
   "cell_type": "code",
   "execution_count": 47,
   "id": "4ac2811e",
   "metadata": {},
   "outputs": [
    {
     "name": "stderr",
     "output_type": "stream",
     "text": [
      "C:\\Users\\vd-la\\AppData\\Local\\Temp\\ipykernel_34652\\311578520.py:1: PolarsInefficientMapWarning: \n",
      "Series.map_elements is significantly slower than the native series API.\n",
      "Only use if you absolutely CANNOT implement your logic otherwise.\n",
      "Replace this expression...\n",
      "  - srs.map_elements(lambda t: ...)\n",
      "with this one instead:\n",
      "  + s | None\n",
      "\n",
      "  data = data.with_columns(data[\"text\"].map_elements(lambda t: t or None))\n",
      "C:\\Users\\vd-la\\AppData\\Local\\Temp\\ipykernel_34652\\311578520.py:1: MapWithoutReturnDtypeWarning: Calling `map_elements` without specifying `return_dtype` can lead to unpredictable results. Specify `return_dtype` to silence this warning.\n",
      "  data = data.with_columns(data[\"text\"].map_elements(lambda t: t or None))\n"
     ]
    },
    {
     "data": {
      "text/html": [
       "<div><style>\n",
       ".dataframe > thead > tr,\n",
       ".dataframe > tbody > tr {\n",
       "  text-align: right;\n",
       "  white-space: pre-wrap;\n",
       "}\n",
       "</style>\n",
       "<small>shape: (1, 3)</small><table border=\"1\" class=\"dataframe\"><thead><tr><th>url</th><th>title</th><th>text</th></tr><tr><td>u32</td><td>u32</td><td>u32</td></tr></thead><tbody><tr><td>0</td><td>0</td><td>329</td></tr></tbody></table></div>"
      ],
      "text/plain": [
       "shape: (1, 3)\n",
       "┌─────┬───────┬──────┐\n",
       "│ url ┆ title ┆ text │\n",
       "│ --- ┆ ---   ┆ ---  │\n",
       "│ u32 ┆ u32   ┆ u32  │\n",
       "╞═════╪═══════╪══════╡\n",
       "│ 0   ┆ 0     ┆ 329  │\n",
       "└─────┴───────┴──────┘"
      ]
     },
     "execution_count": 47,
     "metadata": {},
     "output_type": "execute_result"
    }
   ],
   "source": [
    "data = data.with_columns(data[\"text\"].map_elements(lambda t: t or None))\n",
    "data.null_count()"
   ]
  },
  {
   "cell_type": "code",
   "execution_count": 48,
   "id": "5edf0eb9",
   "metadata": {},
   "outputs": [],
   "source": [
    "data = data.drop_nulls()"
   ]
  },
  {
   "cell_type": "code",
   "execution_count": 49,
   "id": "d34b54bc",
   "metadata": {},
   "outputs": [
    {
     "data": {
      "text/plain": [
       "3063"
      ]
     },
     "execution_count": 49,
     "metadata": {},
     "output_type": "execute_result"
    }
   ],
   "source": [
    "data[\"text\"].n_unique()"
   ]
  },
  {
   "cell_type": "code",
   "execution_count": 50,
   "id": "42405d07",
   "metadata": {},
   "outputs": [
    {
     "data": {
      "text/html": [
       "<div><style>\n",
       ".dataframe > thead > tr,\n",
       ".dataframe > tbody > tr {\n",
       "  text-align: right;\n",
       "  white-space: pre-wrap;\n",
       "}\n",
       "</style>\n",
       "<small>shape: (3_063, 3)</small><table border=\"1\" class=\"dataframe\"><thead><tr><th>url</th><th>title</th><th>text</th></tr><tr><td>str</td><td>str</td><td>str</td></tr></thead><tbody><tr><td>&quot;https://wikipesija.org/wiki/Z&quot;</td><td>&quot;Z&quot;</td><td>&quot;Z li sitelen pini lon nasin si…</td></tr><tr><td>&quot;https://wikipesija.org/wiki/ku…</td><td>&quot;kulupu_SCP&quot;</td><td>&quot;kulupu SCP anu kulupu Esipi li…</td></tr><tr><td>&quot;https://wikipesija.org/wiki/po…</td><td>&quot;poki_mani&quot;</td><td>&quot;lon poki mani la, jan li ken p…</td></tr><tr><td>&quot;https://wikipesija.org/wiki/so…</td><td>&quot;sona_pi_pu_taso&quot;</td><td>&quot;sona pi pu taso ( toki Inli : …</td></tr><tr><td>&quot;https://wikipesija.org/wiki/IS…</td><td>&quot;ISO_3166:CR&quot;</td><td>&quot;ma Kosalika ( Costa Rica ) anu…</td></tr><tr><td>&hellip;</td><td>&hellip;</td><td>&hellip;</td></tr><tr><td>&quot;https://wikipesija.org/wiki/ma…</td><td>&quot;ma_Upe&quot;</td><td>&quot;ma Upe( toki Sonko :湖北省hu2 bei…</td></tr><tr><td>&quot;https://wikipesija.org/wiki/IS…</td><td>&quot;ISO_3166:ER&quot;</td><td>&quot;ma Eliteja li ma lawa lon ma A…</td></tr><tr><td>&quot;https://wikipesija.org/wiki/ja…</td><td>&quot;jaki&quot;</td><td>&quot;jaki li ijo ike . jan li wile …</td></tr><tr><td>&quot;https://wikipesija.org/wiki/ja…</td><td>&quot;jan_sewi_Asokasuntali&quot;</td><td>&quot;jan sewi Asokasuntali ( toki S…</td></tr><tr><td>&quot;https://wikipesija.org/wiki/ma…</td><td>&quot;ma_lili_pi_ma_Inli&quot;</td><td>&quot;ma lili mute li kipisi pi ma I…</td></tr></tbody></table></div>"
      ],
      "text/plain": [
       "shape: (3_063, 3)\n",
       "┌─────────────────────────────────┬───────────────────────┬─────────────────────────────────┐\n",
       "│ url                             ┆ title                 ┆ text                            │\n",
       "│ ---                             ┆ ---                   ┆ ---                             │\n",
       "│ str                             ┆ str                   ┆ str                             │\n",
       "╞═════════════════════════════════╪═══════════════════════╪═════════════════════════════════╡\n",
       "│ https://wikipesija.org/wiki/Z   ┆ Z                     ┆ Z li sitelen pini lon nasin si… │\n",
       "│ https://wikipesija.org/wiki/ku… ┆ kulupu_SCP            ┆ kulupu SCP anu kulupu Esipi li… │\n",
       "│ https://wikipesija.org/wiki/po… ┆ poki_mani             ┆ lon poki mani la, jan li ken p… │\n",
       "│ https://wikipesija.org/wiki/so… ┆ sona_pi_pu_taso       ┆ sona pi pu taso ( toki Inli : … │\n",
       "│ https://wikipesija.org/wiki/IS… ┆ ISO_3166:CR           ┆ ma Kosalika ( Costa Rica ) anu… │\n",
       "│ …                               ┆ …                     ┆ …                               │\n",
       "│ https://wikipesija.org/wiki/ma… ┆ ma_Upe                ┆ ma Upe( toki Sonko :湖北省hu2   │\n",
       "│                                 ┆                       ┆ bei…                            │\n",
       "│ https://wikipesija.org/wiki/IS… ┆ ISO_3166:ER           ┆ ma Eliteja li ma lawa lon ma A… │\n",
       "│ https://wikipesija.org/wiki/ja… ┆ jaki                  ┆ jaki li ijo ike . jan li wile … │\n",
       "│ https://wikipesija.org/wiki/ja… ┆ jan_sewi_Asokasuntali ┆ jan sewi Asokasuntali ( toki S… │\n",
       "│ https://wikipesija.org/wiki/ma… ┆ ma_lili_pi_ma_Inli    ┆ ma lili mute li kipisi pi ma I… │\n",
       "└─────────────────────────────────┴───────────────────────┴─────────────────────────────────┘"
      ]
     },
     "execution_count": 50,
     "metadata": {},
     "output_type": "execute_result"
    }
   ],
   "source": [
    "data = data.unique(\"text\")\n",
    "data"
   ]
  },
  {
   "cell_type": "code",
   "execution_count": 51,
   "id": "1ccc2d8e",
   "metadata": {},
   "outputs": [
    {
     "name": "stdout",
     "output_type": "stream",
     "text": [
      "nasin sewi Otun anu nasin sewi Otu anu nasin sewi Utu (toki Pon: Vodun ; toki Kejo: Vodou ; toki Inli: Voodoo , Hoodoo ) li nasin sewi tan ma Apika pi pini suno . kulupu Ewe en kulupu Jolupa en kulupu Pon li pilin wawa e nasin sewi ni lon ma Awisi lon ma Kana lon ma Naselija lon ma Penen lon ma Toko . nimi ona li jo e kon pi jan sewi.\n",
      "ona li jo e nimi mute. ma Penen la ona li jo e nimi Nuputo e nimi Nukonkon e nimi Nusiju e nimi Jewe e nimi Un. nimi Nuputo (toki Pon: Nubudo) li kon. jan li ken ala toki pona e ona. nimi Nukonkon (toki Pon: Nugongon) li kon suli. nimi Nusiju (toki Pon: Nujiwu) li kon pi kon monsuta sewi. nimi Jewe (toki Pon: Yèhwé) li nasin sewi pona. nimi Un (toki Pon: Hun) li telo sijelo loje. nasin sewi ni li sama nasin sewi Jolupa sama nasin sewi Kantonpe sama nasin sewi Santelija .\n",
      "ona li sewi e jan sewi mute. jan pali sewi li kama jan sewi lon sijelo ona. jan mute li pilin e ni: nasin sewi Otun li ike mute. ona li toki e ni: monsuta li kama lon jan pali sewi.\n",
      "jan Kanse li kama jo e jan pimeja pi ma Apika. ona li tawa e jan ni tawa ma Amelika . jan Kanse li toki e ni: nasin sewi sina li ike mute; o kama jan Katolika . ona li awen pilin wawa e nasin sewi Otun. taso ona li len e nasin sewi Otun kepeken nasin sewi Katolika. ona li toki e ni: mi mute li olin sewi ala e jan sewi ona pi sin ala; mi mute li olin sewi e jan pona pi nasin sewi Katolika. taso ona li kama pilin wawa e ijo pi mute lili tan nasin sewi Katolika. ma Apika la jan sewi Nana Puluku li lon e ma ale e jan sewi Maju e jan sewi Lisa . ma Awisi la sewi Ponte (toki Keyo: Bondyé; toki Kanse: Bon dieu; toki pona: sewi pona) li mama pi ma ale. jan sewi mute li selo ante pi jan sewi wan.\n",
      "jan pali anpa pi ma Awisi li toki e ni tawa jan sewi mute ona: o weka e mi mute tan jo pi jan Kanse; o pana e wawa tawa mi mute. jan pimeja li kama utala e jan Kanse li anpa e jan Kanse li kama lawa e ma Awisi.\n",
      "ma Awisi la jan pali sewi li sitelen lon ma tan wile ni: jan sewi li kama. sitelen ni li jo e nimi Wewe. sitelen Wewe en nimi ona li kama tan ma Apika. kin la ona li kama tan kulupu Tawino li kama tan kulupu Alawa tan ma Amelika.\n"
     ]
    }
   ],
   "source": [
    "s = data[\"text\"][2002]\n",
    "print(s)"
   ]
  },
  {
   "cell_type": "code",
   "execution_count": 52,
   "id": "6f154db0",
   "metadata": {},
   "outputs": [],
   "source": [
    "import re\n",
    "\n",
    "def remove_extra_spaces(s):\n",
    "    tt = re.sub(r\"\\s+([\\.\\,\\!\\?\\)\\]\\}\\:\\;])\", r\"\\1\", s)\n",
    "    r = re.sub(r\"([\\(\\[\\{])\\s+\", r\"\\1\", tt)\n",
    "    return r.strip()"
   ]
  },
  {
   "cell_type": "code",
   "execution_count": 53,
   "id": "a0436e17",
   "metadata": {},
   "outputs": [
    {
     "name": "stderr",
     "output_type": "stream",
     "text": [
      "C:\\Users\\vd-la\\AppData\\Local\\Temp\\ipykernel_34652\\1940327718.py:1: MapWithoutReturnDtypeWarning: Calling `map_elements` without specifying `return_dtype` can lead to unpredictable results. Specify `return_dtype` to silence this warning.\n",
      "  data = data.with_columns(data[\"text\"].map_elements(remove_extra_spaces))\n"
     ]
    },
    {
     "data": {
      "text/html": [
       "<div><style>\n",
       ".dataframe > thead > tr,\n",
       ".dataframe > tbody > tr {\n",
       "  text-align: right;\n",
       "  white-space: pre-wrap;\n",
       "}\n",
       "</style>\n",
       "<small>shape: (3_063, 3)</small><table border=\"1\" class=\"dataframe\"><thead><tr><th>url</th><th>title</th><th>text</th></tr><tr><td>str</td><td>str</td><td>str</td></tr></thead><tbody><tr><td>&quot;https://wikipesija.org/wiki/Z&quot;</td><td>&quot;Z&quot;</td><td>&quot;Z li sitelen pini lon nasin si…</td></tr><tr><td>&quot;https://wikipesija.org/wiki/ku…</td><td>&quot;kulupu_SCP&quot;</td><td>&quot;kulupu SCP anu kulupu Esipi li…</td></tr><tr><td>&quot;https://wikipesija.org/wiki/po…</td><td>&quot;poki_mani&quot;</td><td>&quot;lon poki mani la, jan li ken p…</td></tr><tr><td>&quot;https://wikipesija.org/wiki/so…</td><td>&quot;sona_pi_pu_taso&quot;</td><td>&quot;sona pi pu taso (toki Inli: pu…</td></tr><tr><td>&quot;https://wikipesija.org/wiki/IS…</td><td>&quot;ISO_3166:CR&quot;</td><td>&quot;ma Kosalika (Costa Rica) anu m…</td></tr><tr><td>&hellip;</td><td>&hellip;</td><td>&hellip;</td></tr><tr><td>&quot;https://wikipesija.org/wiki/ma…</td><td>&quot;ma_Upe&quot;</td><td>&quot;ma Upe(toki Sonko:湖北省hu2 bei3 …</td></tr><tr><td>&quot;https://wikipesija.org/wiki/IS…</td><td>&quot;ISO_3166:ER&quot;</td><td>&quot;ma Eliteja li ma lawa lon ma A…</td></tr><tr><td>&quot;https://wikipesija.org/wiki/ja…</td><td>&quot;jaki&quot;</td><td>&quot;jaki li ijo ike. jan li wile w…</td></tr><tr><td>&quot;https://wikipesija.org/wiki/ja…</td><td>&quot;jan_sewi_Asokasuntali&quot;</td><td>&quot;jan sewi Asokasuntali (toki Sa…</td></tr><tr><td>&quot;https://wikipesija.org/wiki/ma…</td><td>&quot;ma_lili_pi_ma_Inli&quot;</td><td>&quot;ma lili mute li kipisi pi ma I…</td></tr></tbody></table></div>"
      ],
      "text/plain": [
       "shape: (3_063, 3)\n",
       "┌─────────────────────────────────┬───────────────────────┬─────────────────────────────────┐\n",
       "│ url                             ┆ title                 ┆ text                            │\n",
       "│ ---                             ┆ ---                   ┆ ---                             │\n",
       "│ str                             ┆ str                   ┆ str                             │\n",
       "╞═════════════════════════════════╪═══════════════════════╪═════════════════════════════════╡\n",
       "│ https://wikipesija.org/wiki/Z   ┆ Z                     ┆ Z li sitelen pini lon nasin si… │\n",
       "│ https://wikipesija.org/wiki/ku… ┆ kulupu_SCP            ┆ kulupu SCP anu kulupu Esipi li… │\n",
       "│ https://wikipesija.org/wiki/po… ┆ poki_mani             ┆ lon poki mani la, jan li ken p… │\n",
       "│ https://wikipesija.org/wiki/so… ┆ sona_pi_pu_taso       ┆ sona pi pu taso (toki Inli: pu… │\n",
       "│ https://wikipesija.org/wiki/IS… ┆ ISO_3166:CR           ┆ ma Kosalika (Costa Rica) anu m… │\n",
       "│ …                               ┆ …                     ┆ …                               │\n",
       "│ https://wikipesija.org/wiki/ma… ┆ ma_Upe                ┆ ma Upe(toki Sonko:湖北省hu2     │\n",
       "│                                 ┆                       ┆ bei3 …                          │\n",
       "│ https://wikipesija.org/wiki/IS… ┆ ISO_3166:ER           ┆ ma Eliteja li ma lawa lon ma A… │\n",
       "│ https://wikipesija.org/wiki/ja… ┆ jaki                  ┆ jaki li ijo ike. jan li wile w… │\n",
       "│ https://wikipesija.org/wiki/ja… ┆ jan_sewi_Asokasuntali ┆ jan sewi Asokasuntali (toki Sa… │\n",
       "│ https://wikipesija.org/wiki/ma… ┆ ma_lili_pi_ma_Inli    ┆ ma lili mute li kipisi pi ma I… │\n",
       "└─────────────────────────────────┴───────────────────────┴─────────────────────────────────┘"
      ]
     },
     "execution_count": 53,
     "metadata": {},
     "output_type": "execute_result"
    }
   ],
   "source": [
    "data = data.with_columns(data[\"text\"].map_elements(remove_extra_spaces))\n",
    "data"
   ]
  },
  {
   "cell_type": "code",
   "execution_count": 54,
   "id": "65c99088",
   "metadata": {},
   "outputs": [
    {
     "data": {
      "text/plain": [
       "3063"
      ]
     },
     "execution_count": 54,
     "metadata": {},
     "output_type": "execute_result"
    }
   ],
   "source": [
    "data[\"text\"].n_unique()"
   ]
  },
  {
   "cell_type": "code",
   "execution_count": 55,
   "id": "e3aa8cd5",
   "metadata": {},
   "outputs": [
    {
     "data": {
      "text/html": [
       "<div><style>\n",
       ".dataframe > thead > tr,\n",
       ".dataframe > tbody > tr {\n",
       "  text-align: right;\n",
       "  white-space: pre-wrap;\n",
       "}\n",
       "</style>\n",
       "<small>shape: (97, 3)</small><table border=\"1\" class=\"dataframe\"><thead><tr><th>url</th><th>title</th><th>text</th></tr><tr><td>str</td><td>str</td><td>str</td></tr></thead><tbody><tr><td>&quot;https://wikipesija.org/wiki/la…</td><td>&quot;lanpan_ma&quot;</td><td>&quot;lanpan ma la kulupu li lanpan …</td></tr><tr><td>&quot;https://wikipesija.org/wiki/ku…</td><td>&quot;kulupu_lipu_pi_toki_Ekematula&quot;</td><td>&quot;kulupu lipu pi toki Epanja (to…</td></tr><tr><td>&quot;https://wikipesija.org/wiki/IS…</td><td>&quot;ISO_3166:RU-MOW&quot;</td><td>&quot;ma tomo Mokuwa li ma tomo lawa…</td></tr><tr><td>&quot;https://wikipesija.org/wiki/ja…</td><td>&quot;jan_Napolejon&quot;</td><td>&quot;tenpo pini la jan Napolejon Po…</td></tr><tr><td>&quot;https://wikipesija.org/wiki/ja…</td><td>&quot;jan_Tata&quot;</td><td>&quot;jan Tata (toki Losi - татары, …</td></tr><tr><td>&hellip;</td><td>&hellip;</td><td>&hellip;</td></tr><tr><td>&quot;https://wikipesija.org/wiki/ja…</td><td>&quot;jan_Lenin&quot;</td><td>&quot;jan Wasimi Ili Lenin (toki Lus…</td></tr><tr><td>&quot;https://wikipesija.org/wiki/to…</td><td>&quot;toki_Kasa&quot;</td><td>&quot;toki Kasa (toki Kasa: qazaqşa)…</td></tr><tr><td>&quot;https://wikipesija.org/wiki/il…</td><td>&quot;ilo_Telekan&quot;</td><td>&quot;ilo Telekan (toki Inli: Telegr…</td></tr><tr><td>&quot;https://wikipesija.org/wiki/es…</td><td>&quot;esun_poka_pi_ma_Elasija&quot;</td><td>&quot;wan esun pi ma Elasija (anu es…</td></tr><tr><td>&quot;https://wikipesija.org/wiki/IS…</td><td>&quot;ISO_3166:RU&quot;</td><td>&quot;ma Lusi anu ma Losi (toki Lusi…</td></tr></tbody></table></div>"
      ],
      "text/plain": [
       "shape: (97, 3)\n",
       "┌─────────────────────────────────┬───────────────────────────────┬────────────────────────────────┐\n",
       "│ url                             ┆ title                         ┆ text                           │\n",
       "│ ---                             ┆ ---                           ┆ ---                            │\n",
       "│ str                             ┆ str                           ┆ str                            │\n",
       "╞═════════════════════════════════╪═══════════════════════════════╪════════════════════════════════╡\n",
       "│ https://wikipesija.org/wiki/la… ┆ lanpan_ma                     ┆ lanpan ma la kulupu li lanpan  │\n",
       "│                                 ┆                               ┆ …                              │\n",
       "│ https://wikipesija.org/wiki/ku… ┆ kulupu_lipu_pi_toki_Ekematula ┆ kulupu lipu pi toki Epanja     │\n",
       "│                                 ┆                               ┆ (to…                           │\n",
       "│ https://wikipesija.org/wiki/IS… ┆ ISO_3166:RU-MOW               ┆ ma tomo Mokuwa li ma tomo      │\n",
       "│                                 ┆                               ┆ lawa…                          │\n",
       "│ https://wikipesija.org/wiki/ja… ┆ jan_Napolejon                 ┆ tenpo pini la jan Napolejon    │\n",
       "│                                 ┆                               ┆ Po…                            │\n",
       "│ https://wikipesija.org/wiki/ja… ┆ jan_Tata                      ┆ jan Tata (toki Losi - татары,  │\n",
       "│                                 ┆                               ┆ …                              │\n",
       "│ …                               ┆ …                             ┆ …                              │\n",
       "│ https://wikipesija.org/wiki/ja… ┆ jan_Lenin                     ┆ jan Wasimi Ili Lenin (toki     │\n",
       "│                                 ┆                               ┆ Lus…                           │\n",
       "│ https://wikipesija.org/wiki/to… ┆ toki_Kasa                     ┆ toki Kasa (toki Kasa:          │\n",
       "│                                 ┆                               ┆ qazaqşa)…                      │\n",
       "│ https://wikipesija.org/wiki/il… ┆ ilo_Telekan                   ┆ ilo Telekan (toki Inli:        │\n",
       "│                                 ┆                               ┆ Telegr…                        │\n",
       "│ https://wikipesija.org/wiki/es… ┆ esun_poka_pi_ma_Elasija       ┆ wan esun pi ma Elasija (anu    │\n",
       "│                                 ┆                               ┆ es…                            │\n",
       "│ https://wikipesija.org/wiki/IS… ┆ ISO_3166:RU                   ┆ ma Lusi anu ma Losi (toki      │\n",
       "│                                 ┆                               ┆ Lusi…                          │\n",
       "└─────────────────────────────────┴───────────────────────────────┴────────────────────────────────┘"
      ]
     },
     "execution_count": 55,
     "metadata": {},
     "output_type": "execute_result"
    }
   ],
   "source": [
    "data.filter(data[\"text\"].str.contains(\"Losi\"))"
   ]
  },
  {
   "cell_type": "code",
   "execution_count": 56,
   "id": "c7df9c18",
   "metadata": {},
   "outputs": [],
   "source": [
    "data.write_parquet(\"wikipesija.pq\")"
   ]
  }
 ],
 "metadata": {
  "kernelspec": {
   "display_name": "ilo-toki",
   "language": "python",
   "name": "python3"
  },
  "language_info": {
   "codemirror_mode": {
    "name": "ipython",
    "version": 3
   },
   "file_extension": ".py",
   "mimetype": "text/x-python",
   "name": "python",
   "nbconvert_exporter": "python",
   "pygments_lexer": "ipython3",
   "version": "3.12.2"
  }
 },
 "nbformat": 4,
 "nbformat_minor": 5
}
