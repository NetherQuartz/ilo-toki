{
 "cells": [
  {
   "cell_type": "code",
   "execution_count": 1,
   "id": "366d5701",
   "metadata": {},
   "outputs": [],
   "source": [
    "import os\n",
    "import yaml\n",
    "\n",
    "import polars as pl\n",
    "import markdown\n",
    "\n",
    "from io import StringIO\n",
    "\n",
    "from bs4 import BeautifulSoup"
   ]
  },
  {
   "cell_type": "code",
   "execution_count": 2,
   "id": "18267ab1",
   "metadata": {},
   "outputs": [
    {
     "data": {
      "text/plain": [
       "1502"
      ]
     },
     "execution_count": 2,
     "metadata": {},
     "output_type": "execute_result"
    }
   ],
   "source": [
    "paths = []\n",
    "for root, _, files in os.walk(\"poki/plaintext\"):\n",
    "    for file in files:\n",
    "        paths.append(os.path.join(root, file))\n",
    "\n",
    "len(paths)"
   ]
  },
  {
   "cell_type": "code",
   "execution_count": 3,
   "id": "71d4c617",
   "metadata": {},
   "outputs": [],
   "source": [
    "def markdown_to_text(md: str) -> str:\n",
    "    html = markdown.markdown(md)\n",
    "    soup = BeautifulSoup(html, \"html.parser\")\n",
    "    text = soup.get_text().replace(\"\\\\\\n\", \"\\n\")\n",
    "    return text"
   ]
  },
  {
   "cell_type": "code",
   "execution_count": 4,
   "id": "93bb9961",
   "metadata": {},
   "outputs": [],
   "source": [
    "def load_md(path):\n",
    "    with open(path) as f:\n",
    "        content = f.read()\n",
    "\n",
    "    meta = content.split(\"---\\n\")[1]\n",
    "    meta = yaml.safe_load(StringIO(meta))\n",
    "\n",
    "    text = content.split(\"---\\n\")[2]\n",
    "    text = markdown_to_text(text)\n",
    "    return meta | {\"text\": text}"
   ]
  },
  {
   "cell_type": "code",
   "execution_count": 5,
   "id": "ceae883f",
   "metadata": {},
   "outputs": [],
   "source": [
    "all_keys = set()\n",
    "data = []\n",
    "\n",
    "for path in paths:\n",
    "    post = load_md(path)\n",
    "    for key in post.keys():\n",
    "        all_keys.add(key)\n",
    "\n",
    "    data.append(post)\n",
    "\n",
    "for row in data:\n",
    "    for key in all_keys:\n",
    "        if key not in row:\n",
    "            row[key] = None\n",
    "\n",
    "    if not isinstance(row[\"date\"], str):\n",
    "        row[\"date\"] = str(row[\"date\"])"
   ]
  },
  {
   "cell_type": "code",
   "execution_count": 6,
   "id": "29d6f6a4",
   "metadata": {},
   "outputs": [
    {
     "data": {
      "text/html": [
       "<div><style>\n",
       ".dataframe > thead > tr,\n",
       ".dataframe > tbody > tr {\n",
       "  text-align: right;\n",
       "  white-space: pre-wrap;\n",
       "}\n",
       "</style>\n",
       "<small>shape: (1_502, 15)</small><table border=\"1\" class=\"dataframe\"><thead><tr><th>title</th><th>description</th><th>authors</th><th>proofreaders</th><th>date</th><th>date-precision</th><th>tags</th><th>original</th><th>license</th><th>sources</th><th>archives</th><th>preprocessing</th><th>accessibility-notes</th><th>notes</th><th>text</th></tr><tr><td>str</td><td>str</td><td>list[str]</td><td>list[str]</td><td>str</td><td>str</td><td>list[str]</td><td>struct[2]</td><td>str</td><td>list[str]</td><td>list[str]</td><td>str</td><td>str</td><td>str</td><td>str</td></tr></thead><tbody><tr><td>&quot;lipu Tili: lipu nanpa wan&quot;</td><td>null</td><td>[&quot;soweli Peka&quot;]</td><td>null</td><td>&quot;2013-04-18&quot;</td><td>&quot;day&quot;</td><td>null</td><td>null</td><td>null</td><td>[&quot;https://tokisoweli.blogspot.com/2013/04/pu-tili-pi-pu-lili-wan.html&quot;]</td><td>null</td><td>null</td><td>null</td><td>null</td><td>&quot;lon li ike tawa jan mute. kulu…</td></tr><tr><td>&quot;lipu Tili: lipu nanpa tu&quot;</td><td>null</td><td>[&quot;soweli Peka&quot;]</td><td>null</td><td>&quot;2013-04-21&quot;</td><td>&quot;day&quot;</td><td>null</td><td>null</td><td>null</td><td>[&quot;https://tokisoweli.blogspot.com/2013/04/pu-tili-pu-lili-tu.html&quot;]</td><td>null</td><td>null</td><td>null</td><td>null</td><td>&quot;suno li kama mute li tawa mute…</td></tr><tr><td>&quot;lipu Tili: lipu nanpa tu wan&quot;</td><td>null</td><td>[&quot;soweli Peka&quot;]</td><td>null</td><td>&quot;2013-04-22&quot;</td><td>&quot;day&quot;</td><td>null</td><td>null</td><td>null</td><td>[&quot;https://tokisoweli.blogspot.com/2013/04/pu-lili-tu-wan.html&quot;]</td><td>null</td><td>null</td><td>null</td><td>null</td><td>&quot;jan Tili li jo e sona utala ta…</td></tr><tr><td>&quot;kalama musi pi jan sewi meli -…</td><td>&quot;kalama musi Pekan li pona mute…</td><td>[&quot;jan Minasa&quot;]</td><td>null</td><td>&quot;2013-10-21&quot;</td><td>&quot;day&quot;</td><td>[&quot;music&quot;]</td><td>null</td><td>null</td><td>[&quot;https://www.youtube.com/watch?v=IW1GkHioQ6Y&quot;]</td><td>null</td><td>null</td><td>null</td><td>null</td><td>&quot;mama pimeja, mama suno\n",
       "ma pi l…</td></tr><tr><td>&quot;telo nasa&quot;</td><td>null</td><td>[&quot;tobiah&quot;]</td><td>null</td><td>&quot;2013-10-10&quot;</td><td>&quot;day&quot;</td><td>[&quot;original&quot;, &quot;lyrics&quot;, … &quot;synth&quot;]</td><td>null</td><td>&quot;CC BY-SA 3.0&quot;</td><td>[&quot;https://tobiah.bandcamp.com/track/telo-nasa&quot;]</td><td>null</td><td>null</td><td>null</td><td>null</td><td>&quot;telo nasa li pona.&nbsp;&nbsp;\n",
       "telo nasa…</td></tr><tr><td>&hellip;</td><td>&hellip;</td><td>&hellip;</td><td>&hellip;</td><td>&hellip;</td><td>&hellip;</td><td>&hellip;</td><td>&hellip;</td><td>&hellip;</td><td>&hellip;</td><td>&hellip;</td><td>&hellip;</td><td>&hellip;</td><td>&hellip;</td><td>&hellip;</td></tr><tr><td>&quot;kili lili&quot;</td><td>null</td><td>[&quot;jan Pije&quot;]</td><td>null</td><td>&quot;2002-10-10&quot;</td><td>&quot;day&quot;</td><td>[&quot;original&quot;, &quot;poetry&quot;]</td><td>null</td><td>&quot;CC0 1.0&quot;</td><td>[&quot;http://tokipona.net/tp/janpije/kililili.php&quot;, &quot;http://forums.tokipona.org/viewtopic.php?t=71#p177&quot;]</td><td>[&quot;https://web.archive.org/web/20151001204355/http://tokipona.net/tp/janpije/kililili.php&quot;, &quot;https://wikisource.org/wiki/Kili_lili&quot;]</td><td>null</td><td>null</td><td>null</td><td>&quot;mi jo e kili.&nbsp;&nbsp;\n",
       "ona li pona li…</td></tr><tr><td>&quot;wan taso&quot;</td><td>&quot;Even angst-ridden, mediocre te…</td><td>[&quot;jan Sonja&quot;]</td><td>null</td><td>&quot;2003-04-23&quot;</td><td>&quot;day&quot;</td><td>[&quot;original&quot;, &quot;poetry&quot;, &quot;angst&quot;]</td><td>null</td><td>&quot;All Rights Reserved&quot;</td><td>[&quot;http://www.tokipona.org/lit-angst.php&quot;]</td><td>[&quot;https://archive.is/b9Sjt&quot;, &quot;http://web.archive.bibalex.org/web/20030423115357/http://www.tokipona.org/lit-angst.php&quot;, &quot;https://archive.is/o/b9Sjt/web.archive.bibalex.org/web/20030423115357/http://www.tokipona.org/kalama/wantaso.mp3&quot;]</td><td>null</td><td>null</td><td>null</td><td>&quot;wan taso\n",
       "ijo li moku e mi.&nbsp;&nbsp;\n",
       "m…</td></tr><tr><td>&quot;pilin ike&quot;</td><td>&quot;Even angst-ridden, mediocre te…</td><td>[&quot;jan Sonja&quot;]</td><td>null</td><td>&quot;2003-04-23&quot;</td><td>&quot;day&quot;</td><td>[&quot;original&quot;, &quot;poetry&quot;, &quot;angst&quot;]</td><td>null</td><td>&quot;All Rights Reserved&quot;</td><td>[&quot;http://www.tokipona.org/lit-angst.php&quot;]</td><td>[&quot;https://archive.is/b9Sjt&quot;, &quot;http://web.archive.bibalex.org/web/20030423115357/http://www.tokipona.org/lit-angst.php&quot;, &quot;https://archive.is/o/b9Sjt/web.archive.bibalex.org/web/20030423115357/http://www.tokipona.org/kalama/pilinike.mp3&quot;]</td><td>null</td><td>null</td><td>null</td><td>&quot;pilin ike\n",
       "mi lon pimeja.&nbsp;&nbsp;\n",
       "was…</td></tr><tr><td>&quot;ma tomo Pape&quot;</td><td>null</td><td>[&quot;Damian Yerrick&quot;]</td><td>null</td><td>&quot;2005-07-15&quot;</td><td>&quot;day&quot;</td><td>null</td><td>{&quot;Tower of Babel&quot;,[&quot;unknown&quot;]}</td><td>&quot;CC BY-SA 3.0&quot;</td><td>[&quot;https://en.wikipedia.org/w/index.php?title=Toki_Pona&amp;oldid=1198391&quot;]</td><td>null</td><td>null</td><td>null</td><td>null</td><td>&quot;ma ale li jo e toki wan en sam…</td></tr><tr><td>&quot;mama pi mi mute&quot;</td><td>null</td><td>[&quot;Damian Yerrick&quot;]</td><td>null</td><td>&quot;2005-07-15&quot;</td><td>&quot;day&quot;</td><td>null</td><td>{&quot;Lord&#x27;s Prayer&quot;,[&quot;unknown&quot;]}</td><td>&quot;CC BY-SA 3.0&quot;</td><td>[&quot;https://en.wikipedia.org/w/index.php?title=Toki_Pona&amp;oldid=1198391&quot;]</td><td>null</td><td>null</td><td>null</td><td>null</td><td>&quot;mama pi mi mute o,&nbsp;&nbsp;\n",
       "sina lon …</td></tr></tbody></table></div>"
      ],
      "text/plain": [
       "shape: (1_502, 15)\n",
       "┌────────────┬────────────┬────────────┬───────────┬───┬───────────┬───────────┬───────┬───────────┐\n",
       "│ title      ┆ descriptio ┆ authors    ┆ proofread ┆ … ┆ preproces ┆ accessibi ┆ notes ┆ text      │\n",
       "│ ---        ┆ n          ┆ ---        ┆ ers       ┆   ┆ sing      ┆ lity-note ┆ ---   ┆ ---       │\n",
       "│ str        ┆ ---        ┆ list[str]  ┆ ---       ┆   ┆ ---       ┆ s         ┆ str   ┆ str       │\n",
       "│            ┆ str        ┆            ┆ list[str] ┆   ┆ str       ┆ ---       ┆       ┆           │\n",
       "│            ┆            ┆            ┆           ┆   ┆           ┆ str       ┆       ┆           │\n",
       "╞════════════╪════════════╪════════════╪═══════════╪═══╪═══════════╪═══════════╪═══════╪═══════════╡\n",
       "│ lipu Tili: ┆ null       ┆ [\"soweli   ┆ null      ┆ … ┆ null      ┆ null      ┆ null  ┆ lon li    │\n",
       "│ lipu nanpa ┆            ┆ Peka\"]     ┆           ┆   ┆           ┆           ┆       ┆ ike tawa  │\n",
       "│ wan        ┆            ┆            ┆           ┆   ┆           ┆           ┆       ┆ jan mute. │\n",
       "│            ┆            ┆            ┆           ┆   ┆           ┆           ┆       ┆ kulu…     │\n",
       "│ lipu Tili: ┆ null       ┆ [\"soweli   ┆ null      ┆ … ┆ null      ┆ null      ┆ null  ┆ suno li   │\n",
       "│ lipu nanpa ┆            ┆ Peka\"]     ┆           ┆   ┆           ┆           ┆       ┆ kama mute │\n",
       "│ tu         ┆            ┆            ┆           ┆   ┆           ┆           ┆       ┆ li tawa   │\n",
       "│            ┆            ┆            ┆           ┆   ┆           ┆           ┆       ┆ mute…     │\n",
       "│ lipu Tili: ┆ null       ┆ [\"soweli   ┆ null      ┆ … ┆ null      ┆ null      ┆ null  ┆ jan Tili  │\n",
       "│ lipu nanpa ┆            ┆ Peka\"]     ┆           ┆   ┆           ┆           ┆       ┆ li jo e   │\n",
       "│ tu wan     ┆            ┆            ┆           ┆   ┆           ┆           ┆       ┆ sona      │\n",
       "│            ┆            ┆            ┆           ┆   ┆           ┆           ┆       ┆ utala ta… │\n",
       "│ kalama     ┆ kalama     ┆ [\"jan      ┆ null      ┆ … ┆ null      ┆ null      ┆ null  ┆ mama      │\n",
       "│ musi pi    ┆ musi Pekan ┆ Minasa\"]   ┆           ┆   ┆           ┆           ┆       ┆ pimeja,   │\n",
       "│ jan sewi   ┆ li pona    ┆            ┆           ┆   ┆           ┆           ┆       ┆ mama suno │\n",
       "│ meli -…    ┆ mute…      ┆            ┆           ┆   ┆           ┆           ┆       ┆ ma pi l…  │\n",
       "│ telo nasa  ┆ null       ┆ [\"tobiah\"] ┆ null      ┆ … ┆ null      ┆ null      ┆ null  ┆ telo nasa │\n",
       "│            ┆            ┆            ┆           ┆   ┆           ┆           ┆       ┆ li pona.  │\n",
       "│            ┆            ┆            ┆           ┆   ┆           ┆           ┆       ┆ telo      │\n",
       "│            ┆            ┆            ┆           ┆   ┆           ┆           ┆       ┆ nasa…     │\n",
       "│ …          ┆ …          ┆ …          ┆ …         ┆ … ┆ …         ┆ …         ┆ …     ┆ …         │\n",
       "│ kili lili  ┆ null       ┆ [\"jan      ┆ null      ┆ … ┆ null      ┆ null      ┆ null  ┆ mi jo e   │\n",
       "│            ┆            ┆ Pije\"]     ┆           ┆   ┆           ┆           ┆       ┆ kili.     │\n",
       "│            ┆            ┆            ┆           ┆   ┆           ┆           ┆       ┆ ona li    │\n",
       "│            ┆            ┆            ┆           ┆   ┆           ┆           ┆       ┆ pona li…  │\n",
       "│ wan taso   ┆ Even angst ┆ [\"jan      ┆ null      ┆ … ┆ null      ┆ null      ┆ null  ┆ wan taso  │\n",
       "│            ┆ -ridden,   ┆ Sonja\"]    ┆           ┆   ┆           ┆           ┆       ┆ ijo li    │\n",
       "│            ┆ mediocre   ┆            ┆           ┆   ┆           ┆           ┆       ┆ moku e    │\n",
       "│            ┆ te…        ┆            ┆           ┆   ┆           ┆           ┆       ┆ mi.       │\n",
       "│            ┆            ┆            ┆           ┆   ┆           ┆           ┆       ┆ m…        │\n",
       "│ pilin ike  ┆ Even angst ┆ [\"jan      ┆ null      ┆ … ┆ null      ┆ null      ┆ null  ┆ pilin ike │\n",
       "│            ┆ -ridden,   ┆ Sonja\"]    ┆           ┆   ┆           ┆           ┆       ┆ mi lon    │\n",
       "│            ┆ mediocre   ┆            ┆           ┆   ┆           ┆           ┆       ┆ pimeja.   │\n",
       "│            ┆ te…        ┆            ┆           ┆   ┆           ┆           ┆       ┆ was…      │\n",
       "│ ma tomo    ┆ null       ┆ [\"Damian   ┆ null      ┆ … ┆ null      ┆ null      ┆ null  ┆ ma ale li │\n",
       "│ Pape       ┆            ┆ Yerrick\"]  ┆           ┆   ┆           ┆           ┆       ┆ jo e toki │\n",
       "│            ┆            ┆            ┆           ┆   ┆           ┆           ┆       ┆ wan en    │\n",
       "│            ┆            ┆            ┆           ┆   ┆           ┆           ┆       ┆ sam…      │\n",
       "│ mama pi mi ┆ null       ┆ [\"Damian   ┆ null      ┆ … ┆ null      ┆ null      ┆ null  ┆ mama pi   │\n",
       "│ mute       ┆            ┆ Yerrick\"]  ┆           ┆   ┆           ┆           ┆       ┆ mi mute   │\n",
       "│            ┆            ┆            ┆           ┆   ┆           ┆           ┆       ┆ o,        │\n",
       "│            ┆            ┆            ┆           ┆   ┆           ┆           ┆       ┆ sina lon  │\n",
       "│            ┆            ┆            ┆           ┆   ┆           ┆           ┆       ┆ …         │\n",
       "└────────────┴────────────┴────────────┴───────────┴───┴───────────┴───────────┴───────┴───────────┘"
      ]
     },
     "execution_count": 6,
     "metadata": {},
     "output_type": "execute_result"
    }
   ],
   "source": [
    "df = pl.DataFrame(\n",
    "    data,\n",
    "    infer_schema_length=len(data)\n",
    ")\n",
    "df"
   ]
  },
  {
   "cell_type": "code",
   "execution_count": 7,
   "id": "f81577da",
   "metadata": {},
   "outputs": [
    {
     "data": {
      "text/html": [
       "<div><style>\n",
       ".dataframe > thead > tr,\n",
       ".dataframe > tbody > tr {\n",
       "  text-align: right;\n",
       "  white-space: pre-wrap;\n",
       "}\n",
       "</style>\n",
       "<small>shape: (413, 15)</small><table border=\"1\" class=\"dataframe\"><thead><tr><th>title</th><th>description</th><th>authors</th><th>proofreaders</th><th>date</th><th>date-precision</th><th>tags</th><th>original</th><th>license</th><th>sources</th><th>archives</th><th>preprocessing</th><th>accessibility-notes</th><th>notes</th><th>text</th></tr><tr><td>str</td><td>str</td><td>list[str]</td><td>list[str]</td><td>str</td><td>str</td><td>list[str]</td><td>struct[2]</td><td>str</td><td>list[str]</td><td>list[str]</td><td>str</td><td>str</td><td>str</td><td>str</td></tr></thead><tbody><tr><td>&quot;pakala - kalama musi &#x27;When I&#x27;m…</td><td>&quot;kalama musi &#x27;When I&#x27;m Gone&#x27; li…</td><td>[&quot;jan Minasa&quot;]</td><td>null</td><td>&quot;2013-10-27&quot;</td><td>&quot;day&quot;</td><td>[&quot;music&quot;]</td><td>{&quot;Cups&quot;,[&quot;Anna Kendrick&quot;]}</td><td>null</td><td>[&quot;https://www.youtube.com/watch?v=Lm87rp2Zq_s&quot;]</td><td>null</td><td>null</td><td>null</td><td>null</td><td>&quot;mi pilin e ni: kalama musi &#x27;te…</td></tr><tr><td>&quot;jan lawa lili&quot;</td><td>&quot;A translation of Antoine de Sa…</td><td>[&quot;Micheal F.&quot;]</td><td>null</td><td>&quot;2013-01-20&quot;</td><td>&quot;day&quot;</td><td>[&quot;translation&quot;, &quot;story&quot;, &quot;prose&quot;]</td><td>{&quot;The Little Prince&quot;,[&quot;Antoine de Saint-Exupéry&quot;]}</td><td>&quot;CC BY-NC 4.0&quot;</td><td>[&quot;http://failbluedot.com/toki_pona/jan_lawa_lili/chap01&quot;]</td><td>[&quot;https://web.archive.org/web/20151009153200/http://failbluedot.com/toki_pona/jan_lawa_lili/chap01&quot;]</td><td>null</td><td>null</td><td>&quot;The older translation&quot;</td><td>&quot;jan lawa lili\n",
       "01\n",
       "tenpo pi lili…</td></tr><tr><td>&quot;wile&quot;</td><td>&quot;Performed for my NCEA Level 1 …</td><td>[&quot;jan Minasa&quot;]</td><td>null</td><td>&quot;2014-10-23&quot;</td><td>&quot;day&quot;</td><td>[&quot;music&quot;]</td><td>{&quot;Życzenie&quot;,[&quot;Stefan Witwicki&quot;]}</td><td>null</td><td>[&quot;https://www.youtube.com/watch?v=TRTKqhyvxNw&quot;]</td><td>null</td><td>null</td><td>null</td><td>null</td><td>&quot;mi suno jelo pi lon sewi laso\n",
       "…</td></tr><tr><td>&quot;PoPiPo&quot;</td><td>&quot;if the quality of this cover s…</td><td>[&quot;flower radio&quot;]</td><td>null</td><td>&quot;2022-03-06&quot;</td><td>&quot;day&quot;</td><td>[&quot;music&quot;]</td><td>{&quot;PoPiPo&quot;,[&quot;Lamaze-P&quot;]}</td><td>null</td><td>[&quot;https://www.youtube.com/watch?v=lHTNpca_mxM&quot;]</td><td>null</td><td>null</td><td>null</td><td>null</td><td>&quot;li moku\n",
       "sina pilin pona\n",
       "telo l…</td></tr><tr><td>&quot;o pona e ijo pakala&quot;</td><td>&quot;len pi jan Sijan li kama pakal…</td><td>[&quot;jan Kita&quot;]</td><td>null</td><td>&quot;2022-05-14&quot;</td><td>&quot;day&quot;</td><td>[&quot;StoryWeaver level 4&quot;]</td><td>{&quot;A Stitch in Time&quot;,[&quot;Himadri Das&quot;, &quot;Veena Prasad&quot;]}</td><td>&quot;CC-BY-4.0&quot;</td><td>[&quot;https://storyweaver.org.in/en/stories/442898-o-pona-e-ijo-pakala&quot;]</td><td>null</td><td>&quot;removed manual line breaks&quot;</td><td>null</td><td>null</td><td>&quot;\n",
       "*mu pakala*\n",
       "&quot;ike a&quot; · jan Sij…</td></tr><tr><td>&hellip;</td><td>&hellip;</td><td>&hellip;</td><td>&hellip;</td><td>&hellip;</td><td>&hellip;</td><td>&hellip;</td><td>&hellip;</td><td>&hellip;</td><td>&hellip;</td><td>&hellip;</td><td>&hellip;</td><td>&hellip;</td><td>&hellip;</td><td>&hellip;</td></tr><tr><td>&quot;Toki Sewi Telo Suli (Prayer to…</td><td>&quot;My first music video for my so…</td><td>[&quot;Marine Guitars&quot;]</td><td>null</td><td>&quot;2016-10-23&quot;</td><td>&quot;day&quot;</td><td>[&quot;music&quot;]</td><td>{null,null}</td><td>null</td><td>[&quot;https://www.youtube.com/watch?v=61O1u0Igbcw&quot;]</td><td>null</td><td>null</td><td>null</td><td>null</td><td>&quot;Suli telo li moku\n",
       "Suli telo li…</td></tr><tr><td>&quot;ilo toki&quot;</td><td>null</td><td>[&quot;jan Tepan&quot;]</td><td>null</td><td>&quot;2016-09-25&quot;</td><td>&quot;day&quot;</td><td>[&quot;translation&quot;, &quot;poetry&quot;]</td><td>{&quot;Телефон&quot;,[&quot;Korney Chukovsky&quot;]}</td><td>null</td><td>[&quot;https://github.com/stefichjo/toki-pona/blob/master/musi/ilo-toki.md&quot;]</td><td>[&quot;https://web.archive.org/web/20191109180014/https://github.com/stefichjo/toki-pona/blob/master/musi/ilo-toki.md&quot;]</td><td>null</td><td>null</td><td>null</td><td>&quot;ilo toki\n",
       "\n",
       "ilo toki mi li kama …</td></tr><tr><td>&quot;ma tomo Pape&quot;</td><td>null</td><td>[&quot;jan Pije&quot;]</td><td>null</td><td>&quot;2005-07-15&quot;</td><td>&quot;day&quot;</td><td>null</td><td>{&quot;Tower of Babel&quot;,null}</td><td>&quot;CC BY-SA 3.0&quot;</td><td>[&quot;https://en.wikipedia.org/w/index.php?title=Toki_Pona&amp;oldid=18194572&quot;, &quot;https://olukin.blogspot.com/2011/04/ma-tomo-pape.html&quot;]</td><td>null</td><td>null</td><td>null</td><td>null</td><td>&quot;jan ali li kepeken e toki sama…</td></tr><tr><td>&quot;ma tomo Pape&quot;</td><td>null</td><td>[&quot;Damian Yerrick&quot;]</td><td>null</td><td>&quot;2005-07-15&quot;</td><td>&quot;day&quot;</td><td>null</td><td>{&quot;Tower of Babel&quot;,[&quot;unknown&quot;]}</td><td>&quot;CC BY-SA 3.0&quot;</td><td>[&quot;https://en.wikipedia.org/w/index.php?title=Toki_Pona&amp;oldid=1198391&quot;]</td><td>null</td><td>null</td><td>null</td><td>null</td><td>&quot;ma ale li jo e toki wan en sam…</td></tr><tr><td>&quot;mama pi mi mute&quot;</td><td>null</td><td>[&quot;Damian Yerrick&quot;]</td><td>null</td><td>&quot;2005-07-15&quot;</td><td>&quot;day&quot;</td><td>null</td><td>{&quot;Lord&#x27;s Prayer&quot;,[&quot;unknown&quot;]}</td><td>&quot;CC BY-SA 3.0&quot;</td><td>[&quot;https://en.wikipedia.org/w/index.php?title=Toki_Pona&amp;oldid=1198391&quot;]</td><td>null</td><td>null</td><td>null</td><td>null</td><td>&quot;mama pi mi mute o,&nbsp;&nbsp;\n",
       "sina lon …</td></tr></tbody></table></div>"
      ],
      "text/plain": [
       "shape: (413, 15)\n",
       "┌───────────┬───────────┬───────────┬───────────┬───┬───────────┬───────────┬───────────┬──────────┐\n",
       "│ title     ┆ descripti ┆ authors   ┆ proofread ┆ … ┆ preproces ┆ accessibi ┆ notes     ┆ text     │\n",
       "│ ---       ┆ on        ┆ ---       ┆ ers       ┆   ┆ sing      ┆ lity-note ┆ ---       ┆ ---      │\n",
       "│ str       ┆ ---       ┆ list[str] ┆ ---       ┆   ┆ ---       ┆ s         ┆ str       ┆ str      │\n",
       "│           ┆ str       ┆           ┆ list[str] ┆   ┆ str       ┆ ---       ┆           ┆          │\n",
       "│           ┆           ┆           ┆           ┆   ┆           ┆ str       ┆           ┆          │\n",
       "╞═══════════╪═══════════╪═══════════╪═══════════╪═══╪═══════════╪═══════════╪═══════════╪══════════╡\n",
       "│ pakala -  ┆ kalama    ┆ [\"jan     ┆ null      ┆ … ┆ null      ┆ null      ┆ null      ┆ mi pilin │\n",
       "│ kalama    ┆ musi      ┆ Minasa\"]  ┆           ┆   ┆           ┆           ┆           ┆ e ni:    │\n",
       "│ musi      ┆ 'When I'm ┆           ┆           ┆   ┆           ┆           ┆           ┆ kalama   │\n",
       "│ 'When     ┆ Gone' li… ┆           ┆           ┆   ┆           ┆           ┆           ┆ musi     │\n",
       "│ I'm…      ┆           ┆           ┆           ┆   ┆           ┆           ┆           ┆ 'te…     │\n",
       "│ jan lawa  ┆ A transla ┆ [\"Micheal ┆ null      ┆ … ┆ null      ┆ null      ┆ The older ┆ jan lawa │\n",
       "│ lili      ┆ tion of   ┆ F.\"]      ┆           ┆   ┆           ┆           ┆ translati ┆ lili     │\n",
       "│           ┆ Antoine   ┆           ┆           ┆   ┆           ┆           ┆ on        ┆ 01       │\n",
       "│           ┆ de Sa…    ┆           ┆           ┆   ┆           ┆           ┆           ┆ tenpo pi │\n",
       "│           ┆           ┆           ┆           ┆   ┆           ┆           ┆           ┆ lili…    │\n",
       "│ wile      ┆ Performed ┆ [\"jan     ┆ null      ┆ … ┆ null      ┆ null      ┆ null      ┆ mi suno  │\n",
       "│           ┆ for my    ┆ Minasa\"]  ┆           ┆   ┆           ┆           ┆           ┆ jelo pi  │\n",
       "│           ┆ NCEA      ┆           ┆           ┆   ┆           ┆           ┆           ┆ lon sewi │\n",
       "│           ┆ Level 1 … ┆           ┆           ┆   ┆           ┆           ┆           ┆ laso     │\n",
       "│           ┆           ┆           ┆           ┆   ┆           ┆           ┆           ┆ …        │\n",
       "│ PoPiPo    ┆ if the    ┆ [\"flower  ┆ null      ┆ … ┆ null      ┆ null      ┆ null      ┆ li moku  │\n",
       "│           ┆ quality   ┆ radio\"]   ┆           ┆   ┆           ┆           ┆           ┆ sina     │\n",
       "│           ┆ of this   ┆           ┆           ┆   ┆           ┆           ┆           ┆ pilin    │\n",
       "│           ┆ cover s…  ┆           ┆           ┆   ┆           ┆           ┆           ┆ pona     │\n",
       "│           ┆           ┆           ┆           ┆   ┆           ┆           ┆           ┆ telo l…  │\n",
       "│ o pona e  ┆ len pi    ┆ [\"jan     ┆ null      ┆ … ┆ removed   ┆ null      ┆ null      ┆          │\n",
       "│ ijo       ┆ jan Sijan ┆ Kita\"]    ┆           ┆   ┆ manual    ┆           ┆           ┆ *mu      │\n",
       "│ pakala    ┆ li kama   ┆           ┆           ┆   ┆ line      ┆           ┆           ┆ pakala*  │\n",
       "│           ┆ pakal…    ┆           ┆           ┆   ┆ breaks    ┆           ┆           ┆ \"ike a\"  │\n",
       "│           ┆           ┆           ┆           ┆   ┆           ┆           ┆           ┆ · jan    │\n",
       "│           ┆           ┆           ┆           ┆   ┆           ┆           ┆           ┆ Sij…     │\n",
       "│ …         ┆ …         ┆ …         ┆ …         ┆ … ┆ …         ┆ …         ┆ …         ┆ …        │\n",
       "│ Toki Sewi ┆ My first  ┆ [\"Marine  ┆ null      ┆ … ┆ null      ┆ null      ┆ null      ┆ Suli     │\n",
       "│ Telo Suli ┆ music     ┆ Guitars\"] ┆           ┆   ┆           ┆           ┆           ┆ telo li  │\n",
       "│ (Prayer   ┆ video for ┆           ┆           ┆   ┆           ┆           ┆           ┆ moku     │\n",
       "│ to…       ┆ my so…    ┆           ┆           ┆   ┆           ┆           ┆           ┆ Suli     │\n",
       "│           ┆           ┆           ┆           ┆   ┆           ┆           ┆           ┆ telo li… │\n",
       "│ ilo toki  ┆ null      ┆ [\"jan     ┆ null      ┆ … ┆ null      ┆ null      ┆ null      ┆ ilo toki │\n",
       "│           ┆           ┆ Tepan\"]   ┆           ┆   ┆           ┆           ┆           ┆          │\n",
       "│           ┆           ┆           ┆           ┆   ┆           ┆           ┆           ┆ ilo toki │\n",
       "│           ┆           ┆           ┆           ┆   ┆           ┆           ┆           ┆ mi li    │\n",
       "│           ┆           ┆           ┆           ┆   ┆           ┆           ┆           ┆ kama …   │\n",
       "│ ma tomo   ┆ null      ┆ [\"jan     ┆ null      ┆ … ┆ null      ┆ null      ┆ null      ┆ jan ali  │\n",
       "│ Pape      ┆           ┆ Pije\"]    ┆           ┆   ┆           ┆           ┆           ┆ li       │\n",
       "│           ┆           ┆           ┆           ┆   ┆           ┆           ┆           ┆ kepeken  │\n",
       "│           ┆           ┆           ┆           ┆   ┆           ┆           ┆           ┆ e toki   │\n",
       "│           ┆           ┆           ┆           ┆   ┆           ┆           ┆           ┆ sama…    │\n",
       "│ ma tomo   ┆ null      ┆ [\"Damian  ┆ null      ┆ … ┆ null      ┆ null      ┆ null      ┆ ma ale   │\n",
       "│ Pape      ┆           ┆ Yerrick\"] ┆           ┆   ┆           ┆           ┆           ┆ li jo e  │\n",
       "│           ┆           ┆           ┆           ┆   ┆           ┆           ┆           ┆ toki wan │\n",
       "│           ┆           ┆           ┆           ┆   ┆           ┆           ┆           ┆ en sam…  │\n",
       "│ mama pi   ┆ null      ┆ [\"Damian  ┆ null      ┆ … ┆ null      ┆ null      ┆ null      ┆ mama pi  │\n",
       "│ mi mute   ┆           ┆ Yerrick\"] ┆           ┆   ┆           ┆           ┆           ┆ mi mute  │\n",
       "│           ┆           ┆           ┆           ┆   ┆           ┆           ┆           ┆ o,       │\n",
       "│           ┆           ┆           ┆           ┆   ┆           ┆           ┆           ┆ sina lon │\n",
       "│           ┆           ┆           ┆           ┆   ┆           ┆           ┆           ┆ …        │\n",
       "└───────────┴───────────┴───────────┴───────────┴───┴───────────┴───────────┴───────────┴──────────┘"
      ]
     },
     "execution_count": 7,
     "metadata": {},
     "output_type": "execute_result"
    }
   ],
   "source": [
    "df.filter(df[\"original\"].is_not_null())"
   ]
  },
  {
   "cell_type": "code",
   "execution_count": 10,
   "id": "dc57560f",
   "metadata": {},
   "outputs": [
    {
     "data": {
      "text/plain": [
       "['CC BY-SA-NC 4.0',\n",
       " 'CC BY-ND 4.0',\n",
       " 'CC BY-SA-NC 3.0',\n",
       " 'CC-BY 4.0',\n",
       " 'CC BY 4.0',\n",
       " 'CC BY-NC 4.0',\n",
       " 'CC BY-NC-ND 4.0',\n",
       " 'CC BY-SA 3.0',\n",
       " 'CC BY',\n",
       " 'CC-BY-SA-3.0',\n",
       " 'CC-BY-3.0',\n",
       " 'Unknown license',\n",
       " 'CC-BY-NC-3.0',\n",
       " 'CC-BY-NC-SA-3.0',\n",
       " 'LicenseRef-AllRightsReserved',\n",
       " 'CC0 1.0',\n",
       " 'CC0-1.0',\n",
       " 'CC-BY-NC-SA-3.0 AND LicenseRef-AllRightsReserved',\n",
       " 'MIT OR CC-BY-SA-3.0 OR CC-BY-SA-4.0',\n",
       " 'CC-BY-NC 4.0',\n",
       " 'All Rights Reserved',\n",
       " 'CC-BY-3.0 AND LicenseRef-AllRightsReserved',\n",
       " 'CC BY-NC-SA 3.0',\n",
       " 'CC-BY-SA-4.0',\n",
       " 'CC-BY-SA 4.0',\n",
       " 'CC BY-NC 3.0',\n",
       " None,\n",
       " 'CC-BY-NC-SA 3.0',\n",
       " 'CC BY-NC-SA 4.0',\n",
       " 'CC-BY-3.0 OR CC-BY-SA-4.0',\n",
       " 'CC-BY-4.0',\n",
       " 'CC-BY-SA-3.0 OR CC-BY-SA-4.0',\n",
       " 'CC BY-SA 4.0',\n",
       " 'CC0',\n",
       " 'CC-BY-SA',\n",
       " 'MIT']"
      ]
     },
     "execution_count": 10,
     "metadata": {},
     "output_type": "execute_result"
    }
   ],
   "source": [
    "df[\"license\"].unique().to_list()"
   ]
  },
  {
   "cell_type": "code",
   "execution_count": 8,
   "id": "d2a6e48a",
   "metadata": {},
   "outputs": [],
   "source": [
    "df.write_parquet(\"poki.pq\")"
   ]
  }
 ],
 "metadata": {
  "kernelspec": {
   "display_name": "ilo-toki",
   "language": "python",
   "name": "python3"
  },
  "language_info": {
   "codemirror_mode": {
    "name": "ipython",
    "version": 3
   },
   "file_extension": ".py",
   "mimetype": "text/x-python",
   "name": "python",
   "nbconvert_exporter": "python",
   "pygments_lexer": "ipython3",
   "version": "3.12.2"
  }
 },
 "nbformat": 4,
 "nbformat_minor": 5
}
