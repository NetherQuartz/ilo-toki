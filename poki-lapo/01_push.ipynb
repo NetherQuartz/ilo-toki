{
 "cells": [
  {
   "cell_type": "code",
   "execution_count": 1,
   "id": "3a210110",
   "metadata": {},
   "outputs": [],
   "source": [
    "import datasets\n",
    "import polars as pl\n",
    "\n",
    "from hashlib import sha256"
   ]
  },
  {
   "cell_type": "code",
   "execution_count": 2,
   "id": "0fc7cda5",
   "metadata": {},
   "outputs": [
    {
     "data": {
      "text/html": [
       "<div><style>\n",
       ".dataframe > thead > tr,\n",
       ".dataframe > tbody > tr {\n",
       "  text-align: right;\n",
       "  white-space: pre-wrap;\n",
       "}\n",
       "</style>\n",
       "<small>shape: (1_502, 16)</small><table border=\"1\" class=\"dataframe\"><thead><tr><th>id</th><th>title</th><th>description</th><th>authors</th><th>proofreaders</th><th>date</th><th>date-precision</th><th>tags</th><th>original</th><th>license</th><th>sources</th><th>archives</th><th>preprocessing</th><th>accessibility-notes</th><th>notes</th><th>text</th></tr><tr><td>i64</td><td>str</td><td>str</td><td>list[str]</td><td>list[str]</td><td>str</td><td>str</td><td>list[str]</td><td>struct[2]</td><td>str</td><td>list[str]</td><td>list[str]</td><td>str</td><td>str</td><td>str</td><td>str</td></tr></thead><tbody><tr><td>0</td><td>&quot;lawa monsuta&quot;</td><td>null</td><td>[&quot;jan Juli&quot;]</td><td>null</td><td>&quot;2001-01-01&quot;</td><td>&quot;none&quot;</td><td>null</td><td>null</td><td>&quot;CC-BY-SA 4.0&quot;</td><td>[&quot;https://github.com/lipukule/site/blob/main/content/post/2023-04-14-lawa-monsuta.md&quot;, &quot;https://lipukule.org/post/2023/04/10/lawa-monsuta/&quot;]</td><td>null</td><td>null</td><td>null</td><td>null</td><td>&quot;o sona a: moli en pilin ike li…</td></tr><tr><td>1</td><td>&quot;jan en soweli&quot;</td><td>null</td><td>[&quot;Michael F.&quot;]</td><td>null</td><td>&quot;2001-01-01&quot;</td><td>&quot;none&quot;</td><td>[&quot;original work&quot;, &quot;poetry&quot;]</td><td>null</td><td>&quot;CC BY-NC 3.0&quot;</td><td>[&quot;http://failbluedot.com/toki_pona/jan_en_soweli&quot;]</td><td>[&quot;https://web.archive.org/web/20140305064458/http://failbluedot.com/toki_pona/jan_en_soweli&quot;]</td><td>null</td><td>null</td><td>null</td><td>&quot;jan en soweli\n",
       "jan mute li pili…</td></tr><tr><td>2</td><td>&quot;Dixie&quot;</td><td>null</td><td>[&quot;jan Pije&quot;]</td><td>null</td><td>&quot;2001-01-01&quot;</td><td>&quot;none&quot;</td><td>[&quot;translation&quot;, &quot;song&quot;, … &quot;confederacy&quot;]</td><td>{&quot;Dixie&quot;,[&quot;unknown&quot;]}</td><td>&quot;CC0 1.0&quot;</td><td>[&quot;http://tokipona.net/tp/janpije/dixie.php&quot;]</td><td>[&quot;https://web.archive.org/web/20151003033703/http://tokipona.net/tp/janpije/dixie.php&quot;]</td><td>null</td><td>null</td><td>null</td><td>&quot;\n",
       "\n",
       "mi wile lon ma pi kasi len. …</td></tr><tr><td>3</td><td>&quot;kasi nasa en telo nasa&quot;</td><td>null</td><td>[&quot;Michael F.&quot;]</td><td>null</td><td>&quot;2001-01-01&quot;</td><td>&quot;none&quot;</td><td>[&quot;original work&quot;, &quot;poetry&quot;]</td><td>null</td><td>&quot;CC BY-NC 3.0&quot;</td><td>[&quot;http://failbluedot.com/toki_pona/kasi_nasa_telo_nasa&quot;]</td><td>[&quot;https://web.archive.org/web/20140305061010/http://failbluedot.com/toki_pona/kasi_nasa_telo_nasa&quot;]</td><td>null</td><td>null</td><td>null</td><td>&quot;kasi nasa en telo nasa\n",
       "telo na…</td></tr><tr><td>4</td><td>&quot;jan lawa&quot;</td><td>null</td><td>[&quot;Michael F.&quot;]</td><td>null</td><td>&quot;2001-01-01&quot;</td><td>&quot;none&quot;</td><td>[&quot;original work&quot;, &quot;poetry&quot;]</td><td>null</td><td>&quot;CC BY-NC 3.0&quot;</td><td>[&quot;http://failbluedot.com/toki_pona/jan_lawa&quot;]</td><td>[&quot;https://web.archive.org/web/20140305061518/http://failbluedot.com/toki_pona/jan_lawa&quot;]</td><td>null</td><td>null</td><td>null</td><td>&quot;jan lawa\n",
       "mi pona ala e sina\n",
       "o …</td></tr><tr><td>&hellip;</td><td>&hellip;</td><td>&hellip;</td><td>&hellip;</td><td>&hellip;</td><td>&hellip;</td><td>&hellip;</td><td>&hellip;</td><td>&hellip;</td><td>&hellip;</td><td>&hellip;</td><td>&hellip;</td><td>&hellip;</td><td>&hellip;</td><td>&hellip;</td><td>&hellip;</td></tr><tr><td>1497</td><td>&quot;sina wile pali e musi pi sitel…</td><td>null</td><td>[&quot;kije Weku&quot;]</td><td>null</td><td>&quot;2025-08-28&quot;</td><td>&quot;day&quot;</td><td>[&quot;sona&quot;]</td><td>null</td><td>&quot;CC BY-SA 4.0&quot;</td><td>[&quot;https://liputenpo.org/lipu/nanpa-pilin/&quot;, &quot;https://liputenpo.org/pdfs/0033pilin.pdf&quot;, &quot;https://github.com/lipu-tenpo/liputenpo.org/tree/main/toki&quot;]</td><td>null</td><td>null</td><td>null</td><td>null</td><td>&quot;sina wile pali mute la, sina k…</td></tr><tr><td>1498</td><td>&quot;lipu suno pi jan moli&quot;</td><td>&quot;A diary of a dead person.&quot;</td><td>[&quot;jan Sepo&quot;]</td><td>null</td><td>&quot;2025-09-03&quot;</td><td>&quot;day&quot;</td><td>[&quot;diary&quot;, &quot;death&quot;, … &quot;monsuta&quot;]</td><td>null</td><td>&quot;CC BY-SA 4.0&quot;</td><td>[&quot;https://discord.com/channels/301377942062366741/340307145373253642/1412768840412303441&quot;]</td><td>null</td><td>null</td><td>null</td><td>&quot;Created on September 3, 2025, …</td><td>&quot;lipu suno pi jan moli\n",
       "mi wile …</td></tr><tr><td>1499</td><td>&quot;sona sin pona tan jan sewi Joj…</td><td>&quot;A revised translation of John&#x27;…</td><td>[&quot;Jonathan Hill&quot;, &quot;jan Tene&quot;]</td><td>null</td><td>&quot;2025-09-07&quot;</td><td>&quot;day&quot;</td><td>[&quot;religion&quot;, &quot;nasin sewi&quot;, … &quot;story&quot;]</td><td>{&quot;The Gospel of John&quot;,null}</td><td>&quot;CC BY-SA 4.0&quot;</td><td>[&quot;https://denesszanto.itch.io/lipu-sewi&quot;]</td><td>null</td><td>null</td><td>null</td><td>null</td><td>&quot;sona sin pona tan jan sewi Joj…</td></tr><tr><td>1500</td><td>&quot;toki sona tawa lipu &quot;sona sin …</td><td>&quot;An introduction to John&#x27;s Gosp…</td><td>[&quot;jan Pilipu&quot;, &quot;jan Tene&quot;]</td><td>null</td><td>&quot;2025-09-07&quot;</td><td>&quot;day&quot;</td><td>[&quot;religion&quot;, &quot;nasin sewi&quot;, &quot;prose&quot;]</td><td>null</td><td>&quot;CC BY-SA 4.0&quot;</td><td>[&quot;https://denesszanto.itch.io/lipu-sewi&quot;]</td><td>null</td><td>null</td><td>null</td><td>null</td><td>&quot;toki sona tawa lipu “sona sin …</td></tr><tr><td>1501</td><td>&quot;jan Pawe en jan Kawe&quot;</td><td>&quot;A poem about two troublesome n…</td><td>[&quot;jan Esuwa&quot;]</td><td>null</td><td>&quot;2025-09-09&quot;</td><td>&quot;day&quot;</td><td>[&quot;poetry&quot;, &quot;translation&quot;]</td><td>{&quot;Paweł i Gaweł&quot;,[&quot;Aleksander Fredro&quot;]}</td><td>&quot;CC BY-SA 4.0&quot;</td><td>[&quot;https://cezram.neocities.org/toki-pona/jan-pawe-kawe/&quot;]</td><td>null</td><td>null</td><td>null</td><td>null</td><td>&quot;jan Pawe li lon sewi tomo. tas…</td></tr></tbody></table></div>"
      ],
      "text/plain": [
       "shape: (1_502, 16)\n",
       "┌──────┬────────────┬────────────┬────────────┬───┬────────────┬───────────┬───────────┬───────────┐\n",
       "│ id   ┆ title      ┆ descriptio ┆ authors    ┆ … ┆ preprocess ┆ accessibi ┆ notes     ┆ text      │\n",
       "│ ---  ┆ ---        ┆ n          ┆ ---        ┆   ┆ ing        ┆ lity-note ┆ ---       ┆ ---       │\n",
       "│ i64  ┆ str        ┆ ---        ┆ list[str]  ┆   ┆ ---        ┆ s         ┆ str       ┆ str       │\n",
       "│      ┆            ┆ str        ┆            ┆   ┆ str        ┆ ---       ┆           ┆           │\n",
       "│      ┆            ┆            ┆            ┆   ┆            ┆ str       ┆           ┆           │\n",
       "╞══════╪════════════╪════════════╪════════════╪═══╪════════════╪═══════════╪═══════════╪═══════════╡\n",
       "│ 0    ┆ lawa       ┆ null       ┆ [\"jan      ┆ … ┆ null       ┆ null      ┆ null      ┆ o sona a: │\n",
       "│      ┆ monsuta    ┆            ┆ Juli\"]     ┆   ┆            ┆           ┆           ┆ moli en   │\n",
       "│      ┆            ┆            ┆            ┆   ┆            ┆           ┆           ┆ pilin ike │\n",
       "│      ┆            ┆            ┆            ┆   ┆            ┆           ┆           ┆ li…       │\n",
       "│ 1    ┆ jan en     ┆ null       ┆ [\"Michael  ┆ … ┆ null       ┆ null      ┆ null      ┆ jan en    │\n",
       "│      ┆ soweli     ┆            ┆ F.\"]       ┆   ┆            ┆           ┆           ┆ soweli    │\n",
       "│      ┆            ┆            ┆            ┆   ┆            ┆           ┆           ┆ jan mute  │\n",
       "│      ┆            ┆            ┆            ┆   ┆            ┆           ┆           ┆ li pili…  │\n",
       "│ 2    ┆ Dixie      ┆ null       ┆ [\"jan      ┆ … ┆ null       ┆ null      ┆ null      ┆           │\n",
       "│      ┆            ┆            ┆ Pije\"]     ┆   ┆            ┆           ┆           ┆           │\n",
       "│      ┆            ┆            ┆            ┆   ┆            ┆           ┆           ┆ mi wile   │\n",
       "│      ┆            ┆            ┆            ┆   ┆            ┆           ┆           ┆ lon ma pi │\n",
       "│      ┆            ┆            ┆            ┆   ┆            ┆           ┆           ┆ kasi len. │\n",
       "│      ┆            ┆            ┆            ┆   ┆            ┆           ┆           ┆ …         │\n",
       "│ 3    ┆ kasi nasa  ┆ null       ┆ [\"Michael  ┆ … ┆ null       ┆ null      ┆ null      ┆ kasi nasa │\n",
       "│      ┆ en telo    ┆            ┆ F.\"]       ┆   ┆            ┆           ┆           ┆ en telo   │\n",
       "│      ┆ nasa       ┆            ┆            ┆   ┆            ┆           ┆           ┆ nasa      │\n",
       "│      ┆            ┆            ┆            ┆   ┆            ┆           ┆           ┆ telo na…  │\n",
       "│ 4    ┆ jan lawa   ┆ null       ┆ [\"Michael  ┆ … ┆ null       ┆ null      ┆ null      ┆ jan lawa  │\n",
       "│      ┆            ┆            ┆ F.\"]       ┆   ┆            ┆           ┆           ┆ mi pona   │\n",
       "│      ┆            ┆            ┆            ┆   ┆            ┆           ┆           ┆ ala e     │\n",
       "│      ┆            ┆            ┆            ┆   ┆            ┆           ┆           ┆ sina      │\n",
       "│      ┆            ┆            ┆            ┆   ┆            ┆           ┆           ┆ o …       │\n",
       "│ …    ┆ …          ┆ …          ┆ …          ┆ … ┆ …          ┆ …         ┆ …         ┆ …         │\n",
       "│ 1497 ┆ sina wile  ┆ null       ┆ [\"kije     ┆ … ┆ null       ┆ null      ┆ null      ┆ sina wile │\n",
       "│      ┆ pali e     ┆            ┆ Weku\"]     ┆   ┆            ┆           ┆           ┆ pali mute │\n",
       "│      ┆ musi pi    ┆            ┆            ┆   ┆            ┆           ┆           ┆ la, sina  │\n",
       "│      ┆ sitel…     ┆            ┆            ┆   ┆            ┆           ┆           ┆ k…        │\n",
       "│ 1498 ┆ lipu suno  ┆ A diary of ┆ [\"jan      ┆ … ┆ null       ┆ null      ┆ Created   ┆ lipu suno │\n",
       "│      ┆ pi jan     ┆ a dead     ┆ Sepo\"]     ┆   ┆            ┆           ┆ on        ┆ pi jan    │\n",
       "│      ┆ moli       ┆ person.    ┆            ┆   ┆            ┆           ┆ September ┆ moli      │\n",
       "│      ┆            ┆            ┆            ┆   ┆            ┆           ┆ 3, 2025,  ┆ mi wile … │\n",
       "│      ┆            ┆            ┆            ┆   ┆            ┆           ┆ …         ┆           │\n",
       "│ 1499 ┆ sona sin   ┆ A revised  ┆ [\"Jonathan ┆ … ┆ null       ┆ null      ┆ null      ┆ sona sin  │\n",
       "│      ┆ pona tan   ┆ translatio ┆ Hill\",     ┆   ┆            ┆           ┆           ┆ pona tan  │\n",
       "│      ┆ jan sewi   ┆ n of       ┆ \"jan       ┆   ┆            ┆           ┆           ┆ jan sewi  │\n",
       "│      ┆ Joj…       ┆ John'…     ┆ Tene\"]     ┆   ┆            ┆           ┆           ┆ Joj…      │\n",
       "│ 1500 ┆ toki sona  ┆ An introdu ┆ [\"jan      ┆ … ┆ null       ┆ null      ┆ null      ┆ toki sona │\n",
       "│      ┆ tawa lipu  ┆ ction to   ┆ Pilipu\",   ┆   ┆            ┆           ┆           ┆ tawa lipu │\n",
       "│      ┆ \"sona sin  ┆ John's     ┆ \"jan       ┆   ┆            ┆           ┆           ┆ “sona sin │\n",
       "│      ┆ …          ┆ Gosp…      ┆ Tene\"]     ┆   ┆            ┆           ┆           ┆ …         │\n",
       "│ 1501 ┆ jan Pawe   ┆ A poem     ┆ [\"jan      ┆ … ┆ null       ┆ null      ┆ null      ┆ jan Pawe  │\n",
       "│      ┆ en jan     ┆ about two  ┆ Esuwa\"]    ┆   ┆            ┆           ┆           ┆ li lon    │\n",
       "│      ┆ Kawe       ┆ troublesom ┆            ┆   ┆            ┆           ┆           ┆ sewi      │\n",
       "│      ┆            ┆ e n…       ┆            ┆   ┆            ┆           ┆           ┆ tomo.     │\n",
       "│      ┆            ┆            ┆            ┆   ┆            ┆           ┆           ┆ tas…      │\n",
       "└──────┴────────────┴────────────┴────────────┴───┴────────────┴───────────┴───────────┴───────────┘"
      ]
     },
     "execution_count": 2,
     "metadata": {},
     "output_type": "execute_result"
    }
   ],
   "source": [
    "data = pl.read_parquet(\"poki.pq\").sort(\"date\")\n",
    "data = data.with_columns(pl.Series(range(len(data))).alias(\"id\"))\n",
    "data = data[[\"id\", *data.columns[:-1]]]\n",
    "data"
   ]
  },
  {
   "cell_type": "code",
   "execution_count": 3,
   "id": "0493b276",
   "metadata": {},
   "outputs": [
    {
     "data": {
      "text/html": [
       "\n",
       "<style>\n",
       "  #altair-viz-4f7268203f344a38b235aabe95d147b8.vega-embed {\n",
       "    width: 100%;\n",
       "    display: flex;\n",
       "  }\n",
       "\n",
       "  #altair-viz-4f7268203f344a38b235aabe95d147b8.vega-embed details,\n",
       "  #altair-viz-4f7268203f344a38b235aabe95d147b8.vega-embed details summary {\n",
       "    position: relative;\n",
       "  }\n",
       "</style>\n",
       "<div id=\"altair-viz-4f7268203f344a38b235aabe95d147b8\"></div>\n",
       "<script type=\"text/javascript\">\n",
       "  var VEGA_DEBUG = (typeof VEGA_DEBUG == \"undefined\") ? {} : VEGA_DEBUG;\n",
       "  (function(spec, embedOpt){\n",
       "    let outputDiv = document.currentScript.previousElementSibling;\n",
       "    if (outputDiv.id !== \"altair-viz-4f7268203f344a38b235aabe95d147b8\") {\n",
       "      outputDiv = document.getElementById(\"altair-viz-4f7268203f344a38b235aabe95d147b8\");\n",
       "    }\n",
       "\n",
       "    const paths = {\n",
       "      \"vega\": \"https://cdn.jsdelivr.net/npm/vega@5?noext\",\n",
       "      \"vega-lib\": \"https://cdn.jsdelivr.net/npm/vega-lib?noext\",\n",
       "      \"vega-lite\": \"https://cdn.jsdelivr.net/npm/vega-lite@5.20.1?noext\",\n",
       "      \"vega-embed\": \"https://cdn.jsdelivr.net/npm/vega-embed@6?noext\",\n",
       "    };\n",
       "\n",
       "    function maybeLoadScript(lib, version) {\n",
       "      var key = `${lib.replace(\"-\", \"\")}_version`;\n",
       "      return (VEGA_DEBUG[key] == version) ?\n",
       "        Promise.resolve(paths[lib]) :\n",
       "        new Promise(function(resolve, reject) {\n",
       "          var s = document.createElement('script');\n",
       "          document.getElementsByTagName(\"head\")[0].appendChild(s);\n",
       "          s.async = true;\n",
       "          s.onload = () => {\n",
       "            VEGA_DEBUG[key] = version;\n",
       "            return resolve(paths[lib]);\n",
       "          };\n",
       "          s.onerror = () => reject(`Error loading script: ${paths[lib]}`);\n",
       "          s.src = paths[lib];\n",
       "        });\n",
       "    }\n",
       "\n",
       "    function showError(err) {\n",
       "      outputDiv.innerHTML = `<div class=\"error\" style=\"color:red;\">${err}</div>`;\n",
       "      throw err;\n",
       "    }\n",
       "\n",
       "    function displayChart(vegaEmbed) {\n",
       "      vegaEmbed(outputDiv, spec, embedOpt)\n",
       "        .catch(err => showError(`Javascript Error: ${err.message}<br>This usually means there's a typo in your chart specification. See the javascript console for the full traceback.`));\n",
       "    }\n",
       "\n",
       "    if(typeof define === \"function\" && define.amd) {\n",
       "      requirejs.config({paths});\n",
       "      let deps = [\"vega-embed\"];\n",
       "      require(deps, displayChart, err => showError(`Error loading script: ${err.message}`));\n",
       "    } else {\n",
       "      maybeLoadScript(\"vega\", \"5\")\n",
       "        .then(() => maybeLoadScript(\"vega-lite\", \"5.20.1\"))\n",
       "        .then(() => maybeLoadScript(\"vega-embed\", \"6\"))\n",
       "        .catch(showError)\n",
       "        .then(() => displayChart(vegaEmbed));\n",
       "    }\n",
       "  })({\"config\": {\"view\": {\"continuousWidth\": 300, \"continuousHeight\": 300}}, \"data\": {\"name\": \"data-07d470c7cced5d89ea8bdb8512a0546a\"}, \"mark\": {\"type\": \"bar\", \"tooltip\": true}, \"encoding\": {\"x\": {\"bin\": true, \"field\": \"hash\", \"type\": \"quantitative\"}, \"y\": {\"aggregate\": \"count\", \"type\": \"quantitative\"}}, \"params\": [{\"name\": \"param_1\", \"select\": {\"type\": \"interval\", \"encodings\": [\"x\", \"y\"]}, \"bind\": \"scales\"}], \"$schema\": \"https://vega.github.io/schema/vega-lite/v5.20.1.json\", \"datasets\": {\"data-07d470c7cced5d89ea8bdb8512a0546a\": [{\"hash\": 7546}, {\"hash\": 9242}, {\"hash\": 1727}, {\"hash\": 2508}, {\"hash\": 8841}, {\"hash\": 7332}, {\"hash\": 4185}, {\"hash\": 5375}, {\"hash\": 3725}, {\"hash\": 7408}, {\"hash\": 5058}, {\"hash\": 6761}, {\"hash\": 3328}, {\"hash\": 4983}, {\"hash\": 6987}, {\"hash\": 9106}, {\"hash\": 2115}, {\"hash\": 6605}, {\"hash\": 9082}, {\"hash\": 8654}, {\"hash\": 3160}, {\"hash\": 1644}, {\"hash\": 304}, {\"hash\": 7759}, {\"hash\": 7550}, {\"hash\": 7368}, {\"hash\": 718}, {\"hash\": 4941}, {\"hash\": 6246}, {\"hash\": 2764}, {\"hash\": 1902}, {\"hash\": 4352}, {\"hash\": 1523}, {\"hash\": 8746}, {\"hash\": 8370}, {\"hash\": 4692}, {\"hash\": 1753}, {\"hash\": 4992}, {\"hash\": 2002}, {\"hash\": 4388}, {\"hash\": 6549}, {\"hash\": 6549}, {\"hash\": 6343}, {\"hash\": 8983}, {\"hash\": 841}, {\"hash\": 9427}, {\"hash\": 6071}, {\"hash\": 8875}, {\"hash\": 2441}, {\"hash\": 5628}, {\"hash\": 1761}, {\"hash\": 2317}, {\"hash\": 6916}, {\"hash\": 7391}, {\"hash\": 4087}, {\"hash\": 4041}, {\"hash\": 957}, {\"hash\": 7834}, {\"hash\": 5792}, {\"hash\": 8208}, {\"hash\": 6892}, {\"hash\": 3812}, {\"hash\": 6151}, {\"hash\": 2418}, {\"hash\": 8327}, {\"hash\": 1944}, {\"hash\": 3418}, {\"hash\": 4674}, {\"hash\": 6586}, {\"hash\": 3301}, {\"hash\": 1820}, {\"hash\": 2443}, {\"hash\": 3215}, {\"hash\": 117}, {\"hash\": 1864}, {\"hash\": 2487}, {\"hash\": 7992}, {\"hash\": 6782}, {\"hash\": 792}, {\"hash\": 3542}, {\"hash\": 9301}, {\"hash\": 2445}, {\"hash\": 6106}, {\"hash\": 8549}, {\"hash\": 8340}, {\"hash\": 5098}, {\"hash\": 44}, {\"hash\": 1043}, {\"hash\": 1556}, {\"hash\": 9864}, {\"hash\": 9177}, {\"hash\": 6239}, {\"hash\": 9565}, {\"hash\": 8009}, {\"hash\": 2987}, {\"hash\": 9325}, {\"hash\": 3651}, {\"hash\": 5071}, {\"hash\": 2507}, {\"hash\": 5122}, {\"hash\": 7137}, {\"hash\": 3388}, {\"hash\": 4815}, {\"hash\": 8133}, {\"hash\": 2697}, {\"hash\": 7219}, {\"hash\": 6483}, {\"hash\": 3777}, {\"hash\": 4843}, {\"hash\": 5866}, {\"hash\": 4722}, {\"hash\": 124}, {\"hash\": 4218}, {\"hash\": 4670}, {\"hash\": 2067}, {\"hash\": 6549}, {\"hash\": 8770}, {\"hash\": 1518}, {\"hash\": 9439}, {\"hash\": 5447}, {\"hash\": 2441}, {\"hash\": 747}, {\"hash\": 3306}, {\"hash\": 7415}, {\"hash\": 9963}, {\"hash\": 1870}, {\"hash\": 4182}, {\"hash\": 9144}, {\"hash\": 3391}, {\"hash\": 9412}, {\"hash\": 5257}, {\"hash\": 4094}, {\"hash\": 3481}, {\"hash\": 0}, {\"hash\": 7783}, {\"hash\": 163}, {\"hash\": 6733}, {\"hash\": 9225}, {\"hash\": 5893}, {\"hash\": 286}, {\"hash\": 6549}, {\"hash\": 2656}, {\"hash\": 640}, {\"hash\": 7518}, {\"hash\": 4386}, {\"hash\": 7341}, {\"hash\": 5037}, {\"hash\": 1683}, {\"hash\": 4188}, {\"hash\": 9257}, {\"hash\": 2495}, {\"hash\": 882}, {\"hash\": 4894}, {\"hash\": 8149}, {\"hash\": 1487}, {\"hash\": 9037}, {\"hash\": 6211}, {\"hash\": 2315}, {\"hash\": 925}, {\"hash\": 3828}, {\"hash\": 8710}, {\"hash\": 9965}, {\"hash\": 8651}, {\"hash\": 7660}, {\"hash\": 5315}, {\"hash\": 5387}, {\"hash\": 833}, {\"hash\": 7666}, {\"hash\": 502}, {\"hash\": 7859}, {\"hash\": 1568}, {\"hash\": 6822}, {\"hash\": 1419}, {\"hash\": 3361}, {\"hash\": 5052}, {\"hash\": 3253}, {\"hash\": 2146}, {\"hash\": 775}, {\"hash\": 1426}, {\"hash\": 1140}, {\"hash\": 4182}, {\"hash\": 9186}, {\"hash\": 8800}, {\"hash\": 4858}, {\"hash\": 1741}, {\"hash\": 8717}, {\"hash\": 8059}, {\"hash\": 1672}, {\"hash\": 6615}, {\"hash\": 8776}, {\"hash\": 1409}, {\"hash\": 3367}, {\"hash\": 2076}, {\"hash\": 1189}, {\"hash\": 4214}, {\"hash\": 6181}, {\"hash\": 2725}, {\"hash\": 3373}, {\"hash\": 3773}, {\"hash\": 5239}, {\"hash\": 5746}, {\"hash\": 4777}, {\"hash\": 6919}, {\"hash\": 7676}, {\"hash\": 4471}, {\"hash\": 5614}, {\"hash\": 624}, {\"hash\": 2736}, {\"hash\": 2533}, {\"hash\": 4609}, {\"hash\": 8859}, {\"hash\": 9159}, {\"hash\": 243}, {\"hash\": 8167}, {\"hash\": 163}, {\"hash\": 7937}, {\"hash\": 3506}, {\"hash\": 3918}, {\"hash\": 805}, {\"hash\": 6431}, {\"hash\": 1005}, {\"hash\": 319}, {\"hash\": 4136}, {\"hash\": 8492}, {\"hash\": 7871}, {\"hash\": 2248}, {\"hash\": 551}, {\"hash\": 4050}, {\"hash\": 5387}, {\"hash\": 2127}, {\"hash\": 8093}, {\"hash\": 524}, {\"hash\": 9412}, {\"hash\": 1695}, {\"hash\": 9735}, {\"hash\": 4831}, {\"hash\": 5404}, {\"hash\": 333}, {\"hash\": 3555}, {\"hash\": 2439}, {\"hash\": 2708}, {\"hash\": 7444}, {\"hash\": 7034}, {\"hash\": 9468}, {\"hash\": 715}, {\"hash\": 8496}, {\"hash\": 2376}, {\"hash\": 1744}, {\"hash\": 7024}, {\"hash\": 5564}, {\"hash\": 2204}, {\"hash\": 2230}, {\"hash\": 4118}, {\"hash\": 3892}, {\"hash\": 9722}, {\"hash\": 4997}, {\"hash\": 5589}, {\"hash\": 4553}, {\"hash\": 3624}, {\"hash\": 6456}, {\"hash\": 5190}, {\"hash\": 7421}, {\"hash\": 1186}, {\"hash\": 1220}, {\"hash\": 3783}, {\"hash\": 3791}, {\"hash\": 2567}, {\"hash\": 1220}, {\"hash\": 4172}, {\"hash\": 2850}, {\"hash\": 7882}, {\"hash\": 8538}, {\"hash\": 8857}, {\"hash\": 8178}, {\"hash\": 6003}, {\"hash\": 6535}, {\"hash\": 985}, {\"hash\": 5671}, {\"hash\": 1621}, {\"hash\": 6988}, {\"hash\": 42}, {\"hash\": 1429}, {\"hash\": 6235}, {\"hash\": 9794}, {\"hash\": 3522}, {\"hash\": 1950}, {\"hash\": 4792}, {\"hash\": 6706}, {\"hash\": 9337}, {\"hash\": 4574}, {\"hash\": 2718}, {\"hash\": 6741}, {\"hash\": 2407}, {\"hash\": 4103}, {\"hash\": 1018}, {\"hash\": 5505}, {\"hash\": 7640}, {\"hash\": 902}, {\"hash\": 4453}, {\"hash\": 6940}, {\"hash\": 9533}, {\"hash\": 100}, {\"hash\": 9205}, {\"hash\": 4225}, {\"hash\": 2200}, {\"hash\": 8713}, {\"hash\": 8019}, {\"hash\": 6549}, {\"hash\": 538}, {\"hash\": 6934}, {\"hash\": 7510}, {\"hash\": 8487}, {\"hash\": 7143}, {\"hash\": 8217}, {\"hash\": 509}, {\"hash\": 9930}, {\"hash\": 7040}, {\"hash\": 2005}, {\"hash\": 3063}, {\"hash\": 1920}, {\"hash\": 1711}, {\"hash\": 7569}, {\"hash\": 4272}, {\"hash\": 9468}, {\"hash\": 4980}, {\"hash\": 3365}, {\"hash\": 2661}, {\"hash\": 712}, {\"hash\": 6176}, {\"hash\": 7770}, {\"hash\": 1085}, {\"hash\": 8469}, {\"hash\": 179}, {\"hash\": 8605}, {\"hash\": 4288}, {\"hash\": 4935}, {\"hash\": 8443}, {\"hash\": 4391}, {\"hash\": 299}, {\"hash\": 2871}, {\"hash\": 771}, {\"hash\": 743}, {\"hash\": 3076}, {\"hash\": 3549}, {\"hash\": 3297}, {\"hash\": 8469}, {\"hash\": 9967}, {\"hash\": 3916}, {\"hash\": 1417}, {\"hash\": 28}, {\"hash\": 2856}, {\"hash\": 9834}, {\"hash\": 2846}, {\"hash\": 9628}, {\"hash\": 1475}, {\"hash\": 9134}, {\"hash\": 9785}, {\"hash\": 9036}, {\"hash\": 70}, {\"hash\": 3174}, {\"hash\": 3012}, {\"hash\": 526}, {\"hash\": 8443}, {\"hash\": 2140}, {\"hash\": 8171}, {\"hash\": 4232}, {\"hash\": 8564}, {\"hash\": 775}, {\"hash\": 2483}, {\"hash\": 9262}, {\"hash\": 7809}, {\"hash\": 8451}, {\"hash\": 9227}, {\"hash\": 1266}, {\"hash\": 2338}, {\"hash\": 2888}, {\"hash\": 5647}, {\"hash\": 8818}, {\"hash\": 4705}, {\"hash\": 4895}, {\"hash\": 5295}, {\"hash\": 3950}, {\"hash\": 2191}, {\"hash\": 1370}, {\"hash\": 2900}, {\"hash\": 9868}, {\"hash\": 454}, {\"hash\": 4001}, {\"hash\": 7295}, {\"hash\": 3667}, {\"hash\": 8443}, {\"hash\": 2343}, {\"hash\": 3211}, {\"hash\": 2408}, {\"hash\": 5532}, {\"hash\": 6339}, {\"hash\": 6841}, {\"hash\": 9055}, {\"hash\": 6108}, {\"hash\": 7311}, {\"hash\": 8360}, {\"hash\": 4483}, {\"hash\": 870}, {\"hash\": 2513}, {\"hash\": 1309}, {\"hash\": 5515}, {\"hash\": 7098}, {\"hash\": 3937}, {\"hash\": 9951}, {\"hash\": 4047}, {\"hash\": 9414}, {\"hash\": 6479}, {\"hash\": 8467}, {\"hash\": 3041}, {\"hash\": 3515}, {\"hash\": 6260}, {\"hash\": 6900}, {\"hash\": 5330}, {\"hash\": 2556}, {\"hash\": 8443}, {\"hash\": 9732}, {\"hash\": 9374}, {\"hash\": 7760}, {\"hash\": 9436}, {\"hash\": 9450}, {\"hash\": 6398}, {\"hash\": 1996}, {\"hash\": 5078}, {\"hash\": 9773}, {\"hash\": 6807}, {\"hash\": 6426}, {\"hash\": 6540}, {\"hash\": 3508}, {\"hash\": 7655}, {\"hash\": 8443}, {\"hash\": 956}, {\"hash\": 5802}, {\"hash\": 3212}, {\"hash\": 9736}, {\"hash\": 3895}, {\"hash\": 9372}, {\"hash\": 8454}, {\"hash\": 9611}, {\"hash\": 6152}, {\"hash\": 785}, {\"hash\": 6379}, {\"hash\": 2350}, {\"hash\": 8969}, {\"hash\": 4479}, {\"hash\": 3757}, {\"hash\": 5808}, {\"hash\": 3208}, {\"hash\": 9007}, {\"hash\": 8090}, {\"hash\": 8144}, {\"hash\": 2038}, {\"hash\": 7265}, {\"hash\": 5287}, {\"hash\": 4845}, {\"hash\": 7458}, {\"hash\": 229}, {\"hash\": 4982}, {\"hash\": 3363}, {\"hash\": 6814}, {\"hash\": 9629}, {\"hash\": 6295}, {\"hash\": 8443}, {\"hash\": 18}, {\"hash\": 7090}, {\"hash\": 2156}, {\"hash\": 4027}, {\"hash\": 1460}, {\"hash\": 2350}, {\"hash\": 7801}, {\"hash\": 1384}, {\"hash\": 9434}, {\"hash\": 380}, {\"hash\": 5108}, {\"hash\": 4994}, {\"hash\": 3941}, {\"hash\": 3253}, {\"hash\": 90}, {\"hash\": 418}, {\"hash\": 9048}, {\"hash\": 1512}, {\"hash\": 1081}, {\"hash\": 2369}, {\"hash\": 2279}, {\"hash\": 3817}, {\"hash\": 8443}, {\"hash\": 1816}, {\"hash\": 4959}, {\"hash\": 7251}, {\"hash\": 8650}, {\"hash\": 3620}, {\"hash\": 7812}, {\"hash\": 9200}, {\"hash\": 6225}, {\"hash\": 4367}, {\"hash\": 5101}, {\"hash\": 5540}, {\"hash\": 6568}, {\"hash\": 284}, {\"hash\": 8581}, {\"hash\": 1181}, {\"hash\": 1932}, {\"hash\": 6812}, {\"hash\": 6901}, {\"hash\": 8462}, {\"hash\": 4952}, {\"hash\": 5928}, {\"hash\": 7082}, {\"hash\": 4731}, {\"hash\": 1111}, {\"hash\": 7997}, {\"hash\": 8443}, {\"hash\": 6296}, {\"hash\": 8471}, {\"hash\": 8882}, {\"hash\": 870}, {\"hash\": 4230}, {\"hash\": 8173}, {\"hash\": 9639}, {\"hash\": 3290}, {\"hash\": 2604}, {\"hash\": 203}, {\"hash\": 4175}, {\"hash\": 8193}, {\"hash\": 3899}, {\"hash\": 8678}, {\"hash\": 3986}, {\"hash\": 3693}, {\"hash\": 3910}, {\"hash\": 888}, {\"hash\": 3921}, {\"hash\": 8734}, {\"hash\": 8068}, {\"hash\": 2351}, {\"hash\": 8443}, {\"hash\": 8458}, {\"hash\": 4118}, {\"hash\": 9820}, {\"hash\": 252}, {\"hash\": 263}, {\"hash\": 6706}, {\"hash\": 7028}, {\"hash\": 1547}, {\"hash\": 3969}, {\"hash\": 3895}, {\"hash\": 3408}, {\"hash\": 6593}, {\"hash\": 3268}, {\"hash\": 873}, {\"hash\": 6217}, {\"hash\": 7321}, {\"hash\": 6549}, {\"hash\": 7545}, {\"hash\": 373}, {\"hash\": 4663}, {\"hash\": 2332}, {\"hash\": 5967}, {\"hash\": 8228}, {\"hash\": 8638}, {\"hash\": 2979}, {\"hash\": 6448}, {\"hash\": 5275}, {\"hash\": 1980}, {\"hash\": 6407}, {\"hash\": 4648}, {\"hash\": 6595}, {\"hash\": 8443}, {\"hash\": 5300}, {\"hash\": 5272}, {\"hash\": 5718}, {\"hash\": 1198}, {\"hash\": 1681}, {\"hash\": 1803}, {\"hash\": 9431}, {\"hash\": 7919}, {\"hash\": 5973}, {\"hash\": 6519}, {\"hash\": 2806}, {\"hash\": 846}, {\"hash\": 2922}, {\"hash\": 5770}, {\"hash\": 228}, {\"hash\": 5872}, {\"hash\": 5076}, {\"hash\": 7107}, {\"hash\": 796}, {\"hash\": 8322}, {\"hash\": 214}, {\"hash\": 3162}, {\"hash\": 9670}, {\"hash\": 2427}, {\"hash\": 9402}, {\"hash\": 2826}, {\"hash\": 9773}, {\"hash\": 6043}, {\"hash\": 2813}, {\"hash\": 2152}, {\"hash\": 9066}, {\"hash\": 2222}, {\"hash\": 3233}, {\"hash\": 4271}, {\"hash\": 1027}, {\"hash\": 2828}, {\"hash\": 9304}, {\"hash\": 1321}, {\"hash\": 318}, {\"hash\": 889}, {\"hash\": 5303}, {\"hash\": 6978}, {\"hash\": 9095}, {\"hash\": 1306}, {\"hash\": 1244}, {\"hash\": 1494}, {\"hash\": 9629}, {\"hash\": 6785}, {\"hash\": 5209}, {\"hash\": 4545}, {\"hash\": 7291}, {\"hash\": 6278}, {\"hash\": 4182}, {\"hash\": 61}, {\"hash\": 5702}, {\"hash\": 8443}, {\"hash\": 8635}, {\"hash\": 9604}, {\"hash\": 9220}, {\"hash\": 5307}, {\"hash\": 5954}, {\"hash\": 6267}, {\"hash\": 3925}, {\"hash\": 5807}, {\"hash\": 6038}, {\"hash\": 5469}, {\"hash\": 3351}, {\"hash\": 7022}, {\"hash\": 1192}, {\"hash\": 1456}, {\"hash\": 6549}, {\"hash\": 1178}, {\"hash\": 6024}, {\"hash\": 6677}, {\"hash\": 5607}, {\"hash\": 1934}, {\"hash\": 5371}, {\"hash\": 9441}, {\"hash\": 8443}, {\"hash\": 7132}, {\"hash\": 5563}, {\"hash\": 3564}, {\"hash\": 2945}, {\"hash\": 6169}, {\"hash\": 968}, {\"hash\": 6495}, {\"hash\": 1797}, {\"hash\": 1488}, {\"hash\": 6333}, {\"hash\": 57}, {\"hash\": 5764}, {\"hash\": 7321}, {\"hash\": 1968}, {\"hash\": 5737}, {\"hash\": 9314}, {\"hash\": 6995}, {\"hash\": 726}, {\"hash\": 8114}, {\"hash\": 3894}, {\"hash\": 1082}, {\"hash\": 8443}, {\"hash\": 5545}, {\"hash\": 1590}, {\"hash\": 3019}, {\"hash\": 4714}, {\"hash\": 6944}, {\"hash\": 2962}, {\"hash\": 7430}, {\"hash\": 9660}, {\"hash\": 4682}, {\"hash\": 1053}, {\"hash\": 1909}, {\"hash\": 6556}, {\"hash\": 3581}, {\"hash\": 3653}, {\"hash\": 5446}, {\"hash\": 2286}, {\"hash\": 334}, {\"hash\": 1705}, {\"hash\": 106}, {\"hash\": 479}, {\"hash\": 7516}, {\"hash\": 1115}, {\"hash\": 7039}, {\"hash\": 7109}, {\"hash\": 8633}, {\"hash\": 3566}, {\"hash\": 7607}, {\"hash\": 375}, {\"hash\": 4239}, {\"hash\": 9548}, {\"hash\": 744}, {\"hash\": 7932}, {\"hash\": 6796}, {\"hash\": 662}, {\"hash\": 427}, {\"hash\": 6976}, {\"hash\": 5239}, {\"hash\": 2684}, {\"hash\": 3459}, {\"hash\": 8423}, {\"hash\": 3978}, {\"hash\": 5064}, {\"hash\": 8443}, {\"hash\": 7710}, {\"hash\": 4823}, {\"hash\": 6088}, {\"hash\": 288}, {\"hash\": 8967}, {\"hash\": 6671}, {\"hash\": 2537}, {\"hash\": 825}, {\"hash\": 9512}, {\"hash\": 8498}, {\"hash\": 3140}, {\"hash\": 6154}, {\"hash\": 1398}, {\"hash\": 9106}, {\"hash\": 8103}, {\"hash\": 2612}, {\"hash\": 6549}, {\"hash\": 4638}, {\"hash\": 1625}, {\"hash\": 637}, {\"hash\": 6003}, {\"hash\": 2845}, {\"hash\": 1414}, {\"hash\": 2552}, {\"hash\": 6096}, {\"hash\": 7917}, {\"hash\": 4822}, {\"hash\": 830}, {\"hash\": 4087}, {\"hash\": 9858}, {\"hash\": 3660}, {\"hash\": 6927}, {\"hash\": 670}, {\"hash\": 927}, {\"hash\": 7616}, {\"hash\": 4342}, {\"hash\": 5457}, {\"hash\": 3869}, {\"hash\": 7358}, {\"hash\": 1424}, {\"hash\": 9408}, {\"hash\": 2337}, {\"hash\": 2074}, {\"hash\": 4508}, {\"hash\": 1118}, {\"hash\": 3028}, {\"hash\": 1761}, {\"hash\": 4821}, {\"hash\": 5139}, {\"hash\": 3332}, {\"hash\": 5808}, {\"hash\": 7333}, {\"hash\": 9927}, {\"hash\": 9960}, {\"hash\": 2891}, {\"hash\": 7131}, {\"hash\": 7850}, {\"hash\": 4189}, {\"hash\": 4170}, {\"hash\": 8443}, {\"hash\": 5763}, {\"hash\": 5075}, {\"hash\": 6015}, {\"hash\": 9434}, {\"hash\": 4112}, {\"hash\": 8388}, {\"hash\": 6572}, {\"hash\": 8253}, {\"hash\": 2614}, {\"hash\": 6339}, {\"hash\": 9546}, {\"hash\": 670}, {\"hash\": 4613}, {\"hash\": 2757}, {\"hash\": 9061}, {\"hash\": 6635}, {\"hash\": 5160}, {\"hash\": 3401}, {\"hash\": 9187}, {\"hash\": 4989}, {\"hash\": 4441}, {\"hash\": 8443}, {\"hash\": 2062}, {\"hash\": 7009}, {\"hash\": 9810}, {\"hash\": 4198}, {\"hash\": 6155}, {\"hash\": 4088}, {\"hash\": 9289}, {\"hash\": 2043}, {\"hash\": 6148}, {\"hash\": 4506}, {\"hash\": 7815}, {\"hash\": 508}, {\"hash\": 538}, {\"hash\": 8816}, {\"hash\": 6523}, {\"hash\": 1958}, {\"hash\": 4779}, {\"hash\": 1525}, {\"hash\": 7313}, {\"hash\": 497}, {\"hash\": 6951}, {\"hash\": 3037}, {\"hash\": 3529}, {\"hash\": 4775}, {\"hash\": 1860}, {\"hash\": 9549}, {\"hash\": 7293}, {\"hash\": 4274}, {\"hash\": 9122}, {\"hash\": 9700}, {\"hash\": 6072}, {\"hash\": 4967}, {\"hash\": 3212}, {\"hash\": 9965}, {\"hash\": 1633}, {\"hash\": 4597}, {\"hash\": 8453}, {\"hash\": 8443}, {\"hash\": 5739}, {\"hash\": 9906}, {\"hash\": 3189}, {\"hash\": 8720}, {\"hash\": 9446}, {\"hash\": 5184}, {\"hash\": 7258}, {\"hash\": 6865}, {\"hash\": 6647}, {\"hash\": 3122}, {\"hash\": 3620}, {\"hash\": 8380}, {\"hash\": 9200}, {\"hash\": 4734}, {\"hash\": 6404}, {\"hash\": 4416}, {\"hash\": 3246}, {\"hash\": 1762}, {\"hash\": 6528}, {\"hash\": 8384}, {\"hash\": 1090}, {\"hash\": 7888}, {\"hash\": 7144}, {\"hash\": 3153}, {\"hash\": 3053}, {\"hash\": 6245}, {\"hash\": 3887}, {\"hash\": 7776}, {\"hash\": 4592}, {\"hash\": 9751}, {\"hash\": 1780}, {\"hash\": 8443}, {\"hash\": 4025}, {\"hash\": 3062}, {\"hash\": 6240}, {\"hash\": 7842}, {\"hash\": 3713}, {\"hash\": 375}, {\"hash\": 1340}, {\"hash\": 6468}, {\"hash\": 6339}, {\"hash\": 1340}, {\"hash\": 8942}, {\"hash\": 2121}, {\"hash\": 5614}, {\"hash\": 6992}, {\"hash\": 7486}, {\"hash\": 2742}, {\"hash\": 2915}, {\"hash\": 7807}, {\"hash\": 4094}, {\"hash\": 149}, {\"hash\": 791}, {\"hash\": 3113}, {\"hash\": 8856}, {\"hash\": 9823}, {\"hash\": 3997}, {\"hash\": 8894}, {\"hash\": 711}, {\"hash\": 8439}, {\"hash\": 8668}, {\"hash\": 3033}, {\"hash\": 7176}, {\"hash\": 6499}, {\"hash\": 2182}, {\"hash\": 9382}, {\"hash\": 102}, {\"hash\": 4914}, {\"hash\": 3331}, {\"hash\": 5032}, {\"hash\": 6446}, {\"hash\": 3089}, {\"hash\": 2050}, {\"hash\": 5511}, {\"hash\": 5785}, {\"hash\": 8443}, {\"hash\": 3334}, {\"hash\": 5434}, {\"hash\": 9650}, {\"hash\": 5270}, {\"hash\": 2840}, {\"hash\": 2351}, {\"hash\": 6549}, {\"hash\": 1349}, {\"hash\": 9328}, {\"hash\": 6632}, {\"hash\": 9440}, {\"hash\": 3677}, {\"hash\": 3434}, {\"hash\": 9150}, {\"hash\": 7377}, {\"hash\": 6657}, {\"hash\": 1752}, {\"hash\": 3567}, {\"hash\": 2842}, {\"hash\": 1749}, {\"hash\": 8871}, {\"hash\": 7004}, {\"hash\": 4960}, {\"hash\": 313}, {\"hash\": 1280}, {\"hash\": 3612}, {\"hash\": 3548}, {\"hash\": 1467}, {\"hash\": 9475}, {\"hash\": 8443}, {\"hash\": 7917}, {\"hash\": 7917}, {\"hash\": 4456}, {\"hash\": 646}, {\"hash\": 6583}, {\"hash\": 1768}, {\"hash\": 9351}, {\"hash\": 2731}, {\"hash\": 5135}, {\"hash\": 1571}, {\"hash\": 9773}, {\"hash\": 8993}, {\"hash\": 2872}, {\"hash\": 6649}, {\"hash\": 2219}, {\"hash\": 7291}, {\"hash\": 7622}, {\"hash\": 8476}, {\"hash\": 1706}, {\"hash\": 9146}, {\"hash\": 4677}, {\"hash\": 1205}, {\"hash\": 8794}, {\"hash\": 3869}, {\"hash\": 6518}, {\"hash\": 755}, {\"hash\": 9719}, {\"hash\": 5999}, {\"hash\": 5950}, {\"hash\": 9667}, {\"hash\": 3458}, {\"hash\": 1979}, {\"hash\": 6170}, {\"hash\": 4132}, {\"hash\": 5902}, {\"hash\": 7389}, {\"hash\": 4360}, {\"hash\": 6880}, {\"hash\": 3071}, {\"hash\": 5559}, {\"hash\": 2519}, {\"hash\": 3075}, {\"hash\": 1917}, {\"hash\": 7152}, {\"hash\": 6560}, {\"hash\": 8324}, {\"hash\": 867}, {\"hash\": 6159}, {\"hash\": 8889}, {\"hash\": 7987}, {\"hash\": 2768}, {\"hash\": 4658}, {\"hash\": 4874}, {\"hash\": 2398}, {\"hash\": 478}, {\"hash\": 3237}, {\"hash\": 7874}, {\"hash\": 8640}, {\"hash\": 5815}, {\"hash\": 5811}, {\"hash\": 2982}, {\"hash\": 2143}, {\"hash\": 4017}, {\"hash\": 6252}, {\"hash\": 7097}, {\"hash\": 5138}, {\"hash\": 3929}, {\"hash\": 2625}, {\"hash\": 7233}, {\"hash\": 7279}, {\"hash\": 8213}, {\"hash\": 5219}, {\"hash\": 8443}, {\"hash\": 52}, {\"hash\": 4063}, {\"hash\": 4396}, {\"hash\": 7674}, {\"hash\": 2696}, {\"hash\": 4355}, {\"hash\": 1774}, {\"hash\": 6451}, {\"hash\": 3782}, {\"hash\": 9337}, {\"hash\": 278}, {\"hash\": 8306}, {\"hash\": 6073}, {\"hash\": 425}, {\"hash\": 3224}, {\"hash\": 1343}, {\"hash\": 2337}, {\"hash\": 8649}, {\"hash\": 3318}, {\"hash\": 839}, {\"hash\": 7370}, {\"hash\": 4884}, {\"hash\": 1154}, {\"hash\": 642}, {\"hash\": 7660}, {\"hash\": 4013}, {\"hash\": 7699}, {\"hash\": 5814}, {\"hash\": 3624}, {\"hash\": 706}, {\"hash\": 4824}, {\"hash\": 3410}, {\"hash\": 9431}, {\"hash\": 8564}, {\"hash\": 6032}, {\"hash\": 3061}, {\"hash\": 5497}, {\"hash\": 2988}, {\"hash\": 5041}, {\"hash\": 376}, {\"hash\": 4682}, {\"hash\": 970}, {\"hash\": 9122}, {\"hash\": 8443}, {\"hash\": 9102}, {\"hash\": 1611}, {\"hash\": 7435}, {\"hash\": 9039}, {\"hash\": 8261}, {\"hash\": 4814}, {\"hash\": 6787}, {\"hash\": 9442}, {\"hash\": 2685}, {\"hash\": 7513}, {\"hash\": 2215}, {\"hash\": 3430}, {\"hash\": 8021}, {\"hash\": 2882}, {\"hash\": 6291}, {\"hash\": 8131}, {\"hash\": 1381}, {\"hash\": 8443}, {\"hash\": 984}, {\"hash\": 6952}, {\"hash\": 4576}, {\"hash\": 9148}, {\"hash\": 2366}, {\"hash\": 4100}, {\"hash\": 6289}, {\"hash\": 6022}, {\"hash\": 7670}, {\"hash\": 5210}, {\"hash\": 6339}, {\"hash\": 784}, {\"hash\": 9954}, {\"hash\": 4841}, {\"hash\": 888}, {\"hash\": 6034}, {\"hash\": 6363}, {\"hash\": 2140}, {\"hash\": 9107}, {\"hash\": 6754}, {\"hash\": 6631}, {\"hash\": 6213}, {\"hash\": 8443}, {\"hash\": 653}, {\"hash\": 7613}, {\"hash\": 185}, {\"hash\": 1916}, {\"hash\": 7007}, {\"hash\": 371}, {\"hash\": 5571}, {\"hash\": 2934}, {\"hash\": 1501}, {\"hash\": 6152}, {\"hash\": 2089}, {\"hash\": 8978}, {\"hash\": 141}, {\"hash\": 119}, {\"hash\": 6090}, {\"hash\": 9987}, {\"hash\": 1456}, {\"hash\": 6887}, {\"hash\": 3491}, {\"hash\": 7127}, {\"hash\": 5458}, {\"hash\": 6571}, {\"hash\": 388}, {\"hash\": 2782}, {\"hash\": 2989}, {\"hash\": 2307}, {\"hash\": 9799}, {\"hash\": 1081}, {\"hash\": 9880}, {\"hash\": 5100}, {\"hash\": 4542}, {\"hash\": 9660}, {\"hash\": 6868}, {\"hash\": 6549}, {\"hash\": 6527}, {\"hash\": 2745}, {\"hash\": 2718}, {\"hash\": 8119}, {\"hash\": 1413}, {\"hash\": 3313}, {\"hash\": 4339}, {\"hash\": 7176}, {\"hash\": 3901}, {\"hash\": 8320}, {\"hash\": 9125}, {\"hash\": 6032}, {\"hash\": 9091}, {\"hash\": 9155}, {\"hash\": 9876}, {\"hash\": 3833}, {\"hash\": 5691}, {\"hash\": 9468}, {\"hash\": 4160}, {\"hash\": 1178}, {\"hash\": 8830}, {\"hash\": 8767}, {\"hash\": 8446}, {\"hash\": 6549}, {\"hash\": 7943}, {\"hash\": 7210}, {\"hash\": 9421}, {\"hash\": 5051}, {\"hash\": 8547}, {\"hash\": 9226}, {\"hash\": 3333}, {\"hash\": 3061}, {\"hash\": 8967}, {\"hash\": 2177}, {\"hash\": 1215}, {\"hash\": 1987}, {\"hash\": 8549}, {\"hash\": 7551}, {\"hash\": 7145}, {\"hash\": 2943}, {\"hash\": 1705}, {\"hash\": 8225}, {\"hash\": 3973}, {\"hash\": 6549}, {\"hash\": 8158}, {\"hash\": 2922}, {\"hash\": 5529}, {\"hash\": 9037}, {\"hash\": 1047}, {\"hash\": 9346}, {\"hash\": 9721}, {\"hash\": 8990}, {\"hash\": 3229}, {\"hash\": 3346}, {\"hash\": 360}, {\"hash\": 7353}, {\"hash\": 626}, {\"hash\": 6831}, {\"hash\": 9529}, {\"hash\": 7551}, {\"hash\": 3053}, {\"hash\": 519}, {\"hash\": 5249}, {\"hash\": 2450}, {\"hash\": 3673}, {\"hash\": 9089}, {\"hash\": 6602}, {\"hash\": 1073}, {\"hash\": 1693}, {\"hash\": 8171}, {\"hash\": 8554}, {\"hash\": 9823}, {\"hash\": 7566}, {\"hash\": 9464}, {\"hash\": 812}, {\"hash\": 8845}, {\"hash\": 2665}, {\"hash\": 7063}, {\"hash\": 1}, {\"hash\": 4166}, {\"hash\": 4516}, {\"hash\": 7227}, {\"hash\": 376}, {\"hash\": 9501}, {\"hash\": 6549}, {\"hash\": 4495}, {\"hash\": 9341}, {\"hash\": 5982}, {\"hash\": 646}, {\"hash\": 8629}, {\"hash\": 4233}, {\"hash\": 9421}, {\"hash\": 6691}, {\"hash\": 5365}, {\"hash\": 2528}, {\"hash\": 89}, {\"hash\": 3537}, {\"hash\": 270}, {\"hash\": 5285}, {\"hash\": 8639}, {\"hash\": 4181}, {\"hash\": 3272}, {\"hash\": 6863}, {\"hash\": 1317}, {\"hash\": 9484}, {\"hash\": 1070}, {\"hash\": 5097}, {\"hash\": 2366}, {\"hash\": 5550}, {\"hash\": 1853}, {\"hash\": 9923}, {\"hash\": 4906}, {\"hash\": 9586}, {\"hash\": 7929}, {\"hash\": 1252}, {\"hash\": 6148}, {\"hash\": 6549}, {\"hash\": 7730}, {\"hash\": 5905}, {\"hash\": 7367}, {\"hash\": 7150}, {\"hash\": 5648}, {\"hash\": 4427}, {\"hash\": 9693}, {\"hash\": 4183}, {\"hash\": 9989}, {\"hash\": 6875}, {\"hash\": 8381}, {\"hash\": 403}, {\"hash\": 7968}, {\"hash\": 2833}, {\"hash\": 2643}, {\"hash\": 2563}, {\"hash\": 9005}, {\"hash\": 3650}, {\"hash\": 5534}, {\"hash\": 4404}, {\"hash\": 5945}, {\"hash\": 9478}, {\"hash\": 8443}, {\"hash\": 6857}, {\"hash\": 7578}, {\"hash\": 8079}, {\"hash\": 9995}, {\"hash\": 3358}, {\"hash\": 7045}, {\"hash\": 2732}, {\"hash\": 2982}, {\"hash\": 3433}, {\"hash\": 390}, {\"hash\": 4253}, {\"hash\": 8519}, {\"hash\": 7803}, {\"hash\": 3039}, {\"hash\": 6527}, {\"hash\": 9855}, {\"hash\": 8256}, {\"hash\": 2704}, {\"hash\": 1675}, {\"hash\": 7485}, {\"hash\": 419}, {\"hash\": 6540}, {\"hash\": 8399}, {\"hash\": 1585}, {\"hash\": 4003}, {\"hash\": 1701}, {\"hash\": 6007}, {\"hash\": 7607}, {\"hash\": 5947}, {\"hash\": 343}, {\"hash\": 1931}, {\"hash\": 5796}, {\"hash\": 2758}, {\"hash\": 7431}, {\"hash\": 707}, {\"hash\": 8757}, {\"hash\": 1504}, {\"hash\": 1105}, {\"hash\": 1665}, {\"hash\": 9800}, {\"hash\": 6421}, {\"hash\": 8485}, {\"hash\": 7509}, {\"hash\": 9161}, {\"hash\": 3986}, {\"hash\": 8923}, {\"hash\": 4522}, {\"hash\": 988}, {\"hash\": 1175}, {\"hash\": 5584}, {\"hash\": 3249}, {\"hash\": 8244}, {\"hash\": 1166}, {\"hash\": 756}, {\"hash\": 7955}, {\"hash\": 3734}, {\"hash\": 3029}, {\"hash\": 3735}, {\"hash\": 2576}, {\"hash\": 5853}, {\"hash\": 4045}, {\"hash\": 3070}, {\"hash\": 5403}, {\"hash\": 1208}, {\"hash\": 7930}, {\"hash\": 5290}, {\"hash\": 9876}, {\"hash\": 217}, {\"hash\": 3782}, {\"hash\": 5377}, {\"hash\": 2267}, {\"hash\": 7808}, {\"hash\": 3355}, {\"hash\": 1216}, {\"hash\": 660}, {\"hash\": 4946}, {\"hash\": 9165}, {\"hash\": 4103}, {\"hash\": 642}, {\"hash\": 1154}, {\"hash\": 8751}, {\"hash\": 1551}, {\"hash\": 9800}, {\"hash\": 5790}, {\"hash\": 3297}, {\"hash\": 2677}, {\"hash\": 42}, {\"hash\": 9365}, {\"hash\": 814}, {\"hash\": 8147}, {\"hash\": 8718}, {\"hash\": 8916}, {\"hash\": 3660}, {\"hash\": 6519}, {\"hash\": 6896}, {\"hash\": 6073}, {\"hash\": 6904}, {\"hash\": 8272}, {\"hash\": 1181}, {\"hash\": 4209}, {\"hash\": 2427}, {\"hash\": 1455}, {\"hash\": 1438}, {\"hash\": 632}, {\"hash\": 7183}, {\"hash\": 8445}, {\"hash\": 7596}, {\"hash\": 2864}, {\"hash\": 1065}, {\"hash\": 6881}, {\"hash\": 1437}, {\"hash\": 3297}, {\"hash\": 2115}, {\"hash\": 4201}, {\"hash\": 6600}, {\"hash\": 3089}, {\"hash\": 9521}, {\"hash\": 8320}, {\"hash\": 8397}, {\"hash\": 3165}, {\"hash\": 8929}, {\"hash\": 4485}, {\"hash\": 9276}, {\"hash\": 6417}, {\"hash\": 8921}, {\"hash\": 612}, {\"hash\": 7971}, {\"hash\": 231}, {\"hash\": 9394}, {\"hash\": 7114}, {\"hash\": 7737}, {\"hash\": 4169}, {\"hash\": 8927}, {\"hash\": 4594}, {\"hash\": 3734}, {\"hash\": 6075}, {\"hash\": 5165}, {\"hash\": 8539}, {\"hash\": 8143}, {\"hash\": 8480}, {\"hash\": 6182}, {\"hash\": 6987}, {\"hash\": 4260}, {\"hash\": 6776}, {\"hash\": 7182}, {\"hash\": 5024}, {\"hash\": 8020}, {\"hash\": 1300}, {\"hash\": 3569}, {\"hash\": 2255}, {\"hash\": 8976}, {\"hash\": 3355}, {\"hash\": 3764}, {\"hash\": 7937}, {\"hash\": 4699}, {\"hash\": 18}, {\"hash\": 9837}, {\"hash\": 349}, {\"hash\": 7668}, {\"hash\": 7912}, {\"hash\": 4512}, {\"hash\": 8935}, {\"hash\": 3552}, {\"hash\": 2935}, {\"hash\": 9423}, {\"hash\": 2693}, {\"hash\": 9761}, {\"hash\": 6928}, {\"hash\": 5041}, {\"hash\": 9265}, {\"hash\": 4153}, {\"hash\": 3133}, {\"hash\": 6829}, {\"hash\": 6408}, {\"hash\": 6156}, {\"hash\": 1477}, {\"hash\": 5287}, {\"hash\": 4594}, {\"hash\": 330}, {\"hash\": 8324}, {\"hash\": 9596}, {\"hash\": 5858}, {\"hash\": 4268}, {\"hash\": 2633}, {\"hash\": 4622}, {\"hash\": 645}, {\"hash\": 2312}, {\"hash\": 8593}, {\"hash\": 694}, {\"hash\": 4037}, {\"hash\": 679}, {\"hash\": 6733}, {\"hash\": 7592}, {\"hash\": 5917}, {\"hash\": 8299}, {\"hash\": 2929}, {\"hash\": 3648}, {\"hash\": 9057}, {\"hash\": 1034}, {\"hash\": 7720}, {\"hash\": 2520}, {\"hash\": 7027}, {\"hash\": 6311}, {\"hash\": 4664}, {\"hash\": 1562}, {\"hash\": 4442}, {\"hash\": 7761}, {\"hash\": 7959}, {\"hash\": 1296}, {\"hash\": 5520}, {\"hash\": 3628}, {\"hash\": 8984}, {\"hash\": 4017}, {\"hash\": 8261}, {\"hash\": 2847}, {\"hash\": 6773}, {\"hash\": 1357}, {\"hash\": 772}, {\"hash\": 4912}, {\"hash\": 7095}, {\"hash\": 9933}, {\"hash\": 1734}, {\"hash\": 8567}, {\"hash\": 7147}, {\"hash\": 1519}, {\"hash\": 5940}, {\"hash\": 1160}, {\"hash\": 1324}, {\"hash\": 9790}]}}, {\"mode\": \"vega-lite\"});\n",
       "</script>"
      ],
      "text/plain": [
       "alt.Chart(...)"
      ]
     },
     "execution_count": 3,
     "metadata": {},
     "output_type": "execute_result"
    }
   ],
   "source": [
    "data = data.with_columns(\n",
    "    data[\"text\"]\n",
    "        .map_elements(\n",
    "            lambda t:\n",
    "            int(sha256(t.encode()).hexdigest(), 16) % 10000\n",
    "        )\n",
    "        .alias(\"hash\")\n",
    ")\n",
    "data[\"hash\"].plot.hist()"
   ]
  },
  {
   "cell_type": "code",
   "execution_count": 4,
   "id": "804a6ce3",
   "metadata": {},
   "outputs": [
    {
     "data": {
      "text/plain": [
       "DatasetDict({\n",
       "    train: Dataset({\n",
       "        features: ['id', 'title', 'description', 'authors', 'proofreaders', 'date', 'date-precision', 'tags', 'original', 'license', 'sources', 'archives', 'preprocessing', 'accessibility-notes', 'notes', 'text'],\n",
       "        num_rows: 1433\n",
       "    })\n",
       "    validation: Dataset({\n",
       "        features: ['id', 'title', 'description', 'authors', 'proofreaders', 'date', 'date-precision', 'tags', 'original', 'license', 'sources', 'archives', 'preprocessing', 'accessibility-notes', 'notes', 'text'],\n",
       "        num_rows: 69\n",
       "    })\n",
       "})"
      ]
     },
     "execution_count": 4,
     "metadata": {},
     "output_type": "execute_result"
    }
   ],
   "source": [
    "dataset_dict = datasets.DatasetDict()\n",
    "dataset_dict[\"train\"] = datasets.Dataset.from_polars(data.filter(data[\"hash\"] > 500)[data.columns[:-1]])\n",
    "dataset_dict[\"validation\"] = datasets.Dataset.from_polars(data.filter(data[\"hash\"] <= 500)[data.columns[:-1]])\n",
    "\n",
    "dataset_dict"
   ]
  },
  {
   "cell_type": "code",
   "execution_count": 5,
   "id": "675997b8",
   "metadata": {},
   "outputs": [
    {
     "data": {
      "application/vnd.jupyter.widget-view+json": {
       "model_id": "90ca147f47b1480cbac7eb6cd32ede64",
       "version_major": 2,
       "version_minor": 0
      },
      "text/plain": [
       "Uploading the dataset shards:   0%|          | 0/1 [00:00<?, ? shards/s]"
      ]
     },
     "metadata": {},
     "output_type": "display_data"
    },
    {
     "data": {
      "application/vnd.jupyter.widget-view+json": {
       "model_id": "75d4dc7bff0c48c8960c948711e21f5b",
       "version_major": 2,
       "version_minor": 0
      },
      "text/plain": [
       "Creating parquet from Arrow format:   0%|          | 0/1 [00:00<?, ?ba/s]"
      ]
     },
     "metadata": {},
     "output_type": "display_data"
    },
    {
     "data": {
      "application/vnd.jupyter.widget-view+json": {
       "model_id": "c75d82d9ef334c1f90a88450e28bf474",
       "version_major": 2,
       "version_minor": 0
      },
      "text/plain": [
       "Processing Files (0 / 0): |          |  0.00B /  0.00B            "
      ]
     },
     "metadata": {},
     "output_type": "display_data"
    },
    {
     "data": {
      "application/vnd.jupyter.widget-view+json": {
       "model_id": "d7df521b5a8f4c8a9cc7531779a4cd3e",
       "version_major": 2,
       "version_minor": 0
      },
      "text/plain": [
       "New Data Upload: |          |  0.00B /  0.00B            "
      ]
     },
     "metadata": {},
     "output_type": "display_data"
    },
    {
     "data": {
      "application/vnd.jupyter.widget-view+json": {
       "model_id": "ef17caa2aa4e455b810293f1384176e6",
       "version_major": 2,
       "version_minor": 0
      },
      "text/plain": [
       "Uploading the dataset shards:   0%|          | 0/1 [00:00<?, ? shards/s]"
      ]
     },
     "metadata": {},
     "output_type": "display_data"
    },
    {
     "data": {
      "application/vnd.jupyter.widget-view+json": {
       "model_id": "0a9b499ac7a7486cb20467da93e0ea3a",
       "version_major": 2,
       "version_minor": 0
      },
      "text/plain": [
       "Creating parquet from Arrow format:   0%|          | 0/1 [00:00<?, ?ba/s]"
      ]
     },
     "metadata": {},
     "output_type": "display_data"
    },
    {
     "data": {
      "application/vnd.jupyter.widget-view+json": {
       "model_id": "c83ad12e8fbe42f997ce484fdfd169f3",
       "version_major": 2,
       "version_minor": 0
      },
      "text/plain": [
       "Processing Files (0 / 0): |          |  0.00B /  0.00B            "
      ]
     },
     "metadata": {},
     "output_type": "display_data"
    },
    {
     "data": {
      "application/vnd.jupyter.widget-view+json": {
       "model_id": "7fb1b79254b14da080cac5110f077e71",
       "version_major": 2,
       "version_minor": 0
      },
      "text/plain": [
       "New Data Upload: |          |  0.00B /  0.00B            "
      ]
     },
     "metadata": {},
     "output_type": "display_data"
    },
    {
     "data": {
      "text/plain": [
       "CommitInfo(commit_url='https://huggingface.co/datasets/NetherQuartz/poki-lapo/commit/c914dc4bff13c06676ac0d1659a8874d0b034f58', commit_message='Upload dataset', commit_description='', oid='c914dc4bff13c06676ac0d1659a8874d0b034f58', pr_url=None, repo_url=RepoUrl('https://huggingface.co/datasets/NetherQuartz/poki-lapo', endpoint='https://huggingface.co', repo_type='dataset', repo_id='NetherQuartz/poki-lapo'), pr_revision=None, pr_num=None)"
      ]
     },
     "execution_count": 5,
     "metadata": {},
     "output_type": "execute_result"
    }
   ],
   "source": [
    "dataset_dict.push_to_hub(\"NetherQuartz/poki-lapo\")"
   ]
  }
 ],
 "metadata": {
  "kernelspec": {
   "display_name": "ilo-toki",
   "language": "python",
   "name": "python3"
  },
  "language_info": {
   "codemirror_mode": {
    "name": "ipython",
    "version": 3
   },
   "file_extension": ".py",
   "mimetype": "text/x-python",
   "name": "python",
   "nbconvert_exporter": "python",
   "pygments_lexer": "ipython3",
   "version": "3.12.2"
  }
 },
 "nbformat": 4,
 "nbformat_minor": 5
}
