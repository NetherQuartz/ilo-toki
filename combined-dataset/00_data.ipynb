{
 "cells": [
  {
   "cell_type": "code",
   "execution_count": 1,
   "id": "b1ff24db",
   "metadata": {},
   "outputs": [],
   "source": [
    "from IPython.display import display"
   ]
  },
  {
   "cell_type": "code",
   "execution_count": 2,
   "id": "2a9a6663",
   "metadata": {},
   "outputs": [
    {
     "data": {
      "text/plain": [
       "DatasetDict({\n",
       "    train: Dataset({\n",
       "        features: ['id', 'source_id', 'target_id', 'source', 'source_lang', 'tok', 'en', 'ru', 'uk', 'be', 'fr', 'es', 'pt', 'it', 'de', 'vi', 'ja', 'zh', 'ko', 'ar', 'he', 'pl', 'tr', 'la', 'el'],\n",
       "        num_rows: 74668\n",
       "    })\n",
       "    validation: Dataset({\n",
       "        features: ['id', 'source_id', 'target_id', 'source', 'source_lang', 'tok', 'en', 'ru', 'uk', 'be', 'fr', 'es', 'pt', 'it', 'de', 'vi', 'ja', 'zh', 'ko', 'ar', 'he', 'pl', 'tr', 'la', 'el'],\n",
       "        num_rows: 3930\n",
       "    })\n",
       "})"
      ]
     },
     "execution_count": 2,
     "metadata": {},
     "output_type": "execute_result"
    }
   ],
   "source": [
    "import datasets\n",
    "import polars as pl\n",
    "\n",
    "tatoeba_dataset = datasets.load_dataset(\"NetherQuartz/tatoeba-tokipona\")\n",
    "tatoeba_dataset"
   ]
  },
  {
   "cell_type": "code",
   "execution_count": 3,
   "id": "d28199fe",
   "metadata": {},
   "outputs": [
    {
     "data": {
      "text/plain": [
       "DatasetDict({\n",
       "    train: Dataset({\n",
       "        features: ['key', 'part', 'book', 'chapter', 'verse', 'tok', 'en', 'ru', 'uk', 'be', 'fr', 'es', 'pt', 'it', 'de', 'vi', 'ja', 'zh', 'ko', 'ar', 'he', 'pl', 'tr', 'la', 'el'],\n",
       "        num_rows: 1081\n",
       "    })\n",
       "    validation: Dataset({\n",
       "        features: ['key', 'part', 'book', 'chapter', 'verse', 'tok', 'en', 'ru', 'uk', 'be', 'fr', 'es', 'pt', 'it', 'de', 'vi', 'ja', 'zh', 'ko', 'ar', 'he', 'pl', 'tr', 'la', 'el'],\n",
       "        num_rows: 65\n",
       "    })\n",
       "})"
      ]
     },
     "execution_count": 3,
     "metadata": {},
     "output_type": "execute_result"
    }
   ],
   "source": [
    "sewi_dataset = datasets.load_dataset(\"NetherQuartz/lipu-sewi\")\n",
    "sewi_dataset"
   ]
  },
  {
   "cell_type": "code",
   "execution_count": 4,
   "id": "261338ab",
   "metadata": {},
   "outputs": [
    {
     "data": {
      "text/plain": [
       "DatasetDict({\n",
       "    train: Dataset({\n",
       "        features: ['id', 'url', 'title', 'text'],\n",
       "        num_rows: 2917\n",
       "    })\n",
       "    validation: Dataset({\n",
       "        features: ['id', 'url', 'title', 'text'],\n",
       "        num_rows: 146\n",
       "    })\n",
       "})"
      ]
     },
     "execution_count": 4,
     "metadata": {},
     "output_type": "execute_result"
    }
   ],
   "source": [
    "wiki_dataset = datasets.load_dataset(\"NetherQuartz/wikipesija\")\n",
    "wiki_dataset"
   ]
  },
  {
   "cell_type": "code",
   "execution_count": 5,
   "id": "2b643cba",
   "metadata": {},
   "outputs": [
    {
     "data": {
      "text/plain": [
       "DatasetDict({\n",
       "    train: Dataset({\n",
       "        features: ['id', 'title', 'description', 'authors', 'proofreaders', 'date', 'date-precision', 'tags', 'original', 'license', 'sources', 'archives', 'preprocessing', 'accessibility-notes', 'notes', 'text'],\n",
       "        num_rows: 1433\n",
       "    })\n",
       "    validation: Dataset({\n",
       "        features: ['id', 'title', 'description', 'authors', 'proofreaders', 'date', 'date-precision', 'tags', 'original', 'license', 'sources', 'archives', 'preprocessing', 'accessibility-notes', 'notes', 'text'],\n",
       "        num_rows: 69\n",
       "    })\n",
       "})"
      ]
     },
     "execution_count": 5,
     "metadata": {},
     "output_type": "execute_result"
    }
   ],
   "source": [
    "poki_dataset = datasets.load_dataset(\"NetherQuartz/poki-lapo\")\n",
    "poki_dataset"
   ]
  },
  {
   "cell_type": "code",
   "execution_count": 6,
   "id": "5da5eb56",
   "metadata": {},
   "outputs": [
    {
     "data": {
      "text/plain": [
       "DatasetDict({\n",
       "    train: Dataset({\n",
       "        features: ['id', 'url', 'text'],\n",
       "        num_rows: 42\n",
       "    })\n",
       "})"
      ]
     },
     "execution_count": 6,
     "metadata": {},
     "output_type": "execute_result"
    }
   ],
   "source": [
    "kule_dataset = datasets.load_dataset(\"NetherQuartz/lipu-kule\")\n",
    "kule_dataset"
   ]
  },
  {
   "cell_type": "code",
   "execution_count": 7,
   "id": "2cc6495f",
   "metadata": {},
   "outputs": [
    {
     "data": {
      "text/plain": [
       "2"
      ]
     },
     "execution_count": 7,
     "metadata": {},
     "output_type": "execute_result"
    }
   ],
   "source": [
    "from transformers import AutoTokenizer\n",
    "\n",
    "tokenizer = AutoTokenizer.from_pretrained(\"NetherQuartz/tatoeba-tok-multi-gemma-2-2b-merged\")\n",
    "\n",
    "def count_tokens(s: str) -> int:\n",
    "    return tokenizer(s, return_tensors=\"pt\")[\"input_ids\"].shape[1]\n",
    "\n",
    "count_tokens(\"hi\")"
   ]
  },
  {
   "cell_type": "code",
   "execution_count": 8,
   "id": "0a079099",
   "metadata": {},
   "outputs": [
    {
     "data": {
      "text/plain": [
       "'tok'"
      ]
     },
     "metadata": {},
     "output_type": "display_data"
    },
    {
     "data": {
      "text/html": [
       "<div><style>\n",
       ".dataframe > thead > tr,\n",
       ".dataframe > tbody > tr {\n",
       "  text-align: right;\n",
       "  white-space: pre-wrap;\n",
       "}\n",
       "</style>\n",
       "<small>shape: (9, 2)</small><table border=\"1\" class=\"dataframe\"><thead><tr><th>statistic</th><th>value</th></tr><tr><td>str</td><td>f64</td></tr></thead><tbody><tr><td>&quot;count&quot;</td><td>74668.0</td></tr><tr><td>&quot;null_count&quot;</td><td>0.0</td></tr><tr><td>&quot;mean&quot;</td><td>14.188434</td></tr><tr><td>&quot;std&quot;</td><td>6.710767</td></tr><tr><td>&quot;min&quot;</td><td>3.0</td></tr><tr><td>&quot;25%&quot;</td><td>10.0</td></tr><tr><td>&quot;50%&quot;</td><td>13.0</td></tr><tr><td>&quot;75%&quot;</td><td>17.0</td></tr><tr><td>&quot;max&quot;</td><td>189.0</td></tr></tbody></table></div>"
      ],
      "text/plain": [
       "shape: (9, 2)\n",
       "┌────────────┬───────────┐\n",
       "│ statistic  ┆ value     │\n",
       "│ ---        ┆ ---       │\n",
       "│ str        ┆ f64       │\n",
       "╞════════════╪═══════════╡\n",
       "│ count      ┆ 74668.0   │\n",
       "│ null_count ┆ 0.0       │\n",
       "│ mean       ┆ 14.188434 │\n",
       "│ std        ┆ 6.710767  │\n",
       "│ min        ┆ 3.0       │\n",
       "│ 25%        ┆ 10.0      │\n",
       "│ 50%        ┆ 13.0      │\n",
       "│ 75%        ┆ 17.0      │\n",
       "│ max        ┆ 189.0     │\n",
       "└────────────┴───────────┘"
      ]
     },
     "metadata": {},
     "output_type": "display_data"
    },
    {
     "data": {
      "text/plain": [
       "'en'"
      ]
     },
     "metadata": {},
     "output_type": "display_data"
    },
    {
     "data": {
      "text/html": [
       "<div><style>\n",
       ".dataframe > thead > tr,\n",
       ".dataframe > tbody > tr {\n",
       "  text-align: right;\n",
       "  white-space: pre-wrap;\n",
       "}\n",
       "</style>\n",
       "<small>shape: (9, 2)</small><table border=\"1\" class=\"dataframe\"><thead><tr><th>statistic</th><th>value</th></tr><tr><td>str</td><td>f64</td></tr></thead><tbody><tr><td>&quot;count&quot;</td><td>74668.0</td></tr><tr><td>&quot;null_count&quot;</td><td>0.0</td></tr><tr><td>&quot;mean&quot;</td><td>8.82532</td></tr><tr><td>&quot;std&quot;</td><td>3.698366</td></tr><tr><td>&quot;min&quot;</td><td>3.0</td></tr><tr><td>&quot;25%&quot;</td><td>7.0</td></tr><tr><td>&quot;50%&quot;</td><td>8.0</td></tr><tr><td>&quot;75%&quot;</td><td>10.0</td></tr><tr><td>&quot;max&quot;</td><td>86.0</td></tr></tbody></table></div>"
      ],
      "text/plain": [
       "shape: (9, 2)\n",
       "┌────────────┬──────────┐\n",
       "│ statistic  ┆ value    │\n",
       "│ ---        ┆ ---      │\n",
       "│ str        ┆ f64      │\n",
       "╞════════════╪══════════╡\n",
       "│ count      ┆ 74668.0  │\n",
       "│ null_count ┆ 0.0      │\n",
       "│ mean       ┆ 8.82532  │\n",
       "│ std        ┆ 3.698366 │\n",
       "│ min        ┆ 3.0      │\n",
       "│ 25%        ┆ 7.0      │\n",
       "│ 50%        ┆ 8.0      │\n",
       "│ 75%        ┆ 10.0     │\n",
       "│ max        ┆ 86.0     │\n",
       "└────────────┴──────────┘"
      ]
     },
     "metadata": {},
     "output_type": "display_data"
    },
    {
     "data": {
      "text/plain": [
       "'ru'"
      ]
     },
     "metadata": {},
     "output_type": "display_data"
    },
    {
     "data": {
      "text/html": [
       "<div><style>\n",
       ".dataframe > thead > tr,\n",
       ".dataframe > tbody > tr {\n",
       "  text-align: right;\n",
       "  white-space: pre-wrap;\n",
       "}\n",
       "</style>\n",
       "<small>shape: (9, 2)</small><table border=\"1\" class=\"dataframe\"><thead><tr><th>statistic</th><th>value</th></tr><tr><td>str</td><td>f64</td></tr></thead><tbody><tr><td>&quot;count&quot;</td><td>74668.0</td></tr><tr><td>&quot;null_count&quot;</td><td>0.0</td></tr><tr><td>&quot;mean&quot;</td><td>9.929716</td></tr><tr><td>&quot;std&quot;</td><td>4.531394</td></tr><tr><td>&quot;min&quot;</td><td>3.0</td></tr><tr><td>&quot;25%&quot;</td><td>7.0</td></tr><tr><td>&quot;50%&quot;</td><td>9.0</td></tr><tr><td>&quot;75%&quot;</td><td>11.0</td></tr><tr><td>&quot;max&quot;</td><td>126.0</td></tr></tbody></table></div>"
      ],
      "text/plain": [
       "shape: (9, 2)\n",
       "┌────────────┬──────────┐\n",
       "│ statistic  ┆ value    │\n",
       "│ ---        ┆ ---      │\n",
       "│ str        ┆ f64      │\n",
       "╞════════════╪══════════╡\n",
       "│ count      ┆ 74668.0  │\n",
       "│ null_count ┆ 0.0      │\n",
       "│ mean       ┆ 9.929716 │\n",
       "│ std        ┆ 4.531394 │\n",
       "│ min        ┆ 3.0      │\n",
       "│ 25%        ┆ 7.0      │\n",
       "│ 50%        ┆ 9.0      │\n",
       "│ 75%        ┆ 11.0     │\n",
       "│ max        ┆ 126.0    │\n",
       "└────────────┴──────────┘"
      ]
     },
     "metadata": {},
     "output_type": "display_data"
    },
    {
     "data": {
      "text/plain": [
       "'uk'"
      ]
     },
     "metadata": {},
     "output_type": "display_data"
    },
    {
     "data": {
      "text/html": [
       "<div><style>\n",
       ".dataframe > thead > tr,\n",
       ".dataframe > tbody > tr {\n",
       "  text-align: right;\n",
       "  white-space: pre-wrap;\n",
       "}\n",
       "</style>\n",
       "<small>shape: (9, 2)</small><table border=\"1\" class=\"dataframe\"><thead><tr><th>statistic</th><th>value</th></tr><tr><td>str</td><td>f64</td></tr></thead><tbody><tr><td>&quot;count&quot;</td><td>74668.0</td></tr><tr><td>&quot;null_count&quot;</td><td>0.0</td></tr><tr><td>&quot;mean&quot;</td><td>11.933452</td></tr><tr><td>&quot;std&quot;</td><td>5.503235</td></tr><tr><td>&quot;min&quot;</td><td>3.0</td></tr><tr><td>&quot;25%&quot;</td><td>9.0</td></tr><tr><td>&quot;50%&quot;</td><td>11.0</td></tr><tr><td>&quot;75%&quot;</td><td>14.0</td></tr><tr><td>&quot;max&quot;</td><td>143.0</td></tr></tbody></table></div>"
      ],
      "text/plain": [
       "shape: (9, 2)\n",
       "┌────────────┬───────────┐\n",
       "│ statistic  ┆ value     │\n",
       "│ ---        ┆ ---       │\n",
       "│ str        ┆ f64       │\n",
       "╞════════════╪═══════════╡\n",
       "│ count      ┆ 74668.0   │\n",
       "│ null_count ┆ 0.0       │\n",
       "│ mean       ┆ 11.933452 │\n",
       "│ std        ┆ 5.503235  │\n",
       "│ min        ┆ 3.0       │\n",
       "│ 25%        ┆ 9.0       │\n",
       "│ 50%        ┆ 11.0      │\n",
       "│ 75%        ┆ 14.0      │\n",
       "│ max        ┆ 143.0     │\n",
       "└────────────┴───────────┘"
      ]
     },
     "metadata": {},
     "output_type": "display_data"
    },
    {
     "data": {
      "text/plain": [
       "'be'"
      ]
     },
     "metadata": {},
     "output_type": "display_data"
    },
    {
     "data": {
      "text/html": [
       "<div><style>\n",
       ".dataframe > thead > tr,\n",
       ".dataframe > tbody > tr {\n",
       "  text-align: right;\n",
       "  white-space: pre-wrap;\n",
       "}\n",
       "</style>\n",
       "<small>shape: (9, 2)</small><table border=\"1\" class=\"dataframe\"><thead><tr><th>statistic</th><th>value</th></tr><tr><td>str</td><td>f64</td></tr></thead><tbody><tr><td>&quot;count&quot;</td><td>74668.0</td></tr><tr><td>&quot;null_count&quot;</td><td>0.0</td></tr><tr><td>&quot;mean&quot;</td><td>14.574302</td></tr><tr><td>&quot;std&quot;</td><td>7.049529</td></tr><tr><td>&quot;min&quot;</td><td>2.0</td></tr><tr><td>&quot;25%&quot;</td><td>10.0</td></tr><tr><td>&quot;50%&quot;</td><td>13.0</td></tr><tr><td>&quot;75%&quot;</td><td>17.0</td></tr><tr><td>&quot;max&quot;</td><td>187.0</td></tr></tbody></table></div>"
      ],
      "text/plain": [
       "shape: (9, 2)\n",
       "┌────────────┬───────────┐\n",
       "│ statistic  ┆ value     │\n",
       "│ ---        ┆ ---       │\n",
       "│ str        ┆ f64       │\n",
       "╞════════════╪═══════════╡\n",
       "│ count      ┆ 74668.0   │\n",
       "│ null_count ┆ 0.0       │\n",
       "│ mean       ┆ 14.574302 │\n",
       "│ std        ┆ 7.049529  │\n",
       "│ min        ┆ 2.0       │\n",
       "│ 25%        ┆ 10.0      │\n",
       "│ 50%        ┆ 13.0      │\n",
       "│ 75%        ┆ 17.0      │\n",
       "│ max        ┆ 187.0     │\n",
       "└────────────┴───────────┘"
      ]
     },
     "metadata": {},
     "output_type": "display_data"
    },
    {
     "data": {
      "text/plain": [
       "'fr'"
      ]
     },
     "metadata": {},
     "output_type": "display_data"
    },
    {
     "data": {
      "text/html": [
       "<div><style>\n",
       ".dataframe > thead > tr,\n",
       ".dataframe > tbody > tr {\n",
       "  text-align: right;\n",
       "  white-space: pre-wrap;\n",
       "}\n",
       "</style>\n",
       "<small>shape: (9, 2)</small><table border=\"1\" class=\"dataframe\"><thead><tr><th>statistic</th><th>value</th></tr><tr><td>str</td><td>f64</td></tr></thead><tbody><tr><td>&quot;count&quot;</td><td>74668.0</td></tr><tr><td>&quot;null_count&quot;</td><td>0.0</td></tr><tr><td>&quot;mean&quot;</td><td>10.583784</td></tr><tr><td>&quot;std&quot;</td><td>4.732388</td></tr><tr><td>&quot;min&quot;</td><td>3.0</td></tr><tr><td>&quot;25%&quot;</td><td>8.0</td></tr><tr><td>&quot;50%&quot;</td><td>10.0</td></tr><tr><td>&quot;75%&quot;</td><td>12.0</td></tr><tr><td>&quot;max&quot;</td><td>140.0</td></tr></tbody></table></div>"
      ],
      "text/plain": [
       "shape: (9, 2)\n",
       "┌────────────┬───────────┐\n",
       "│ statistic  ┆ value     │\n",
       "│ ---        ┆ ---       │\n",
       "│ str        ┆ f64       │\n",
       "╞════════════╪═══════════╡\n",
       "│ count      ┆ 74668.0   │\n",
       "│ null_count ┆ 0.0       │\n",
       "│ mean       ┆ 10.583784 │\n",
       "│ std        ┆ 4.732388  │\n",
       "│ min        ┆ 3.0       │\n",
       "│ 25%        ┆ 8.0       │\n",
       "│ 50%        ┆ 10.0      │\n",
       "│ 75%        ┆ 12.0      │\n",
       "│ max        ┆ 140.0     │\n",
       "└────────────┴───────────┘"
      ]
     },
     "metadata": {},
     "output_type": "display_data"
    },
    {
     "data": {
      "text/plain": [
       "'es'"
      ]
     },
     "metadata": {},
     "output_type": "display_data"
    },
    {
     "data": {
      "text/html": [
       "<div><style>\n",
       ".dataframe > thead > tr,\n",
       ".dataframe > tbody > tr {\n",
       "  text-align: right;\n",
       "  white-space: pre-wrap;\n",
       "}\n",
       "</style>\n",
       "<small>shape: (9, 2)</small><table border=\"1\" class=\"dataframe\"><thead><tr><th>statistic</th><th>value</th></tr><tr><td>str</td><td>f64</td></tr></thead><tbody><tr><td>&quot;count&quot;</td><td>74668.0</td></tr><tr><td>&quot;null_count&quot;</td><td>0.0</td></tr><tr><td>&quot;mean&quot;</td><td>9.000656</td></tr><tr><td>&quot;std&quot;</td><td>3.873709</td></tr><tr><td>&quot;min&quot;</td><td>2.0</td></tr><tr><td>&quot;25%&quot;</td><td>7.0</td></tr><tr><td>&quot;50%&quot;</td><td>8.0</td></tr><tr><td>&quot;75%&quot;</td><td>10.0</td></tr><tr><td>&quot;max&quot;</td><td>122.0</td></tr></tbody></table></div>"
      ],
      "text/plain": [
       "shape: (9, 2)\n",
       "┌────────────┬──────────┐\n",
       "│ statistic  ┆ value    │\n",
       "│ ---        ┆ ---      │\n",
       "│ str        ┆ f64      │\n",
       "╞════════════╪══════════╡\n",
       "│ count      ┆ 74668.0  │\n",
       "│ null_count ┆ 0.0      │\n",
       "│ mean       ┆ 9.000656 │\n",
       "│ std        ┆ 3.873709 │\n",
       "│ min        ┆ 2.0      │\n",
       "│ 25%        ┆ 7.0      │\n",
       "│ 50%        ┆ 8.0      │\n",
       "│ 75%        ┆ 10.0     │\n",
       "│ max        ┆ 122.0    │\n",
       "└────────────┴──────────┘"
      ]
     },
     "metadata": {},
     "output_type": "display_data"
    },
    {
     "data": {
      "text/plain": [
       "'pt'"
      ]
     },
     "metadata": {},
     "output_type": "display_data"
    },
    {
     "data": {
      "text/html": [
       "<div><style>\n",
       ".dataframe > thead > tr,\n",
       ".dataframe > tbody > tr {\n",
       "  text-align: right;\n",
       "  white-space: pre-wrap;\n",
       "}\n",
       "</style>\n",
       "<small>shape: (9, 2)</small><table border=\"1\" class=\"dataframe\"><thead><tr><th>statistic</th><th>value</th></tr><tr><td>str</td><td>f64</td></tr></thead><tbody><tr><td>&quot;count&quot;</td><td>74668.0</td></tr><tr><td>&quot;null_count&quot;</td><td>0.0</td></tr><tr><td>&quot;mean&quot;</td><td>9.452871</td></tr><tr><td>&quot;std&quot;</td><td>4.117414</td></tr><tr><td>&quot;min&quot;</td><td>3.0</td></tr><tr><td>&quot;25%&quot;</td><td>7.0</td></tr><tr><td>&quot;50%&quot;</td><td>9.0</td></tr><tr><td>&quot;75%&quot;</td><td>11.0</td></tr><tr><td>&quot;max&quot;</td><td>146.0</td></tr></tbody></table></div>"
      ],
      "text/plain": [
       "shape: (9, 2)\n",
       "┌────────────┬──────────┐\n",
       "│ statistic  ┆ value    │\n",
       "│ ---        ┆ ---      │\n",
       "│ str        ┆ f64      │\n",
       "╞════════════╪══════════╡\n",
       "│ count      ┆ 74668.0  │\n",
       "│ null_count ┆ 0.0      │\n",
       "│ mean       ┆ 9.452871 │\n",
       "│ std        ┆ 4.117414 │\n",
       "│ min        ┆ 3.0      │\n",
       "│ 25%        ┆ 7.0      │\n",
       "│ 50%        ┆ 9.0      │\n",
       "│ 75%        ┆ 11.0     │\n",
       "│ max        ┆ 146.0    │\n",
       "└────────────┴──────────┘"
      ]
     },
     "metadata": {},
     "output_type": "display_data"
    },
    {
     "data": {
      "text/plain": [
       "'it'"
      ]
     },
     "metadata": {},
     "output_type": "display_data"
    },
    {
     "data": {
      "text/html": [
       "<div><style>\n",
       ".dataframe > thead > tr,\n",
       ".dataframe > tbody > tr {\n",
       "  text-align: right;\n",
       "  white-space: pre-wrap;\n",
       "}\n",
       "</style>\n",
       "<small>shape: (9, 2)</small><table border=\"1\" class=\"dataframe\"><thead><tr><th>statistic</th><th>value</th></tr><tr><td>str</td><td>f64</td></tr></thead><tbody><tr><td>&quot;count&quot;</td><td>74668.0</td></tr><tr><td>&quot;null_count&quot;</td><td>0.0</td></tr><tr><td>&quot;mean&quot;</td><td>9.499652</td></tr><tr><td>&quot;std&quot;</td><td>4.231946</td></tr><tr><td>&quot;min&quot;</td><td>3.0</td></tr><tr><td>&quot;25%&quot;</td><td>7.0</td></tr><tr><td>&quot;50%&quot;</td><td>9.0</td></tr><tr><td>&quot;75%&quot;</td><td>11.0</td></tr><tr><td>&quot;max&quot;</td><td>122.0</td></tr></tbody></table></div>"
      ],
      "text/plain": [
       "shape: (9, 2)\n",
       "┌────────────┬──────────┐\n",
       "│ statistic  ┆ value    │\n",
       "│ ---        ┆ ---      │\n",
       "│ str        ┆ f64      │\n",
       "╞════════════╪══════════╡\n",
       "│ count      ┆ 74668.0  │\n",
       "│ null_count ┆ 0.0      │\n",
       "│ mean       ┆ 9.499652 │\n",
       "│ std        ┆ 4.231946 │\n",
       "│ min        ┆ 3.0      │\n",
       "│ 25%        ┆ 7.0      │\n",
       "│ 50%        ┆ 9.0      │\n",
       "│ 75%        ┆ 11.0     │\n",
       "│ max        ┆ 122.0    │\n",
       "└────────────┴──────────┘"
      ]
     },
     "metadata": {},
     "output_type": "display_data"
    },
    {
     "data": {
      "text/plain": [
       "'de'"
      ]
     },
     "metadata": {},
     "output_type": "display_data"
    },
    {
     "data": {
      "text/html": [
       "<div><style>\n",
       ".dataframe > thead > tr,\n",
       ".dataframe > tbody > tr {\n",
       "  text-align: right;\n",
       "  white-space: pre-wrap;\n",
       "}\n",
       "</style>\n",
       "<small>shape: (9, 2)</small><table border=\"1\" class=\"dataframe\"><thead><tr><th>statistic</th><th>value</th></tr><tr><td>str</td><td>f64</td></tr></thead><tbody><tr><td>&quot;count&quot;</td><td>74668.0</td></tr><tr><td>&quot;null_count&quot;</td><td>0.0</td></tr><tr><td>&quot;mean&quot;</td><td>9.625154</td></tr><tr><td>&quot;std&quot;</td><td>4.243031</td></tr><tr><td>&quot;min&quot;</td><td>2.0</td></tr><tr><td>&quot;25%&quot;</td><td>7.0</td></tr><tr><td>&quot;50%&quot;</td><td>9.0</td></tr><tr><td>&quot;75%&quot;</td><td>11.0</td></tr><tr><td>&quot;max&quot;</td><td>94.0</td></tr></tbody></table></div>"
      ],
      "text/plain": [
       "shape: (9, 2)\n",
       "┌────────────┬──────────┐\n",
       "│ statistic  ┆ value    │\n",
       "│ ---        ┆ ---      │\n",
       "│ str        ┆ f64      │\n",
       "╞════════════╪══════════╡\n",
       "│ count      ┆ 74668.0  │\n",
       "│ null_count ┆ 0.0      │\n",
       "│ mean       ┆ 9.625154 │\n",
       "│ std        ┆ 4.243031 │\n",
       "│ min        ┆ 2.0      │\n",
       "│ 25%        ┆ 7.0      │\n",
       "│ 50%        ┆ 9.0      │\n",
       "│ 75%        ┆ 11.0     │\n",
       "│ max        ┆ 94.0     │\n",
       "└────────────┴──────────┘"
      ]
     },
     "metadata": {},
     "output_type": "display_data"
    },
    {
     "data": {
      "text/plain": [
       "'vi'"
      ]
     },
     "metadata": {},
     "output_type": "display_data"
    },
    {
     "data": {
      "text/html": [
       "<div><style>\n",
       ".dataframe > thead > tr,\n",
       ".dataframe > tbody > tr {\n",
       "  text-align: right;\n",
       "  white-space: pre-wrap;\n",
       "}\n",
       "</style>\n",
       "<small>shape: (9, 2)</small><table border=\"1\" class=\"dataframe\"><thead><tr><th>statistic</th><th>value</th></tr><tr><td>str</td><td>f64</td></tr></thead><tbody><tr><td>&quot;count&quot;</td><td>74668.0</td></tr><tr><td>&quot;null_count&quot;</td><td>0.0</td></tr><tr><td>&quot;mean&quot;</td><td>10.643502</td></tr><tr><td>&quot;std&quot;</td><td>4.79255</td></tr><tr><td>&quot;min&quot;</td><td>2.0</td></tr><tr><td>&quot;25%&quot;</td><td>8.0</td></tr><tr><td>&quot;50%&quot;</td><td>10.0</td></tr><tr><td>&quot;75%&quot;</td><td>12.0</td></tr><tr><td>&quot;max&quot;</td><td>117.0</td></tr></tbody></table></div>"
      ],
      "text/plain": [
       "shape: (9, 2)\n",
       "┌────────────┬───────────┐\n",
       "│ statistic  ┆ value     │\n",
       "│ ---        ┆ ---       │\n",
       "│ str        ┆ f64       │\n",
       "╞════════════╪═══════════╡\n",
       "│ count      ┆ 74668.0   │\n",
       "│ null_count ┆ 0.0       │\n",
       "│ mean       ┆ 10.643502 │\n",
       "│ std        ┆ 4.79255   │\n",
       "│ min        ┆ 2.0       │\n",
       "│ 25%        ┆ 8.0       │\n",
       "│ 50%        ┆ 10.0      │\n",
       "│ 75%        ┆ 12.0      │\n",
       "│ max        ┆ 117.0     │\n",
       "└────────────┴───────────┘"
      ]
     },
     "metadata": {},
     "output_type": "display_data"
    },
    {
     "data": {
      "text/plain": [
       "'ja'"
      ]
     },
     "metadata": {},
     "output_type": "display_data"
    },
    {
     "data": {
      "text/html": [
       "<div><style>\n",
       ".dataframe > thead > tr,\n",
       ".dataframe > tbody > tr {\n",
       "  text-align: right;\n",
       "  white-space: pre-wrap;\n",
       "}\n",
       "</style>\n",
       "<small>shape: (9, 2)</small><table border=\"1\" class=\"dataframe\"><thead><tr><th>statistic</th><th>value</th></tr><tr><td>str</td><td>f64</td></tr></thead><tbody><tr><td>&quot;count&quot;</td><td>74668.0</td></tr><tr><td>&quot;null_count&quot;</td><td>0.0</td></tr><tr><td>&quot;mean&quot;</td><td>9.109444</td></tr><tr><td>&quot;std&quot;</td><td>4.03968</td></tr><tr><td>&quot;min&quot;</td><td>2.0</td></tr><tr><td>&quot;25%&quot;</td><td>7.0</td></tr><tr><td>&quot;50%&quot;</td><td>8.0</td></tr><tr><td>&quot;75%&quot;</td><td>10.0</td></tr><tr><td>&quot;max&quot;</td><td>131.0</td></tr></tbody></table></div>"
      ],
      "text/plain": [
       "shape: (9, 2)\n",
       "┌────────────┬──────────┐\n",
       "│ statistic  ┆ value    │\n",
       "│ ---        ┆ ---      │\n",
       "│ str        ┆ f64      │\n",
       "╞════════════╪══════════╡\n",
       "│ count      ┆ 74668.0  │\n",
       "│ null_count ┆ 0.0      │\n",
       "│ mean       ┆ 9.109444 │\n",
       "│ std        ┆ 4.03968  │\n",
       "│ min        ┆ 2.0      │\n",
       "│ 25%        ┆ 7.0      │\n",
       "│ 50%        ┆ 8.0      │\n",
       "│ 75%        ┆ 10.0     │\n",
       "│ max        ┆ 131.0    │\n",
       "└────────────┴──────────┘"
      ]
     },
     "metadata": {},
     "output_type": "display_data"
    },
    {
     "data": {
      "text/plain": [
       "'zh'"
      ]
     },
     "metadata": {},
     "output_type": "display_data"
    },
    {
     "data": {
      "text/html": [
       "<div><style>\n",
       ".dataframe > thead > tr,\n",
       ".dataframe > tbody > tr {\n",
       "  text-align: right;\n",
       "  white-space: pre-wrap;\n",
       "}\n",
       "</style>\n",
       "<small>shape: (9, 2)</small><table border=\"1\" class=\"dataframe\"><thead><tr><th>statistic</th><th>value</th></tr><tr><td>str</td><td>f64</td></tr></thead><tbody><tr><td>&quot;count&quot;</td><td>74668.0</td></tr><tr><td>&quot;null_count&quot;</td><td>0.0</td></tr><tr><td>&quot;mean&quot;</td><td>8.070057</td></tr><tr><td>&quot;std&quot;</td><td>3.537622</td></tr><tr><td>&quot;min&quot;</td><td>2.0</td></tr><tr><td>&quot;25%&quot;</td><td>6.0</td></tr><tr><td>&quot;50%&quot;</td><td>7.0</td></tr><tr><td>&quot;75%&quot;</td><td>9.0</td></tr><tr><td>&quot;max&quot;</td><td>93.0</td></tr></tbody></table></div>"
      ],
      "text/plain": [
       "shape: (9, 2)\n",
       "┌────────────┬──────────┐\n",
       "│ statistic  ┆ value    │\n",
       "│ ---        ┆ ---      │\n",
       "│ str        ┆ f64      │\n",
       "╞════════════╪══════════╡\n",
       "│ count      ┆ 74668.0  │\n",
       "│ null_count ┆ 0.0      │\n",
       "│ mean       ┆ 8.070057 │\n",
       "│ std        ┆ 3.537622 │\n",
       "│ min        ┆ 2.0      │\n",
       "│ 25%        ┆ 6.0      │\n",
       "│ 50%        ┆ 7.0      │\n",
       "│ 75%        ┆ 9.0      │\n",
       "│ max        ┆ 93.0     │\n",
       "└────────────┴──────────┘"
      ]
     },
     "metadata": {},
     "output_type": "display_data"
    },
    {
     "data": {
      "text/plain": [
       "'ko'"
      ]
     },
     "metadata": {},
     "output_type": "display_data"
    },
    {
     "data": {
      "text/html": [
       "<div><style>\n",
       ".dataframe > thead > tr,\n",
       ".dataframe > tbody > tr {\n",
       "  text-align: right;\n",
       "  white-space: pre-wrap;\n",
       "}\n",
       "</style>\n",
       "<small>shape: (9, 2)</small><table border=\"1\" class=\"dataframe\"><thead><tr><th>statistic</th><th>value</th></tr><tr><td>str</td><td>f64</td></tr></thead><tbody><tr><td>&quot;count&quot;</td><td>74668.0</td></tr><tr><td>&quot;null_count&quot;</td><td>0.0</td></tr><tr><td>&quot;mean&quot;</td><td>13.189318</td></tr><tr><td>&quot;std&quot;</td><td>5.557673</td></tr><tr><td>&quot;min&quot;</td><td>2.0</td></tr><tr><td>&quot;25%&quot;</td><td>10.0</td></tr><tr><td>&quot;50%&quot;</td><td>12.0</td></tr><tr><td>&quot;75%&quot;</td><td>15.0</td></tr><tr><td>&quot;max&quot;</td><td>135.0</td></tr></tbody></table></div>"
      ],
      "text/plain": [
       "shape: (9, 2)\n",
       "┌────────────┬───────────┐\n",
       "│ statistic  ┆ value     │\n",
       "│ ---        ┆ ---       │\n",
       "│ str        ┆ f64       │\n",
       "╞════════════╪═══════════╡\n",
       "│ count      ┆ 74668.0   │\n",
       "│ null_count ┆ 0.0       │\n",
       "│ mean       ┆ 13.189318 │\n",
       "│ std        ┆ 5.557673  │\n",
       "│ min        ┆ 2.0       │\n",
       "│ 25%        ┆ 10.0      │\n",
       "│ 50%        ┆ 12.0      │\n",
       "│ 75%        ┆ 15.0      │\n",
       "│ max        ┆ 135.0     │\n",
       "└────────────┴───────────┘"
      ]
     },
     "metadata": {},
     "output_type": "display_data"
    },
    {
     "data": {
      "text/plain": [
       "'ar'"
      ]
     },
     "metadata": {},
     "output_type": "display_data"
    },
    {
     "data": {
      "text/html": [
       "<div><style>\n",
       ".dataframe > thead > tr,\n",
       ".dataframe > tbody > tr {\n",
       "  text-align: right;\n",
       "  white-space: pre-wrap;\n",
       "}\n",
       "</style>\n",
       "<small>shape: (9, 2)</small><table border=\"1\" class=\"dataframe\"><thead><tr><th>statistic</th><th>value</th></tr><tr><td>str</td><td>f64</td></tr></thead><tbody><tr><td>&quot;count&quot;</td><td>74668.0</td></tr><tr><td>&quot;null_count&quot;</td><td>0.0</td></tr><tr><td>&quot;mean&quot;</td><td>10.730032</td></tr><tr><td>&quot;std&quot;</td><td>5.043661</td></tr><tr><td>&quot;min&quot;</td><td>2.0</td></tr><tr><td>&quot;25%&quot;</td><td>8.0</td></tr><tr><td>&quot;50%&quot;</td><td>10.0</td></tr><tr><td>&quot;75%&quot;</td><td>12.0</td></tr><tr><td>&quot;max&quot;</td><td>134.0</td></tr></tbody></table></div>"
      ],
      "text/plain": [
       "shape: (9, 2)\n",
       "┌────────────┬───────────┐\n",
       "│ statistic  ┆ value     │\n",
       "│ ---        ┆ ---       │\n",
       "│ str        ┆ f64       │\n",
       "╞════════════╪═══════════╡\n",
       "│ count      ┆ 74668.0   │\n",
       "│ null_count ┆ 0.0       │\n",
       "│ mean       ┆ 10.730032 │\n",
       "│ std        ┆ 5.043661  │\n",
       "│ min        ┆ 2.0       │\n",
       "│ 25%        ┆ 8.0       │\n",
       "│ 50%        ┆ 10.0      │\n",
       "│ 75%        ┆ 12.0      │\n",
       "│ max        ┆ 134.0     │\n",
       "└────────────┴───────────┘"
      ]
     },
     "metadata": {},
     "output_type": "display_data"
    },
    {
     "data": {
      "text/plain": [
       "'he'"
      ]
     },
     "metadata": {},
     "output_type": "display_data"
    },
    {
     "data": {
      "text/html": [
       "<div><style>\n",
       ".dataframe > thead > tr,\n",
       ".dataframe > tbody > tr {\n",
       "  text-align: right;\n",
       "  white-space: pre-wrap;\n",
       "}\n",
       "</style>\n",
       "<small>shape: (9, 2)</small><table border=\"1\" class=\"dataframe\"><thead><tr><th>statistic</th><th>value</th></tr><tr><td>str</td><td>f64</td></tr></thead><tbody><tr><td>&quot;count&quot;</td><td>74668.0</td></tr><tr><td>&quot;null_count&quot;</td><td>0.0</td></tr><tr><td>&quot;mean&quot;</td><td>11.647694</td></tr><tr><td>&quot;std&quot;</td><td>5.437531</td></tr><tr><td>&quot;min&quot;</td><td>2.0</td></tr><tr><td>&quot;25%&quot;</td><td>8.0</td></tr><tr><td>&quot;50%&quot;</td><td>11.0</td></tr><tr><td>&quot;75%&quot;</td><td>13.0</td></tr><tr><td>&quot;max&quot;</td><td>145.0</td></tr></tbody></table></div>"
      ],
      "text/plain": [
       "shape: (9, 2)\n",
       "┌────────────┬───────────┐\n",
       "│ statistic  ┆ value     │\n",
       "│ ---        ┆ ---       │\n",
       "│ str        ┆ f64       │\n",
       "╞════════════╪═══════════╡\n",
       "│ count      ┆ 74668.0   │\n",
       "│ null_count ┆ 0.0       │\n",
       "│ mean       ┆ 11.647694 │\n",
       "│ std        ┆ 5.437531  │\n",
       "│ min        ┆ 2.0       │\n",
       "│ 25%        ┆ 8.0       │\n",
       "│ 50%        ┆ 11.0      │\n",
       "│ 75%        ┆ 13.0      │\n",
       "│ max        ┆ 145.0     │\n",
       "└────────────┴───────────┘"
      ]
     },
     "metadata": {},
     "output_type": "display_data"
    },
    {
     "data": {
      "text/plain": [
       "'pl'"
      ]
     },
     "metadata": {},
     "output_type": "display_data"
    },
    {
     "data": {
      "text/html": [
       "<div><style>\n",
       ".dataframe > thead > tr,\n",
       ".dataframe > tbody > tr {\n",
       "  text-align: right;\n",
       "  white-space: pre-wrap;\n",
       "}\n",
       "</style>\n",
       "<small>shape: (9, 2)</small><table border=\"1\" class=\"dataframe\"><thead><tr><th>statistic</th><th>value</th></tr><tr><td>str</td><td>f64</td></tr></thead><tbody><tr><td>&quot;count&quot;</td><td>74668.0</td></tr><tr><td>&quot;null_count&quot;</td><td>0.0</td></tr><tr><td>&quot;mean&quot;</td><td>10.822521</td></tr><tr><td>&quot;std&quot;</td><td>4.910211</td></tr><tr><td>&quot;min&quot;</td><td>2.0</td></tr><tr><td>&quot;25%&quot;</td><td>8.0</td></tr><tr><td>&quot;50%&quot;</td><td>10.0</td></tr><tr><td>&quot;75%&quot;</td><td>13.0</td></tr><tr><td>&quot;max&quot;</td><td>137.0</td></tr></tbody></table></div>"
      ],
      "text/plain": [
       "shape: (9, 2)\n",
       "┌────────────┬───────────┐\n",
       "│ statistic  ┆ value     │\n",
       "│ ---        ┆ ---       │\n",
       "│ str        ┆ f64       │\n",
       "╞════════════╪═══════════╡\n",
       "│ count      ┆ 74668.0   │\n",
       "│ null_count ┆ 0.0       │\n",
       "│ mean       ┆ 10.822521 │\n",
       "│ std        ┆ 4.910211  │\n",
       "│ min        ┆ 2.0       │\n",
       "│ 25%        ┆ 8.0       │\n",
       "│ 50%        ┆ 10.0      │\n",
       "│ 75%        ┆ 13.0      │\n",
       "│ max        ┆ 137.0     │\n",
       "└────────────┴───────────┘"
      ]
     },
     "metadata": {},
     "output_type": "display_data"
    },
    {
     "data": {
      "text/plain": [
       "'tr'"
      ]
     },
     "metadata": {},
     "output_type": "display_data"
    },
    {
     "data": {
      "text/html": [
       "<div><style>\n",
       ".dataframe > thead > tr,\n",
       ".dataframe > tbody > tr {\n",
       "  text-align: right;\n",
       "  white-space: pre-wrap;\n",
       "}\n",
       "</style>\n",
       "<small>shape: (9, 2)</small><table border=\"1\" class=\"dataframe\"><thead><tr><th>statistic</th><th>value</th></tr><tr><td>str</td><td>f64</td></tr></thead><tbody><tr><td>&quot;count&quot;</td><td>74668.0</td></tr><tr><td>&quot;null_count&quot;</td><td>0.0</td></tr><tr><td>&quot;mean&quot;</td><td>10.274669</td></tr><tr><td>&quot;std&quot;</td><td>4.534276</td></tr><tr><td>&quot;min&quot;</td><td>3.0</td></tr><tr><td>&quot;25%&quot;</td><td>8.0</td></tr><tr><td>&quot;50%&quot;</td><td>9.0</td></tr><tr><td>&quot;75%&quot;</td><td>12.0</td></tr><tr><td>&quot;max&quot;</td><td>102.0</td></tr></tbody></table></div>"
      ],
      "text/plain": [
       "shape: (9, 2)\n",
       "┌────────────┬───────────┐\n",
       "│ statistic  ┆ value     │\n",
       "│ ---        ┆ ---       │\n",
       "│ str        ┆ f64       │\n",
       "╞════════════╪═══════════╡\n",
       "│ count      ┆ 74668.0   │\n",
       "│ null_count ┆ 0.0       │\n",
       "│ mean       ┆ 10.274669 │\n",
       "│ std        ┆ 4.534276  │\n",
       "│ min        ┆ 3.0       │\n",
       "│ 25%        ┆ 8.0       │\n",
       "│ 50%        ┆ 9.0       │\n",
       "│ 75%        ┆ 12.0      │\n",
       "│ max        ┆ 102.0     │\n",
       "└────────────┴───────────┘"
      ]
     },
     "metadata": {},
     "output_type": "display_data"
    },
    {
     "data": {
      "text/plain": [
       "'la'"
      ]
     },
     "metadata": {},
     "output_type": "display_data"
    },
    {
     "data": {
      "text/html": [
       "<div><style>\n",
       ".dataframe > thead > tr,\n",
       ".dataframe > tbody > tr {\n",
       "  text-align: right;\n",
       "  white-space: pre-wrap;\n",
       "}\n",
       "</style>\n",
       "<small>shape: (9, 2)</small><table border=\"1\" class=\"dataframe\"><thead><tr><th>statistic</th><th>value</th></tr><tr><td>str</td><td>f64</td></tr></thead><tbody><tr><td>&quot;count&quot;</td><td>74668.0</td></tr><tr><td>&quot;null_count&quot;</td><td>0.0</td></tr><tr><td>&quot;mean&quot;</td><td>9.941126</td></tr><tr><td>&quot;std&quot;</td><td>4.314012</td></tr><tr><td>&quot;min&quot;</td><td>2.0</td></tr><tr><td>&quot;25%&quot;</td><td>7.0</td></tr><tr><td>&quot;50%&quot;</td><td>9.0</td></tr><tr><td>&quot;75%&quot;</td><td>11.0</td></tr><tr><td>&quot;max&quot;</td><td>112.0</td></tr></tbody></table></div>"
      ],
      "text/plain": [
       "shape: (9, 2)\n",
       "┌────────────┬──────────┐\n",
       "│ statistic  ┆ value    │\n",
       "│ ---        ┆ ---      │\n",
       "│ str        ┆ f64      │\n",
       "╞════════════╪══════════╡\n",
       "│ count      ┆ 74668.0  │\n",
       "│ null_count ┆ 0.0      │\n",
       "│ mean       ┆ 9.941126 │\n",
       "│ std        ┆ 4.314012 │\n",
       "│ min        ┆ 2.0      │\n",
       "│ 25%        ┆ 7.0      │\n",
       "│ 50%        ┆ 9.0      │\n",
       "│ 75%        ┆ 11.0     │\n",
       "│ max        ┆ 112.0    │\n",
       "└────────────┴──────────┘"
      ]
     },
     "metadata": {},
     "output_type": "display_data"
    },
    {
     "data": {
      "text/plain": [
       "'el'"
      ]
     },
     "metadata": {},
     "output_type": "display_data"
    },
    {
     "data": {
      "text/html": [
       "<div><style>\n",
       ".dataframe > thead > tr,\n",
       ".dataframe > tbody > tr {\n",
       "  text-align: right;\n",
       "  white-space: pre-wrap;\n",
       "}\n",
       "</style>\n",
       "<small>shape: (9, 2)</small><table border=\"1\" class=\"dataframe\"><thead><tr><th>statistic</th><th>value</th></tr><tr><td>str</td><td>f64</td></tr></thead><tbody><tr><td>&quot;count&quot;</td><td>74668.0</td></tr><tr><td>&quot;null_count&quot;</td><td>0.0</td></tr><tr><td>&quot;mean&quot;</td><td>15.514076</td></tr><tr><td>&quot;std&quot;</td><td>7.216036</td></tr><tr><td>&quot;min&quot;</td><td>3.0</td></tr><tr><td>&quot;25%&quot;</td><td>11.0</td></tr><tr><td>&quot;50%&quot;</td><td>14.0</td></tr><tr><td>&quot;75%&quot;</td><td>18.0</td></tr><tr><td>&quot;max&quot;</td><td>178.0</td></tr></tbody></table></div>"
      ],
      "text/plain": [
       "shape: (9, 2)\n",
       "┌────────────┬───────────┐\n",
       "│ statistic  ┆ value     │\n",
       "│ ---        ┆ ---       │\n",
       "│ str        ┆ f64       │\n",
       "╞════════════╪═══════════╡\n",
       "│ count      ┆ 74668.0   │\n",
       "│ null_count ┆ 0.0       │\n",
       "│ mean       ┆ 15.514076 │\n",
       "│ std        ┆ 7.216036  │\n",
       "│ min        ┆ 3.0       │\n",
       "│ 25%        ┆ 11.0      │\n",
       "│ 50%        ┆ 14.0      │\n",
       "│ 75%        ┆ 18.0      │\n",
       "│ max        ┆ 178.0     │\n",
       "└────────────┴───────────┘"
      ]
     },
     "metadata": {},
     "output_type": "display_data"
    }
   ],
   "source": [
    "df = tatoeba_dataset[\"train\"].to_polars()\n",
    "for col in df.columns[5:]:\n",
    "    display(col)\n",
    "    display(df[col].map_elements(count_tokens).describe())"
   ]
  },
  {
   "cell_type": "code",
   "execution_count": 9,
   "id": "02687ad4",
   "metadata": {},
   "outputs": [
    {
     "data": {
      "text/plain": [
       "'tok'"
      ]
     },
     "metadata": {},
     "output_type": "display_data"
    },
    {
     "data": {
      "text/html": [
       "<div><style>\n",
       ".dataframe > thead > tr,\n",
       ".dataframe > tbody > tr {\n",
       "  text-align: right;\n",
       "  white-space: pre-wrap;\n",
       "}\n",
       "</style>\n",
       "<small>shape: (9, 2)</small><table border=\"1\" class=\"dataframe\"><thead><tr><th>statistic</th><th>value</th></tr><tr><td>str</td><td>f64</td></tr></thead><tbody><tr><td>&quot;count&quot;</td><td>1081.0</td></tr><tr><td>&quot;null_count&quot;</td><td>0.0</td></tr><tr><td>&quot;mean&quot;</td><td>43.013876</td></tr><tr><td>&quot;std&quot;</td><td>19.159728</td></tr><tr><td>&quot;min&quot;</td><td>8.0</td></tr><tr><td>&quot;25%&quot;</td><td>29.0</td></tr><tr><td>&quot;50%&quot;</td><td>40.0</td></tr><tr><td>&quot;75%&quot;</td><td>54.0</td></tr><tr><td>&quot;max&quot;</td><td>133.0</td></tr></tbody></table></div>"
      ],
      "text/plain": [
       "shape: (9, 2)\n",
       "┌────────────┬───────────┐\n",
       "│ statistic  ┆ value     │\n",
       "│ ---        ┆ ---       │\n",
       "│ str        ┆ f64       │\n",
       "╞════════════╪═══════════╡\n",
       "│ count      ┆ 1081.0    │\n",
       "│ null_count ┆ 0.0       │\n",
       "│ mean       ┆ 43.013876 │\n",
       "│ std        ┆ 19.159728 │\n",
       "│ min        ┆ 8.0       │\n",
       "│ 25%        ┆ 29.0      │\n",
       "│ 50%        ┆ 40.0      │\n",
       "│ 75%        ┆ 54.0      │\n",
       "│ max        ┆ 133.0     │\n",
       "└────────────┴───────────┘"
      ]
     },
     "metadata": {},
     "output_type": "display_data"
    },
    {
     "data": {
      "text/plain": [
       "'en'"
      ]
     },
     "metadata": {},
     "output_type": "display_data"
    },
    {
     "data": {
      "text/html": [
       "<div><style>\n",
       ".dataframe > thead > tr,\n",
       ".dataframe > tbody > tr {\n",
       "  text-align: right;\n",
       "  white-space: pre-wrap;\n",
       "}\n",
       "</style>\n",
       "<small>shape: (9, 2)</small><table border=\"1\" class=\"dataframe\"><thead><tr><th>statistic</th><th>value</th></tr><tr><td>str</td><td>f64</td></tr></thead><tbody><tr><td>&quot;count&quot;</td><td>1072.0</td></tr><tr><td>&quot;null_count&quot;</td><td>9.0</td></tr><tr><td>&quot;mean&quot;</td><td>28.853545</td></tr><tr><td>&quot;std&quot;</td><td>12.458109</td></tr><tr><td>&quot;min&quot;</td><td>6.0</td></tr><tr><td>&quot;25%&quot;</td><td>19.0</td></tr><tr><td>&quot;50%&quot;</td><td>27.0</td></tr><tr><td>&quot;75%&quot;</td><td>36.0</td></tr><tr><td>&quot;max&quot;</td><td>98.0</td></tr></tbody></table></div>"
      ],
      "text/plain": [
       "shape: (9, 2)\n",
       "┌────────────┬───────────┐\n",
       "│ statistic  ┆ value     │\n",
       "│ ---        ┆ ---       │\n",
       "│ str        ┆ f64       │\n",
       "╞════════════╪═══════════╡\n",
       "│ count      ┆ 1072.0    │\n",
       "│ null_count ┆ 9.0       │\n",
       "│ mean       ┆ 28.853545 │\n",
       "│ std        ┆ 12.458109 │\n",
       "│ min        ┆ 6.0       │\n",
       "│ 25%        ┆ 19.0      │\n",
       "│ 50%        ┆ 27.0      │\n",
       "│ 75%        ┆ 36.0      │\n",
       "│ max        ┆ 98.0      │\n",
       "└────────────┴───────────┘"
      ]
     },
     "metadata": {},
     "output_type": "display_data"
    },
    {
     "data": {
      "text/plain": [
       "'ru'"
      ]
     },
     "metadata": {},
     "output_type": "display_data"
    },
    {
     "data": {
      "text/html": [
       "<div><style>\n",
       ".dataframe > thead > tr,\n",
       ".dataframe > tbody > tr {\n",
       "  text-align: right;\n",
       "  white-space: pre-wrap;\n",
       "}\n",
       "</style>\n",
       "<small>shape: (9, 2)</small><table border=\"1\" class=\"dataframe\"><thead><tr><th>statistic</th><th>value</th></tr><tr><td>str</td><td>f64</td></tr></thead><tbody><tr><td>&quot;count&quot;</td><td>971.0</td></tr><tr><td>&quot;null_count&quot;</td><td>110.0</td></tr><tr><td>&quot;mean&quot;</td><td>33.533471</td></tr><tr><td>&quot;std&quot;</td><td>14.78895</td></tr><tr><td>&quot;min&quot;</td><td>5.0</td></tr><tr><td>&quot;25%&quot;</td><td>22.0</td></tr><tr><td>&quot;50%&quot;</td><td>31.0</td></tr><tr><td>&quot;75%&quot;</td><td>43.0</td></tr><tr><td>&quot;max&quot;</td><td>116.0</td></tr></tbody></table></div>"
      ],
      "text/plain": [
       "shape: (9, 2)\n",
       "┌────────────┬───────────┐\n",
       "│ statistic  ┆ value     │\n",
       "│ ---        ┆ ---       │\n",
       "│ str        ┆ f64       │\n",
       "╞════════════╪═══════════╡\n",
       "│ count      ┆ 971.0     │\n",
       "│ null_count ┆ 110.0     │\n",
       "│ mean       ┆ 33.533471 │\n",
       "│ std        ┆ 14.78895  │\n",
       "│ min        ┆ 5.0       │\n",
       "│ 25%        ┆ 22.0      │\n",
       "│ 50%        ┆ 31.0      │\n",
       "│ 75%        ┆ 43.0      │\n",
       "│ max        ┆ 116.0     │\n",
       "└────────────┴───────────┘"
      ]
     },
     "metadata": {},
     "output_type": "display_data"
    },
    {
     "data": {
      "text/plain": [
       "'uk'"
      ]
     },
     "metadata": {},
     "output_type": "display_data"
    },
    {
     "data": {
      "text/html": [
       "<div><style>\n",
       ".dataframe > thead > tr,\n",
       ".dataframe > tbody > tr {\n",
       "  text-align: right;\n",
       "  white-space: pre-wrap;\n",
       "}\n",
       "</style>\n",
       "<small>shape: (9, 2)</small><table border=\"1\" class=\"dataframe\"><thead><tr><th>statistic</th><th>value</th></tr><tr><td>str</td><td>f64</td></tr></thead><tbody><tr><td>&quot;count&quot;</td><td>1074.0</td></tr><tr><td>&quot;null_count&quot;</td><td>7.0</td></tr><tr><td>&quot;mean&quot;</td><td>39.798883</td></tr><tr><td>&quot;std&quot;</td><td>17.295862</td></tr><tr><td>&quot;min&quot;</td><td>8.0</td></tr><tr><td>&quot;25%&quot;</td><td>26.0</td></tr><tr><td>&quot;50%&quot;</td><td>37.0</td></tr><tr><td>&quot;75%&quot;</td><td>51.0</td></tr><tr><td>&quot;max&quot;</td><td>122.0</td></tr></tbody></table></div>"
      ],
      "text/plain": [
       "shape: (9, 2)\n",
       "┌────────────┬───────────┐\n",
       "│ statistic  ┆ value     │\n",
       "│ ---        ┆ ---       │\n",
       "│ str        ┆ f64       │\n",
       "╞════════════╪═══════════╡\n",
       "│ count      ┆ 1074.0    │\n",
       "│ null_count ┆ 7.0       │\n",
       "│ mean       ┆ 39.798883 │\n",
       "│ std        ┆ 17.295862 │\n",
       "│ min        ┆ 8.0       │\n",
       "│ 25%        ┆ 26.0      │\n",
       "│ 50%        ┆ 37.0      │\n",
       "│ 75%        ┆ 51.0      │\n",
       "│ max        ┆ 122.0     │\n",
       "└────────────┴───────────┘"
      ]
     },
     "metadata": {},
     "output_type": "display_data"
    },
    {
     "data": {
      "text/plain": [
       "'be'"
      ]
     },
     "metadata": {},
     "output_type": "display_data"
    },
    {
     "data": {
      "text/html": [
       "<div><style>\n",
       ".dataframe > thead > tr,\n",
       ".dataframe > tbody > tr {\n",
       "  text-align: right;\n",
       "  white-space: pre-wrap;\n",
       "}\n",
       "</style>\n",
       "<small>shape: (9, 2)</small><table border=\"1\" class=\"dataframe\"><thead><tr><th>statistic</th><th>value</th></tr><tr><td>str</td><td>f64</td></tr></thead><tbody><tr><td>&quot;count&quot;</td><td>1076.0</td></tr><tr><td>&quot;null_count&quot;</td><td>5.0</td></tr><tr><td>&quot;mean&quot;</td><td>45.618959</td></tr><tr><td>&quot;std&quot;</td><td>19.92511</td></tr><tr><td>&quot;min&quot;</td><td>6.0</td></tr><tr><td>&quot;25%&quot;</td><td>30.0</td></tr><tr><td>&quot;50%&quot;</td><td>42.0</td></tr><tr><td>&quot;75%&quot;</td><td>59.0</td></tr><tr><td>&quot;max&quot;</td><td>164.0</td></tr></tbody></table></div>"
      ],
      "text/plain": [
       "shape: (9, 2)\n",
       "┌────────────┬───────────┐\n",
       "│ statistic  ┆ value     │\n",
       "│ ---        ┆ ---       │\n",
       "│ str        ┆ f64       │\n",
       "╞════════════╪═══════════╡\n",
       "│ count      ┆ 1076.0    │\n",
       "│ null_count ┆ 5.0       │\n",
       "│ mean       ┆ 45.618959 │\n",
       "│ std        ┆ 19.92511  │\n",
       "│ min        ┆ 6.0       │\n",
       "│ 25%        ┆ 30.0      │\n",
       "│ 50%        ┆ 42.0      │\n",
       "│ 75%        ┆ 59.0      │\n",
       "│ max        ┆ 164.0     │\n",
       "└────────────┴───────────┘"
      ]
     },
     "metadata": {},
     "output_type": "display_data"
    },
    {
     "data": {
      "text/plain": [
       "'fr'"
      ]
     },
     "metadata": {},
     "output_type": "display_data"
    },
    {
     "data": {
      "text/html": [
       "<div><style>\n",
       ".dataframe > thead > tr,\n",
       ".dataframe > tbody > tr {\n",
       "  text-align: right;\n",
       "  white-space: pre-wrap;\n",
       "}\n",
       "</style>\n",
       "<small>shape: (9, 2)</small><table border=\"1\" class=\"dataframe\"><thead><tr><th>statistic</th><th>value</th></tr><tr><td>str</td><td>f64</td></tr></thead><tbody><tr><td>&quot;count&quot;</td><td>1080.0</td></tr><tr><td>&quot;null_count&quot;</td><td>1.0</td></tr><tr><td>&quot;mean&quot;</td><td>36.099074</td></tr><tr><td>&quot;std&quot;</td><td>15.535913</td></tr><tr><td>&quot;min&quot;</td><td>6.0</td></tr><tr><td>&quot;25%&quot;</td><td>24.0</td></tr><tr><td>&quot;50%&quot;</td><td>34.0</td></tr><tr><td>&quot;75%&quot;</td><td>46.0</td></tr><tr><td>&quot;max&quot;</td><td>114.0</td></tr></tbody></table></div>"
      ],
      "text/plain": [
       "shape: (9, 2)\n",
       "┌────────────┬───────────┐\n",
       "│ statistic  ┆ value     │\n",
       "│ ---        ┆ ---       │\n",
       "│ str        ┆ f64       │\n",
       "╞════════════╪═══════════╡\n",
       "│ count      ┆ 1080.0    │\n",
       "│ null_count ┆ 1.0       │\n",
       "│ mean       ┆ 36.099074 │\n",
       "│ std        ┆ 15.535913 │\n",
       "│ min        ┆ 6.0       │\n",
       "│ 25%        ┆ 24.0      │\n",
       "│ 50%        ┆ 34.0      │\n",
       "│ 75%        ┆ 46.0      │\n",
       "│ max        ┆ 114.0     │\n",
       "└────────────┴───────────┘"
      ]
     },
     "metadata": {},
     "output_type": "display_data"
    },
    {
     "data": {
      "text/plain": [
       "'es'"
      ]
     },
     "metadata": {},
     "output_type": "display_data"
    },
    {
     "data": {
      "text/html": [
       "<div><style>\n",
       ".dataframe > thead > tr,\n",
       ".dataframe > tbody > tr {\n",
       "  text-align: right;\n",
       "  white-space: pre-wrap;\n",
       "}\n",
       "</style>\n",
       "<small>shape: (9, 2)</small><table border=\"1\" class=\"dataframe\"><thead><tr><th>statistic</th><th>value</th></tr><tr><td>str</td><td>f64</td></tr></thead><tbody><tr><td>&quot;count&quot;</td><td>1072.0</td></tr><tr><td>&quot;null_count&quot;</td><td>9.0</td></tr><tr><td>&quot;mean&quot;</td><td>31.58209</td></tr><tr><td>&quot;std&quot;</td><td>13.590543</td></tr><tr><td>&quot;min&quot;</td><td>7.0</td></tr><tr><td>&quot;25%&quot;</td><td>21.0</td></tr><tr><td>&quot;50%&quot;</td><td>30.0</td></tr><tr><td>&quot;75%&quot;</td><td>40.0</td></tr><tr><td>&quot;max&quot;</td><td>121.0</td></tr></tbody></table></div>"
      ],
      "text/plain": [
       "shape: (9, 2)\n",
       "┌────────────┬───────────┐\n",
       "│ statistic  ┆ value     │\n",
       "│ ---        ┆ ---       │\n",
       "│ str        ┆ f64       │\n",
       "╞════════════╪═══════════╡\n",
       "│ count      ┆ 1072.0    │\n",
       "│ null_count ┆ 9.0       │\n",
       "│ mean       ┆ 31.58209  │\n",
       "│ std        ┆ 13.590543 │\n",
       "│ min        ┆ 7.0       │\n",
       "│ 25%        ┆ 21.0      │\n",
       "│ 50%        ┆ 30.0      │\n",
       "│ 75%        ┆ 40.0      │\n",
       "│ max        ┆ 121.0     │\n",
       "└────────────┴───────────┘"
      ]
     },
     "metadata": {},
     "output_type": "display_data"
    },
    {
     "data": {
      "text/plain": [
       "'pt'"
      ]
     },
     "metadata": {},
     "output_type": "display_data"
    },
    {
     "data": {
      "text/html": [
       "<div><style>\n",
       ".dataframe > thead > tr,\n",
       ".dataframe > tbody > tr {\n",
       "  text-align: right;\n",
       "  white-space: pre-wrap;\n",
       "}\n",
       "</style>\n",
       "<small>shape: (9, 2)</small><table border=\"1\" class=\"dataframe\"><thead><tr><th>statistic</th><th>value</th></tr><tr><td>str</td><td>f64</td></tr></thead><tbody><tr><td>&quot;count&quot;</td><td>1069.0</td></tr><tr><td>&quot;null_count&quot;</td><td>12.0</td></tr><tr><td>&quot;mean&quot;</td><td>32.973807</td></tr><tr><td>&quot;std&quot;</td><td>13.671071</td></tr><tr><td>&quot;min&quot;</td><td>7.0</td></tr><tr><td>&quot;25%&quot;</td><td>22.0</td></tr><tr><td>&quot;50%&quot;</td><td>32.0</td></tr><tr><td>&quot;75%&quot;</td><td>41.0</td></tr><tr><td>&quot;max&quot;</td><td>120.0</td></tr></tbody></table></div>"
      ],
      "text/plain": [
       "shape: (9, 2)\n",
       "┌────────────┬───────────┐\n",
       "│ statistic  ┆ value     │\n",
       "│ ---        ┆ ---       │\n",
       "│ str        ┆ f64       │\n",
       "╞════════════╪═══════════╡\n",
       "│ count      ┆ 1069.0    │\n",
       "│ null_count ┆ 12.0      │\n",
       "│ mean       ┆ 32.973807 │\n",
       "│ std        ┆ 13.671071 │\n",
       "│ min        ┆ 7.0       │\n",
       "│ 25%        ┆ 22.0      │\n",
       "│ 50%        ┆ 32.0      │\n",
       "│ 75%        ┆ 41.0      │\n",
       "│ max        ┆ 120.0     │\n",
       "└────────────┴───────────┘"
      ]
     },
     "metadata": {},
     "output_type": "display_data"
    },
    {
     "data": {
      "text/plain": [
       "'it'"
      ]
     },
     "metadata": {},
     "output_type": "display_data"
    },
    {
     "data": {
      "text/html": [
       "<div><style>\n",
       ".dataframe > thead > tr,\n",
       ".dataframe > tbody > tr {\n",
       "  text-align: right;\n",
       "  white-space: pre-wrap;\n",
       "}\n",
       "</style>\n",
       "<small>shape: (9, 2)</small><table border=\"1\" class=\"dataframe\"><thead><tr><th>statistic</th><th>value</th></tr><tr><td>str</td><td>f64</td></tr></thead><tbody><tr><td>&quot;count&quot;</td><td>1069.0</td></tr><tr><td>&quot;null_count&quot;</td><td>12.0</td></tr><tr><td>&quot;mean&quot;</td><td>37.210477</td></tr><tr><td>&quot;std&quot;</td><td>16.15218</td></tr><tr><td>&quot;min&quot;</td><td>5.0</td></tr><tr><td>&quot;25%&quot;</td><td>25.0</td></tr><tr><td>&quot;50%&quot;</td><td>35.0</td></tr><tr><td>&quot;75%&quot;</td><td>48.0</td></tr><tr><td>&quot;max&quot;</td><td>133.0</td></tr></tbody></table></div>"
      ],
      "text/plain": [
       "shape: (9, 2)\n",
       "┌────────────┬───────────┐\n",
       "│ statistic  ┆ value     │\n",
       "│ ---        ┆ ---       │\n",
       "│ str        ┆ f64       │\n",
       "╞════════════╪═══════════╡\n",
       "│ count      ┆ 1069.0    │\n",
       "│ null_count ┆ 12.0      │\n",
       "│ mean       ┆ 37.210477 │\n",
       "│ std        ┆ 16.15218  │\n",
       "│ min        ┆ 5.0       │\n",
       "│ 25%        ┆ 25.0      │\n",
       "│ 50%        ┆ 35.0      │\n",
       "│ 75%        ┆ 48.0      │\n",
       "│ max        ┆ 133.0     │\n",
       "└────────────┴───────────┘"
      ]
     },
     "metadata": {},
     "output_type": "display_data"
    },
    {
     "data": {
      "text/plain": [
       "'de'"
      ]
     },
     "metadata": {},
     "output_type": "display_data"
    },
    {
     "data": {
      "text/html": [
       "<div><style>\n",
       ".dataframe > thead > tr,\n",
       ".dataframe > tbody > tr {\n",
       "  text-align: right;\n",
       "  white-space: pre-wrap;\n",
       "}\n",
       "</style>\n",
       "<small>shape: (9, 2)</small><table border=\"1\" class=\"dataframe\"><thead><tr><th>statistic</th><th>value</th></tr><tr><td>str</td><td>f64</td></tr></thead><tbody><tr><td>&quot;count&quot;</td><td>1077.0</td></tr><tr><td>&quot;null_count&quot;</td><td>4.0</td></tr><tr><td>&quot;mean&quot;</td><td>31.504178</td></tr><tr><td>&quot;std&quot;</td><td>13.429467</td></tr><tr><td>&quot;min&quot;</td><td>7.0</td></tr><tr><td>&quot;25%&quot;</td><td>21.0</td></tr><tr><td>&quot;50%&quot;</td><td>30.0</td></tr><tr><td>&quot;75%&quot;</td><td>40.0</td></tr><tr><td>&quot;max&quot;</td><td>102.0</td></tr></tbody></table></div>"
      ],
      "text/plain": [
       "shape: (9, 2)\n",
       "┌────────────┬───────────┐\n",
       "│ statistic  ┆ value     │\n",
       "│ ---        ┆ ---       │\n",
       "│ str        ┆ f64       │\n",
       "╞════════════╪═══════════╡\n",
       "│ count      ┆ 1077.0    │\n",
       "│ null_count ┆ 4.0       │\n",
       "│ mean       ┆ 31.504178 │\n",
       "│ std        ┆ 13.429467 │\n",
       "│ min        ┆ 7.0       │\n",
       "│ 25%        ┆ 21.0      │\n",
       "│ 50%        ┆ 30.0      │\n",
       "│ 75%        ┆ 40.0      │\n",
       "│ max        ┆ 102.0     │\n",
       "└────────────┴───────────┘"
      ]
     },
     "metadata": {},
     "output_type": "display_data"
    },
    {
     "data": {
      "text/plain": [
       "'vi'"
      ]
     },
     "metadata": {},
     "output_type": "display_data"
    },
    {
     "data": {
      "text/html": [
       "<div><style>\n",
       ".dataframe > thead > tr,\n",
       ".dataframe > tbody > tr {\n",
       "  text-align: right;\n",
       "  white-space: pre-wrap;\n",
       "}\n",
       "</style>\n",
       "<small>shape: (9, 2)</small><table border=\"1\" class=\"dataframe\"><thead><tr><th>statistic</th><th>value</th></tr><tr><td>str</td><td>f64</td></tr></thead><tbody><tr><td>&quot;count&quot;</td><td>1069.0</td></tr><tr><td>&quot;null_count&quot;</td><td>12.0</td></tr><tr><td>&quot;mean&quot;</td><td>38.809167</td></tr><tr><td>&quot;std&quot;</td><td>16.54828</td></tr><tr><td>&quot;min&quot;</td><td>8.0</td></tr><tr><td>&quot;25%&quot;</td><td>26.0</td></tr><tr><td>&quot;50%&quot;</td><td>37.0</td></tr><tr><td>&quot;75%&quot;</td><td>49.0</td></tr><tr><td>&quot;max&quot;</td><td>133.0</td></tr></tbody></table></div>"
      ],
      "text/plain": [
       "shape: (9, 2)\n",
       "┌────────────┬───────────┐\n",
       "│ statistic  ┆ value     │\n",
       "│ ---        ┆ ---       │\n",
       "│ str        ┆ f64       │\n",
       "╞════════════╪═══════════╡\n",
       "│ count      ┆ 1069.0    │\n",
       "│ null_count ┆ 12.0      │\n",
       "│ mean       ┆ 38.809167 │\n",
       "│ std        ┆ 16.54828  │\n",
       "│ min        ┆ 8.0       │\n",
       "│ 25%        ┆ 26.0      │\n",
       "│ 50%        ┆ 37.0      │\n",
       "│ 75%        ┆ 49.0      │\n",
       "│ max        ┆ 133.0     │\n",
       "└────────────┴───────────┘"
      ]
     },
     "metadata": {},
     "output_type": "display_data"
    },
    {
     "data": {
      "text/plain": [
       "'ja'"
      ]
     },
     "metadata": {},
     "output_type": "display_data"
    },
    {
     "data": {
      "text/html": [
       "<div><style>\n",
       ".dataframe > thead > tr,\n",
       ".dataframe > tbody > tr {\n",
       "  text-align: right;\n",
       "  white-space: pre-wrap;\n",
       "}\n",
       "</style>\n",
       "<small>shape: (9, 2)</small><table border=\"1\" class=\"dataframe\"><thead><tr><th>statistic</th><th>value</th></tr><tr><td>str</td><td>f64</td></tr></thead><tbody><tr><td>&quot;count&quot;</td><td>199.0</td></tr><tr><td>&quot;null_count&quot;</td><td>882.0</td></tr><tr><td>&quot;mean&quot;</td><td>30.351759</td></tr><tr><td>&quot;std&quot;</td><td>10.914585</td></tr><tr><td>&quot;min&quot;</td><td>7.0</td></tr><tr><td>&quot;25%&quot;</td><td>23.0</td></tr><tr><td>&quot;50%&quot;</td><td>30.0</td></tr><tr><td>&quot;75%&quot;</td><td>37.0</td></tr><tr><td>&quot;max&quot;</td><td>63.0</td></tr></tbody></table></div>"
      ],
      "text/plain": [
       "shape: (9, 2)\n",
       "┌────────────┬───────────┐\n",
       "│ statistic  ┆ value     │\n",
       "│ ---        ┆ ---       │\n",
       "│ str        ┆ f64       │\n",
       "╞════════════╪═══════════╡\n",
       "│ count      ┆ 199.0     │\n",
       "│ null_count ┆ 882.0     │\n",
       "│ mean       ┆ 30.351759 │\n",
       "│ std        ┆ 10.914585 │\n",
       "│ min        ┆ 7.0       │\n",
       "│ 25%        ┆ 23.0      │\n",
       "│ 50%        ┆ 30.0      │\n",
       "│ 75%        ┆ 37.0      │\n",
       "│ max        ┆ 63.0      │\n",
       "└────────────┴───────────┘"
      ]
     },
     "metadata": {},
     "output_type": "display_data"
    },
    {
     "data": {
      "text/plain": [
       "'zh'"
      ]
     },
     "metadata": {},
     "output_type": "display_data"
    },
    {
     "data": {
      "text/html": [
       "<div><style>\n",
       ".dataframe > thead > tr,\n",
       ".dataframe > tbody > tr {\n",
       "  text-align: right;\n",
       "  white-space: pre-wrap;\n",
       "}\n",
       "</style>\n",
       "<small>shape: (9, 2)</small><table border=\"1\" class=\"dataframe\"><thead><tr><th>statistic</th><th>value</th></tr><tr><td>str</td><td>f64</td></tr></thead><tbody><tr><td>&quot;count&quot;</td><td>1069.0</td></tr><tr><td>&quot;null_count&quot;</td><td>12.0</td></tr><tr><td>&quot;mean&quot;</td><td>27.115996</td></tr><tr><td>&quot;std&quot;</td><td>11.041953</td></tr><tr><td>&quot;min&quot;</td><td>4.0</td></tr><tr><td>&quot;25%&quot;</td><td>19.0</td></tr><tr><td>&quot;50%&quot;</td><td>25.0</td></tr><tr><td>&quot;75%&quot;</td><td>34.0</td></tr><tr><td>&quot;max&quot;</td><td>83.0</td></tr></tbody></table></div>"
      ],
      "text/plain": [
       "shape: (9, 2)\n",
       "┌────────────┬───────────┐\n",
       "│ statistic  ┆ value     │\n",
       "│ ---        ┆ ---       │\n",
       "│ str        ┆ f64       │\n",
       "╞════════════╪═══════════╡\n",
       "│ count      ┆ 1069.0    │\n",
       "│ null_count ┆ 12.0      │\n",
       "│ mean       ┆ 27.115996 │\n",
       "│ std        ┆ 11.041953 │\n",
       "│ min        ┆ 4.0       │\n",
       "│ 25%        ┆ 19.0      │\n",
       "│ 50%        ┆ 25.0      │\n",
       "│ 75%        ┆ 34.0      │\n",
       "│ max        ┆ 83.0      │\n",
       "└────────────┴───────────┘"
      ]
     },
     "metadata": {},
     "output_type": "display_data"
    },
    {
     "data": {
      "text/plain": [
       "'ko'"
      ]
     },
     "metadata": {},
     "output_type": "display_data"
    },
    {
     "data": {
      "text/html": [
       "<div><style>\n",
       ".dataframe > thead > tr,\n",
       ".dataframe > tbody > tr {\n",
       "  text-align: right;\n",
       "  white-space: pre-wrap;\n",
       "}\n",
       "</style>\n",
       "<small>shape: (9, 2)</small><table border=\"1\" class=\"dataframe\"><thead><tr><th>statistic</th><th>value</th></tr><tr><td>str</td><td>f64</td></tr></thead><tbody><tr><td>&quot;count&quot;</td><td>1067.0</td></tr><tr><td>&quot;null_count&quot;</td><td>14.0</td></tr><tr><td>&quot;mean&quot;</td><td>39.779756</td></tr><tr><td>&quot;std&quot;</td><td>16.692148</td></tr><tr><td>&quot;min&quot;</td><td>3.0</td></tr><tr><td>&quot;25%&quot;</td><td>27.0</td></tr><tr><td>&quot;50%&quot;</td><td>37.0</td></tr><tr><td>&quot;75%&quot;</td><td>51.0</td></tr><tr><td>&quot;max&quot;</td><td>119.0</td></tr></tbody></table></div>"
      ],
      "text/plain": [
       "shape: (9, 2)\n",
       "┌────────────┬───────────┐\n",
       "│ statistic  ┆ value     │\n",
       "│ ---        ┆ ---       │\n",
       "│ str        ┆ f64       │\n",
       "╞════════════╪═══════════╡\n",
       "│ count      ┆ 1067.0    │\n",
       "│ null_count ┆ 14.0      │\n",
       "│ mean       ┆ 39.779756 │\n",
       "│ std        ┆ 16.692148 │\n",
       "│ min        ┆ 3.0       │\n",
       "│ 25%        ┆ 27.0      │\n",
       "│ 50%        ┆ 37.0      │\n",
       "│ 75%        ┆ 51.0      │\n",
       "│ max        ┆ 119.0     │\n",
       "└────────────┴───────────┘"
      ]
     },
     "metadata": {},
     "output_type": "display_data"
    },
    {
     "data": {
      "text/plain": [
       "'ar'"
      ]
     },
     "metadata": {},
     "output_type": "display_data"
    },
    {
     "data": {
      "text/html": [
       "<div><style>\n",
       ".dataframe > thead > tr,\n",
       ".dataframe > tbody > tr {\n",
       "  text-align: right;\n",
       "  white-space: pre-wrap;\n",
       "}\n",
       "</style>\n",
       "<small>shape: (9, 2)</small><table border=\"1\" class=\"dataframe\"><thead><tr><th>statistic</th><th>value</th></tr><tr><td>str</td><td>f64</td></tr></thead><tbody><tr><td>&quot;count&quot;</td><td>1069.0</td></tr><tr><td>&quot;null_count&quot;</td><td>12.0</td></tr><tr><td>&quot;mean&quot;</td><td>88.540692</td></tr><tr><td>&quot;std&quot;</td><td>40.177573</td></tr><tr><td>&quot;min&quot;</td><td>10.0</td></tr><tr><td>&quot;25%&quot;</td><td>56.0</td></tr><tr><td>&quot;50%&quot;</td><td>83.0</td></tr><tr><td>&quot;75%&quot;</td><td>116.0</td></tr><tr><td>&quot;max&quot;</td><td>340.0</td></tr></tbody></table></div>"
      ],
      "text/plain": [
       "shape: (9, 2)\n",
       "┌────────────┬───────────┐\n",
       "│ statistic  ┆ value     │\n",
       "│ ---        ┆ ---       │\n",
       "│ str        ┆ f64       │\n",
       "╞════════════╪═══════════╡\n",
       "│ count      ┆ 1069.0    │\n",
       "│ null_count ┆ 12.0      │\n",
       "│ mean       ┆ 88.540692 │\n",
       "│ std        ┆ 40.177573 │\n",
       "│ min        ┆ 10.0      │\n",
       "│ 25%        ┆ 56.0      │\n",
       "│ 50%        ┆ 83.0      │\n",
       "│ 75%        ┆ 116.0     │\n",
       "│ max        ┆ 340.0     │\n",
       "└────────────┴───────────┘"
      ]
     },
     "metadata": {},
     "output_type": "display_data"
    },
    {
     "data": {
      "text/plain": [
       "'he'"
      ]
     },
     "metadata": {},
     "output_type": "display_data"
    },
    {
     "data": {
      "text/html": [
       "<div><style>\n",
       ".dataframe > thead > tr,\n",
       ".dataframe > tbody > tr {\n",
       "  text-align: right;\n",
       "  white-space: pre-wrap;\n",
       "}\n",
       "</style>\n",
       "<small>shape: (9, 2)</small><table border=\"1\" class=\"dataframe\"><thead><tr><th>statistic</th><th>value</th></tr><tr><td>str</td><td>f64</td></tr></thead><tbody><tr><td>&quot;count&quot;</td><td>1077.0</td></tr><tr><td>&quot;null_count&quot;</td><td>4.0</td></tr><tr><td>&quot;mean&quot;</td><td>28.31662</td></tr><tr><td>&quot;std&quot;</td><td>11.432891</td></tr><tr><td>&quot;min&quot;</td><td>6.0</td></tr><tr><td>&quot;25%&quot;</td><td>19.0</td></tr><tr><td>&quot;50%&quot;</td><td>27.0</td></tr><tr><td>&quot;75%&quot;</td><td>36.0</td></tr><tr><td>&quot;max&quot;</td><td>97.0</td></tr></tbody></table></div>"
      ],
      "text/plain": [
       "shape: (9, 2)\n",
       "┌────────────┬───────────┐\n",
       "│ statistic  ┆ value     │\n",
       "│ ---        ┆ ---       │\n",
       "│ str        ┆ f64       │\n",
       "╞════════════╪═══════════╡\n",
       "│ count      ┆ 1077.0    │\n",
       "│ null_count ┆ 4.0       │\n",
       "│ mean       ┆ 28.31662  │\n",
       "│ std        ┆ 11.432891 │\n",
       "│ min        ┆ 6.0       │\n",
       "│ 25%        ┆ 19.0      │\n",
       "│ 50%        ┆ 27.0      │\n",
       "│ 75%        ┆ 36.0      │\n",
       "│ max        ┆ 97.0      │\n",
       "└────────────┴───────────┘"
      ]
     },
     "metadata": {},
     "output_type": "display_data"
    },
    {
     "data": {
      "text/plain": [
       "'pl'"
      ]
     },
     "metadata": {},
     "output_type": "display_data"
    },
    {
     "data": {
      "text/html": [
       "<div><style>\n",
       ".dataframe > thead > tr,\n",
       ".dataframe > tbody > tr {\n",
       "  text-align: right;\n",
       "  white-space: pre-wrap;\n",
       "}\n",
       "</style>\n",
       "<small>shape: (9, 2)</small><table border=\"1\" class=\"dataframe\"><thead><tr><th>statistic</th><th>value</th></tr><tr><td>str</td><td>f64</td></tr></thead><tbody><tr><td>&quot;count&quot;</td><td>1069.0</td></tr><tr><td>&quot;null_count&quot;</td><td>12.0</td></tr><tr><td>&quot;mean&quot;</td><td>36.885875</td></tr><tr><td>&quot;std&quot;</td><td>15.604129</td></tr><tr><td>&quot;min&quot;</td><td>8.0</td></tr><tr><td>&quot;25%&quot;</td><td>24.0</td></tr><tr><td>&quot;50%&quot;</td><td>35.0</td></tr><tr><td>&quot;75%&quot;</td><td>47.0</td></tr><tr><td>&quot;max&quot;</td><td>132.0</td></tr></tbody></table></div>"
      ],
      "text/plain": [
       "shape: (9, 2)\n",
       "┌────────────┬───────────┐\n",
       "│ statistic  ┆ value     │\n",
       "│ ---        ┆ ---       │\n",
       "│ str        ┆ f64       │\n",
       "╞════════════╪═══════════╡\n",
       "│ count      ┆ 1069.0    │\n",
       "│ null_count ┆ 12.0      │\n",
       "│ mean       ┆ 36.885875 │\n",
       "│ std        ┆ 15.604129 │\n",
       "│ min        ┆ 8.0       │\n",
       "│ 25%        ┆ 24.0      │\n",
       "│ 50%        ┆ 35.0      │\n",
       "│ 75%        ┆ 47.0      │\n",
       "│ max        ┆ 132.0     │\n",
       "└────────────┴───────────┘"
      ]
     },
     "metadata": {},
     "output_type": "display_data"
    },
    {
     "data": {
      "text/plain": [
       "'tr'"
      ]
     },
     "metadata": {},
     "output_type": "display_data"
    },
    {
     "data": {
      "text/html": [
       "<div><style>\n",
       ".dataframe > thead > tr,\n",
       ".dataframe > tbody > tr {\n",
       "  text-align: right;\n",
       "  white-space: pre-wrap;\n",
       "}\n",
       "</style>\n",
       "<small>shape: (9, 2)</small><table border=\"1\" class=\"dataframe\"><thead><tr><th>statistic</th><th>value</th></tr><tr><td>str</td><td>f64</td></tr></thead><tbody><tr><td>&quot;count&quot;</td><td>1069.0</td></tr><tr><td>&quot;null_count&quot;</td><td>12.0</td></tr><tr><td>&quot;mean&quot;</td><td>34.767072</td></tr><tr><td>&quot;std&quot;</td><td>14.571758</td></tr><tr><td>&quot;min&quot;</td><td>4.0</td></tr><tr><td>&quot;25%&quot;</td><td>23.0</td></tr><tr><td>&quot;50%&quot;</td><td>33.0</td></tr><tr><td>&quot;75%&quot;</td><td>45.0</td></tr><tr><td>&quot;max&quot;</td><td>120.0</td></tr></tbody></table></div>"
      ],
      "text/plain": [
       "shape: (9, 2)\n",
       "┌────────────┬───────────┐\n",
       "│ statistic  ┆ value     │\n",
       "│ ---        ┆ ---       │\n",
       "│ str        ┆ f64       │\n",
       "╞════════════╪═══════════╡\n",
       "│ count      ┆ 1069.0    │\n",
       "│ null_count ┆ 12.0      │\n",
       "│ mean       ┆ 34.767072 │\n",
       "│ std        ┆ 14.571758 │\n",
       "│ min        ┆ 4.0       │\n",
       "│ 25%        ┆ 23.0      │\n",
       "│ 50%        ┆ 33.0      │\n",
       "│ 75%        ┆ 45.0      │\n",
       "│ max        ┆ 120.0     │\n",
       "└────────────┴───────────┘"
      ]
     },
     "metadata": {},
     "output_type": "display_data"
    },
    {
     "data": {
      "text/plain": [
       "'la'"
      ]
     },
     "metadata": {},
     "output_type": "display_data"
    },
    {
     "data": {
      "text/html": [
       "<div><style>\n",
       ".dataframe > thead > tr,\n",
       ".dataframe > tbody > tr {\n",
       "  text-align: right;\n",
       "  white-space: pre-wrap;\n",
       "}\n",
       "</style>\n",
       "<small>shape: (9, 2)</small><table border=\"1\" class=\"dataframe\"><thead><tr><th>statistic</th><th>value</th></tr><tr><td>str</td><td>f64</td></tr></thead><tbody><tr><td>&quot;count&quot;</td><td>807.0</td></tr><tr><td>&quot;null_count&quot;</td><td>274.0</td></tr><tr><td>&quot;mean&quot;</td><td>33.174721</td></tr><tr><td>&quot;std&quot;</td><td>15.067193</td></tr><tr><td>&quot;min&quot;</td><td>5.0</td></tr><tr><td>&quot;25%&quot;</td><td>21.0</td></tr><tr><td>&quot;50%&quot;</td><td>30.0</td></tr><tr><td>&quot;75%&quot;</td><td>43.0</td></tr><tr><td>&quot;max&quot;</td><td>125.0</td></tr></tbody></table></div>"
      ],
      "text/plain": [
       "shape: (9, 2)\n",
       "┌────────────┬───────────┐\n",
       "│ statistic  ┆ value     │\n",
       "│ ---        ┆ ---       │\n",
       "│ str        ┆ f64       │\n",
       "╞════════════╪═══════════╡\n",
       "│ count      ┆ 807.0     │\n",
       "│ null_count ┆ 274.0     │\n",
       "│ mean       ┆ 33.174721 │\n",
       "│ std        ┆ 15.067193 │\n",
       "│ min        ┆ 5.0       │\n",
       "│ 25%        ┆ 21.0      │\n",
       "│ 50%        ┆ 30.0      │\n",
       "│ 75%        ┆ 43.0      │\n",
       "│ max        ┆ 125.0     │\n",
       "└────────────┴───────────┘"
      ]
     },
     "metadata": {},
     "output_type": "display_data"
    },
    {
     "data": {
      "text/plain": [
       "'el'"
      ]
     },
     "metadata": {},
     "output_type": "display_data"
    },
    {
     "data": {
      "text/html": [
       "<div><style>\n",
       ".dataframe > thead > tr,\n",
       ".dataframe > tbody > tr {\n",
       "  text-align: right;\n",
       "  white-space: pre-wrap;\n",
       "}\n",
       "</style>\n",
       "<small>shape: (9, 2)</small><table border=\"1\" class=\"dataframe\"><thead><tr><th>statistic</th><th>value</th></tr><tr><td>str</td><td>f64</td></tr></thead><tbody><tr><td>&quot;count&quot;</td><td>974.0</td></tr><tr><td>&quot;null_count&quot;</td><td>107.0</td></tr><tr><td>&quot;mean&quot;</td><td>60.069815</td></tr><tr><td>&quot;std&quot;</td><td>25.923384</td></tr><tr><td>&quot;min&quot;</td><td>7.0</td></tr><tr><td>&quot;25%&quot;</td><td>39.0</td></tr><tr><td>&quot;50%&quot;</td><td>56.0</td></tr><tr><td>&quot;75%&quot;</td><td>78.0</td></tr><tr><td>&quot;max&quot;</td><td>173.0</td></tr></tbody></table></div>"
      ],
      "text/plain": [
       "shape: (9, 2)\n",
       "┌────────────┬───────────┐\n",
       "│ statistic  ┆ value     │\n",
       "│ ---        ┆ ---       │\n",
       "│ str        ┆ f64       │\n",
       "╞════════════╪═══════════╡\n",
       "│ count      ┆ 974.0     │\n",
       "│ null_count ┆ 107.0     │\n",
       "│ mean       ┆ 60.069815 │\n",
       "│ std        ┆ 25.923384 │\n",
       "│ min        ┆ 7.0       │\n",
       "│ 25%        ┆ 39.0      │\n",
       "│ 50%        ┆ 56.0      │\n",
       "│ 75%        ┆ 78.0      │\n",
       "│ max        ┆ 173.0     │\n",
       "└────────────┴───────────┘"
      ]
     },
     "metadata": {},
     "output_type": "display_data"
    }
   ],
   "source": [
    "df = sewi_dataset[\"train\"].to_polars()\n",
    "for col in df.columns[5:]:\n",
    "    display(col)\n",
    "    display(df[col].map_elements(count_tokens).describe())"
   ]
  },
  {
   "cell_type": "code",
   "execution_count": 10,
   "id": "11961698",
   "metadata": {},
   "outputs": [
    {
     "data": {
      "text/html": [
       "<div><style>\n",
       ".dataframe > thead > tr,\n",
       ".dataframe > tbody > tr {\n",
       "  text-align: right;\n",
       "  white-space: pre-wrap;\n",
       "}\n",
       "</style>\n",
       "<small>shape: (9, 2)</small><table border=\"1\" class=\"dataframe\"><thead><tr><th>statistic</th><th>value</th></tr><tr><td>str</td><td>f64</td></tr></thead><tbody><tr><td>&quot;count&quot;</td><td>2917.0</td></tr><tr><td>&quot;null_count&quot;</td><td>0.0</td></tr><tr><td>&quot;mean&quot;</td><td>226.772369</td></tr><tr><td>&quot;std&quot;</td><td>509.421358</td></tr><tr><td>&quot;min&quot;</td><td>4.0</td></tr><tr><td>&quot;25%&quot;</td><td>58.0</td></tr><tr><td>&quot;50%&quot;</td><td>113.0</td></tr><tr><td>&quot;75%&quot;</td><td>228.0</td></tr><tr><td>&quot;max&quot;</td><td>15212.0</td></tr></tbody></table></div>"
      ],
      "text/plain": [
       "shape: (9, 2)\n",
       "┌────────────┬────────────┐\n",
       "│ statistic  ┆ value      │\n",
       "│ ---        ┆ ---        │\n",
       "│ str        ┆ f64        │\n",
       "╞════════════╪════════════╡\n",
       "│ count      ┆ 2917.0     │\n",
       "│ null_count ┆ 0.0        │\n",
       "│ mean       ┆ 226.772369 │\n",
       "│ std        ┆ 509.421358 │\n",
       "│ min        ┆ 4.0        │\n",
       "│ 25%        ┆ 58.0       │\n",
       "│ 50%        ┆ 113.0      │\n",
       "│ 75%        ┆ 228.0      │\n",
       "│ max        ┆ 15212.0    │\n",
       "└────────────┴────────────┘"
      ]
     },
     "execution_count": 10,
     "metadata": {},
     "output_type": "execute_result"
    }
   ],
   "source": [
    "df = wiki_dataset[\"train\"].to_polars()\n",
    "df[\"text\"].map_elements(count_tokens).describe()"
   ]
  },
  {
   "cell_type": "code",
   "execution_count": 11,
   "id": "a4924e3a",
   "metadata": {},
   "outputs": [
    {
     "data": {
      "text/html": [
       "<div><style>\n",
       ".dataframe > thead > tr,\n",
       ".dataframe > tbody > tr {\n",
       "  text-align: right;\n",
       "  white-space: pre-wrap;\n",
       "}\n",
       "</style>\n",
       "<small>shape: (9, 2)</small><table border=\"1\" class=\"dataframe\"><thead><tr><th>statistic</th><th>value</th></tr><tr><td>str</td><td>f64</td></tr></thead><tbody><tr><td>&quot;count&quot;</td><td>1433.0</td></tr><tr><td>&quot;null_count&quot;</td><td>0.0</td></tr><tr><td>&quot;mean&quot;</td><td>1237.900907</td></tr><tr><td>&quot;std&quot;</td><td>16624.123236</td></tr><tr><td>&quot;min&quot;</td><td>1.0</td></tr><tr><td>&quot;25%&quot;</td><td>149.0</td></tr><tr><td>&quot;50%&quot;</td><td>361.0</td></tr><tr><td>&quot;75%&quot;</td><td>735.0</td></tr><tr><td>&quot;max&quot;</td><td>618874.0</td></tr></tbody></table></div>"
      ],
      "text/plain": [
       "shape: (9, 2)\n",
       "┌────────────┬──────────────┐\n",
       "│ statistic  ┆ value        │\n",
       "│ ---        ┆ ---          │\n",
       "│ str        ┆ f64          │\n",
       "╞════════════╪══════════════╡\n",
       "│ count      ┆ 1433.0       │\n",
       "│ null_count ┆ 0.0          │\n",
       "│ mean       ┆ 1237.900907  │\n",
       "│ std        ┆ 16624.123236 │\n",
       "│ min        ┆ 1.0          │\n",
       "│ 25%        ┆ 149.0        │\n",
       "│ 50%        ┆ 361.0        │\n",
       "│ 75%        ┆ 735.0        │\n",
       "│ max        ┆ 618874.0     │\n",
       "└────────────┴──────────────┘"
      ]
     },
     "execution_count": 11,
     "metadata": {},
     "output_type": "execute_result"
    }
   ],
   "source": [
    "poki_dataset[\"train\"].to_polars()[\"text\"].map_elements(count_tokens).describe()"
   ]
  },
  {
   "cell_type": "code",
   "execution_count": 12,
   "id": "95c5f7e8",
   "metadata": {},
   "outputs": [
    {
     "data": {
      "text/html": [
       "<div><style>\n",
       ".dataframe > thead > tr,\n",
       ".dataframe > tbody > tr {\n",
       "  text-align: right;\n",
       "  white-space: pre-wrap;\n",
       "}\n",
       "</style>\n",
       "<small>shape: (9, 2)</small><table border=\"1\" class=\"dataframe\"><thead><tr><th>statistic</th><th>value</th></tr><tr><td>str</td><td>f64</td></tr></thead><tbody><tr><td>&quot;count&quot;</td><td>42.0</td></tr><tr><td>&quot;null_count&quot;</td><td>0.0</td></tr><tr><td>&quot;mean&quot;</td><td>801.738095</td></tr><tr><td>&quot;std&quot;</td><td>537.579764</td></tr><tr><td>&quot;min&quot;</td><td>27.0</td></tr><tr><td>&quot;25%&quot;</td><td>399.0</td></tr><tr><td>&quot;50%&quot;</td><td>756.0</td></tr><tr><td>&quot;75%&quot;</td><td>1071.0</td></tr><tr><td>&quot;max&quot;</td><td>2224.0</td></tr></tbody></table></div>"
      ],
      "text/plain": [
       "shape: (9, 2)\n",
       "┌────────────┬────────────┐\n",
       "│ statistic  ┆ value      │\n",
       "│ ---        ┆ ---        │\n",
       "│ str        ┆ f64        │\n",
       "╞════════════╪════════════╡\n",
       "│ count      ┆ 42.0       │\n",
       "│ null_count ┆ 0.0        │\n",
       "│ mean       ┆ 801.738095 │\n",
       "│ std        ┆ 537.579764 │\n",
       "│ min        ┆ 27.0       │\n",
       "│ 25%        ┆ 399.0      │\n",
       "│ 50%        ┆ 756.0      │\n",
       "│ 75%        ┆ 1071.0     │\n",
       "│ max        ┆ 2224.0     │\n",
       "└────────────┴────────────┘"
      ]
     },
     "execution_count": 12,
     "metadata": {},
     "output_type": "execute_result"
    }
   ],
   "source": [
    "kule_dataset[\"train\"].to_polars()[\"text\"].map_elements(count_tokens).describe()"
   ]
  },
  {
   "cell_type": "code",
   "execution_count": 13,
   "id": "edd0eff9",
   "metadata": {},
   "outputs": [],
   "source": [
    "new_data = {\n",
    "    \"train\": [],\n",
    "    \"validation\": []\n",
    "}"
   ]
  },
  {
   "cell_type": "code",
   "execution_count": 14,
   "id": "8044b795",
   "metadata": {},
   "outputs": [
    {
     "data": {
      "text/plain": [
       "{'train': [], 'validation': []}"
      ]
     },
     "execution_count": 14,
     "metadata": {},
     "output_type": "execute_result"
    }
   ],
   "source": [
    "new_data"
   ]
  },
  {
   "cell_type": "code",
   "execution_count": 15,
   "id": "a76195fc",
   "metadata": {},
   "outputs": [],
   "source": [
    "batch_size = 5\n",
    "overlap = 2\n",
    "\n",
    "for key in [\"train\", \"validation\"]:\n",
    "    df = tatoeba_dataset[key].to_polars()[[\"tok\", \"en\", \"ru\", \"vi\"]].drop_nulls()\n",
    "    conc_df = df\\\n",
    "        .with_row_index(\"row_id\")\\\n",
    "        .with_columns([\n",
    "            ((pl.col(\"row_id\") - pl.col(\"row_id\") % (batch_size - overlap)) // (batch_size - overlap))\n",
    "            .alias(\"chunk\")\n",
    "        ])\\\n",
    "        .group_by([\"chunk\"], maintain_order=True)\\\n",
    "        .agg([\n",
    "            pl.col(col).str.join(\" \").alias(col)\n",
    "            for col in df.columns\n",
    "        ])\n",
    "    new_data[key].append(conc_df[[\"tok\", \"en\", \"ru\", \"vi\"]])\n",
    "#     break\n",
    "\n",
    "# display(conc_df.shape)\n",
    "# for col in df.columns:\n",
    "#     display(col)\n",
    "#     display(conc_df[col].map_elements(count_tokens).describe())"
   ]
  },
  {
   "cell_type": "code",
   "execution_count": 16,
   "id": "f6650384",
   "metadata": {},
   "outputs": [],
   "source": [
    "batch_size = 5\n",
    "overlap = 3\n",
    "\n",
    "for key in [\"train\", \"validation\"]:\n",
    "    df = sewi_dataset[key].to_polars()[\"key\", \"part\", \"book\", \"chapter\", \"verse\", \"tok\", \"en\", \"ru\", \"vi\"].drop_nulls()\n",
    "\n",
    "    conc_df = df\\\n",
    "        .sort([\"part\", \"book\", \"chapter\", \"verse\"])\\\n",
    "        .with_row_index(\"row_id\")\\\n",
    "        .with_columns((pl.col(\"row_id\") - pl.col(\"row_id\") % (batch_size - overlap)).alias(\"chunk\"))\\\n",
    "        .group_by([\"chunk\"], maintain_order=True)\\\n",
    "        .agg([\n",
    "            pl.col(col).str.join(\" \").alias(col)\n",
    "            for col in df.columns[5:]\n",
    "        ])\n",
    "    new_data[key].append(conc_df[[\"tok\", \"en\", \"ru\", \"vi\"]])\n",
    "\n",
    "# for col in df.columns[5:]:\n",
    "#     display(col)\n",
    "#     display(conc_df[col].map_elements(count_tokens).describe())\n"
   ]
  },
  {
   "cell_type": "code",
   "execution_count": 17,
   "id": "01a95682",
   "metadata": {},
   "outputs": [
    {
     "data": {
      "text/html": [
       "<div><style>\n",
       ".dataframe > thead > tr,\n",
       ".dataframe > tbody > tr {\n",
       "  text-align: right;\n",
       "  white-space: pre-wrap;\n",
       "}\n",
       "</style>\n",
       "<small>shape: (9, 2)</small><table border=\"1\" class=\"dataframe\"><thead><tr><th>statistic</th><th>value</th></tr><tr><td>str</td><td>f64</td></tr></thead><tbody><tr><td>&quot;count&quot;</td><td>326.0</td></tr><tr><td>&quot;null_count&quot;</td><td>0.0</td></tr><tr><td>&quot;mean&quot;</td><td>98.070552</td></tr><tr><td>&quot;std&quot;</td><td>94.17838</td></tr><tr><td>&quot;min&quot;</td><td>3.0</td></tr><tr><td>&quot;25%&quot;</td><td>29.0</td></tr><tr><td>&quot;50%&quot;</td><td>73.0</td></tr><tr><td>&quot;75%&quot;</td><td>133.0</td></tr><tr><td>&quot;max&quot;</td><td>751.0</td></tr></tbody></table></div>"
      ],
      "text/plain": [
       "shape: (9, 2)\n",
       "┌────────────┬───────────┐\n",
       "│ statistic  ┆ value     │\n",
       "│ ---        ┆ ---       │\n",
       "│ str        ┆ f64       │\n",
       "╞════════════╪═══════════╡\n",
       "│ count      ┆ 326.0     │\n",
       "│ null_count ┆ 0.0       │\n",
       "│ mean       ┆ 98.070552 │\n",
       "│ std        ┆ 94.17838  │\n",
       "│ min        ┆ 3.0       │\n",
       "│ 25%        ┆ 29.0      │\n",
       "│ 50%        ┆ 73.0      │\n",
       "│ 75%        ┆ 133.0     │\n",
       "│ max        ┆ 751.0     │\n",
       "└────────────┴───────────┘"
      ]
     },
     "execution_count": 17,
     "metadata": {},
     "output_type": "execute_result"
    }
   ],
   "source": [
    "batch_size = 6\n",
    "overlap = 3\n",
    "\n",
    "for key in [\"train\", \"validation\"]:\n",
    "\n",
    "    df = wiki_dataset[key].to_polars()\n",
    "\n",
    "    exploded = (\n",
    "        df\n",
    "        .with_row_index(\"doc_id\")\n",
    "        .with_columns(pl.col(\"text\").str.split(\"\\n\").alias(\"paragraphs\"))\n",
    "        .explode(\"paragraphs\")\n",
    "    )\n",
    "\n",
    "    result = (\n",
    "        exploded\n",
    "        .with_row_index(\"row_id\")\n",
    "        .with_columns([\n",
    "            ((pl.col(\"row_id\") - pl.col(\"row_id\") % (batch_size - overlap)) // (batch_size - overlap))\n",
    "            .alias(\"chunk\")\n",
    "        ])\n",
    "        .group_by([\"doc_id\", \"chunk\"], maintain_order=True)\n",
    "        .agg([\n",
    "            pl.col(\"paragraphs\").str.join(\"\\n\").alias(\"text_concat\")\n",
    "        ])\n",
    "        .sort([\"doc_id\", \"chunk\"])\n",
    "        .select([\"doc_id\", \"text_concat\"])\n",
    "        .rename({\"text_concat\": \"text\"})\n",
    "    )\n",
    "    new_data[key].append(result[[\"text\"]])\n",
    "\n",
    "result[\"text\"].map_elements(count_tokens).describe()"
   ]
  },
  {
   "cell_type": "code",
   "execution_count": 18,
   "id": "f56cf2b0",
   "metadata": {},
   "outputs": [
    {
     "data": {
      "text/html": [
       "<div><style>\n",
       ".dataframe > thead > tr,\n",
       ".dataframe > tbody > tr {\n",
       "  text-align: right;\n",
       "  white-space: pre-wrap;\n",
       "}\n",
       "</style>\n",
       "<small>shape: (9, 2)</small><table border=\"1\" class=\"dataframe\"><thead><tr><th>statistic</th><th>value</th></tr><tr><td>str</td><td>f64</td></tr></thead><tbody><tr><td>&quot;count&quot;</td><td>721.0</td></tr><tr><td>&quot;null_count&quot;</td><td>0.0</td></tr><tr><td>&quot;mean&quot;</td><td>112.510402</td></tr><tr><td>&quot;std&quot;</td><td>82.323111</td></tr><tr><td>&quot;min&quot;</td><td>5.0</td></tr><tr><td>&quot;25%&quot;</td><td>61.0</td></tr><tr><td>&quot;50%&quot;</td><td>89.0</td></tr><tr><td>&quot;75%&quot;</td><td>139.0</td></tr><tr><td>&quot;max&quot;</td><td>797.0</td></tr></tbody></table></div>"
      ],
      "text/plain": [
       "shape: (9, 2)\n",
       "┌────────────┬────────────┐\n",
       "│ statistic  ┆ value      │\n",
       "│ ---        ┆ ---        │\n",
       "│ str        ┆ f64        │\n",
       "╞════════════╪════════════╡\n",
       "│ count      ┆ 721.0      │\n",
       "│ null_count ┆ 0.0        │\n",
       "│ mean       ┆ 112.510402 │\n",
       "│ std        ┆ 82.323111  │\n",
       "│ min        ┆ 5.0        │\n",
       "│ 25%        ┆ 61.0       │\n",
       "│ 50%        ┆ 89.0       │\n",
       "│ 75%        ┆ 139.0      │\n",
       "│ max        ┆ 797.0      │\n",
       "└────────────┴────────────┘"
      ]
     },
     "execution_count": 18,
     "metadata": {},
     "output_type": "execute_result"
    }
   ],
   "source": [
    "batch_size = 10\n",
    "overlap = 5\n",
    "\n",
    "for key in [\"train\", \"validation\"]:\n",
    "\n",
    "    df = poki_dataset[key].to_polars()\n",
    "\n",
    "    exploded = (\n",
    "        df\n",
    "        .with_row_index(\"doc_id\")\n",
    "        .with_columns(pl.col(\"text\").str.split(\". \", inclusive=True).alias(\"sentences\"))\n",
    "        .explode(\"sentences\")\n",
    "    )\n",
    "\n",
    "    exploded = exploded.with_columns(exploded[\"sentences\"].map_elements(count_tokens).alias(\"tokens\"))\n",
    "\n",
    "    exploded = exploded.filter(exploded[\"tokens\"] < 1000)\n",
    "    exploded = exploded.with_columns(exploded[\"text\"].str.strip_chars_start(\" \\n\"))\n",
    "    exploded = exploded.filter(exploded[\"text\"].str.len_chars() > 3)\n",
    "\n",
    "    result = (\n",
    "        exploded\n",
    "        .with_row_index(\"row_id\")\n",
    "        .with_columns([\n",
    "            ((pl.col(\"row_id\") - pl.col(\"row_id\") % (batch_size - overlap)) // (batch_size - overlap))\n",
    "            .alias(\"chunk\")\n",
    "        ])\n",
    "        .group_by([\"doc_id\", \"chunk\"], maintain_order=True)\n",
    "        .agg([\n",
    "            pl.col(\"sentences\").str.join(\"\").alias(\"text_concat\")\n",
    "        ])\n",
    "        .sort([\"doc_id\", \"chunk\"])\n",
    "        .select([\"doc_id\", \"text_concat\"])\n",
    "        .rename({\"text_concat\": \"text\"})\n",
    "    )\n",
    "    new_data[key].append(result[[\"text\"]])\n",
    "\n",
    "result[\"text\"].map_elements(count_tokens).describe()"
   ]
  },
  {
   "cell_type": "code",
   "execution_count": 19,
   "id": "ed3ef48a",
   "metadata": {},
   "outputs": [],
   "source": [
    "for key in [\"train\"]:\n",
    "    df = kule_dataset[key].to_polars()\n",
    "    new_data[key].append(df[[\"text\"]])"
   ]
  },
  {
   "cell_type": "code",
   "execution_count": 20,
   "id": "9d6a7739",
   "metadata": {},
   "outputs": [
    {
     "name": "stdout",
     "output_type": "stream",
     "text": [
      "train 5\n",
      "validation 4\n"
     ]
    }
   ],
   "source": [
    "for key in new_data.keys():\n",
    "    print(key, len(new_data[key]))"
   ]
  },
  {
   "cell_type": "code",
   "execution_count": 27,
   "id": "2c639997",
   "metadata": {},
   "outputs": [],
   "source": [
    "languages = [\"en\", \"ru\", \"vi\"]\n",
    "\n",
    "def make_pairs(seq):\n",
    "    for row in seq:\n",
    "        if \"text\" in row.keys():\n",
    "            yield {\"from\": \"tok\", \"to\": None, \"source\": row[\"text\"], \"target\": None}\n",
    "            continue\n",
    "\n",
    "        for code in languages:\n",
    "            if not row[code]:\n",
    "                continue\n",
    "            yield {\"from\": \"tok\", \"to\": code, \"source\": row[\"tok\"], \"target\": row[code]}\n",
    "            yield {\"from\": code, \"to\": \"tok\", \"source\": row[code], \"target\": row[\"tok\"]}"
   ]
  },
  {
   "cell_type": "code",
   "execution_count": 30,
   "id": "54f4ff21",
   "metadata": {},
   "outputs": [
    {
     "name": "stdout",
     "output_type": "stream",
     "text": [
      "{'from': 'tok', 'to': None, 'source': 'Z li sitelen pini lon nasin sitelen Lasina.', 'target': None}\n"
     ]
    }
   ],
   "source": [
    "for pair in make_pairs(new_data[\"train\"][2].to_dicts()):\n",
    "    print(pair)\n",
    "    break"
   ]
  },
  {
   "cell_type": "code",
   "execution_count": 31,
   "id": "f5029696",
   "metadata": {},
   "outputs": [
    {
     "data": {
      "text/plain": [
       "DatasetDict({\n",
       "    train: Dataset({\n",
       "        features: ['from', 'to', 'source', 'target'],\n",
       "        num_rows: 168981\n",
       "    })\n",
       "    validation: Dataset({\n",
       "        features: ['from', 'to', 'source', 'target'],\n",
       "        num_rows: 9105\n",
       "    })\n",
       "})"
      ]
     },
     "execution_count": 31,
     "metadata": {},
     "output_type": "execute_result"
    }
   ],
   "source": [
    "new_dataset = {\"train\": [], \"validation\": []}\n",
    "dataset_dict = datasets.DatasetDict()\n",
    "\n",
    "for key, value in new_data.items():\n",
    "    for df in value:\n",
    "        for row in make_pairs(df.iter_rows(named=True)):\n",
    "            new_dataset[key].append(row)\n",
    "\n",
    "    data_df = pl.DataFrame(data=new_dataset[key])\n",
    "    dataset_dict[key] = datasets.Dataset.from_polars(data_df)\n",
    "\n",
    "dataset_dict"
   ]
  },
  {
   "cell_type": "code",
   "execution_count": 33,
   "id": "95848015",
   "metadata": {},
   "outputs": [
    {
     "data": {
      "text/plain": [
       "'train'"
      ]
     },
     "metadata": {},
     "output_type": "display_data"
    },
    {
     "data": {
      "text/html": [
       "<div><style>\n",
       ".dataframe > thead > tr,\n",
       ".dataframe > tbody > tr {\n",
       "  text-align: right;\n",
       "  white-space: pre-wrap;\n",
       "}\n",
       "</style>\n",
       "<small>shape: (9, 2)</small><table border=\"1\" class=\"dataframe\"><thead><tr><th>statistic</th><th>value</th></tr><tr><td>str</td><td>f64</td></tr></thead><tbody><tr><td>&quot;count&quot;</td><td>168981.0</td></tr><tr><td>&quot;null_count&quot;</td><td>0.0</td></tr><tr><td>&quot;mean&quot;</td><td>42.227878</td></tr><tr><td>&quot;std&quot;</td><td>42.193817</td></tr><tr><td>&quot;min&quot;</td><td>2.0</td></tr><tr><td>&quot;25%&quot;</td><td>26.0</td></tr><tr><td>&quot;50%&quot;</td><td>33.0</td></tr><tr><td>&quot;75%&quot;</td><td>44.0</td></tr><tr><td>&quot;max&quot;</td><td>2224.0</td></tr></tbody></table></div>"
      ],
      "text/plain": [
       "shape: (9, 2)\n",
       "┌────────────┬───────────┐\n",
       "│ statistic  ┆ value     │\n",
       "│ ---        ┆ ---       │\n",
       "│ str        ┆ f64       │\n",
       "╞════════════╪═══════════╡\n",
       "│ count      ┆ 168981.0  │\n",
       "│ null_count ┆ 0.0       │\n",
       "│ mean       ┆ 42.227878 │\n",
       "│ std        ┆ 42.193817 │\n",
       "│ min        ┆ 2.0       │\n",
       "│ 25%        ┆ 26.0      │\n",
       "│ 50%        ┆ 33.0      │\n",
       "│ 75%        ┆ 44.0      │\n",
       "│ max        ┆ 2224.0    │\n",
       "└────────────┴───────────┘"
      ]
     },
     "metadata": {},
     "output_type": "display_data"
    },
    {
     "data": {
      "text/plain": [
       "16755"
      ]
     },
     "metadata": {},
     "output_type": "display_data"
    },
    {
     "data": {
      "text/plain": [
       "(168981, 5)"
      ]
     },
     "metadata": {},
     "output_type": "display_data"
    },
    {
     "data": {
      "text/plain": [
       "'validation'"
      ]
     },
     "metadata": {},
     "output_type": "display_data"
    },
    {
     "data": {
      "text/html": [
       "<div><style>\n",
       ".dataframe > thead > tr,\n",
       ".dataframe > tbody > tr {\n",
       "  text-align: right;\n",
       "  white-space: pre-wrap;\n",
       "}\n",
       "</style>\n",
       "<small>shape: (9, 2)</small><table border=\"1\" class=\"dataframe\"><thead><tr><th>statistic</th><th>value</th></tr><tr><td>str</td><td>f64</td></tr></thead><tbody><tr><td>&quot;count&quot;</td><td>9105.0</td></tr><tr><td>&quot;null_count&quot;</td><td>0.0</td></tr><tr><td>&quot;mean&quot;</td><td>43.126085</td></tr><tr><td>&quot;std&quot;</td><td>39.481608</td></tr><tr><td>&quot;min&quot;</td><td>3.0</td></tr><tr><td>&quot;25%&quot;</td><td>26.0</td></tr><tr><td>&quot;50%&quot;</td><td>34.0</td></tr><tr><td>&quot;75%&quot;</td><td>45.0</td></tr><tr><td>&quot;max&quot;</td><td>797.0</td></tr></tbody></table></div>"
      ],
      "text/plain": [
       "shape: (9, 2)\n",
       "┌────────────┬───────────┐\n",
       "│ statistic  ┆ value     │\n",
       "│ ---        ┆ ---       │\n",
       "│ str        ┆ f64       │\n",
       "╞════════════╪═══════════╡\n",
       "│ count      ┆ 9105.0    │\n",
       "│ null_count ┆ 0.0       │\n",
       "│ mean       ┆ 43.126085 │\n",
       "│ std        ┆ 39.481608 │\n",
       "│ min        ┆ 3.0       │\n",
       "│ 25%        ┆ 26.0      │\n",
       "│ 50%        ┆ 34.0      │\n",
       "│ 75%        ┆ 45.0      │\n",
       "│ max        ┆ 797.0     │\n",
       "└────────────┴───────────┘"
      ]
     },
     "metadata": {},
     "output_type": "display_data"
    },
    {
     "data": {
      "text/plain": [
       "1047"
      ]
     },
     "metadata": {},
     "output_type": "display_data"
    },
    {
     "data": {
      "text/plain": [
       "(9105, 5)"
      ]
     },
     "metadata": {},
     "output_type": "display_data"
    }
   ],
   "source": [
    "for key in dataset_dict.keys():\n",
    "    display(key)\n",
    "    tt = dataset_dict[key].to_polars()\n",
    "    tt = tt.with_columns(tt[\"source\"].map_elements(count_tokens).alias(\"tokens\"))\n",
    "    display(tt[\"tokens\"].describe())\n",
    "    display(tt[\"target\"].null_count())\n",
    "    display(tt.shape)"
   ]
  },
  {
   "cell_type": "code",
   "execution_count": 34,
   "id": "ec457b98",
   "metadata": {},
   "outputs": [
    {
     "data": {
      "application/vnd.jupyter.widget-view+json": {
       "model_id": "1892c052ae1145bfb63bde087dbfbe55",
       "version_major": 2,
       "version_minor": 0
      },
      "text/plain": [
       "Uploading the dataset shards:   0%|          | 0/1 [00:00<?, ? shards/s]"
      ]
     },
     "metadata": {},
     "output_type": "display_data"
    },
    {
     "data": {
      "application/vnd.jupyter.widget-view+json": {
       "model_id": "c3f88441e3e94e3e98fa3cc6188a75ae",
       "version_major": 2,
       "version_minor": 0
      },
      "text/plain": [
       "Creating parquet from Arrow format:   0%|          | 0/1 [00:00<?, ?ba/s]"
      ]
     },
     "metadata": {},
     "output_type": "display_data"
    },
    {
     "data": {
      "application/vnd.jupyter.widget-view+json": {
       "model_id": "19dba557175542039a7ddcdb4d08c001",
       "version_major": 2,
       "version_minor": 0
      },
      "text/plain": [
       "Processing Files (0 / 0): |          |  0.00B /  0.00B            "
      ]
     },
     "metadata": {},
     "output_type": "display_data"
    },
    {
     "data": {
      "application/vnd.jupyter.widget-view+json": {
       "model_id": "6c5d302d2d504ba0b3bb9a8402acd863",
       "version_major": 2,
       "version_minor": 0
      },
      "text/plain": [
       "New Data Upload: |          |  0.00B /  0.00B            "
      ]
     },
     "metadata": {},
     "output_type": "display_data"
    },
    {
     "data": {
      "application/vnd.jupyter.widget-view+json": {
       "model_id": "bec2d30162fd4f7c8ebd658047a10174",
       "version_major": 2,
       "version_minor": 0
      },
      "text/plain": [
       "Uploading the dataset shards:   0%|          | 0/1 [00:00<?, ? shards/s]"
      ]
     },
     "metadata": {},
     "output_type": "display_data"
    },
    {
     "data": {
      "application/vnd.jupyter.widget-view+json": {
       "model_id": "514fdaac2e6f40bcbef4781e3e117fb4",
       "version_major": 2,
       "version_minor": 0
      },
      "text/plain": [
       "Creating parquet from Arrow format:   0%|          | 0/1 [00:00<?, ?ba/s]"
      ]
     },
     "metadata": {},
     "output_type": "display_data"
    },
    {
     "data": {
      "application/vnd.jupyter.widget-view+json": {
       "model_id": "ec1c5be30c2a4252af20d2dae7aceff7",
       "version_major": 2,
       "version_minor": 0
      },
      "text/plain": [
       "Processing Files (0 / 0): |          |  0.00B /  0.00B            "
      ]
     },
     "metadata": {},
     "output_type": "display_data"
    },
    {
     "data": {
      "application/vnd.jupyter.widget-view+json": {
       "model_id": "74d206b39e7f4e6598c2d4be9b0fe9d0",
       "version_major": 2,
       "version_minor": 0
      },
      "text/plain": [
       "New Data Upload: |          |  0.00B /  0.00B            "
      ]
     },
     "metadata": {},
     "output_type": "display_data"
    },
    {
     "data": {
      "application/vnd.jupyter.widget-view+json": {
       "model_id": "07ab34a295a545f9b200d7412b9b81f7",
       "version_major": 2,
       "version_minor": 0
      },
      "text/plain": [
       "README.md:   0%|          | 0.00/683 [00:00<?, ?B/s]"
      ]
     },
     "metadata": {},
     "output_type": "display_data"
    },
    {
     "data": {
      "text/plain": [
       "CommitInfo(commit_url='https://huggingface.co/datasets/NetherQuartz/combined-tokipona-dataset/commit/6dbcb66b0995936f615a37f747b23caaa3e960cf', commit_message='Upload dataset', commit_description='', oid='6dbcb66b0995936f615a37f747b23caaa3e960cf', pr_url=None, repo_url=RepoUrl('https://huggingface.co/datasets/NetherQuartz/combined-tokipona-dataset', endpoint='https://huggingface.co', repo_type='dataset', repo_id='NetherQuartz/combined-tokipona-dataset'), pr_revision=None, pr_num=None)"
      ]
     },
     "execution_count": 34,
     "metadata": {},
     "output_type": "execute_result"
    }
   ],
   "source": [
    "dataset_dict.push_to_hub(\"NetherQuartz/combined-tokipona-dataset\")"
   ]
  }
 ],
 "metadata": {
  "kernelspec": {
   "display_name": "ilo-toki",
   "language": "python",
   "name": "python3"
  },
  "language_info": {
   "codemirror_mode": {
    "name": "ipython",
    "version": 3
   },
   "file_extension": ".py",
   "mimetype": "text/x-python",
   "name": "python",
   "nbconvert_exporter": "python",
   "pygments_lexer": "ipython3",
   "version": "3.12.2"
  }
 },
 "nbformat": 4,
 "nbformat_minor": 5
}
