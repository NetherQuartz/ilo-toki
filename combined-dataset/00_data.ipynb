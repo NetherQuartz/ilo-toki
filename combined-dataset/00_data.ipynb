{
 "cells": [
  {
   "cell_type": "code",
   "execution_count": 1,
   "id": "b1ff24db",
   "metadata": {},
   "outputs": [],
   "source": [
    "from IPython.display import display"
   ]
  },
  {
   "cell_type": "code",
   "execution_count": 2,
   "id": "2a9a6663",
   "metadata": {},
   "outputs": [
    {
     "data": {
      "text/plain": [
       "DatasetDict({\n",
       "    train: Dataset({\n",
       "        features: ['id', 'source_id', 'target_id', 'source', 'source_lang', 'tok', 'en', 'ru', 'uk', 'be', 'fr', 'es', 'pt', 'it', 'de', 'vi', 'ja', 'zh', 'ko', 'ar', 'he', 'pl', 'tr', 'la', 'el'],\n",
       "        num_rows: 74668\n",
       "    })\n",
       "    validation: Dataset({\n",
       "        features: ['id', 'source_id', 'target_id', 'source', 'source_lang', 'tok', 'en', 'ru', 'uk', 'be', 'fr', 'es', 'pt', 'it', 'de', 'vi', 'ja', 'zh', 'ko', 'ar', 'he', 'pl', 'tr', 'la', 'el'],\n",
       "        num_rows: 3930\n",
       "    })\n",
       "})"
      ]
     },
     "execution_count": 2,
     "metadata": {},
     "output_type": "execute_result"
    }
   ],
   "source": [
    "import datasets\n",
    "import polars as pl\n",
    "\n",
    "tatoeba_dataset = datasets.load_dataset(\"NetherQuartz/tatoeba-tokipona\")\n",
    "tatoeba_dataset"
   ]
  },
  {
   "cell_type": "code",
   "execution_count": 3,
   "id": "d28199fe",
   "metadata": {},
   "outputs": [
    {
     "data": {
      "text/plain": [
       "DatasetDict({\n",
       "    train: Dataset({\n",
       "        features: ['key', 'part', 'book', 'chapter', 'verse', 'tok', 'en', 'ru', 'uk', 'be', 'fr', 'es', 'pt', 'it', 'de', 'vi', 'ja', 'zh', 'ko', 'ar', 'he', 'pl', 'tr', 'la', 'el'],\n",
       "        num_rows: 1081\n",
       "    })\n",
       "    validation: Dataset({\n",
       "        features: ['key', 'part', 'book', 'chapter', 'verse', 'tok', 'en', 'ru', 'uk', 'be', 'fr', 'es', 'pt', 'it', 'de', 'vi', 'ja', 'zh', 'ko', 'ar', 'he', 'pl', 'tr', 'la', 'el'],\n",
       "        num_rows: 65\n",
       "    })\n",
       "})"
      ]
     },
     "execution_count": 3,
     "metadata": {},
     "output_type": "execute_result"
    }
   ],
   "source": [
    "sewi_dataset = datasets.load_dataset(\"NetherQuartz/lipu-sewi\")\n",
    "sewi_dataset"
   ]
  },
  {
   "cell_type": "code",
   "execution_count": 4,
   "id": "261338ab",
   "metadata": {},
   "outputs": [
    {
     "data": {
      "text/plain": [
       "DatasetDict({\n",
       "    train: Dataset({\n",
       "        features: ['id', 'url', 'title', 'text'],\n",
       "        num_rows: 2917\n",
       "    })\n",
       "    validation: Dataset({\n",
       "        features: ['id', 'url', 'title', 'text'],\n",
       "        num_rows: 146\n",
       "    })\n",
       "})"
      ]
     },
     "execution_count": 4,
     "metadata": {},
     "output_type": "execute_result"
    }
   ],
   "source": [
    "wiki_dataset = datasets.load_dataset(\"NetherQuartz/wikipesija\")\n",
    "wiki_dataset"
   ]
  },
  {
   "cell_type": "code",
   "execution_count": 5,
   "id": "2b643cba",
   "metadata": {},
   "outputs": [
    {
     "data": {
      "text/plain": [
       "DatasetDict({\n",
       "    train: Dataset({\n",
       "        features: ['id', 'title', 'description', 'authors', 'proofreaders', 'date', 'date-precision', 'tags', 'original', 'license', 'sources', 'archives', 'preprocessing', 'accessibility-notes', 'notes', 'text'],\n",
       "        num_rows: 1433\n",
       "    })\n",
       "    validation: Dataset({\n",
       "        features: ['id', 'title', 'description', 'authors', 'proofreaders', 'date', 'date-precision', 'tags', 'original', 'license', 'sources', 'archives', 'preprocessing', 'accessibility-notes', 'notes', 'text'],\n",
       "        num_rows: 69\n",
       "    })\n",
       "})"
      ]
     },
     "execution_count": 5,
     "metadata": {},
     "output_type": "execute_result"
    }
   ],
   "source": [
    "poki_dataset = datasets.load_dataset(\"NetherQuartz/poki-lapo\")\n",
    "poki_dataset"
   ]
  },
  {
   "cell_type": "code",
   "execution_count": 6,
   "id": "5da5eb56",
   "metadata": {},
   "outputs": [
    {
     "data": {
      "text/plain": [
       "DatasetDict({\n",
       "    train: Dataset({\n",
       "        features: ['id', 'url', 'text'],\n",
       "        num_rows: 42\n",
       "    })\n",
       "})"
      ]
     },
     "execution_count": 6,
     "metadata": {},
     "output_type": "execute_result"
    }
   ],
   "source": [
    "kule_dataset = datasets.load_dataset(\"NetherQuartz/lipu-kule\")\n",
    "kule_dataset"
   ]
  },
  {
   "cell_type": "code",
   "execution_count": 7,
   "id": "2cc6495f",
   "metadata": {},
   "outputs": [
    {
     "data": {
      "text/plain": [
       "2"
      ]
     },
     "execution_count": 7,
     "metadata": {},
     "output_type": "execute_result"
    }
   ],
   "source": [
    "from transformers import AutoTokenizer\n",
    "\n",
    "tokenizer = AutoTokenizer.from_pretrained(\"NetherQuartz/tatoeba-tok-multi-gemma-2-2b-merged\")\n",
    "\n",
    "def count_tokens(s: str) -> int:\n",
    "    return tokenizer(s, return_tensors=\"pt\")[\"input_ids\"].shape[1]\n",
    "\n",
    "count_tokens(\"hi\")"
   ]
  },
  {
   "cell_type": "code",
   "execution_count": 118,
   "id": "fb306903",
   "metadata": {},
   "outputs": [],
   "source": [
    "import re, unicodedata\n",
    "\n",
    "EMOJI_PATTERN = re.compile(\n",
    "    \"[\"\n",
    "    \"\\U0001F600-\\U0001F64F\"  # emoticons\n",
    "    \"\\U0001F300-\\U0001F5FF\"  # symbols & pictographs\n",
    "    \"\\U0001F680-\\U0001F6FF\"  # transport & map\n",
    "    \"\\U0001F1E0-\\U0001F1FF\"  # flags\n",
    "    \"\\U00002700-\\U000027BF\"  # dingbats\n",
    "    \"\\U000024C2-\\U0001F251\"\n",
    "    \"]+\",\n",
    "    flags=re.UNICODE\n",
    ")\n",
    "\n",
    "def clean_text(\n",
    "    text: str,\n",
    "    remove_emoji: bool = True,\n",
    "    emoji_token: str | None = None,\n",
    "    remove_music_notes: bool = True,\n",
    "    normalize_newlines: bool = True\n",
    ") -> str:\n",
    "    \"\"\"\n",
    "    Щадящая очистка текста:\n",
    "    - удаляет HTML, управляющие, невидимые и частные юникод-символы (󱥁, ,  и т.п.)\n",
    "    - опционально удаляет или заменяет эмодзи\n",
    "    - опционально удаляет музыкальные ноты\n",
    "    - сжимает переносы и пробелы\n",
    "    - нормализует пунктуацию\n",
    "    \"\"\"\n",
    "    if text is None:\n",
    "        return \"\"\n",
    "    text = unicodedata.normalize(\"NFKC\", text)\n",
    "\n",
    "    ELLIPSIS = \"<ELLIPSIS_PLACEHOLDER>\"\n",
    "    text = text.replace(\"...\", ELLIPSIS)\n",
    "\n",
    "    # убрать HTML\n",
    "    text = re.sub(r\"<[^>]+>\", \"\", text)\n",
    "\n",
    "    # убрать невидимые и управляющие символы\n",
    "    text = re.sub(r\"[\\u200b-\\u200f\\uFEFF\\x00-\\x08\\x0b-\\x1f\\x7f]+\", \"\", text)\n",
    "\n",
    "    # удалить \"Private Use Area\" (все диапазоны U+E000–U+F8FF и Plane 15–16)\n",
    "    text = re.sub(r\"[\\ue000-\\uf8ff\\U000F0000-\\U0010FFFF]+\", \"\", text)\n",
    "\n",
    "    # удалить явно мусорные суррогаты (вроде 󱥁)\n",
    "    text = re.sub(r\"[\\ud800-\\udfff]\", \"\", text)\n",
    "\n",
    "    if remove_music_notes:\n",
    "        text = text.replace(\"♪\", \" \").replace(\"♫\", \" \").replace(\"♩\", \" \")\n",
    "\n",
    "    if remove_emoji:\n",
    "        if emoji_token is None:\n",
    "            text = EMOJI_PATTERN.sub(\"\", text)\n",
    "        else:\n",
    "            text = EMOJI_PATTERN.sub(\" \" + emoji_token + \" \", text)\n",
    "    else:\n",
    "        if emoji_token is not None:\n",
    "            text = EMOJI_PATTERN.sub(\" \" + emoji_token + \" \", text)\n",
    "\n",
    "    text = re.sub(r\"[-–—]{2,}\", \" — \", text)\n",
    "    text = re.sub(r\"[`*_~]{2,}\", \"\", text)\n",
    "    text = re.sub(r\"(?m)^\\s*[-=]{2,}\\s*$\", \"\", text)\n",
    "    text = re.sub(r\"([!?;,:])\\1{1,}\", r\"\\1\", text)\n",
    "\n",
    "    if normalize_newlines:\n",
    "        text = re.sub(r\"\\n{2,}\", \"\\n\", text)\n",
    "\n",
    "    text = text.replace(\"\\t\", \" \")\n",
    "    text = re.sub(r\"[ \\u00A0]{2,}\", \" \", text)\n",
    "    text = re.sub(r\" *([,;:!?]) *\", r\"\\1 \", text)\n",
    "    text = re.sub(r\"\\.([^\\s\\.])\", r\". \\1\", text)\n",
    "    text = \"\\n\".join(line.strip() for line in text.splitlines())\n",
    "    text = text.replace(ELLIPSIS, \"...\")\n",
    "    text = re.sub(r\" {2,}\", \" \", text)\n",
    "    text = re.sub(r\"\\b[a-fA-F0-9]{16,}\\b\", \"\", text)\n",
    "    text = re.sub(r\"\\b[a-zA-Z0-9\\-/\\\\;:\\.\\,]{20,}\\b\", \"\", text)\n",
    "    return text.strip()"
   ]
  },
  {
   "cell_type": "code",
   "execution_count": 119,
   "id": "6fcbdd2a",
   "metadata": {},
   "outputs": [
    {
     "name": "stdout",
     "output_type": "stream",
     "text": [
      "---\n",
      "jan Sitata\n",
      "toki open tan jan pi ante toki\n",
      "lipu lili ni li lipu nanpa wan tan lipu suli Sitata · wile kulupu la mi kama pana e lipu nanpa tu · lipu tu taso li lon · o toki e pilin sina e wile sina · toki kulupu la mi ken sona e wile jan ·\n",
      "lipu ni li kama tan kon Eman Ese · taso ni li jan seme? tenpo pini la ona li jan lipu suli · ona li kama tan ma Tosi suli · lipu mute la ona li wile pana e sitelen pi alasa sona · kon jan pi lipu ona li alasa e lon e sona e nasin sewi · kon Ese la nasin mute li ken sewi · nasin wan li nasin taso ala ·\n",
      "jan pi toki pona li lukin e lipu ni la ona o awen sona e ni · lipu ni li pana ala e sona lon pi nasin Puta, li pana ala e nasin sewi pi kon Ese · taso la ona li pana e sitelen wile pi kon Ese: sitelen la jan li ken alasa e lon e sewi kepeken nasin pi ona taso · jan ale o kama sona e lon ona · ken la lon ona li lon pi jan ante ala · taso ni li ike ala · sina wile kama sona lili e nasin Puta lon la mi pana e sitelen lili lon pini lipu · ni la jan li sona pona e ante pi nasin Puta e ante pi nasin Sitata e sitelen pi kon Ese ·\n",
      "lipu Sitata li sitelen lon tenpo pi jan pini Puta · kon Ese li kepeken nimi mute li pana e ma mute tan tenpo pini pi jan Puta, tan lipu pi nasin Puta · jan li sona pona ala e nimi ni la sona lipu li ken nasa · ni la mi pana kin lon pini lipu e nimi ale ni pi toki ante · sina wile kama sona e kon e tan la o lukin · taso o sona kin e ni: mi ante e toki mama pi lipu Sitata la nimi li ken ante · ken la nimi pi toki Inli li kama ante kepeken nimi pi toki pona · ken la nimi tan tenpo pi jan Puta li kama weka, li kama nimi ante kepeken toki pona · mi ante e nimi la mi wile e ni: jan ale li ken sona pona kepeken toki pona ·\n",
      "kulupu o lukin pona, o musi pona a!\n",
      "— jan Kala\n",
      "lipu nanpa wan\n",
      "jan lili pi jan sona sewi\n",
      "jan Sitata li sama waso alasa li pona lukin li jan lili pi jan sona sewi · ona en jan sama Kowinta pi jan sona sewi ante li kama suli lon pimeja tomo, lon suno pi telo linja, lon poka pi tomo tawa telo, lon pimeja pi ma kasi Sawa, lon pimeja pi kasi kili · jan Sitata li lon telo la ona li pana sewi li telo e sijelo kepeken nasin sewi · suno li pimeja lili e selo walo ona · jan Sitata li lon ma kasi kili la kasi li pimeja e lukin ona · ona li musi li kute e kalama pi mama meli ona · ona li nasin sewi li kute e toki pi mama sona ona · tenpo mute la jan Sitata en jan Kowinta li kama sona e nasin toki pi jan sona e nasin lawa · jan Sitata li sona kalama sewi On · ona li ken kalama On kepeken kalama ala lon lawa · ona li kalama sewi kepeken kon insa li ken kalama sewi kepeken kon weka · kalama sewi On la lawa li awen lon kon sewi · kon sona li suno e sinpin lawa · jan Sitata li sona pilin insa e kon pi wan Aman e ale ona e pini ala ·\n",
      "mama sona pi jan Sitata li pilin pona mute a tan sona pi jan lili ona · ona li pilin e kama ona li toki insa a: jan lili mi li kama jan sona sewi suli!\n",
      "mama meli li lukin e jan Sitata la ona li pilin olin a · jan lili ona li pona lukin li wawa li toki suwi tawa ona ·\n",
      "meli lili pi jan sona sewi li lukin e jan Sitata e sinpin suno e lukin pi jan sewi la olin li lon pilin ona ·\n",
      "taso jan ante ale la jan pona Kowinta li olin mute a e jan Sitata · jan Kowinta li olin e kalama uta suwi pi jan Sitata · ona li olin e nasin tawa pi jan Sitata · ona li olin e ale pi jan Sitata · mute la jan Kowinta li olin e kon insa e pilin wawa e wile suli pi jan Sitata · jan Kowinta li sona a: jan Sitata li sama jan sewi ante ala · ona li ike ala li toki nasa ala li powe ala li sama jan mute ante ala a · sama la jan Kowinta li wile ala ike li wile ala sama jan sona sewi mute a · ona li wile kama sona tan nasin pi jan Sitata, tan nasin pi jan pona olin · tenpo kama li lon la jan Sitata li kama sewi li kama jan suli a · ni li lon la jan Kowinta li wile lon poka pi jan Sitata, li wile pana tawa ona, li wile jo e ilo alasa ona, li wile lon pimeja ona ·\n",
      "ni la jan ale li olin e jan Sitata · ona li pana e pona tawa jan ale a · ona li pana e musi tawa jan ale a ·\n",
      "taso jan Sitata sama li pana ala e pona tawa ona, li pana ala e musi tawa ona sama · ona li tawa lon nasin kule pi ma kasi · ona li awen lon pimeja laso pi ma sona · ona li telo e sijelo ale lon telo sewi · ona li pana tawa sewi lon pimeja lili pi ma kasi kili · jan ale li lukin e luka suwi ona li olin e jan Sitata · taso pona en olin li weka tan pilin ona · sitelen lape en toki insa wawa li awen kama lon lawa pi jan Sitata tan linja telo, tan mun lili, tan linja suno · sitelen lape li kama la kon pi jan Sitata li ken ala lape tan seli pi pana sewi, tan lipu pi nasin sewi · lape ala pi kon ona li kama li kama li kama tan toki pi jan sona sewi ante a ·\n",
      "jan Sitata li kama mama e pilin ike pi wile ala lon insa ona · ona li kama toki insa: tenpo ale ala la olin pi mama tu en olin pi jan pona Kowinta li pana e pilin pona e moku sewi e pilin wile · pilin ni li kama weka · jan Sitata li kama pilin e ni: mama ona en jan sona sewi li pana e sona ale ona tawa jan Sitata, li ken ala pana e sona sin · jan sona ante li kule e lawa ona · taso jan Sitata la kule ni li ale ala · kon insa pi jan Sitata li awen wile, li lape ala · kama sona li pini ala · jan li telo e sijelo kepeken nasin sewi la ni li pona · taso telo li weka ala e pali ike, li pona ala e wile kon, li moli ala e monsuta lon pilin · pana sewi en toki sewi li pona mute · taso ni li nasin ale anu seme? pana sewi li pona ala pona e tenpo kama? sewi la seme li lon? sewi Pajapasi li mama ala mama e ma? wan Aman li lon ala lon? sewi la mama li seme? mama li lon ala lon? tenpo en moli li lawa ala lawa e sewi? ni la pana sewi li pona ala pona? jan o pana sewi tawa jan seme? ona o pana ala pana tawa wan Aman taso? wan Aman li awen lon ma seme? ma seme la pilin pi pini ala ona li kalama a? ona li lon insa pi kon jan anu seme? kon sewi pi insa ale! kon sewi lon insa pi jan ale! taso kon ni pi insa ale li lon seme a? toki pi jan sona la kon li sijelo ala, li pilin ala, li toki ala · ni la ona li lon seme a? jan Sitata li toki: mi wile lon ma sewi ni la mi wile lon ma pi kon mi pi wan Aman la, mi o alasa e nasin ante anu seme? taso jan ala li sona e nasin ni · mama en jan sona en kalama pi pana sewi li sona ala a · jan pi sona sewi en lipu sewi ona li sona e ale a · tenpo mute la ona li toki e ale, li pini e sona · ona li sona e pali ma e open toki e open moku e kon insa e kon weka e pilin jan e pali sewi e ale a · taso ona li sona ala e wan suli e wan sewi taso la sona ale ni li suli ala suli?\n",
      "lon la lipu mute li lon li toki e wan insa sewi ni · ni li lipu pona a · lipu la sitelen li toki: kon insa li ma ale · sitelen li toki: jan li lape la ona li lon poka pi kon insa a li awen lon wan Aman · sona wawa li awen lon lipu ni · lipu li poki e sona pi jan pini ale kepeken nimi wawa sama ko suwi tan pipi waso · a, jan o toki ike ala e sona mute pi jan sona mute · taso jan sona ale ni la jan seme li pali a? jan seme li sona taso ala a? jan seme li pali? jan lape li toki tawa wan Aman la jan seme li kama tan lape li kama wan Aman lon tenpo suno a? jan seme li pali li toki e ni? jan Sitata la jan pi sona sewi mute a li lon · suli la mama mije ona li lon li sewi mute · mama pi jan Sitata li jan pona · ona li pali pona, li ike ala, li toki sona · taso ona li sona mute la ona li awen pilin pona, li wile ala anu seme? ona kin li alasa e pona e wile anu seme? ona kin li awen pana tawa sewi, li telo e sijelo kepeken nasin sewi, li alasa e sona tan lipu · tenpo suno ale la ona wawa li weka e pali ike kepeken telo sewi tan seme? wan Aman li lon ala lon pilin ona, li pana ala pana e olin pi pini ala? jan Sitata li toki: mi o alasa a! mi o alasa e sewi lon insa sama mi · ale li alasa · tenpo ale la ona li alasa e nasin pona · taso ona li lon nasin ike ·\n",
      "ni li pilin pi jan Sitata · ni li wile ona li apeja ona ·\n",
      "tenpo mute la ona li lukin e lipu sewi li toki: lon la nimi sewi li sewi Sajan · jan li sona e ni la ona li awen lon ma sewi · tenpo mute la ma sewi li weka ala li poka lon pilin ona · taso tenpo ala la ona li lon · tenpo ala la jan Sitata li pini e alasa, li awen pi wile ala · sama la jan sona ala lon poka ona li kama sona e ma sewi ni · jan sona ala li pini e wile pi pini ala ·\n",
      "jan Sitata li toki tawa jan pona: jan Kowinta o! jan pona mi o kama lon poka mi · o awen lon anpa pi kasi suli ni · mi tu o awen lon kon · o wan e lawa ·\n",
      "ona tu li tawa kasi suli, li awen lon pimeja ona · jan Sitata li open li kama kalama On la ona li toki tan lipu sewi:\n",
      "kalama sewi On pi ijo ale li sama ilo alasa ·\n",
      "kon insa li sama palisa alasa ·\n",
      "sewi li sama sike alasa ·\n",
      "jan o alasa e sike ·\n",
      "o pana e palisa lon insa kepeken ilo ona\n",
      "tenpo pona li kama li pini la jan Kowinta li kama tan awen · suno li kama pimeja · tenpo pi nasin sewi li lon · ona li toki tawa jan Sitata · jan Sitata li toki ala · jan Sitata li awen lon sitelen insa · ona li lukin tawa sike alasa weka · uta ona la kon li kama ala kama? ni la ona li awen · toki insa li poki e sijelo ona · toki insa li kalama sewi On · kon ona li alasa e sewi Paman sama palisa alasa ·\n",
      "tenpo pini wan la kulupu Samana li kama tawa ma lili pi jan Sitata · kulupu Samana li jan pi jo ala li alasa e wile ala · sijelo li sama palisa li wawa ala · ona li lili ala li suli ala li kepeken len lili · suno li seli pimeja e selo ona · pilin wan li poki e ona · ona li jan ike tawa jan ale li sama soweli lon ma jan · monsi kulupu la kon seli li tawa · ona li kon pi kalama lili · taso kalama kon li toki e utala mute e nasin pi wile ala e pakala sijelo ·\n",
      "suno li kama weka la tenpo pi pilin insa li kama pini · jan Sitata li toki tawa jan Kowinta: jan pona o, suno li kama sin la jan Sitata o tawa kulupu Samana · ona li kama jan Samana pi wile ala ·\n",
      "tenpo lili la jan Kowinta li kama sona e ni: jan Sitata li open e nasin sewi sin · tenpo kama ona li kama lon · ni la tenpo mi li kama sin · selo ona li kama walo mute sama selo kili pi telo ala ·\n",
      "jan Kowinta li toki: jan Sitata o! mama sina li wile ala wile e nasin ni? ona la sina ken ala ken jan Samana?\n",
      "jan Sitata li lukin e ona kepeken lukin lape · tenpo lili a la ona li lukin sona e kon insa pi jan Kowinta · lukin ona li sama palisa alasa li alasa e sona kepeken tenpo lili · ona li sona e monsuta lon insa pi jan Kowinta · ona li lukin li sona e nasin anpa lon insa pi jan Kowinta ·\n",
      "jan Sitata li toki lili: jan Kowinta o · mi tu o toki e lon · suno li kama sin la mi open sin e nasin pi kulupu Samana · o toki ala e ni · jan ala o sona ·\n",
      "jan Sitata li tawa tomo pi mama mije ona · mama li lon supa pi linja kasi · jan Sitata li tawa lon monsi pi mama ona, li awen lon, li kalama ala · mama ona li pilin e lon pi jan ante · jan sona sewi ni li toki: jan Sitata o, sina lon ala lon? o toki e wile sina ·\n",
      "jan Sitata li toki: mama mi o, mi kama · sina ken e mi la mi wile tawa weka tan tomo sina · suno li kama sin la mi wile tawa kulupu Samana pi wile ala · sina ken e ni la mi wile kama jan ni ·\n",
      "tenpo suli la mama pi sona sewi li kalama ala · tenpo pi kalama ala li suli mute la mun lili lon sewi pimeja li tawa li ante · kalama li awen weka · mije lili li awen wawa li kalama ala · mama sona li awen lon supa li kalama ala · mun li tawa lon nasin sewi · tenpo li pini la mama li toki · jan pi nasin sewi o toki ike ala o toki pona taso · taso insa pi pilin mi la ike li lon · mi wile ala kute sin e toki ni tan uta sina ·\n",
      "mama sona li kama tan supa kepeken tenpo suli · mije lili li awen, li kalama ala ·\n",
      "sina awen tan seme a? · mama li toki ·\n",
      "ni la jan Sitata li toki: sina sona e tan ·\n",
      "mama li awen pilin ike, taso ona li tawa tan tomo · mama li tawa tomo lape li kama lon supa ona ·\n",
      "jan sona sewi li awen lon supa lape, taso lape li kama ala · ona li kama tan supa, li tawa mute, li tawa weka tan tomo lape · ona li lukin lon insa tomo kepeken lupa lili · insa la ona li lukin e jan Sitata · jan Sitata li awen lon, li kalama ala · walo li suno e len ona · monsuta li awen lon pilin la mama sona li tawa supa lape ·\n",
      "jan sona sewi li awen lon supa lape, taso lape li kama ala · ona li kama sin tan supa, li tawa mute, li tawa weka tan tomo li lukin sewi · mun li suli lon sewi a · tenpo sin la ona li lukin lon insa tomo kepeken lupa lili · jan Sitata li awen lon, li kalama ala · suno mun li jasima lon noka ona · taso monsuta li awen lon pilin la mama sona li tawa supa lape ·\n",
      "tenpo mute la ona li awen lon supa, li lape ala, li kama tan supa, li lukin lon insa tomo, li lukin e awen wawa pi jan Sitata · mije lili li awen lon suno pi mun lili lon len pi pimeja tomo · tenpo sin la mama li lukin lon insa tomo · ona li lukin e jan Sitata pi tawa ala lon ma sama la pilin ona li kama ike · pilin ona li ken ala lape li ken ala pona li ken ala suwi ·\n",
      "tenpo pimeja li kama pini la mama li kama sin · ona li tawa tomo pi jan Sitata li lukin e ona · taso ona li lukin la mije lili li suli, li wawa, li sama jan ante ·\n",
      "mama li toki: jan Sitata o, sina awen tan seme? ·\n",
      "sina sona e tan a ·\n",
      "tenpo ale la sina wile awen a anu seme? sina wile lukin e sike ale pi tenpo suno lon ma sama anu seme? ·\n",
      "mi awen a ·\n",
      "sijelo sina li wile lape, jan lili o ·\n",
      "sijelo mi li wile lape ·\n",
      "sijelo sina li kama lape, jan lili o ·\n",
      "mi lape ala ·\n",
      "sina kama moli, jan lili o ·\n",
      "mi kama moli a ·\n",
      "ni la wile sina li moli · sina wile ala kute e wile pi mama sina, li wile moli a ·\n",
      "tenpo ale la jan Sitata li kute e wile pi mama ona ·\n",
      "ni la sina tawa kulupu Samana anu seme? ·\n",
      "jan Sitata o kute e wile pi mama ona ·\n",
      "suno li kama li walo e pimeja tomo · mama sona li lukin la noka pi jan Sitata li tawa lili tan weka wawa · taso sinpin pi jan Sitata la wawa li lon · lukin ona li tawa ala, li lukin e ma sama lon weka · ni la mama li kama sona: jan lili Sitata li awen ala lon tomo sama · kon ona li tawa a ·\n",
      "mama li luka e sijelo pi jan Sitata ·\n",
      "mama li toki: sina o tawa ma kasi, o kama jan Samana: jan pi wile ala · sina kama sona e nasin pi pona wawa lon ma kasi la o kama sin tawa ma ni o pana e sona tawa mi · mi wile sona e nasin pi pona wawa · sina kama sona ala e nasin ni la o kama sin tawa ma ni o awen pali e nasin sewi lon poka mi · o tawa a · o uta e mama meli sina · o toki e pali sina · taso mi la tenpo pi telo sewi li lon ·\n",
      "ona li weka e luka tan sijelo pi jan Sitata li tawa weka · jan Sitata li wile tawa noka la sijelo ona li wawa ala · ona li lawa e sijelo ona, li anpa tawa mama ona lon noka, li tawa mama meli · ona li kute e toki pi mama ona ·\n",
      "ona li tawa kepeken noka kiwen a · open pi tenpo suno li kama lon kulupu tomo lili la pimeja anpa li kama sewi lon tomo wan: ona li jan Kowinta ·\n",
      "jan Sitata li uta pona, li toki tawa jan Kowinta: sina lon ·\n",
      "jan Kowinta li lukin e jan pona: mi lon a ·\n",
      "lon kulupu Samana\n",
      "suno li tawa anpa la jan tu ni li tawa kulupu Samana pi jo ala pi wile ala · ona li kute e kulupu Samana, li awen lon poka ona · kulupu li ken e lon ona ·\n",
      "jan Sitata li pana e len ona tawa jan sona pi mani lili · ona li kepeken len lili taso pi kule ma · tenpo wan taso la ona li moku · ona li moku ala e ijo seli · tenpo suno mute la ona li moku ala · tenpo mun mute la ona li moku ala · sijelo ona li kama lili sama palisa · lukin suli ona la sitelen lape li seli · palisa luka la selo li sama kiwen · sinpin la linja lawa mute li kama lon · meli li lon la lukin ona li kama lete · jan mani pi len kule li lon la uta ona li jasima e pilin ike · jan esun li esun · jan lawa li alasa · jan lili li pilin ike tan moli mama · jan unpa li unpa · jan misikeke li wile pona e sijelo ike · jan pi nasin sewi li alasa e sona pi tenpo pan · jan olin li olin · jan mama li mama e jan lili · taso ale ni la jan Sitata li lukin ala · ona la ale ni li ike li nasa li powe · ale ni li kama ala e pilin pi pona ale, li nasin sewi ala · ale ni li sama moku nasa · nasin jan li ike ·\n",
      "jan Sitata la wile wan taso li lon: wile pi wile ala · ona o wile ala e moku e wile e pilin ike e pilin pona · kon jan ona o jan ala · ona o awen lon pilin pona kepeken pilin pi insa ala · kon ona o open a · ni taso li wile ona · mi lawa e pilin jan la pilin jan mi li moli · pilin jan li moli la wile ale li pini e kalama li weka tan pilin mi · wile ale li weka tan pilin mi la insa lon pi ale mi o kama · insa ni li mi ala · ona li lon ale ·\n",
      "kalama ala la suno sewi li seli e selo pi jan Sitata · pilin ike tan seli li wawa a · wile telo li wawa a · taso ona li awen lon suno · ona li awen tawa weka pi wile telo, tawa weka pi pilin ike · kalama ala la ona li awen lon telo lete · telo li kama tan sewi li lete e luka ona e noka ona la jan pi nasin sewi li awen a · ona li awen tawa weka pi pilin lete, tawa weka wile · ona li awen la pilin lete o kalama ala, o weka a · kalama ala la ona li awen lon kasi pi palisa kipisi · telo loje li kama tan selo seli ona · telo walo li kama tan pakala sijelo ona · taso jan Sitata li awen kiwen, li tawa ala · ona li awen tawa weka pi telo loje, tawa weka pi pilin kipisi, tawa weka pi pilin ike ·\n",
      "jan Sitata li kama sona mute · ona li awen la sijelo ona li pona · ona li awen la kon insa en kon weka li lili · kama sona la ona li ken awen kepeken kon ala · ona li kepeken kon sijelo la ona li ken lili e tawa pi pilin ona · kalama tan pilin ona li kama lili ·\n",
      "jan Sitata li kama sona e nasin pi weka wile e nasin pi awen insa tan jan Samana suli · ona li kepeken nasin lawa pi kulupu Samana · ma kasi la waso suli li tawa lon sewi · jan Sitata li insa e waso ni lon kon ona, li tawa lon sewi pi ma kasi, li tawa lon sewi pi nena kiwen a · ona li kama waso suli, li moku e kala, li pilin e wile moku · ona li mu waso, li moli sama waso · poka telo la soweli moli li awen lon ko kiwen · kon pi jan Sitata li kama lon insa pi sijelo soweli · ona li kama soweli moli, li awen lon poka telo · insa sijelo ona li kama jaki · soweli alasa li moku e ona · waso alasa li weka e selo ona · sijelo ona li kama palisa moli, li kama ko lili, li kama weka lon kon tawa · ni la kon jan pi jan Sitata li kama sin lon sijelo ona · ona li moli, li kama jaki, li kama weka sama ko lili · ona li sona e nasin jaki pi sike ni la ona li awen wawa tawa pini sike sama jan alasa lon kasi · sike ona li pini la ale pi ike ala li ken open · ona li moli e pilin ona e sona lawa ona · ona li weka tan pilin jan ona, li kama ante · ona li kama soweli, li kama waso, li kama kiwen, li kama kasi, li kama telo · taso ona li kama sin la ona li ona sama pi tenpo pini · ona li pilin sin e sike wile · ona li lawa e wile ni · taso pilin sin pi wile ante li kama ·\n",
      "kulupu Samana la jan Sitata li kama sona mute a · ona li tawa noka lon nasin sin mute la ona li ken tawa lon nasin sewi, li ken weka tan pilin jan · ona li tawa lon nasin pi wile ala kepeken pilin ike · ona li alasa e pilin ike, li lawa e ona · ona li lawa e wile moku e wile telo e wile lape · jan Sitata li awen insa la ona li tawa lon nasin pi wile ala · ona li awen lon insa lawa, li weka e toki insa ale · ona li kama sona e nasin ni e nasin ante · tenpo mute la ona li kama weka tan ona sama · ona li awen pi jan ala · nasin ni la ona li ken tawa weka tan kon jan · taso tenpo ale la ona li kama sin tawa ona sama, tawa kon jan · tenpo mute la jan Sitata li awen pi ona sama ala · ona li awen lon ala, li awen lon soweli, li awen lon kiwen · taso tenpo ale la ona li kama sin · ona li ken ala weka tan poki ni · ona li kama sin lon suno anu mun, li kama sin lon pimeja anu telo sewi, li kama ona sama Sitata lon tenpo sin la pilin ike wawa li kama sin a · ona li pilin ike tan sike ni: sike pi weka ala ·\n",
      "poka pi jan Sitata la jan Kowinta li awen · ona li sama pimeja jan, li tawa lon nasin sama, li pali sama · tenpo lili la ona tu li toki · ona li toki e nasin taso e pali taso · tenpo pi mute lili la ona tu li tawa kulupu tomo · ona li anpa, li alasa e moku tawa ona anu jan kulupu ona ·\n",
      "jan Sitata li lon kulupu tomo la ona li toki: jan Kowinta o, mi tu li kama sona e seme? mi tu li kama pona kepeken nasin ni anu seme?\n",
      "ni la jan Kowinta li toki: mi kama sona, li awen kama sona · jan Sitata o, tenpo kama la sina jan Samana pona a · sina kama sona e nasin pali ale kepeken tenpo lili · tenpo mute la jan Samana pi sona mute li toki sewi e sina · tenpo kama la sina kama jan sewi a, jan Sitata o ·\n",
      "jan Sitata li toki: jan pona o, pilin mi la ni li lon ala a · mi jan Samana la mi kama sona mute · taso jan Kowinta o, nasin ale ni la mi ken kama sona kepeken tenpo lili, kepeken pali lili · nasin ni la mi ken kama sona lon tomo ale pi telo nasa anu tomo pi pali soweli · jan pona mi o, mi ken kama sona e nasin ni lon kulupu pi jan pali anu jan pi wile mani ·\n",
      "jan Kowinta li toki: jan Sitata li musi taso a · nasin seme a la sina ken kama sona e nasin sewi pi awen lawa e nasin kon e nasin lawa pi wile telo lon kulupu ike pi jan ni a?\n",
      "jan Sitata li toki kepeken kalama lili · uta ona li tawa ala · lukin ona li lon noka: nasin pi awen insa li seme a? weka sijelo li seme a? moku ala li seme a? kon ala li seme a? ona li pilin monsuta la ona li wile tawa weka tan pilin jan · jan li wile ala pilin e sike la ona li weka e pilin ike kepeken nasin ni · ona li ken ala pilin pona lon poka ale la ona li wile tawa lili · tenpo lili taso la pilin li weka · ni li sama nasin pi jan pali ma · ona li sona e nasin ni lon tomo pi telo nasa · ona li moku e telo pan e telo kili nasa la ona li pilin jan ala · pilin ike ale li kama weka · pilin ale ona li pilin ala · ona li kama lape tan telo nasa la ona li kama sona e pilin sama pi jan Sitata, pi jan Kowinta · ona tu li tawa weka tan sijelo kepeken nasin sewi li awen insa pi jan ala la ona li pilin sama · jan Kowinta o, ni li nasin a ·\n",
      "jan Kowinta li toki: sina toki e ni a · taso jan pona o, sina sona e ni: jan Sitata li jan pi pali ma ala a · jan pi kulupu Samana li jan pi telo nasa ala a · lon la jan li ken moku e telo nasa, li ken kama weka tan pilin a · ona li kama weka kepeken tenpo lili, li lape, li kama sin a · taso ona li kama sin la ona li kama sona ala · ale li sama · sona li sin ala · ona li kama sewi ala a lon nasin ni ·\n",
      "jan Sitata li uta pona, li toki a: mi ken ala sona · tenpo ala la mi moku mute e telo nasa · taso jan Kowinta o, mi sona a e ni: tenpo lili taso la mi Sitata li ken weka tan pilin kepeken nasin sewi anu awen insa · mi sama li kama weka ala tan sike ni · mi sama jan lili lon insa mama a · mi sona a e ni ·\n",
      "tenpo sin li kama la jan Sitata en jan Kowinta li tawa tan ma kasi, li tawa kulupu tomo tan wile moku · jan Sitata li kama toki: tenpo ni la, jan Kowinta o, mi tu li lon ala lon nasin pona? mi kama ala kama weka tan sike ale? mi kama ala kama sona e nasin ale? ken la mi tu pi sike ala li awen lon sike?\n",
      "jan Kowinta li toki: jan Sitata o, mi kama sona mute · mi tu o awen kama sona · mi tawa sike ala · mi tawa sewi · sike li sama sike mute, li tawa sewi · mi tu li tawa sewi mute lon sike ni ·\n",
      "jan Sitata li toki: kulupu Samana la jan Samana wan li suli mute li pana e sona · tenpo seme la jan Samana ni li sike e suno? suli ona li seme a?\n",
      "jan Kowinta li toki: pilin mi la ona li sike mute e suno li suli mute ·\n",
      "jan Sitata li toki e ni: ona li suli mute · taso awen la ona li weka ala tan sike wile, tan sike jan · tenpo kama la ona li sike mute a, li awen kama suli sama mi tu · mi tu li kama suli, li lon nasin sama · mi wan e toki lawa, li awen lon lawa, li moku lili a · taso tenpo ala la mi kama weka tan sike wile · ona en mi en sina li weka ala · jan Kowinta o, mi pilin e ni: ken la jan Samana ala li kama weka tan sike wile, li kama awen pi sike ala · jan ala a · nasin ni la mi lukin e pilin pona e weka pilin e nasin sewi · jan ante la nasin ni li wawa · taso ijo wan taso li suli a · nasin wan taso li nasin lon a · nasin ni la mi tu li kama ala lukin ·\n",
      "jan Kowinta li toki: sina o toki ala e nimi ike ni, jan Sitata o! ni li ken ala a! kulupu pi jan sona sewi Paman en kulupu pi jan Samana en kulupu pi jan alasa li lon · jan mute a li alasa e nasin lon · nasin seme la sina ken toki e ni: jan ala li kama sona e nasin lon wan?\n",
      "taso jan Sitata li toki kepeken kalama pi pilin ike, kepeken kalama pi toki musi · ona li toki ike, li toki musi: jan Kowinta o, tenpo kama lili la jan pona sina li kama weka tan nasin pi jan Samana · tenpo suli la ona li awen lon poka sina · wile telo li pakala e mi, jan Kowinta o · nasin suli ni pi jan Samana la wile telo mi li awen wawa a · tenpo ale la telo mi li sona · tenpo ale la mi toki tawa jan sona la mi alasa e sona · sike mute la mi alasa e sona pi jan sewi Paman · sike mute la mi alasa e sona pi lipu sewi Weta · sike mute la mi alasa e sona pi jan Samana · jan Kowinta o, ken la mi o alasa e sona pi soweli jan lon ma kasi · ken la soweli li sona e nasin a · tenpo suli la mi kama sona · taso mi pini ala e kama sona ni: jan Kowinta o, kama sona li lon ala! pilin mi la kama sona li lon ala · jan pona o, sona wan taso li lon a, li lon ma ale · sona ni li kon Aman, li lon insa mi, li lon insa sina, li lon insa pi soweli ale a · ni la mi open pilin a · ken la ike li wile pi sona ni · kama sona pi sona ni li pakala suli a ·\n",
      "jan Kowinta li kute e ni la ona li pini e tawa ona, li sewi e luka ona · ona li toki: jan Sitata o, sina o nasa ala e jan pona sina kepeken toki nasa ni a! lon la nimi sina li kama e monsuta lon pilin mi · sina o pilin insa a: kama sona li lon ala, li sama toki sina la toki sewi pi jan Paman en nasin sewi pi jan Samana li seme a? jan Sitata o, toki sina li lon la sewi ale ni li kama seme a? !\n",
      "jan Kowinta li kalama lili e toki sewi tan lipu Upanisa: jan li weka e jaki tan kon, li kama awen lon wan pi kon Aman la ona li pilin e pona pi nimi ala lon insa ona ·\n",
      "taso jan Sitata li kalama ala · ona li toki insa e nimi ale pi jan Kowinta · ona li kute insa e kalama ale pi nimi ni ·\n",
      "lon la ona li anpa e lawa li toki insa: sewi ale la seme li kama? seme li awen a? seme li weka ala, li lon a? ona li anpa e lawa a ·\n",
      "tenpo pini wan la jan mije tu li awen lon kulupu Samana li kute e toki lili a tan jan ante: jan pi nimi Kotama li lon · ona li jan sewi, li jan pi sona suno, li kama weka e pilin ike ale lon insa ona, li weka tan sike wile · ona li moli la ona li kama sin ala lon jan ante · toki la ona li tawa lon ma, li pana e sona · jan mute li awen lon poka ona, li jo ala, li lon tomo ala, li unpa ala, li kepeken len jelo pi jan nasin · taso sinpin ona li pana e pilin pona · jan sona sewi en jan lawa li anpa tawa ona, li kama sona tan nasin ona ·\n",
      "kalama pi toki sewi lili ni li awen a · ona li kama kalama toki lon kulupu tomo, lon uta pi jan sona Paman, lon ma kasi, lon kulupu pi jan Samana · tenpo mute la nimi pi jan Kotama pi jan Puta ni li kama lon kute pi jan mije ni · jan Puta la toki ike en toki pona li kama tawa kute pi jan ante ·\n",
      "toki ni li sama jaki wawa a · jaki li tawa jan, li moli e ona, li ken ala kama pona kepeken misikeke · toki pi jan sona ni li tawa ma ale · mije pi sona mute li lon · kon uta en toki ona li ken misikeke tawa jan ale, li pona e jaki insa ale ona · toki ni li tawa ma ale la jan mute li pilin e ni: toki ni li ken ala lon a · sona pi mije ni li lon ala a · taso jan mute li pilin e ni: toki ni li lon a! tenpo lili la mi o tawa, o alasa e pana sona pi mije wawa ni a! mi o sona e wawa pi jan Kotama, pi jan Puta, pi jan sewi sona tan kulupu Saka! jan pi pilin lon la ona li jo e sona pi lon ale a · ona li ken lukin e tenpo pini, li ken sona e pali pini ona · ona li weka tan sike wile la tenpo ala la ona li kama sin li pilin sin e ike · tenpo ala la ona li kama sin lon sijelo a · ona sewi la toki pi pona mute li lon a · toki la ona li ken pali e pali pi ken ala · ona li ken toki tawa sewi a · ona li anpa e sewi ike a · taso jan ante la toki ni li lon ala · ona li toki: jan Kotama ni li jan powe a · ona li awen pona kepeken mani taso a · ona li kama sona ala · ona li sona ala e nasin pi pali sewi, li sona ala e nasin pi weka wile!\n",
      "toki ni pi jan Puta li suwi a · ona li sama kon suwi pi kasi kule · ma li jaki a · awen li kama e pilin ike · taso ken li kama lon a · jan sin li kama lon, li toki e ken suwi e ken sewi · ma ale la toki pi jan Puta li lon · jan ale pi ma Palata li kute e toki ni · mije li kute, li pilin e wile insa · jan weka li tawa kulupu pi jan sona sewi Paman la jan ale li kute e toki pi jan sewi: jan Sakamuni ·\n",
      "sama la toki ni li tawa kulupu Samana lon ma kasi · ona li tawa kute pi jan Sitata, li tawa kute pi jan Kowinta · tenpo suli la toki li kama lili, li kama lili, li kama · jan la toki li pana e wile sona · taso jan li sona ala e lon · tenpo ala la jan pi kulupu Samana li wile toki e ale ni · jan suli Samana la ona li ike a · jan suli li kute e ni: tenpo pini la jan Puta ni li sama jan Samana pi wile ala lon ma kasi · taso ona li tawa weka tan nasin Samana tan ma kasi, li tawa nasin pi ma wile · ona la jan Kotama ni li pona ala ·\n",
      "tenpo suno wan la jan Kowinta li toki tawa jan pona ona · jan Sitata o, suno ni la mi lon kulupu tomo la jan sona Paman pi nasin sewi li toki tawa mi: o kama lon tomo mi a! · insa tomo la jan lili li lon · mama ona li jan tan ma Makata · ona li lukin e jan Puta a, li kute e pana sona ona! lon la ni li pilin ike lili e sijelo mi · mi insa e kon, li toki insa: mi tu o kute e sona tan uta pi mije sewi ni a! · jan pona o, mi tu li wile ala wile tawa ma ni? mi wile ala wile kute e sona tan uta pi jan Puta a?\n",
      "jan Sitata li toki: tenpo ale la mi pilin insa e ni: jan Kowinta li wile awen lon ma pi kulupu Samana, li wile awen lon nasin sama ni, li wile kama jan suli Samana · taso tenpo ni la mi lukin a! mi sona pona ala e jan Kowinta! mi sona lili e pilin ona · ni la sina pona, li wile open e nasin sin · sina wile tawa ma toki pi jan Puta ·\n",
      "jan Kowinta li toki: sina toki ike taso e mi · sina wile la o toki ike, jan Sitata o! taso sina sama, li kama ala kama pilin e wile ni? sina wile ala wile kute e sona ni a? sina toki ala toki tawa mi e ni sama: mi wile ala awen lon nasin ni pi kulupu Samana a ·\n",
      "toki ni la jan Sitata li kalama musi a · kalama uta la pilin ike lili li lon · taso kalama pi musi ike li lon kin · ona li toki: jan Kowinta o, sina toki pona · sina awen sona e lon e toki pini mi · taso sina o awen sona e ijo ante a · tenpo pini la sina kute e toki ante tan mi · ijo la mi sona ala e lon pi sona ale ni · nimi li mute · taso sona lon li lili a · jan mute li pana e sona · tenpo suli la mi lon nasin pi kama sona · taso tenpo ni la mi kama pilin e ni: nimi li ken ala sona lon a · taso mi kin o tawa, jan suwi o! mi o kute e sona sin · taso pilin mi la nimi sin ni li pana ala e kili sin ·\n",
      "jan Kowinta li toki: wile sina li pona mute e pilin mi · taso sina o toki a: nasin seme la ni li ken? tenpo ala la mi kute e sona pi jan Kotama · nasin seme la sona ni li ken kili sin ala?\n",
      "jan Sitata li toki: mi o moku e kili ni la mi kama sona, jan Kowinta o! taso kili ni pi jan Kotama li weka e mi tu tan nasin pi kulupu Samana! ona li ken pana e ijo pona e sona ante la mi tu o awen, o kama sona ·\n",
      "tenpo suno sama la jan Sitata li toki e ale ni tawa jan suli wan tan kulupu Samana · ona li toki e wile tawa · ona li toki kepeken ike ala, li toki pona e wile ni tawa jan suli sama jan lili pi kama sona · taso jan suli Samana li kama pilin ike mute · mije tu li wile tawa weka tan kulupu ona · ona li toki ike, li kalama mute ·\n",
      "ni li apeja e jan Kowinta · taso jan Sitata li kama lon poka pi kute ona, li toki tawa jan Kowinta kepeken kalama lili · tenpo ni la mije suli ni o kama sona e ken mi · mi kama sona e ijo tan ona ·\n",
      "jan Sitata li tawa poka pi jan Samana, li lukin wawa e sinpin ona · ona li lukin wawa kepeken kon insa wawa, kepeken pilin wawa · ona li poki e lukin pi jan suli kepeken lukin wawa ona · ona li weka ale e wawa insa tan jan suli li weka e ken pali ona · wile pi jan Sitata li kama lawa e jan Samana · ona li ken ala pali kepeken wile ona · wile ona li kute e wile pi jan Sitata taso · jan Sitata li toki e wile tawa ona la ona li pali e wile ale kepeken kalama ala · jan suli ni li kalama uta ala · lukin ona li tawa ala · ken pali ona li weka · luka ona li tawa anpa · wawa ala la jan Sitata li lawa e ale ona · toki en wile insa pi jan Sitata la jan Samana li pali e ale · ona li kute taso e wile ni · ni la jan suli Samana li anpa mute · ona li luka pona, li toki pona e nasin kama pi mije tu · ona li toki e wile pona tan tawa weka ona · ni la mije tu ni li anpa a, li toki sama kepeken uta pona · ona tu li tawa ·\n",
      "nasin la jan Kowinta li toki: jan Sitata o, sina kama sona mute a tan kulupu Samana · mi sona ala a! jan pi mute lili li ken lawa e jan Samana kepeken wawa nasa · ni li wawa mute a · lon la mi pilin e ni: sina awen lon kulupu Samana la sina ken tawa noka lon telo ·\n",
      "jan Sitata li toki: mi wile ala tawa noka lon telo · jan suli Samana o pilin pona tan ken ni!\n",
      "jan Kotama\n",
      "ma tomo Sawasi la jan lili ale li sona e nimi pi jan sewi Puta · tomo ale li wile pana e moku tawa jan nasin pi jan Kotama · ona li wile e mani, li kalama ala · poka pi ma tomo la ma kasi Setawana li lon · ni li ma pona tawa jan Kotama · jan esun Anatapinsika li jo e mani mute la ona li anpa tawa pana sona pi jan Puta, li pana e ma ni tawa kulupu nasin ona ·\n",
      "jan tu pi alasa nasin li kama lon ma pi jan Kotama kepeken kute pi toki ale · ona li tawa ma Sawasi la jan li open pana e moku tan tomo ona · meli tomo li pana e moku la jan Sitata li toki:\n",
      "jan pi pana pona o, mi tu li wile sona e ma pi jan sewi Puta · mi tu li kama tan ma kasi tan kulupu Samana, li alasa e jan sewi ni · mi alasa e sona tan uta ona ·\n",
      "meli li toki: sina pi kulupu Samana li kama tawa ma pona a · sina o sona e ni: ma kasi Setawana pi jan Anatapinsika la jan sewi li lon · ma ni la sina pi ma ante li ken lape · ma mute li lon tawa jan ante · ni la jan ale li ken kute e sona tan uta ona ·\n",
      "jan Kowinta li pilin pona mute tan toki ni la ona li toki: ni la mi tu li lon ma wile a! nasin li pini! taso, mama pi jan ante o toki a! sina sona ala sona e jan Puta kepeken lukin sina? ·\n",
      "meli li toki: tenpo mute la mi lukin e ona sewi · suno mute la mi lukin e ona · ona li tawa kepeken kalama ala kepeken len jelo ona · ona li tawa tomo, li wile e moku lon poki suli ona, li tawa weka lon poka pi moku ona ·\n",
      "pilin pona la jan Kowinta li kute, li wile kute e mute tan jan ni · taso jan Sitata li toki: mi o awen tawa a · ona li toki pona tawa meli, li lukin e jan mute a · jan mute pi ma ante en jan alasa pi nasin sewi tan kulupu pi jan Kotama li tawa ma kasi Setawana · ona li kama lon ma kasi lon tenpo pimeja la jan mute li kama, li toki e wile pi ma lape, li kama jo · jan Samana tu li awen pi tenpo suli lon ma kasi la ona li kalama ala, li alasa e ma lape kepeken tenpo lili · ona li lape li awen e kama suno ·\n",
      "suno li kama la ona li lukin wawa e kulupu suli pi jan mute a · jan pi wile sona en jan nasin li lape lon ma ni · nasin ale pi ma suwi la jan nasin li tawa kepeken len jelo · anpa kasi la ona li awen · ona li toki e nasin sewi · anu ona li tawa ala · ma kasi pimeja li sama ma tomo suli a · jan mute li kama, li tawa · jan nasin mute li tawa lon poka pi poki moku, li alasa e moku lon ma tomo · tenpo wan taso la ona li moku lon tenpo suno · jan Puta pi sona suno li alasa kin e moku lon tenpo ni ·\n",
      "jan Sitata li lukin e ona · tenpo ala la ona li sona kepeken wawa sewi e ni: jan ni li jan Puta · ona li lukin e mije pona pi len jelo · ona li tawa noka kepeken kalama ala, li jo e poki moku ·\n",
      "o lukin a! · jan Sitata li kalama lili tawa jan Kowinta: jan ni li jan Puta!\n",
      "ni la jan Kowinta li lukin e jan pi nasin sewi pi len jelo · ona li sama jan nasin ale, li nasa ala · taso tenpo lili la jan Kowinta li kama sona e ni: ni li jan suli a · ona tu li tawa lon monsi ona, li awen lukin ·\n",
      "jan Puta li awen tawa, li toki ala · sinpin ona la ona li pilin pona ala, li pilin ike ala · taso, insa pi kalama ala la uta ona li pona · uta pona len ni la jan Puta li tawa noka kepeken pilin awen, kepeken kalama ala, sama jan lili pi sijelo wawa · ona li kepeken len jelo, li tawa noka kepeken nasin pi jan nasin ante ale · taso sinpin en nasin tawa en lukin anpa en luka ale ona la pilin pi pona awen li lon · ale a li pona · ala li ike · ona li alasa ala · ona li wile ala · kon ona li insa, li weka kepeken nasa ala, li sama suno wawa a · ala li ken pakala e pilin awen ona ·\n",
      "ni la jan Kotama li tawa lon nasin pi ma tomo, li alasa e moku · jan Samana tu li sona lukin e ona kepeken pona ale ona, kepeken kalama ala ona, kepeken nasin ona pi wile ala, pi wawa ala · suno en pilin awen taso li lon ·\n",
      "jan Kowinta li toki: suno ni la mi kama kute e sona tan uta ona ·\n",
      "jan Sitata li toki ala · jan Sitata li wile lili kute e pana sona ona · ona li pilin e ni: mi kama sona ala · sona sin li ken ala lon · tenpo mute la ona en jan Kowinta li kute e sona pi jan Puta tan uta pi jan ante taso · taso ona li lukin wawa e lawa pi jan Kotama e sijelo ona e noka ona e luka ona pi kalama ala · lukin pi jan Sitata la sijelo ale pi jan Kotama li pana e sona lon, li sama suno sona · mije ni a — jan Puta ni — li jo e sona lon sijelo ale ona · luka lili ona la sona li lon! mije ni li sewi a · tenpo ala la jan Sitata li olin wawa e jan ante sama jan ni ·\n",
      "ona tu li tawa lon monsi pi jan Puta, li tawa ma tomo · ona li kama sin tawa ma kasi, li kalama ala · ona kin li wile ala kalama lon suno ni · ona li lukin e kama sin pi jan Kotama · moku ona li lili mute · waso lili la ona li moku lili, li pona ala e sijelo · lukin ona la jan Puta li tawa pimeja pi kasi kili ·\n",
      "taso pimeja li open kama la seli li lete lili · jan ale pi ma kasi li kama toki, li kama kulupu · ona li kute e sona pi jan Puta · ona li kute e kalama uta ona · ona la pona ale taso li lon · pilin pi pona awen li lon ona · jan Kotama li pana e sona pi pilin ike · ona li toki e tan pi pilin ike · ona li toki e nasin pini pi pilin ike · kalama lili la toki ona li awen · ale la pilin ike li lon · ma la pilin ike li lon · taso pini pi pilin ike li lon kin: jan li kepeken nasin pi jan Puta la ona li ken pini e pilin ike · jan sewi li toki kepeken kalama uta suwi wawa · ona li pana e sona pi nasin tu tu e sona pi nasin ona · ona li toki e nasin pi sona ona sama tenpo ante · kalama uta ona li awen lon sewi pi jan kute sama suno pi mun sewi ·\n",
      "tenpo pimeja la kama la jan Puta li pini toki · jan mute pi ma ante li kama, li wile lon kulupu ona · ona li wile awen lon nasin pi sona ona · jan Kotama li ken e ni, li toki: sina kute pona e sona · ona li kama pona tawa sina · ni la o kama lon kulupu pi nasin sewi ni, o pini e pilin ike ale · ni la jan Kowinta pi toki lili kin, li tawa, li toki: mi wile awen lon nasin pi jan sewi pi sona ona a · ona li toki e wile tawa jan kulupu ante la ona kin li kama jan kulupu ·\n",
      "ni li pini la jan Puta li tawa tan lape · jan Kowinta li toki kepeken pilin wawa tawa jan Sitata: jan Sitata o, mi o toki ike ala tawa sina · mi tu li kute e jan sewi ni li kute e sona sama · jan Kowinta li kute e sona la ona li kama jan nasin pi sona ni · taso sina, jan pona o, wile ala kama sona lon nasin sama anu seme? sina wile awen ala awen? sina wile awen pi sona ala anu seme?\n",
      "jan Sitata li kute e nimi pi jan Kowinta la lawa ona li kama sin, sama kama sin tan lape · tenpo suli la ona li lukin e sinpin pi jan Kowinta · ona li toki kepeken kalama lili, kepeken kalama pi musi ala: jan Kowinta o, jan pona o, tenpo ni la sina open lon nasin ni · tenpo ale la, jan Kowinta o, sina jan pona · tenpo ale la sina tawa lon monsi mi lon nasin sama · tenpo mute la mi toki insa: jan Kowinta li kama tawa lon nasin ante anu seme? ona li wile ala wile tawa lon nasin pi wile ona, lon nasin ante, lon poka mi ala? taso tenpo ni la sina kama suli a! sina tawa lon nasin sina a! jan pona o mi wile e ni: sina awen lon nasin ni! sina o tawa pini nasin · ni la sina kama sona e pini pi pilin ike a!\n",
      "jan Kowinta li sona pona ala la ona li toki sin kepeken kalama pi sona ala: o toki sin a, jan suwi o! nasin ante li ken ala lon la o toki tawa mi e ni: mi kin o kute e sona o awen lon nasin pi jan Puta ·\n",
      "jan Sitata li luka suwi e sijelo pi jan Kowinta li toki: jan Kowinta o, sina kute pona ala e wile mi · mi toki sin a: sina o awen lon nasin ni o tawa pini nasin a! ·\n",
      "tenpo ni la jan Kowinta li kama sona e ni: jan pona ona li tawa weka li wile ala lon poka ona · telo pi pilin ike li kama tan lukin ona ·\n",
      "ona li toki pi pilin ike: jan Sitata o! ·\n",
      "jan Sitata li toki suwi tawa ona: sona sina o weka ala, jan Kowinta o · tenpo ni la sina jan nasin lon kulupu pi jan Puta! sina weka tan kulupu sina tan mama sina · sina weka tan open sina tan mani sina · sina weka tan wile sina tan jan ale sina · nasin ni la sina o pali e ni · ni li wile pi jan sewi · ni li wile sina a · suno sin li kama la mi tawa weka, jan Kowinta o ·\n",
      "tenpo suli la jan tu ni li awen tawa noka lon ma kasi · tenpo suli la ona li awen li lape ala · tenpo mute a la jan Kowinta li toki tawa jan Sitata · wile ona la jan Sitata li kama jan nasin lon kulupu sona pi jan Kotama · ona li awen la ike ala li lon · kama sona li ike ala e ona · taso jan Sitata li wile ala e ni li toki tawa jan Kowinta e ni: o pona, jan Kowinta o! sona pi jan sewi li pona mute a! ona li ike ala e mi! ·\n",
      "suno li open lon la jan nasin suli pi jan Puta li tawa lon ma kasi · ona li wile kulupu e jan sin ale li wile pana e len jelo li wile pana e sona open tawa ona ale · ni la jan Kowinta li tawa · ona li luka e jan pona pi tenpo suli li tawa lon kulupu pi jan sin ·\n",
      "taso jan Sitata li tawa noka lon ma kasi li toki insa mute ·\n",
      "nasin la ona li kama lukin e jan Kotama, e jan sewi · ona li toki tawa ona sama jan sewi · lukin ona li jo e pilin pi pona mute e pilin awen pi ante ala · mije lili ni li suli e wawa insa li wile toki tawa jan sewi ni · kalama ala la jan sewi li tawa e lawa · ona li ken e toki ·\n",
      "ni la jan Sitata li toki: tenpo suno pini la, jan sewi o, mi kute e sona pona sina · mi en jan pona li kama tan ma weka li kute e sona sina · tenpo ni la jan pona mi li tawa li awen lon kulupu sina · ona li awen lon nasin sina · taso mi open sin e alasa mi ·\n",
      "jan sewi li toki pi pilin pona: pona ·\n",
      "jan Sitata li awen toki: toki mi li wawa li ike · taso mi tawa weka tan jan sewi la mi o toki e pilin mi o powe ala · mi awen toki la ni li pona ala pona tawa jan sewi? ·\n",
      "kalama ala la jan Puta li tawa e lawa · ni li ken e toki ·\n",
      "jan Sitata li toki: pana sona ale sina la ijo wan li suli mute tawa mi li sewi a · sina pana e sona la ona li jaki ala · ona li lon · lon sina li toki e lon pi sona sina · sona sina la ma li sama linja wan · linja li pakala ala li linluwi e ale · linja li jo e open e pini · ona li linluwi e tan e kama · tenpo pini la jan ala li pana e sona ni pi jaki ala · tenpo ala la jan li pana e sona ni · lon la pilin pi jan sona Paman ale o jo e olin mute o · jan ni li lukin e ma kepeken sona sina la ona li kama sona e lon e wawa ona li ken wawa e olin ona · ni li lon taso · ona la sewi en ken li suli ala · lon taso li awen · nasin ni li ike anu pona la mi wile ala toki · ona li kama e pilin ike anu pilin pona la ni li suli ala · taso linluwi pi ijo ale li sona pona a · ijo suli en ijo lili li linluwi kepeken linja pi wawa sama · linja pi wawa tenpo en linja pi wawa tan · ona li open la ona li pini · sona ni li suno wawa a lon poka pi sona ante ale sina, jan wawa o · taso sona sina la wan en linluwi ale pi linja ni la pakala lili wan li lon · ma linluwi ni la ijo sin tan ma weka li kama: ni li pana sona sina · ni li ken weka tan sike, tan linja ni · taso lili ni la lawa ale en nasin ma li kama pakala li kama ala · mi wile ala toki ike a · sina pona ·\n",
      "kalama ala la jan Kotama li kute li tawa ala · tenpo ni la jan sewi pi pona ale li toki · ona li toki kepeken ike ala kepeken kalama pona: jan lili pi jan sona Paman o, sina kute e sona · pona la sina lukin mute e sona li wile kama sona e ona · sina lukin e lupa a, e ike · sina o awen alasa e sona ni · o awen alasa e lon · taso, jan alasa sona o, sina o sona: pilin en utala mute li kama tan nimi · pilin li suli ala · ona li ken pona li ken ike · jan li ken wile e ona li ken wile ala e ona · taso mi la sina kute e sona taso · sona li pilin ala · sona li wile ala pana e sona tawa jan alasa · wile li ante · wile li weka tan pilin ike · ni taso li sona pi jan Kotama ·\n",
      "mije li toki: wile mi la sina pilin ike ala tan mi, jan sewi o · mi toki la mi wile ala utala e sina · mi wile ala utala tan nimi · sina toki e lon · pilin li lili · taso mi o toki e ijo wan · tenpo ale la mi sona e ni: sina toki e lon · mi sona a e ni: sina jan Puta, jan pi sona suno · sina pini e pali · sina pini e pali suli pi jan sewi mute · sina kama e sona weka tan moli · sina sona e nasin · sina kama sona e ni tan alasa sina, tan nasin sina, tan toki sina, tan awen, tan sona ale · sina kama sona tan sona pi jan ante ala a! jan sewi o, ni la mi pilin e ni: jan ala li ken kama weka sama sina kepeken sona pi jan ante! sina ken ala pana e sona nasin kepeken nimi tawa jan ante, jan pona o · sona pi jan sona Puta li pana e mute · ona li pana e sona pi ike ala · taso sona li pana ala e ijo wan a · sina lukin e sona ni kepeken lukin sina · sina pilin e ona kepeken pilin · nimi li ken ala poki e ale ni · jan li ken ala kama sona tan nimi, tan uta · sina taso li sona e ale ni lon pilin sina · mi kute la mi kama sona e ni · ni li pilin mi · tan ni la mi awen lon nasin alasa · mi alasa ala e sona pi jan ante · mi sona e ni: mi kute e ale · mi alasa weka tan sona ale tan jan ale · mi o pini e pali mi lon poka pi jan ala, lon poka pi mi taso · mi pini ala la mi moli · taso tenpo mute la suno ni li kama lon lawa mi, jan sewi o · tenpo mute la mi kama pilin e ni: mi lukin e jan sewi lon ·\n",
      "kalama ala la jan Puta li lukin anpa e ma · kalama ala en awen pi pilin sama la sinpin ona li pana e uta pona ·\n",
      "tenpo suli la jan sewi li toki: wile mi la pilin sina li lon li ike ala · sina o pini e pali sina! taso o toki a: sina lukin ala lukin e mute pi kulupu Samana mi · jan alasa sama mi li kama sona tan sona ni li awen lon nasin ni · pilin sina la ona o weka ala weka tan kulupu sona ni? tenpo sin la ona o tawa ma wile anu seme? ·\n",
      "jan Sitata li toki: pilin ala a · wile mi la ona ale o awen kama sona o pini e pali sina! mi o toki ike ala e jan ante · mi taso la mi o awen ala · jan Samana ale li alasa e weka tan pilin jan, pilin pi ante ala, jan sewi o · mi jan pi nasin sina la jan sewi o, mi pilin e ni: mi kama weka ala tan mi, tan pilin ike · ante la mi awen · mi awen jo e pilin ike mi · taso pilin mi li awen lon nasin sina, lon kulupu jan, lon sona taso! ·\n",
      "uta pona lili la jan Kotama li lukin e jan ni pi ma ante kepeken pona wawa · luka pi kalama ala la ona li toki e ni: sina ken tawa ·\n",
      "jan sewi li toki: sina sona mute, jan alasa o · sina ken toki kepeken sona mute, jan mi o · taso sona li ken ike e lawa! ·\n",
      "jan Puta li tawa weka · tenpo ale la uta pona en sinpin wawa ona li awen lon lawa pi jan Sitata ·\n",
      "jan Sitata li toki insa: tenpo ala la mi lukin e jan sama ni, e jan pi nasin pona ni · lon la mi kin li wile sama pona ni · mi wile tawa noka kepeken pona · mi awen pona la mi ken sewi, li ken len, li ken open, li ken sama jan lili · mi la jan ante li sona ala · lon la jan wan taso li ken pona lon ale · ona li awen lon insa wawa mute pi pilin ona la ona li ken tawa noka sama ni · ni la mi kin o alasa o sona e insa mi ·\n",
      "mi lukin e mije wan · mije wan taso la mi anpa · tenpo ni la mi wile ala anpa tawa jan ante ala · mi alasa ala e sona pi mije ni la mi ken ala alasa e sona sin ·\n",
      "mi weka tan jan Puta · taso ona li pana e mute tawa mi · ona li weka e jan pona mi, e jan poka mi · tenpo ante la ona li sama pimeja mi · tenpo ni la ona li sama pimeja jan pi jan Kotama · taso jan Puta li pana tawa mi e mi · ona li pana tawa mi e jan Sitata ·\n",
      "sona sewi\n",
      "jan Sitata li tawa weka tan ma kasi, tan ma kasi pi jan Puta, tan ma kasi pi jan Kowinta · ona li pilin e ni: tenpo pini mute la mi jan ante · jan pini mi li awen lon ma kasi kin · mi weka tan jan pini mi kin · pilin ni li wawa · ona li tawa lon nasin la sijelo ale ona li pilin e ona · ona li toki insa mute, li sitelen insa · sitelen la ona li tawa lon telo suli li tawa ma anpa lon telo, tawa ma open pi pilin wawa · ona li alasa sona e pilin, e tan ona, e open ona · nasin ni la pilin li kama sona · ona li kama pana e suno tan insa ona, li suno e sona insa ·\n",
      "jan Sitata li tawa noka la ona li toki insa · ona li kama sona · tenpo ni la ona li lili ala · ona li kama suli · ona li kama sona e ni: ijo li kama weka tan ona, sama selo pi akesi linja · ijo wan li awen ala lon ona · tenpo pini ale la ona li lon · taso tenpo ni la ona li weka · ijo ni li wile pi jan sona li wile pi kute sona · ona li tawa weka tan jan sona suli, tan jan sewi Puta · ona li ken ala awen lon nasin sona pi jan sewi ni ·\n",
      "tenpo suli la ona li tawa noka li toki insa · taso ni li seme? sina alasa e seme tan sona pi jan ante? ona li pana e sona · taso sina lukin ala e seme? seme li weka? · ni la ona li kama sona: mi alasa e mi, e lon mi, e tan mi, e pilin mi, e mi pilin · ni la mi alasa · mi wile kama sona e lon mi · ni li nasin li pali suli · taso tenpo pini la mi ken ala weka tan mi pilin, tan pilin mi · mi ken powe · mi ken tawa weka · mi ken len e lawa mi · taso tenpo ale la ona li kama sin · ni taso la mi toki insa mute! ijo ante li suli ala tawa mi sama ni · lon mi taso en mi pilin taso li nasa e ale mi · ni taso li kama e ni: mi jan Sitata! ma ale la mi sona pi pona mute e mi Sitata! ·\n",
      "ona li tawa noka li toki insa la ona li pini lon nasin · toki insa sin li kama a: mi sona ala e mi, e jan Sitata · mi sona ala tan pilin monsuta · mi wile weka tan mi a! · mi alasa e wan Aman · mi alasa e sewi Paman · mi kipisi e ale mi · mi lukin e selo e insa, e insa pi insa mute · mi lukin e insa pi wan Aman e insa ale e insa sewi · taso pali ale ni la mi sona ala e mi · mi weka tan mi sama ·\n",
      "jan Sitata li open e lukin ona li lukin e ma · uta pona lili li kama lon sinpin ona · ona li pilin e sona suno lon lawa ona, lon noka ona · tenpo lili la ona li open sin e tawa noka · ona li tawa kepeken tenpo lili sama mije pi wile pali ·\n",
      "ona li insa suli e kon li toki insa: a, tenpo ni la jan Sitata o weka ala tan mi! tenpo ala la mi wile open e ale mi kepeken wan Aman · mi wile ala open kepeken pilin ike · mi wile ala moli e mi sama · mi wile ala lukin insa e mi ale · mi wile ala kama sona e sona len · tenpo ni la mi kama sona ala tan lipu Joka-Weta, tan lipu Atawa-Weta, tan jan pi jo ala, tan sona ante · ni ale la mi kama sona ala · mi o kama sona tan mi taso, tan mi sama · mi o sona e mi sama, e sona len pi jan Sitata ·\n",
      "ona li lukin e ma la lukin li sama lukin nanpa wan · ona li lukin e ma sama jan lili · ma li suwi a · ona li kule · ona li nasa li jo e sona len a! ni li laso · ni li jelo · ni li loje · sewi en telo li tawa · kasi en nena li kiwen · ale ni li suwi li pona lukin · ale ni li nasa li jo e sona len · insa pi ale ni la jan Sitata li lon: jan pi kama sona, jan lon nasin pi ona sama · ale jelo en ale laso en telo en kasi li kama nanpa wan tawa jan Sitata kepeken lukin ona · nasa pi sewi ike Mala li len ala e lukin ona · ona ale li ike ala li pona tawa jan Paman ni pi alasa wan · laso li laso · telo li telo · insa laso en insa telo la insa sewi wan ni li awen len lon jan Sitata kin · ma ni li laso · ma ni li jelo · ma ni li sewi · ma ni li kasi · ma ni li Sitata · tan ale en insa sewi li lon monsi ala · ona li lon insa taso!\n",
      "ona li tawa kepeken tenpo lili li toki: tenpo pini la mi nasa mute a! jan li lukin e lipu la ona li toki ike ala e nimi e sitelen · ona li pilin ike ala tan lipu · ona li lukin e lipu li olin e sona e sitelen ale · taso mi wile lukin e lipu pi lon mi la mi toki ike e nimi e sitelen e lipu li lukin ala e kon! mi toki e ni: ma lukin li ike! uta en lukin mi li pakala e ale li pona ala! ala! ni ale li pini! tenpo ni la mi sona · tenpo ni la mi kama sona pona · tenpo ni la mi open sin · suno ni li suno nanpa wan mi ·\n",
      "ona li toki insa la jan Sitata li pini tawa noka lon nasin · ona li tawa ala sama jan pi pilin monsuta ·\n",
      "ona li kama sona kin e ni: ona li kama sin lon suno ni li open sin e ale la ona o open sin e alasa nasin o open sin e sona · ona li tawa weka tan ma kasi Setawana pi jan sewi sona la ona li pilin insa e ni: mi pini e sona nasin la mi o tawa sin tomo mama ona · taso tenpo ni la ona li pini e tawa noka sama jan pi pilin monsuta lon nasin · ni la ona li kama sona kin e ni: tenpo ni la mi jan sin · mi pi tenpo ni li mi pi tenpo pini ala · mi jan alasa ala · mi jan pi nasin sewi ala · mi jan pi nasin Paman ala · mi lon tomo mama la mi pali e seme a? mi lukin e lipu anu seme? mi pana tawa sewi anu seme? mi awen ala awen lon lawa mi? taso ale ni li pini · ale ni li nasin mi ala · ona li lon poka ala pi nasin mi ·\n",
      "tawa ala la jan Sitata li awen · tenpo pi tawa pilin wan la pilin ona li kama lete · lete li awen lon insa sijelo · ona li sama soweli lili · soweli lili li lon poka pi soweli ala, li pilin monsuta tan wan taso · sike mute la ona li lon ala tomo li pilin ala · tenpo ni la ona li pilin a · tenpo pini la lawa ona li awen pi tawa ala taso awen la ona li jan lili pi mama mani ona · tenpo ala la ona li ken weka tan kulupu mama sewi, tan open ona · tenpo ni la ona li jan Sitata taso · ona li jan pi sona suno · ala pi tenpo pini li awen a · mute la ona li insa e kon · tenpo lili la sijelo ona li tawa lili tan lete · jan ala li awen pi wan taso sama ona · jan ala pi kulupu mani li weka tan kulupu pi jan mani · jan ala pi kulupu pali li weka tan kulupu pi jan pali · jan ale ni li toki sama li ken awen pona lon poka · jan Paman ala li weka tan kulupu pi jan Paman li awen ala lon poka kulupu · jan ala pi alasa nasin li awen ala lon poka pi kulupu ona · jan nasin pi wan taso a la ona kin li awen lon poka ma, lon ma kasi, lon lupa kiwen · ona kin li kama tan kulupu jan li ken awen lon tomo pi kulupu ni · jan Kowinta li kama jan nasin pi jo ala · jan nasin mute li jan sama ona · ona li kepeken len sama li lon nasin sama li toki sama · taso ona Sitata la ona li ken awen lon seme? ona li ken awen lon poka pi jan seme? ona li ken toki kepeken toki seme?\n",
      "tenpo wawa ni la ma poka li weka tan lukin · jan Sitata li awen suno sama mun sewi · pilin lete en pilin ike la jan Sitata li kama sin li wawa · lawa ona li kama wan wawa · ona li pilin: tenpo ni la utala li pini · utala pi sona suno en utala pi open ona li pini · tenpo sin la ona li tawa noka suli · ona li tawa kepeken tenpo lili li tawa tomo ala · ona li tawa mama ala · tenpo ala la ona li tawa monsi ·\n",
      "nimi jan en nimi ma\n",
      "Sitata\n",
      "Siddhartha (tan toki Sankitan · jan li pini pona e pali ona)\n",
      "Kowinta\n",
      "Govinda (nimi wan pi sewi Winu Vishnu; nimi jan)\n",
      "ma kasi Sawa\n",
      "Sal-wood (nimi kasi)\n",
      "kalama sewi On\n",
      "Om (tan toki Sankitan · kalama sewi pi wan Aman / sewi Paman)\n",
      "wan Aman\n",
      "Atman (tan toki Sankitan · wan ale lon ale)\n",
      "sewi Pajapasi\n",
      "Prajapati (tan toki Sankitan · sewi ma pi lipu Weta)\n",
      "sewi Sajan\n",
      "Satyam (tan toki Sankitan nasin lon; lon)\n",
      "sewi Paman\n",
      "Brahman (tan toki Sankitan · sewi ale; sewi lon)\n",
      "kulupu Samana\n",
      "Samaṇa (tan ma Palata · jan li alasa e nasin weka pi sike ike)\n",
      "kulupu Saka\n",
      "Sakya (kulupu jan lon tenpo pini · kulupu mama pi jan Puta)\n",
      "jan Puta\n",
      "Buddha (tan toki Pali · nimi pi jan Puta · jan pi sona sewi / jan li kama tan lape)\n",
      "jan Kotama\n",
      "Gotama (tan nimi jan)\n",
      "jan Sakamuni\n",
      "Sakyamuni (tan toki Sankitan · jan sona tan kulupu Saja)\n",
      "ma Makata\n",
      "Magadha (ma mama pi jan Puta · ma pini lon ma Palata)\n",
      "ma tomo Sawasi\n",
      "Sāvatthī (ma pi kulupu tomo lon tenpo pi jan Puta)\n",
      "jan esun Anatapinsika\n",
      "Anathapiṇḍika (jan mani lon tenpo pi jan Puta · ona li pana e ma tawa kulupu jan pi jan Puta)\n",
      "ma kasi Setawana\n",
      "Jetavana (ma kasi · ma awen pi jan Puta)\n",
      "lipu Joka-Weta\n",
      "Yoga-Veda (lipu sewi pi ma Palata · ken la ni li tan kon Eman Ese)\n",
      "lipu Atawa-Weta\n",
      "Athar-Veda (lipu sewi pi ma Palata · ona li jo e toki musi kepeken toki Sankitan)\n",
      "sewi ike Mala\n",
      "Māra (nasin Puta la ona li sewi ike)\n",
      "lipu Upanisa\n",
      "Upaniṣad (tan toki Sankitan · lipu nasin sewi, sama lipu Weta)\n",
      "sona lili pi nasin Puta\n",
      "lipu Sitata la jan Puta li lon · jan Sitata li tawa ona li toki lili e sona nasin · taso lon la nasin Puta lon li weka lon lipu Sitata · lipu lili ni la mi pana e sona lili a pi nasin Puta lon · tenpo ala la jan lukin li kama sona e lili pi nasin Puta la ona li ken kama sona lili kepeken ni · o lukin pona ·\n",
      "nasin Puta la pali li suli · pali li ken ike li ken pona · jan li pali pona la pona li kama · jan li pali ike la ike li kama · ni li lon la ni li kama · ni li lon ala la ni li kama ala · taso pali la wile li suli mute · moli li ike · jan li wile moli e pipi la ni li pali ike: ike li kama · taso jan li moli e pipi li wile ala la ike li kama ala · jan li pali la wile pilin ona li suli · wile pilin li ike ala la pali li ken ike ala · sama la pali li ken pona lon weka · taso insa pilin la wile li ken ike · ni la jan li pali pona la wile insa o pona · pali weka taso li pona la pona li kama ala ·\n",
      "nasin pi jan Puta la pali ni li kama e ike:\n",
      "jan li wile moli e ante\n",
      "jan li lanpan ike e ijo tan jan ante\n",
      "jan li unpa ike e jan pi wile ala\n",
      "jan li toki ike li toki powe li toki utala\n",
      "jan li moku e telo nasa e ijo nasa li nasa e lawa\n",
      "jan li pali ala e ni la ike lili li kama · pona li kama a · taso lon la jan o sona e tan o sona e wile pilin · ona li pali ala e ni la pona li kama · taso suli la ona o sona e tan pi pali ala · tan seme la ona o pali ala e ni? sona ni li suli ·\n",
      "sama la wile pona li seme? jan o sona e pona o sona e ike · jan o sona e tan pona e tan ike · sona ni la ona li ken pali pona li wile pona kepeken nimi ala · insa la ona li ken sona e tan e pali pona · jan o pona e pilin kepeken pilin ni:\n",
      "jan ale o pilin pona\n",
      "jan ala o pilin ike\n",
      "jan ante li pilin pona la ni li pona tawa mi\n",
      "ike li kama la mi awen pona\n",
      "jan li ken wawa e pilin e pali kepeken nasin pilin ni · pali pilin ni la pona mute li kama ·\n",
      "taso ante la jan Puta li pana e sona seme? suli la jan Puta li toki e ni:\n",
      "ike: ale la pilin ike li ken kama\n",
      "tan: pilin ike li kama tan wile insa (wile ijo, wile ante, wile lon, wile weka, wile ale)\n",
      "misikeke: jan li pini e wile la pilin ike li pini\n",
      "nasin: pini wile li kama tan nasin pi jan Puta\n",
      "ni ale li sama pali · ni li lon la ni li lon · ni li lon ala la ni li lon ala · nasin Puta la kama li suli · ijo li kama la tan li lon · tan li lon la kama li lon · kama li lon ala la tan li lon ala · tan li lon ala la kama li lon ala ·\n",
      "nasin misikeke la seme li lon? nasin li ni: sona pona, wile pona, toki pona, pali pona, mani pona, wawa pona, lukin pona, awen pona · lipu lili ni la mi toki ala e nasin suli ni · jan li wile sona la ona o alasa a!\n"
     ]
    }
   ],
   "source": [
    "df = poki_dataset[\"train\"].to_polars().sort(pl.col(\"text\").str.len_chars(), descending=True)\n",
    "t = df[\"text\"][4]\n",
    "# print(t)\n",
    "print(\"---\")\n",
    "print(clean_text(t))"
   ]
  },
  {
   "cell_type": "code",
   "execution_count": 66,
   "id": "0a079099",
   "metadata": {},
   "outputs": [
    {
     "data": {
      "text/plain": [
       "'tok'"
      ]
     },
     "metadata": {},
     "output_type": "display_data"
    },
    {
     "ename": "KeyboardInterrupt",
     "evalue": "",
     "output_type": "error",
     "traceback": [
      "\u001b[31m---------------------------------------------------------------------------\u001b[39m",
      "\u001b[31mKeyboardInterrupt\u001b[39m                         Traceback (most recent call last)",
      "\u001b[36mCell\u001b[39m\u001b[36m \u001b[39m\u001b[32mIn[66]\u001b[39m\u001b[32m, line 4\u001b[39m\n\u001b[32m      2\u001b[39m \u001b[38;5;28;01mfor\u001b[39;00m col \u001b[38;5;129;01min\u001b[39;00m df.columns[\u001b[32m5\u001b[39m:]:\n\u001b[32m      3\u001b[39m     display(col)\n\u001b[32m----> \u001b[39m\u001b[32m4\u001b[39m     display(\u001b[43mdf\u001b[49m\u001b[43m[\u001b[49m\u001b[43mcol\u001b[49m\u001b[43m]\u001b[49m\u001b[43m.\u001b[49m\u001b[43mmap_elements\u001b[49m\u001b[43m(\u001b[49m\u001b[43mcount_tokens\u001b[49m\u001b[43m)\u001b[49m.describe())\n",
      "\u001b[36mFile \u001b[39m\u001b[32m~/.pyenv/versions/ilo-toki/lib/python3.12/site-packages/polars/series/series.py:5811\u001b[39m, in \u001b[36mSeries.map_elements\u001b[39m\u001b[34m(self, function, return_dtype, skip_nulls)\u001b[39m\n\u001b[32m   5807\u001b[39m     pl_return_dtype = parse_into_dtype(return_dtype)\n\u001b[32m   5809\u001b[39m warn_on_inefficient_map(function, columns=[\u001b[38;5;28mself\u001b[39m.name], map_target=\u001b[33m\"\u001b[39m\u001b[33mseries\u001b[39m\u001b[33m\"\u001b[39m)\n\u001b[32m   5810\u001b[39m \u001b[38;5;28;01mreturn\u001b[39;00m \u001b[38;5;28mself\u001b[39m._from_pyseries(\n\u001b[32m-> \u001b[39m\u001b[32m5811\u001b[39m     \u001b[38;5;28;43mself\u001b[39;49m\u001b[43m.\u001b[49m\u001b[43m_s\u001b[49m\u001b[43m.\u001b[49m\u001b[43mmap_elements\u001b[49m\u001b[43m(\u001b[49m\n\u001b[32m   5812\u001b[39m \u001b[43m        \u001b[49m\u001b[43mfunction\u001b[49m\u001b[43m,\u001b[49m\u001b[43m \u001b[49m\u001b[43mreturn_dtype\u001b[49m\u001b[43m=\u001b[49m\u001b[43mpl_return_dtype\u001b[49m\u001b[43m,\u001b[49m\u001b[43m \u001b[49m\u001b[43mskip_nulls\u001b[49m\u001b[43m=\u001b[49m\u001b[43mskip_nulls\u001b[49m\n\u001b[32m   5813\u001b[39m \u001b[43m    \u001b[49m\u001b[43m)\u001b[49m\n\u001b[32m   5814\u001b[39m )\n",
      "\u001b[36mCell\u001b[39m\u001b[36m \u001b[39m\u001b[32mIn[7]\u001b[39m\u001b[32m, line 6\u001b[39m, in \u001b[36mcount_tokens\u001b[39m\u001b[34m(s)\u001b[39m\n\u001b[32m      5\u001b[39m \u001b[38;5;28;01mdef\u001b[39;00m\u001b[38;5;250m \u001b[39m\u001b[34mcount_tokens\u001b[39m(s: \u001b[38;5;28mstr\u001b[39m) -> \u001b[38;5;28mint\u001b[39m:\n\u001b[32m----> \u001b[39m\u001b[32m6\u001b[39m     \u001b[38;5;28;01mreturn\u001b[39;00m \u001b[43mtokenizer\u001b[49m\u001b[43m(\u001b[49m\u001b[43ms\u001b[49m\u001b[43m,\u001b[49m\u001b[43m \u001b[49m\u001b[43mreturn_tensors\u001b[49m\u001b[43m=\u001b[49m\u001b[33;43m\"\u001b[39;49m\u001b[33;43mpt\u001b[39;49m\u001b[33;43m\"\u001b[39;49m\u001b[43m)\u001b[49m[\u001b[33m\"\u001b[39m\u001b[33minput_ids\u001b[39m\u001b[33m\"\u001b[39m].shape[\u001b[32m1\u001b[39m]\n",
      "\u001b[36mFile \u001b[39m\u001b[32m~/.pyenv/versions/ilo-toki/lib/python3.12/site-packages/transformers/tokenization_utils_base.py:2855\u001b[39m, in \u001b[36mPreTrainedTokenizerBase.__call__\u001b[39m\u001b[34m(self, text, text_pair, text_target, text_pair_target, add_special_tokens, padding, truncation, max_length, stride, is_split_into_words, pad_to_multiple_of, padding_side, return_tensors, return_token_type_ids, return_attention_mask, return_overflowing_tokens, return_special_tokens_mask, return_offsets_mapping, return_length, verbose, **kwargs)\u001b[39m\n\u001b[32m   2853\u001b[39m     \u001b[38;5;28;01mif\u001b[39;00m \u001b[38;5;129;01mnot\u001b[39;00m \u001b[38;5;28mself\u001b[39m._in_target_context_manager:\n\u001b[32m   2854\u001b[39m         \u001b[38;5;28mself\u001b[39m._switch_to_input_mode()\n\u001b[32m-> \u001b[39m\u001b[32m2855\u001b[39m     encodings = \u001b[38;5;28;43mself\u001b[39;49m\u001b[43m.\u001b[49m\u001b[43m_call_one\u001b[49m\u001b[43m(\u001b[49m\u001b[43mtext\u001b[49m\u001b[43m=\u001b[49m\u001b[43mtext\u001b[49m\u001b[43m,\u001b[49m\u001b[43m \u001b[49m\u001b[43mtext_pair\u001b[49m\u001b[43m=\u001b[49m\u001b[43mtext_pair\u001b[49m\u001b[43m,\u001b[49m\u001b[43m \u001b[49m\u001b[43m*\u001b[49m\u001b[43m*\u001b[49m\u001b[43mall_kwargs\u001b[49m\u001b[43m)\u001b[49m\n\u001b[32m   2856\u001b[39m \u001b[38;5;28;01mif\u001b[39;00m text_target \u001b[38;5;129;01mis\u001b[39;00m \u001b[38;5;129;01mnot\u001b[39;00m \u001b[38;5;28;01mNone\u001b[39;00m:\n\u001b[32m   2857\u001b[39m     \u001b[38;5;28mself\u001b[39m._switch_to_target_mode()\n",
      "\u001b[36mFile \u001b[39m\u001b[32m~/.pyenv/versions/ilo-toki/lib/python3.12/site-packages/transformers/tokenization_utils_base.py:2965\u001b[39m, in \u001b[36mPreTrainedTokenizerBase._call_one\u001b[39m\u001b[34m(self, text, text_pair, add_special_tokens, padding, truncation, max_length, stride, is_split_into_words, pad_to_multiple_of, padding_side, return_tensors, return_token_type_ids, return_attention_mask, return_overflowing_tokens, return_special_tokens_mask, return_offsets_mapping, return_length, verbose, split_special_tokens, **kwargs)\u001b[39m\n\u001b[32m   2943\u001b[39m     \u001b[38;5;28;01mreturn\u001b[39;00m \u001b[38;5;28mself\u001b[39m.batch_encode_plus(\n\u001b[32m   2944\u001b[39m         batch_text_or_text_pairs=batch_text_or_text_pairs,\n\u001b[32m   2945\u001b[39m         add_special_tokens=add_special_tokens,\n\u001b[32m   (...)\u001b[39m\u001b[32m   2962\u001b[39m         **kwargs,\n\u001b[32m   2963\u001b[39m     )\n\u001b[32m   2964\u001b[39m \u001b[38;5;28;01melse\u001b[39;00m:\n\u001b[32m-> \u001b[39m\u001b[32m2965\u001b[39m     \u001b[38;5;28;01mreturn\u001b[39;00m \u001b[38;5;28;43mself\u001b[39;49m\u001b[43m.\u001b[49m\u001b[43mencode_plus\u001b[49m\u001b[43m(\u001b[49m\n\u001b[32m   2966\u001b[39m \u001b[43m        \u001b[49m\u001b[43mtext\u001b[49m\u001b[43m=\u001b[49m\u001b[43mtext\u001b[49m\u001b[43m,\u001b[49m\n\u001b[32m   2967\u001b[39m \u001b[43m        \u001b[49m\u001b[43mtext_pair\u001b[49m\u001b[43m=\u001b[49m\u001b[43mtext_pair\u001b[49m\u001b[43m,\u001b[49m\n\u001b[32m   2968\u001b[39m \u001b[43m        \u001b[49m\u001b[43madd_special_tokens\u001b[49m\u001b[43m=\u001b[49m\u001b[43madd_special_tokens\u001b[49m\u001b[43m,\u001b[49m\n\u001b[32m   2969\u001b[39m \u001b[43m        \u001b[49m\u001b[43mpadding\u001b[49m\u001b[43m=\u001b[49m\u001b[43mpadding\u001b[49m\u001b[43m,\u001b[49m\n\u001b[32m   2970\u001b[39m \u001b[43m        \u001b[49m\u001b[43mtruncation\u001b[49m\u001b[43m=\u001b[49m\u001b[43mtruncation\u001b[49m\u001b[43m,\u001b[49m\n\u001b[32m   2971\u001b[39m \u001b[43m        \u001b[49m\u001b[43mmax_length\u001b[49m\u001b[43m=\u001b[49m\u001b[43mmax_length\u001b[49m\u001b[43m,\u001b[49m\n\u001b[32m   2972\u001b[39m \u001b[43m        \u001b[49m\u001b[43mstride\u001b[49m\u001b[43m=\u001b[49m\u001b[43mstride\u001b[49m\u001b[43m,\u001b[49m\n\u001b[32m   2973\u001b[39m \u001b[43m        \u001b[49m\u001b[43mis_split_into_words\u001b[49m\u001b[43m=\u001b[49m\u001b[43mis_split_into_words\u001b[49m\u001b[43m,\u001b[49m\n\u001b[32m   2974\u001b[39m \u001b[43m        \u001b[49m\u001b[43mpad_to_multiple_of\u001b[49m\u001b[43m=\u001b[49m\u001b[43mpad_to_multiple_of\u001b[49m\u001b[43m,\u001b[49m\n\u001b[32m   2975\u001b[39m \u001b[43m        \u001b[49m\u001b[43mpadding_side\u001b[49m\u001b[43m=\u001b[49m\u001b[43mpadding_side\u001b[49m\u001b[43m,\u001b[49m\n\u001b[32m   2976\u001b[39m \u001b[43m        \u001b[49m\u001b[43mreturn_tensors\u001b[49m\u001b[43m=\u001b[49m\u001b[43mreturn_tensors\u001b[49m\u001b[43m,\u001b[49m\n\u001b[32m   2977\u001b[39m \u001b[43m        \u001b[49m\u001b[43mreturn_token_type_ids\u001b[49m\u001b[43m=\u001b[49m\u001b[43mreturn_token_type_ids\u001b[49m\u001b[43m,\u001b[49m\n\u001b[32m   2978\u001b[39m \u001b[43m        \u001b[49m\u001b[43mreturn_attention_mask\u001b[49m\u001b[43m=\u001b[49m\u001b[43mreturn_attention_mask\u001b[49m\u001b[43m,\u001b[49m\n\u001b[32m   2979\u001b[39m \u001b[43m        \u001b[49m\u001b[43mreturn_overflowing_tokens\u001b[49m\u001b[43m=\u001b[49m\u001b[43mreturn_overflowing_tokens\u001b[49m\u001b[43m,\u001b[49m\n\u001b[32m   2980\u001b[39m \u001b[43m        \u001b[49m\u001b[43mreturn_special_tokens_mask\u001b[49m\u001b[43m=\u001b[49m\u001b[43mreturn_special_tokens_mask\u001b[49m\u001b[43m,\u001b[49m\n\u001b[32m   2981\u001b[39m \u001b[43m        \u001b[49m\u001b[43mreturn_offsets_mapping\u001b[49m\u001b[43m=\u001b[49m\u001b[43mreturn_offsets_mapping\u001b[49m\u001b[43m,\u001b[49m\n\u001b[32m   2982\u001b[39m \u001b[43m        \u001b[49m\u001b[43mreturn_length\u001b[49m\u001b[43m=\u001b[49m\u001b[43mreturn_length\u001b[49m\u001b[43m,\u001b[49m\n\u001b[32m   2983\u001b[39m \u001b[43m        \u001b[49m\u001b[43mverbose\u001b[49m\u001b[43m=\u001b[49m\u001b[43mverbose\u001b[49m\u001b[43m,\u001b[49m\n\u001b[32m   2984\u001b[39m \u001b[43m        \u001b[49m\u001b[43msplit_special_tokens\u001b[49m\u001b[43m=\u001b[49m\u001b[43msplit_special_tokens\u001b[49m\u001b[43m,\u001b[49m\n\u001b[32m   2985\u001b[39m \u001b[43m        \u001b[49m\u001b[43m*\u001b[49m\u001b[43m*\u001b[49m\u001b[43mkwargs\u001b[49m\u001b[43m,\u001b[49m\n\u001b[32m   2986\u001b[39m \u001b[43m    \u001b[49m\u001b[43m)\u001b[49m\n",
      "\u001b[36mFile \u001b[39m\u001b[32m~/.pyenv/versions/ilo-toki/lib/python3.12/site-packages/transformers/tokenization_utils_base.py:3040\u001b[39m, in \u001b[36mPreTrainedTokenizerBase.encode_plus\u001b[39m\u001b[34m(self, text, text_pair, add_special_tokens, padding, truncation, max_length, stride, is_split_into_words, pad_to_multiple_of, padding_side, return_tensors, return_token_type_ids, return_attention_mask, return_overflowing_tokens, return_special_tokens_mask, return_offsets_mapping, return_length, verbose, **kwargs)\u001b[39m\n\u001b[32m   3011\u001b[39m \u001b[38;5;250m\u001b[39m\u001b[33;03m\"\"\"\u001b[39;00m\n\u001b[32m   3012\u001b[39m \u001b[33;03mTokenize and prepare for the model a sequence or a pair of sequences.\u001b[39;00m\n\u001b[32m   3013\u001b[39m \n\u001b[32m   (...)\u001b[39m\u001b[32m   3028\u001b[39m \u001b[33;03m        method).\u001b[39;00m\n\u001b[32m   3029\u001b[39m \u001b[33;03m\"\"\"\u001b[39;00m\n\u001b[32m   3031\u001b[39m padding_strategy, truncation_strategy, max_length, kwargs = \u001b[38;5;28mself\u001b[39m._get_padding_truncation_strategies(\n\u001b[32m   3032\u001b[39m     padding=padding,\n\u001b[32m   3033\u001b[39m     truncation=truncation,\n\u001b[32m   (...)\u001b[39m\u001b[32m   3037\u001b[39m     **kwargs,\n\u001b[32m   3038\u001b[39m )\n\u001b[32m-> \u001b[39m\u001b[32m3040\u001b[39m \u001b[38;5;28;01mreturn\u001b[39;00m \u001b[38;5;28;43mself\u001b[39;49m\u001b[43m.\u001b[49m\u001b[43m_encode_plus\u001b[49m\u001b[43m(\u001b[49m\n\u001b[32m   3041\u001b[39m \u001b[43m    \u001b[49m\u001b[43mtext\u001b[49m\u001b[43m=\u001b[49m\u001b[43mtext\u001b[49m\u001b[43m,\u001b[49m\n\u001b[32m   3042\u001b[39m \u001b[43m    \u001b[49m\u001b[43mtext_pair\u001b[49m\u001b[43m=\u001b[49m\u001b[43mtext_pair\u001b[49m\u001b[43m,\u001b[49m\n\u001b[32m   3043\u001b[39m \u001b[43m    \u001b[49m\u001b[43madd_special_tokens\u001b[49m\u001b[43m=\u001b[49m\u001b[43madd_special_tokens\u001b[49m\u001b[43m,\u001b[49m\n\u001b[32m   3044\u001b[39m \u001b[43m    \u001b[49m\u001b[43mpadding_strategy\u001b[49m\u001b[43m=\u001b[49m\u001b[43mpadding_strategy\u001b[49m\u001b[43m,\u001b[49m\n\u001b[32m   3045\u001b[39m \u001b[43m    \u001b[49m\u001b[43mtruncation_strategy\u001b[49m\u001b[43m=\u001b[49m\u001b[43mtruncation_strategy\u001b[49m\u001b[43m,\u001b[49m\n\u001b[32m   3046\u001b[39m \u001b[43m    \u001b[49m\u001b[43mmax_length\u001b[49m\u001b[43m=\u001b[49m\u001b[43mmax_length\u001b[49m\u001b[43m,\u001b[49m\n\u001b[32m   3047\u001b[39m \u001b[43m    \u001b[49m\u001b[43mstride\u001b[49m\u001b[43m=\u001b[49m\u001b[43mstride\u001b[49m\u001b[43m,\u001b[49m\n\u001b[32m   3048\u001b[39m \u001b[43m    \u001b[49m\u001b[43mis_split_into_words\u001b[49m\u001b[43m=\u001b[49m\u001b[43mis_split_into_words\u001b[49m\u001b[43m,\u001b[49m\n\u001b[32m   3049\u001b[39m \u001b[43m    \u001b[49m\u001b[43mpad_to_multiple_of\u001b[49m\u001b[43m=\u001b[49m\u001b[43mpad_to_multiple_of\u001b[49m\u001b[43m,\u001b[49m\n\u001b[32m   3050\u001b[39m \u001b[43m    \u001b[49m\u001b[43mpadding_side\u001b[49m\u001b[43m=\u001b[49m\u001b[43mpadding_side\u001b[49m\u001b[43m,\u001b[49m\n\u001b[32m   3051\u001b[39m \u001b[43m    \u001b[49m\u001b[43mreturn_tensors\u001b[49m\u001b[43m=\u001b[49m\u001b[43mreturn_tensors\u001b[49m\u001b[43m,\u001b[49m\n\u001b[32m   3052\u001b[39m \u001b[43m    \u001b[49m\u001b[43mreturn_token_type_ids\u001b[49m\u001b[43m=\u001b[49m\u001b[43mreturn_token_type_ids\u001b[49m\u001b[43m,\u001b[49m\n\u001b[32m   3053\u001b[39m \u001b[43m    \u001b[49m\u001b[43mreturn_attention_mask\u001b[49m\u001b[43m=\u001b[49m\u001b[43mreturn_attention_mask\u001b[49m\u001b[43m,\u001b[49m\n\u001b[32m   3054\u001b[39m \u001b[43m    \u001b[49m\u001b[43mreturn_overflowing_tokens\u001b[49m\u001b[43m=\u001b[49m\u001b[43mreturn_overflowing_tokens\u001b[49m\u001b[43m,\u001b[49m\n\u001b[32m   3055\u001b[39m \u001b[43m    \u001b[49m\u001b[43mreturn_special_tokens_mask\u001b[49m\u001b[43m=\u001b[49m\u001b[43mreturn_special_tokens_mask\u001b[49m\u001b[43m,\u001b[49m\n\u001b[32m   3056\u001b[39m \u001b[43m    \u001b[49m\u001b[43mreturn_offsets_mapping\u001b[49m\u001b[43m=\u001b[49m\u001b[43mreturn_offsets_mapping\u001b[49m\u001b[43m,\u001b[49m\n\u001b[32m   3057\u001b[39m \u001b[43m    \u001b[49m\u001b[43mreturn_length\u001b[49m\u001b[43m=\u001b[49m\u001b[43mreturn_length\u001b[49m\u001b[43m,\u001b[49m\n\u001b[32m   3058\u001b[39m \u001b[43m    \u001b[49m\u001b[43mverbose\u001b[49m\u001b[43m=\u001b[49m\u001b[43mverbose\u001b[49m\u001b[43m,\u001b[49m\n\u001b[32m   3059\u001b[39m \u001b[43m    \u001b[49m\u001b[43msplit_special_tokens\u001b[49m\u001b[43m=\u001b[49m\u001b[43mkwargs\u001b[49m\u001b[43m.\u001b[49m\u001b[43mpop\u001b[49m\u001b[43m(\u001b[49m\u001b[33;43m\"\u001b[39;49m\u001b[33;43msplit_special_tokens\u001b[39;49m\u001b[33;43m\"\u001b[39;49m\u001b[43m,\u001b[49m\u001b[43m \u001b[49m\u001b[38;5;28;43mself\u001b[39;49m\u001b[43m.\u001b[49m\u001b[43msplit_special_tokens\u001b[49m\u001b[43m)\u001b[49m\u001b[43m,\u001b[49m\n\u001b[32m   3060\u001b[39m \u001b[43m    \u001b[49m\u001b[43m*\u001b[49m\u001b[43m*\u001b[49m\u001b[43mkwargs\u001b[49m\u001b[43m,\u001b[49m\n\u001b[32m   3061\u001b[39m \u001b[43m\u001b[49m\u001b[43m)\u001b[49m\n",
      "\u001b[36mFile \u001b[39m\u001b[32m~/.pyenv/versions/ilo-toki/lib/python3.12/site-packages/transformers/tokenization_utils_fast.py:627\u001b[39m, in \u001b[36mPreTrainedTokenizerFast._encode_plus\u001b[39m\u001b[34m(self, text, text_pair, add_special_tokens, padding_strategy, truncation_strategy, max_length, stride, is_split_into_words, pad_to_multiple_of, padding_side, return_tensors, return_token_type_ids, return_attention_mask, return_overflowing_tokens, return_special_tokens_mask, return_offsets_mapping, return_length, verbose, split_special_tokens, **kwargs)\u001b[39m\n\u001b[32m    603\u001b[39m \u001b[38;5;28;01mdef\u001b[39;00m\u001b[38;5;250m \u001b[39m\u001b[34m_encode_plus\u001b[39m(\n\u001b[32m    604\u001b[39m     \u001b[38;5;28mself\u001b[39m,\n\u001b[32m    605\u001b[39m     text: Union[TextInput, PreTokenizedInput],\n\u001b[32m   (...)\u001b[39m\u001b[32m    624\u001b[39m     **kwargs,\n\u001b[32m    625\u001b[39m ) -> BatchEncoding:\n\u001b[32m    626\u001b[39m     batched_input = [(text, text_pair)] \u001b[38;5;28;01mif\u001b[39;00m text_pair \u001b[38;5;28;01melse\u001b[39;00m [text]\n\u001b[32m--> \u001b[39m\u001b[32m627\u001b[39m     batched_output = \u001b[38;5;28;43mself\u001b[39;49m\u001b[43m.\u001b[49m\u001b[43m_batch_encode_plus\u001b[49m\u001b[43m(\u001b[49m\n\u001b[32m    628\u001b[39m \u001b[43m        \u001b[49m\u001b[43mbatched_input\u001b[49m\u001b[43m,\u001b[49m\n\u001b[32m    629\u001b[39m \u001b[43m        \u001b[49m\u001b[43mis_split_into_words\u001b[49m\u001b[43m=\u001b[49m\u001b[43mis_split_into_words\u001b[49m\u001b[43m,\u001b[49m\n\u001b[32m    630\u001b[39m \u001b[43m        \u001b[49m\u001b[43madd_special_tokens\u001b[49m\u001b[43m=\u001b[49m\u001b[43madd_special_tokens\u001b[49m\u001b[43m,\u001b[49m\n\u001b[32m    631\u001b[39m \u001b[43m        \u001b[49m\u001b[43mpadding_strategy\u001b[49m\u001b[43m=\u001b[49m\u001b[43mpadding_strategy\u001b[49m\u001b[43m,\u001b[49m\n\u001b[32m    632\u001b[39m \u001b[43m        \u001b[49m\u001b[43mtruncation_strategy\u001b[49m\u001b[43m=\u001b[49m\u001b[43mtruncation_strategy\u001b[49m\u001b[43m,\u001b[49m\n\u001b[32m    633\u001b[39m \u001b[43m        \u001b[49m\u001b[43mmax_length\u001b[49m\u001b[43m=\u001b[49m\u001b[43mmax_length\u001b[49m\u001b[43m,\u001b[49m\n\u001b[32m    634\u001b[39m \u001b[43m        \u001b[49m\u001b[43mstride\u001b[49m\u001b[43m=\u001b[49m\u001b[43mstride\u001b[49m\u001b[43m,\u001b[49m\n\u001b[32m    635\u001b[39m \u001b[43m        \u001b[49m\u001b[43mpad_to_multiple_of\u001b[49m\u001b[43m=\u001b[49m\u001b[43mpad_to_multiple_of\u001b[49m\u001b[43m,\u001b[49m\n\u001b[32m    636\u001b[39m \u001b[43m        \u001b[49m\u001b[43mpadding_side\u001b[49m\u001b[43m=\u001b[49m\u001b[43mpadding_side\u001b[49m\u001b[43m,\u001b[49m\n\u001b[32m    637\u001b[39m \u001b[43m        \u001b[49m\u001b[43mreturn_tensors\u001b[49m\u001b[43m=\u001b[49m\u001b[43mreturn_tensors\u001b[49m\u001b[43m,\u001b[49m\n\u001b[32m    638\u001b[39m \u001b[43m        \u001b[49m\u001b[43mreturn_token_type_ids\u001b[49m\u001b[43m=\u001b[49m\u001b[43mreturn_token_type_ids\u001b[49m\u001b[43m,\u001b[49m\n\u001b[32m    639\u001b[39m \u001b[43m        \u001b[49m\u001b[43mreturn_attention_mask\u001b[49m\u001b[43m=\u001b[49m\u001b[43mreturn_attention_mask\u001b[49m\u001b[43m,\u001b[49m\n\u001b[32m    640\u001b[39m \u001b[43m        \u001b[49m\u001b[43mreturn_overflowing_tokens\u001b[49m\u001b[43m=\u001b[49m\u001b[43mreturn_overflowing_tokens\u001b[49m\u001b[43m,\u001b[49m\n\u001b[32m    641\u001b[39m \u001b[43m        \u001b[49m\u001b[43mreturn_special_tokens_mask\u001b[49m\u001b[43m=\u001b[49m\u001b[43mreturn_special_tokens_mask\u001b[49m\u001b[43m,\u001b[49m\n\u001b[32m    642\u001b[39m \u001b[43m        \u001b[49m\u001b[43mreturn_offsets_mapping\u001b[49m\u001b[43m=\u001b[49m\u001b[43mreturn_offsets_mapping\u001b[49m\u001b[43m,\u001b[49m\n\u001b[32m    643\u001b[39m \u001b[43m        \u001b[49m\u001b[43mreturn_length\u001b[49m\u001b[43m=\u001b[49m\u001b[43mreturn_length\u001b[49m\u001b[43m,\u001b[49m\n\u001b[32m    644\u001b[39m \u001b[43m        \u001b[49m\u001b[43mverbose\u001b[49m\u001b[43m=\u001b[49m\u001b[43mverbose\u001b[49m\u001b[43m,\u001b[49m\n\u001b[32m    645\u001b[39m \u001b[43m        \u001b[49m\u001b[43msplit_special_tokens\u001b[49m\u001b[43m=\u001b[49m\u001b[43msplit_special_tokens\u001b[49m\u001b[43m,\u001b[49m\n\u001b[32m    646\u001b[39m \u001b[43m        \u001b[49m\u001b[43m*\u001b[49m\u001b[43m*\u001b[49m\u001b[43mkwargs\u001b[49m\u001b[43m,\u001b[49m\n\u001b[32m    647\u001b[39m \u001b[43m    \u001b[49m\u001b[43m)\u001b[49m\n\u001b[32m    649\u001b[39m     \u001b[38;5;66;03m# Return tensor is None, then we can remove the leading batch axis\u001b[39;00m\n\u001b[32m    650\u001b[39m     \u001b[38;5;66;03m# Overflowing tokens are returned as a batch of output so we keep them in this case\u001b[39;00m\n\u001b[32m    651\u001b[39m     \u001b[38;5;28;01mif\u001b[39;00m return_tensors \u001b[38;5;129;01mis\u001b[39;00m \u001b[38;5;28;01mNone\u001b[39;00m \u001b[38;5;129;01mand\u001b[39;00m \u001b[38;5;129;01mnot\u001b[39;00m return_overflowing_tokens:\n",
      "\u001b[36mFile \u001b[39m\u001b[32m~/.pyenv/versions/ilo-toki/lib/python3.12/site-packages/transformers/tokenization_utils_fast.py:566\u001b[39m, in \u001b[36mPreTrainedTokenizerFast._batch_encode_plus\u001b[39m\u001b[34m(self, batch_text_or_text_pairs, add_special_tokens, padding_strategy, truncation_strategy, max_length, stride, is_split_into_words, pad_to_multiple_of, padding_side, return_tensors, return_token_type_ids, return_attention_mask, return_overflowing_tokens, return_special_tokens_mask, return_offsets_mapping, return_length, verbose, split_special_tokens)\u001b[39m\n\u001b[32m    553\u001b[39m encodings = \u001b[38;5;28mself\u001b[39m._tokenizer.encode_batch(\n\u001b[32m    554\u001b[39m     batch_text_or_text_pairs,\n\u001b[32m    555\u001b[39m     add_special_tokens=add_special_tokens,\n\u001b[32m    556\u001b[39m     is_pretokenized=is_split_into_words,\n\u001b[32m    557\u001b[39m )\n\u001b[32m    559\u001b[39m \u001b[38;5;66;03m# Convert encoding to dict\u001b[39;00m\n\u001b[32m    560\u001b[39m \u001b[38;5;66;03m# `Tokens` has type: tuple[\u001b[39;00m\n\u001b[32m    561\u001b[39m \u001b[38;5;66;03m#                       list[dict[str, list[list[int]]]] or list[dict[str, 2D-Tensor]],\u001b[39;00m\n\u001b[32m    562\u001b[39m \u001b[38;5;66;03m#                       list[EncodingFast]\u001b[39;00m\n\u001b[32m    563\u001b[39m \u001b[38;5;66;03m#                    ]\u001b[39;00m\n\u001b[32m    564\u001b[39m \u001b[38;5;66;03m# with nested dimensions corresponding to batch, overflows, sequence length\u001b[39;00m\n\u001b[32m    565\u001b[39m tokens_and_encodings = [\n\u001b[32m--> \u001b[39m\u001b[32m566\u001b[39m     \u001b[38;5;28;43mself\u001b[39;49m\u001b[43m.\u001b[49m\u001b[43m_convert_encoding\u001b[49m\u001b[43m(\u001b[49m\n\u001b[32m    567\u001b[39m \u001b[43m        \u001b[49m\u001b[43mencoding\u001b[49m\u001b[43m=\u001b[49m\u001b[43mencoding\u001b[49m\u001b[43m,\u001b[49m\n\u001b[32m    568\u001b[39m \u001b[43m        \u001b[49m\u001b[43mreturn_token_type_ids\u001b[49m\u001b[43m=\u001b[49m\u001b[43mreturn_token_type_ids\u001b[49m\u001b[43m,\u001b[49m\n\u001b[32m    569\u001b[39m \u001b[43m        \u001b[49m\u001b[43mreturn_attention_mask\u001b[49m\u001b[43m=\u001b[49m\u001b[43mreturn_attention_mask\u001b[49m\u001b[43m,\u001b[49m\n\u001b[32m    570\u001b[39m \u001b[43m        \u001b[49m\u001b[43mreturn_overflowing_tokens\u001b[49m\u001b[43m=\u001b[49m\u001b[43mreturn_overflowing_tokens\u001b[49m\u001b[43m,\u001b[49m\n\u001b[32m    571\u001b[39m \u001b[43m        \u001b[49m\u001b[43mreturn_special_tokens_mask\u001b[49m\u001b[43m=\u001b[49m\u001b[43mreturn_special_tokens_mask\u001b[49m\u001b[43m,\u001b[49m\n\u001b[32m    572\u001b[39m \u001b[43m        \u001b[49m\u001b[43mreturn_offsets_mapping\u001b[49m\u001b[43m=\u001b[49m\u001b[43mreturn_offsets_mapping\u001b[49m\u001b[43m,\u001b[49m\n\u001b[32m    573\u001b[39m \u001b[43m        \u001b[49m\u001b[43mreturn_length\u001b[49m\u001b[43m=\u001b[49m\u001b[43mreturn_length\u001b[49m\u001b[43m,\u001b[49m\n\u001b[32m    574\u001b[39m \u001b[43m        \u001b[49m\u001b[43mverbose\u001b[49m\u001b[43m=\u001b[49m\u001b[43mverbose\u001b[49m\u001b[43m,\u001b[49m\n\u001b[32m    575\u001b[39m \u001b[43m    \u001b[49m\u001b[43m)\u001b[49m\n\u001b[32m    576\u001b[39m     \u001b[38;5;28;01mfor\u001b[39;00m encoding \u001b[38;5;129;01min\u001b[39;00m encodings\n\u001b[32m    577\u001b[39m ]\n\u001b[32m    579\u001b[39m \u001b[38;5;66;03m# Convert the output to have dict[list] from list[dict] and remove the additional overflows dimension\u001b[39;00m\n\u001b[32m    580\u001b[39m \u001b[38;5;66;03m# From (variable) shape (batch, overflows, sequence length) to ~ (batch * overflows, sequence length)\u001b[39;00m\n\u001b[32m    581\u001b[39m \u001b[38;5;66;03m# (we say ~ because the number of overflow varies with the example in the batch)\u001b[39;00m\n\u001b[32m    582\u001b[39m \u001b[38;5;66;03m#\u001b[39;00m\n\u001b[32m    583\u001b[39m \u001b[38;5;66;03m# To match each overflowing sample with the original sample in the batch\u001b[39;00m\n\u001b[32m    584\u001b[39m \u001b[38;5;66;03m# we add an overflow_to_sample_mapping array (see below)\u001b[39;00m\n\u001b[32m    585\u001b[39m sanitized_tokens = {}\n",
      "\u001b[36mFile \u001b[39m\u001b[32m~/.pyenv/versions/ilo-toki/lib/python3.12/site-packages/transformers/tokenization_utils_fast.py:349\u001b[39m, in \u001b[36mPreTrainedTokenizerFast._convert_encoding\u001b[39m\u001b[34m(self, encoding, return_token_type_ids, return_attention_mask, return_overflowing_tokens, return_special_tokens_mask, return_offsets_mapping, return_length, verbose)\u001b[39m\n\u001b[32m    347\u001b[39m     \u001b[38;5;28;01mif\u001b[39;00m return_offsets_mapping:\n\u001b[32m    348\u001b[39m         encoding_dict[\u001b[33m\"\u001b[39m\u001b[33moffset_mapping\u001b[39m\u001b[33m\"\u001b[39m].append(e.offsets)\n\u001b[32m--> \u001b[39m\u001b[32m349\u001b[39m     \u001b[38;5;28;01mif\u001b[39;00m return_length:\n\u001b[32m    350\u001b[39m         encoding_dict[\u001b[33m\"\u001b[39m\u001b[33mlength\u001b[39m\u001b[33m\"\u001b[39m].append(\u001b[38;5;28mlen\u001b[39m(e.ids))\n\u001b[32m    352\u001b[39m \u001b[38;5;28;01mreturn\u001b[39;00m encoding_dict, encodings\n",
      "\u001b[31mKeyboardInterrupt\u001b[39m: "
     ]
    }
   ],
   "source": [
    "df = tatoeba_dataset[\"train\"].to_polars()\n",
    "for col in df.columns[5:]:\n",
    "    display(col)\n",
    "    display(df[col].map_elements(count_tokens).describe())"
   ]
  },
  {
   "cell_type": "code",
   "execution_count": 39,
   "id": "02687ad4",
   "metadata": {},
   "outputs": [
    {
     "data": {
      "text/plain": [
       "'tok'"
      ]
     },
     "metadata": {},
     "output_type": "display_data"
    },
    {
     "data": {
      "text/html": [
       "<div><style>\n",
       ".dataframe > thead > tr,\n",
       ".dataframe > tbody > tr {\n",
       "  text-align: right;\n",
       "  white-space: pre-wrap;\n",
       "}\n",
       "</style>\n",
       "<small>shape: (9, 2)</small><table border=\"1\" class=\"dataframe\"><thead><tr><th>statistic</th><th>value</th></tr><tr><td>str</td><td>f64</td></tr></thead><tbody><tr><td>&quot;count&quot;</td><td>1081.0</td></tr><tr><td>&quot;null_count&quot;</td><td>0.0</td></tr><tr><td>&quot;mean&quot;</td><td>43.013876</td></tr><tr><td>&quot;std&quot;</td><td>19.159728</td></tr><tr><td>&quot;min&quot;</td><td>8.0</td></tr><tr><td>&quot;25%&quot;</td><td>29.0</td></tr><tr><td>&quot;50%&quot;</td><td>40.0</td></tr><tr><td>&quot;75%&quot;</td><td>54.0</td></tr><tr><td>&quot;max&quot;</td><td>133.0</td></tr></tbody></table></div>"
      ],
      "text/plain": [
       "shape: (9, 2)\n",
       "┌────────────┬───────────┐\n",
       "│ statistic  ┆ value     │\n",
       "│ ---        ┆ ---       │\n",
       "│ str        ┆ f64       │\n",
       "╞════════════╪═══════════╡\n",
       "│ count      ┆ 1081.0    │\n",
       "│ null_count ┆ 0.0       │\n",
       "│ mean       ┆ 43.013876 │\n",
       "│ std        ┆ 19.159728 │\n",
       "│ min        ┆ 8.0       │\n",
       "│ 25%        ┆ 29.0      │\n",
       "│ 50%        ┆ 40.0      │\n",
       "│ 75%        ┆ 54.0      │\n",
       "│ max        ┆ 133.0     │\n",
       "└────────────┴───────────┘"
      ]
     },
     "metadata": {},
     "output_type": "display_data"
    },
    {
     "data": {
      "text/plain": [
       "'en'"
      ]
     },
     "metadata": {},
     "output_type": "display_data"
    },
    {
     "data": {
      "text/html": [
       "<div><style>\n",
       ".dataframe > thead > tr,\n",
       ".dataframe > tbody > tr {\n",
       "  text-align: right;\n",
       "  white-space: pre-wrap;\n",
       "}\n",
       "</style>\n",
       "<small>shape: (9, 2)</small><table border=\"1\" class=\"dataframe\"><thead><tr><th>statistic</th><th>value</th></tr><tr><td>str</td><td>f64</td></tr></thead><tbody><tr><td>&quot;count&quot;</td><td>1072.0</td></tr><tr><td>&quot;null_count&quot;</td><td>9.0</td></tr><tr><td>&quot;mean&quot;</td><td>28.853545</td></tr><tr><td>&quot;std&quot;</td><td>12.458109</td></tr><tr><td>&quot;min&quot;</td><td>6.0</td></tr><tr><td>&quot;25%&quot;</td><td>19.0</td></tr><tr><td>&quot;50%&quot;</td><td>27.0</td></tr><tr><td>&quot;75%&quot;</td><td>36.0</td></tr><tr><td>&quot;max&quot;</td><td>98.0</td></tr></tbody></table></div>"
      ],
      "text/plain": [
       "shape: (9, 2)\n",
       "┌────────────┬───────────┐\n",
       "│ statistic  ┆ value     │\n",
       "│ ---        ┆ ---       │\n",
       "│ str        ┆ f64       │\n",
       "╞════════════╪═══════════╡\n",
       "│ count      ┆ 1072.0    │\n",
       "│ null_count ┆ 9.0       │\n",
       "│ mean       ┆ 28.853545 │\n",
       "│ std        ┆ 12.458109 │\n",
       "│ min        ┆ 6.0       │\n",
       "│ 25%        ┆ 19.0      │\n",
       "│ 50%        ┆ 27.0      │\n",
       "│ 75%        ┆ 36.0      │\n",
       "│ max        ┆ 98.0      │\n",
       "└────────────┴───────────┘"
      ]
     },
     "metadata": {},
     "output_type": "display_data"
    },
    {
     "data": {
      "text/plain": [
       "'ru'"
      ]
     },
     "metadata": {},
     "output_type": "display_data"
    },
    {
     "data": {
      "text/html": [
       "<div><style>\n",
       ".dataframe > thead > tr,\n",
       ".dataframe > tbody > tr {\n",
       "  text-align: right;\n",
       "  white-space: pre-wrap;\n",
       "}\n",
       "</style>\n",
       "<small>shape: (9, 2)</small><table border=\"1\" class=\"dataframe\"><thead><tr><th>statistic</th><th>value</th></tr><tr><td>str</td><td>f64</td></tr></thead><tbody><tr><td>&quot;count&quot;</td><td>971.0</td></tr><tr><td>&quot;null_count&quot;</td><td>110.0</td></tr><tr><td>&quot;mean&quot;</td><td>33.533471</td></tr><tr><td>&quot;std&quot;</td><td>14.78895</td></tr><tr><td>&quot;min&quot;</td><td>5.0</td></tr><tr><td>&quot;25%&quot;</td><td>22.0</td></tr><tr><td>&quot;50%&quot;</td><td>31.0</td></tr><tr><td>&quot;75%&quot;</td><td>43.0</td></tr><tr><td>&quot;max&quot;</td><td>116.0</td></tr></tbody></table></div>"
      ],
      "text/plain": [
       "shape: (9, 2)\n",
       "┌────────────┬───────────┐\n",
       "│ statistic  ┆ value     │\n",
       "│ ---        ┆ ---       │\n",
       "│ str        ┆ f64       │\n",
       "╞════════════╪═══════════╡\n",
       "│ count      ┆ 971.0     │\n",
       "│ null_count ┆ 110.0     │\n",
       "│ mean       ┆ 33.533471 │\n",
       "│ std        ┆ 14.78895  │\n",
       "│ min        ┆ 5.0       │\n",
       "│ 25%        ┆ 22.0      │\n",
       "│ 50%        ┆ 31.0      │\n",
       "│ 75%        ┆ 43.0      │\n",
       "│ max        ┆ 116.0     │\n",
       "└────────────┴───────────┘"
      ]
     },
     "metadata": {},
     "output_type": "display_data"
    },
    {
     "data": {
      "text/plain": [
       "'uk'"
      ]
     },
     "metadata": {},
     "output_type": "display_data"
    },
    {
     "data": {
      "text/html": [
       "<div><style>\n",
       ".dataframe > thead > tr,\n",
       ".dataframe > tbody > tr {\n",
       "  text-align: right;\n",
       "  white-space: pre-wrap;\n",
       "}\n",
       "</style>\n",
       "<small>shape: (9, 2)</small><table border=\"1\" class=\"dataframe\"><thead><tr><th>statistic</th><th>value</th></tr><tr><td>str</td><td>f64</td></tr></thead><tbody><tr><td>&quot;count&quot;</td><td>1074.0</td></tr><tr><td>&quot;null_count&quot;</td><td>7.0</td></tr><tr><td>&quot;mean&quot;</td><td>39.798883</td></tr><tr><td>&quot;std&quot;</td><td>17.295862</td></tr><tr><td>&quot;min&quot;</td><td>8.0</td></tr><tr><td>&quot;25%&quot;</td><td>26.0</td></tr><tr><td>&quot;50%&quot;</td><td>37.0</td></tr><tr><td>&quot;75%&quot;</td><td>51.0</td></tr><tr><td>&quot;max&quot;</td><td>122.0</td></tr></tbody></table></div>"
      ],
      "text/plain": [
       "shape: (9, 2)\n",
       "┌────────────┬───────────┐\n",
       "│ statistic  ┆ value     │\n",
       "│ ---        ┆ ---       │\n",
       "│ str        ┆ f64       │\n",
       "╞════════════╪═══════════╡\n",
       "│ count      ┆ 1074.0    │\n",
       "│ null_count ┆ 7.0       │\n",
       "│ mean       ┆ 39.798883 │\n",
       "│ std        ┆ 17.295862 │\n",
       "│ min        ┆ 8.0       │\n",
       "│ 25%        ┆ 26.0      │\n",
       "│ 50%        ┆ 37.0      │\n",
       "│ 75%        ┆ 51.0      │\n",
       "│ max        ┆ 122.0     │\n",
       "└────────────┴───────────┘"
      ]
     },
     "metadata": {},
     "output_type": "display_data"
    },
    {
     "data": {
      "text/plain": [
       "'be'"
      ]
     },
     "metadata": {},
     "output_type": "display_data"
    },
    {
     "data": {
      "text/html": [
       "<div><style>\n",
       ".dataframe > thead > tr,\n",
       ".dataframe > tbody > tr {\n",
       "  text-align: right;\n",
       "  white-space: pre-wrap;\n",
       "}\n",
       "</style>\n",
       "<small>shape: (9, 2)</small><table border=\"1\" class=\"dataframe\"><thead><tr><th>statistic</th><th>value</th></tr><tr><td>str</td><td>f64</td></tr></thead><tbody><tr><td>&quot;count&quot;</td><td>1076.0</td></tr><tr><td>&quot;null_count&quot;</td><td>5.0</td></tr><tr><td>&quot;mean&quot;</td><td>45.618959</td></tr><tr><td>&quot;std&quot;</td><td>19.92511</td></tr><tr><td>&quot;min&quot;</td><td>6.0</td></tr><tr><td>&quot;25%&quot;</td><td>30.0</td></tr><tr><td>&quot;50%&quot;</td><td>42.0</td></tr><tr><td>&quot;75%&quot;</td><td>59.0</td></tr><tr><td>&quot;max&quot;</td><td>164.0</td></tr></tbody></table></div>"
      ],
      "text/plain": [
       "shape: (9, 2)\n",
       "┌────────────┬───────────┐\n",
       "│ statistic  ┆ value     │\n",
       "│ ---        ┆ ---       │\n",
       "│ str        ┆ f64       │\n",
       "╞════════════╪═══════════╡\n",
       "│ count      ┆ 1076.0    │\n",
       "│ null_count ┆ 5.0       │\n",
       "│ mean       ┆ 45.618959 │\n",
       "│ std        ┆ 19.92511  │\n",
       "│ min        ┆ 6.0       │\n",
       "│ 25%        ┆ 30.0      │\n",
       "│ 50%        ┆ 42.0      │\n",
       "│ 75%        ┆ 59.0      │\n",
       "│ max        ┆ 164.0     │\n",
       "└────────────┴───────────┘"
      ]
     },
     "metadata": {},
     "output_type": "display_data"
    },
    {
     "data": {
      "text/plain": [
       "'fr'"
      ]
     },
     "metadata": {},
     "output_type": "display_data"
    },
    {
     "data": {
      "text/html": [
       "<div><style>\n",
       ".dataframe > thead > tr,\n",
       ".dataframe > tbody > tr {\n",
       "  text-align: right;\n",
       "  white-space: pre-wrap;\n",
       "}\n",
       "</style>\n",
       "<small>shape: (9, 2)</small><table border=\"1\" class=\"dataframe\"><thead><tr><th>statistic</th><th>value</th></tr><tr><td>str</td><td>f64</td></tr></thead><tbody><tr><td>&quot;count&quot;</td><td>1080.0</td></tr><tr><td>&quot;null_count&quot;</td><td>1.0</td></tr><tr><td>&quot;mean&quot;</td><td>36.099074</td></tr><tr><td>&quot;std&quot;</td><td>15.535913</td></tr><tr><td>&quot;min&quot;</td><td>6.0</td></tr><tr><td>&quot;25%&quot;</td><td>24.0</td></tr><tr><td>&quot;50%&quot;</td><td>34.0</td></tr><tr><td>&quot;75%&quot;</td><td>46.0</td></tr><tr><td>&quot;max&quot;</td><td>114.0</td></tr></tbody></table></div>"
      ],
      "text/plain": [
       "shape: (9, 2)\n",
       "┌────────────┬───────────┐\n",
       "│ statistic  ┆ value     │\n",
       "│ ---        ┆ ---       │\n",
       "│ str        ┆ f64       │\n",
       "╞════════════╪═══════════╡\n",
       "│ count      ┆ 1080.0    │\n",
       "│ null_count ┆ 1.0       │\n",
       "│ mean       ┆ 36.099074 │\n",
       "│ std        ┆ 15.535913 │\n",
       "│ min        ┆ 6.0       │\n",
       "│ 25%        ┆ 24.0      │\n",
       "│ 50%        ┆ 34.0      │\n",
       "│ 75%        ┆ 46.0      │\n",
       "│ max        ┆ 114.0     │\n",
       "└────────────┴───────────┘"
      ]
     },
     "metadata": {},
     "output_type": "display_data"
    },
    {
     "data": {
      "text/plain": [
       "'es'"
      ]
     },
     "metadata": {},
     "output_type": "display_data"
    },
    {
     "data": {
      "text/html": [
       "<div><style>\n",
       ".dataframe > thead > tr,\n",
       ".dataframe > tbody > tr {\n",
       "  text-align: right;\n",
       "  white-space: pre-wrap;\n",
       "}\n",
       "</style>\n",
       "<small>shape: (9, 2)</small><table border=\"1\" class=\"dataframe\"><thead><tr><th>statistic</th><th>value</th></tr><tr><td>str</td><td>f64</td></tr></thead><tbody><tr><td>&quot;count&quot;</td><td>1072.0</td></tr><tr><td>&quot;null_count&quot;</td><td>9.0</td></tr><tr><td>&quot;mean&quot;</td><td>31.58209</td></tr><tr><td>&quot;std&quot;</td><td>13.590543</td></tr><tr><td>&quot;min&quot;</td><td>7.0</td></tr><tr><td>&quot;25%&quot;</td><td>21.0</td></tr><tr><td>&quot;50%&quot;</td><td>30.0</td></tr><tr><td>&quot;75%&quot;</td><td>40.0</td></tr><tr><td>&quot;max&quot;</td><td>121.0</td></tr></tbody></table></div>"
      ],
      "text/plain": [
       "shape: (9, 2)\n",
       "┌────────────┬───────────┐\n",
       "│ statistic  ┆ value     │\n",
       "│ ---        ┆ ---       │\n",
       "│ str        ┆ f64       │\n",
       "╞════════════╪═══════════╡\n",
       "│ count      ┆ 1072.0    │\n",
       "│ null_count ┆ 9.0       │\n",
       "│ mean       ┆ 31.58209  │\n",
       "│ std        ┆ 13.590543 │\n",
       "│ min        ┆ 7.0       │\n",
       "│ 25%        ┆ 21.0      │\n",
       "│ 50%        ┆ 30.0      │\n",
       "│ 75%        ┆ 40.0      │\n",
       "│ max        ┆ 121.0     │\n",
       "└────────────┴───────────┘"
      ]
     },
     "metadata": {},
     "output_type": "display_data"
    },
    {
     "data": {
      "text/plain": [
       "'pt'"
      ]
     },
     "metadata": {},
     "output_type": "display_data"
    },
    {
     "data": {
      "text/html": [
       "<div><style>\n",
       ".dataframe > thead > tr,\n",
       ".dataframe > tbody > tr {\n",
       "  text-align: right;\n",
       "  white-space: pre-wrap;\n",
       "}\n",
       "</style>\n",
       "<small>shape: (9, 2)</small><table border=\"1\" class=\"dataframe\"><thead><tr><th>statistic</th><th>value</th></tr><tr><td>str</td><td>f64</td></tr></thead><tbody><tr><td>&quot;count&quot;</td><td>1069.0</td></tr><tr><td>&quot;null_count&quot;</td><td>12.0</td></tr><tr><td>&quot;mean&quot;</td><td>32.973807</td></tr><tr><td>&quot;std&quot;</td><td>13.671071</td></tr><tr><td>&quot;min&quot;</td><td>7.0</td></tr><tr><td>&quot;25%&quot;</td><td>22.0</td></tr><tr><td>&quot;50%&quot;</td><td>32.0</td></tr><tr><td>&quot;75%&quot;</td><td>41.0</td></tr><tr><td>&quot;max&quot;</td><td>120.0</td></tr></tbody></table></div>"
      ],
      "text/plain": [
       "shape: (9, 2)\n",
       "┌────────────┬───────────┐\n",
       "│ statistic  ┆ value     │\n",
       "│ ---        ┆ ---       │\n",
       "│ str        ┆ f64       │\n",
       "╞════════════╪═══════════╡\n",
       "│ count      ┆ 1069.0    │\n",
       "│ null_count ┆ 12.0      │\n",
       "│ mean       ┆ 32.973807 │\n",
       "│ std        ┆ 13.671071 │\n",
       "│ min        ┆ 7.0       │\n",
       "│ 25%        ┆ 22.0      │\n",
       "│ 50%        ┆ 32.0      │\n",
       "│ 75%        ┆ 41.0      │\n",
       "│ max        ┆ 120.0     │\n",
       "└────────────┴───────────┘"
      ]
     },
     "metadata": {},
     "output_type": "display_data"
    },
    {
     "data": {
      "text/plain": [
       "'it'"
      ]
     },
     "metadata": {},
     "output_type": "display_data"
    },
    {
     "data": {
      "text/html": [
       "<div><style>\n",
       ".dataframe > thead > tr,\n",
       ".dataframe > tbody > tr {\n",
       "  text-align: right;\n",
       "  white-space: pre-wrap;\n",
       "}\n",
       "</style>\n",
       "<small>shape: (9, 2)</small><table border=\"1\" class=\"dataframe\"><thead><tr><th>statistic</th><th>value</th></tr><tr><td>str</td><td>f64</td></tr></thead><tbody><tr><td>&quot;count&quot;</td><td>1069.0</td></tr><tr><td>&quot;null_count&quot;</td><td>12.0</td></tr><tr><td>&quot;mean&quot;</td><td>37.210477</td></tr><tr><td>&quot;std&quot;</td><td>16.15218</td></tr><tr><td>&quot;min&quot;</td><td>5.0</td></tr><tr><td>&quot;25%&quot;</td><td>25.0</td></tr><tr><td>&quot;50%&quot;</td><td>35.0</td></tr><tr><td>&quot;75%&quot;</td><td>48.0</td></tr><tr><td>&quot;max&quot;</td><td>133.0</td></tr></tbody></table></div>"
      ],
      "text/plain": [
       "shape: (9, 2)\n",
       "┌────────────┬───────────┐\n",
       "│ statistic  ┆ value     │\n",
       "│ ---        ┆ ---       │\n",
       "│ str        ┆ f64       │\n",
       "╞════════════╪═══════════╡\n",
       "│ count      ┆ 1069.0    │\n",
       "│ null_count ┆ 12.0      │\n",
       "│ mean       ┆ 37.210477 │\n",
       "│ std        ┆ 16.15218  │\n",
       "│ min        ┆ 5.0       │\n",
       "│ 25%        ┆ 25.0      │\n",
       "│ 50%        ┆ 35.0      │\n",
       "│ 75%        ┆ 48.0      │\n",
       "│ max        ┆ 133.0     │\n",
       "└────────────┴───────────┘"
      ]
     },
     "metadata": {},
     "output_type": "display_data"
    },
    {
     "data": {
      "text/plain": [
       "'de'"
      ]
     },
     "metadata": {},
     "output_type": "display_data"
    },
    {
     "data": {
      "text/html": [
       "<div><style>\n",
       ".dataframe > thead > tr,\n",
       ".dataframe > tbody > tr {\n",
       "  text-align: right;\n",
       "  white-space: pre-wrap;\n",
       "}\n",
       "</style>\n",
       "<small>shape: (9, 2)</small><table border=\"1\" class=\"dataframe\"><thead><tr><th>statistic</th><th>value</th></tr><tr><td>str</td><td>f64</td></tr></thead><tbody><tr><td>&quot;count&quot;</td><td>1077.0</td></tr><tr><td>&quot;null_count&quot;</td><td>4.0</td></tr><tr><td>&quot;mean&quot;</td><td>31.504178</td></tr><tr><td>&quot;std&quot;</td><td>13.429467</td></tr><tr><td>&quot;min&quot;</td><td>7.0</td></tr><tr><td>&quot;25%&quot;</td><td>21.0</td></tr><tr><td>&quot;50%&quot;</td><td>30.0</td></tr><tr><td>&quot;75%&quot;</td><td>40.0</td></tr><tr><td>&quot;max&quot;</td><td>102.0</td></tr></tbody></table></div>"
      ],
      "text/plain": [
       "shape: (9, 2)\n",
       "┌────────────┬───────────┐\n",
       "│ statistic  ┆ value     │\n",
       "│ ---        ┆ ---       │\n",
       "│ str        ┆ f64       │\n",
       "╞════════════╪═══════════╡\n",
       "│ count      ┆ 1077.0    │\n",
       "│ null_count ┆ 4.0       │\n",
       "│ mean       ┆ 31.504178 │\n",
       "│ std        ┆ 13.429467 │\n",
       "│ min        ┆ 7.0       │\n",
       "│ 25%        ┆ 21.0      │\n",
       "│ 50%        ┆ 30.0      │\n",
       "│ 75%        ┆ 40.0      │\n",
       "│ max        ┆ 102.0     │\n",
       "└────────────┴───────────┘"
      ]
     },
     "metadata": {},
     "output_type": "display_data"
    },
    {
     "data": {
      "text/plain": [
       "'vi'"
      ]
     },
     "metadata": {},
     "output_type": "display_data"
    },
    {
     "data": {
      "text/html": [
       "<div><style>\n",
       ".dataframe > thead > tr,\n",
       ".dataframe > tbody > tr {\n",
       "  text-align: right;\n",
       "  white-space: pre-wrap;\n",
       "}\n",
       "</style>\n",
       "<small>shape: (9, 2)</small><table border=\"1\" class=\"dataframe\"><thead><tr><th>statistic</th><th>value</th></tr><tr><td>str</td><td>f64</td></tr></thead><tbody><tr><td>&quot;count&quot;</td><td>1069.0</td></tr><tr><td>&quot;null_count&quot;</td><td>12.0</td></tr><tr><td>&quot;mean&quot;</td><td>38.809167</td></tr><tr><td>&quot;std&quot;</td><td>16.54828</td></tr><tr><td>&quot;min&quot;</td><td>8.0</td></tr><tr><td>&quot;25%&quot;</td><td>26.0</td></tr><tr><td>&quot;50%&quot;</td><td>37.0</td></tr><tr><td>&quot;75%&quot;</td><td>49.0</td></tr><tr><td>&quot;max&quot;</td><td>133.0</td></tr></tbody></table></div>"
      ],
      "text/plain": [
       "shape: (9, 2)\n",
       "┌────────────┬───────────┐\n",
       "│ statistic  ┆ value     │\n",
       "│ ---        ┆ ---       │\n",
       "│ str        ┆ f64       │\n",
       "╞════════════╪═══════════╡\n",
       "│ count      ┆ 1069.0    │\n",
       "│ null_count ┆ 12.0      │\n",
       "│ mean       ┆ 38.809167 │\n",
       "│ std        ┆ 16.54828  │\n",
       "│ min        ┆ 8.0       │\n",
       "│ 25%        ┆ 26.0      │\n",
       "│ 50%        ┆ 37.0      │\n",
       "│ 75%        ┆ 49.0      │\n",
       "│ max        ┆ 133.0     │\n",
       "└────────────┴───────────┘"
      ]
     },
     "metadata": {},
     "output_type": "display_data"
    },
    {
     "data": {
      "text/plain": [
       "'ja'"
      ]
     },
     "metadata": {},
     "output_type": "display_data"
    },
    {
     "data": {
      "text/html": [
       "<div><style>\n",
       ".dataframe > thead > tr,\n",
       ".dataframe > tbody > tr {\n",
       "  text-align: right;\n",
       "  white-space: pre-wrap;\n",
       "}\n",
       "</style>\n",
       "<small>shape: (9, 2)</small><table border=\"1\" class=\"dataframe\"><thead><tr><th>statistic</th><th>value</th></tr><tr><td>str</td><td>f64</td></tr></thead><tbody><tr><td>&quot;count&quot;</td><td>199.0</td></tr><tr><td>&quot;null_count&quot;</td><td>882.0</td></tr><tr><td>&quot;mean&quot;</td><td>30.351759</td></tr><tr><td>&quot;std&quot;</td><td>10.914585</td></tr><tr><td>&quot;min&quot;</td><td>7.0</td></tr><tr><td>&quot;25%&quot;</td><td>23.0</td></tr><tr><td>&quot;50%&quot;</td><td>30.0</td></tr><tr><td>&quot;75%&quot;</td><td>37.0</td></tr><tr><td>&quot;max&quot;</td><td>63.0</td></tr></tbody></table></div>"
      ],
      "text/plain": [
       "shape: (9, 2)\n",
       "┌────────────┬───────────┐\n",
       "│ statistic  ┆ value     │\n",
       "│ ---        ┆ ---       │\n",
       "│ str        ┆ f64       │\n",
       "╞════════════╪═══════════╡\n",
       "│ count      ┆ 199.0     │\n",
       "│ null_count ┆ 882.0     │\n",
       "│ mean       ┆ 30.351759 │\n",
       "│ std        ┆ 10.914585 │\n",
       "│ min        ┆ 7.0       │\n",
       "│ 25%        ┆ 23.0      │\n",
       "│ 50%        ┆ 30.0      │\n",
       "│ 75%        ┆ 37.0      │\n",
       "│ max        ┆ 63.0      │\n",
       "└────────────┴───────────┘"
      ]
     },
     "metadata": {},
     "output_type": "display_data"
    },
    {
     "data": {
      "text/plain": [
       "'zh'"
      ]
     },
     "metadata": {},
     "output_type": "display_data"
    },
    {
     "data": {
      "text/html": [
       "<div><style>\n",
       ".dataframe > thead > tr,\n",
       ".dataframe > tbody > tr {\n",
       "  text-align: right;\n",
       "  white-space: pre-wrap;\n",
       "}\n",
       "</style>\n",
       "<small>shape: (9, 2)</small><table border=\"1\" class=\"dataframe\"><thead><tr><th>statistic</th><th>value</th></tr><tr><td>str</td><td>f64</td></tr></thead><tbody><tr><td>&quot;count&quot;</td><td>1069.0</td></tr><tr><td>&quot;null_count&quot;</td><td>12.0</td></tr><tr><td>&quot;mean&quot;</td><td>27.115996</td></tr><tr><td>&quot;std&quot;</td><td>11.041953</td></tr><tr><td>&quot;min&quot;</td><td>4.0</td></tr><tr><td>&quot;25%&quot;</td><td>19.0</td></tr><tr><td>&quot;50%&quot;</td><td>25.0</td></tr><tr><td>&quot;75%&quot;</td><td>34.0</td></tr><tr><td>&quot;max&quot;</td><td>83.0</td></tr></tbody></table></div>"
      ],
      "text/plain": [
       "shape: (9, 2)\n",
       "┌────────────┬───────────┐\n",
       "│ statistic  ┆ value     │\n",
       "│ ---        ┆ ---       │\n",
       "│ str        ┆ f64       │\n",
       "╞════════════╪═══════════╡\n",
       "│ count      ┆ 1069.0    │\n",
       "│ null_count ┆ 12.0      │\n",
       "│ mean       ┆ 27.115996 │\n",
       "│ std        ┆ 11.041953 │\n",
       "│ min        ┆ 4.0       │\n",
       "│ 25%        ┆ 19.0      │\n",
       "│ 50%        ┆ 25.0      │\n",
       "│ 75%        ┆ 34.0      │\n",
       "│ max        ┆ 83.0      │\n",
       "└────────────┴───────────┘"
      ]
     },
     "metadata": {},
     "output_type": "display_data"
    },
    {
     "data": {
      "text/plain": [
       "'ko'"
      ]
     },
     "metadata": {},
     "output_type": "display_data"
    },
    {
     "data": {
      "text/html": [
       "<div><style>\n",
       ".dataframe > thead > tr,\n",
       ".dataframe > tbody > tr {\n",
       "  text-align: right;\n",
       "  white-space: pre-wrap;\n",
       "}\n",
       "</style>\n",
       "<small>shape: (9, 2)</small><table border=\"1\" class=\"dataframe\"><thead><tr><th>statistic</th><th>value</th></tr><tr><td>str</td><td>f64</td></tr></thead><tbody><tr><td>&quot;count&quot;</td><td>1067.0</td></tr><tr><td>&quot;null_count&quot;</td><td>14.0</td></tr><tr><td>&quot;mean&quot;</td><td>39.779756</td></tr><tr><td>&quot;std&quot;</td><td>16.692148</td></tr><tr><td>&quot;min&quot;</td><td>3.0</td></tr><tr><td>&quot;25%&quot;</td><td>27.0</td></tr><tr><td>&quot;50%&quot;</td><td>37.0</td></tr><tr><td>&quot;75%&quot;</td><td>51.0</td></tr><tr><td>&quot;max&quot;</td><td>119.0</td></tr></tbody></table></div>"
      ],
      "text/plain": [
       "shape: (9, 2)\n",
       "┌────────────┬───────────┐\n",
       "│ statistic  ┆ value     │\n",
       "│ ---        ┆ ---       │\n",
       "│ str        ┆ f64       │\n",
       "╞════════════╪═══════════╡\n",
       "│ count      ┆ 1067.0    │\n",
       "│ null_count ┆ 14.0      │\n",
       "│ mean       ┆ 39.779756 │\n",
       "│ std        ┆ 16.692148 │\n",
       "│ min        ┆ 3.0       │\n",
       "│ 25%        ┆ 27.0      │\n",
       "│ 50%        ┆ 37.0      │\n",
       "│ 75%        ┆ 51.0      │\n",
       "│ max        ┆ 119.0     │\n",
       "└────────────┴───────────┘"
      ]
     },
     "metadata": {},
     "output_type": "display_data"
    },
    {
     "data": {
      "text/plain": [
       "'ar'"
      ]
     },
     "metadata": {},
     "output_type": "display_data"
    },
    {
     "data": {
      "text/html": [
       "<div><style>\n",
       ".dataframe > thead > tr,\n",
       ".dataframe > tbody > tr {\n",
       "  text-align: right;\n",
       "  white-space: pre-wrap;\n",
       "}\n",
       "</style>\n",
       "<small>shape: (9, 2)</small><table border=\"1\" class=\"dataframe\"><thead><tr><th>statistic</th><th>value</th></tr><tr><td>str</td><td>f64</td></tr></thead><tbody><tr><td>&quot;count&quot;</td><td>1069.0</td></tr><tr><td>&quot;null_count&quot;</td><td>12.0</td></tr><tr><td>&quot;mean&quot;</td><td>88.540692</td></tr><tr><td>&quot;std&quot;</td><td>40.177573</td></tr><tr><td>&quot;min&quot;</td><td>10.0</td></tr><tr><td>&quot;25%&quot;</td><td>56.0</td></tr><tr><td>&quot;50%&quot;</td><td>83.0</td></tr><tr><td>&quot;75%&quot;</td><td>116.0</td></tr><tr><td>&quot;max&quot;</td><td>340.0</td></tr></tbody></table></div>"
      ],
      "text/plain": [
       "shape: (9, 2)\n",
       "┌────────────┬───────────┐\n",
       "│ statistic  ┆ value     │\n",
       "│ ---        ┆ ---       │\n",
       "│ str        ┆ f64       │\n",
       "╞════════════╪═══════════╡\n",
       "│ count      ┆ 1069.0    │\n",
       "│ null_count ┆ 12.0      │\n",
       "│ mean       ┆ 88.540692 │\n",
       "│ std        ┆ 40.177573 │\n",
       "│ min        ┆ 10.0      │\n",
       "│ 25%        ┆ 56.0      │\n",
       "│ 50%        ┆ 83.0      │\n",
       "│ 75%        ┆ 116.0     │\n",
       "│ max        ┆ 340.0     │\n",
       "└────────────┴───────────┘"
      ]
     },
     "metadata": {},
     "output_type": "display_data"
    },
    {
     "data": {
      "text/plain": [
       "'he'"
      ]
     },
     "metadata": {},
     "output_type": "display_data"
    },
    {
     "data": {
      "text/html": [
       "<div><style>\n",
       ".dataframe > thead > tr,\n",
       ".dataframe > tbody > tr {\n",
       "  text-align: right;\n",
       "  white-space: pre-wrap;\n",
       "}\n",
       "</style>\n",
       "<small>shape: (9, 2)</small><table border=\"1\" class=\"dataframe\"><thead><tr><th>statistic</th><th>value</th></tr><tr><td>str</td><td>f64</td></tr></thead><tbody><tr><td>&quot;count&quot;</td><td>1077.0</td></tr><tr><td>&quot;null_count&quot;</td><td>4.0</td></tr><tr><td>&quot;mean&quot;</td><td>28.31662</td></tr><tr><td>&quot;std&quot;</td><td>11.432891</td></tr><tr><td>&quot;min&quot;</td><td>6.0</td></tr><tr><td>&quot;25%&quot;</td><td>19.0</td></tr><tr><td>&quot;50%&quot;</td><td>27.0</td></tr><tr><td>&quot;75%&quot;</td><td>36.0</td></tr><tr><td>&quot;max&quot;</td><td>97.0</td></tr></tbody></table></div>"
      ],
      "text/plain": [
       "shape: (9, 2)\n",
       "┌────────────┬───────────┐\n",
       "│ statistic  ┆ value     │\n",
       "│ ---        ┆ ---       │\n",
       "│ str        ┆ f64       │\n",
       "╞════════════╪═══════════╡\n",
       "│ count      ┆ 1077.0    │\n",
       "│ null_count ┆ 4.0       │\n",
       "│ mean       ┆ 28.31662  │\n",
       "│ std        ┆ 11.432891 │\n",
       "│ min        ┆ 6.0       │\n",
       "│ 25%        ┆ 19.0      │\n",
       "│ 50%        ┆ 27.0      │\n",
       "│ 75%        ┆ 36.0      │\n",
       "│ max        ┆ 97.0      │\n",
       "└────────────┴───────────┘"
      ]
     },
     "metadata": {},
     "output_type": "display_data"
    },
    {
     "data": {
      "text/plain": [
       "'pl'"
      ]
     },
     "metadata": {},
     "output_type": "display_data"
    },
    {
     "data": {
      "text/html": [
       "<div><style>\n",
       ".dataframe > thead > tr,\n",
       ".dataframe > tbody > tr {\n",
       "  text-align: right;\n",
       "  white-space: pre-wrap;\n",
       "}\n",
       "</style>\n",
       "<small>shape: (9, 2)</small><table border=\"1\" class=\"dataframe\"><thead><tr><th>statistic</th><th>value</th></tr><tr><td>str</td><td>f64</td></tr></thead><tbody><tr><td>&quot;count&quot;</td><td>1069.0</td></tr><tr><td>&quot;null_count&quot;</td><td>12.0</td></tr><tr><td>&quot;mean&quot;</td><td>36.885875</td></tr><tr><td>&quot;std&quot;</td><td>15.604129</td></tr><tr><td>&quot;min&quot;</td><td>8.0</td></tr><tr><td>&quot;25%&quot;</td><td>24.0</td></tr><tr><td>&quot;50%&quot;</td><td>35.0</td></tr><tr><td>&quot;75%&quot;</td><td>47.0</td></tr><tr><td>&quot;max&quot;</td><td>132.0</td></tr></tbody></table></div>"
      ],
      "text/plain": [
       "shape: (9, 2)\n",
       "┌────────────┬───────────┐\n",
       "│ statistic  ┆ value     │\n",
       "│ ---        ┆ ---       │\n",
       "│ str        ┆ f64       │\n",
       "╞════════════╪═══════════╡\n",
       "│ count      ┆ 1069.0    │\n",
       "│ null_count ┆ 12.0      │\n",
       "│ mean       ┆ 36.885875 │\n",
       "│ std        ┆ 15.604129 │\n",
       "│ min        ┆ 8.0       │\n",
       "│ 25%        ┆ 24.0      │\n",
       "│ 50%        ┆ 35.0      │\n",
       "│ 75%        ┆ 47.0      │\n",
       "│ max        ┆ 132.0     │\n",
       "└────────────┴───────────┘"
      ]
     },
     "metadata": {},
     "output_type": "display_data"
    },
    {
     "data": {
      "text/plain": [
       "'tr'"
      ]
     },
     "metadata": {},
     "output_type": "display_data"
    },
    {
     "data": {
      "text/html": [
       "<div><style>\n",
       ".dataframe > thead > tr,\n",
       ".dataframe > tbody > tr {\n",
       "  text-align: right;\n",
       "  white-space: pre-wrap;\n",
       "}\n",
       "</style>\n",
       "<small>shape: (9, 2)</small><table border=\"1\" class=\"dataframe\"><thead><tr><th>statistic</th><th>value</th></tr><tr><td>str</td><td>f64</td></tr></thead><tbody><tr><td>&quot;count&quot;</td><td>1069.0</td></tr><tr><td>&quot;null_count&quot;</td><td>12.0</td></tr><tr><td>&quot;mean&quot;</td><td>34.767072</td></tr><tr><td>&quot;std&quot;</td><td>14.571758</td></tr><tr><td>&quot;min&quot;</td><td>4.0</td></tr><tr><td>&quot;25%&quot;</td><td>23.0</td></tr><tr><td>&quot;50%&quot;</td><td>33.0</td></tr><tr><td>&quot;75%&quot;</td><td>45.0</td></tr><tr><td>&quot;max&quot;</td><td>120.0</td></tr></tbody></table></div>"
      ],
      "text/plain": [
       "shape: (9, 2)\n",
       "┌────────────┬───────────┐\n",
       "│ statistic  ┆ value     │\n",
       "│ ---        ┆ ---       │\n",
       "│ str        ┆ f64       │\n",
       "╞════════════╪═══════════╡\n",
       "│ count      ┆ 1069.0    │\n",
       "│ null_count ┆ 12.0      │\n",
       "│ mean       ┆ 34.767072 │\n",
       "│ std        ┆ 14.571758 │\n",
       "│ min        ┆ 4.0       │\n",
       "│ 25%        ┆ 23.0      │\n",
       "│ 50%        ┆ 33.0      │\n",
       "│ 75%        ┆ 45.0      │\n",
       "│ max        ┆ 120.0     │\n",
       "└────────────┴───────────┘"
      ]
     },
     "metadata": {},
     "output_type": "display_data"
    },
    {
     "data": {
      "text/plain": [
       "'la'"
      ]
     },
     "metadata": {},
     "output_type": "display_data"
    },
    {
     "data": {
      "text/html": [
       "<div><style>\n",
       ".dataframe > thead > tr,\n",
       ".dataframe > tbody > tr {\n",
       "  text-align: right;\n",
       "  white-space: pre-wrap;\n",
       "}\n",
       "</style>\n",
       "<small>shape: (9, 2)</small><table border=\"1\" class=\"dataframe\"><thead><tr><th>statistic</th><th>value</th></tr><tr><td>str</td><td>f64</td></tr></thead><tbody><tr><td>&quot;count&quot;</td><td>807.0</td></tr><tr><td>&quot;null_count&quot;</td><td>274.0</td></tr><tr><td>&quot;mean&quot;</td><td>33.174721</td></tr><tr><td>&quot;std&quot;</td><td>15.067193</td></tr><tr><td>&quot;min&quot;</td><td>5.0</td></tr><tr><td>&quot;25%&quot;</td><td>21.0</td></tr><tr><td>&quot;50%&quot;</td><td>30.0</td></tr><tr><td>&quot;75%&quot;</td><td>43.0</td></tr><tr><td>&quot;max&quot;</td><td>125.0</td></tr></tbody></table></div>"
      ],
      "text/plain": [
       "shape: (9, 2)\n",
       "┌────────────┬───────────┐\n",
       "│ statistic  ┆ value     │\n",
       "│ ---        ┆ ---       │\n",
       "│ str        ┆ f64       │\n",
       "╞════════════╪═══════════╡\n",
       "│ count      ┆ 807.0     │\n",
       "│ null_count ┆ 274.0     │\n",
       "│ mean       ┆ 33.174721 │\n",
       "│ std        ┆ 15.067193 │\n",
       "│ min        ┆ 5.0       │\n",
       "│ 25%        ┆ 21.0      │\n",
       "│ 50%        ┆ 30.0      │\n",
       "│ 75%        ┆ 43.0      │\n",
       "│ max        ┆ 125.0     │\n",
       "└────────────┴───────────┘"
      ]
     },
     "metadata": {},
     "output_type": "display_data"
    },
    {
     "data": {
      "text/plain": [
       "'el'"
      ]
     },
     "metadata": {},
     "output_type": "display_data"
    },
    {
     "data": {
      "text/html": [
       "<div><style>\n",
       ".dataframe > thead > tr,\n",
       ".dataframe > tbody > tr {\n",
       "  text-align: right;\n",
       "  white-space: pre-wrap;\n",
       "}\n",
       "</style>\n",
       "<small>shape: (9, 2)</small><table border=\"1\" class=\"dataframe\"><thead><tr><th>statistic</th><th>value</th></tr><tr><td>str</td><td>f64</td></tr></thead><tbody><tr><td>&quot;count&quot;</td><td>974.0</td></tr><tr><td>&quot;null_count&quot;</td><td>107.0</td></tr><tr><td>&quot;mean&quot;</td><td>60.069815</td></tr><tr><td>&quot;std&quot;</td><td>25.923384</td></tr><tr><td>&quot;min&quot;</td><td>7.0</td></tr><tr><td>&quot;25%&quot;</td><td>39.0</td></tr><tr><td>&quot;50%&quot;</td><td>56.0</td></tr><tr><td>&quot;75%&quot;</td><td>78.0</td></tr><tr><td>&quot;max&quot;</td><td>173.0</td></tr></tbody></table></div>"
      ],
      "text/plain": [
       "shape: (9, 2)\n",
       "┌────────────┬───────────┐\n",
       "│ statistic  ┆ value     │\n",
       "│ ---        ┆ ---       │\n",
       "│ str        ┆ f64       │\n",
       "╞════════════╪═══════════╡\n",
       "│ count      ┆ 974.0     │\n",
       "│ null_count ┆ 107.0     │\n",
       "│ mean       ┆ 60.069815 │\n",
       "│ std        ┆ 25.923384 │\n",
       "│ min        ┆ 7.0       │\n",
       "│ 25%        ┆ 39.0      │\n",
       "│ 50%        ┆ 56.0      │\n",
       "│ 75%        ┆ 78.0      │\n",
       "│ max        ┆ 173.0     │\n",
       "└────────────┴───────────┘"
      ]
     },
     "metadata": {},
     "output_type": "display_data"
    }
   ],
   "source": [
    "df = sewi_dataset[\"train\"].to_polars()\n",
    "for col in df.columns[5:]:\n",
    "    display(col)\n",
    "    display(df[col].map_elements(count_tokens).describe())"
   ]
  },
  {
   "cell_type": "code",
   "execution_count": 120,
   "id": "11961698",
   "metadata": {},
   "outputs": [
    {
     "data": {
      "text/html": [
       "<div><style>\n",
       ".dataframe > thead > tr,\n",
       ".dataframe > tbody > tr {\n",
       "  text-align: right;\n",
       "  white-space: pre-wrap;\n",
       "}\n",
       "</style>\n",
       "<small>shape: (9, 2)</small><table border=\"1\" class=\"dataframe\"><thead><tr><th>statistic</th><th>value</th></tr><tr><td>str</td><td>f64</td></tr></thead><tbody><tr><td>&quot;count&quot;</td><td>2917.0</td></tr><tr><td>&quot;null_count&quot;</td><td>0.0</td></tr><tr><td>&quot;mean&quot;</td><td>226.772369</td></tr><tr><td>&quot;std&quot;</td><td>509.421358</td></tr><tr><td>&quot;min&quot;</td><td>4.0</td></tr><tr><td>&quot;25%&quot;</td><td>58.0</td></tr><tr><td>&quot;50%&quot;</td><td>113.0</td></tr><tr><td>&quot;75%&quot;</td><td>228.0</td></tr><tr><td>&quot;max&quot;</td><td>15212.0</td></tr></tbody></table></div>"
      ],
      "text/plain": [
       "shape: (9, 2)\n",
       "┌────────────┬────────────┐\n",
       "│ statistic  ┆ value      │\n",
       "│ ---        ┆ ---        │\n",
       "│ str        ┆ f64        │\n",
       "╞════════════╪════════════╡\n",
       "│ count      ┆ 2917.0     │\n",
       "│ null_count ┆ 0.0        │\n",
       "│ mean       ┆ 226.772369 │\n",
       "│ std        ┆ 509.421358 │\n",
       "│ min        ┆ 4.0        │\n",
       "│ 25%        ┆ 58.0       │\n",
       "│ 50%        ┆ 113.0      │\n",
       "│ 75%        ┆ 228.0      │\n",
       "│ max        ┆ 15212.0    │\n",
       "└────────────┴────────────┘"
      ]
     },
     "execution_count": 120,
     "metadata": {},
     "output_type": "execute_result"
    }
   ],
   "source": [
    "df = wiki_dataset[\"train\"].to_polars()\n",
    "df[\"text\"].map_elements(count_tokens).describe()"
   ]
  },
  {
   "cell_type": "code",
   "execution_count": 121,
   "id": "089d80a0",
   "metadata": {},
   "outputs": [
    {
     "data": {
      "text/html": [
       "<div><style>\n",
       ".dataframe > thead > tr,\n",
       ".dataframe > tbody > tr {\n",
       "  text-align: right;\n",
       "  white-space: pre-wrap;\n",
       "}\n",
       "</style>\n",
       "<small>shape: (9, 2)</small><table border=\"1\" class=\"dataframe\"><thead><tr><th>statistic</th><th>value</th></tr><tr><td>str</td><td>f64</td></tr></thead><tbody><tr><td>&quot;count&quot;</td><td>2917.0</td></tr><tr><td>&quot;null_count&quot;</td><td>0.0</td></tr><tr><td>&quot;mean&quot;</td><td>224.757628</td></tr><tr><td>&quot;std&quot;</td><td>506.993372</td></tr><tr><td>&quot;min&quot;</td><td>4.0</td></tr><tr><td>&quot;25%&quot;</td><td>58.0</td></tr><tr><td>&quot;50%&quot;</td><td>111.0</td></tr><tr><td>&quot;75%&quot;</td><td>227.0</td></tr><tr><td>&quot;max&quot;</td><td>15313.0</td></tr></tbody></table></div>"
      ],
      "text/plain": [
       "shape: (9, 2)\n",
       "┌────────────┬────────────┐\n",
       "│ statistic  ┆ value      │\n",
       "│ ---        ┆ ---        │\n",
       "│ str        ┆ f64        │\n",
       "╞════════════╪════════════╡\n",
       "│ count      ┆ 2917.0     │\n",
       "│ null_count ┆ 0.0        │\n",
       "│ mean       ┆ 224.757628 │\n",
       "│ std        ┆ 506.993372 │\n",
       "│ min        ┆ 4.0        │\n",
       "│ 25%        ┆ 58.0       │\n",
       "│ 50%        ┆ 111.0      │\n",
       "│ 75%        ┆ 227.0      │\n",
       "│ max        ┆ 15313.0    │\n",
       "└────────────┴────────────┘"
      ]
     },
     "execution_count": 121,
     "metadata": {},
     "output_type": "execute_result"
    }
   ],
   "source": [
    "df = wiki_dataset[\"train\"].to_polars()\n",
    "df[\"text\"].map_elements(clean_text).map_elements(count_tokens).describe()"
   ]
  },
  {
   "cell_type": "code",
   "execution_count": 122,
   "id": "a4924e3a",
   "metadata": {},
   "outputs": [
    {
     "data": {
      "text/html": [
       "<div><style>\n",
       ".dataframe > thead > tr,\n",
       ".dataframe > tbody > tr {\n",
       "  text-align: right;\n",
       "  white-space: pre-wrap;\n",
       "}\n",
       "</style>\n",
       "<small>shape: (9, 2)</small><table border=\"1\" class=\"dataframe\"><thead><tr><th>statistic</th><th>value</th></tr><tr><td>str</td><td>f64</td></tr></thead><tbody><tr><td>&quot;count&quot;</td><td>1433.0</td></tr><tr><td>&quot;null_count&quot;</td><td>0.0</td></tr><tr><td>&quot;mean&quot;</td><td>1237.900907</td></tr><tr><td>&quot;std&quot;</td><td>16624.123236</td></tr><tr><td>&quot;min&quot;</td><td>1.0</td></tr><tr><td>&quot;25%&quot;</td><td>149.0</td></tr><tr><td>&quot;50%&quot;</td><td>361.0</td></tr><tr><td>&quot;75%&quot;</td><td>735.0</td></tr><tr><td>&quot;max&quot;</td><td>618874.0</td></tr></tbody></table></div>"
      ],
      "text/plain": [
       "shape: (9, 2)\n",
       "┌────────────┬──────────────┐\n",
       "│ statistic  ┆ value        │\n",
       "│ ---        ┆ ---          │\n",
       "│ str        ┆ f64          │\n",
       "╞════════════╪══════════════╡\n",
       "│ count      ┆ 1433.0       │\n",
       "│ null_count ┆ 0.0          │\n",
       "│ mean       ┆ 1237.900907  │\n",
       "│ std        ┆ 16624.123236 │\n",
       "│ min        ┆ 1.0          │\n",
       "│ 25%        ┆ 149.0        │\n",
       "│ 50%        ┆ 361.0        │\n",
       "│ 75%        ┆ 735.0        │\n",
       "│ max        ┆ 618874.0     │\n",
       "└────────────┴──────────────┘"
      ]
     },
     "execution_count": 122,
     "metadata": {},
     "output_type": "execute_result"
    }
   ],
   "source": [
    "poki_dataset[\"train\"].to_polars()[\"text\"].map_elements(count_tokens).describe()"
   ]
  },
  {
   "cell_type": "code",
   "execution_count": 123,
   "id": "88100291",
   "metadata": {},
   "outputs": [
    {
     "data": {
      "text/html": [
       "<div><style>\n",
       ".dataframe > thead > tr,\n",
       ".dataframe > tbody > tr {\n",
       "  text-align: right;\n",
       "  white-space: pre-wrap;\n",
       "}\n",
       "</style>\n",
       "<small>shape: (9, 2)</small><table border=\"1\" class=\"dataframe\"><thead><tr><th>statistic</th><th>value</th></tr><tr><td>str</td><td>f64</td></tr></thead><tbody><tr><td>&quot;count&quot;</td><td>1433.0</td></tr><tr><td>&quot;null_count&quot;</td><td>0.0</td></tr><tr><td>&quot;mean&quot;</td><td>831.460572</td></tr><tr><td>&quot;std&quot;</td><td>3464.325029</td></tr><tr><td>&quot;min&quot;</td><td>1.0</td></tr><tr><td>&quot;25%&quot;</td><td>144.0</td></tr><tr><td>&quot;50%&quot;</td><td>345.0</td></tr><tr><td>&quot;75%&quot;</td><td>726.0</td></tr><tr><td>&quot;max&quot;</td><td>97669.0</td></tr></tbody></table></div>"
      ],
      "text/plain": [
       "shape: (9, 2)\n",
       "┌────────────┬─────────────┐\n",
       "│ statistic  ┆ value       │\n",
       "│ ---        ┆ ---         │\n",
       "│ str        ┆ f64         │\n",
       "╞════════════╪═════════════╡\n",
       "│ count      ┆ 1433.0      │\n",
       "│ null_count ┆ 0.0         │\n",
       "│ mean       ┆ 831.460572  │\n",
       "│ std        ┆ 3464.325029 │\n",
       "│ min        ┆ 1.0         │\n",
       "│ 25%        ┆ 144.0       │\n",
       "│ 50%        ┆ 345.0       │\n",
       "│ 75%        ┆ 726.0       │\n",
       "│ max        ┆ 97669.0     │\n",
       "└────────────┴─────────────┘"
      ]
     },
     "execution_count": 123,
     "metadata": {},
     "output_type": "execute_result"
    }
   ],
   "source": [
    "poki_dataset[\"train\"].to_polars()[\"text\"].map_elements(clean_text).map_elements(count_tokens).describe()"
   ]
  },
  {
   "cell_type": "code",
   "execution_count": 124,
   "id": "95c5f7e8",
   "metadata": {},
   "outputs": [
    {
     "data": {
      "text/html": [
       "<div><style>\n",
       ".dataframe > thead > tr,\n",
       ".dataframe > tbody > tr {\n",
       "  text-align: right;\n",
       "  white-space: pre-wrap;\n",
       "}\n",
       "</style>\n",
       "<small>shape: (9, 2)</small><table border=\"1\" class=\"dataframe\"><thead><tr><th>statistic</th><th>value</th></tr><tr><td>str</td><td>f64</td></tr></thead><tbody><tr><td>&quot;count&quot;</td><td>42.0</td></tr><tr><td>&quot;null_count&quot;</td><td>0.0</td></tr><tr><td>&quot;mean&quot;</td><td>801.738095</td></tr><tr><td>&quot;std&quot;</td><td>537.579764</td></tr><tr><td>&quot;min&quot;</td><td>27.0</td></tr><tr><td>&quot;25%&quot;</td><td>399.0</td></tr><tr><td>&quot;50%&quot;</td><td>756.0</td></tr><tr><td>&quot;75%&quot;</td><td>1071.0</td></tr><tr><td>&quot;max&quot;</td><td>2224.0</td></tr></tbody></table></div>"
      ],
      "text/plain": [
       "shape: (9, 2)\n",
       "┌────────────┬────────────┐\n",
       "│ statistic  ┆ value      │\n",
       "│ ---        ┆ ---        │\n",
       "│ str        ┆ f64        │\n",
       "╞════════════╪════════════╡\n",
       "│ count      ┆ 42.0       │\n",
       "│ null_count ┆ 0.0        │\n",
       "│ mean       ┆ 801.738095 │\n",
       "│ std        ┆ 537.579764 │\n",
       "│ min        ┆ 27.0       │\n",
       "│ 25%        ┆ 399.0      │\n",
       "│ 50%        ┆ 756.0      │\n",
       "│ 75%        ┆ 1071.0     │\n",
       "│ max        ┆ 2224.0     │\n",
       "└────────────┴────────────┘"
      ]
     },
     "execution_count": 124,
     "metadata": {},
     "output_type": "execute_result"
    }
   ],
   "source": [
    "kule_dataset[\"train\"].to_polars()[\"text\"].map_elements(count_tokens).describe()"
   ]
  },
  {
   "cell_type": "code",
   "execution_count": 125,
   "id": "2e9ec8e1",
   "metadata": {},
   "outputs": [
    {
     "data": {
      "text/html": [
       "<div><style>\n",
       ".dataframe > thead > tr,\n",
       ".dataframe > tbody > tr {\n",
       "  text-align: right;\n",
       "  white-space: pre-wrap;\n",
       "}\n",
       "</style>\n",
       "<small>shape: (9, 2)</small><table border=\"1\" class=\"dataframe\"><thead><tr><th>statistic</th><th>value</th></tr><tr><td>str</td><td>f64</td></tr></thead><tbody><tr><td>&quot;count&quot;</td><td>42.0</td></tr><tr><td>&quot;null_count&quot;</td><td>0.0</td></tr><tr><td>&quot;mean&quot;</td><td>767.547619</td></tr><tr><td>&quot;std&quot;</td><td>535.904715</td></tr><tr><td>&quot;min&quot;</td><td>27.0</td></tr><tr><td>&quot;25%&quot;</td><td>363.0</td></tr><tr><td>&quot;50%&quot;</td><td>717.0</td></tr><tr><td>&quot;75%&quot;</td><td>1074.0</td></tr><tr><td>&quot;max&quot;</td><td>2190.0</td></tr></tbody></table></div>"
      ],
      "text/plain": [
       "shape: (9, 2)\n",
       "┌────────────┬────────────┐\n",
       "│ statistic  ┆ value      │\n",
       "│ ---        ┆ ---        │\n",
       "│ str        ┆ f64        │\n",
       "╞════════════╪════════════╡\n",
       "│ count      ┆ 42.0       │\n",
       "│ null_count ┆ 0.0        │\n",
       "│ mean       ┆ 767.547619 │\n",
       "│ std        ┆ 535.904715 │\n",
       "│ min        ┆ 27.0       │\n",
       "│ 25%        ┆ 363.0      │\n",
       "│ 50%        ┆ 717.0      │\n",
       "│ 75%        ┆ 1074.0     │\n",
       "│ max        ┆ 2190.0     │\n",
       "└────────────┴────────────┘"
      ]
     },
     "execution_count": 125,
     "metadata": {},
     "output_type": "execute_result"
    }
   ],
   "source": [
    "kule_dataset[\"train\"].to_polars()[\"text\"].map_elements(clean_text).map_elements(count_tokens).describe()"
   ]
  },
  {
   "cell_type": "code",
   "execution_count": 156,
   "id": "edd0eff9",
   "metadata": {},
   "outputs": [],
   "source": [
    "new_data = {\n",
    "    \"train\": [],\n",
    "    \"validation\": []\n",
    "}"
   ]
  },
  {
   "cell_type": "code",
   "execution_count": 157,
   "id": "a76195fc",
   "metadata": {},
   "outputs": [],
   "source": [
    "batch_size = 5\n",
    "overlap = 2\n",
    "\n",
    "for key in [\"train\", \"validation\"]:\n",
    "    df = tatoeba_dataset[key].to_polars()[[\"tok\", \"en\", \"ru\", \"vi\"]].drop_nulls()\n",
    "    # conc_df = df\\\n",
    "    #     .with_row_index(\"row_id\")\\\n",
    "    #     .with_columns([\n",
    "    #         ((pl.col(\"row_id\") - pl.col(\"row_id\") % (batch_size - overlap)) // (batch_size - overlap))\n",
    "    #         .alias(\"chunk\")\n",
    "    #     ])\\\n",
    "    #     .group_by([\"chunk\"], maintain_order=True)\\\n",
    "    #     .agg([\n",
    "    #         pl.col(col).str.join(\" \").alias(col)\n",
    "    #         for col in df.columns\n",
    "    #     ])\n",
    "    new_data[key].append(df[[\"tok\", \"en\", \"ru\", \"vi\"]])"
   ]
  },
  {
   "cell_type": "code",
   "execution_count": 158,
   "id": "f6650384",
   "metadata": {},
   "outputs": [
    {
     "data": {
      "text/plain": [
       "'tok'"
      ]
     },
     "metadata": {},
     "output_type": "display_data"
    },
    {
     "data": {
      "text/html": [
       "<div><style>\n",
       ".dataframe > thead > tr,\n",
       ".dataframe > tbody > tr {\n",
       "  text-align: right;\n",
       "  white-space: pre-wrap;\n",
       "}\n",
       "</style>\n",
       "<small>shape: (9, 2)</small><table border=\"1\" class=\"dataframe\"><thead><tr><th>statistic</th><th>value</th></tr><tr><td>str</td><td>f64</td></tr></thead><tbody><tr><td>&quot;count&quot;</td><td>65.0</td></tr><tr><td>&quot;null_count&quot;</td><td>0.0</td></tr><tr><td>&quot;mean&quot;</td><td>39.184615</td></tr><tr><td>&quot;std&quot;</td><td>17.649267</td></tr><tr><td>&quot;min&quot;</td><td>14.0</td></tr><tr><td>&quot;25%&quot;</td><td>27.0</td></tr><tr><td>&quot;50%&quot;</td><td>36.0</td></tr><tr><td>&quot;75%&quot;</td><td>49.0</td></tr><tr><td>&quot;max&quot;</td><td>90.0</td></tr></tbody></table></div>"
      ],
      "text/plain": [
       "shape: (9, 2)\n",
       "┌────────────┬───────────┐\n",
       "│ statistic  ┆ value     │\n",
       "│ ---        ┆ ---       │\n",
       "│ str        ┆ f64       │\n",
       "╞════════════╪═══════════╡\n",
       "│ count      ┆ 65.0      │\n",
       "│ null_count ┆ 0.0       │\n",
       "│ mean       ┆ 39.184615 │\n",
       "│ std        ┆ 17.649267 │\n",
       "│ min        ┆ 14.0      │\n",
       "│ 25%        ┆ 27.0      │\n",
       "│ 50%        ┆ 36.0      │\n",
       "│ 75%        ┆ 49.0      │\n",
       "│ max        ┆ 90.0      │\n",
       "└────────────┴───────────┘"
      ]
     },
     "metadata": {},
     "output_type": "display_data"
    },
    {
     "data": {
      "text/plain": [
       "'en'"
      ]
     },
     "metadata": {},
     "output_type": "display_data"
    },
    {
     "data": {
      "text/html": [
       "<div><style>\n",
       ".dataframe > thead > tr,\n",
       ".dataframe > tbody > tr {\n",
       "  text-align: right;\n",
       "  white-space: pre-wrap;\n",
       "}\n",
       "</style>\n",
       "<small>shape: (9, 2)</small><table border=\"1\" class=\"dataframe\"><thead><tr><th>statistic</th><th>value</th></tr><tr><td>str</td><td>f64</td></tr></thead><tbody><tr><td>&quot;count&quot;</td><td>65.0</td></tr><tr><td>&quot;null_count&quot;</td><td>0.0</td></tr><tr><td>&quot;mean&quot;</td><td>27.092308</td></tr><tr><td>&quot;std&quot;</td><td>9.830951</td></tr><tr><td>&quot;min&quot;</td><td>8.0</td></tr><tr><td>&quot;25%&quot;</td><td>19.0</td></tr><tr><td>&quot;50%&quot;</td><td>27.0</td></tr><tr><td>&quot;75%&quot;</td><td>35.0</td></tr><tr><td>&quot;max&quot;</td><td>49.0</td></tr></tbody></table></div>"
      ],
      "text/plain": [
       "shape: (9, 2)\n",
       "┌────────────┬───────────┐\n",
       "│ statistic  ┆ value     │\n",
       "│ ---        ┆ ---       │\n",
       "│ str        ┆ f64       │\n",
       "╞════════════╪═══════════╡\n",
       "│ count      ┆ 65.0      │\n",
       "│ null_count ┆ 0.0       │\n",
       "│ mean       ┆ 27.092308 │\n",
       "│ std        ┆ 9.830951  │\n",
       "│ min        ┆ 8.0       │\n",
       "│ 25%        ┆ 19.0      │\n",
       "│ 50%        ┆ 27.0      │\n",
       "│ 75%        ┆ 35.0      │\n",
       "│ max        ┆ 49.0      │\n",
       "└────────────┴───────────┘"
      ]
     },
     "metadata": {},
     "output_type": "display_data"
    },
    {
     "data": {
      "text/plain": [
       "'ru'"
      ]
     },
     "metadata": {},
     "output_type": "display_data"
    },
    {
     "data": {
      "text/html": [
       "<div><style>\n",
       ".dataframe > thead > tr,\n",
       ".dataframe > tbody > tr {\n",
       "  text-align: right;\n",
       "  white-space: pre-wrap;\n",
       "}\n",
       "</style>\n",
       "<small>shape: (9, 2)</small><table border=\"1\" class=\"dataframe\"><thead><tr><th>statistic</th><th>value</th></tr><tr><td>str</td><td>f64</td></tr></thead><tbody><tr><td>&quot;count&quot;</td><td>65.0</td></tr><tr><td>&quot;null_count&quot;</td><td>0.0</td></tr><tr><td>&quot;mean&quot;</td><td>30.630769</td></tr><tr><td>&quot;std&quot;</td><td>12.249451</td></tr><tr><td>&quot;min&quot;</td><td>9.0</td></tr><tr><td>&quot;25%&quot;</td><td>22.0</td></tr><tr><td>&quot;50%&quot;</td><td>30.0</td></tr><tr><td>&quot;75%&quot;</td><td>37.0</td></tr><tr><td>&quot;max&quot;</td><td>67.0</td></tr></tbody></table></div>"
      ],
      "text/plain": [
       "shape: (9, 2)\n",
       "┌────────────┬───────────┐\n",
       "│ statistic  ┆ value     │\n",
       "│ ---        ┆ ---       │\n",
       "│ str        ┆ f64       │\n",
       "╞════════════╪═══════════╡\n",
       "│ count      ┆ 65.0      │\n",
       "│ null_count ┆ 0.0       │\n",
       "│ mean       ┆ 30.630769 │\n",
       "│ std        ┆ 12.249451 │\n",
       "│ min        ┆ 9.0       │\n",
       "│ 25%        ┆ 22.0      │\n",
       "│ 50%        ┆ 30.0      │\n",
       "│ 75%        ┆ 37.0      │\n",
       "│ max        ┆ 67.0      │\n",
       "└────────────┴───────────┘"
      ]
     },
     "metadata": {},
     "output_type": "display_data"
    },
    {
     "data": {
      "text/plain": [
       "'vi'"
      ]
     },
     "metadata": {},
     "output_type": "display_data"
    },
    {
     "data": {
      "text/html": [
       "<div><style>\n",
       ".dataframe > thead > tr,\n",
       ".dataframe > tbody > tr {\n",
       "  text-align: right;\n",
       "  white-space: pre-wrap;\n",
       "}\n",
       "</style>\n",
       "<small>shape: (9, 2)</small><table border=\"1\" class=\"dataframe\"><thead><tr><th>statistic</th><th>value</th></tr><tr><td>str</td><td>f64</td></tr></thead><tbody><tr><td>&quot;count&quot;</td><td>65.0</td></tr><tr><td>&quot;null_count&quot;</td><td>0.0</td></tr><tr><td>&quot;mean&quot;</td><td>38.907692</td></tr><tr><td>&quot;std&quot;</td><td>16.100973</td></tr><tr><td>&quot;min&quot;</td><td>12.0</td></tr><tr><td>&quot;25%&quot;</td><td>25.0</td></tr><tr><td>&quot;50%&quot;</td><td>38.0</td></tr><tr><td>&quot;75%&quot;</td><td>47.0</td></tr><tr><td>&quot;max&quot;</td><td>76.0</td></tr></tbody></table></div>"
      ],
      "text/plain": [
       "shape: (9, 2)\n",
       "┌────────────┬───────────┐\n",
       "│ statistic  ┆ value     │\n",
       "│ ---        ┆ ---       │\n",
       "│ str        ┆ f64       │\n",
       "╞════════════╪═══════════╡\n",
       "│ count      ┆ 65.0      │\n",
       "│ null_count ┆ 0.0       │\n",
       "│ mean       ┆ 38.907692 │\n",
       "│ std        ┆ 16.100973 │\n",
       "│ min        ┆ 12.0      │\n",
       "│ 25%        ┆ 25.0      │\n",
       "│ 50%        ┆ 38.0      │\n",
       "│ 75%        ┆ 47.0      │\n",
       "│ max        ┆ 76.0      │\n",
       "└────────────┴───────────┘"
      ]
     },
     "metadata": {},
     "output_type": "display_data"
    }
   ],
   "source": [
    "batch_size = 3\n",
    "overlap = 2\n",
    "\n",
    "for key in [\"train\", \"validation\"]:\n",
    "    df = sewi_dataset[key].to_polars()[\"key\", \"part\", \"book\", \"chapter\", \"verse\", \"tok\", \"en\", \"ru\", \"vi\"]#.drop_nulls()\n",
    "\n",
    "    # conc_df = df\\\n",
    "    #     .sort([\"part\", \"book\", \"chapter\", \"verse\"])\\\n",
    "    #     .with_row_index(\"row_id\")\\\n",
    "    #     .with_columns((pl.col(\"row_id\") - pl.col(\"row_id\") % (batch_size - overlap)).alias(\"chunk\"))\\\n",
    "    #     .group_by([\"chunk\"], maintain_order=True)\\\n",
    "    #     .agg([\n",
    "    #         pl.col(col).str.join(\" \").alias(col)\n",
    "    #         for col in df.columns[5:]\n",
    "    #     ])\n",
    "    new_data[key].append(df[[\"tok\", \"en\", \"ru\", \"vi\"]])\n",
    "\n",
    "for col in df.columns[5:10]:\n",
    "    display(col)\n",
    "    display(df[col].map_elements(count_tokens).describe())\n"
   ]
  },
  {
   "cell_type": "code",
   "execution_count": 163,
   "id": "01a95682",
   "metadata": {},
   "outputs": [
    {
     "data": {
      "text/html": [
       "<div><style>\n",
       ".dataframe > thead > tr,\n",
       ".dataframe > tbody > tr {\n",
       "  text-align: right;\n",
       "  white-space: pre-wrap;\n",
       "}\n",
       "</style>\n",
       "<small>shape: (9, 2)</small><table border=\"1\" class=\"dataframe\"><thead><tr><th>statistic</th><th>value</th></tr><tr><td>str</td><td>f64</td></tr></thead><tbody><tr><td>&quot;count&quot;</td><td>326.0</td></tr><tr><td>&quot;null_count&quot;</td><td>0.0</td></tr><tr><td>&quot;mean&quot;</td><td>98.380368</td></tr><tr><td>&quot;std&quot;</td><td>93.920733</td></tr><tr><td>&quot;min&quot;</td><td>3.0</td></tr><tr><td>&quot;25%&quot;</td><td>30.0</td></tr><tr><td>&quot;50%&quot;</td><td>73.0</td></tr><tr><td>&quot;75%&quot;</td><td>131.0</td></tr><tr><td>&quot;max&quot;</td><td>748.0</td></tr></tbody></table></div>"
      ],
      "text/plain": [
       "shape: (9, 2)\n",
       "┌────────────┬───────────┐\n",
       "│ statistic  ┆ value     │\n",
       "│ ---        ┆ ---       │\n",
       "│ str        ┆ f64       │\n",
       "╞════════════╪═══════════╡\n",
       "│ count      ┆ 326.0     │\n",
       "│ null_count ┆ 0.0       │\n",
       "│ mean       ┆ 98.380368 │\n",
       "│ std        ┆ 93.920733 │\n",
       "│ min        ┆ 3.0       │\n",
       "│ 25%        ┆ 30.0      │\n",
       "│ 50%        ┆ 73.0      │\n",
       "│ 75%        ┆ 131.0     │\n",
       "│ max        ┆ 748.0     │\n",
       "└────────────┴───────────┘"
      ]
     },
     "execution_count": 163,
     "metadata": {},
     "output_type": "execute_result"
    }
   ],
   "source": [
    "batch_size = 5\n",
    "overlap = 2\n",
    "\n",
    "for key in [\"train\", \"validation\"]:\n",
    "\n",
    "    df = wiki_dataset[key].to_polars()\n",
    "    df = df.with_columns(pl.col(\"text\").map_elements(clean_text))\n",
    "\n",
    "    exploded = (\n",
    "        df\n",
    "        .with_row_index(\"doc_id\")\n",
    "\n",
    "        # .with_columns(pl.col(\"text\").str.split(\". \", inclusive=True).alias(\"paragraphs\"))\n",
    "        # .explode(\"paragraphs\")\n",
    "\n",
    "        .with_columns(pl.col(\"text\").str.split(\"\\n\", inclusive=True).alias(\"paragraphs\"))\n",
    "        .explode(\"paragraphs\")\n",
    "\n",
    "        .filter(pl.col(\"paragraphs\").str.strip_chars().str.len_chars() > 0)\n",
    "    )\n",
    "\n",
    "    result = (\n",
    "        exploded\n",
    "        .with_row_index(\"row_id\")\n",
    "        .with_columns([\n",
    "            ((pl.col(\"row_id\") - pl.col(\"row_id\") % (batch_size - overlap)) // (batch_size - overlap))\n",
    "            .alias(\"chunk\")\n",
    "        ])\n",
    "        .group_by([\"doc_id\", \"chunk\"], maintain_order=True)\n",
    "        .agg([\n",
    "            pl.col(\"paragraphs\").str.join(\"\").alias(\"text_concat\")\n",
    "        ])\n",
    "        .sort([\"doc_id\", \"chunk\"])\n",
    "        .select([\"doc_id\", \"text_concat\"])\n",
    "        .rename({\"text_concat\": \"text\"})\n",
    "        .unique(\"text\")\n",
    "    )\n",
    "    new_data[key].append(result[[\"text\"]])\n",
    "\n",
    "result[\"text\"].map_elements(count_tokens).describe()"
   ]
  },
  {
   "cell_type": "code",
   "execution_count": 166,
   "id": "f56cf2b0",
   "metadata": {},
   "outputs": [
    {
     "data": {
      "text/html": [
       "<div><style>\n",
       ".dataframe > thead > tr,\n",
       ".dataframe > tbody > tr {\n",
       "  text-align: right;\n",
       "  white-space: pre-wrap;\n",
       "}\n",
       "</style>\n",
       "<small>shape: (9, 2)</small><table border=\"1\" class=\"dataframe\"><thead><tr><th>statistic</th><th>value</th></tr><tr><td>str</td><td>f64</td></tr></thead><tbody><tr><td>&quot;count&quot;</td><td>673.0</td></tr><tr><td>&quot;null_count&quot;</td><td>0.0</td></tr><tr><td>&quot;mean&quot;</td><td>119.540862</td></tr><tr><td>&quot;std&quot;</td><td>111.71823</td></tr><tr><td>&quot;min&quot;</td><td>4.0</td></tr><tr><td>&quot;25%&quot;</td><td>43.0</td></tr><tr><td>&quot;50%&quot;</td><td>86.0</td></tr><tr><td>&quot;75%&quot;</td><td>160.0</td></tr><tr><td>&quot;max&quot;</td><td>650.0</td></tr></tbody></table></div>"
      ],
      "text/plain": [
       "shape: (9, 2)\n",
       "┌────────────┬────────────┐\n",
       "│ statistic  ┆ value      │\n",
       "│ ---        ┆ ---        │\n",
       "│ str        ┆ f64        │\n",
       "╞════════════╪════════════╡\n",
       "│ count      ┆ 673.0      │\n",
       "│ null_count ┆ 0.0        │\n",
       "│ mean       ┆ 119.540862 │\n",
       "│ std        ┆ 111.71823  │\n",
       "│ min        ┆ 4.0        │\n",
       "│ 25%        ┆ 43.0       │\n",
       "│ 50%        ┆ 86.0       │\n",
       "│ 75%        ┆ 160.0      │\n",
       "│ max        ┆ 650.0      │\n",
       "└────────────┴────────────┘"
      ]
     },
     "execution_count": 166,
     "metadata": {},
     "output_type": "execute_result"
    }
   ],
   "source": [
    "batch_size = 6\n",
    "overlap = 1\n",
    "\n",
    "for key in [\"train\", \"validation\"]:\n",
    "\n",
    "    df = poki_dataset[key].to_polars()\n",
    "    df = df.with_columns(pl.col(\"text\").map_elements(clean_text))\n",
    "\n",
    "    exploded = (\n",
    "        df\n",
    "        .with_row_index(\"doc_id\")\n",
    "        # .with_columns(pl.col(\"text\").str.split(\". \", inclusive=True).alias(\"sentences\"))\n",
    "        # .explode(\"sentences\")\n",
    "        .with_columns(pl.col(\"text\").str.split(\"\\n\", inclusive=True).alias(\"sentences\"))\n",
    "        .explode(\"sentences\")\n",
    "        .filter(pl.col(\"sentences\").str.strip_chars().str.len_chars().is_between(1, 1500))\n",
    "    )\n",
    "\n",
    "    # exploded = exploded.with_columns(exploded[\"sentences\"].map_elements(count_tokens).alias(\"tokens\"))\n",
    "\n",
    "    # exploded = exploded.filter(exploded[\"tokens\"] < 1000)\n",
    "    # exploded = exploded.with_columns(exploded[\"text\"].str.strip_chars_start(\" \\n\"))\n",
    "    # exploded = exploded.filter(exploded[\"text\"].str.len_chars() > 3)\n",
    "\n",
    "    # print(exploded.sort(pl.col(\"tokens\"), descending=True)[\"sentences\"][0])\n",
    "    # display(exploded[\"tokens\"].describe())\n",
    "    # break\n",
    "\n",
    "    result = (\n",
    "        exploded\n",
    "        .with_row_index(\"row_id\")\n",
    "        .with_columns([\n",
    "            ((pl.col(\"row_id\") - pl.col(\"row_id\") % (batch_size - overlap)) // (batch_size - overlap))\n",
    "            .alias(\"chunk\")\n",
    "        ])\n",
    "        .group_by([\"doc_id\", \"chunk\"], maintain_order=True)\n",
    "        .agg([\n",
    "            pl.col(\"sentences\").str.join(\"\").alias(\"text_concat\")\n",
    "        ])\n",
    "        .sort([\"doc_id\", \"chunk\"])\n",
    "        .select([\"doc_id\", \"text_concat\"])\n",
    "        .rename({\"text_concat\": \"text\"})\n",
    "        .unique(\"text\")\n",
    "    )\n",
    "    new_data[key].append(result[[\"text\"]])\n",
    "\n",
    "result[\"text\"].map_elements(count_tokens).describe()"
   ]
  },
  {
   "cell_type": "code",
   "execution_count": 167,
   "id": "ed3ef48a",
   "metadata": {},
   "outputs": [],
   "source": [
    "for key in [\"train\"]:\n",
    "    df = kule_dataset[key].to_polars().with_columns(pl.col(\"text\").map_elements(clean_text)).unique(\"text\")\n",
    "    new_data[key].append(df[[\"text\"]])"
   ]
  },
  {
   "cell_type": "code",
   "execution_count": 168,
   "id": "9d6a7739",
   "metadata": {},
   "outputs": [
    {
     "name": "stdout",
     "output_type": "stream",
     "text": [
      "train 5\n",
      "validation 4\n"
     ]
    }
   ],
   "source": [
    "for key in new_data.keys():\n",
    "    print(key, len(new_data[key]))"
   ]
  },
  {
   "cell_type": "code",
   "execution_count": 169,
   "id": "e11dd3cc",
   "metadata": {},
   "outputs": [
    {
     "name": "stdout",
     "output_type": "stream",
     "text": [
      "(74668, 4)\n",
      "(1081, 4)\n",
      "(7080, 1)\n",
      "(9695, 1)\n",
      "(42, 1)\n"
     ]
    }
   ],
   "source": [
    "for d in new_data[\"train\"]:\n",
    "    print(d.shape)"
   ]
  },
  {
   "cell_type": "code",
   "execution_count": 170,
   "id": "2c639997",
   "metadata": {},
   "outputs": [],
   "source": [
    "languages = [\"en\", \"ru\", \"vi\"]\n",
    "\n",
    "def make_pairs(seq):\n",
    "    for row in seq:\n",
    "        if \"text\" in row.keys():\n",
    "            yield {\"from\": \"tok\", \"to\": None, \"source\": row[\"text\"], \"target\": None}\n",
    "            continue\n",
    "\n",
    "        for code in languages:\n",
    "            if not row[code]:\n",
    "                continue\n",
    "            yield {\"from\": \"tok\", \"to\": code, \"source\": row[\"tok\"], \"target\": row[code]}\n",
    "            yield {\"from\": code, \"to\": \"tok\", \"source\": row[code], \"target\": row[\"tok\"]}"
   ]
  },
  {
   "cell_type": "code",
   "execution_count": 171,
   "id": "54f4ff21",
   "metadata": {},
   "outputs": [
    {
     "name": "stdout",
     "output_type": "stream",
     "text": [
      "{'from': 'tok', 'to': None, 'source': 'pipi\\npoka\\npoki\\n', 'target': None}\n"
     ]
    }
   ],
   "source": [
    "for pair in make_pairs(new_data[\"train\"][2].to_dicts()):\n",
    "    print(pair)\n",
    "    break"
   ]
  },
  {
   "cell_type": "code",
   "execution_count": 172,
   "id": "f5029696",
   "metadata": {},
   "outputs": [
    {
     "data": {
      "text/plain": [
       "DatasetDict({\n",
       "    train: Dataset({\n",
       "        features: ['from', 'to', 'source', 'target'],\n",
       "        num_rows: 471049\n",
       "    })\n",
       "    validation: Dataset({\n",
       "        features: ['from', 'to', 'source', 'target'],\n",
       "        num_rows: 24969\n",
       "    })\n",
       "})"
      ]
     },
     "execution_count": 172,
     "metadata": {},
     "output_type": "execute_result"
    }
   ],
   "source": [
    "new_dataset = {\"train\": [], \"validation\": []}\n",
    "dataset_dict = datasets.DatasetDict()\n",
    "\n",
    "for key, value in new_data.items():\n",
    "    for df in value:\n",
    "        for row in make_pairs(df.iter_rows(named=True)):\n",
    "            new_dataset[key].append(row)\n",
    "\n",
    "    data_df = pl.DataFrame(data=new_dataset[key])\n",
    "    dataset_dict[key] = datasets.Dataset.from_polars(data_df)\n",
    "\n",
    "dataset_dict"
   ]
  },
  {
   "cell_type": "code",
   "execution_count": 177,
   "id": "d9488412",
   "metadata": {},
   "outputs": [
    {
     "data": {
      "text/html": [
       "<div><style>\n",
       ".dataframe > thead > tr,\n",
       ".dataframe > tbody > tr {\n",
       "  text-align: right;\n",
       "  white-space: pre-wrap;\n",
       "}\n",
       "</style>\n",
       "<small>shape: (62_531,)</small><table border=\"1\" class=\"dataframe\"><thead><tr><th>target</th></tr><tr><td>str</td></tr></thead><tbody><tr><td>&quot;tan kala lili la akesi li kama…</td></tr><tr><td>&quot;ona mute li toki.&quot;</td></tr><tr><td>&quot;jan seme li jan Kete?&quot;</td></tr><tr><td>&quot;mama sewi o pana e pona tawa m…</td></tr><tr><td>&quot;mi pilin la mi sona la ni li s…</td></tr><tr><td>&hellip;</td></tr><tr><td>&quot;jan Ton li lukin e sitelen taw…</td></tr><tr><td>&quot;ona li kama sinpin lon poka pi…</td></tr><tr><td>&quot;mi mute li wawa.&quot;</td></tr><tr><td>&quot;ona li toki e ni: ona li awen …</td></tr><tr><td>&quot;toki lon la sina kama poki e p…</td></tr></tbody></table></div>"
      ],
      "text/plain": [
       "shape: (62_531,)\n",
       "Series: 'target' [str]\n",
       "[\n",
       "\t\"tan kala lili la akesi li kama…\n",
       "\t\"ona mute li toki.\"\n",
       "\t\"jan seme li jan Kete?\"\n",
       "\t\"mama sewi o pana e pona tawa m…\n",
       "\t\"mi pilin la mi sona la ni li s…\n",
       "\t…\n",
       "\t\"jan Ton li lukin e sitelen taw…\n",
       "\t\"ona li kama sinpin lon poka pi…\n",
       "\t\"mi mute li wawa.\"\n",
       "\t\"ona li toki e ni: ona li awen …\n",
       "\t\"toki lon la sina kama poki e p…\n",
       "]"
      ]
     },
     "execution_count": 177,
     "metadata": {},
     "output_type": "execute_result"
    }
   ],
   "source": [
    "dataset_dict[\"train\"].to_polars().filter(pl.col(\"to\") == \"tok\")[\"target\"].unique()"
   ]
  },
  {
   "cell_type": "code",
   "execution_count": 178,
   "id": "95848015",
   "metadata": {},
   "outputs": [
    {
     "data": {
      "text/plain": [
       "'train'"
      ]
     },
     "metadata": {},
     "output_type": "display_data"
    },
    {
     "data": {
      "text/html": [
       "<div><style>\n",
       ".dataframe > thead > tr,\n",
       ".dataframe > tbody > tr {\n",
       "  text-align: right;\n",
       "  white-space: pre-wrap;\n",
       "}\n",
       "</style>\n",
       "<small>shape: (9, 2)</small><table border=\"1\" class=\"dataframe\"><thead><tr><th>statistic</th><th>value</th></tr><tr><td>str</td><td>f64</td></tr></thead><tbody><tr><td>&quot;count&quot;</td><td>471049.0</td></tr><tr><td>&quot;null_count&quot;</td><td>0.0</td></tr><tr><td>&quot;mean&quot;</td><td>15.699114</td></tr><tr><td>&quot;std&quot;</td><td>31.884079</td></tr><tr><td>&quot;min&quot;</td><td>2.0</td></tr><tr><td>&quot;25%&quot;</td><td>8.0</td></tr><tr><td>&quot;50%&quot;</td><td>11.0</td></tr><tr><td>&quot;75%&quot;</td><td>15.0</td></tr><tr><td>&quot;max&quot;</td><td>2190.0</td></tr></tbody></table></div>"
      ],
      "text/plain": [
       "shape: (9, 2)\n",
       "┌────────────┬───────────┐\n",
       "│ statistic  ┆ value     │\n",
       "│ ---        ┆ ---       │\n",
       "│ str        ┆ f64       │\n",
       "╞════════════╪═══════════╡\n",
       "│ count      ┆ 471049.0  │\n",
       "│ null_count ┆ 0.0       │\n",
       "│ mean       ┆ 15.699114 │\n",
       "│ std        ┆ 31.884079 │\n",
       "│ min        ┆ 2.0       │\n",
       "│ 25%        ┆ 8.0       │\n",
       "│ 50%        ┆ 11.0      │\n",
       "│ 75%        ┆ 15.0      │\n",
       "│ max        ┆ 2190.0    │\n",
       "└────────────┴───────────┘"
      ]
     },
     "metadata": {},
     "output_type": "display_data"
    },
    {
     "data": {
      "text/plain": [
       "16817"
      ]
     },
     "metadata": {},
     "output_type": "display_data"
    },
    {
     "data": {
      "text/plain": [
       "(471049, 5)"
      ]
     },
     "metadata": {},
     "output_type": "display_data"
    },
    {
     "data": {
      "text/plain": [
       "'validation'"
      ]
     },
     "metadata": {},
     "output_type": "display_data"
    },
    {
     "data": {
      "text/html": [
       "<div><style>\n",
       ".dataframe > thead > tr,\n",
       ".dataframe > tbody > tr {\n",
       "  text-align: right;\n",
       "  white-space: pre-wrap;\n",
       "}\n",
       "</style>\n",
       "<small>shape: (9, 2)</small><table border=\"1\" class=\"dataframe\"><thead><tr><th>statistic</th><th>value</th></tr><tr><td>str</td><td>f64</td></tr></thead><tbody><tr><td>&quot;count&quot;</td><td>24969.0</td></tr><tr><td>&quot;null_count&quot;</td><td>0.0</td></tr><tr><td>&quot;mean&quot;</td><td>16.354159</td></tr><tr><td>&quot;std&quot;</td><td>29.756315</td></tr><tr><td>&quot;min&quot;</td><td>3.0</td></tr><tr><td>&quot;25%&quot;</td><td>8.0</td></tr><tr><td>&quot;50%&quot;</td><td>11.0</td></tr><tr><td>&quot;75%&quot;</td><td>15.0</td></tr><tr><td>&quot;max&quot;</td><td>748.0</td></tr></tbody></table></div>"
      ],
      "text/plain": [
       "shape: (9, 2)\n",
       "┌────────────┬───────────┐\n",
       "│ statistic  ┆ value     │\n",
       "│ ---        ┆ ---       │\n",
       "│ str        ┆ f64       │\n",
       "╞════════════╪═══════════╡\n",
       "│ count      ┆ 24969.0   │\n",
       "│ null_count ┆ 0.0       │\n",
       "│ mean       ┆ 16.354159 │\n",
       "│ std        ┆ 29.756315 │\n",
       "│ min        ┆ 3.0       │\n",
       "│ 25%        ┆ 8.0       │\n",
       "│ 50%        ┆ 11.0      │\n",
       "│ 75%        ┆ 15.0      │\n",
       "│ max        ┆ 748.0     │\n",
       "└────────────┴───────────┘"
      ]
     },
     "metadata": {},
     "output_type": "display_data"
    },
    {
     "data": {
      "text/plain": [
       "999"
      ]
     },
     "metadata": {},
     "output_type": "display_data"
    },
    {
     "data": {
      "text/plain": [
       "(24969, 5)"
      ]
     },
     "metadata": {},
     "output_type": "display_data"
    }
   ],
   "source": [
    "for key in dataset_dict.keys():\n",
    "    display(key)\n",
    "    tt = dataset_dict[key].to_polars()\n",
    "    tt = tt.with_columns(tt[\"source\"].map_elements(count_tokens).alias(\"tokens\"))\n",
    "    display(tt[\"tokens\"].describe())\n",
    "    display(tt[\"target\"].null_count())\n",
    "    display(tt.shape)"
   ]
  },
  {
   "cell_type": "code",
   "execution_count": 179,
   "id": "ec457b98",
   "metadata": {},
   "outputs": [
    {
     "data": {
      "application/vnd.jupyter.widget-view+json": {
       "model_id": "91b359371e4e442289db8d272ace1eee",
       "version_major": 2,
       "version_minor": 0
      },
      "text/plain": [
       "Uploading the dataset shards:   0%|          | 0/1 [00:00<?, ? shards/s]"
      ]
     },
     "metadata": {},
     "output_type": "display_data"
    },
    {
     "data": {
      "application/vnd.jupyter.widget-view+json": {
       "model_id": "0ec67874ae6246f8ba4c7613d3bc501b",
       "version_major": 2,
       "version_minor": 0
      },
      "text/plain": [
       "Creating parquet from Arrow format:   0%|          | 0/1 [00:00<?, ?ba/s]"
      ]
     },
     "metadata": {},
     "output_type": "display_data"
    },
    {
     "data": {
      "application/vnd.jupyter.widget-view+json": {
       "model_id": "1ee313b70652402fa85c3e6ffefec25a",
       "version_major": 2,
       "version_minor": 0
      },
      "text/plain": [
       "Processing Files (0 / 0): |          |  0.00B /  0.00B            "
      ]
     },
     "metadata": {},
     "output_type": "display_data"
    },
    {
     "data": {
      "application/vnd.jupyter.widget-view+json": {
       "model_id": "783dcdce14e64319aff41cb207b23da9",
       "version_major": 2,
       "version_minor": 0
      },
      "text/plain": [
       "New Data Upload: |          |  0.00B /  0.00B            "
      ]
     },
     "metadata": {},
     "output_type": "display_data"
    },
    {
     "data": {
      "application/vnd.jupyter.widget-view+json": {
       "model_id": "435ede16b3294a8fa0e08d163bc6b43f",
       "version_major": 2,
       "version_minor": 0
      },
      "text/plain": [
       "Uploading the dataset shards:   0%|          | 0/1 [00:00<?, ? shards/s]"
      ]
     },
     "metadata": {},
     "output_type": "display_data"
    },
    {
     "data": {
      "application/vnd.jupyter.widget-view+json": {
       "model_id": "bf98fac5328c45f7ab87b5b94cf349fd",
       "version_major": 2,
       "version_minor": 0
      },
      "text/plain": [
       "Creating parquet from Arrow format:   0%|          | 0/1 [00:00<?, ?ba/s]"
      ]
     },
     "metadata": {},
     "output_type": "display_data"
    },
    {
     "data": {
      "application/vnd.jupyter.widget-view+json": {
       "model_id": "6d54c06a1e834be38e730c7b0fe30419",
       "version_major": 2,
       "version_minor": 0
      },
      "text/plain": [
       "Processing Files (0 / 0): |          |  0.00B /  0.00B            "
      ]
     },
     "metadata": {},
     "output_type": "display_data"
    },
    {
     "data": {
      "application/vnd.jupyter.widget-view+json": {
       "model_id": "cd0eb8aaa03646db86870a048b355302",
       "version_major": 2,
       "version_minor": 0
      },
      "text/plain": [
       "New Data Upload: |          |  0.00B /  0.00B            "
      ]
     },
     "metadata": {},
     "output_type": "display_data"
    },
    {
     "data": {
      "application/vnd.jupyter.widget-view+json": {
       "model_id": "fd765c07a2cd49f0b7bf33f6196f78cc",
       "version_major": 2,
       "version_minor": 0
      },
      "text/plain": [
       "README.md:   0%|          | 0.00/692 [00:00<?, ?B/s]"
      ]
     },
     "metadata": {},
     "output_type": "display_data"
    },
    {
     "data": {
      "text/plain": [
       "CommitInfo(commit_url='https://huggingface.co/datasets/NetherQuartz/combined-tokipona-dataset/commit/bbc00ad3ae272c1b3913d8061cad38144d0f0323', commit_message='Fix preprocessing', commit_description='', oid='bbc00ad3ae272c1b3913d8061cad38144d0f0323', pr_url=None, repo_url=RepoUrl('https://huggingface.co/datasets/NetherQuartz/combined-tokipona-dataset', endpoint='https://huggingface.co', repo_type='dataset', repo_id='NetherQuartz/combined-tokipona-dataset'), pr_revision=None, pr_num=None)"
      ]
     },
     "execution_count": 179,
     "metadata": {},
     "output_type": "execute_result"
    }
   ],
   "source": [
    "dataset_dict.push_to_hub(\"NetherQuartz/combined-tokipona-dataset\", commit_message=\"Fix preprocessing\")"
   ]
  }
 ],
 "metadata": {
  "kernelspec": {
   "display_name": "ilo-toki",
   "language": "python",
   "name": "python3"
  },
  "language_info": {
   "codemirror_mode": {
    "name": "ipython",
    "version": 3
   },
   "file_extension": ".py",
   "mimetype": "text/x-python",
   "name": "python",
   "nbconvert_exporter": "python",
   "pygments_lexer": "ipython3",
   "version": "3.12.2"
  }
 },
 "nbformat": 4,
 "nbformat_minor": 5
}
