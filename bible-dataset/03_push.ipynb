{
 "cells": [
  {
   "cell_type": "code",
   "execution_count": 1,
   "id": "3a210110",
   "metadata": {},
   "outputs": [],
   "source": [
    "import datasets\n",
    "import polars as pl\n",
    "\n",
    "from hashlib import sha256"
   ]
  },
  {
   "cell_type": "code",
   "execution_count": 2,
   "id": "0fc7cda5",
   "metadata": {},
   "outputs": [
    {
     "data": {
      "text/plain": [
       "(1146, 25)"
      ]
     },
     "execution_count": 2,
     "metadata": {},
     "output_type": "execute_result"
    }
   ],
   "source": [
    "data = pl.read_parquet(\"enlarged.pq\")\n",
    "data.shape"
   ]
  },
  {
   "cell_type": "code",
   "execution_count": 3,
   "id": "0493b276",
   "metadata": {},
   "outputs": [
    {
     "data": {
      "text/html": [
       "\n",
       "<style>\n",
       "  #altair-viz-df0ba07c2fda440798c49dc962d0d698.vega-embed {\n",
       "    width: 100%;\n",
       "    display: flex;\n",
       "  }\n",
       "\n",
       "  #altair-viz-df0ba07c2fda440798c49dc962d0d698.vega-embed details,\n",
       "  #altair-viz-df0ba07c2fda440798c49dc962d0d698.vega-embed details summary {\n",
       "    position: relative;\n",
       "  }\n",
       "</style>\n",
       "<div id=\"altair-viz-df0ba07c2fda440798c49dc962d0d698\"></div>\n",
       "<script type=\"text/javascript\">\n",
       "  var VEGA_DEBUG = (typeof VEGA_DEBUG == \"undefined\") ? {} : VEGA_DEBUG;\n",
       "  (function(spec, embedOpt){\n",
       "    let outputDiv = document.currentScript.previousElementSibling;\n",
       "    if (outputDiv.id !== \"altair-viz-df0ba07c2fda440798c49dc962d0d698\") {\n",
       "      outputDiv = document.getElementById(\"altair-viz-df0ba07c2fda440798c49dc962d0d698\");\n",
       "    }\n",
       "\n",
       "    const paths = {\n",
       "      \"vega\": \"https://cdn.jsdelivr.net/npm/vega@5?noext\",\n",
       "      \"vega-lib\": \"https://cdn.jsdelivr.net/npm/vega-lib?noext\",\n",
       "      \"vega-lite\": \"https://cdn.jsdelivr.net/npm/vega-lite@5.20.1?noext\",\n",
       "      \"vega-embed\": \"https://cdn.jsdelivr.net/npm/vega-embed@6?noext\",\n",
       "    };\n",
       "\n",
       "    function maybeLoadScript(lib, version) {\n",
       "      var key = `${lib.replace(\"-\", \"\")}_version`;\n",
       "      return (VEGA_DEBUG[key] == version) ?\n",
       "        Promise.resolve(paths[lib]) :\n",
       "        new Promise(function(resolve, reject) {\n",
       "          var s = document.createElement('script');\n",
       "          document.getElementsByTagName(\"head\")[0].appendChild(s);\n",
       "          s.async = true;\n",
       "          s.onload = () => {\n",
       "            VEGA_DEBUG[key] = version;\n",
       "            return resolve(paths[lib]);\n",
       "          };\n",
       "          s.onerror = () => reject(`Error loading script: ${paths[lib]}`);\n",
       "          s.src = paths[lib];\n",
       "        });\n",
       "    }\n",
       "\n",
       "    function showError(err) {\n",
       "      outputDiv.innerHTML = `<div class=\"error\" style=\"color:red;\">${err}</div>`;\n",
       "      throw err;\n",
       "    }\n",
       "\n",
       "    function displayChart(vegaEmbed) {\n",
       "      vegaEmbed(outputDiv, spec, embedOpt)\n",
       "        .catch(err => showError(`Javascript Error: ${err.message}<br>This usually means there's a typo in your chart specification. See the javascript console for the full traceback.`));\n",
       "    }\n",
       "\n",
       "    if(typeof define === \"function\" && define.amd) {\n",
       "      requirejs.config({paths});\n",
       "      let deps = [\"vega-embed\"];\n",
       "      require(deps, displayChart, err => showError(`Error loading script: ${err.message}`));\n",
       "    } else {\n",
       "      maybeLoadScript(\"vega\", \"5\")\n",
       "        .then(() => maybeLoadScript(\"vega-lite\", \"5.20.1\"))\n",
       "        .then(() => maybeLoadScript(\"vega-embed\", \"6\"))\n",
       "        .catch(showError)\n",
       "        .then(() => displayChart(vegaEmbed));\n",
       "    }\n",
       "  })({\"config\": {\"view\": {\"continuousWidth\": 300, \"continuousHeight\": 300}}, \"data\": {\"name\": \"data-50ec92011da15ab2263fce2508ef6b5f\"}, \"mark\": {\"type\": \"bar\", \"tooltip\": true}, \"encoding\": {\"x\": {\"bin\": true, \"field\": \"hash\", \"type\": \"quantitative\"}, \"y\": {\"aggregate\": \"count\", \"type\": \"quantitative\"}}, \"params\": [{\"name\": \"param_1\", \"select\": {\"type\": \"interval\", \"encodings\": [\"x\", \"y\"]}, \"bind\": \"scales\"}], \"$schema\": \"https://vega.github.io/schema/vega-lite/v5.20.1.json\", \"datasets\": {\"data-50ec92011da15ab2263fce2508ef6b5f\": [{\"hash\": 7730}, {\"hash\": 4450}, {\"hash\": 2781}, {\"hash\": 142}, {\"hash\": 1610}, {\"hash\": 424}, {\"hash\": 3520}, {\"hash\": 7078}, {\"hash\": 7547}, {\"hash\": 376}, {\"hash\": 1892}, {\"hash\": 142}, {\"hash\": 4257}, {\"hash\": 424}, {\"hash\": 4949}, {\"hash\": 6244}, {\"hash\": 4464}, {\"hash\": 4947}, {\"hash\": 2687}, {\"hash\": 2892}, {\"hash\": 1892}, {\"hash\": 9396}, {\"hash\": 4234}, {\"hash\": 9670}, {\"hash\": 5842}, {\"hash\": 4759}, {\"hash\": 376}, {\"hash\": 1892}, {\"hash\": 4464}, {\"hash\": 1892}, {\"hash\": 2220}, {\"hash\": 2670}, {\"hash\": 3795}, {\"hash\": 7429}, {\"hash\": 4947}, {\"hash\": 7090}, {\"hash\": 424}, {\"hash\": 4949}, {\"hash\": 8181}, {\"hash\": 9860}, {\"hash\": 9787}, {\"hash\": 4234}, {\"hash\": 4949}, {\"hash\": 2687}, {\"hash\": 6842}, {\"hash\": 6842}, {\"hash\": 6394}, {\"hash\": 5726}, {\"hash\": 815}, {\"hash\": 5530}, {\"hash\": 7277}, {\"hash\": 6182}, {\"hash\": 3974}, {\"hash\": 1892}, {\"hash\": 7793}, {\"hash\": 6290}, {\"hash\": 5119}, {\"hash\": 4536}, {\"hash\": 1170}, {\"hash\": 1526}, {\"hash\": 6217}, {\"hash\": 4450}, {\"hash\": 7730}, {\"hash\": 3684}, {\"hash\": 1200}, {\"hash\": 4257}, {\"hash\": 6182}, {\"hash\": 2926}, {\"hash\": 2687}, {\"hash\": 9598}, {\"hash\": 6217}, {\"hash\": 9396}, {\"hash\": 8669}, {\"hash\": 1892}, {\"hash\": 2491}, {\"hash\": 2687}, {\"hash\": 5205}, {\"hash\": 4759}, {\"hash\": 7730}, {\"hash\": 7277}, {\"hash\": 4257}, {\"hash\": 376}, {\"hash\": 1892}, {\"hash\": 6842}, {\"hash\": 4536}, {\"hash\": 2781}, {\"hash\": 3974}, {\"hash\": 4536}, {\"hash\": 7130}, {\"hash\": 9857}, {\"hash\": 8181}, {\"hash\": 7793}, {\"hash\": 4450}, {\"hash\": 1526}, {\"hash\": 6217}, {\"hash\": 424}, {\"hash\": 6217}, {\"hash\": 3974}, {\"hash\": 6217}, {\"hash\": 6217}, {\"hash\": 156}, {\"hash\": 7130}, {\"hash\": 1892}, {\"hash\": 7007}, {\"hash\": 4175}, {\"hash\": 3520}, {\"hash\": 4949}, {\"hash\": 4536}, {\"hash\": 3178}, {\"hash\": 4257}, {\"hash\": 1892}, {\"hash\": 2220}, {\"hash\": 5613}, {\"hash\": 8669}, {\"hash\": 1170}, {\"hash\": 2687}, {\"hash\": 8889}, {\"hash\": 2220}, {\"hash\": 4450}, {\"hash\": 7007}, {\"hash\": 4257}, {\"hash\": 7429}, {\"hash\": 5955}, {\"hash\": 9857}, {\"hash\": 6217}, {\"hash\": 6207}, {\"hash\": 5205}, {\"hash\": 1170}, {\"hash\": 815}, {\"hash\": 4234}, {\"hash\": 5205}, {\"hash\": 7386}, {\"hash\": 6217}, {\"hash\": 5613}, {\"hash\": 8772}, {\"hash\": 7090}, {\"hash\": 9598}, {\"hash\": 5842}, {\"hash\": 2781}, {\"hash\": 9670}, {\"hash\": 5613}, {\"hash\": 6182}, {\"hash\": 6217}, {\"hash\": 285}, {\"hash\": 4464}, {\"hash\": 3684}, {\"hash\": 142}, {\"hash\": 2781}, {\"hash\": 4464}, {\"hash\": 2687}, {\"hash\": 6217}, {\"hash\": 2813}, {\"hash\": 3974}, {\"hash\": 2670}, {\"hash\": 7386}, {\"hash\": 5234}, {\"hash\": 6290}, {\"hash\": 4257}, {\"hash\": 6394}, {\"hash\": 2220}, {\"hash\": 5205}, {\"hash\": 8889}, {\"hash\": 424}, {\"hash\": 5546}, {\"hash\": 6182}, {\"hash\": 3795}, {\"hash\": 3175}, {\"hash\": 4257}, {\"hash\": 9598}, {\"hash\": 6217}, {\"hash\": 7793}, {\"hash\": 2687}, {\"hash\": 5303}, {\"hash\": 7277}, {\"hash\": 4151}, {\"hash\": 142}, {\"hash\": 6217}, {\"hash\": 6394}, {\"hash\": 9790}, {\"hash\": 7429}, {\"hash\": 6217}, {\"hash\": 5530}, {\"hash\": 6409}, {\"hash\": 5726}, {\"hash\": 2926}, {\"hash\": 7078}, {\"hash\": 3322}, {\"hash\": 2781}, {\"hash\": 6217}, {\"hash\": 1170}, {\"hash\": 3795}, {\"hash\": 376}, {\"hash\": 6182}, {\"hash\": 815}, {\"hash\": 6207}, {\"hash\": 6182}, {\"hash\": 424}, {\"hash\": 6217}, {\"hash\": 5638}, {\"hash\": 9396}, {\"hash\": 6207}, {\"hash\": 7730}, {\"hash\": 7289}, {\"hash\": 7730}, {\"hash\": 9790}, {\"hash\": 6217}, {\"hash\": 7429}, {\"hash\": 6394}, {\"hash\": 3795}, {\"hash\": 6207}, {\"hash\": 6207}, {\"hash\": 1892}, {\"hash\": 6217}, {\"hash\": 7130}, {\"hash\": 7090}, {\"hash\": 5546}, {\"hash\": 8889}, {\"hash\": 9860}, {\"hash\": 1349}, {\"hash\": 4257}, {\"hash\": 6217}, {\"hash\": 1517}, {\"hash\": 6394}, {\"hash\": 815}, {\"hash\": 7386}, {\"hash\": 7130}, {\"hash\": 7130}, {\"hash\": 4947}, {\"hash\": 9598}, {\"hash\": 6217}, {\"hash\": 2537}, {\"hash\": 5530}, {\"hash\": 7547}, {\"hash\": 7730}, {\"hash\": 3795}, {\"hash\": 3788}, {\"hash\": 1526}, {\"hash\": 5613}, {\"hash\": 5119}, {\"hash\": 5613}, {\"hash\": 7078}, {\"hash\": 2813}, {\"hash\": 6182}, {\"hash\": 9790}, {\"hash\": 8669}, {\"hash\": 5955}, {\"hash\": 3788}, {\"hash\": 9396}, {\"hash\": 6842}, {\"hash\": 4759}, {\"hash\": 5726}, {\"hash\": 4949}, {\"hash\": 5530}, {\"hash\": 3795}, {\"hash\": 5613}, {\"hash\": 3927}, {\"hash\": 5530}, {\"hash\": 3974}, {\"hash\": 142}, {\"hash\": 9396}, {\"hash\": 6217}, {\"hash\": 7007}, {\"hash\": 2781}, {\"hash\": 9997}, {\"hash\": 3175}, {\"hash\": 4257}, {\"hash\": 6504}, {\"hash\": 6182}, {\"hash\": 2670}, {\"hash\": 4257}, {\"hash\": 7277}, {\"hash\": 7730}, {\"hash\": 5205}, {\"hash\": 2781}, {\"hash\": 9598}, {\"hash\": 9790}, {\"hash\": 2491}, {\"hash\": 2039}, {\"hash\": 9670}, {\"hash\": 4257}, {\"hash\": 6217}, {\"hash\": 5234}, {\"hash\": 2220}, {\"hash\": 2220}, {\"hash\": 9790}, {\"hash\": 5613}, {\"hash\": 8669}, {\"hash\": 156}, {\"hash\": 4234}, {\"hash\": 6504}, {\"hash\": 9790}, {\"hash\": 5613}, {\"hash\": 4464}, {\"hash\": 904}, {\"hash\": 336}, {\"hash\": 7429}, {\"hash\": 6217}, {\"hash\": 1170}, {\"hash\": 6504}, {\"hash\": 6842}, {\"hash\": 5303}, {\"hash\": 7730}, {\"hash\": 5546}, {\"hash\": 4947}, {\"hash\": 7730}, {\"hash\": 9670}, {\"hash\": 4450}, {\"hash\": 2813}, {\"hash\": 1170}, {\"hash\": 142}, {\"hash\": 9396}, {\"hash\": 1170}, {\"hash\": 5546}, {\"hash\": 4151}, {\"hash\": 7429}, {\"hash\": 5613}, {\"hash\": 156}, {\"hash\": 7090}, {\"hash\": 6182}, {\"hash\": 3974}, {\"hash\": 6409}, {\"hash\": 5205}, {\"hash\": 7429}, {\"hash\": 2670}, {\"hash\": 3795}, {\"hash\": 1892}, {\"hash\": 6290}, {\"hash\": 7429}, {\"hash\": 3974}, {\"hash\": 3684}, {\"hash\": 7078}, {\"hash\": 4759}, {\"hash\": 4450}, {\"hash\": 142}, {\"hash\": 6217}, {\"hash\": 3974}, {\"hash\": 3927}, {\"hash\": 142}, {\"hash\": 4175}, {\"hash\": 424}, {\"hash\": 9790}, {\"hash\": 7429}, {\"hash\": 3788}, {\"hash\": 3795}, {\"hash\": 7130}, {\"hash\": 9670}, {\"hash\": 9860}, {\"hash\": 7090}, {\"hash\": 6298}, {\"hash\": 156}, {\"hash\": 2687}, {\"hash\": 815}, {\"hash\": 7386}, {\"hash\": 6244}, {\"hash\": 4450}, {\"hash\": 9396}, {\"hash\": 804}, {\"hash\": 5546}, {\"hash\": 1517}, {\"hash\": 5726}, {\"hash\": 2514}, {\"hash\": 7130}, {\"hash\": 4175}, {\"hash\": 2220}, {\"hash\": 2781}, {\"hash\": 7386}, {\"hash\": 1526}, {\"hash\": 5530}, {\"hash\": 6217}, {\"hash\": 5546}, {\"hash\": 6280}, {\"hash\": 9997}, {\"hash\": 2491}, {\"hash\": 4257}, {\"hash\": 1927}, {\"hash\": 2781}, {\"hash\": 8669}, {\"hash\": 5546}, {\"hash\": 3927}, {\"hash\": 1349}, {\"hash\": 6217}, {\"hash\": 9860}, {\"hash\": 6217}, {\"hash\": 9857}, {\"hash\": 6182}, {\"hash\": 815}, {\"hash\": 2220}, {\"hash\": 6217}, {\"hash\": 5546}, {\"hash\": 1526}, {\"hash\": 2547}, {\"hash\": 3175}, {\"hash\": 6217}, {\"hash\": 6217}, {\"hash\": 5613}, {\"hash\": 9857}, {\"hash\": 4464}, {\"hash\": 156}, {\"hash\": 6250}, {\"hash\": 2926}, {\"hash\": 2039}, {\"hash\": 5530}, {\"hash\": 4536}, {\"hash\": 3322}, {\"hash\": 7130}, {\"hash\": 6217}, {\"hash\": 1927}, {\"hash\": 3795}, {\"hash\": 4947}, {\"hash\": 7130}, {\"hash\": 4947}, {\"hash\": 3178}, {\"hash\": 9396}, {\"hash\": 4759}, {\"hash\": 2670}, {\"hash\": 8312}, {\"hash\": 6217}, {\"hash\": 6409}, {\"hash\": 2813}, {\"hash\": 1526}, {\"hash\": 4450}, {\"hash\": 4257}, {\"hash\": 4759}, {\"hash\": 4257}, {\"hash\": 376}, {\"hash\": 6217}, {\"hash\": 2364}, {\"hash\": 5205}, {\"hash\": 5546}, {\"hash\": 9787}, {\"hash\": 2687}, {\"hash\": 4947}, {\"hash\": 3795}, {\"hash\": 6504}, {\"hash\": 3795}, {\"hash\": 4704}, {\"hash\": 9790}, {\"hash\": 3520}, {\"hash\": 6409}, {\"hash\": 6217}, {\"hash\": 7130}, {\"hash\": 1170}, {\"hash\": 6842}, {\"hash\": 7429}, {\"hash\": 4450}, {\"hash\": 5205}, {\"hash\": 8889}, {\"hash\": 7730}, {\"hash\": 6217}, {\"hash\": 9598}, {\"hash\": 424}, {\"hash\": 4450}, {\"hash\": 2547}, {\"hash\": 4759}, {\"hash\": 5119}, {\"hash\": 1170}, {\"hash\": 7730}, {\"hash\": 4234}, {\"hash\": 7130}, {\"hash\": 7429}, {\"hash\": 2537}, {\"hash\": 2514}, {\"hash\": 5205}, {\"hash\": 5546}, {\"hash\": 156}, {\"hash\": 6842}, {\"hash\": 2687}, {\"hash\": 2781}, {\"hash\": 376}, {\"hash\": 7730}, {\"hash\": 3795}, {\"hash\": 9396}, {\"hash\": 2670}, {\"hash\": 6207}, {\"hash\": 7547}, {\"hash\": 7053}, {\"hash\": 2687}, {\"hash\": 9857}, {\"hash\": 5046}, {\"hash\": 6842}, {\"hash\": 3974}, {\"hash\": 1892}, {\"hash\": 6217}, {\"hash\": 8669}, {\"hash\": 3178}, {\"hash\": 7277}, {\"hash\": 5726}, {\"hash\": 2670}, {\"hash\": 7429}, {\"hash\": 4759}, {\"hash\": 6217}, {\"hash\": 7078}, {\"hash\": 6842}, {\"hash\": 1892}, {\"hash\": 2473}, {\"hash\": 9857}, {\"hash\": 7730}, {\"hash\": 4536}, {\"hash\": 7277}, {\"hash\": 2835}, {\"hash\": 7090}, {\"hash\": 142}, {\"hash\": 7429}, {\"hash\": 7234}, {\"hash\": 156}, {\"hash\": 6217}, {\"hash\": 1526}, {\"hash\": 9997}, {\"hash\": 7910}, {\"hash\": 8181}, {\"hash\": 6504}, {\"hash\": 1170}, {\"hash\": 5205}, {\"hash\": 4257}, {\"hash\": 7730}, {\"hash\": 6394}, {\"hash\": 7090}, {\"hash\": 2687}, {\"hash\": 5613}, {\"hash\": 1349}, {\"hash\": 2758}, {\"hash\": 5955}, {\"hash\": 2687}, {\"hash\": 6217}, {\"hash\": 6217}, {\"hash\": 9997}, {\"hash\": 4536}, {\"hash\": 7130}, {\"hash\": 376}, {\"hash\": 1170}, {\"hash\": 6280}, {\"hash\": 6394}, {\"hash\": 2514}, {\"hash\": 2670}, {\"hash\": 5303}, {\"hash\": 1170}, {\"hash\": 5530}, {\"hash\": 5546}, {\"hash\": 1349}, {\"hash\": 1200}, {\"hash\": 5530}, {\"hash\": 4420}, {\"hash\": 4464}, {\"hash\": 8181}, {\"hash\": 7130}, {\"hash\": 9790}, {\"hash\": 815}, {\"hash\": 1517}, {\"hash\": 3788}, {\"hash\": 6217}, {\"hash\": 5546}, {\"hash\": 2813}, {\"hash\": 7730}, {\"hash\": 9396}, {\"hash\": 8799}, {\"hash\": 7793}, {\"hash\": 5546}, {\"hash\": 815}, {\"hash\": 91}, {\"hash\": 3974}, {\"hash\": 3795}, {\"hash\": 3788}, {\"hash\": 3795}, {\"hash\": 9598}, {\"hash\": 4759}, {\"hash\": 91}, {\"hash\": 6217}, {\"hash\": 6217}, {\"hash\": 3178}, {\"hash\": 9790}, {\"hash\": 3920}, {\"hash\": 2687}, {\"hash\": 5613}, {\"hash\": 6842}, {\"hash\": 6504}, {\"hash\": 815}, {\"hash\": 7547}, {\"hash\": 4949}, {\"hash\": 9790}, {\"hash\": 815}, {\"hash\": 2781}, {\"hash\": 3478}, {\"hash\": 7277}, {\"hash\": 6207}, {\"hash\": 3175}, {\"hash\": 7429}, {\"hash\": 7730}, {\"hash\": 9790}, {\"hash\": 2892}, {\"hash\": 6217}, {\"hash\": 2892}, {\"hash\": 7053}, {\"hash\": 6217}, {\"hash\": 156}, {\"hash\": 2926}, {\"hash\": 9790}, {\"hash\": 9396}, {\"hash\": 804}, {\"hash\": 7130}, {\"hash\": 7429}, {\"hash\": 6217}, {\"hash\": 3684}, {\"hash\": 8850}, {\"hash\": 7277}, {\"hash\": 1892}, {\"hash\": 5530}, {\"hash\": 4450}, {\"hash\": 2220}, {\"hash\": 4257}, {\"hash\": 2220}, {\"hash\": 1892}, {\"hash\": 2670}, {\"hash\": 4949}, {\"hash\": 2547}, {\"hash\": 5613}, {\"hash\": 4759}, {\"hash\": 424}, {\"hash\": 3974}, {\"hash\": 6217}, {\"hash\": 4759}, {\"hash\": 3179}, {\"hash\": 2537}, {\"hash\": 6923}, {\"hash\": 1892}, {\"hash\": 7547}, {\"hash\": 5205}, {\"hash\": 1892}, {\"hash\": 9790}, {\"hash\": 4464}, {\"hash\": 5613}, {\"hash\": 2039}, {\"hash\": 5546}, {\"hash\": 9790}, {\"hash\": 3322}, {\"hash\": 5546}, {\"hash\": 7429}, {\"hash\": 4063}, {\"hash\": 4257}, {\"hash\": 2220}, {\"hash\": 5205}, {\"hash\": 9790}, {\"hash\": 1892}, {\"hash\": 3520}, {\"hash\": 5981}, {\"hash\": 9405}, {\"hash\": 424}, {\"hash\": 3322}, {\"hash\": 4450}, {\"hash\": 3795}, {\"hash\": 6842}, {\"hash\": 9997}, {\"hash\": 2813}, {\"hash\": 6207}, {\"hash\": 3788}, {\"hash\": 815}, {\"hash\": 7547}, {\"hash\": 7038}, {\"hash\": 1517}, {\"hash\": 9790}, {\"hash\": 4063}, {\"hash\": 4536}, {\"hash\": 2537}, {\"hash\": 499}, {\"hash\": 1526}, {\"hash\": 7547}, {\"hash\": 6207}, {\"hash\": 5726}, {\"hash\": 6217}, {\"hash\": 1200}, {\"hash\": 3520}, {\"hash\": 424}, {\"hash\": 4464}, {\"hash\": 4175}, {\"hash\": 9790}, {\"hash\": 424}, {\"hash\": 9997}, {\"hash\": 5530}, {\"hash\": 5119}, {\"hash\": 3520}, {\"hash\": 8312}, {\"hash\": 1170}, {\"hash\": 4464}, {\"hash\": 3974}, {\"hash\": 5546}, {\"hash\": 2687}, {\"hash\": 424}, {\"hash\": 2473}, {\"hash\": 3795}, {\"hash\": 4949}, {\"hash\": 5530}, {\"hash\": 4947}, {\"hash\": 6244}, {\"hash\": 6207}, {\"hash\": 3788}, {\"hash\": 4536}, {\"hash\": 7793}, {\"hash\": 6409}, {\"hash\": 1526}, {\"hash\": 6842}, {\"hash\": 8312}, {\"hash\": 3795}, {\"hash\": 8669}, {\"hash\": 2670}, {\"hash\": 6436}, {\"hash\": 7730}, {\"hash\": 8312}, {\"hash\": 5613}, {\"hash\": 6217}, {\"hash\": 6280}, {\"hash\": 6182}, {\"hash\": 6207}, {\"hash\": 4464}, {\"hash\": 4151}, {\"hash\": 5955}, {\"hash\": 6504}, {\"hash\": 6394}, {\"hash\": 6280}, {\"hash\": 5205}, {\"hash\": 424}, {\"hash\": 4536}, {\"hash\": 9997}, {\"hash\": 2687}, {\"hash\": 7277}, {\"hash\": 9790}, {\"hash\": 2670}, {\"hash\": 1170}, {\"hash\": 1170}, {\"hash\": 7277}, {\"hash\": 5955}, {\"hash\": 7277}, {\"hash\": 6217}, {\"hash\": 9396}, {\"hash\": 6280}, {\"hash\": 6217}, {\"hash\": 9790}, {\"hash\": 5546}, {\"hash\": 7090}, {\"hash\": 7277}, {\"hash\": 5613}, {\"hash\": 5726}, {\"hash\": 2491}, {\"hash\": 7130}, {\"hash\": 4949}, {\"hash\": 6842}, {\"hash\": 3795}, {\"hash\": 7090}, {\"hash\": 4464}, {\"hash\": 424}, {\"hash\": 9598}, {\"hash\": 6842}, {\"hash\": 7429}, {\"hash\": 2220}, {\"hash\": 6842}, {\"hash\": 1526}, {\"hash\": 156}, {\"hash\": 5726}, {\"hash\": 7386}, {\"hash\": 4257}, {\"hash\": 4175}, {\"hash\": 376}, {\"hash\": 5546}, {\"hash\": 7277}, {\"hash\": 8889}, {\"hash\": 5546}, {\"hash\": 2813}, {\"hash\": 6290}, {\"hash\": 7130}, {\"hash\": 7277}, {\"hash\": 4464}, {\"hash\": 2670}, {\"hash\": 7185}, {\"hash\": 9309}, {\"hash\": 7429}, {\"hash\": 424}, {\"hash\": 7090}, {\"hash\": 6842}, {\"hash\": 3927}, {\"hash\": 7277}, {\"hash\": 6217}, {\"hash\": 3974}, {\"hash\": 3788}, {\"hash\": 8850}, {\"hash\": 6298}, {\"hash\": 4450}, {\"hash\": 6280}, {\"hash\": 6409}, {\"hash\": 1200}, {\"hash\": 2537}, {\"hash\": 8850}, {\"hash\": 6842}, {\"hash\": 6217}, {\"hash\": 9418}, {\"hash\": 156}, {\"hash\": 7386}, {\"hash\": 9670}, {\"hash\": 5546}, {\"hash\": 5955}, {\"hash\": 6182}, {\"hash\": 1517}, {\"hash\": 9396}, {\"hash\": 2670}, {\"hash\": 7429}, {\"hash\": 7730}, {\"hash\": 156}, {\"hash\": 6182}, {\"hash\": 7429}, {\"hash\": 7429}, {\"hash\": 156}, {\"hash\": 424}, {\"hash\": 7007}, {\"hash\": 7730}, {\"hash\": 6217}, {\"hash\": 2781}, {\"hash\": 5205}, {\"hash\": 1892}, {\"hash\": 4759}, {\"hash\": 5546}, {\"hash\": 1349}, {\"hash\": 3788}, {\"hash\": 6504}, {\"hash\": 2670}, {\"hash\": 1517}, {\"hash\": 7730}, {\"hash\": 7730}, {\"hash\": 7429}, {\"hash\": 1526}, {\"hash\": 4464}, {\"hash\": 7547}, {\"hash\": 4464}, {\"hash\": 1349}, {\"hash\": 6280}, {\"hash\": 7277}, {\"hash\": 3684}, {\"hash\": 1892}, {\"hash\": 3178}, {\"hash\": 3795}, {\"hash\": 2687}, {\"hash\": 5613}, {\"hash\": 4257}, {\"hash\": 3175}, {\"hash\": 2514}, {\"hash\": 1170}, {\"hash\": 7910}, {\"hash\": 5119}, {\"hash\": 4947}, {\"hash\": 3178}, {\"hash\": 1057}, {\"hash\": 6217}, {\"hash\": 6409}, {\"hash\": 7090}, {\"hash\": 6217}, {\"hash\": 6217}, {\"hash\": 7730}, {\"hash\": 2039}, {\"hash\": 5530}, {\"hash\": 9666}, {\"hash\": 7429}, {\"hash\": 6217}, {\"hash\": 2537}, {\"hash\": 7130}, {\"hash\": 815}, {\"hash\": 7277}, {\"hash\": 6217}, {\"hash\": 142}, {\"hash\": 4759}, {\"hash\": 7730}, {\"hash\": 3520}, {\"hash\": 7429}, {\"hash\": 4257}, {\"hash\": 3520}, {\"hash\": 7429}, {\"hash\": 5530}, {\"hash\": 6842}, {\"hash\": 7090}, {\"hash\": 7090}, {\"hash\": 6394}, {\"hash\": 5546}, {\"hash\": 815}, {\"hash\": 2781}, {\"hash\": 2670}, {\"hash\": 8889}, {\"hash\": 6217}, {\"hash\": 815}, {\"hash\": 9860}, {\"hash\": 7730}, {\"hash\": 5726}, {\"hash\": 2670}, {\"hash\": 4234}, {\"hash\": 2670}, {\"hash\": 6182}, {\"hash\": 6842}, {\"hash\": 7730}, {\"hash\": 3795}, {\"hash\": 6182}, {\"hash\": 5530}, {\"hash\": 6207}, {\"hash\": 7730}, {\"hash\": 9396}, {\"hash\": 5530}, {\"hash\": 7730}, {\"hash\": 6182}, {\"hash\": 2008}, {\"hash\": 1610}, {\"hash\": 4464}, {\"hash\": 1517}, {\"hash\": 2670}, {\"hash\": 5613}, {\"hash\": 8669}, {\"hash\": 5530}, {\"hash\": 3178}, {\"hash\": 5726}, {\"hash\": 1200}, {\"hash\": 7053}, {\"hash\": 9396}, {\"hash\": 7185}, {\"hash\": 2220}, {\"hash\": 815}, {\"hash\": 4257}, {\"hash\": 4450}, {\"hash\": 2758}, {\"hash\": 6280}, {\"hash\": 6280}, {\"hash\": 2547}, {\"hash\": 9997}, {\"hash\": 6842}, {\"hash\": 6217}, {\"hash\": 4257}, {\"hash\": 5955}, {\"hash\": 7078}, {\"hash\": 2781}, {\"hash\": 6280}, {\"hash\": 4175}, {\"hash\": 5546}, {\"hash\": 6217}, {\"hash\": 7429}, {\"hash\": 7090}, {\"hash\": 9240}, {\"hash\": 9666}, {\"hash\": 8312}, {\"hash\": 4234}, {\"hash\": 6217}, {\"hash\": 9396}, {\"hash\": 5546}, {\"hash\": 156}, {\"hash\": 4257}, {\"hash\": 3322}, {\"hash\": 7090}, {\"hash\": 1170}, {\"hash\": 1892}, {\"hash\": 2781}, {\"hash\": 4759}, {\"hash\": 5546}, {\"hash\": 1892}, {\"hash\": 7277}, {\"hash\": 5546}, {\"hash\": 376}, {\"hash\": 6394}, {\"hash\": 8181}, {\"hash\": 3974}, {\"hash\": 3178}, {\"hash\": 5546}, {\"hash\": 3520}, {\"hash\": 2813}, {\"hash\": 4949}, {\"hash\": 3520}, {\"hash\": 1517}, {\"hash\": 2547}, {\"hash\": 142}, {\"hash\": 4234}, {\"hash\": 5546}, {\"hash\": 7730}, {\"hash\": 5530}, {\"hash\": 8181}, {\"hash\": 7090}, {\"hash\": 2687}, {\"hash\": 8772}, {\"hash\": 7090}, {\"hash\": 7429}, {\"hash\": 8669}, {\"hash\": 6280}, {\"hash\": 3520}, {\"hash\": 5955}, {\"hash\": 1170}, {\"hash\": 2687}, {\"hash\": 1526}, {\"hash\": 4536}, {\"hash\": 4175}, {\"hash\": 4257}, {\"hash\": 7090}, {\"hash\": 8181}, {\"hash\": 2687}, {\"hash\": 3178}, {\"hash\": 6504}, {\"hash\": 6182}, {\"hash\": 7078}, {\"hash\": 7429}, {\"hash\": 9309}, {\"hash\": 4450}, {\"hash\": 9598}, {\"hash\": 4949}, {\"hash\": 2781}, {\"hash\": 6207}, {\"hash\": 2220}, {\"hash\": 1349}, {\"hash\": 9663}, {\"hash\": 7277}, {\"hash\": 815}, {\"hash\": 3322}, {\"hash\": 7130}, {\"hash\": 6217}, {\"hash\": 4175}, {\"hash\": 8850}, {\"hash\": 2514}, {\"hash\": 3927}, {\"hash\": 424}, {\"hash\": 9997}, {\"hash\": 7090}, {\"hash\": 1170}, {\"hash\": 8669}, {\"hash\": 5981}, {\"hash\": 5726}, {\"hash\": 6394}, {\"hash\": 6504}, {\"hash\": 3520}, {\"hash\": 156}, {\"hash\": 5546}, {\"hash\": 7053}, {\"hash\": 3175}, {\"hash\": 2008}, {\"hash\": 7090}, {\"hash\": 7429}, {\"hash\": 2670}, {\"hash\": 4759}, {\"hash\": 1349}, {\"hash\": 4949}, {\"hash\": 6504}, {\"hash\": 2670}, {\"hash\": 3520}, {\"hash\": 4257}, {\"hash\": 3684}, {\"hash\": 7730}, {\"hash\": 6217}, {\"hash\": 4257}, {\"hash\": 9396}, {\"hash\": 156}, {\"hash\": 2537}, {\"hash\": 2813}, {\"hash\": 2220}, {\"hash\": 7038}, {\"hash\": 6207}, {\"hash\": 5546}, {\"hash\": 1170}, {\"hash\": 1170}, {\"hash\": 156}, {\"hash\": 3795}, {\"hash\": 3927}, {\"hash\": 3520}, {\"hash\": 7793}, {\"hash\": 2670}, {\"hash\": 7547}, {\"hash\": 3974}, {\"hash\": 5981}, {\"hash\": 8181}, {\"hash\": 7038}, {\"hash\": 7277}, {\"hash\": 8889}, {\"hash\": 1892}, {\"hash\": 9790}, {\"hash\": 9396}, {\"hash\": 2687}, {\"hash\": 4257}, {\"hash\": 5119}, {\"hash\": 7547}, {\"hash\": 6842}, {\"hash\": 4949}, {\"hash\": 2537}, {\"hash\": 4175}, {\"hash\": 4257}, {\"hash\": 6217}, {\"hash\": 8750}, {\"hash\": 4257}, {\"hash\": 7730}, {\"hash\": 5546}, {\"hash\": 1170}, {\"hash\": 3178}, {\"hash\": 9598}, {\"hash\": 3974}, {\"hash\": 2537}, {\"hash\": 7429}, {\"hash\": 4257}, {\"hash\": 241}, {\"hash\": 7130}, {\"hash\": 5613}, {\"hash\": 8227}, {\"hash\": 5263}, {\"hash\": 2039}, {\"hash\": 4257}, {\"hash\": 2813}, {\"hash\": 424}, {\"hash\": 7090}, {\"hash\": 499}, {\"hash\": 156}, {\"hash\": 156}, {\"hash\": 5205}, {\"hash\": 2537}, {\"hash\": 7130}, {\"hash\": 4759}, {\"hash\": 3520}, {\"hash\": 7429}, {\"hash\": 4947}, {\"hash\": 4947}, {\"hash\": 7090}, {\"hash\": 3974}, {\"hash\": 9598}, {\"hash\": 5726}, {\"hash\": 9790}, {\"hash\": 4234}, {\"hash\": 142}, {\"hash\": 5530}, {\"hash\": 2813}, {\"hash\": 3684}, {\"hash\": 5955}, {\"hash\": 4464}, {\"hash\": 9790}, {\"hash\": 6182}, {\"hash\": 6912}, {\"hash\": 2781}, {\"hash\": 3604}, {\"hash\": 9396}, {\"hash\": 5546}, {\"hash\": 9860}, {\"hash\": 6217}, {\"hash\": 4420}, {\"hash\": 7277}, {\"hash\": 7289}, {\"hash\": 3795}, {\"hash\": 2926}, {\"hash\": 7130}, {\"hash\": 9396}, {\"hash\": 1892}, {\"hash\": 2687}, {\"hash\": 2670}, {\"hash\": 7277}, {\"hash\": 1349}, {\"hash\": 2892}, {\"hash\": 2781}]}}, {\"mode\": \"vega-lite\"});\n",
       "</script>"
      ],
      "text/plain": [
       "alt.Chart(...)"
      ]
     },
     "execution_count": 3,
     "metadata": {},
     "output_type": "execute_result"
    }
   ],
   "source": [
    "data = data.with_columns(\n",
    "    data[\"key\"]\n",
    "        .map_elements(\n",
    "            lambda t:\n",
    "            int(sha256(t.rsplit(\"_\", maxsplit=1)[0].encode()).hexdigest(), 16) % 10000\n",
    "        )\n",
    "        .alias(\"hash\")\n",
    ")\n",
    "data[\"hash\"].plot.hist()"
   ]
  },
  {
   "cell_type": "code",
   "execution_count": 4,
   "id": "804a6ce3",
   "metadata": {},
   "outputs": [
    {
     "data": {
      "text/plain": [
       "DatasetDict({\n",
       "    train: Dataset({\n",
       "        features: ['key', 'part', 'book', 'chapter', 'verse', 'tok', 'en', 'ru', 'uk', 'be', 'fr', 'es', 'pt', 'it', 'de', 'vi', 'ja', 'zh', 'ko', 'ar', 'he', 'pl', 'tr', 'la', 'el'],\n",
       "        num_rows: 1081\n",
       "    })\n",
       "    validation: Dataset({\n",
       "        features: ['key', 'part', 'book', 'chapter', 'verse', 'tok', 'en', 'ru', 'uk', 'be', 'fr', 'es', 'pt', 'it', 'de', 'vi', 'ja', 'zh', 'ko', 'ar', 'he', 'pl', 'tr', 'la', 'el'],\n",
       "        num_rows: 65\n",
       "    })\n",
       "})"
      ]
     },
     "execution_count": 4,
     "metadata": {},
     "output_type": "execute_result"
    }
   ],
   "source": [
    "dataset_dict = datasets.DatasetDict()\n",
    "dataset_dict[\"train\"] = datasets.Dataset.from_polars(data.filter(data[\"hash\"] > 500)[data.columns[:-1]])\n",
    "dataset_dict[\"validation\"] = datasets.Dataset.from_polars(data.filter(data[\"hash\"] <= 500)[data.columns[:-1]])\n",
    "\n",
    "dataset_dict"
   ]
  },
  {
   "cell_type": "code",
   "execution_count": 9,
   "id": "675997b8",
   "metadata": {},
   "outputs": [
    {
     "data": {
      "application/vnd.jupyter.widget-view+json": {
       "model_id": "a649c89b7a9f40d6ad06983c9385933d",
       "version_major": 2,
       "version_minor": 0
      },
      "text/plain": [
       "Uploading the dataset shards:   0%|          | 0/1 [00:00<?, ? shards/s]"
      ]
     },
     "metadata": {},
     "output_type": "display_data"
    },
    {
     "data": {
      "application/vnd.jupyter.widget-view+json": {
       "model_id": "67239e5f728d4f45af17a5e6de30de33",
       "version_major": 2,
       "version_minor": 0
      },
      "text/plain": [
       "Creating parquet from Arrow format:   0%|          | 0/1 [00:00<?, ?ba/s]"
      ]
     },
     "metadata": {},
     "output_type": "display_data"
    },
    {
     "data": {
      "application/vnd.jupyter.widget-view+json": {
       "model_id": "fa0e9d76faeb422a89b36bb048c2a743",
       "version_major": 2,
       "version_minor": 0
      },
      "text/plain": [
       "Processing Files (0 / 0): |          |  0.00B /  0.00B            "
      ]
     },
     "metadata": {},
     "output_type": "display_data"
    },
    {
     "data": {
      "application/vnd.jupyter.widget-view+json": {
       "model_id": "ffcc8d008f4a48c98da15579a7fe2931",
       "version_major": 2,
       "version_minor": 0
      },
      "text/plain": [
       "New Data Upload: |          |  0.00B /  0.00B            "
      ]
     },
     "metadata": {},
     "output_type": "display_data"
    },
    {
     "data": {
      "application/vnd.jupyter.widget-view+json": {
       "model_id": "fd0e12fba779409abc3ad470a2d6fc02",
       "version_major": 2,
       "version_minor": 0
      },
      "text/plain": [
       "Uploading the dataset shards:   0%|          | 0/1 [00:00<?, ? shards/s]"
      ]
     },
     "metadata": {},
     "output_type": "display_data"
    },
    {
     "data": {
      "application/vnd.jupyter.widget-view+json": {
       "model_id": "987ecfe6af9f4650819a62199dbc20df",
       "version_major": 2,
       "version_minor": 0
      },
      "text/plain": [
       "Creating parquet from Arrow format:   0%|          | 0/1 [00:00<?, ?ba/s]"
      ]
     },
     "metadata": {},
     "output_type": "display_data"
    },
    {
     "data": {
      "application/vnd.jupyter.widget-view+json": {
       "model_id": "669e2983cfb4486a800b945e898f4647",
       "version_major": 2,
       "version_minor": 0
      },
      "text/plain": [
       "Processing Files (0 / 0): |          |  0.00B /  0.00B            "
      ]
     },
     "metadata": {},
     "output_type": "display_data"
    },
    {
     "data": {
      "application/vnd.jupyter.widget-view+json": {
       "model_id": "517106e104bd44b384f983f9c99eb062",
       "version_major": 2,
       "version_minor": 0
      },
      "text/plain": [
       "New Data Upload: |          |  0.00B /  0.00B            "
      ]
     },
     "metadata": {},
     "output_type": "display_data"
    },
    {
     "data": {
      "text/plain": [
       "CommitInfo(commit_url='https://huggingface.co/datasets/NetherQuartz/lipu-sewi/commit/e9d24cd28b415e5c2b56639461734904706fce84', commit_message='Upload dataset', commit_description='', oid='e9d24cd28b415e5c2b56639461734904706fce84', pr_url=None, repo_url=RepoUrl('https://huggingface.co/datasets/NetherQuartz/lipu-sewi', endpoint='https://huggingface.co', repo_type='dataset', repo_id='NetherQuartz/lipu-sewi'), pr_revision=None, pr_num=None)"
      ]
     },
     "execution_count": 9,
     "metadata": {},
     "output_type": "execute_result"
    }
   ],
   "source": [
    "dataset_dict.push_to_hub(\"NetherQuartz/lipu-sewi\")"
   ]
  }
 ],
 "metadata": {
  "kernelspec": {
   "display_name": "ilo-toki",
   "language": "python",
   "name": "python3"
  },
  "language_info": {
   "codemirror_mode": {
    "name": "ipython",
    "version": 3
   },
   "file_extension": ".py",
   "mimetype": "text/x-python",
   "name": "python",
   "nbconvert_exporter": "python",
   "pygments_lexer": "ipython3",
   "version": "3.12.2"
  }
 },
 "nbformat": 4,
 "nbformat_minor": 5
}
