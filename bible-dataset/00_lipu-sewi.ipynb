{
 "cells": [
  {
   "cell_type": "code",
   "execution_count": 1,
   "id": "2d31eaaf",
   "metadata": {},
   "outputs": [
    {
     "name": "stderr",
     "output_type": "stream",
     "text": [
      "100%|██████████| 3904/3904 [00:00<00:00, 1997872.48it/s]\n"
     ]
    },
    {
     "data": {
      "text/html": [
       "<div><style>\n",
       ".dataframe > thead > tr,\n",
       ".dataframe > tbody > tr {\n",
       "  text-align: right;\n",
       "  white-space: pre-wrap;\n",
       "}\n",
       "</style>\n",
       "<small>shape: (1_146, 5)</small><table border=\"1\" class=\"dataframe\"><thead><tr><th>part</th><th>book</th><th>chapter</th><th>verse</th><th>tok</th></tr><tr><td>str</td><td>str</td><td>i64</td><td>i64</td><td>str</td></tr></thead><tbody><tr><td>&quot;old testament&quot;</td><td>&quot;genesis&quot;</td><td>1</td><td>1</td><td>&quot;open la, sewi Elowin li lon e …</td></tr><tr><td>&quot;old testament&quot;</td><td>&quot;genesis&quot;</td><td>1</td><td>2</td><td>&quot;ma li nasa li ala. pimeja li l…</td></tr><tr><td>&quot;old testament&quot;</td><td>&quot;genesis&quot;</td><td>1</td><td>3</td><td>&quot;sewi Elowin li toki. suno o lo…</td></tr><tr><td>&quot;old testament&quot;</td><td>&quot;genesis&quot;</td><td>1</td><td>4</td><td>&quot;sewi Elowin li lukin e suno: o…</td></tr><tr><td>&quot;old testament&quot;</td><td>&quot;genesis&quot;</td><td>1</td><td>5</td><td>&quot;sewi Elowin li nimi Tenpo Suno…</td></tr><tr><td>&hellip;</td><td>&hellip;</td><td>&hellip;</td><td>&hellip;</td><td>&hellip;</td></tr><tr><td>&quot;new testament&quot;</td><td>&quot;revelation&quot;</td><td>2</td><td>24</td><td>&quot;ona li awen pi ma Tasila. ona …</td></tr><tr><td>&quot;new testament&quot;</td><td>&quot;revelation&quot;</td><td>21</td><td>4</td><td>&quot;sewi Jawe li weka e telo ale t…</td></tr><tr><td>&quot;apocrypha&quot;</td><td>&quot;tobit&quot;</td><td>1</td><td>1</td><td>&quot;lipu ni li jo e toki pi jan To…</td></tr><tr><td>&quot;apocrypha&quot;</td><td>&quot;tobit&quot;</td><td>1</td><td>2</td><td>&quot;jan Enemesalo li jan lawa pi m…</td></tr><tr><td>&quot;apocrypha&quot;</td><td>&quot;tobit&quot;</td><td>1</td><td>3</td><td>&quot;jan Topi. tenpo suno mi ale la…</td></tr></tbody></table></div>"
      ],
      "text/plain": [
       "shape: (1_146, 5)\n",
       "┌───────────────┬────────────┬─────────┬───────┬─────────────────────────────────┐\n",
       "│ part          ┆ book       ┆ chapter ┆ verse ┆ tok                             │\n",
       "│ ---           ┆ ---        ┆ ---     ┆ ---   ┆ ---                             │\n",
       "│ str           ┆ str        ┆ i64     ┆ i64   ┆ str                             │\n",
       "╞═══════════════╪════════════╪═════════╪═══════╪═════════════════════════════════╡\n",
       "│ old testament ┆ genesis    ┆ 1       ┆ 1     ┆ open la, sewi Elowin li lon e … │\n",
       "│ old testament ┆ genesis    ┆ 1       ┆ 2     ┆ ma li nasa li ala. pimeja li l… │\n",
       "│ old testament ┆ genesis    ┆ 1       ┆ 3     ┆ sewi Elowin li toki. suno o lo… │\n",
       "│ old testament ┆ genesis    ┆ 1       ┆ 4     ┆ sewi Elowin li lukin e suno: o… │\n",
       "│ old testament ┆ genesis    ┆ 1       ┆ 5     ┆ sewi Elowin li nimi Tenpo Suno… │\n",
       "│ …             ┆ …          ┆ …       ┆ …     ┆ …                               │\n",
       "│ new testament ┆ revelation ┆ 2       ┆ 24    ┆ ona li awen pi ma Tasila. ona … │\n",
       "│ new testament ┆ revelation ┆ 21      ┆ 4     ┆ sewi Jawe li weka e telo ale t… │\n",
       "│ apocrypha     ┆ tobit      ┆ 1       ┆ 1     ┆ lipu ni li jo e toki pi jan To… │\n",
       "│ apocrypha     ┆ tobit      ┆ 1       ┆ 2     ┆ jan Enemesalo li jan lawa pi m… │\n",
       "│ apocrypha     ┆ tobit      ┆ 1       ┆ 3     ┆ jan Topi. tenpo suno mi ale la… │\n",
       "└───────────────┴────────────┴─────────┴───────┴─────────────────────────────────┘"
      ]
     },
     "execution_count": 1,
     "metadata": {},
     "output_type": "execute_result"
    }
   ],
   "source": [
    "import re\n",
    "import polars as pl\n",
    "\n",
    "from tqdm import tqdm\n",
    "\n",
    "book_path = \"lipu-sewi/bible/full.md\"\n",
    "\n",
    "part = \"\"\n",
    "book = \"\"\n",
    "chapter = \"\"\n",
    "verse = 0\n",
    "\n",
    "lipu = []\n",
    "\n",
    "with open(book_path) as f:\n",
    "    for line in tqdm(f.readlines()):\n",
    "        line = line.strip()\n",
    "        if not line:\n",
    "            continue\n",
    "\n",
    "        if line.startswith(\"## \"):\n",
    "            part, book = line.removeprefix(\"## \").split(\": \")\n",
    "            continue\n",
    "\n",
    "        if line.startswith(\"### \"):\n",
    "            chapter = line.removeprefix(\"### \" + book).strip()\n",
    "            continue\n",
    "\n",
    "        verse, verse_content = re.findall(r\"(\\d+): [\\!\\?] (.+)\", line)[0]\n",
    "        lipu.append({\n",
    "            \"part\": part,\n",
    "            \"book\": book,\n",
    "            \"chapter\": int(chapter),\n",
    "            \"verse\": int(verse),\n",
    "            \"tok\": verse_content\n",
    "        })\n",
    "\n",
    "lipu_sewi = pl.DataFrame(lipu)\n",
    "lipu_sewi"
   ]
  },
  {
   "cell_type": "code",
   "execution_count": 2,
   "id": "2ed90392",
   "metadata": {},
   "outputs": [],
   "source": [
    "lipu_sewi = lipu_sewi.with_columns(\n",
    "    (lipu_sewi[\"book\"] + \"_\" + lipu_sewi[\"chapter\"] + \"_\" + lipu_sewi[\"verse\"]).alias(\"key\")\n",
    ")"
   ]
  },
  {
   "cell_type": "code",
   "execution_count": 3,
   "id": "d526a1a2",
   "metadata": {},
   "outputs": [],
   "source": [
    "lipu_sewi.write_parquet(\"lipu-sewi.pq\")"
   ]
  },
  {
   "cell_type": "code",
   "execution_count": 4,
   "id": "56820ba4",
   "metadata": {},
   "outputs": [
    {
     "data": {
      "text/plain": [
       "37"
      ]
     },
     "execution_count": 4,
     "metadata": {},
     "output_type": "execute_result"
    }
   ],
   "source": [
    "len(lipu_sewi[\"chapter\"].unique())"
   ]
  }
 ],
 "metadata": {
  "kernelspec": {
   "display_name": "ilo-toki",
   "language": "python",
   "name": "python3"
  },
  "language_info": {
   "codemirror_mode": {
    "name": "ipython",
    "version": 3
   },
   "file_extension": ".py",
   "mimetype": "text/x-python",
   "name": "python",
   "nbconvert_exporter": "python",
   "pygments_lexer": "ipython3",
   "version": "3.12.2"
  }
 },
 "nbformat": 4,
 "nbformat_minor": 5
}
