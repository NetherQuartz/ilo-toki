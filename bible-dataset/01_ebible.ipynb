{
 "cells": [
  {
   "cell_type": "code",
   "execution_count": 1,
   "id": "25865f32",
   "metadata": {},
   "outputs": [],
   "source": [
    "from IPython.display import display\n",
    "from tqdm import tqdm"
   ]
  },
  {
   "cell_type": "code",
   "execution_count": 2,
   "id": "8c04071c",
   "metadata": {},
   "outputs": [],
   "source": [
    "import datasets\n",
    "import polars as pl\n",
    "\n",
    "from datasets import load_dataset\n",
    "\n",
    "ds = load_dataset(\"DavidCBaines/ebible_corpus\")"
   ]
  },
  {
   "cell_type": "code",
   "execution_count": 3,
   "id": "343948e5",
   "metadata": {},
   "outputs": [
    {
     "data": {
      "text/plain": [
       "DatasetDict({\n",
       "    train: Dataset({\n",
       "        features: ['book', 'chapter', 'verse', 'aai', 'aak', 'aau', 'aaz', 'abc', 'abt-maprik', 'abt-wosera', 'abx', 'aby', 'acfNT', 'acr-acc', 'acrNNT', 'acrTNT', 'acuNT', 'adz', 'aer', 'aey', 'agd', 'agg', 'agm', 'agn', 'agr', 'agt', 'aguBl', 'ahr', 'aia', 'aii', 'akeNT', 'alpNT', 'alqALGNT', 'alw', 'aly', 'ameNT', 'amf', 'amh', 'amk', 'amm', 'amn-amanab', 'amn-n', 'amo', 'amp', 'amrNT', 'amuNT', 'amx', 'anh', 'anvNT', 'aoi', 'aoj', 'aoj-filifita', 'aom', 'aon', 'apb', 'apeB', 'apec', 'apnNT', 'apr', 'apuNT', 'apwNT', 'apz', 'arb-vd', 'arbnav', 'are', 'arlNT', 'arnNT', 'arp', 'asj', 'asmfb', 'aso', 'ata', 'atbNT', 'atdNT', 'atgNT', 'att', 'aucNT', 'aui', 'auy', 'avt', 'awb', 'awk', 'awx', 'azb', 'azgNT', 'azzNT', 'baoNT', 'bba', 'bbb', 'bbr', 'bbr2013', 'bch', 'bco', 'bdd', 'bdv', 'bea', 'bef', 'bel', 'beln', 'benirv', 'benobcv', 'beo', 'beu', 'bfz', 'bgc', 'bgg', 'bgs', 'bgt', 'bhd', 'bhg', 'bhi', 'bhl', 'bht', 'bhu', 'big', 'big2013', 'bjk', 'bjp', 'bjr', 'bjvNT', 'bjz', 'bkd', 'bki', 'bkqNT', 'bkw', 'bkx', 'bla', 'blw', 'blzNT', 'bmh', 'bmk', 'bmrNT', 'bmu', 'bnp', 'boaNT', 'bodn', 'boj', 'boj2014', 'bon', 'boxNT', 'bpr', 'bps', 'bpx', 'bqcsim', 'bqp', 'breBRG', 'bsj', 'bsnNT', 'bsp', 'bssNT', 'buk', 'bus', 'bvd', 'bvr', 'bwo', 'bxh', 'byr', 'byx', 'bzdNTpo', 'bzh', 'bzj', 'caa', 'cabNT', 'cac', 'cafNT', 'cak', 'cakCNT', 'cakENT', 'cakNT', 'cakSNT', 'cakWNT', 'cakYNT', 'caoNT', 'capNT', 'carNT', 'cavNT', 'caxNT', 'cbcNT', 'cbiNTpo', 'cbk', 'cbrNT', 'cbsNT', 'cbtNTpo', 'cbuNT', 'cbv', 'ccoNT', 'cebulb', 'cekak', 'ces1613', 'ceslb', 'cesnkb', 'cgc', 'cha', 'chdNT', 'chfNT', 'chk', 'chqNT', 'chzNTps', 'cjoNT', 'cjv', 'ckb', 'cleNT', 'clu', 'cmeNT', 'cmn-cu89s', 'cmn-cu89t', 'cmnfeb', 'cniNT', 'cnlNT', 'cntNT', 'cofNT', 'conNTpo', 'copbhc', 'copcnt', 'copshc', 'cotNT', 'cpaNT', 'cpbNT', 'cpcNT', 'cpuNT', 'cpy', 'crnNT', 'crxNTpo', 'csoNT', 'csy', 'ctaNT', 'cth', 'ctpNT', 'ctu76', 'ctuBl', 'ctucti', 'cubNT', 'cucNT', 'cui', 'cuk', 'cuk09', 'cutNT', 'cuxNT', 'cwe', 'cya', 'daaNT', 'dad', 'dah', 'dan1931', 'dao', 'ded', 'deu1912', 'deu1951', 'deuelbbk', 'deuelo', 'deutkw', 'dgc', 'dgrDOGNT', 'dgz', 'dhg', 'dhgduwadha', 'dif', 'dikNT', 'dji', 'djkNT', 'djr', 'dob', 'dop', 'dov', 'dso', 'dwrENT', 'dwrNT', 'dww', 'dwy', 'ebk', 'ekk', 'ekkpkp', 'eko', 'emi', 'empNTpo', 'ena', 'eng-asv', 'eng-Brenton', 'eng-glw', 'eng-kjv', 'eng-kjv2006', 'eng-lxx2012', 'eng-rv', 'eng-t4t', 'eng-uk-lxx2012', 'eng-web', 'eng-web-c', 'eng-webbe', 'engaoi', 'engasvbt', 'engbarkley', 'engBBE', 'engbsb', 'engDBY', 'engDRA', 'engemtv', 'engf35', 'engfbv', 'enggnv', 'engjps', 'engkjvcpb', 'englee', 'englsv', 'englxxup', 'engnet', 'engnna', 'engnoy', 'engoebcw', 'engoebus', 'engoke', 'engourb', 'engPEV', 'engtcent', 'engtnt', 'engULB', 'engwebp', 'engwebpb', 'engwebster', 'engwebu', 'engwmb', 'engwmbb', 'engwyc2017', 'engwyc2018', 'engWycliffe', 'engylt', 'enq2', 'epo', 'eri', 'eseNT', 'eskNT', 'etr', 'ewe', 'faa', 'fad', 'fai', 'far', 'ffm', 'fin', 'for', 'fra_fob', 'fraLSG', 'francl', 'frasbl', 'fue', 'fuf', 'fuhbkf', 'gah', 'gai', 'gam', 'gaq', 'gaw', 'gaz', 'gdn', 'gdr', 'geb', 'gfk', 'gfkh', 'gfks', 'ghs', 'glk', 'gmvggm', 'gmvNT', 'gmvRNT', 'gngNT', 'gnn', 'gnwNT', 'gofENT', 'gofRNT', 'gofwftw', 'grc-tisch', 'grcbrent', 'grcbyz', 'grcf35', 'grcmt', 'grcsr', 'grctcgnt', 'grctr', 'gubBl', 'guh', 'guiNT', 'guj2017', 'gulNT', 'gum', 'gun', 'guoNT', 'gup', 'gux', 'guxg', 'gvc', 'gvf', 'gvn', 'gvs', 'gwiNT', 'gymNT', 'gyrNT', 'hat', 'hatbsa', 'hausa', 'hauulb', 'haw1868', 'hbo', 'hboWLC', 'hchNT', 'heb', 'heblb', 'hegNTpo', 'hin2017', 'hincv', 'hixNT', 'hla', 'hlt', 'hltmcsb', 'hltthb', 'hmo', 'hnsNT', 'hopNT', 'hot', 'hoy', 'hrv', 'hto', 'hubNT', 'hui', 'hun', 'husNT1971', 'husNT2005', 'huuNT', 'huvNT', 'hvn', 'ian', 'ibo', 'ignNT', 'ikkNT', 'ikwNT', 'iloulb', 'imo', 'inb', 'ind', 'indags', 'indayt', 'ino', 'ino2013', 'iou', 'ipi', 'isl', 'isn', 'ita1885', 'ita1927', 'iws', 'ixlCNT', 'ixlNNT', 'jacNT', 'jae', 'jao', 'jicNT', 'jid', 'jivNT', 'jni', 'jpn1965', 'juy', 'jvnNT', 'kan2017', 'kanokcv', 'kaqNT', 'kbcNT', 'kbh', 'kbm', 'kbq', 'kca', 'kdc', 'kde', 'kdlNT', 'kekNT', 'kenNT', 'kew', 'kfw', 'kgf', 'kgkNT', 'kgpNT', 'khs', 'khz', 'kij', 'kik', 'kiw', 'kiz', 'kjeNT', 'kjs', 'kkc', 'kkl', 'klt', 'klv', 'kmg', 'kmh', 'kmh-m', 'kmk', 'kmo', 'kms', 'kmu', 'kne', 'knf', 'knjNT', 'knv-aramia', 'knv-fly_river', 'kor', 'kos', 'kpf', 'kpg', 'kpjNT', 'kpr', 'kpw', 'kpx', 'kqa', 'kqc', 'kqf', 'kql', 'kqw', 'ksd', 'ksj', 'ksr', 'ktm', 'kto', 'kud', 'kud2014', 'kue', 'kup', 'kvg', 'kvnNT', 'kwd', 'kwf', 'kwi', 'kwj', 'kxv', 'kxw', 'kyc', 'kyf', 'kyg', 'kyq', 'kyzNT', 'kze', 'lacNT', 'latVUC', 'lbb', 'lbk', 'lbm', 'lcm', 'leu', 'lex', 'lgl', 'lid', 'lifNT', 'lifNT2', 'lin', 'lit', 'llg', 'lug', 'luo', 'lww', 'maaNT', 'majNT', 'mal', 'mal2015', 'malc', 'mamC', 'mamNT', 'maqNT', 'mar', 'mauNT', 'mavNT', 'mazNT', 'mbbOT', 'mbcNT', 'mbh', 'mbjNT', 'mblNT', 'mbs', 'mbtNT', 'mca', 'mcbNT', 'mcdNT', 'mcfNT', 'mcoNT', 'mcp', 'mcq', 'mcr', 'mdyeth', 'med', 'mee', 'mek', 'meq', 'met', 'meu', 'mgc', 'mgh', 'mgh2016', 'mgw', 'mhl', 'mibNT', 'micMIQNT', 'mieNT', 'migNT', 'mihNT', 'milNT', 'mioNT', 'mirNT', 'mitNT', 'mizNT', 'mjcNT', 'mkj', 'mkl', 'mkn', 'mksNT', 'mle', 'mlh', 'mlp', 'mmo', 'mmx', 'mna', 'mni', 'mopNT', 'mox', 'mph', 'mpj', 'mpmNT', 'mpp', 'mps', 'mpt', 'mpx', 'mqbNT', 'mqjNT', 'msb', 'msc', 'msk', 'msmNT', 'msy', 'msy2020', 'mti', 'mtoNT', 'mux', 'muy', 'mva', 'mvn', 'mwc', 'mwe', 'mwf2018', 'mwp', 'mxbNT', 'mxm', 'mxpNT', 'mxqNT', 'mxtNT', 'mya', 'myajvb', 'myk', 'myu', 'myw', 'myy', 'mzz', 'nabNT', 'naf', 'nag', 'nak', 'nal', 'nas', 'nbq', 'nca', 'nce', 'nchBl', 'ncjNT', 'nclNT', 'ncuNT', 'nde', 'ndg', 'ndj', 'nfa', 'ngp', 'nguNT', 'nheBl', 'nheNT', 'nhgNT', 'nhiNT', 'nho', 'nhr', 'nhuNT', 'nhwBl', 'nhyNT', 'nif', 'nii', 'ninNT', 'nkoNT', 'nld', 'nld1939', 'nldnbg', 'nlg', 'nmws', 'nna', 'nnq', 'noaE', 'noaH', 'noblb', 'nop', 'notNT', 'nou', 'npioncb', 'npiulb', 'nplNT', 'nrz', 'nsn', 'nss', 'ntj', 'ntpNT', 'ntu', 'nuq', 'nuy', 'nvm', 'nwi', 'nya', 'nys', 'oboNT', 'okv', 'okvh', 'omb', 'omw', 'omw-a', 'ong', 'ons', 'oodNT', 'opm', 'ory', 'oteNT', 'otmNT', 'otnNT', 'otqNT', 'otsNT', 'pabNT', 'padNT', 'pahNT', 'pan', 'paoNT', 'peg', 'pesopcb', 'pesOPV', 'pibNT', 'pioNT', 'pirNT', 'piu2006', 'pjt', 'plsNT', 'plu', 'pma', 'poeNT', 'pohNT', 'poiNT', 'polsz', 'polubg', 'pon', 'pon-pdn', 'pon2006', 'pon2006a', 'porblt', 'porbr2018', 'porbrbsl', 'portft', 'poy', 'ppo', 'prfNT', 'priNT', 'ptp', 'ptu', 'pwg', 'qub', 'qucNNT', 'qucTNT', 'quctt', 'qufNT', 'quhNT', 'qulNT', 'qupNT', 'qvcNT', 'qveNT', 'qvhNT', 'qvmNT', 'qvnNT', 'qvsNT', 'qvwNT', 'qvzNT', 'qwhNT', 'qxhNT', 'qxnNT', 'qxoNT', 'rai', 'reg', 'rgu', 'rkbNT', 'rmc', 'rmczrb', 'rmn', 'rmyArli', 'rmyChergash', 'rmyGurbet', 'rmyservi', 'rmyvlakh', 'ron1924', 'ronBayash', 'ronbtf', 'ronlsb', 'ronludari', 'roo', 'rop', 'row', 'rro', 'ruf', 'rug', 'russyn', 'rwo-karo', 'rwo-rawa', 'sabNT', 'sanasm', 'sanben', 'sanbur', 'sancol', 'sandev', 'sanguj', 'sanhk', 'sanias', 'saniso', 'sanitr', 'sankan', 'sankhm', 'sanmal', 'sanori', 'sanpun', 'sansin', 'santam', 'santel', 'santha', 'santib', 'sanurd', 'sanvel', 'sbe', 'sbk', 'sbs', 'sby', 'sch', 'seh', 'seyNT', 'sgb', 'sgz', 'shj', 'shpNTpo', 'sim', 'sjaNT', 'sll', 'smkNT', 'sna', 'snc', 'snnNT', 'snp', 'snp-lambau', 'snx', 'sny', 'som', 'soq', 'soy', 'spabes', 'spablm', 'spapddpt', 'spaRV1909', 'sparvg', 'spav1602p', 'spavbl', 'spl', 'spm', 'spp', 'sps', 'spyNT', 'sri', 'srmNT', 'srnNT', 'srp1865', 'srqNT', 'ssd', 'ssg', 'ssx', 'stpNT', 'stw', 'sua', 'sue', 'sus', 'susa', 'suzBl', 'swe', 'swef', 'swh1850', 'swhonen', 'swhulb', 'swp', 'sxbNT', 'tacNT', 'taj', 'tam2017', 'tamtcv', 'tav', 'taw', 'tbc', 'tbf', 'tbg', 'tbg-a', 'tblNT', 'tbo', 'tbzsim', 'tcaNT', 'tcs', 'tczchongthu', 'tdt', 'tdx', 'teeNT', 'tel2017', 'terNT', 'tet', 'tew', 'tfrNTpo', 'tgj', 'tgk', 'tglulb', 'tgo', 'tgp', 'thaKJV', 'tif', 'tim', 'tiw', 'tiy', 'tke', 'tkr', 'tkuNT', 'tlf', 'tmd', 'tnaNT', 'tnc', 'tnk', 'tnn', 'tnp', 'tocNT', 'tod', 'tof', 'tojNT', 'ton', 'tooNT', 'topNT', 'tosNT', 'tpa', 'tpi', 'tpiOTNT', 'tptNT', 'tpz', 'trcNT', 'tsn', 'tswNT', 'ttcNT', 'tte', 'tteo', 'tuc-o', 'tuc-t', 'tue', 'tuf', 'tuoNT', 'turobt', 'turytc', 'tvk', 'tvt', 'twi', 'twiasante', 'txq', 'txuNT', 'tzjE', 'tzjNT', 'tzoNT', 'tzoSA', 'tzotzc', 'tzotze', 'tzoZNT', 'ubr', 'ubu-andelale', 'ubu-kala', 'ubu-nopenge', 'udu', 'uigara', 'uigcyr', 'uiglat', 'uigpin', 'ukr1871', 'ukr1996', 'ukrfb', 'ukronpu', 'uli', 'ulk', 'ulk1902', 'unx', 'upv', 'uraNT', 'urbNT', 'urd', 'urdgvh', 'urdgvr', 'urdgvu', 'uri', 'uro', 'urt', 'urw', 'usa', 'uspNT', 'uvh', 'uvl', 'vid', 'vie1934', 'vieovcb', 'viv', 'vmyNT', 'waj', 'wal', 'wapNT', 'wat', 'wbi', 'wbp', 'wed', 'wed-topura', 'wer', 'wim', 'wiu', 'wiv', 'wmt', 'wmw', 'wnc', 'wnu', 'wol2010', 'wolmbs', 'wos', 'wrk', 'wro', 'wrs', 'wsk', 'wuv', 'xavNT', 'xbi-w', 'xbi-y', 'xed', 'xla', 'xnj', 'xnn', 'xon', 'xsi', 'xtdNT', 'xtmNTpp', 'yaaNT', 'yadNT', 'yal', 'yao', 'yap', 'yaqNT', 'yby', 'ycn', 'yka', 'yle', 'yml', 'yom', 'yon', 'yor', 'yrb', 'yreNT', 'yss-yamano', 'yss-yawu', 'yuj', 'yut', 'yuw', 'yvaNT', 'zaaNT', 'zabNT', 'zacNT', 'zadNT', 'zaiNT', 'zaj', 'zamNT', 'zaoNT', 'zapNT', 'zarNT', 'zasNT', 'zatNTps', 'zavNT', 'zawNT', 'zcaNT', 'zgam', 'zia', 'ziw', 'zlmKSZI', 'zosNT', 'zpcNT', 'zplNT', 'zpmNT', 'zpoNT', 'zpqNT', 'zpuNT', 'zpvNT', 'zpzNTpp', 'zsrNT', 'ztqNT', 'ztyNTps', 'zypNT'],\n",
       "        num_rows: 41899\n",
       "    })\n",
       "})"
      ]
     },
     "execution_count": 3,
     "metadata": {},
     "output_type": "execute_result"
    }
   ],
   "source": [
    "ds"
   ]
  },
  {
   "cell_type": "code",
   "execution_count": 4,
   "id": "9290f78a",
   "metadata": {},
   "outputs": [
    {
     "data": {
      "text/html": [
       "<div><style>\n",
       ".dataframe > thead > tr,\n",
       ".dataframe > tbody > tr {\n",
       "  text-align: right;\n",
       "  white-space: pre-wrap;\n",
       "}\n",
       "</style>\n",
       "<small>shape: (41_899, 1_105)</small><table border=\"1\" class=\"dataframe\"><thead><tr><th>book</th><th>chapter</th><th>verse</th><th>aai</th><th>aak</th><th>aau</th><th>aaz</th><th>abc</th><th>abt-maprik</th><th>abt-wosera</th><th>abx</th><th>aby</th><th>acfNT</th><th>acr-acc</th><th>acrNNT</th><th>acrTNT</th><th>acuNT</th><th>adz</th><th>aer</th><th>aey</th><th>agd</th><th>agg</th><th>agm</th><th>agn</th><th>agr</th><th>agt</th><th>aguBl</th><th>ahr</th><th>aia</th><th>aii</th><th>akeNT</th><th>alpNT</th><th>alqALGNT</th><th>alw</th><th>aly</th><th>ameNT</th><th>amf</th><th>&hellip;</th><th>yss-yawu</th><th>yuj</th><th>yut</th><th>yuw</th><th>yvaNT</th><th>zaaNT</th><th>zabNT</th><th>zacNT</th><th>zadNT</th><th>zaiNT</th><th>zaj</th><th>zamNT</th><th>zaoNT</th><th>zapNT</th><th>zarNT</th><th>zasNT</th><th>zatNTps</th><th>zavNT</th><th>zawNT</th><th>zcaNT</th><th>zgam</th><th>zia</th><th>ziw</th><th>zlmKSZI</th><th>zosNT</th><th>zpcNT</th><th>zplNT</th><th>zpmNT</th><th>zpoNT</th><th>zpqNT</th><th>zpuNT</th><th>zpvNT</th><th>zpzNTpp</th><th>zsrNT</th><th>ztqNT</th><th>ztyNTps</th><th>zypNT</th></tr><tr><td>str</td><td>i64</td><td>i64</td><td>str</td><td>str</td><td>str</td><td>str</td><td>str</td><td>str</td><td>str</td><td>str</td><td>str</td><td>str</td><td>str</td><td>str</td><td>str</td><td>str</td><td>str</td><td>str</td><td>str</td><td>str</td><td>str</td><td>str</td><td>str</td><td>str</td><td>str</td><td>str</td><td>str</td><td>str</td><td>str</td><td>str</td><td>str</td><td>str</td><td>str</td><td>str</td><td>str</td><td>str</td><td>&hellip;</td><td>str</td><td>str</td><td>str</td><td>str</td><td>str</td><td>str</td><td>str</td><td>str</td><td>str</td><td>str</td><td>str</td><td>str</td><td>str</td><td>str</td><td>str</td><td>str</td><td>str</td><td>str</td><td>str</td><td>str</td><td>str</td><td>str</td><td>str</td><td>str</td><td>str</td><td>str</td><td>str</td><td>str</td><td>str</td><td>str</td><td>str</td><td>str</td><td>str</td><td>str</td><td>str</td><td>str</td><td>str</td></tr></thead><tbody><tr><td>&quot;GEN&quot;</td><td>1</td><td>1</td><td>&quot;&quot;</td><td>&quot;&quot;</td><td>&quot;&quot;</td><td>&quot;Nahunu te, Uisneno nmoeꞌ neno …</td><td>&quot;&quot;</td><td>&quot;&quot;</td><td>&quot;&quot;</td><td>&quot;&quot;</td><td>&quot;&quot;</td><td>&quot;&quot;</td><td>&quot;&quot;</td><td>&quot;&quot;</td><td>&quot;&quot;</td><td>&quot;Nunangkamtaik mash atsuinai, Y…</td><td>&quot;Miamun bingan ugu, gubuꞌ Anutu…</td><td>&quot;Lyetenyenge akwele, arne anety…</td><td>&quot;Wele gug qocna Anut uqa sao ma…</td><td>&quot;&quot;</td><td>&quot;&quot;</td><td>&quot;&quot;</td><td>&quot;&quot;</td><td>&quot;Yama nagkamchakug, Apajuík nay…</td><td>&quot;&quot;</td><td>&quot;Yi tcya&#x27;j tu yi wuxtx&#x27;otx&#x27;, Ry…</td><td>&quot;&quot;</td><td>&quot;&quot;</td><td>&quot;&quot;</td><td>&quot;&quot;</td><td>&quot;&quot;</td><td>&quot;&quot;</td><td>&quot;&quot;</td><td>&quot;Awank-akerr, Akngeyel alker-th…</td><td>&quot;&quot;</td><td>&quot;&quot;</td><td>&hellip;</td><td>&quot;&quot;</td><td>&quot;&quot;</td><td>&quot;&quot;</td><td>&quot;&quot;</td><td>&quot;&quot;</td><td>&quot;&quot;</td><td>&quot;&quot;</td><td>&quot;&quot;</td><td>&quot;&quot;</td><td>&quot;&quot;</td><td>&quot;&quot;</td><td>&quot;&quot;</td><td>&quot;&quot;</td><td>&quot;&quot;</td><td>&quot;&quot;</td><td>&quot;&quot;</td><td>&quot;&quot;</td><td>&quot;&quot;</td><td>&quot;&quot;</td><td>&quot;&quot;</td><td>&quot;&quot;</td><td>&quot;&quot;</td><td>&quot;&quot;</td><td>&quot;&quot;</td><td>&quot;&quot;</td><td>&quot;&quot;</td><td>&quot;&quot;</td><td>&quot;&quot;</td><td>&quot;&quot;</td><td>&quot;&quot;</td><td>&quot;&quot;</td><td>&quot;&quot;</td><td>&quot;&quot;</td><td>&quot;&quot;</td><td>&quot;&quot;</td><td>&quot;&quot;</td><td>&quot;&quot;</td></tr><tr><td>&quot;GEN&quot;</td><td>1</td><td>2</td><td>&quot;&quot;</td><td>&quot;&quot;</td><td>&quot;&quot;</td><td>&quot;Oras naan, pah-pinan ka mamoꞌe…</td><td>&quot;&quot;</td><td>&quot;&quot;</td><td>&quot;&quot;</td><td>&quot;&quot;</td><td>&quot;&quot;</td><td>&quot;&quot;</td><td>&quot;&quot;</td><td>&quot;&quot;</td><td>&quot;&quot;</td><td>&quot;Antsu nungkaka juun entsajai p…</td><td>&quot;da intap imingꞌ utaꞌ angu. Da …</td><td>&quot;Urreke Ngkartele arne iwenhe-i…</td><td>&quot;Odocob maha eu ihulahal tanac …</td><td>&quot;&quot;</td><td>&quot;&quot;</td><td>&quot;&quot;</td><td>&quot;&quot;</td><td>&quot;Nugka niimeg atsau, ayatak nay…</td><td>&quot;&quot;</td><td>&quot;Poro yi wuxtx&#x27;otx&#x27; qui&#x27;c xtxol…</td><td>&quot;&quot;</td><td>&quot;&quot;</td><td>&quot;&quot;</td><td>&quot;&quot;</td><td>&quot;&quot;</td><td>&quot;&quot;</td><td>&quot;&quot;</td><td>&quot;Kwaty alayelant ahern ingkerre…</td><td>&quot;&quot;</td><td>&quot;&quot;</td><td>&hellip;</td><td>&quot;&quot;</td><td>&quot;&quot;</td><td>&quot;&quot;</td><td>&quot;&quot;</td><td>&quot;&quot;</td><td>&quot;&quot;</td><td>&quot;&quot;</td><td>&quot;&quot;</td><td>&quot;&quot;</td><td>&quot;&quot;</td><td>&quot;&quot;</td><td>&quot;&quot;</td><td>&quot;&quot;</td><td>&quot;&quot;</td><td>&quot;&quot;</td><td>&quot;&quot;</td><td>&quot;&quot;</td><td>&quot;&quot;</td><td>&quot;&quot;</td><td>&quot;&quot;</td><td>&quot;&quot;</td><td>&quot;&quot;</td><td>&quot;&quot;</td><td>&quot;&quot;</td><td>&quot;&quot;</td><td>&quot;&quot;</td><td>&quot;&quot;</td><td>&quot;&quot;</td><td>&quot;&quot;</td><td>&quot;&quot;</td><td>&quot;&quot;</td><td>&quot;&quot;</td><td>&quot;&quot;</td><td>&quot;&quot;</td><td>&quot;&quot;</td><td>&quot;&quot;</td><td>&quot;&quot;</td></tr><tr><td>&quot;GEN&quot;</td><td>1</td><td>3</td><td>&quot;&quot;</td><td>&quot;&quot;</td><td>&quot;&quot;</td><td>&quot;Rarit Uisneno naꞌuab am nak, “…</td><td>&quot;&quot;</td><td>&quot;&quot;</td><td>&quot;&quot;</td><td>&quot;&quot;</td><td>&quot;&quot;</td><td>&quot;&quot;</td><td>&quot;&quot;</td><td>&quot;&quot;</td><td>&quot;&quot;</td><td>&quot;Nuniangka Yus chichaak: —Paant…</td><td>&quot;Da Anutu ini, “Nam dzidziwanda…</td><td>&quot;Ngkarte anteme angkeke, “Alkng…</td><td>&quot;Odocob Anut madeceb, “Camajac …</td><td>&quot;&quot;</td><td>&quot;&quot;</td><td>&quot;&quot;</td><td>&quot;&quot;</td><td>&quot;Nuadui Apajuí chichaak: “¡Tsaa…</td><td>&quot;&quot;</td><td>&quot;Itzun bantz, nin tal Ryos: “Na…</td><td>&quot;&quot;</td><td>&quot;&quot;</td><td>&quot;&quot;</td><td>&quot;&quot;</td><td>&quot;&quot;</td><td>&quot;&quot;</td><td>&quot;&quot;</td><td>&quot;Akngey angkek, “Arrtyernerl-ay…</td><td>&quot;&quot;</td><td>&quot;&quot;</td><td>&hellip;</td><td>&quot;&quot;</td><td>&quot;&quot;</td><td>&quot;&quot;</td><td>&quot;&quot;</td><td>&quot;&quot;</td><td>&quot;&quot;</td><td>&quot;&quot;</td><td>&quot;&quot;</td><td>&quot;&quot;</td><td>&quot;&quot;</td><td>&quot;&quot;</td><td>&quot;&quot;</td><td>&quot;&quot;</td><td>&quot;&quot;</td><td>&quot;&quot;</td><td>&quot;&quot;</td><td>&quot;&quot;</td><td>&quot;&quot;</td><td>&quot;&quot;</td><td>&quot;&quot;</td><td>&quot;&quot;</td><td>&quot;&quot;</td><td>&quot;&quot;</td><td>&quot;&quot;</td><td>&quot;&quot;</td><td>&quot;&quot;</td><td>&quot;&quot;</td><td>&quot;&quot;</td><td>&quot;&quot;</td><td>&quot;&quot;</td><td>&quot;&quot;</td><td>&quot;&quot;</td><td>&quot;&quot;</td><td>&quot;&quot;</td><td>&quot;&quot;</td><td>&quot;&quot;</td><td>&quot;&quot;</td></tr><tr><td>&quot;GEN&quot;</td><td>1</td><td>4</td><td>&quot;&quot;</td><td>&quot;&quot;</td><td>&quot;&quot;</td><td>&quot;Ankius meuꞌ gui te, In nmariin…</td><td>&quot;&quot;</td><td>&quot;&quot;</td><td>&quot;&quot;</td><td>&quot;&quot;</td><td>&quot;&quot;</td><td>&quot;&quot;</td><td>&quot;&quot;</td><td>&quot;&quot;</td><td>&quot;&quot;</td><td>&quot;Tura asamtai Yus paaniun waina…</td><td>&quot;Da itsangan nam dzidziwandan i…</td><td>&quot;Re areke alkngenthe pwarrtyent…</td><td>&quot;Anut camajac me bahic eu fimei…</td><td>&quot;&quot;</td><td>&quot;&quot;</td><td>&quot;&quot;</td><td>&quot;&quot;</td><td>&quot;Nuna Apajuí diis “tsaaptin aku…</td><td>&quot;&quot;</td><td>&quot;Nintzun til Ryos yi chumbalaj …</td><td>&quot;&quot;</td><td>&quot;&quot;</td><td>&quot;&quot;</td><td>&quot;&quot;</td><td>&quot;&quot;</td><td>&quot;&quot;</td><td>&quot;&quot;</td><td>&quot;Akngeyel arek mwerr arrtyernen…</td><td>&quot;&quot;</td><td>&quot;&quot;</td><td>&hellip;</td><td>&quot;&quot;</td><td>&quot;&quot;</td><td>&quot;&quot;</td><td>&quot;&quot;</td><td>&quot;&quot;</td><td>&quot;&quot;</td><td>&quot;&quot;</td><td>&quot;&quot;</td><td>&quot;&quot;</td><td>&quot;&quot;</td><td>&quot;&quot;</td><td>&quot;&quot;</td><td>&quot;&quot;</td><td>&quot;&quot;</td><td>&quot;&quot;</td><td>&quot;&quot;</td><td>&quot;&quot;</td><td>&quot;&quot;</td><td>&quot;&quot;</td><td>&quot;&quot;</td><td>&quot;&quot;</td><td>&quot;&quot;</td><td>&quot;&quot;</td><td>&quot;&quot;</td><td>&quot;&quot;</td><td>&quot;&quot;</td><td>&quot;&quot;</td><td>&quot;&quot;</td><td>&quot;&quot;</td><td>&quot;&quot;</td><td>&quot;&quot;</td><td>&quot;&quot;</td><td>&quot;&quot;</td><td>&quot;&quot;</td><td>&quot;&quot;</td><td>&quot;&quot;</td><td>&quot;&quot;</td></tr><tr><td>&quot;GEN&quot;</td><td>1</td><td>5</td><td>&quot;&quot;</td><td>&quot;&quot;</td><td>&quot;&quot;</td><td>&quot;In nakanab meuꞌ gui nak, ‘mana…</td><td>&quot;&quot;</td><td>&quot;&quot;</td><td>&quot;&quot;</td><td>&quot;&quot;</td><td>&quot;&quot;</td><td>&quot;&quot;</td><td>&quot;&quot;</td><td>&quot;&quot;</td><td>&quot;&quot;</td><td>&quot;Tura paaniunka tsawai inaikiam…</td><td>&quot;Anutu ifaringꞌ nam dzidziwanda…</td><td>&quot;&lt;range&gt;&quot;</td><td>&quot;Camajac eu Anut uqa ijan “Cahi…</td><td>&quot;&quot;</td><td>&quot;&quot;</td><td>&quot;&quot;</td><td>&quot;&quot;</td><td>&quot;Duwi tsaaptinun adaikauwai “ts…</td><td>&quot;&quot;</td><td>&quot;Nin oc tk&#x27;ol Ryos bi&#x27; tkan ski…</td><td>&quot;&quot;</td><td>&quot;&quot;</td><td>&quot;&quot;</td><td>&quot;&quot;</td><td>&quot;&quot;</td><td>&quot;&quot;</td><td>&quot;&quot;</td><td>&quot;Akngeyel itnewek “Arlta.” Kel …</td><td>&quot;&quot;</td><td>&quot;&quot;</td><td>&hellip;</td><td>&quot;&quot;</td><td>&quot;&quot;</td><td>&quot;&quot;</td><td>&quot;&quot;</td><td>&quot;&quot;</td><td>&quot;&quot;</td><td>&quot;&quot;</td><td>&quot;&quot;</td><td>&quot;&quot;</td><td>&quot;&quot;</td><td>&quot;&quot;</td><td>&quot;&quot;</td><td>&quot;&quot;</td><td>&quot;&quot;</td><td>&quot;&quot;</td><td>&quot;&quot;</td><td>&quot;&quot;</td><td>&quot;&quot;</td><td>&quot;&quot;</td><td>&quot;&quot;</td><td>&quot;&quot;</td><td>&quot;&quot;</td><td>&quot;&quot;</td><td>&quot;&quot;</td><td>&quot;&quot;</td><td>&quot;&quot;</td><td>&quot;&quot;</td><td>&quot;&quot;</td><td>&quot;&quot;</td><td>&quot;&quot;</td><td>&quot;&quot;</td><td>&quot;&quot;</td><td>&quot;&quot;</td><td>&quot;&quot;</td><td>&quot;&quot;</td><td>&quot;&quot;</td><td>&quot;&quot;</td></tr><tr><td>&hellip;</td><td>&hellip;</td><td>&hellip;</td><td>&hellip;</td><td>&hellip;</td><td>&hellip;</td><td>&hellip;</td><td>&hellip;</td><td>&hellip;</td><td>&hellip;</td><td>&hellip;</td><td>&hellip;</td><td>&hellip;</td><td>&hellip;</td><td>&hellip;</td><td>&hellip;</td><td>&hellip;</td><td>&hellip;</td><td>&hellip;</td><td>&hellip;</td><td>&hellip;</td><td>&hellip;</td><td>&hellip;</td><td>&hellip;</td><td>&hellip;</td><td>&hellip;</td><td>&hellip;</td><td>&hellip;</td><td>&hellip;</td><td>&hellip;</td><td>&hellip;</td><td>&hellip;</td><td>&hellip;</td><td>&hellip;</td><td>&hellip;</td><td>&hellip;</td><td>&hellip;</td><td>&hellip;</td><td>&hellip;</td><td>&hellip;</td><td>&hellip;</td><td>&hellip;</td><td>&hellip;</td><td>&hellip;</td><td>&hellip;</td><td>&hellip;</td><td>&hellip;</td><td>&hellip;</td><td>&hellip;</td><td>&hellip;</td><td>&hellip;</td><td>&hellip;</td><td>&hellip;</td><td>&hellip;</td><td>&hellip;</td><td>&hellip;</td><td>&hellip;</td><td>&hellip;</td><td>&hellip;</td><td>&hellip;</td><td>&hellip;</td><td>&hellip;</td><td>&hellip;</td><td>&hellip;</td><td>&hellip;</td><td>&hellip;</td><td>&hellip;</td><td>&hellip;</td><td>&hellip;</td><td>&hellip;</td><td>&hellip;</td><td>&hellip;</td><td>&hellip;</td><td>&hellip;</td><td>&hellip;</td></tr><tr><td>&quot;ENO&quot;</td><td>42</td><td>12</td><td>&quot;&quot;</td><td>&quot;&quot;</td><td>&quot;&quot;</td><td>&quot;&quot;</td><td>&quot;&quot;</td><td>&quot;&quot;</td><td>&quot;&quot;</td><td>&quot;&quot;</td><td>&quot;&quot;</td><td>&quot;&quot;</td><td>&quot;&quot;</td><td>&quot;&quot;</td><td>&quot;&quot;</td><td>&quot;&quot;</td><td>&quot;&quot;</td><td>&quot;&quot;</td><td>&quot;&quot;</td><td>&quot;&quot;</td><td>&quot;&quot;</td><td>&quot;&quot;</td><td>&quot;&quot;</td><td>&quot;&quot;</td><td>&quot;&quot;</td><td>&quot;&quot;</td><td>&quot;&quot;</td><td>&quot;&quot;</td><td>&quot;&quot;</td><td>&quot;&quot;</td><td>&quot;&quot;</td><td>&quot;&quot;</td><td>&quot;&quot;</td><td>&quot;&quot;</td><td>&quot;&quot;</td><td>&quot;&quot;</td><td>&hellip;</td><td>&quot;&quot;</td><td>&quot;&quot;</td><td>&quot;&quot;</td><td>&quot;&quot;</td><td>&quot;&quot;</td><td>&quot;&quot;</td><td>&quot;&quot;</td><td>&quot;&quot;</td><td>&quot;&quot;</td><td>&quot;&quot;</td><td>&quot;&quot;</td><td>&quot;&quot;</td><td>&quot;&quot;</td><td>&quot;&quot;</td><td>&quot;&quot;</td><td>&quot;&quot;</td><td>&quot;&quot;</td><td>&quot;&quot;</td><td>&quot;&quot;</td><td>&quot;&quot;</td><td>&quot;&quot;</td><td>&quot;&quot;</td><td>&quot;&quot;</td><td>&quot;&quot;</td><td>&quot;&quot;</td><td>&quot;&quot;</td><td>&quot;&quot;</td><td>&quot;&quot;</td><td>&quot;&quot;</td><td>&quot;&quot;</td><td>&quot;&quot;</td><td>&quot;&quot;</td><td>&quot;&quot;</td><td>&quot;&quot;</td><td>&quot;&quot;</td><td>&quot;&quot;</td><td>&quot;&quot;</td></tr><tr><td>&quot;ENO&quot;</td><td>42</td><td>13</td><td>&quot;&quot;</td><td>&quot;&quot;</td><td>&quot;&quot;</td><td>&quot;&quot;</td><td>&quot;&quot;</td><td>&quot;&quot;</td><td>&quot;&quot;</td><td>&quot;&quot;</td><td>&quot;&quot;</td><td>&quot;&quot;</td><td>&quot;&quot;</td><td>&quot;&quot;</td><td>&quot;&quot;</td><td>&quot;&quot;</td><td>&quot;&quot;</td><td>&quot;&quot;</td><td>&quot;&quot;</td><td>&quot;&quot;</td><td>&quot;&quot;</td><td>&quot;&quot;</td><td>&quot;&quot;</td><td>&quot;&quot;</td><td>&quot;&quot;</td><td>&quot;&quot;</td><td>&quot;&quot;</td><td>&quot;&quot;</td><td>&quot;&quot;</td><td>&quot;&quot;</td><td>&quot;&quot;</td><td>&quot;&quot;</td><td>&quot;&quot;</td><td>&quot;&quot;</td><td>&quot;&quot;</td><td>&quot;&quot;</td><td>&hellip;</td><td>&quot;&quot;</td><td>&quot;&quot;</td><td>&quot;&quot;</td><td>&quot;&quot;</td><td>&quot;&quot;</td><td>&quot;&quot;</td><td>&quot;&quot;</td><td>&quot;&quot;</td><td>&quot;&quot;</td><td>&quot;&quot;</td><td>&quot;&quot;</td><td>&quot;&quot;</td><td>&quot;&quot;</td><td>&quot;&quot;</td><td>&quot;&quot;</td><td>&quot;&quot;</td><td>&quot;&quot;</td><td>&quot;&quot;</td><td>&quot;&quot;</td><td>&quot;&quot;</td><td>&quot;&quot;</td><td>&quot;&quot;</td><td>&quot;&quot;</td><td>&quot;&quot;</td><td>&quot;&quot;</td><td>&quot;&quot;</td><td>&quot;&quot;</td><td>&quot;&quot;</td><td>&quot;&quot;</td><td>&quot;&quot;</td><td>&quot;&quot;</td><td>&quot;&quot;</td><td>&quot;&quot;</td><td>&quot;&quot;</td><td>&quot;&quot;</td><td>&quot;&quot;</td><td>&quot;&quot;</td></tr><tr><td>&quot;ENO&quot;</td><td>42</td><td>14</td><td>&quot;&quot;</td><td>&quot;&quot;</td><td>&quot;&quot;</td><td>&quot;&quot;</td><td>&quot;&quot;</td><td>&quot;&quot;</td><td>&quot;&quot;</td><td>&quot;&quot;</td><td>&quot;&quot;</td><td>&quot;&quot;</td><td>&quot;&quot;</td><td>&quot;&quot;</td><td>&quot;&quot;</td><td>&quot;&quot;</td><td>&quot;&quot;</td><td>&quot;&quot;</td><td>&quot;&quot;</td><td>&quot;&quot;</td><td>&quot;&quot;</td><td>&quot;&quot;</td><td>&quot;&quot;</td><td>&quot;&quot;</td><td>&quot;&quot;</td><td>&quot;&quot;</td><td>&quot;&quot;</td><td>&quot;&quot;</td><td>&quot;&quot;</td><td>&quot;&quot;</td><td>&quot;&quot;</td><td>&quot;&quot;</td><td>&quot;&quot;</td><td>&quot;&quot;</td><td>&quot;&quot;</td><td>&quot;&quot;</td><td>&hellip;</td><td>&quot;&quot;</td><td>&quot;&quot;</td><td>&quot;&quot;</td><td>&quot;&quot;</td><td>&quot;&quot;</td><td>&quot;&quot;</td><td>&quot;&quot;</td><td>&quot;&quot;</td><td>&quot;&quot;</td><td>&quot;&quot;</td><td>&quot;&quot;</td><td>&quot;&quot;</td><td>&quot;&quot;</td><td>&quot;&quot;</td><td>&quot;&quot;</td><td>&quot;&quot;</td><td>&quot;&quot;</td><td>&quot;&quot;</td><td>&quot;&quot;</td><td>&quot;&quot;</td><td>&quot;&quot;</td><td>&quot;&quot;</td><td>&quot;&quot;</td><td>&quot;&quot;</td><td>&quot;&quot;</td><td>&quot;&quot;</td><td>&quot;&quot;</td><td>&quot;&quot;</td><td>&quot;&quot;</td><td>&quot;&quot;</td><td>&quot;&quot;</td><td>&quot;&quot;</td><td>&quot;&quot;</td><td>&quot;&quot;</td><td>&quot;&quot;</td><td>&quot;&quot;</td><td>&quot;&quot;</td></tr><tr><td>&quot;ENO&quot;</td><td>42</td><td>15</td><td>&quot;&quot;</td><td>&quot;&quot;</td><td>&quot;&quot;</td><td>&quot;&quot;</td><td>&quot;&quot;</td><td>&quot;&quot;</td><td>&quot;&quot;</td><td>&quot;&quot;</td><td>&quot;&quot;</td><td>&quot;&quot;</td><td>&quot;&quot;</td><td>&quot;&quot;</td><td>&quot;&quot;</td><td>&quot;&quot;</td><td>&quot;&quot;</td><td>&quot;&quot;</td><td>&quot;&quot;</td><td>&quot;&quot;</td><td>&quot;&quot;</td><td>&quot;&quot;</td><td>&quot;&quot;</td><td>&quot;&quot;</td><td>&quot;&quot;</td><td>&quot;&quot;</td><td>&quot;&quot;</td><td>&quot;&quot;</td><td>&quot;&quot;</td><td>&quot;&quot;</td><td>&quot;&quot;</td><td>&quot;&quot;</td><td>&quot;&quot;</td><td>&quot;&quot;</td><td>&quot;&quot;</td><td>&quot;&quot;</td><td>&hellip;</td><td>&quot;&quot;</td><td>&quot;&quot;</td><td>&quot;&quot;</td><td>&quot;&quot;</td><td>&quot;&quot;</td><td>&quot;&quot;</td><td>&quot;&quot;</td><td>&quot;&quot;</td><td>&quot;&quot;</td><td>&quot;&quot;</td><td>&quot;&quot;</td><td>&quot;&quot;</td><td>&quot;&quot;</td><td>&quot;&quot;</td><td>&quot;&quot;</td><td>&quot;&quot;</td><td>&quot;&quot;</td><td>&quot;&quot;</td><td>&quot;&quot;</td><td>&quot;&quot;</td><td>&quot;&quot;</td><td>&quot;&quot;</td><td>&quot;&quot;</td><td>&quot;&quot;</td><td>&quot;&quot;</td><td>&quot;&quot;</td><td>&quot;&quot;</td><td>&quot;&quot;</td><td>&quot;&quot;</td><td>&quot;&quot;</td><td>&quot;&quot;</td><td>&quot;&quot;</td><td>&quot;&quot;</td><td>&quot;&quot;</td><td>&quot;&quot;</td><td>&quot;&quot;</td><td>&quot;&quot;</td></tr><tr><td>&quot;ENO&quot;</td><td>42</td><td>16</td><td>&quot;&quot;</td><td>&quot;&quot;</td><td>&quot;&quot;</td><td>&quot;&quot;</td><td>&quot;&quot;</td><td>&quot;&quot;</td><td>&quot;&quot;</td><td>&quot;&quot;</td><td>&quot;&quot;</td><td>&quot;&quot;</td><td>&quot;&quot;</td><td>&quot;&quot;</td><td>&quot;&quot;</td><td>&quot;&quot;</td><td>&quot;&quot;</td><td>&quot;&quot;</td><td>&quot;&quot;</td><td>&quot;&quot;</td><td>&quot;&quot;</td><td>&quot;&quot;</td><td>&quot;&quot;</td><td>&quot;&quot;</td><td>&quot;&quot;</td><td>&quot;&quot;</td><td>&quot;&quot;</td><td>&quot;&quot;</td><td>&quot;&quot;</td><td>&quot;&quot;</td><td>&quot;&quot;</td><td>&quot;&quot;</td><td>&quot;&quot;</td><td>&quot;&quot;</td><td>&quot;&quot;</td><td>&quot;&quot;</td><td>&hellip;</td><td>&quot;&quot;</td><td>&quot;&quot;</td><td>&quot;&quot;</td><td>&quot;&quot;</td><td>&quot;&quot;</td><td>&quot;&quot;</td><td>&quot;&quot;</td><td>&quot;&quot;</td><td>&quot;&quot;</td><td>&quot;&quot;</td><td>&quot;&quot;</td><td>&quot;&quot;</td><td>&quot;&quot;</td><td>&quot;&quot;</td><td>&quot;&quot;</td><td>&quot;&quot;</td><td>&quot;&quot;</td><td>&quot;&quot;</td><td>&quot;&quot;</td><td>&quot;&quot;</td><td>&quot;&quot;</td><td>&quot;&quot;</td><td>&quot;&quot;</td><td>&quot;&quot;</td><td>&quot;&quot;</td><td>&quot;&quot;</td><td>&quot;&quot;</td><td>&quot;&quot;</td><td>&quot;&quot;</td><td>&quot;&quot;</td><td>&quot;&quot;</td><td>&quot;&quot;</td><td>&quot;&quot;</td><td>&quot;&quot;</td><td>&quot;&quot;</td><td>&quot;&quot;</td><td>&quot;&quot;</td></tr></tbody></table></div>"
      ],
      "text/plain": [
       "shape: (41_899, 1_105)\n",
       "┌──────┬─────────┬───────┬─────┬───┬───────┬───────┬─────────┬───────┐\n",
       "│ book ┆ chapter ┆ verse ┆ aai ┆ … ┆ zsrNT ┆ ztqNT ┆ ztyNTps ┆ zypNT │\n",
       "│ ---  ┆ ---     ┆ ---   ┆ --- ┆   ┆ ---   ┆ ---   ┆ ---     ┆ ---   │\n",
       "│ str  ┆ i64     ┆ i64   ┆ str ┆   ┆ str   ┆ str   ┆ str     ┆ str   │\n",
       "╞══════╪═════════╪═══════╪═════╪═══╪═══════╪═══════╪═════════╪═══════╡\n",
       "│ GEN  ┆ 1       ┆ 1     ┆     ┆ … ┆       ┆       ┆         ┆       │\n",
       "│ GEN  ┆ 1       ┆ 2     ┆     ┆ … ┆       ┆       ┆         ┆       │\n",
       "│ GEN  ┆ 1       ┆ 3     ┆     ┆ … ┆       ┆       ┆         ┆       │\n",
       "│ GEN  ┆ 1       ┆ 4     ┆     ┆ … ┆       ┆       ┆         ┆       │\n",
       "│ GEN  ┆ 1       ┆ 5     ┆     ┆ … ┆       ┆       ┆         ┆       │\n",
       "│ …    ┆ …       ┆ …     ┆ …   ┆ … ┆ …     ┆ …     ┆ …       ┆ …     │\n",
       "│ ENO  ┆ 42      ┆ 12    ┆     ┆ … ┆       ┆       ┆         ┆       │\n",
       "│ ENO  ┆ 42      ┆ 13    ┆     ┆ … ┆       ┆       ┆         ┆       │\n",
       "│ ENO  ┆ 42      ┆ 14    ┆     ┆ … ┆       ┆       ┆         ┆       │\n",
       "│ ENO  ┆ 42      ┆ 15    ┆     ┆ … ┆       ┆       ┆         ┆       │\n",
       "│ ENO  ┆ 42      ┆ 16    ┆     ┆ … ┆       ┆       ┆         ┆       │\n",
       "└──────┴─────────┴───────┴─────┴───┴───────┴───────┴─────────┴───────┘"
      ]
     },
     "execution_count": 4,
     "metadata": {},
     "output_type": "execute_result"
    }
   ],
   "source": [
    "df = ds[\"train\"].to_polars()\n",
    "df"
   ]
  },
  {
   "cell_type": "code",
   "execution_count": 5,
   "id": "6692d8f8",
   "metadata": {},
   "outputs": [
    {
     "data": {
      "text/html": [
       "<div><style>\n",
       ".dataframe > thead > tr,\n",
       ".dataframe > tbody > tr {\n",
       "  text-align: right;\n",
       "  white-space: pre-wrap;\n",
       "}\n",
       "</style>\n",
       "<small>shape: (1_146, 6)</small><table border=\"1\" class=\"dataframe\"><thead><tr><th>part</th><th>book</th><th>chapter</th><th>verse</th><th>tok</th><th>key</th></tr><tr><td>str</td><td>str</td><td>i64</td><td>i64</td><td>str</td><td>str</td></tr></thead><tbody><tr><td>&quot;old testament&quot;</td><td>&quot;genesis&quot;</td><td>1</td><td>1</td><td>&quot;open la, sewi Elowin li lon e …</td><td>&quot;genesis_1_1&quot;</td></tr><tr><td>&quot;old testament&quot;</td><td>&quot;genesis&quot;</td><td>1</td><td>2</td><td>&quot;ma li nasa li ala. pimeja li l…</td><td>&quot;genesis_1_2&quot;</td></tr><tr><td>&quot;old testament&quot;</td><td>&quot;genesis&quot;</td><td>1</td><td>3</td><td>&quot;sewi Elowin li toki. suno o lo…</td><td>&quot;genesis_1_3&quot;</td></tr><tr><td>&quot;old testament&quot;</td><td>&quot;genesis&quot;</td><td>1</td><td>4</td><td>&quot;sewi Elowin li lukin e suno: o…</td><td>&quot;genesis_1_4&quot;</td></tr><tr><td>&quot;old testament&quot;</td><td>&quot;genesis&quot;</td><td>1</td><td>5</td><td>&quot;sewi Elowin li nimi Tenpo Suno…</td><td>&quot;genesis_1_5&quot;</td></tr><tr><td>&hellip;</td><td>&hellip;</td><td>&hellip;</td><td>&hellip;</td><td>&hellip;</td><td>&hellip;</td></tr><tr><td>&quot;new testament&quot;</td><td>&quot;revelation&quot;</td><td>2</td><td>24</td><td>&quot;ona li awen pi ma Tasila. ona …</td><td>&quot;revelation_2_24&quot;</td></tr><tr><td>&quot;new testament&quot;</td><td>&quot;revelation&quot;</td><td>21</td><td>4</td><td>&quot;sewi Jawe li weka e telo ale t…</td><td>&quot;revelation_21_4&quot;</td></tr><tr><td>&quot;apocrypha&quot;</td><td>&quot;tobit&quot;</td><td>1</td><td>1</td><td>&quot;lipu ni li jo e toki pi jan To…</td><td>&quot;tobit_1_1&quot;</td></tr><tr><td>&quot;apocrypha&quot;</td><td>&quot;tobit&quot;</td><td>1</td><td>2</td><td>&quot;jan Enemesalo li jan lawa pi m…</td><td>&quot;tobit_1_2&quot;</td></tr><tr><td>&quot;apocrypha&quot;</td><td>&quot;tobit&quot;</td><td>1</td><td>3</td><td>&quot;jan Topi. tenpo suno mi ale la…</td><td>&quot;tobit_1_3&quot;</td></tr></tbody></table></div>"
      ],
      "text/plain": [
       "shape: (1_146, 6)\n",
       "┌───────────────┬────────────┬─────────┬───────┬─────────────────────────────────┬─────────────────┐\n",
       "│ part          ┆ book       ┆ chapter ┆ verse ┆ tok                             ┆ key             │\n",
       "│ ---           ┆ ---        ┆ ---     ┆ ---   ┆ ---                             ┆ ---             │\n",
       "│ str           ┆ str        ┆ i64     ┆ i64   ┆ str                             ┆ str             │\n",
       "╞═══════════════╪════════════╪═════════╪═══════╪═════════════════════════════════╪═════════════════╡\n",
       "│ old testament ┆ genesis    ┆ 1       ┆ 1     ┆ open la, sewi Elowin li lon e … ┆ genesis_1_1     │\n",
       "│ old testament ┆ genesis    ┆ 1       ┆ 2     ┆ ma li nasa li ala. pimeja li l… ┆ genesis_1_2     │\n",
       "│ old testament ┆ genesis    ┆ 1       ┆ 3     ┆ sewi Elowin li toki. suno o lo… ┆ genesis_1_3     │\n",
       "│ old testament ┆ genesis    ┆ 1       ┆ 4     ┆ sewi Elowin li lukin e suno: o… ┆ genesis_1_4     │\n",
       "│ old testament ┆ genesis    ┆ 1       ┆ 5     ┆ sewi Elowin li nimi Tenpo Suno… ┆ genesis_1_5     │\n",
       "│ …             ┆ …          ┆ …       ┆ …     ┆ …                               ┆ …               │\n",
       "│ new testament ┆ revelation ┆ 2       ┆ 24    ┆ ona li awen pi ma Tasila. ona … ┆ revelation_2_24 │\n",
       "│ new testament ┆ revelation ┆ 21      ┆ 4     ┆ sewi Jawe li weka e telo ale t… ┆ revelation_21_4 │\n",
       "│ apocrypha     ┆ tobit      ┆ 1       ┆ 1     ┆ lipu ni li jo e toki pi jan To… ┆ tobit_1_1       │\n",
       "│ apocrypha     ┆ tobit      ┆ 1       ┆ 2     ┆ jan Enemesalo li jan lawa pi m… ┆ tobit_1_2       │\n",
       "│ apocrypha     ┆ tobit      ┆ 1       ┆ 3     ┆ jan Topi. tenpo suno mi ale la… ┆ tobit_1_3       │\n",
       "└───────────────┴────────────┴─────────┴───────┴─────────────────────────────────┴─────────────────┘"
      ]
     },
     "execution_count": 5,
     "metadata": {},
     "output_type": "execute_result"
    }
   ],
   "source": [
    "lipu_sewi = pl.read_parquet(\"lipu-sewi.pq\")\n",
    "lipu_sewi"
   ]
  },
  {
   "cell_type": "code",
   "execution_count": 6,
   "id": "b76d31b3",
   "metadata": {},
   "outputs": [],
   "source": [
    "books_mapping = {\n",
    "    \"gen\": \"genesis\",\n",
    "    \"exo\": \"exodus\",\n",
    "    \"lev\": \"leviticus\",\n",
    "    \"num\": \"numbers\",\n",
    "    \"deu\": \"deuteronomy\",\n",
    "    \"jos\": \"joshua\",\n",
    "    \"jdg\": \"judges\",\n",
    "    \"rut\": \"ruth\",\n",
    "    \"1sa\": \"1 samuel\",\n",
    "    \"2sa\": \"2 samuel\",\n",
    "    \"1ki\": \"1 kings\",\n",
    "    \"2ki\": \"2 kings\",\n",
    "    \"1ch\": \"1 chronicles\",\n",
    "    \"2ch\": \"2 chronicles\",\n",
    "    \"ezr\": \"ezra\",\n",
    "    \"neh\": \"nehemiah\",\n",
    "    \"est\": \"esther\",\n",
    "    \"job\": \"job\",\n",
    "    \"psa\": \"psalms\",\n",
    "    \"pss\": \"psalms\",\n",
    "    \"ps2\": \"psalm 151\",\n",
    "    \"pro\": \"proverbs\",\n",
    "    \"ecc\": \"ecclesiastes\",\n",
    "    \"sng\": \"song of songs\",\n",
    "    \"isa\": \"isaiah\",\n",
    "    \"jer\": \"jeremiah\",\n",
    "    \"lam\": \"lamentations\",\n",
    "    \"ezk\": \"ezekiel\",\n",
    "    \"dan\": \"daniel\",\n",
    "    \"hos\": \"hosea\",\n",
    "    \"jol\": \"joel\",\n",
    "    \"amo\": \"amos\",\n",
    "    \"oba\": \"obadiah\",\n",
    "    \"jon\": \"jonah\",\n",
    "    \"mic\": \"micah\",\n",
    "    \"nam\": \"nahum\",\n",
    "    \"hab\": \"habakkuk\",\n",
    "    \"zep\": \"zephaniah\",\n",
    "    \"hag\": \"haggai\",\n",
    "    \"zec\": \"zechariah\",\n",
    "    \"mal\": \"malachi\",\n",
    "    \"mat\": \"matthew\",\n",
    "    \"mrk\": \"mark\",\n",
    "    \"luk\": \"luke\",\n",
    "    \"jhn\": \"john\",\n",
    "    \"act\": \"acts\",\n",
    "    \"rom\": \"romans\",\n",
    "    \"1co\": \"1 corinthians\",\n",
    "    \"2co\": \"2 corinthians\",\n",
    "    \"gal\": \"galatians\",\n",
    "    \"eph\": \"ephesians\",\n",
    "    \"php\": \"philippians\",\n",
    "    \"col\": \"colossians\",\n",
    "    \"1th\": \"1 thessalonians\",\n",
    "    \"2th\": \"2 thessalonians\",\n",
    "    \"1ti\": \"1 timothy\",\n",
    "    \"2ti\": \"2 timothy\",\n",
    "    \"tit\": \"titus\",\n",
    "    \"phm\": \"philemon\",\n",
    "    \"heb\": \"hebrews\",\n",
    "    \"jas\": \"james\",\n",
    "    \"1pe\": \"1 peter\",\n",
    "    \"2pe\": \"2 peter\",\n",
    "    \"1jn\": \"1 john\",\n",
    "    \"2jn\": \"2 john\",\n",
    "    \"3jn\": \"3 john\",\n",
    "    \"jud\": \"jude\",\n",
    "    \"rev\": \"revelation\",\n",
    "    # deuterocanonical / apocrypha\n",
    "    \"tob\": \"tobit\",\n",
    "    \"jdt\": \"judith\",\n",
    "    \"1ma\": \"1 maccabees\",\n",
    "    \"2ma\": \"2 maccabees\",\n",
    "    \"3ma\": \"3 maccabees\",\n",
    "    \"4ma\": \"4 maccabees\",\n",
    "    \"1es\": \"1 esdras\",\n",
    "    \"2es\": \"2 esdras\",\n",
    "    \"eza\": \"ezra (greek)\",\n",
    "    \"esg\": \"esther (greek)\",\n",
    "    \"bar\": \"baruch\",\n",
    "    \"sus\": \"susanna\",\n",
    "    \"bel\": \"bel and the dragon\",\n",
    "    \"s3y\": \"song of the three youths\",\n",
    "    \"man\": \"prayer of manasseh\",\n",
    "    \"sir\": \"sirach\",\n",
    "    \"wis\": \"wisdom of solomon\",\n",
    "    \"eno\": \"1 enoch\",\n",
    "    \"jub\": \"jubilees\",\n",
    "    \"lje\": \"letter of jeremiah\",\n",
    "    \"oda\": \"odes\"\n",
    "}"
   ]
  },
  {
   "cell_type": "code",
   "execution_count": 7,
   "id": "e247c634",
   "metadata": {},
   "outputs": [],
   "source": [
    "df = df.with_columns(df[\"book\"].str.to_lowercase().replace(books_mapping).alias(\"book_key\"))\n",
    "\n",
    "df = df.with_columns(\n",
    "    (df[\"book_key\"] + \"_\" + df[\"chapter\"] + \"_\" + df[\"verse\"]).alias(\"key\")\n",
    ")"
   ]
  },
  {
   "cell_type": "code",
   "execution_count": 8,
   "id": "70b762f0",
   "metadata": {},
   "outputs": [
    {
     "name": "stderr",
     "output_type": "stream",
     "text": [
      "/var/folders/y0/y3z4m8ds5q73g1w6s2qpw1d40000gn/T/ipykernel_99929/4206768519.py:4: PolarsInefficientMapWarning: \n",
      "Series.map_elements is significantly slower than the native series API.\n",
      "Only use if you absolutely CANNOT implement your logic otherwise.\n",
      "Replace this expression...\n",
      "  - srs.map_elements(lambda t: ...)\n",
      "with this one instead:\n",
      "  + s | None\n",
      "\n",
      "  joined = joined.with_columns(joined[col].map_elements(lambda t: t or None, skip_nulls=False))\n"
     ]
    },
    {
     "data": {
      "text/html": [
       "<div><style>\n",
       ".dataframe > thead > tr,\n",
       ".dataframe > tbody > tr {\n",
       "  text-align: right;\n",
       "  white-space: pre-wrap;\n",
       "}\n",
       "</style>\n",
       "<small>shape: (1_232, 1_112)</small><table border=\"1\" class=\"dataframe\"><thead><tr><th>part</th><th>book</th><th>chapter</th><th>verse</th><th>tok</th><th>key</th><th>book_right</th><th>chapter_right</th><th>verse_right</th><th>aai</th><th>aak</th><th>aau</th><th>aaz</th><th>abc</th><th>abt-maprik</th><th>abt-wosera</th><th>abx</th><th>aby</th><th>acfNT</th><th>acr-acc</th><th>acrNNT</th><th>acrTNT</th><th>acuNT</th><th>adz</th><th>aer</th><th>aey</th><th>agd</th><th>agg</th><th>agm</th><th>agn</th><th>agr</th><th>agt</th><th>aguBl</th><th>ahr</th><th>aia</th><th>aii</th><th>akeNT</th><th>&hellip;</th><th>yuj</th><th>yut</th><th>yuw</th><th>yvaNT</th><th>zaaNT</th><th>zabNT</th><th>zacNT</th><th>zadNT</th><th>zaiNT</th><th>zaj</th><th>zamNT</th><th>zaoNT</th><th>zapNT</th><th>zarNT</th><th>zasNT</th><th>zatNTps</th><th>zavNT</th><th>zawNT</th><th>zcaNT</th><th>zgam</th><th>zia</th><th>ziw</th><th>zlmKSZI</th><th>zosNT</th><th>zpcNT</th><th>zplNT</th><th>zpmNT</th><th>zpoNT</th><th>zpqNT</th><th>zpuNT</th><th>zpvNT</th><th>zpzNTpp</th><th>zsrNT</th><th>ztqNT</th><th>ztyNTps</th><th>zypNT</th><th>book_key</th></tr><tr><td>str</td><td>str</td><td>i64</td><td>i64</td><td>str</td><td>str</td><td>str</td><td>i64</td><td>i64</td><td>str</td><td>str</td><td>str</td><td>str</td><td>str</td><td>str</td><td>str</td><td>str</td><td>str</td><td>str</td><td>str</td><td>str</td><td>str</td><td>str</td><td>str</td><td>str</td><td>str</td><td>str</td><td>str</td><td>str</td><td>str</td><td>str</td><td>str</td><td>str</td><td>str</td><td>str</td><td>str</td><td>str</td><td>&hellip;</td><td>str</td><td>str</td><td>str</td><td>str</td><td>str</td><td>str</td><td>str</td><td>str</td><td>str</td><td>str</td><td>str</td><td>str</td><td>null</td><td>str</td><td>str</td><td>str</td><td>str</td><td>str</td><td>str</td><td>str</td><td>str</td><td>str</td><td>str</td><td>str</td><td>str</td><td>str</td><td>str</td><td>str</td><td>str</td><td>str</td><td>str</td><td>str</td><td>str</td><td>str</td><td>str</td><td>str</td><td>str</td></tr></thead><tbody><tr><td>&quot;old testament&quot;</td><td>&quot;genesis&quot;</td><td>1</td><td>1</td><td>&quot;open la, sewi Elowin li lon e …</td><td>&quot;genesis_1_1&quot;</td><td>&quot;GEN&quot;</td><td>1</td><td>1</td><td>null</td><td>null</td><td>null</td><td>&quot;Nahunu te, Uisneno nmoeꞌ neno …</td><td>null</td><td>null</td><td>null</td><td>null</td><td>null</td><td>null</td><td>null</td><td>null</td><td>null</td><td>&quot;Nunangkamtaik mash atsuinai, Y…</td><td>&quot;Miamun bingan ugu, gubuꞌ Anutu…</td><td>&quot;Lyetenyenge akwele, arne anety…</td><td>&quot;Wele gug qocna Anut uqa sao ma…</td><td>null</td><td>null</td><td>null</td><td>null</td><td>&quot;Yama nagkamchakug, Apajuík nay…</td><td>null</td><td>&quot;Yi tcya&#x27;j tu yi wuxtx&#x27;otx&#x27;, Ry…</td><td>null</td><td>null</td><td>null</td><td>null</td><td>&hellip;</td><td>null</td><td>null</td><td>null</td><td>null</td><td>null</td><td>null</td><td>null</td><td>null</td><td>null</td><td>null</td><td>null</td><td>null</td><td>null</td><td>null</td><td>null</td><td>null</td><td>null</td><td>null</td><td>null</td><td>null</td><td>null</td><td>null</td><td>null</td><td>null</td><td>null</td><td>null</td><td>null</td><td>null</td><td>null</td><td>null</td><td>null</td><td>null</td><td>null</td><td>null</td><td>null</td><td>null</td><td>&quot;genesis&quot;</td></tr><tr><td>&quot;old testament&quot;</td><td>&quot;genesis&quot;</td><td>1</td><td>2</td><td>&quot;ma li nasa li ala. pimeja li l…</td><td>&quot;genesis_1_2&quot;</td><td>&quot;GEN&quot;</td><td>1</td><td>2</td><td>null</td><td>null</td><td>null</td><td>&quot;Oras naan, pah-pinan ka mamoꞌe…</td><td>null</td><td>null</td><td>null</td><td>null</td><td>null</td><td>null</td><td>null</td><td>null</td><td>null</td><td>&quot;Antsu nungkaka juun entsajai p…</td><td>&quot;da intap imingꞌ utaꞌ angu. Da …</td><td>&quot;Urreke Ngkartele arne iwenhe-i…</td><td>&quot;Odocob maha eu ihulahal tanac …</td><td>null</td><td>null</td><td>null</td><td>null</td><td>&quot;Nugka niimeg atsau, ayatak nay…</td><td>null</td><td>&quot;Poro yi wuxtx&#x27;otx&#x27; qui&#x27;c xtxol…</td><td>null</td><td>null</td><td>null</td><td>null</td><td>&hellip;</td><td>null</td><td>null</td><td>null</td><td>null</td><td>null</td><td>null</td><td>null</td><td>null</td><td>null</td><td>null</td><td>null</td><td>null</td><td>null</td><td>null</td><td>null</td><td>null</td><td>null</td><td>null</td><td>null</td><td>null</td><td>null</td><td>null</td><td>null</td><td>null</td><td>null</td><td>null</td><td>null</td><td>null</td><td>null</td><td>null</td><td>null</td><td>null</td><td>null</td><td>null</td><td>null</td><td>null</td><td>&quot;genesis&quot;</td></tr><tr><td>&quot;old testament&quot;</td><td>&quot;genesis&quot;</td><td>1</td><td>3</td><td>&quot;sewi Elowin li toki. suno o lo…</td><td>&quot;genesis_1_3&quot;</td><td>&quot;GEN&quot;</td><td>1</td><td>3</td><td>null</td><td>null</td><td>null</td><td>&quot;Rarit Uisneno naꞌuab am nak, “…</td><td>null</td><td>null</td><td>null</td><td>null</td><td>null</td><td>null</td><td>null</td><td>null</td><td>null</td><td>&quot;Nuniangka Yus chichaak: —Paant…</td><td>&quot;Da Anutu ini, “Nam dzidziwanda…</td><td>&quot;Ngkarte anteme angkeke, “Alkng…</td><td>&quot;Odocob Anut madeceb, “Camajac …</td><td>null</td><td>null</td><td>null</td><td>null</td><td>&quot;Nuadui Apajuí chichaak: “¡Tsaa…</td><td>null</td><td>&quot;Itzun bantz, nin tal Ryos: “Na…</td><td>null</td><td>null</td><td>null</td><td>null</td><td>&hellip;</td><td>null</td><td>null</td><td>null</td><td>null</td><td>null</td><td>null</td><td>null</td><td>null</td><td>null</td><td>null</td><td>null</td><td>null</td><td>null</td><td>null</td><td>null</td><td>null</td><td>null</td><td>null</td><td>null</td><td>null</td><td>null</td><td>null</td><td>null</td><td>null</td><td>null</td><td>null</td><td>null</td><td>null</td><td>null</td><td>null</td><td>null</td><td>null</td><td>null</td><td>null</td><td>null</td><td>null</td><td>&quot;genesis&quot;</td></tr><tr><td>&quot;old testament&quot;</td><td>&quot;genesis&quot;</td><td>1</td><td>4</td><td>&quot;sewi Elowin li lukin e suno: o…</td><td>&quot;genesis_1_4&quot;</td><td>&quot;GEN&quot;</td><td>1</td><td>4</td><td>null</td><td>null</td><td>null</td><td>&quot;Ankius meuꞌ gui te, In nmariin…</td><td>null</td><td>null</td><td>null</td><td>null</td><td>null</td><td>null</td><td>null</td><td>null</td><td>null</td><td>&quot;Tura asamtai Yus paaniun waina…</td><td>&quot;Da itsangan nam dzidziwandan i…</td><td>&quot;Re areke alkngenthe pwarrtyent…</td><td>&quot;Anut camajac me bahic eu fimei…</td><td>null</td><td>null</td><td>null</td><td>null</td><td>&quot;Nuna Apajuí diis “tsaaptin aku…</td><td>null</td><td>&quot;Nintzun til Ryos yi chumbalaj …</td><td>null</td><td>null</td><td>null</td><td>null</td><td>&hellip;</td><td>null</td><td>null</td><td>null</td><td>null</td><td>null</td><td>null</td><td>null</td><td>null</td><td>null</td><td>null</td><td>null</td><td>null</td><td>null</td><td>null</td><td>null</td><td>null</td><td>null</td><td>null</td><td>null</td><td>null</td><td>null</td><td>null</td><td>null</td><td>null</td><td>null</td><td>null</td><td>null</td><td>null</td><td>null</td><td>null</td><td>null</td><td>null</td><td>null</td><td>null</td><td>null</td><td>null</td><td>&quot;genesis&quot;</td></tr><tr><td>&quot;old testament&quot;</td><td>&quot;genesis&quot;</td><td>1</td><td>5</td><td>&quot;sewi Elowin li nimi Tenpo Suno…</td><td>&quot;genesis_1_5&quot;</td><td>&quot;GEN&quot;</td><td>1</td><td>5</td><td>null</td><td>null</td><td>null</td><td>&quot;In nakanab meuꞌ gui nak, ‘mana…</td><td>null</td><td>null</td><td>null</td><td>null</td><td>null</td><td>null</td><td>null</td><td>null</td><td>null</td><td>&quot;Tura paaniunka tsawai inaikiam…</td><td>&quot;Anutu ifaringꞌ nam dzidziwanda…</td><td>&quot;&lt;range&gt;&quot;</td><td>&quot;Camajac eu Anut uqa ijan “Cahi…</td><td>null</td><td>null</td><td>null</td><td>null</td><td>&quot;Duwi tsaaptinun adaikauwai “ts…</td><td>null</td><td>&quot;Nin oc tk&#x27;ol Ryos bi&#x27; tkan ski…</td><td>null</td><td>null</td><td>null</td><td>null</td><td>&hellip;</td><td>null</td><td>null</td><td>null</td><td>null</td><td>null</td><td>null</td><td>null</td><td>null</td><td>null</td><td>null</td><td>null</td><td>null</td><td>null</td><td>null</td><td>null</td><td>null</td><td>null</td><td>null</td><td>null</td><td>null</td><td>null</td><td>null</td><td>null</td><td>null</td><td>null</td><td>null</td><td>null</td><td>null</td><td>null</td><td>null</td><td>null</td><td>null</td><td>null</td><td>null</td><td>null</td><td>null</td><td>&quot;genesis&quot;</td></tr><tr><td>&hellip;</td><td>&hellip;</td><td>&hellip;</td><td>&hellip;</td><td>&hellip;</td><td>&hellip;</td><td>&hellip;</td><td>&hellip;</td><td>&hellip;</td><td>&hellip;</td><td>&hellip;</td><td>&hellip;</td><td>&hellip;</td><td>&hellip;</td><td>&hellip;</td><td>&hellip;</td><td>&hellip;</td><td>&hellip;</td><td>&hellip;</td><td>&hellip;</td><td>&hellip;</td><td>&hellip;</td><td>&hellip;</td><td>&hellip;</td><td>&hellip;</td><td>&hellip;</td><td>&hellip;</td><td>&hellip;</td><td>&hellip;</td><td>&hellip;</td><td>&hellip;</td><td>&hellip;</td><td>&hellip;</td><td>&hellip;</td><td>&hellip;</td><td>&hellip;</td><td>&hellip;</td><td>&hellip;</td><td>&hellip;</td><td>&hellip;</td><td>&hellip;</td><td>&hellip;</td><td>&hellip;</td><td>&hellip;</td><td>&hellip;</td><td>&hellip;</td><td>&hellip;</td><td>&hellip;</td><td>&hellip;</td><td>&hellip;</td><td>&hellip;</td><td>&hellip;</td><td>&hellip;</td><td>&hellip;</td><td>&hellip;</td><td>&hellip;</td><td>&hellip;</td><td>&hellip;</td><td>&hellip;</td><td>&hellip;</td><td>&hellip;</td><td>&hellip;</td><td>&hellip;</td><td>&hellip;</td><td>&hellip;</td><td>&hellip;</td><td>&hellip;</td><td>&hellip;</td><td>&hellip;</td><td>&hellip;</td><td>&hellip;</td><td>&hellip;</td><td>&hellip;</td><td>&hellip;</td><td>&hellip;</td></tr><tr><td>&quot;new testament&quot;</td><td>&quot;revelation&quot;</td><td>2</td><td>24</td><td>&quot;ona li awen pi ma Tasila. ona …</td><td>&quot;revelation_2_24&quot;</td><td>&quot;REV&quot;</td><td>2</td><td>24</td><td>&quot;Baise kwa turin nati Taiyatira…</td><td>&quot;E nɨsearɨrɨ aí apɨxɨ́ í wíwapɨ…</td><td>&quot;Sawk Taiataira mo sios-uwrsa h…</td><td>&quot;Mes hi bian reꞌ abitan Tiatira…</td><td>null</td><td>&quot;Guné Taiatairaba rakwa nak du …</td><td>&quot;“‘Guné Taiatairamba tékwa nak …</td><td>&quot;Para namay si ditangnga&#x27; nan a…</td><td>&quot;Nono ya moi Daiadaira goiro ib…</td><td>&quot;Pou zòt menm ki wèsté an légli…</td><td>&quot;Xui-ri, ʼo jujun chiwe yix chi…</td><td>&quot;Noꞌj kambꞌiꞌij kꞌu chiwe riꞌix…</td><td>&quot;Noꞌj cambiꞌij cꞌu chiwe riꞌix …</td><td>&quot;Antsu Tiatira yaktanmaya ainau…</td><td>null</td><td>&quot;‘Awerrirraye! Tyerrtye arrpenh…</td><td>&quot;“Euqa Taiataira ono bilegina e…</td><td>&quot;Máan tonté umpo Taiatirá barur…</td><td>&quot;Taiataira ŋgoafɨhündɨ seana mo…</td><td>&quot;Iyataatɨ amɨ isɨhiyaatɨ usaatɨ…</td><td>&quot;“Piro ang doma ong nindio atan…</td><td>&quot;Tuja atum Tiatira batsatutijum…</td><td>&quot;“Ammi ta kadwan kidina tekamuy…</td><td>&quot;Poro at wi&#x27;nin axwok yi qui na…</td><td>null</td><td>&quot;Tara&#x27;i nei &#x27;ini&#x27;amou na&#x27;i Taea…</td><td>&quot;”ܐܝܼܢܵܐ ܒܹܐܡܵܪܵܐ ܝܘܸܢ ܐܸܠܵܘܟ݂ܘ…</td><td>&quot;Ta uya ɨmɨrɨ&#x27;nokon tonpa ton T…</td><td>&hellip;</td><td>&quot;Aeno ono oukoumwan yumo ankwap…</td><td>&quot;Mani paŋmuwukbi dɨwarɨ Taitair…</td><td>&quot;Oro son Taiataira suraro au, s…</td><td>&quot;Weramu more irati vatano kaijo…</td><td>&quot;Ca enne&#x27; canu runi cą seguir c…</td><td>&quot;Par irateru de xpɨnnia ni rbez…</td><td>&quot;Perë los de más lëꞌë të naquër…</td><td>&quot;Na&#x27; ka le&#x27; lle&#x27;le Tiatírana&#x27; n…</td><td>&quot;Peru ca xcaadxi de laatu ni ca…</td><td>&quot;“Sambi nolonga na wanhu wasiga…</td><td>&quot;Per loo tedib ned gu&#x27; co&#x27; nque…</td><td>&quot;Neeka tedib kuu taaltʼn lo re …</td><td>null</td><td>&quot;Iaʼzícaʼliʼ zóaliʼ yödzö Tiati…</td><td>&quot;Par gra ree da bejnan bén zojb…</td><td>&quot;Xezícadxale le&#x27;e zrale xe̱zre …</td><td>&quot;Pero na&#x27; le&#x27;e yeḻa&#x27;ale zole Ti…</td><td>&quot;Dxejc loj guiraa reni yu&#x27; lo g…</td><td>&quot;Per más go xa&#x27; nzho yezh Tiati…</td><td>&quot;Pu leino khumweivamo ndyumwe m…</td><td>&quot;Tayataira napora emo ena niye …</td><td>&quot;“Mna nyuwe watuhu mwi yuko Tiy…</td><td>&quot;Tetapi sesetengah daripada kam…</td><td>&quot;Pero mi eyanda&#x27;mbø&#x27;is Tiatira …</td><td>&quot;Pero leꞌe, benꞌ nao xnezaꞌ, be…</td><td>&quot;Pero beelá bee benea enu nucua…</td><td>&quot;’Saṉgue to grë to zha ne ziena…</td><td>&quot;Nik stub kwaan naxaalt na le r…</td><td>&quot;Na&#x27; le&#x27;e zoale Tiatiran&#x27; le&#x27;e …</td><td>&quot;Naꞌ reꞌ zore Tiatiranꞌ bi llon…</td><td>&quot;Per laꞌh tu garaa raꞌ ru nin n…</td><td>&quot;Zeꞌ na de ru mbecy nu yuꞌ Tiat…</td><td>&quot;Yezícaꞌliꞌ zoaliꞌ yödz Tiatira…</td><td>&quot;Per deelñee nody to xlad kwnaa…</td><td>&quot;Yezíka&#x27;le ḻe&#x27;e zoale ḻo yež Ti…</td><td>&quot;Canghrasala, ma canuno cawngpa…</td><td>&quot;revelation&quot;</td></tr><tr><td>&quot;new testament&quot;</td><td>&quot;revelation&quot;</td><td>21</td><td>4</td><td>&quot;sewi Jawe li weka e telo ale t…</td><td>&quot;revelation_21_4&quot;</td><td>&quot;REV&quot;</td><td>21</td><td>4</td><td>&quot;maturih nasafamen. Nati’imaim …</td><td>&quot;amɨpí dɨŋɨ́ sɨpí wiarɨŋɨ́pɨ xó…</td><td>&quot;Hiykwe eheyr-hu lowpwarowp hmo…</td><td>&quot;In of annoes nain sin maat nuu…</td><td>null</td><td>&quot;Dé de wale rate deku ménegu ya…</td><td>&quot;Dé dele yaréte deku méniyangu …</td><td>&quot;Iya i mamahit si mga luha&#x27;-na.…</td><td>&quot;&lt;range&gt;&quot;</td><td>&quot;I kay swiyé tout dlo ki an zyé…</td><td>&quot;Ire cu su na ronojel uwal qui …</td><td>&quot;Ekꞌu ri Dios kusuꞌ ruwaꞌal kiw…</td><td>&quot;Ecꞌu ri Dios cusuꞌ ruwaꞌal qui…</td><td>&quot;Tura asa aintsu neaikirin mash…</td><td>null</td><td>&quot;Re alkngultye alknge itnekenhe…</td><td>&quot;Uqa amaganadec amulunuga cunug…</td><td>&quot;Máan tuven maen betin auufente…</td><td>&quot;Ai nindou ranahei hɨmboarambea…</td><td>&quot;Iyatɨ ko kiyaamɨ kwɨtipatɨ nah…</td><td>&quot;Ig piden tang Dios tang mga lo…</td><td>&quot;Nuniau asa ashí ditá negaikina…</td><td>&quot;A intu hapa la sangaw ya mangp…</td><td>&quot;Qui&#x27;ct bis o&#x27;kl lbajij. Nin cy…</td><td>null</td><td>&quot;&#x27;Ia God &#x27;ai idu&#x27;i&#x27;i wai baani&#x27;…</td><td>&quot;”ܒܸܬ ܡܵܫܹܐ ܟܠܔ ܕܸܡܥܝܼܬܵ‌ܐ ܡ̣ܢ …</td><td>&quot;Tanporo to&#x27; enu paru a&#x27;munakat…</td><td>&hellip;</td><td>&quot;Mao fwap am fárákapamp yi meka…</td><td>&quot;Uŋun kabɨkon kunam pakbi morap…</td><td>&quot;Tongo yu owi amnanihon daro ya…</td><td>&quot;Muno Amisye apa kawasae mami n…</td><td>&quot;Lèe nna gúỹié iyaba inda huìna…</td><td>&quot;Laany iraany ruu bslodeb de ni…</td><td>&quot;Dios guëcuëꞌdchiꞌ grë́tëꞌ nisë…</td><td>&quot;Na&#x27; gone&#x27; ka bich gat&#x27; daa gon…</td><td>&quot;Zuchaa be nisa riete lú ca&#x27;, n…</td><td>&quot;Na heyo kowahangusa mahozi gao…</td><td>&quot;No li Diox ya ne&#x27;gónte mèna th…</td><td>&quot;Lee Diox tsow gonnt raa re zha…</td><td>null</td><td>&quot;Dios uzxíëʼ nisa ribödxi zoa g…</td><td>&quot;Laaman gutiaa loj reeman nijs …</td><td>&quot;Dios tu súale̱zqueze̱&#x27; benne&#x27; …</td><td>&quot;Na&#x27; Diozən&#x27; gone&#x27; par nic̱h cu…</td><td>&quot;Sutia Dios guiraa nisbee baloj…</td><td>&quot;Lë&#x27; Dios le&#x27;, nago&#x27;ntra&#x27; bixa&#x27;…</td><td>&quot;Pwu alavaphulusya ienyiekhonch…</td><td>&quot;ziziung nunae dupero aung yari…</td><td>&quot;Uyo nahanguse mesozi yawo yose…</td><td>&quot;Allah akan menghapuskan setiap…</td><td>&quot;Y maṉba myocpø&#x27;jay mumu vyitø…</td><td>&quot;Bihue Diuzi lato gaca tamala q…</td><td>&quot;Nu liꞌinu ñieꞌenu ye inza nú u…</td><td>&quot;Led yedraa niina pa glunë zho,…</td><td>&quot;Nu lee Dios chee re nis garlo …</td><td>&quot;Na&#x27; Diosen&#x27; gone&#x27; cont bich ga…</td><td>&quot;Dios naꞌ goneꞌ bibi gak ke ake…</td><td>&quot;laasii ziñihchiloh guelguhchi,…</td><td>&quot;Orzeꞌ mi zeꞌ cyib mi nis urlo …</td><td>&quot;Dios uzxíëꞌ nis rbödx zoa yöj …</td><td>&quot;Lëë Dios kchëë nis lo meñ nii …</td><td>&quot;Dios wẕíe&#x27; nis ẕbéžgake&#x27; da&#x27; ž…</td><td>&quot;Ama taco, aa meh letei mehthli…</td><td>&quot;revelation&quot;</td></tr><tr><td>&quot;apocrypha&quot;</td><td>&quot;tobit&quot;</td><td>1</td><td>1</td><td>&quot;lipu ni li jo e toki pi jan To…</td><td>&quot;tobit_1_1&quot;</td><td>&quot;TOB&quot;</td><td>1</td><td>1</td><td>null</td><td>null</td><td>null</td><td>null</td><td>null</td><td>null</td><td>null</td><td>null</td><td>null</td><td>null</td><td>null</td><td>null</td><td>null</td><td>null</td><td>null</td><td>null</td><td>null</td><td>null</td><td>null</td><td>null</td><td>null</td><td>null</td><td>null</td><td>null</td><td>null</td><td>null</td><td>null</td><td>null</td><td>&hellip;</td><td>null</td><td>null</td><td>null</td><td>null</td><td>null</td><td>null</td><td>null</td><td>null</td><td>null</td><td>null</td><td>null</td><td>null</td><td>null</td><td>null</td><td>null</td><td>null</td><td>null</td><td>null</td><td>null</td><td>null</td><td>null</td><td>null</td><td>null</td><td>null</td><td>null</td><td>null</td><td>null</td><td>null</td><td>null</td><td>null</td><td>null</td><td>null</td><td>null</td><td>null</td><td>null</td><td>null</td><td>&quot;tobit&quot;</td></tr><tr><td>&quot;apocrypha&quot;</td><td>&quot;tobit&quot;</td><td>1</td><td>2</td><td>&quot;jan Enemesalo li jan lawa pi m…</td><td>&quot;tobit_1_2&quot;</td><td>&quot;TOB&quot;</td><td>1</td><td>2</td><td>null</td><td>null</td><td>null</td><td>null</td><td>null</td><td>null</td><td>null</td><td>null</td><td>null</td><td>null</td><td>null</td><td>null</td><td>null</td><td>null</td><td>null</td><td>null</td><td>null</td><td>null</td><td>null</td><td>null</td><td>null</td><td>null</td><td>null</td><td>null</td><td>null</td><td>null</td><td>null</td><td>null</td><td>&hellip;</td><td>null</td><td>null</td><td>null</td><td>null</td><td>null</td><td>null</td><td>null</td><td>null</td><td>null</td><td>null</td><td>null</td><td>null</td><td>null</td><td>null</td><td>null</td><td>null</td><td>null</td><td>null</td><td>null</td><td>null</td><td>null</td><td>null</td><td>null</td><td>null</td><td>null</td><td>null</td><td>null</td><td>null</td><td>null</td><td>null</td><td>null</td><td>null</td><td>null</td><td>null</td><td>null</td><td>null</td><td>&quot;tobit&quot;</td></tr><tr><td>&quot;apocrypha&quot;</td><td>&quot;tobit&quot;</td><td>1</td><td>3</td><td>&quot;jan Topi. tenpo suno mi ale la…</td><td>&quot;tobit_1_3&quot;</td><td>&quot;TOB&quot;</td><td>1</td><td>3</td><td>null</td><td>null</td><td>null</td><td>null</td><td>null</td><td>null</td><td>null</td><td>null</td><td>null</td><td>null</td><td>null</td><td>null</td><td>null</td><td>null</td><td>null</td><td>null</td><td>null</td><td>null</td><td>null</td><td>null</td><td>null</td><td>null</td><td>null</td><td>null</td><td>null</td><td>null</td><td>null</td><td>null</td><td>&hellip;</td><td>null</td><td>null</td><td>null</td><td>null</td><td>null</td><td>null</td><td>null</td><td>null</td><td>null</td><td>null</td><td>null</td><td>null</td><td>null</td><td>null</td><td>null</td><td>null</td><td>null</td><td>null</td><td>null</td><td>null</td><td>null</td><td>null</td><td>null</td><td>null</td><td>null</td><td>null</td><td>null</td><td>null</td><td>null</td><td>null</td><td>null</td><td>null</td><td>null</td><td>null</td><td>null</td><td>null</td><td>&quot;tobit&quot;</td></tr></tbody></table></div>"
      ],
      "text/plain": [
       "shape: (1_232, 1_112)\n",
       "┌────────────┬────────────┬─────────┬───────┬───┬────────────┬────────────┬────────────┬───────────┐\n",
       "│ part       ┆ book       ┆ chapter ┆ verse ┆ … ┆ ztqNT      ┆ ztyNTps    ┆ zypNT      ┆ book_key  │\n",
       "│ ---        ┆ ---        ┆ ---     ┆ ---   ┆   ┆ ---        ┆ ---        ┆ ---        ┆ ---       │\n",
       "│ str        ┆ str        ┆ i64     ┆ i64   ┆   ┆ str        ┆ str        ┆ str        ┆ str       │\n",
       "╞════════════╪════════════╪═════════╪═══════╪═══╪════════════╪════════════╪════════════╪═══════════╡\n",
       "│ old        ┆ genesis    ┆ 1       ┆ 1     ┆ … ┆ null       ┆ null       ┆ null       ┆ genesis   │\n",
       "│ testament  ┆            ┆         ┆       ┆   ┆            ┆            ┆            ┆           │\n",
       "│ old        ┆ genesis    ┆ 1       ┆ 2     ┆ … ┆ null       ┆ null       ┆ null       ┆ genesis   │\n",
       "│ testament  ┆            ┆         ┆       ┆   ┆            ┆            ┆            ┆           │\n",
       "│ old        ┆ genesis    ┆ 1       ┆ 3     ┆ … ┆ null       ┆ null       ┆ null       ┆ genesis   │\n",
       "│ testament  ┆            ┆         ┆       ┆   ┆            ┆            ┆            ┆           │\n",
       "│ old        ┆ genesis    ┆ 1       ┆ 4     ┆ … ┆ null       ┆ null       ┆ null       ┆ genesis   │\n",
       "│ testament  ┆            ┆         ┆       ┆   ┆            ┆            ┆            ┆           │\n",
       "│ old        ┆ genesis    ┆ 1       ┆ 5     ┆ … ┆ null       ┆ null       ┆ null       ┆ genesis   │\n",
       "│ testament  ┆            ┆         ┆       ┆   ┆            ┆            ┆            ┆           │\n",
       "│ …          ┆ …          ┆ …       ┆ …     ┆ … ┆ …          ┆ …          ┆ …          ┆ …         │\n",
       "│ new        ┆ revelation ┆ 2       ┆ 24    ┆ … ┆ Per        ┆ Yezíka'le  ┆ Canghrasal ┆ revelatio │\n",
       "│ testament  ┆            ┆         ┆       ┆   ┆ deelñee    ┆ ḻe'e zoale ┆ a, ma      ┆ n         │\n",
       "│            ┆            ┆         ┆       ┆   ┆ nody to    ┆ ḻo yež Ti… ┆ canuno     ┆           │\n",
       "│            ┆            ┆         ┆       ┆   ┆ xlad       ┆            ┆ cawngpa…   ┆           │\n",
       "│            ┆            ┆         ┆       ┆   ┆ kwnaa…     ┆            ┆            ┆           │\n",
       "│ new        ┆ revelation ┆ 21      ┆ 4     ┆ … ┆ Lëë Dios   ┆ Dios wẕíe' ┆ Ama taco,  ┆ revelatio │\n",
       "│ testament  ┆            ┆         ┆       ┆   ┆ kchëë nis  ┆ nis        ┆ aa meh     ┆ n         │\n",
       "│            ┆            ┆         ┆       ┆   ┆ lo meñ nii ┆ ẕbéžgake'  ┆ letei      ┆           │\n",
       "│            ┆            ┆         ┆       ┆   ┆ …          ┆ da' ž…     ┆ mehthli…   ┆           │\n",
       "│ apocrypha  ┆ tobit      ┆ 1       ┆ 1     ┆ … ┆ null       ┆ null       ┆ null       ┆ tobit     │\n",
       "│ apocrypha  ┆ tobit      ┆ 1       ┆ 2     ┆ … ┆ null       ┆ null       ┆ null       ┆ tobit     │\n",
       "│ apocrypha  ┆ tobit      ┆ 1       ┆ 3     ┆ … ┆ null       ┆ null       ┆ null       ┆ tobit     │\n",
       "└────────────┴────────────┴─────────┴───────┴───┴────────────┴────────────┴────────────┴───────────┘"
      ]
     },
     "execution_count": 8,
     "metadata": {},
     "output_type": "execute_result"
    }
   ],
   "source": [
    "joined = lipu_sewi.join(df, on=\"key\", how=\"left\")\n",
    "\n",
    "for col in joined.columns:\n",
    "    joined = joined.with_columns(joined[col].map_elements(lambda t: t or None, skip_nulls=False))\n",
    "\n",
    "joined"
   ]
  },
  {
   "cell_type": "code",
   "execution_count": 9,
   "id": "a7f9309a",
   "metadata": {},
   "outputs": [
    {
     "name": "stdout",
     "output_type": "stream",
     "text": [
      "en (1232, 10)\n"
     ]
    },
    {
     "data": {
      "text/html": [
       "<div><style>\n",
       ".dataframe > thead > tr,\n",
       ".dataframe > tbody > tr {\n",
       "  text-align: right;\n",
       "  white-space: pre-wrap;\n",
       "}\n",
       "</style>\n",
       "<small>shape: (5, 10)</small><table border=\"1\" class=\"dataframe\"><thead><tr><th>key</th><th>part</th><th>book</th><th>chapter</th><th>verse</th><th>tok</th><th>engfbv</th><th>eng-asv</th><th>eng-web</th><th>eng-web-c</th></tr><tr><td>str</td><td>str</td><td>str</td><td>i64</td><td>i64</td><td>str</td><td>str</td><td>str</td><td>str</td><td>str</td></tr></thead><tbody><tr><td>&quot;genesis_1_1&quot;</td><td>&quot;old testament&quot;</td><td>&quot;genesis&quot;</td><td>1</td><td>1</td><td>&quot;open la, sewi Elowin li lon e …</td><td>&quot;In the beginning God created t…</td><td>&quot;In the beginning God created t…</td><td>&quot;In the beginning, God created …</td><td>&quot;In the beginning, God created …</td></tr><tr><td>&quot;genesis_1_2&quot;</td><td>&quot;old testament&quot;</td><td>&quot;genesis&quot;</td><td>1</td><td>2</td><td>&quot;ma li nasa li ala. pimeja li l…</td><td>&quot;The earth was formless and emp…</td><td>&quot;And the earth was waste and vo…</td><td>&quot;The earth was formless and emp…</td><td>&quot;The earth was formless and emp…</td></tr><tr><td>&quot;genesis_1_3&quot;</td><td>&quot;old testament&quot;</td><td>&quot;genesis&quot;</td><td>1</td><td>3</td><td>&quot;sewi Elowin li toki. suno o lo…</td><td>&quot;God said, “Let there be light!…</td><td>&quot;And God said, Let there be lig…</td><td>&quot;God said, “Let there be light,…</td><td>&quot;God said, “Let there be light,…</td></tr><tr><td>&quot;genesis_1_4&quot;</td><td>&quot;old testament&quot;</td><td>&quot;genesis&quot;</td><td>1</td><td>4</td><td>&quot;sewi Elowin li lukin e suno: o…</td><td>&quot;God saw that the light was goo…</td><td>&quot;And God saw the light, that it…</td><td>&quot;God saw the light, and saw tha…</td><td>&quot;God saw the light, and saw tha…</td></tr><tr><td>&quot;genesis_1_5&quot;</td><td>&quot;old testament&quot;</td><td>&quot;genesis&quot;</td><td>1</td><td>5</td><td>&quot;sewi Elowin li nimi Tenpo Suno…</td><td>&quot;God called the light “day,” an…</td><td>&quot;And God called the light Day, …</td><td>&quot;God called the light “day”, an…</td><td>&quot;God called the light “day”, an…</td></tr></tbody></table></div>"
      ],
      "text/plain": [
       "shape: (5, 10)\n",
       "┌────────────┬────────────┬─────────┬─────────┬───┬────────────┬───────────┬───────────┬───────────┐\n",
       "│ key        ┆ part       ┆ book    ┆ chapter ┆ … ┆ engfbv     ┆ eng-asv   ┆ eng-web   ┆ eng-web-c │\n",
       "│ ---        ┆ ---        ┆ ---     ┆ ---     ┆   ┆ ---        ┆ ---       ┆ ---       ┆ ---       │\n",
       "│ str        ┆ str        ┆ str     ┆ i64     ┆   ┆ str        ┆ str       ┆ str       ┆ str       │\n",
       "╞════════════╪════════════╪═════════╪═════════╪═══╪════════════╪═══════════╪═══════════╪═══════════╡\n",
       "│ genesis_1_ ┆ old        ┆ genesis ┆ 1       ┆ … ┆ In the     ┆ In the    ┆ In the    ┆ In the    │\n",
       "│ 1          ┆ testament  ┆         ┆         ┆   ┆ beginning  ┆ beginning ┆ beginning ┆ beginning │\n",
       "│            ┆            ┆         ┆         ┆   ┆ God        ┆ God       ┆ , God     ┆ , God     │\n",
       "│            ┆            ┆         ┆         ┆   ┆ created t… ┆ created   ┆ created … ┆ created … │\n",
       "│            ┆            ┆         ┆         ┆   ┆            ┆ t…        ┆           ┆           │\n",
       "│ genesis_1_ ┆ old        ┆ genesis ┆ 1       ┆ … ┆ The earth  ┆ And the   ┆ The earth ┆ The earth │\n",
       "│ 2          ┆ testament  ┆         ┆         ┆   ┆ was        ┆ earth was ┆ was       ┆ was       │\n",
       "│            ┆            ┆         ┆         ┆   ┆ formless   ┆ waste and ┆ formless  ┆ formless  │\n",
       "│            ┆            ┆         ┆         ┆   ┆ and emp…   ┆ vo…       ┆ and emp…  ┆ and emp…  │\n",
       "│ genesis_1_ ┆ old        ┆ genesis ┆ 1       ┆ … ┆ God said,  ┆ And God   ┆ God said, ┆ God said, │\n",
       "│ 3          ┆ testament  ┆         ┆         ┆   ┆ “Let there ┆ said, Let ┆ “Let      ┆ “Let      │\n",
       "│            ┆            ┆         ┆         ┆   ┆ be light!… ┆ there be  ┆ there be  ┆ there be  │\n",
       "│            ┆            ┆         ┆         ┆   ┆            ┆ lig…      ┆ light,…   ┆ light,…   │\n",
       "│ genesis_1_ ┆ old        ┆ genesis ┆ 1       ┆ … ┆ God saw    ┆ And God   ┆ God saw   ┆ God saw   │\n",
       "│ 4          ┆ testament  ┆         ┆         ┆   ┆ that the   ┆ saw the   ┆ the       ┆ the       │\n",
       "│            ┆            ┆         ┆         ┆   ┆ light was  ┆ light,    ┆ light,    ┆ light,    │\n",
       "│            ┆            ┆         ┆         ┆   ┆ goo…       ┆ that it…  ┆ and saw   ┆ and saw   │\n",
       "│            ┆            ┆         ┆         ┆   ┆            ┆           ┆ tha…      ┆ tha…      │\n",
       "│ genesis_1_ ┆ old        ┆ genesis ┆ 1       ┆ … ┆ God called ┆ And God   ┆ God       ┆ God       │\n",
       "│ 5          ┆ testament  ┆         ┆         ┆   ┆ the light  ┆ called    ┆ called    ┆ called    │\n",
       "│            ┆            ┆         ┆         ┆   ┆ “day,” an… ┆ the light ┆ the light ┆ the light │\n",
       "│            ┆            ┆         ┆         ┆   ┆            ┆ Day, …    ┆ “day”,    ┆ “day”,    │\n",
       "│            ┆            ┆         ┆         ┆   ┆            ┆           ┆ an…       ┆ an…       │\n",
       "└────────────┴────────────┴─────────┴─────────┴───┴────────────┴───────────┴───────────┴───────────┘"
      ]
     },
     "metadata": {},
     "output_type": "display_data"
    },
    {
     "name": "stdout",
     "output_type": "stream",
     "text": [
      "ru (1232, 7)\n"
     ]
    },
    {
     "data": {
      "text/html": [
       "<div><style>\n",
       ".dataframe > thead > tr,\n",
       ".dataframe > tbody > tr {\n",
       "  text-align: right;\n",
       "  white-space: pre-wrap;\n",
       "}\n",
       "</style>\n",
       "<small>shape: (5, 7)</small><table border=\"1\" class=\"dataframe\"><thead><tr><th>key</th><th>part</th><th>book</th><th>chapter</th><th>verse</th><th>tok</th><th>russyn</th></tr><tr><td>str</td><td>str</td><td>str</td><td>i64</td><td>i64</td><td>str</td><td>str</td></tr></thead><tbody><tr><td>&quot;genesis_1_1&quot;</td><td>&quot;old testament&quot;</td><td>&quot;genesis&quot;</td><td>1</td><td>1</td><td>&quot;open la, sewi Elowin li lon e …</td><td>&quot;В начале сотворил Бог небо и з…</td></tr><tr><td>&quot;genesis_1_2&quot;</td><td>&quot;old testament&quot;</td><td>&quot;genesis&quot;</td><td>1</td><td>2</td><td>&quot;ma li nasa li ala. pimeja li l…</td><td>&quot;Земля же была безвидна и пуста…</td></tr><tr><td>&quot;genesis_1_3&quot;</td><td>&quot;old testament&quot;</td><td>&quot;genesis&quot;</td><td>1</td><td>3</td><td>&quot;sewi Elowin li toki. suno o lo…</td><td>&quot;И сказал Бог: да будет свет. И…</td></tr><tr><td>&quot;genesis_1_4&quot;</td><td>&quot;old testament&quot;</td><td>&quot;genesis&quot;</td><td>1</td><td>4</td><td>&quot;sewi Elowin li lukin e suno: o…</td><td>&quot;И увидел Бог свет, что он хоро…</td></tr><tr><td>&quot;genesis_1_5&quot;</td><td>&quot;old testament&quot;</td><td>&quot;genesis&quot;</td><td>1</td><td>5</td><td>&quot;sewi Elowin li nimi Tenpo Suno…</td><td>&quot;И назвал Бог свет днем, а тьму…</td></tr></tbody></table></div>"
      ],
      "text/plain": [
       "shape: (5, 7)\n",
       "┌─────────────┬───────────────┬─────────┬─────────┬───────┬────────────────────┬───────────────────┐\n",
       "│ key         ┆ part          ┆ book    ┆ chapter ┆ verse ┆ tok                ┆ russyn            │\n",
       "│ ---         ┆ ---           ┆ ---     ┆ ---     ┆ ---   ┆ ---                ┆ ---               │\n",
       "│ str         ┆ str           ┆ str     ┆ i64     ┆ i64   ┆ str                ┆ str               │\n",
       "╞═════════════╪═══════════════╪═════════╪═════════╪═══════╪════════════════════╪═══════════════════╡\n",
       "│ genesis_1_1 ┆ old testament ┆ genesis ┆ 1       ┆ 1     ┆ open la, sewi      ┆ В начале сотворил │\n",
       "│             ┆               ┆         ┆         ┆       ┆ Elowin li lon e …  ┆ Бог небо и з…     │\n",
       "│ genesis_1_2 ┆ old testament ┆ genesis ┆ 1       ┆ 2     ┆ ma li nasa li ala. ┆ Земля же была     │\n",
       "│             ┆               ┆         ┆         ┆       ┆ pimeja li l…       ┆ безвидна и пуста… │\n",
       "│ genesis_1_3 ┆ old testament ┆ genesis ┆ 1       ┆ 3     ┆ sewi Elowin li     ┆ И сказал Бог: да  │\n",
       "│             ┆               ┆         ┆         ┆       ┆ toki. suno o lo…   ┆ будет свет. И…    │\n",
       "│ genesis_1_4 ┆ old testament ┆ genesis ┆ 1       ┆ 4     ┆ sewi Elowin li     ┆ И увидел Бог      │\n",
       "│             ┆               ┆         ┆         ┆       ┆ lukin e suno: o…   ┆ свет, что он      │\n",
       "│             ┆               ┆         ┆         ┆       ┆                    ┆ хоро…             │\n",
       "│ genesis_1_5 ┆ old testament ┆ genesis ┆ 1       ┆ 5     ┆ sewi Elowin li     ┆ И назвал Бог свет │\n",
       "│             ┆               ┆         ┆         ┆       ┆ nimi Tenpo Suno…   ┆ днем, а тьму…     │\n",
       "└─────────────┴───────────────┴─────────┴─────────┴───────┴────────────────────┴───────────────────┘"
      ]
     },
     "metadata": {},
     "output_type": "display_data"
    },
    {
     "name": "stdout",
     "output_type": "stream",
     "text": [
      "uk (1232, 10)\n"
     ]
    },
    {
     "data": {
      "text/html": [
       "<div><style>\n",
       ".dataframe > thead > tr,\n",
       ".dataframe > tbody > tr {\n",
       "  text-align: right;\n",
       "  white-space: pre-wrap;\n",
       "}\n",
       "</style>\n",
       "<small>shape: (5, 10)</small><table border=\"1\" class=\"dataframe\"><thead><tr><th>key</th><th>part</th><th>book</th><th>chapter</th><th>verse</th><th>tok</th><th>ukronpu</th><th>ukr1871</th><th>ukr1996</th><th>ukrfb</th></tr><tr><td>str</td><td>str</td><td>str</td><td>i64</td><td>i64</td><td>str</td><td>str</td><td>str</td><td>str</td><td>str</td></tr></thead><tbody><tr><td>&quot;genesis_1_1&quot;</td><td>&quot;old testament&quot;</td><td>&quot;genesis&quot;</td><td>1</td><td>1</td><td>&quot;open la, sewi Elowin li lon e …</td><td>null</td><td>&quot;У початку сотворив Бог небо та…</td><td>&quot;У початку сотворив Бог небо та…</td><td>&quot;У початку сотворив Бог небо та…</td></tr><tr><td>&quot;genesis_1_2&quot;</td><td>&quot;old testament&quot;</td><td>&quot;genesis&quot;</td><td>1</td><td>2</td><td>&quot;ma li nasa li ala. pimeja li l…</td><td>null</td><td>&quot;Земля ж була пуста і пустошня,…</td><td>&quot;Земля ж була пуста і пустошня,…</td><td>&quot;Земля ж була пуста і пустошня,…</td></tr><tr><td>&quot;genesis_1_3&quot;</td><td>&quot;old testament&quot;</td><td>&quot;genesis&quot;</td><td>1</td><td>3</td><td>&quot;sewi Elowin li toki. suno o lo…</td><td>null</td><td>&quot;І рече Бог: Настань, сьвіте! І…</td><td>&quot;І рече Бог: Настань, сьвіте! І…</td><td>&quot;І рече Бог: Настань, сьвіте! І…</td></tr><tr><td>&quot;genesis_1_4&quot;</td><td>&quot;old testament&quot;</td><td>&quot;genesis&quot;</td><td>1</td><td>4</td><td>&quot;sewi Elowin li lukin e suno: o…</td><td>null</td><td>&quot;І бачив Бог сьвіт, що воно доб…</td><td>&quot;І бачив Бог сьвіт, що воно доб…</td><td>&quot;І бачив Бог сьвіт, що воно доб…</td></tr><tr><td>&quot;genesis_1_5&quot;</td><td>&quot;old testament&quot;</td><td>&quot;genesis&quot;</td><td>1</td><td>5</td><td>&quot;sewi Elowin li nimi Tenpo Suno…</td><td>null</td><td>&quot;І назве Бог сьвіт день, а темр…</td><td>&quot;І назве Бог сьвіт день, а темр…</td><td>&quot;І назве Бог сьвіт день, а темр…</td></tr></tbody></table></div>"
      ],
      "text/plain": [
       "shape: (5, 10)\n",
       "┌────────────┬────────────┬─────────┬─────────┬───┬─────────┬────────────┬────────────┬────────────┐\n",
       "│ key        ┆ part       ┆ book    ┆ chapter ┆ … ┆ ukronpu ┆ ukr1871    ┆ ukr1996    ┆ ukrfb      │\n",
       "│ ---        ┆ ---        ┆ ---     ┆ ---     ┆   ┆ ---     ┆ ---        ┆ ---        ┆ ---        │\n",
       "│ str        ┆ str        ┆ str     ┆ i64     ┆   ┆ str     ┆ str        ┆ str        ┆ str        │\n",
       "╞════════════╪════════════╪═════════╪═════════╪═══╪═════════╪════════════╪════════════╪════════════╡\n",
       "│ genesis_1_ ┆ old        ┆ genesis ┆ 1       ┆ … ┆ null    ┆ У початку  ┆ У початку  ┆ У початку  │\n",
       "│ 1          ┆ testament  ┆         ┆         ┆   ┆         ┆ сотворив   ┆ сотворив   ┆ сотворив   │\n",
       "│            ┆            ┆         ┆         ┆   ┆         ┆ Бог небо   ┆ Бог небо   ┆ Бог небо   │\n",
       "│            ┆            ┆         ┆         ┆   ┆         ┆ та…        ┆ та…        ┆ та…        │\n",
       "│ genesis_1_ ┆ old        ┆ genesis ┆ 1       ┆ … ┆ null    ┆ Земля ж    ┆ Земля ж    ┆ Земля ж    │\n",
       "│ 2          ┆ testament  ┆         ┆         ┆   ┆         ┆ була пуста ┆ була пуста ┆ була пуста │\n",
       "│            ┆            ┆         ┆         ┆   ┆         ┆ і          ┆ і          ┆ і          │\n",
       "│            ┆            ┆         ┆         ┆   ┆         ┆ пустошня,… ┆ пустошня,… ┆ пустошня,… │\n",
       "│ genesis_1_ ┆ old        ┆ genesis ┆ 1       ┆ … ┆ null    ┆ І рече     ┆ І рече     ┆ І рече     │\n",
       "│ 3          ┆ testament  ┆         ┆         ┆   ┆         ┆ Бог:       ┆ Бог:       ┆ Бог:       │\n",
       "│            ┆            ┆         ┆         ┆   ┆         ┆ Настань,   ┆ Настань,   ┆ Настань,   │\n",
       "│            ┆            ┆         ┆         ┆   ┆         ┆ сьвіте! І… ┆ сьвіте! І… ┆ сьвіте! І… │\n",
       "│ genesis_1_ ┆ old        ┆ genesis ┆ 1       ┆ … ┆ null    ┆ І бачив    ┆ І бачив    ┆ І бачив    │\n",
       "│ 4          ┆ testament  ┆         ┆         ┆   ┆         ┆ Бог сьвіт, ┆ Бог сьвіт, ┆ Бог сьвіт, │\n",
       "│            ┆            ┆         ┆         ┆   ┆         ┆ що воно    ┆ що воно    ┆ що воно    │\n",
       "│            ┆            ┆         ┆         ┆   ┆         ┆ доб…       ┆ доб…       ┆ доб…       │\n",
       "│ genesis_1_ ┆ old        ┆ genesis ┆ 1       ┆ … ┆ null    ┆ І назве    ┆ І назве    ┆ І назве    │\n",
       "│ 5          ┆ testament  ┆         ┆         ┆   ┆         ┆ Бог сьвіт  ┆ Бог сьвіт  ┆ Бог сьвіт  │\n",
       "│            ┆            ┆         ┆         ┆   ┆         ┆ день, а    ┆ день, а    ┆ день, а    │\n",
       "│            ┆            ┆         ┆         ┆   ┆         ┆ темр…      ┆ темр…      ┆ темр…      │\n",
       "└────────────┴────────────┴─────────┴─────────┴───┴─────────┴────────────┴────────────┴────────────┘"
      ]
     },
     "metadata": {},
     "output_type": "display_data"
    },
    {
     "name": "stdout",
     "output_type": "stream",
     "text": [
      "be (1232, 8)\n"
     ]
    },
    {
     "data": {
      "text/html": [
       "<div><style>\n",
       ".dataframe > thead > tr,\n",
       ".dataframe > tbody > tr {\n",
       "  text-align: right;\n",
       "  white-space: pre-wrap;\n",
       "}\n",
       "</style>\n",
       "<small>shape: (5, 8)</small><table border=\"1\" class=\"dataframe\"><thead><tr><th>key</th><th>part</th><th>book</th><th>chapter</th><th>verse</th><th>tok</th><th>bel</th><th>beln</th></tr><tr><td>str</td><td>str</td><td>str</td><td>i64</td><td>i64</td><td>str</td><td>str</td><td>str</td></tr></thead><tbody><tr><td>&quot;genesis_1_1&quot;</td><td>&quot;old testament&quot;</td><td>&quot;genesis&quot;</td><td>1</td><td>1</td><td>&quot;open la, sewi Elowin li lon e …</td><td>&quot;На пачатку стварыў Бог неба і …</td><td>&quot;На пачатку стварыў Бог неба і …</td></tr><tr><td>&quot;genesis_1_2&quot;</td><td>&quot;old testament&quot;</td><td>&quot;genesis&quot;</td><td>1</td><td>2</td><td>&quot;ma li nasa li ala. pimeja li l…</td><td>&quot;А зямля была нябачная і пустая…</td><td>&quot;І зямля была бязладная і пуста…</td></tr><tr><td>&quot;genesis_1_3&quot;</td><td>&quot;old testament&quot;</td><td>&quot;genesis&quot;</td><td>1</td><td>3</td><td>&quot;sewi Elowin li toki. suno o lo…</td><td>&quot;І сказаў Бог: хай будзе сьвятл…</td><td>&quot;І сказаў Бог: “Няхай станецца …</td></tr><tr><td>&quot;genesis_1_4&quot;</td><td>&quot;old testament&quot;</td><td>&quot;genesis&quot;</td><td>1</td><td>4</td><td>&quot;sewi Elowin li lukin e suno: o…</td><td>&quot;І ўбачыў Бог сьвятло, што яно …</td><td>&quot;І бачыў Бог сьвятло, што яно д…</td></tr><tr><td>&quot;genesis_1_5&quot;</td><td>&quot;old testament&quot;</td><td>&quot;genesis&quot;</td><td>1</td><td>5</td><td>&quot;sewi Elowin li nimi Tenpo Suno…</td><td>&quot;І назваў Бог сьвятло днём, а ц…</td><td>&quot;І назваў Бог сьвятло днём, а ц…</td></tr></tbody></table></div>"
      ],
      "text/plain": [
       "shape: (5, 8)\n",
       "┌─────────────┬──────────────┬─────────┬─────────┬───────┬─────────────┬─────────────┬─────────────┐\n",
       "│ key         ┆ part         ┆ book    ┆ chapter ┆ verse ┆ tok         ┆ bel         ┆ beln        │\n",
       "│ ---         ┆ ---          ┆ ---     ┆ ---     ┆ ---   ┆ ---         ┆ ---         ┆ ---         │\n",
       "│ str         ┆ str          ┆ str     ┆ i64     ┆ i64   ┆ str         ┆ str         ┆ str         │\n",
       "╞═════════════╪══════════════╪═════════╪═════════╪═══════╪═════════════╪═════════════╪═════════════╡\n",
       "│ genesis_1_1 ┆ old          ┆ genesis ┆ 1       ┆ 1     ┆ open la,    ┆ На пачатку  ┆ На пачатку  │\n",
       "│             ┆ testament    ┆         ┆         ┆       ┆ sewi Elowin ┆ стварыў Бог ┆ стварыў Бог │\n",
       "│             ┆              ┆         ┆         ┆       ┆ li lon e …  ┆ неба і …    ┆ неба і …    │\n",
       "│ genesis_1_2 ┆ old          ┆ genesis ┆ 1       ┆ 2     ┆ ma li nasa  ┆ А зямля     ┆ І зямля     │\n",
       "│             ┆ testament    ┆         ┆         ┆       ┆ li ala.     ┆ была        ┆ была        │\n",
       "│             ┆              ┆         ┆         ┆       ┆ pimeja li   ┆ нябачная і  ┆ бязладная і │\n",
       "│             ┆              ┆         ┆         ┆       ┆ l…          ┆ пустая…     ┆ пуста…      │\n",
       "│ genesis_1_3 ┆ old          ┆ genesis ┆ 1       ┆ 3     ┆ sewi Elowin ┆ І сказаў    ┆ І сказаў    │\n",
       "│             ┆ testament    ┆         ┆         ┆       ┆ li toki.    ┆ Бог: хай    ┆ Бог: “Няхай │\n",
       "│             ┆              ┆         ┆         ┆       ┆ suno o lo…  ┆ будзе       ┆ станецца …  │\n",
       "│             ┆              ┆         ┆         ┆       ┆             ┆ сьвятл…     ┆             │\n",
       "│ genesis_1_4 ┆ old          ┆ genesis ┆ 1       ┆ 4     ┆ sewi Elowin ┆ І ўбачыў    ┆ І бачыў Бог │\n",
       "│             ┆ testament    ┆         ┆         ┆       ┆ li lukin e  ┆ Бог         ┆ сьвятло,    │\n",
       "│             ┆              ┆         ┆         ┆       ┆ suno: o…    ┆ сьвятло,    ┆ што яно д…  │\n",
       "│             ┆              ┆         ┆         ┆       ┆             ┆ што яно …   ┆             │\n",
       "│ genesis_1_5 ┆ old          ┆ genesis ┆ 1       ┆ 5     ┆ sewi Elowin ┆ І назваў    ┆ І назваў    │\n",
       "│             ┆ testament    ┆         ┆         ┆       ┆ li nimi     ┆ Бог сьвятло ┆ Бог сьвятло │\n",
       "│             ┆              ┆         ┆         ┆       ┆ Tenpo Suno… ┆ днём, а ц…  ┆ днём, а ц…  │\n",
       "└─────────────┴──────────────┴─────────┴─────────┴───────┴─────────────┴─────────────┴─────────────┘"
      ]
     },
     "metadata": {},
     "output_type": "display_data"
    },
    {
     "name": "stdout",
     "output_type": "stream",
     "text": [
      "fr (1232, 10)\n"
     ]
    },
    {
     "data": {
      "text/html": [
       "<div><style>\n",
       ".dataframe > thead > tr,\n",
       ".dataframe > tbody > tr {\n",
       "  text-align: right;\n",
       "  white-space: pre-wrap;\n",
       "}\n",
       "</style>\n",
       "<small>shape: (5, 10)</small><table border=\"1\" class=\"dataframe\"><thead><tr><th>key</th><th>part</th><th>book</th><th>chapter</th><th>verse</th><th>tok</th><th>fra_fob</th><th>fraLSG</th><th>francl</th><th>frasbl</th></tr><tr><td>str</td><td>str</td><td>str</td><td>i64</td><td>i64</td><td>str</td><td>str</td><td>str</td><td>str</td><td>str</td></tr></thead><tbody><tr><td>&quot;genesis_1_1&quot;</td><td>&quot;old testament&quot;</td><td>&quot;genesis&quot;</td><td>1</td><td>1</td><td>&quot;open la, sewi Elowin li lon e …</td><td>&quot;Au commencement, Dieu créa les…</td><td>&quot;Au commencement, Dieu créa les…</td><td>&quot;Au Commencement Dieu créa le c…</td><td>&quot;Au commencement, Dieu créa les…</td></tr><tr><td>&quot;genesis_1_2&quot;</td><td>&quot;old testament&quot;</td><td>&quot;genesis&quot;</td><td>1</td><td>2</td><td>&quot;ma li nasa li ala. pimeja li l…</td><td>&quot;Or la terre était informe et v…</td><td>&quot;La terre était informe et vide…</td><td>&quot;La terre était informe et vide…</td><td>&quot;La terre était informe et vide…</td></tr><tr><td>&quot;genesis_1_3&quot;</td><td>&quot;old testament&quot;</td><td>&quot;genesis&quot;</td><td>1</td><td>3</td><td>&quot;sewi Elowin li toki. suno o lo…</td><td>&quot;Et Dieu dit: Que la lumière so…</td><td>&quot;Dieu dit: Que la lumière soit!…</td><td>&quot;Dieu dit : « Que la lumière so…</td><td>&quot;Dieu dit : « Que la lumière so…</td></tr><tr><td>&quot;genesis_1_4&quot;</td><td>&quot;old testament&quot;</td><td>&quot;genesis&quot;</td><td>1</td><td>4</td><td>&quot;sewi Elowin li lukin e suno: o…</td><td>&quot;Et Dieu vit que la lumière éta…</td><td>&quot;Dieu vit que la lumière était …</td><td>&quot;Et Dieu vit que la lumière éta…</td><td>&quot;Dieu vit la lumière, et il vit…</td></tr><tr><td>&quot;genesis_1_5&quot;</td><td>&quot;old testament&quot;</td><td>&quot;genesis&quot;</td><td>1</td><td>5</td><td>&quot;sewi Elowin li nimi Tenpo Suno…</td><td>&quot;Et Dieu nomma la lumière, jour…</td><td>&quot;Dieu appela la lumière jour, e…</td><td>&quot;Dieu appela la lumière jour, e…</td><td>&quot;Dieu appela la lumière « jour …</td></tr></tbody></table></div>"
      ],
      "text/plain": [
       "shape: (5, 10)\n",
       "┌────────────┬────────────┬─────────┬─────────┬───┬────────────┬───────────┬───────────┬───────────┐\n",
       "│ key        ┆ part       ┆ book    ┆ chapter ┆ … ┆ fra_fob    ┆ fraLSG    ┆ francl    ┆ frasbl    │\n",
       "│ ---        ┆ ---        ┆ ---     ┆ ---     ┆   ┆ ---        ┆ ---       ┆ ---       ┆ ---       │\n",
       "│ str        ┆ str        ┆ str     ┆ i64     ┆   ┆ str        ┆ str       ┆ str       ┆ str       │\n",
       "╞════════════╪════════════╪═════════╪═════════╪═══╪════════════╪═══════════╪═══════════╪═══════════╡\n",
       "│ genesis_1_ ┆ old        ┆ genesis ┆ 1       ┆ … ┆ Au commenc ┆ Au commen ┆ Au Commen ┆ Au commen │\n",
       "│ 1          ┆ testament  ┆         ┆         ┆   ┆ ement,     ┆ cement,   ┆ cement    ┆ cement,   │\n",
       "│            ┆            ┆         ┆         ┆   ┆ Dieu créa  ┆ Dieu créa ┆ Dieu créa ┆ Dieu créa │\n",
       "│            ┆            ┆         ┆         ┆   ┆ les…       ┆ les…      ┆ le c…     ┆ les…      │\n",
       "│ genesis_1_ ┆ old        ┆ genesis ┆ 1       ┆ … ┆ Or la      ┆ La terre  ┆ La terre  ┆ La terre  │\n",
       "│ 2          ┆ testament  ┆         ┆         ┆   ┆ terre      ┆ était     ┆ était     ┆ était     │\n",
       "│            ┆            ┆         ┆         ┆   ┆ était      ┆ informe   ┆ informe   ┆ informe   │\n",
       "│            ┆            ┆         ┆         ┆   ┆ informe et ┆ et vide…  ┆ et vide…  ┆ et vide…  │\n",
       "│            ┆            ┆         ┆         ┆   ┆ v…         ┆           ┆           ┆           │\n",
       "│ genesis_1_ ┆ old        ┆ genesis ┆ 1       ┆ … ┆ Et Dieu    ┆ Dieu dit: ┆ Dieu      ┆ Dieu      │\n",
       "│ 3          ┆ testament  ┆         ┆         ┆   ┆ dit: Que   ┆ Que la    ┆ dit :     ┆ dit :     │\n",
       "│            ┆            ┆         ┆         ┆   ┆ la lumière ┆ lumière   ┆ « Que la  ┆ « Que la  │\n",
       "│            ┆            ┆         ┆         ┆   ┆ so…        ┆ soit!…    ┆ lumière   ┆ lumière   │\n",
       "│            ┆            ┆         ┆         ┆   ┆            ┆           ┆ so…       ┆ so…       │\n",
       "│ genesis_1_ ┆ old        ┆ genesis ┆ 1       ┆ … ┆ Et Dieu    ┆ Dieu vit  ┆ Et Dieu   ┆ Dieu vit  │\n",
       "│ 4          ┆ testament  ┆         ┆         ┆   ┆ vit que la ┆ que la    ┆ vit que   ┆ la        │\n",
       "│            ┆            ┆         ┆         ┆   ┆ lumière    ┆ lumière   ┆ la        ┆ lumière,  │\n",
       "│            ┆            ┆         ┆         ┆   ┆ éta…       ┆ était …   ┆ lumière   ┆ et il     │\n",
       "│            ┆            ┆         ┆         ┆   ┆            ┆           ┆ éta…      ┆ vit…      │\n",
       "│ genesis_1_ ┆ old        ┆ genesis ┆ 1       ┆ … ┆ Et Dieu    ┆ Dieu      ┆ Dieu      ┆ Dieu      │\n",
       "│ 5          ┆ testament  ┆         ┆         ┆   ┆ nomma la   ┆ appela la ┆ appela la ┆ appela la │\n",
       "│            ┆            ┆         ┆         ┆   ┆ lumière,   ┆ lumière   ┆ lumière   ┆ lumière   │\n",
       "│            ┆            ┆         ┆         ┆   ┆ jour…      ┆ jour, e…  ┆ jour, e…  ┆ « jour …  │\n",
       "└────────────┴────────────┴─────────┴─────────┴───┴────────────┴───────────┴───────────┴───────────┘"
      ]
     },
     "metadata": {},
     "output_type": "display_data"
    },
    {
     "name": "stdout",
     "output_type": "stream",
     "text": [
      "es (1232, 13)\n"
     ]
    },
    {
     "data": {
      "text/html": [
       "<div><style>\n",
       ".dataframe > thead > tr,\n",
       ".dataframe > tbody > tr {\n",
       "  text-align: right;\n",
       "  white-space: pre-wrap;\n",
       "}\n",
       "</style>\n",
       "<small>shape: (5, 13)</small><table border=\"1\" class=\"dataframe\"><thead><tr><th>key</th><th>part</th><th>book</th><th>chapter</th><th>verse</th><th>tok</th><th>spabes</th><th>spablm</th><th>spapddpt</th><th>spaRV1909</th><th>sparvg</th><th>spav1602p</th><th>spavbl</th></tr><tr><td>str</td><td>str</td><td>str</td><td>i64</td><td>i64</td><td>str</td><td>str</td><td>str</td><td>str</td><td>str</td><td>str</td><td>str</td><td>str</td></tr></thead><tbody><tr><td>&quot;genesis_1_1&quot;</td><td>&quot;old testament&quot;</td><td>&quot;genesis&quot;</td><td>1</td><td>1</td><td>&quot;open la, sewi Elowin li lon e …</td><td>&quot;Al principio Dios hizo el ciel…</td><td>&quot;En el principio, Dios creó los…</td><td>&quot;En un principio ʼElohim creó l…</td><td>&quot;EN el principio crió Dios los …</td><td>&quot;En el principio creó Dios el c…</td><td>&quot;EN el principio creó Dios el c…</td><td>&quot;En el principio, Dios creó los…</td></tr><tr><td>&quot;genesis_1_2&quot;</td><td>&quot;old testament&quot;</td><td>&quot;genesis&quot;</td><td>1</td><td>2</td><td>&quot;ma li nasa li ala. pimeja li l…</td><td>&quot;Y la tierra estaba desordenada…</td><td>&quot;La tierra estaba sin forma y v…</td><td>&quot;Pero la tierra estaba desolada…</td><td>&quot;Y la tierra estaba desordenada…</td><td>&quot;Y la tierra estaba sin forma y…</td><td>&quot;Y la tierra estaba sin forma y…</td><td>&quot;La tierra carecía de forma y e…</td></tr><tr><td>&quot;genesis_1_3&quot;</td><td>&quot;old testament&quot;</td><td>&quot;genesis&quot;</td><td>1</td><td>3</td><td>&quot;sewi Elowin li toki. suno o lo…</td><td>&quot;Y dijo Dios: Hágase la luz, y …</td><td>&quot;Dios dijo: “Que se haga la luz…</td><td>&quot;Entonces ʼElohim dijo: Haya lu…</td><td>&quot;Y dijo Dios: Sea la luz: y fué…</td><td>&quot;Y dijo Dios: Sea la luz; y fue…</td><td>&quot;Y dijo Dios: Sea la luz: y fue…</td><td>&quot;Y Dios dijo: “¡Que haya luz!” …</td></tr><tr><td>&quot;genesis_1_4&quot;</td><td>&quot;old testament&quot;</td><td>&quot;genesis&quot;</td><td>1</td><td>4</td><td>&quot;sewi Elowin li lukin e suno: o…</td><td>&quot;Y mirando Dios a la luz, vio q…</td><td>&quot;Dios vio la luz y vio que era …</td><td>&quot;ʼElohim vio que la luz era bue…</td><td>&quot;Y vió Dios que la luz era buen…</td><td>&quot;Y vio Dios que la luz era buen…</td><td>&quot;Y vio Dios que la luz era buen…</td><td>&quot;Dios vio que la luz era buena,…</td></tr><tr><td>&quot;genesis_1_5&quot;</td><td>&quot;old testament&quot;</td><td>&quot;genesis&quot;</td><td>1</td><td>5</td><td>&quot;sewi Elowin li nimi Tenpo Suno…</td><td>&quot;Nombrando la luz, el día y la …</td><td>&quot;Dios llamó a la luz “día”, y a…</td><td>&quot;ʼElohim llamó a la luz día y a…</td><td>&quot;Y llamó Dios á la luz Día, y á…</td><td>&quot;Y llamó Dios a la luz Día, y a…</td><td>&quot;Y llamó Dios a la luz Día, y a…</td><td>&quot;Entonces Dios llamó a la luz “…</td></tr></tbody></table></div>"
      ],
      "text/plain": [
       "shape: (5, 13)\n",
       "┌────────────┬────────────┬─────────┬─────────┬───┬────────────┬───────────┬───────────┬───────────┐\n",
       "│ key        ┆ part       ┆ book    ┆ chapter ┆ … ┆ spaRV1909  ┆ sparvg    ┆ spav1602p ┆ spavbl    │\n",
       "│ ---        ┆ ---        ┆ ---     ┆ ---     ┆   ┆ ---        ┆ ---       ┆ ---       ┆ ---       │\n",
       "│ str        ┆ str        ┆ str     ┆ i64     ┆   ┆ str        ┆ str       ┆ str       ┆ str       │\n",
       "╞════════════╪════════════╪═════════╪═════════╪═══╪════════════╪═══════════╪═══════════╪═══════════╡\n",
       "│ genesis_1_ ┆ old        ┆ genesis ┆ 1       ┆ … ┆ EN el      ┆ En el     ┆ EN el     ┆ En el pri │\n",
       "│ 1          ┆ testament  ┆         ┆         ┆   ┆ principio  ┆ principio ┆ principio ┆ ncipio,   │\n",
       "│            ┆            ┆         ┆         ┆   ┆ crió Dios  ┆ creó Dios ┆ creó Dios ┆ Dios creó │\n",
       "│            ┆            ┆         ┆         ┆   ┆ los …      ┆ el c…     ┆ el c…     ┆ los…      │\n",
       "│ genesis_1_ ┆ old        ┆ genesis ┆ 1       ┆ … ┆ Y la       ┆ Y la      ┆ Y la      ┆ La tierra │\n",
       "│ 2          ┆ testament  ┆         ┆         ┆   ┆ tierra     ┆ tierra    ┆ tierra    ┆ carecía   │\n",
       "│            ┆            ┆         ┆         ┆   ┆ estaba des ┆ estaba    ┆ estaba    ┆ de forma  │\n",
       "│            ┆            ┆         ┆         ┆   ┆ ordenada…  ┆ sin forma ┆ sin forma ┆ y e…      │\n",
       "│            ┆            ┆         ┆         ┆   ┆            ┆ y…        ┆ y…        ┆           │\n",
       "│ genesis_1_ ┆ old        ┆ genesis ┆ 1       ┆ … ┆ Y dijo     ┆ Y dijo    ┆ Y dijo    ┆ Y Dios    │\n",
       "│ 3          ┆ testament  ┆         ┆         ┆   ┆ Dios: Sea  ┆ Dios: Sea ┆ Dios: Sea ┆ dijo:     │\n",
       "│            ┆            ┆         ┆         ┆   ┆ la luz: y  ┆ la luz; y ┆ la luz: y ┆ “¡Que     │\n",
       "│            ┆            ┆         ┆         ┆   ┆ fué…       ┆ fue…      ┆ fue…      ┆ haya      │\n",
       "│            ┆            ┆         ┆         ┆   ┆            ┆           ┆           ┆ luz!” …   │\n",
       "│ genesis_1_ ┆ old        ┆ genesis ┆ 1       ┆ … ┆ Y vió Dios ┆ Y vio     ┆ Y vio     ┆ Dios vio  │\n",
       "│ 4          ┆ testament  ┆         ┆         ┆   ┆ que la luz ┆ Dios que  ┆ Dios que  ┆ que la    │\n",
       "│            ┆            ┆         ┆         ┆   ┆ era buen…  ┆ la luz    ┆ la luz    ┆ luz era   │\n",
       "│            ┆            ┆         ┆         ┆   ┆            ┆ era buen… ┆ era buen… ┆ buena,…   │\n",
       "│ genesis_1_ ┆ old        ┆ genesis ┆ 1       ┆ … ┆ Y llamó    ┆ Y llamó   ┆ Y llamó   ┆ Entonces  │\n",
       "│ 5          ┆ testament  ┆         ┆         ┆   ┆ Dios á la  ┆ Dios a la ┆ Dios a la ┆ Dios      │\n",
       "│            ┆            ┆         ┆         ┆   ┆ luz Día, y ┆ luz Día,  ┆ luz Día,  ┆ llamó a   │\n",
       "│            ┆            ┆         ┆         ┆   ┆ á…         ┆ y a…      ┆ y a…      ┆ la luz “… │\n",
       "└────────────┴────────────┴─────────┴─────────┴───┴────────────┴───────────┴───────────┴───────────┘"
      ]
     },
     "metadata": {},
     "output_type": "display_data"
    },
    {
     "name": "stdout",
     "output_type": "stream",
     "text": [
      "pt (1232, 10)\n"
     ]
    },
    {
     "data": {
      "text/html": [
       "<div><style>\n",
       ".dataframe > thead > tr,\n",
       ".dataframe > tbody > tr {\n",
       "  text-align: right;\n",
       "  white-space: pre-wrap;\n",
       "}\n",
       "</style>\n",
       "<small>shape: (5, 10)</small><table border=\"1\" class=\"dataframe\"><thead><tr><th>key</th><th>part</th><th>book</th><th>chapter</th><th>verse</th><th>tok</th><th>porblt</th><th>porbr2018</th><th>porbrbsl</th><th>portft</th></tr><tr><td>str</td><td>str</td><td>str</td><td>i64</td><td>i64</td><td>str</td><td>str</td><td>str</td><td>str</td><td>str</td></tr></thead><tbody><tr><td>&quot;genesis_1_1&quot;</td><td>&quot;old testament&quot;</td><td>&quot;genesis&quot;</td><td>1</td><td>1</td><td>&quot;open la, sewi Elowin li lon e …</td><td>null</td><td>&quot;No princípio criou Deus os céu…</td><td>&quot;No início, Deus criou os céus …</td><td>null</td></tr><tr><td>&quot;genesis_1_2&quot;</td><td>&quot;old testament&quot;</td><td>&quot;genesis&quot;</td><td>1</td><td>2</td><td>&quot;ma li nasa li ala. pimeja li l…</td><td>null</td><td>&quot;E a terra estava desordenada e…</td><td>&quot;A terra estava sem forma e vaz…</td><td>null</td></tr><tr><td>&quot;genesis_1_3&quot;</td><td>&quot;old testament&quot;</td><td>&quot;genesis&quot;</td><td>1</td><td>3</td><td>&quot;sewi Elowin li toki. suno o lo…</td><td>null</td><td>&quot;E disse Deus: Haja luz; e houv…</td><td>&quot;Deus disse: “Que haja luz”, e …</td><td>null</td></tr><tr><td>&quot;genesis_1_4&quot;</td><td>&quot;old testament&quot;</td><td>&quot;genesis&quot;</td><td>1</td><td>4</td><td>&quot;sewi Elowin li lukin e suno: o…</td><td>null</td><td>&quot;E viu Deus que a luz era boa: …</td><td>&quot;Deus viu a luz, e viu que ela …</td><td>null</td></tr><tr><td>&quot;genesis_1_5&quot;</td><td>&quot;old testament&quot;</td><td>&quot;genesis&quot;</td><td>1</td><td>5</td><td>&quot;sewi Elowin li nimi Tenpo Suno…</td><td>null</td><td>&quot;E chamou Deus à luz Dia, e às …</td><td>&quot;Deus chamou a luz de “dia”, e …</td><td>null</td></tr></tbody></table></div>"
      ],
      "text/plain": [
       "shape: (5, 10)\n",
       "┌─────────────┬──────────────┬─────────┬─────────┬───┬────────┬─────────────┬─────────────┬────────┐\n",
       "│ key         ┆ part         ┆ book    ┆ chapter ┆ … ┆ porblt ┆ porbr2018   ┆ porbrbsl    ┆ portft │\n",
       "│ ---         ┆ ---          ┆ ---     ┆ ---     ┆   ┆ ---    ┆ ---         ┆ ---         ┆ ---    │\n",
       "│ str         ┆ str          ┆ str     ┆ i64     ┆   ┆ str    ┆ str         ┆ str         ┆ str    │\n",
       "╞═════════════╪══════════════╪═════════╪═════════╪═══╪════════╪═════════════╪═════════════╪════════╡\n",
       "│ genesis_1_1 ┆ old          ┆ genesis ┆ 1       ┆ … ┆ null   ┆ No          ┆ No início,  ┆ null   │\n",
       "│             ┆ testament    ┆         ┆         ┆   ┆        ┆ princípio   ┆ Deus criou  ┆        │\n",
       "│             ┆              ┆         ┆         ┆   ┆        ┆ criou Deus  ┆ os céus …   ┆        │\n",
       "│             ┆              ┆         ┆         ┆   ┆        ┆ os céu…     ┆             ┆        │\n",
       "│ genesis_1_2 ┆ old          ┆ genesis ┆ 1       ┆ … ┆ null   ┆ E a terra   ┆ A terra     ┆ null   │\n",
       "│             ┆ testament    ┆         ┆         ┆   ┆        ┆ estava      ┆ estava sem  ┆        │\n",
       "│             ┆              ┆         ┆         ┆   ┆        ┆ desordenada ┆ forma e     ┆        │\n",
       "│             ┆              ┆         ┆         ┆   ┆        ┆ e…          ┆ vaz…        ┆        │\n",
       "│ genesis_1_3 ┆ old          ┆ genesis ┆ 1       ┆ … ┆ null   ┆ E disse     ┆ Deus disse: ┆ null   │\n",
       "│             ┆ testament    ┆         ┆         ┆   ┆        ┆ Deus: Haja  ┆ “Que haja   ┆        │\n",
       "│             ┆              ┆         ┆         ┆   ┆        ┆ luz; e      ┆ luz”, e …   ┆        │\n",
       "│             ┆              ┆         ┆         ┆   ┆        ┆ houv…       ┆             ┆        │\n",
       "│ genesis_1_4 ┆ old          ┆ genesis ┆ 1       ┆ … ┆ null   ┆ E viu Deus  ┆ Deus viu a  ┆ null   │\n",
       "│             ┆ testament    ┆         ┆         ┆   ┆        ┆ que a luz   ┆ luz, e viu  ┆        │\n",
       "│             ┆              ┆         ┆         ┆   ┆        ┆ era boa: …  ┆ que ela …   ┆        │\n",
       "│ genesis_1_5 ┆ old          ┆ genesis ┆ 1       ┆ … ┆ null   ┆ E chamou    ┆ Deus chamou ┆ null   │\n",
       "│             ┆ testament    ┆         ┆         ┆   ┆        ┆ Deus à luz  ┆ a luz de    ┆        │\n",
       "│             ┆              ┆         ┆         ┆   ┆        ┆ Dia, e às … ┆ “dia”, e …  ┆        │\n",
       "└─────────────┴──────────────┴─────────┴─────────┴───┴────────┴─────────────┴─────────────┴────────┘"
      ]
     },
     "metadata": {},
     "output_type": "display_data"
    },
    {
     "name": "stdout",
     "output_type": "stream",
     "text": [
      "it (1232, 8)\n"
     ]
    },
    {
     "data": {
      "text/html": [
       "<div><style>\n",
       ".dataframe > thead > tr,\n",
       ".dataframe > tbody > tr {\n",
       "  text-align: right;\n",
       "  white-space: pre-wrap;\n",
       "}\n",
       "</style>\n",
       "<small>shape: (5, 8)</small><table border=\"1\" class=\"dataframe\"><thead><tr><th>key</th><th>part</th><th>book</th><th>chapter</th><th>verse</th><th>tok</th><th>ita1885</th><th>ita1927</th></tr><tr><td>str</td><td>str</td><td>str</td><td>i64</td><td>i64</td><td>str</td><td>str</td><td>str</td></tr></thead><tbody><tr><td>&quot;genesis_1_1&quot;</td><td>&quot;old testament&quot;</td><td>&quot;genesis&quot;</td><td>1</td><td>1</td><td>&quot;open la, sewi Elowin li lon e …</td><td>&quot;NEL principio Iddio creò il ci…</td><td>&quot;Nel principio Iddio creò i cie…</td></tr><tr><td>&quot;genesis_1_2&quot;</td><td>&quot;old testament&quot;</td><td>&quot;genesis&quot;</td><td>1</td><td>2</td><td>&quot;ma li nasa li ala. pimeja li l…</td><td>&quot;E la terra era una cosa desert…</td><td>&quot;E la terra era informe e vuota…</td></tr><tr><td>&quot;genesis_1_3&quot;</td><td>&quot;old testament&quot;</td><td>&quot;genesis&quot;</td><td>1</td><td>3</td><td>&quot;sewi Elowin li toki. suno o lo…</td><td>&quot;E Iddio disse: Sia la luce. E …</td><td>&quot;“Sia la luce!” E la luce fu.&quot;</td></tr><tr><td>&quot;genesis_1_4&quot;</td><td>&quot;old testament&quot;</td><td>&quot;genesis&quot;</td><td>1</td><td>4</td><td>&quot;sewi Elowin li lukin e suno: o…</td><td>&quot;E Iddio vide che la luce era b…</td><td>&quot;E Dio vide che la luce era buo…</td></tr><tr><td>&quot;genesis_1_5&quot;</td><td>&quot;old testament&quot;</td><td>&quot;genesis&quot;</td><td>1</td><td>5</td><td>&quot;sewi Elowin li nimi Tenpo Suno…</td><td>&quot;E Iddio nominò la luce Giorno,…</td><td>&quot;E Dio chiamò la luce “giorno”,…</td></tr></tbody></table></div>"
      ],
      "text/plain": [
       "shape: (5, 8)\n",
       "┌─────────────┬──────────────┬─────────┬─────────┬───────┬─────────────┬─────────────┬─────────────┐\n",
       "│ key         ┆ part         ┆ book    ┆ chapter ┆ verse ┆ tok         ┆ ita1885     ┆ ita1927     │\n",
       "│ ---         ┆ ---          ┆ ---     ┆ ---     ┆ ---   ┆ ---         ┆ ---         ┆ ---         │\n",
       "│ str         ┆ str          ┆ str     ┆ i64     ┆ i64   ┆ str         ┆ str         ┆ str         │\n",
       "╞═════════════╪══════════════╪═════════╪═════════╪═══════╪═════════════╪═════════════╪═════════════╡\n",
       "│ genesis_1_1 ┆ old          ┆ genesis ┆ 1       ┆ 1     ┆ open la,    ┆ NEL         ┆ Nel         │\n",
       "│             ┆ testament    ┆         ┆         ┆       ┆ sewi Elowin ┆ principio   ┆ principio   │\n",
       "│             ┆              ┆         ┆         ┆       ┆ li lon e …  ┆ Iddio creò  ┆ Iddio creò  │\n",
       "│             ┆              ┆         ┆         ┆       ┆             ┆ il ci…      ┆ i cie…      │\n",
       "│ genesis_1_2 ┆ old          ┆ genesis ┆ 1       ┆ 2     ┆ ma li nasa  ┆ E la terra  ┆ E la terra  │\n",
       "│             ┆ testament    ┆         ┆         ┆       ┆ li ala.     ┆ era una     ┆ era informe │\n",
       "│             ┆              ┆         ┆         ┆       ┆ pimeja li   ┆ cosa        ┆ e vuota…    │\n",
       "│             ┆              ┆         ┆         ┆       ┆ l…          ┆ desert…     ┆             │\n",
       "│ genesis_1_3 ┆ old          ┆ genesis ┆ 1       ┆ 3     ┆ sewi Elowin ┆ E Iddio     ┆ “Sia la     │\n",
       "│             ┆ testament    ┆         ┆         ┆       ┆ li toki.    ┆ disse: Sia  ┆ luce!” E la │\n",
       "│             ┆              ┆         ┆         ┆       ┆ suno o lo…  ┆ la luce. E  ┆ luce fu.    │\n",
       "│             ┆              ┆         ┆         ┆       ┆             ┆ …           ┆             │\n",
       "│ genesis_1_4 ┆ old          ┆ genesis ┆ 1       ┆ 4     ┆ sewi Elowin ┆ E Iddio     ┆ E Dio vide  │\n",
       "│             ┆ testament    ┆         ┆         ┆       ┆ li lukin e  ┆ vide che la ┆ che la luce │\n",
       "│             ┆              ┆         ┆         ┆       ┆ suno: o…    ┆ luce era b… ┆ era buo…    │\n",
       "│ genesis_1_5 ┆ old          ┆ genesis ┆ 1       ┆ 5     ┆ sewi Elowin ┆ E Iddio     ┆ E Dio       │\n",
       "│             ┆ testament    ┆         ┆         ┆       ┆ li nimi     ┆ nominò la   ┆ chiamò la   │\n",
       "│             ┆              ┆         ┆         ┆       ┆ Tenpo Suno… ┆ luce        ┆ luce        │\n",
       "│             ┆              ┆         ┆         ┆       ┆             ┆ Giorno,…    ┆ “giorno”,…  │\n",
       "└─────────────┴──────────────┴─────────┴─────────┴───────┴─────────────┴─────────────┴─────────────┘"
      ]
     },
     "metadata": {},
     "output_type": "display_data"
    },
    {
     "name": "stdout",
     "output_type": "stream",
     "text": [
      "de (1232, 11)\n"
     ]
    },
    {
     "data": {
      "text/html": [
       "<div><style>\n",
       ".dataframe > thead > tr,\n",
       ".dataframe > tbody > tr {\n",
       "  text-align: right;\n",
       "  white-space: pre-wrap;\n",
       "}\n",
       "</style>\n",
       "<small>shape: (5, 11)</small><table border=\"1\" class=\"dataframe\"><thead><tr><th>key</th><th>part</th><th>book</th><th>chapter</th><th>verse</th><th>tok</th><th>deu1912</th><th>deu1951</th><th>deuelbbk</th><th>deuelo</th><th>deutkw</th></tr><tr><td>str</td><td>str</td><td>str</td><td>i64</td><td>i64</td><td>str</td><td>str</td><td>str</td><td>str</td><td>str</td><td>str</td></tr></thead><tbody><tr><td>&quot;genesis_1_1&quot;</td><td>&quot;old testament&quot;</td><td>&quot;genesis&quot;</td><td>1</td><td>1</td><td>&quot;open la, sewi Elowin li lon e …</td><td>&quot;Am Anfang schuf Gott Himmel un…</td><td>&quot;Im Anfang schuf Gott den Himme…</td><td>&quot;Im Anfang schuf Gott die Himme…</td><td>&quot;Im Anfang schuf Gott die Himme…</td><td>&quot;Im Anfang schuf Gott den Himme…</td></tr><tr><td>&quot;genesis_1_2&quot;</td><td>&quot;old testament&quot;</td><td>&quot;genesis&quot;</td><td>1</td><td>2</td><td>&quot;ma li nasa li ala. pimeja li l…</td><td>&quot;Und die Erde war wüst und leer…</td><td>&quot;Und die Erde war wüst und leer…</td><td>&quot;Und die Erde war wüst und leer…</td><td>&quot;Und die Erde war wüst und leer…</td><td>&quot;Es war aber die Erde wüste und…</td></tr><tr><td>&quot;genesis_1_3&quot;</td><td>&quot;old testament&quot;</td><td>&quot;genesis&quot;</td><td>1</td><td>3</td><td>&quot;sewi Elowin li toki. suno o lo…</td><td>&quot;Und Gott sprach: Es werde Lich…</td><td>&quot;Und Gott sprach: Es werde Lich…</td><td>&quot;Und Gott sprach: Es werde Lich…</td><td>&quot;Und Gott sprach: Es werde Lich…</td><td>&quot;Da sprach Gott: Es werde Licht…</td></tr><tr><td>&quot;genesis_1_4&quot;</td><td>&quot;old testament&quot;</td><td>&quot;genesis&quot;</td><td>1</td><td>4</td><td>&quot;sewi Elowin li lukin e suno: o…</td><td>&quot;Und Gott sah, daß das Licht gu…</td><td>&quot;Und Gott sah, daß das Licht gu…</td><td>&quot;Und Gott sah das Licht, dass e…</td><td>&quot;Und Gott sah das Licht, daß es…</td><td>&quot;Und Gott sah, daß das Licht gu…</td></tr><tr><td>&quot;genesis_1_5&quot;</td><td>&quot;old testament&quot;</td><td>&quot;genesis&quot;</td><td>1</td><td>5</td><td>&quot;sewi Elowin li nimi Tenpo Suno…</td><td>&quot;und nannte das Licht Tag und d…</td><td>&quot;und Gott nannte das Licht Tag,…</td><td>&quot;Und Gott nannte das Licht Tag,…</td><td>&quot;Und Gott nannte das Licht Tag,…</td><td>&quot;Und Gott nannte das Licht Tag,…</td></tr></tbody></table></div>"
      ],
      "text/plain": [
       "shape: (5, 11)\n",
       "┌────────────┬────────────┬─────────┬─────────┬───┬────────────┬───────────┬───────────┬───────────┐\n",
       "│ key        ┆ part       ┆ book    ┆ chapter ┆ … ┆ deu1951    ┆ deuelbbk  ┆ deuelo    ┆ deutkw    │\n",
       "│ ---        ┆ ---        ┆ ---     ┆ ---     ┆   ┆ ---        ┆ ---       ┆ ---       ┆ ---       │\n",
       "│ str        ┆ str        ┆ str     ┆ i64     ┆   ┆ str        ┆ str       ┆ str       ┆ str       │\n",
       "╞════════════╪════════════╪═════════╪═════════╪═══╪════════════╪═══════════╪═══════════╪═══════════╡\n",
       "│ genesis_1_ ┆ old        ┆ genesis ┆ 1       ┆ … ┆ Im Anfang  ┆ Im Anfang ┆ Im Anfang ┆ Im Anfang │\n",
       "│ 1          ┆ testament  ┆         ┆         ┆   ┆ schuf Gott ┆ schuf     ┆ schuf     ┆ schuf     │\n",
       "│            ┆            ┆         ┆         ┆   ┆ den Himme… ┆ Gott die  ┆ Gott die  ┆ Gott den  │\n",
       "│            ┆            ┆         ┆         ┆   ┆            ┆ Himme…    ┆ Himme…    ┆ Himme…    │\n",
       "│ genesis_1_ ┆ old        ┆ genesis ┆ 1       ┆ … ┆ Und die    ┆ Und die   ┆ Und die   ┆ Es war    │\n",
       "│ 2          ┆ testament  ┆         ┆         ┆   ┆ Erde war   ┆ Erde war  ┆ Erde war  ┆ aber die  │\n",
       "│            ┆            ┆         ┆         ┆   ┆ wüst und   ┆ wüst und  ┆ wüst und  ┆ Erde      │\n",
       "│            ┆            ┆         ┆         ┆   ┆ leer…      ┆ leer…     ┆ leer…     ┆ wüste     │\n",
       "│            ┆            ┆         ┆         ┆   ┆            ┆           ┆           ┆ und…      │\n",
       "│ genesis_1_ ┆ old        ┆ genesis ┆ 1       ┆ … ┆ Und Gott   ┆ Und Gott  ┆ Und Gott  ┆ Da sprach │\n",
       "│ 3          ┆ testament  ┆         ┆         ┆   ┆ sprach: Es ┆ sprach:   ┆ sprach:   ┆ Gott: Es  │\n",
       "│            ┆            ┆         ┆         ┆   ┆ werde      ┆ Es werde  ┆ Es werde  ┆ werde     │\n",
       "│            ┆            ┆         ┆         ┆   ┆ Lich…      ┆ Lich…     ┆ Lich…     ┆ Licht…    │\n",
       "│ genesis_1_ ┆ old        ┆ genesis ┆ 1       ┆ … ┆ Und Gott   ┆ Und Gott  ┆ Und Gott  ┆ Und Gott  │\n",
       "│ 4          ┆ testament  ┆         ┆         ┆   ┆ sah, daß   ┆ sah das   ┆ sah das   ┆ sah, daß  │\n",
       "│            ┆            ┆         ┆         ┆   ┆ das Licht  ┆ Licht,    ┆ Licht,    ┆ das Licht │\n",
       "│            ┆            ┆         ┆         ┆   ┆ gu…        ┆ dass e…   ┆ daß es…   ┆ gu…       │\n",
       "│ genesis_1_ ┆ old        ┆ genesis ┆ 1       ┆ … ┆ und Gott   ┆ Und Gott  ┆ Und Gott  ┆ Und Gott  │\n",
       "│ 5          ┆ testament  ┆         ┆         ┆   ┆ nannte das ┆ nannte    ┆ nannte    ┆ nannte    │\n",
       "│            ┆            ┆         ┆         ┆   ┆ Licht      ┆ das Licht ┆ das Licht ┆ das Licht │\n",
       "│            ┆            ┆         ┆         ┆   ┆ Tag,…      ┆ Tag,…     ┆ Tag,…     ┆ Tag,…     │\n",
       "└────────────┴────────────┴─────────┴─────────┴───┴────────────┴───────────┴───────────┴───────────┘"
      ]
     },
     "metadata": {},
     "output_type": "display_data"
    },
    {
     "name": "stdout",
     "output_type": "stream",
     "text": [
      "vi (1232, 8)\n"
     ]
    },
    {
     "data": {
      "text/html": [
       "<div><style>\n",
       ".dataframe > thead > tr,\n",
       ".dataframe > tbody > tr {\n",
       "  text-align: right;\n",
       "  white-space: pre-wrap;\n",
       "}\n",
       "</style>\n",
       "<small>shape: (5, 8)</small><table border=\"1\" class=\"dataframe\"><thead><tr><th>key</th><th>part</th><th>book</th><th>chapter</th><th>verse</th><th>tok</th><th>vie1934</th><th>vieovcb</th></tr><tr><td>str</td><td>str</td><td>str</td><td>i64</td><td>i64</td><td>str</td><td>str</td><td>str</td></tr></thead><tbody><tr><td>&quot;genesis_1_1&quot;</td><td>&quot;old testament&quot;</td><td>&quot;genesis&quot;</td><td>1</td><td>1</td><td>&quot;open la, sewi Elowin li lon e …</td><td>&quot;Ban đầu Đức Chúa Trời dựng nên…</td><td>&quot;Ban đầu, Đức Chúa Trời sáng tạ…</td></tr><tr><td>&quot;genesis_1_2&quot;</td><td>&quot;old testament&quot;</td><td>&quot;genesis&quot;</td><td>1</td><td>2</td><td>&quot;ma li nasa li ala. pimeja li l…</td><td>&quot;Vả, đất là vô hình và trống kh…</td><td>&quot;Lúc ấy, đất chỉ là một khối hỗ…</td></tr><tr><td>&quot;genesis_1_3&quot;</td><td>&quot;old testament&quot;</td><td>&quot;genesis&quot;</td><td>1</td><td>3</td><td>&quot;sewi Elowin li toki. suno o lo…</td><td>&quot;Đức Chúa Trời phán rằng: Phải …</td><td>&quot;Đức Chúa Trời phán: “Phải có á…</td></tr><tr><td>&quot;genesis_1_4&quot;</td><td>&quot;old testament&quot;</td><td>&quot;genesis&quot;</td><td>1</td><td>4</td><td>&quot;sewi Elowin li lukin e suno: o…</td><td>&quot;Đức Chúa Trời thấy sáng là tốt…</td><td>&quot;Đức Chúa Trời thấy ánh sáng tố…</td></tr><tr><td>&quot;genesis_1_5&quot;</td><td>&quot;old testament&quot;</td><td>&quot;genesis&quot;</td><td>1</td><td>5</td><td>&quot;sewi Elowin li nimi Tenpo Suno…</td><td>&quot;Đức Chúa Trời đặt tên sự sáng …</td><td>&quot;Đức Chúa Trời gọi sáng là “ngà…</td></tr></tbody></table></div>"
      ],
      "text/plain": [
       "shape: (5, 8)\n",
       "┌─────────────┬──────────────┬─────────┬─────────┬───────┬─────────────┬─────────────┬─────────────┐\n",
       "│ key         ┆ part         ┆ book    ┆ chapter ┆ verse ┆ tok         ┆ vie1934     ┆ vieovcb     │\n",
       "│ ---         ┆ ---          ┆ ---     ┆ ---     ┆ ---   ┆ ---         ┆ ---         ┆ ---         │\n",
       "│ str         ┆ str          ┆ str     ┆ i64     ┆ i64   ┆ str         ┆ str         ┆ str         │\n",
       "╞═════════════╪══════════════╪═════════╪═════════╪═══════╪═════════════╪═════════════╪═════════════╡\n",
       "│ genesis_1_1 ┆ old          ┆ genesis ┆ 1       ┆ 1     ┆ open la,    ┆ Ban đầu Đức ┆ Ban đầu,    │\n",
       "│             ┆ testament    ┆         ┆         ┆       ┆ sewi Elowin ┆ Chúa Trời   ┆ Đức Chúa    │\n",
       "│             ┆              ┆         ┆         ┆       ┆ li lon e …  ┆ dựng nên…   ┆ Trời sáng   │\n",
       "│             ┆              ┆         ┆         ┆       ┆             ┆             ┆ tạ…         │\n",
       "│ genesis_1_2 ┆ old          ┆ genesis ┆ 1       ┆ 2     ┆ ma li nasa  ┆ Vả, đất là  ┆ Lúc ấy, đất │\n",
       "│             ┆ testament    ┆         ┆         ┆       ┆ li ala.     ┆ vô hình và  ┆ chỉ là một  │\n",
       "│             ┆              ┆         ┆         ┆       ┆ pimeja li   ┆ trống kh…   ┆ khối hỗ…    │\n",
       "│             ┆              ┆         ┆         ┆       ┆ l…          ┆             ┆             │\n",
       "│ genesis_1_3 ┆ old          ┆ genesis ┆ 1       ┆ 3     ┆ sewi Elowin ┆ Đức Chúa    ┆ Đức Chúa    │\n",
       "│             ┆ testament    ┆         ┆         ┆       ┆ li toki.    ┆ Trời phán   ┆ Trời phán:  │\n",
       "│             ┆              ┆         ┆         ┆       ┆ suno o lo…  ┆ rằng: Phải  ┆ “Phải có á… │\n",
       "│             ┆              ┆         ┆         ┆       ┆             ┆ …           ┆             │\n",
       "│ genesis_1_4 ┆ old          ┆ genesis ┆ 1       ┆ 4     ┆ sewi Elowin ┆ Đức Chúa    ┆ Đức Chúa    │\n",
       "│             ┆ testament    ┆         ┆         ┆       ┆ li lukin e  ┆ Trời thấy   ┆ Trời thấy   │\n",
       "│             ┆              ┆         ┆         ┆       ┆ suno: o…    ┆ sáng là     ┆ ánh sáng    │\n",
       "│             ┆              ┆         ┆         ┆       ┆             ┆ tốt…        ┆ tố…         │\n",
       "│ genesis_1_5 ┆ old          ┆ genesis ┆ 1       ┆ 5     ┆ sewi Elowin ┆ Đức Chúa    ┆ Đức Chúa    │\n",
       "│             ┆ testament    ┆         ┆         ┆       ┆ li nimi     ┆ Trời đặt    ┆ Trời gọi    │\n",
       "│             ┆              ┆         ┆         ┆       ┆ Tenpo Suno… ┆ tên sự sáng ┆ sáng là     │\n",
       "│             ┆              ┆         ┆         ┆       ┆             ┆ …           ┆ “ngà…       │\n",
       "└─────────────┴──────────────┴─────────┴─────────┴───────┴─────────────┴─────────────┴─────────────┘"
      ]
     },
     "metadata": {},
     "output_type": "display_data"
    },
    {
     "name": "stdout",
     "output_type": "stream",
     "text": [
      "ja (1232, 7)\n"
     ]
    },
    {
     "data": {
      "text/html": [
       "<div><style>\n",
       ".dataframe > thead > tr,\n",
       ".dataframe > tbody > tr {\n",
       "  text-align: right;\n",
       "  white-space: pre-wrap;\n",
       "}\n",
       "</style>\n",
       "<small>shape: (5, 7)</small><table border=\"1\" class=\"dataframe\"><thead><tr><th>key</th><th>part</th><th>book</th><th>chapter</th><th>verse</th><th>tok</th><th>jpn1965</th></tr><tr><td>str</td><td>str</td><td>str</td><td>i64</td><td>i64</td><td>str</td><td>str</td></tr></thead><tbody><tr><td>&quot;genesis_1_1&quot;</td><td>&quot;old testament&quot;</td><td>&quot;genesis&quot;</td><td>1</td><td>1</td><td>&quot;open la, sewi Elowin li lon e …</td><td>null</td></tr><tr><td>&quot;genesis_1_2&quot;</td><td>&quot;old testament&quot;</td><td>&quot;genesis&quot;</td><td>1</td><td>2</td><td>&quot;ma li nasa li ala. pimeja li l…</td><td>null</td></tr><tr><td>&quot;genesis_1_3&quot;</td><td>&quot;old testament&quot;</td><td>&quot;genesis&quot;</td><td>1</td><td>3</td><td>&quot;sewi Elowin li toki. suno o lo…</td><td>null</td></tr><tr><td>&quot;genesis_1_4&quot;</td><td>&quot;old testament&quot;</td><td>&quot;genesis&quot;</td><td>1</td><td>4</td><td>&quot;sewi Elowin li lukin e suno: o…</td><td>null</td></tr><tr><td>&quot;genesis_1_5&quot;</td><td>&quot;old testament&quot;</td><td>&quot;genesis&quot;</td><td>1</td><td>5</td><td>&quot;sewi Elowin li nimi Tenpo Suno…</td><td>null</td></tr></tbody></table></div>"
      ],
      "text/plain": [
       "shape: (5, 7)\n",
       "┌─────────────┬───────────────┬─────────┬─────────┬───────┬──────────────────────────────┬─────────┐\n",
       "│ key         ┆ part          ┆ book    ┆ chapter ┆ verse ┆ tok                          ┆ jpn1965 │\n",
       "│ ---         ┆ ---           ┆ ---     ┆ ---     ┆ ---   ┆ ---                          ┆ ---     │\n",
       "│ str         ┆ str           ┆ str     ┆ i64     ┆ i64   ┆ str                          ┆ str     │\n",
       "╞═════════════╪═══════════════╪═════════╪═════════╪═══════╪══════════════════════════════╪═════════╡\n",
       "│ genesis_1_1 ┆ old testament ┆ genesis ┆ 1       ┆ 1     ┆ open la, sewi Elowin li lon  ┆ null    │\n",
       "│             ┆               ┆         ┆         ┆       ┆ e …                          ┆         │\n",
       "│ genesis_1_2 ┆ old testament ┆ genesis ┆ 1       ┆ 2     ┆ ma li nasa li ala. pimeja li ┆ null    │\n",
       "│             ┆               ┆         ┆         ┆       ┆ l…                           ┆         │\n",
       "│ genesis_1_3 ┆ old testament ┆ genesis ┆ 1       ┆ 3     ┆ sewi Elowin li toki. suno o  ┆ null    │\n",
       "│             ┆               ┆         ┆         ┆       ┆ lo…                          ┆         │\n",
       "│ genesis_1_4 ┆ old testament ┆ genesis ┆ 1       ┆ 4     ┆ sewi Elowin li lukin e suno: ┆ null    │\n",
       "│             ┆               ┆         ┆         ┆       ┆ o…                           ┆         │\n",
       "│ genesis_1_5 ┆ old testament ┆ genesis ┆ 1       ┆ 5     ┆ sewi Elowin li nimi Tenpo    ┆ null    │\n",
       "│             ┆               ┆         ┆         ┆       ┆ Suno…                        ┆         │\n",
       "└─────────────┴───────────────┴─────────┴─────────┴───────┴──────────────────────────────┴─────────┘"
      ]
     },
     "metadata": {},
     "output_type": "display_data"
    },
    {
     "name": "stdout",
     "output_type": "stream",
     "text": [
      "zh (1232, 9)\n"
     ]
    },
    {
     "data": {
      "text/html": [
       "<div><style>\n",
       ".dataframe > thead > tr,\n",
       ".dataframe > tbody > tr {\n",
       "  text-align: right;\n",
       "  white-space: pre-wrap;\n",
       "}\n",
       "</style>\n",
       "<small>shape: (5, 9)</small><table border=\"1\" class=\"dataframe\"><thead><tr><th>key</th><th>part</th><th>book</th><th>chapter</th><th>verse</th><th>tok</th><th>cmn-cu89s</th><th>cmn-cu89t</th><th>cmnfeb</th></tr><tr><td>str</td><td>str</td><td>str</td><td>i64</td><td>i64</td><td>str</td><td>str</td><td>str</td><td>str</td></tr></thead><tbody><tr><td>&quot;genesis_1_1&quot;</td><td>&quot;old testament&quot;</td><td>&quot;genesis&quot;</td><td>1</td><td>1</td><td>&quot;open la, sewi Elowin li lon e …</td><td>&quot;起初，　神创造天地。&quot;</td><td>&quot;起初，上帝創造天地。&quot;</td><td>null</td></tr><tr><td>&quot;genesis_1_2&quot;</td><td>&quot;old testament&quot;</td><td>&quot;genesis&quot;</td><td>1</td><td>2</td><td>&quot;ma li nasa li ala. pimeja li l…</td><td>&quot;地是空虚混沌，渊面黑暗；　神的灵运行在水面上。&quot;</td><td>&quot;地是空虛混沌，淵面黑暗；上帝的靈運行在水面上。&quot;</td><td>null</td></tr><tr><td>&quot;genesis_1_3&quot;</td><td>&quot;old testament&quot;</td><td>&quot;genesis&quot;</td><td>1</td><td>3</td><td>&quot;sewi Elowin li toki. suno o lo…</td><td>&quot;神说：「要有光」，就有了光。&quot;</td><td>&quot;上帝說：「要有光」，就有了光。&quot;</td><td>null</td></tr><tr><td>&quot;genesis_1_4&quot;</td><td>&quot;old testament&quot;</td><td>&quot;genesis&quot;</td><td>1</td><td>4</td><td>&quot;sewi Elowin li lukin e suno: o…</td><td>&quot;神看光是好的，就把光暗分开了。&quot;</td><td>&quot;上帝看光是好的，就把光暗分開了。&quot;</td><td>null</td></tr><tr><td>&quot;genesis_1_5&quot;</td><td>&quot;old testament&quot;</td><td>&quot;genesis&quot;</td><td>1</td><td>5</td><td>&quot;sewi Elowin li nimi Tenpo Suno…</td><td>&quot;神称光为「昼」，称暗为「夜」。有晚上，有早晨，这是头一日。&quot;</td><td>&quot;上帝稱光為「晝」，稱暗為「夜」。有晚上，有早晨，這是頭一日。&quot;</td><td>null</td></tr></tbody></table></div>"
      ],
      "text/plain": [
       "shape: (5, 9)\n",
       "┌─────────────┬────────────┬─────────┬─────────┬───┬────────────┬────────────┬────────────┬────────┐\n",
       "│ key         ┆ part       ┆ book    ┆ chapter ┆ … ┆ tok        ┆ cmn-cu89s  ┆ cmn-cu89t  ┆ cmnfeb │\n",
       "│ ---         ┆ ---        ┆ ---     ┆ ---     ┆   ┆ ---        ┆ ---        ┆ ---        ┆ ---    │\n",
       "│ str         ┆ str        ┆ str     ┆ i64     ┆   ┆ str        ┆ str        ┆ str        ┆ str    │\n",
       "╞═════════════╪════════════╪═════════╪═════════╪═══╪════════════╪════════════╪════════════╪════════╡\n",
       "│ genesis_1_1 ┆ old        ┆ genesis ┆ 1       ┆ … ┆ open la,   ┆ 起初，　神 ┆ 起初，上帝 ┆ null   │\n",
       "│             ┆ testament  ┆         ┆         ┆   ┆ sewi       ┆ 创造天地。 ┆ 創造天地。 ┆        │\n",
       "│             ┆            ┆         ┆         ┆   ┆ Elowin li  ┆            ┆            ┆        │\n",
       "│             ┆            ┆         ┆         ┆   ┆ lon e …    ┆            ┆            ┆        │\n",
       "│ genesis_1_2 ┆ old        ┆ genesis ┆ 1       ┆ … ┆ ma li nasa ┆ 地是空虚混 ┆ 地是空虛混 ┆ null   │\n",
       "│             ┆ testament  ┆         ┆         ┆   ┆ li ala.    ┆ 沌，渊面黑 ┆ 沌，淵面黑 ┆        │\n",
       "│             ┆            ┆         ┆         ┆   ┆ pimeja li  ┆ 暗；　神的 ┆ 暗；上帝的 ┆        │\n",
       "│             ┆            ┆         ┆         ┆   ┆ l…         ┆ 灵运行在水 ┆ 靈運行在水 ┆        │\n",
       "│             ┆            ┆         ┆         ┆   ┆            ┆ 面上。     ┆ 面上。     ┆        │\n",
       "│ genesis_1_3 ┆ old        ┆ genesis ┆ 1       ┆ … ┆ sewi       ┆ 神说：「要 ┆ 上帝說：「 ┆ null   │\n",
       "│             ┆ testament  ┆         ┆         ┆   ┆ Elowin li  ┆ 有光」，就 ┆ 要有光」， ┆        │\n",
       "│             ┆            ┆         ┆         ┆   ┆ toki. suno ┆ 有了光。   ┆ 就有了光。 ┆        │\n",
       "│             ┆            ┆         ┆         ┆   ┆ o lo…      ┆            ┆            ┆        │\n",
       "│ genesis_1_4 ┆ old        ┆ genesis ┆ 1       ┆ … ┆ sewi       ┆ 神看光是好 ┆ 上帝看光是 ┆ null   │\n",
       "│             ┆ testament  ┆         ┆         ┆   ┆ Elowin li  ┆ 的，就把光 ┆ 好的，就把 ┆        │\n",
       "│             ┆            ┆         ┆         ┆   ┆ lukin e    ┆ 暗分开了。 ┆ 光暗分開了 ┆        │\n",
       "│             ┆            ┆         ┆         ┆   ┆ suno: o…   ┆            ┆ 。         ┆        │\n",
       "│ genesis_1_5 ┆ old        ┆ genesis ┆ 1       ┆ … ┆ sewi       ┆ 神称光为「 ┆ 上帝稱光為 ┆ null   │\n",
       "│             ┆ testament  ┆         ┆         ┆   ┆ Elowin li  ┆ 昼」，称暗 ┆ 「晝」，稱 ┆        │\n",
       "│             ┆            ┆         ┆         ┆   ┆ nimi Tenpo ┆ 为「夜」。 ┆ 暗為「夜」 ┆        │\n",
       "│             ┆            ┆         ┆         ┆   ┆ Suno…      ┆ 有晚上，有 ┆ 。有晚上， ┆        │\n",
       "│             ┆            ┆         ┆         ┆   ┆            ┆ 早晨，这是 ┆ 有早晨，這 ┆        │\n",
       "│             ┆            ┆         ┆         ┆   ┆            ┆ 头一日。   ┆ 是頭一日。 ┆        │\n",
       "└─────────────┴────────────┴─────────┴─────────┴───┴────────────┴────────────┴────────────┴────────┘"
      ]
     },
     "metadata": {},
     "output_type": "display_data"
    },
    {
     "name": "stdout",
     "output_type": "stream",
     "text": [
      "ko (1232, 7)\n"
     ]
    },
    {
     "data": {
      "text/html": [
       "<div><style>\n",
       ".dataframe > thead > tr,\n",
       ".dataframe > tbody > tr {\n",
       "  text-align: right;\n",
       "  white-space: pre-wrap;\n",
       "}\n",
       "</style>\n",
       "<small>shape: (5, 7)</small><table border=\"1\" class=\"dataframe\"><thead><tr><th>key</th><th>part</th><th>book</th><th>chapter</th><th>verse</th><th>tok</th><th>kor</th></tr><tr><td>str</td><td>str</td><td>str</td><td>i64</td><td>i64</td><td>str</td><td>str</td></tr></thead><tbody><tr><td>&quot;genesis_1_1&quot;</td><td>&quot;old testament&quot;</td><td>&quot;genesis&quot;</td><td>1</td><td>1</td><td>&quot;open la, sewi Elowin li lon e …</td><td>&quot;태초에 하나님이 천지를 창조하시니라&quot;</td></tr><tr><td>&quot;genesis_1_2&quot;</td><td>&quot;old testament&quot;</td><td>&quot;genesis&quot;</td><td>1</td><td>2</td><td>&quot;ma li nasa li ala. pimeja li l…</td><td>&quot;땅이 혼돈하고 공허하며 흑암이 깊음 위에 있고 하나님의…</td></tr><tr><td>&quot;genesis_1_3&quot;</td><td>&quot;old testament&quot;</td><td>&quot;genesis&quot;</td><td>1</td><td>3</td><td>&quot;sewi Elowin li toki. suno o lo…</td><td>&quot;하나님이 가라사대 빛이 있으라 하시매 빛이 있었고&quot;</td></tr><tr><td>&quot;genesis_1_4&quot;</td><td>&quot;old testament&quot;</td><td>&quot;genesis&quot;</td><td>1</td><td>4</td><td>&quot;sewi Elowin li lukin e suno: o…</td><td>&quot;그 빛이 하나님의 보시기에 좋았더라 하나님이 빛과 어두…</td></tr><tr><td>&quot;genesis_1_5&quot;</td><td>&quot;old testament&quot;</td><td>&quot;genesis&quot;</td><td>1</td><td>5</td><td>&quot;sewi Elowin li nimi Tenpo Suno…</td><td>&quot;빛을 낮이라 칭하시고 어두움을 밤이라 칭하시니라 저녁이…</td></tr></tbody></table></div>"
      ],
      "text/plain": [
       "shape: (5, 7)\n",
       "┌─────────────┬───────────────┬─────────┬─────────┬───────┬────────────────────┬───────────────────┐\n",
       "│ key         ┆ part          ┆ book    ┆ chapter ┆ verse ┆ tok                ┆ kor               │\n",
       "│ ---         ┆ ---           ┆ ---     ┆ ---     ┆ ---   ┆ ---                ┆ ---               │\n",
       "│ str         ┆ str           ┆ str     ┆ i64     ┆ i64   ┆ str                ┆ str               │\n",
       "╞═════════════╪═══════════════╪═════════╪═════════╪═══════╪════════════════════╪═══════════════════╡\n",
       "│ genesis_1_1 ┆ old testament ┆ genesis ┆ 1       ┆ 1     ┆ open la, sewi      ┆ 태초에 하나님이   │\n",
       "│             ┆               ┆         ┆         ┆       ┆ Elowin li lon e …  ┆ 천지를            │\n",
       "│             ┆               ┆         ┆         ┆       ┆                    ┆ 창조하시니라      │\n",
       "│ genesis_1_2 ┆ old testament ┆ genesis ┆ 1       ┆ 2     ┆ ma li nasa li ala. ┆ 땅이 혼돈하고     │\n",
       "│             ┆               ┆         ┆         ┆       ┆ pimeja li l…       ┆ 공허하며 흑암이   │\n",
       "│             ┆               ┆         ┆         ┆       ┆                    ┆ 깊음 위에 있고    │\n",
       "│             ┆               ┆         ┆         ┆       ┆                    ┆ 하나님의…         │\n",
       "│ genesis_1_3 ┆ old testament ┆ genesis ┆ 1       ┆ 3     ┆ sewi Elowin li     ┆ 하나님이 가라사대 │\n",
       "│             ┆               ┆         ┆         ┆       ┆ toki. suno o lo…   ┆ 빛이 있으라       │\n",
       "│             ┆               ┆         ┆         ┆       ┆                    ┆ 하시매 빛이       │\n",
       "│             ┆               ┆         ┆         ┆       ┆                    ┆ 있었고            │\n",
       "│ genesis_1_4 ┆ old testament ┆ genesis ┆ 1       ┆ 4     ┆ sewi Elowin li     ┆ 그 빛이 하나님의  │\n",
       "│             ┆               ┆         ┆         ┆       ┆ lukin e suno: o…   ┆ 보시기에 좋았더라 │\n",
       "│             ┆               ┆         ┆         ┆       ┆                    ┆ 하나님이 빛과     │\n",
       "│             ┆               ┆         ┆         ┆       ┆                    ┆ 어두…             │\n",
       "│ genesis_1_5 ┆ old testament ┆ genesis ┆ 1       ┆ 5     ┆ sewi Elowin li     ┆ 빛을 낮이라       │\n",
       "│             ┆               ┆         ┆         ┆       ┆ nimi Tenpo Suno…   ┆ 칭하시고 어두움을 │\n",
       "│             ┆               ┆         ┆         ┆       ┆                    ┆ 밤이라 칭하시니라 │\n",
       "│             ┆               ┆         ┆         ┆       ┆                    ┆ 저녁이…           │\n",
       "└─────────────┴───────────────┴─────────┴─────────┴───────┴────────────────────┴───────────────────┘"
      ]
     },
     "metadata": {},
     "output_type": "display_data"
    },
    {
     "name": "stdout",
     "output_type": "stream",
     "text": [
      "ar (1232, 8)\n"
     ]
    },
    {
     "data": {
      "text/html": [
       "<div><style>\n",
       ".dataframe > thead > tr,\n",
       ".dataframe > tbody > tr {\n",
       "  text-align: right;\n",
       "  white-space: pre-wrap;\n",
       "}\n",
       "</style>\n",
       "<small>shape: (5, 8)</small><table border=\"1\" class=\"dataframe\"><thead><tr><th>key</th><th>part</th><th>book</th><th>chapter</th><th>verse</th><th>tok</th><th>arb-vd</th><th>arbnav</th></tr><tr><td>str</td><td>str</td><td>str</td><td>i64</td><td>i64</td><td>str</td><td>str</td><td>str</td></tr></thead><tbody><tr><td>&quot;genesis_1_1&quot;</td><td>&quot;old testament&quot;</td><td>&quot;genesis&quot;</td><td>1</td><td>1</td><td>&quot;open la, sewi Elowin li lon e …</td><td>&quot;فِي ٱلْبَدْءِ خَلَقَ ٱللهُ ٱلس…</td><td>&quot;فِي الْبَدْءِ خَلَقَ اللهُ الس…</td></tr><tr><td>&quot;genesis_1_2&quot;</td><td>&quot;old testament&quot;</td><td>&quot;genesis&quot;</td><td>1</td><td>2</td><td>&quot;ma li nasa li ala. pimeja li l…</td><td>&quot;وَكَانَتِ ٱلْأَرْضُ خَرِبَةً و…</td><td>&quot;وَإِذْ كَانَتِ الأَرْضُ مُشَوَ…</td></tr><tr><td>&quot;genesis_1_3&quot;</td><td>&quot;old testament&quot;</td><td>&quot;genesis&quot;</td><td>1</td><td>3</td><td>&quot;sewi Elowin li toki. suno o lo…</td><td>&quot;وَقَالَ ٱللهُ: «لِيَكُنْ نُورٌ…</td><td>&quot;أَمَرَ اللهُ: «لِيَكُنْ نُورٌ»…</td></tr><tr><td>&quot;genesis_1_4&quot;</td><td>&quot;old testament&quot;</td><td>&quot;genesis&quot;</td><td>1</td><td>4</td><td>&quot;sewi Elowin li lukin e suno: o…</td><td>&quot;وَرَأَى ٱللهُ ٱلنُّورَ أَنَّهُ…</td><td>&quot;وَرَأَى اللهُ النُّورَ فَاسْتَ…</td></tr><tr><td>&quot;genesis_1_5&quot;</td><td>&quot;old testament&quot;</td><td>&quot;genesis&quot;</td><td>1</td><td>5</td><td>&quot;sewi Elowin li nimi Tenpo Suno…</td><td>&quot;وَدَعَا ٱللهُ ٱلنُّورَ نَهَارً…</td><td>&quot;وَسَمَّى اللهُ النُّورَ نَهَار…</td></tr></tbody></table></div>"
      ],
      "text/plain": [
       "shape: (5, 8)\n",
       "┌─────────────┬──────────────┬─────────┬─────────┬───────┬─────────────┬─────────────┬─────────────┐\n",
       "│ key         ┆ part         ┆ book    ┆ chapter ┆ verse ┆ tok         ┆ arb-vd      ┆ arbnav      │\n",
       "│ ---         ┆ ---          ┆ ---     ┆ ---     ┆ ---   ┆ ---         ┆ ---         ┆ ---         │\n",
       "│ str         ┆ str          ┆ str     ┆ i64     ┆ i64   ┆ str         ┆ str         ┆ str         │\n",
       "╞═════════════╪══════════════╪═════════╪═════════╪═══════╪═════════════╪═════════════╪═════════════╡\n",
       "│ genesis_1_1 ┆ old          ┆ genesis ┆ 1       ┆ 1     ┆ open la,    ┆ فِي ٱلْبَدْءِ    ┆ فِي الْبَدْءِ    │\n",
       "│             ┆ testament    ┆         ┆         ┆       ┆ sewi Elowin ┆ خَلَقَ ٱللهُ    ┆ خَلَقَ اللهُ    │\n",
       "│             ┆              ┆         ┆         ┆       ┆ li lon e …  ┆ ٱلس…        ┆ الس…        │\n",
       "│ genesis_1_2 ┆ old          ┆ genesis ┆ 1       ┆ 2     ┆ ma li nasa  ┆ وَكَانَتِ ٱلْأَرْضُ  ┆ وَإِذْ كَانَتِ    │\n",
       "│             ┆ testament    ┆         ┆         ┆       ┆ li ala.     ┆ خَرِبَةً و…     ┆ الأَرْضُ مُشَوَ…   │\n",
       "│             ┆              ┆         ┆         ┆       ┆ pimeja li   ┆             ┆             │\n",
       "│             ┆              ┆         ┆         ┆       ┆ l…          ┆             ┆             │\n",
       "│ genesis_1_3 ┆ old          ┆ genesis ┆ 1       ┆ 3     ┆ sewi Elowin ┆ وَقَالَ ٱللهُ:  ┆ أَمَرَ اللهُ:   │\n",
       "│             ┆ testament    ┆         ┆         ┆       ┆ li toki.    ┆ «لِيَكُنْ نُورٌ…  ┆ «لِيَكُنْ نُورٌ»… │\n",
       "│             ┆              ┆         ┆         ┆       ┆ suno o lo…  ┆             ┆             │\n",
       "│ genesis_1_4 ┆ old          ┆ genesis ┆ 1       ┆ 4     ┆ sewi Elowin ┆ وَرَأَى ٱللهُ   ┆ وَرَأَى اللهُ   │\n",
       "│             ┆ testament    ┆         ┆         ┆       ┆ li lukin e  ┆ ٱلنُّورَ أَنَّهُ…  ┆ النُّورَ فَاسْتَ… │\n",
       "│             ┆              ┆         ┆         ┆       ┆ suno: o…    ┆             ┆             │\n",
       "│ genesis_1_5 ┆ old          ┆ genesis ┆ 1       ┆ 5     ┆ sewi Elowin ┆ وَدَعَا ٱللهُ   ┆ وَسَمَّى اللهُ   │\n",
       "│             ┆ testament    ┆         ┆         ┆       ┆ li nimi     ┆ ٱلنُّورَ نَهَارً… ┆ النُّورَ نَهَار… │\n",
       "│             ┆              ┆         ┆         ┆       ┆ Tenpo Suno… ┆             ┆             │\n",
       "└─────────────┴──────────────┴─────────┴─────────┴───────┴─────────────┴─────────────┴─────────────┘"
      ]
     },
     "metadata": {},
     "output_type": "display_data"
    },
    {
     "name": "stdout",
     "output_type": "stream",
     "text": [
      "he (1232, 10)\n"
     ]
    },
    {
     "data": {
      "text/html": [
       "<div><style>\n",
       ".dataframe > thead > tr,\n",
       ".dataframe > tbody > tr {\n",
       "  text-align: right;\n",
       "  white-space: pre-wrap;\n",
       "}\n",
       "</style>\n",
       "<small>shape: (5, 10)</small><table border=\"1\" class=\"dataframe\"><thead><tr><th>key</th><th>part</th><th>book</th><th>chapter</th><th>verse</th><th>tok</th><th>heb</th><th>heblb</th><th>hbo</th><th>hboWLC</th></tr><tr><td>str</td><td>str</td><td>str</td><td>i64</td><td>i64</td><td>str</td><td>str</td><td>str</td><td>str</td><td>str</td></tr></thead><tbody><tr><td>&quot;genesis_1_1&quot;</td><td>&quot;old testament&quot;</td><td>&quot;genesis&quot;</td><td>1</td><td>1</td><td>&quot;open la, sewi Elowin li lon e …</td><td>&quot;בראשית ברא אלהים את השמים ואת …</td><td>null</td><td>&quot;בְּרֵאשִׁ֖ית בָּרָ֣א אֱלֹהִ֑ים…</td><td>&quot;בְּרֵאשִׁ֖ית בָּרָ֣א אֱלֹהִ֑ים…</td></tr><tr><td>&quot;genesis_1_2&quot;</td><td>&quot;old testament&quot;</td><td>&quot;genesis&quot;</td><td>1</td><td>2</td><td>&quot;ma li nasa li ala. pimeja li l…</td><td>&quot;והארץ היתה תהו ובהו וחשך על פנ…</td><td>null</td><td>&quot;וְהָאָ֗רֶץ הָיְתָ֥ה תֹ֙הוּ֙ וָ…</td><td>&quot;וְהָאָ֗רֶץ הָיְתָ֥ה תֹ֙הוּ֙ וָ…</td></tr><tr><td>&quot;genesis_1_3&quot;</td><td>&quot;old testament&quot;</td><td>&quot;genesis&quot;</td><td>1</td><td>3</td><td>&quot;sewi Elowin li toki. suno o lo…</td><td>&quot;ויאמר אלהים יהי אור ויהי אור׃&quot;</td><td>null</td><td>&quot;וַיֹּ֥אמֶר אֱלֹהִ֖ים יְהִ֣י אֹ…</td><td>&quot;וַיֹּ֥אמֶר אֱלֹהִ֖ים יְהִ֣י א֑…</td></tr><tr><td>&quot;genesis_1_4&quot;</td><td>&quot;old testament&quot;</td><td>&quot;genesis&quot;</td><td>1</td><td>4</td><td>&quot;sewi Elowin li lukin e suno: o…</td><td>&quot;וירא אלהים את האור כי טוב ויבד…</td><td>null</td><td>&quot;וַיַּ֧רְא אֱלֹהִ֛ים אֶת־הָאֹ֖ו…</td><td>&quot;וַיַּ֧רְא אֱלֹהִ֛ים אֶת־הָא֖וֹ…</td></tr><tr><td>&quot;genesis_1_5&quot;</td><td>&quot;old testament&quot;</td><td>&quot;genesis&quot;</td><td>1</td><td>5</td><td>&quot;sewi Elowin li nimi Tenpo Suno…</td><td>&quot;ויקרא אלהים לאור יום ולחשך קרא…</td><td>null</td><td>&quot;וַיִּקְרָ֨א אֱלֹהִ֤ים ׀ לָאֹור…</td><td>&quot;וַיִּקְרָ֨א אֱלֹהִ֤ים ׀ לָאוֹר…</td></tr></tbody></table></div>"
      ],
      "text/plain": [
       "shape: (5, 10)\n",
       "┌─────────────┬─────────────┬─────────┬─────────┬───┬────────────┬───────┬────────────┬────────────┐\n",
       "│ key         ┆ part        ┆ book    ┆ chapter ┆ … ┆ heb        ┆ heblb ┆ hbo        ┆ hboWLC     │\n",
       "│ ---         ┆ ---         ┆ ---     ┆ ---     ┆   ┆ ---        ┆ ---   ┆ ---        ┆ ---        │\n",
       "│ str         ┆ str         ┆ str     ┆ i64     ┆   ┆ str        ┆ str   ┆ str        ┆ str        │\n",
       "╞═════════════╪═════════════╪═════════╪═════════╪═══╪════════════╪═══════╪════════════╪════════════╡\n",
       "│ genesis_1_1 ┆ old         ┆ genesis ┆ 1       ┆ … ┆ בראשית ברא ┆ null  ┆ בְּרֵאשִׁ֖ית בָּרָ֣א ┆ בְּרֵאשִׁ֖ית בָּרָ֣א │\n",
       "│             ┆ testament   ┆         ┆         ┆   ┆ אלהים את   ┆       ┆ אֱלֹהִ֑ים…     ┆ אֱלֹהִ֑ים…     │\n",
       "│             ┆             ┆         ┆         ┆   ┆ השמים ואת  ┆       ┆            ┆            │\n",
       "│             ┆             ┆         ┆         ┆   ┆ …          ┆       ┆            ┆            │\n",
       "│ genesis_1_2 ┆ old         ┆ genesis ┆ 1       ┆ … ┆ והארץ היתה ┆ null  ┆ וְהָאָ֗רֶץ הָיְתָ֥ה ┆ וְהָאָ֗רֶץ הָיְתָ֥ה │\n",
       "│             ┆ testament   ┆         ┆         ┆   ┆ תהו ובהו   ┆       ┆ תֹ֙הוּ֙ וָ…     ┆ תֹ֙הוּ֙ וָ…     │\n",
       "│             ┆             ┆         ┆         ┆   ┆ וחשך על    ┆       ┆            ┆            │\n",
       "│             ┆             ┆         ┆         ┆   ┆ פנ…        ┆       ┆            ┆            │\n",
       "│ genesis_1_3 ┆ old         ┆ genesis ┆ 1       ┆ … ┆ ויאמר      ┆ null  ┆ וַיֹּ֥אמֶר      ┆ וַיֹּ֥אמֶר      │\n",
       "│             ┆ testament   ┆         ┆         ┆   ┆ אלהים יהי  ┆       ┆ אֱלֹהִ֖ים יְהִ֣י  ┆ אֱלֹהִ֖ים יְהִ֣י  │\n",
       "│             ┆             ┆         ┆         ┆   ┆ אור ויהי   ┆       ┆ אֹ…         ┆ א֑…         │\n",
       "│             ┆             ┆         ┆         ┆   ┆ אור׃       ┆       ┆            ┆            │\n",
       "│ genesis_1_4 ┆ old         ┆ genesis ┆ 1       ┆ … ┆ וירא אלהים ┆ null  ┆ וַיַּ֧רְא אֱלֹהִ֛ים ┆ וַיַּ֧רְא אֱלֹהִ֛ים │\n",
       "│             ┆ testament   ┆         ┆         ┆   ┆ את האור כי ┆       ┆ אֶת־הָאֹ֖ו…    ┆ אֶת־הָא֖וֹ…    │\n",
       "│             ┆             ┆         ┆         ┆   ┆ טוב ויבד…  ┆       ┆            ┆            │\n",
       "│ genesis_1_5 ┆ old         ┆ genesis ┆ 1       ┆ … ┆ ויקרא      ┆ null  ┆ וַיִּקְרָ֨א      ┆ וַיִּקְרָ֨א      │\n",
       "│             ┆ testament   ┆         ┆         ┆   ┆ אלהים לאור ┆       ┆ אֱלֹהִ֤ים ׀    ┆ אֱלֹהִ֤ים ׀    │\n",
       "│             ┆             ┆         ┆         ┆   ┆ יום ולחשך  ┆       ┆ לָאֹור…      ┆ לָאוֹר…      │\n",
       "│             ┆             ┆         ┆         ┆   ┆ קרא…       ┆       ┆            ┆            │\n",
       "└─────────────┴─────────────┴─────────┴─────────┴───┴────────────┴───────┴────────────┴────────────┘"
      ]
     },
     "metadata": {},
     "output_type": "display_data"
    },
    {
     "name": "stdout",
     "output_type": "stream",
     "text": [
      "pl (1232, 8)\n"
     ]
    },
    {
     "data": {
      "text/html": [
       "<div><style>\n",
       ".dataframe > thead > tr,\n",
       ".dataframe > tbody > tr {\n",
       "  text-align: right;\n",
       "  white-space: pre-wrap;\n",
       "}\n",
       "</style>\n",
       "<small>shape: (5, 8)</small><table border=\"1\" class=\"dataframe\"><thead><tr><th>key</th><th>part</th><th>book</th><th>chapter</th><th>verse</th><th>tok</th><th>polsz</th><th>polubg</th></tr><tr><td>str</td><td>str</td><td>str</td><td>i64</td><td>i64</td><td>str</td><td>str</td><td>str</td></tr></thead><tbody><tr><td>&quot;genesis_1_1&quot;</td><td>&quot;old testament&quot;</td><td>&quot;genesis&quot;</td><td>1</td><td>1</td><td>&quot;open la, sewi Elowin li lon e …</td><td>null</td><td>&quot;Na początku Bóg stworzył niebo…</td></tr><tr><td>&quot;genesis_1_2&quot;</td><td>&quot;old testament&quot;</td><td>&quot;genesis&quot;</td><td>1</td><td>2</td><td>&quot;ma li nasa li ala. pimeja li l…</td><td>null</td><td>&quot;A ziemia była bezkształtna i p…</td></tr><tr><td>&quot;genesis_1_3&quot;</td><td>&quot;old testament&quot;</td><td>&quot;genesis&quot;</td><td>1</td><td>3</td><td>&quot;sewi Elowin li toki. suno o lo…</td><td>null</td><td>&quot;I Bóg powiedział: Niech stanie…</td></tr><tr><td>&quot;genesis_1_4&quot;</td><td>&quot;old testament&quot;</td><td>&quot;genesis&quot;</td><td>1</td><td>4</td><td>&quot;sewi Elowin li lukin e suno: o…</td><td>null</td><td>&quot;Bóg widział, że światłość była…</td></tr><tr><td>&quot;genesis_1_5&quot;</td><td>&quot;old testament&quot;</td><td>&quot;genesis&quot;</td><td>1</td><td>5</td><td>&quot;sewi Elowin li nimi Tenpo Suno…</td><td>null</td><td>&quot;I nazwał Bóg światłość dniem, …</td></tr></tbody></table></div>"
      ],
      "text/plain": [
       "shape: (5, 8)\n",
       "┌─────────────┬───────────────┬─────────┬─────────┬───────┬────────────────┬───────┬───────────────┐\n",
       "│ key         ┆ part          ┆ book    ┆ chapter ┆ verse ┆ tok            ┆ polsz ┆ polubg        │\n",
       "│ ---         ┆ ---           ┆ ---     ┆ ---     ┆ ---   ┆ ---            ┆ ---   ┆ ---           │\n",
       "│ str         ┆ str           ┆ str     ┆ i64     ┆ i64   ┆ str            ┆ str   ┆ str           │\n",
       "╞═════════════╪═══════════════╪═════════╪═════════╪═══════╪════════════════╪═══════╪═══════════════╡\n",
       "│ genesis_1_1 ┆ old testament ┆ genesis ┆ 1       ┆ 1     ┆ open la, sewi  ┆ null  ┆ Na początku   │\n",
       "│             ┆               ┆         ┆         ┆       ┆ Elowin li lon  ┆       ┆ Bóg stworzył  │\n",
       "│             ┆               ┆         ┆         ┆       ┆ e …            ┆       ┆ niebo…        │\n",
       "│ genesis_1_2 ┆ old testament ┆ genesis ┆ 1       ┆ 2     ┆ ma li nasa li  ┆ null  ┆ A ziemia była │\n",
       "│             ┆               ┆         ┆         ┆       ┆ ala. pimeja li ┆       ┆ bezkształtna  │\n",
       "│             ┆               ┆         ┆         ┆       ┆ l…             ┆       ┆ i p…          │\n",
       "│ genesis_1_3 ┆ old testament ┆ genesis ┆ 1       ┆ 3     ┆ sewi Elowin li ┆ null  ┆ I Bóg         │\n",
       "│             ┆               ┆         ┆         ┆       ┆ toki. suno o   ┆       ┆ powiedział:   │\n",
       "│             ┆               ┆         ┆         ┆       ┆ lo…            ┆       ┆ Niech stanie… │\n",
       "│ genesis_1_4 ┆ old testament ┆ genesis ┆ 1       ┆ 4     ┆ sewi Elowin li ┆ null  ┆ Bóg widział,  │\n",
       "│             ┆               ┆         ┆         ┆       ┆ lukin e suno:  ┆       ┆ że światłość  │\n",
       "│             ┆               ┆         ┆         ┆       ┆ o…             ┆       ┆ była…         │\n",
       "│ genesis_1_5 ┆ old testament ┆ genesis ┆ 1       ┆ 5     ┆ sewi Elowin li ┆ null  ┆ I nazwał Bóg  │\n",
       "│             ┆               ┆         ┆         ┆       ┆ nimi Tenpo     ┆       ┆ światłość     │\n",
       "│             ┆               ┆         ┆         ┆       ┆ Suno…          ┆       ┆ dniem, …      │\n",
       "└─────────────┴───────────────┴─────────┴─────────┴───────┴────────────────┴───────┴───────────────┘"
      ]
     },
     "metadata": {},
     "output_type": "display_data"
    },
    {
     "name": "stdout",
     "output_type": "stream",
     "text": [
      "tr (1232, 8)\n"
     ]
    },
    {
     "data": {
      "text/html": [
       "<div><style>\n",
       ".dataframe > thead > tr,\n",
       ".dataframe > tbody > tr {\n",
       "  text-align: right;\n",
       "  white-space: pre-wrap;\n",
       "}\n",
       "</style>\n",
       "<small>shape: (5, 8)</small><table border=\"1\" class=\"dataframe\"><thead><tr><th>key</th><th>part</th><th>book</th><th>chapter</th><th>verse</th><th>tok</th><th>turobt</th><th>turytc</th></tr><tr><td>str</td><td>str</td><td>str</td><td>i64</td><td>i64</td><td>str</td><td>str</td><td>str</td></tr></thead><tbody><tr><td>&quot;genesis_1_1&quot;</td><td>&quot;old testament&quot;</td><td>&quot;genesis&quot;</td><td>1</td><td>1</td><td>&quot;open la, sewi Elowin li lon e …</td><td>null</td><td>&quot;Başlangıçta Tanrı gökleri ve y…</td></tr><tr><td>&quot;genesis_1_2&quot;</td><td>&quot;old testament&quot;</td><td>&quot;genesis&quot;</td><td>1</td><td>2</td><td>&quot;ma li nasa li ala. pimeja li l…</td><td>null</td><td>&quot;Yer biçimsiz ve boştu. Derinli…</td></tr><tr><td>&quot;genesis_1_3&quot;</td><td>&quot;old testament&quot;</td><td>&quot;genesis&quot;</td><td>1</td><td>3</td><td>&quot;sewi Elowin li toki. suno o lo…</td><td>null</td><td>&quot;Tanrı, “Işık olsun” dedi ve ış…</td></tr><tr><td>&quot;genesis_1_4&quot;</td><td>&quot;old testament&quot;</td><td>&quot;genesis&quot;</td><td>1</td><td>4</td><td>&quot;sewi Elowin li lukin e suno: o…</td><td>null</td><td>&quot;Tanrı ışığın iyi olduğunu görd…</td></tr><tr><td>&quot;genesis_1_5&quot;</td><td>&quot;old testament&quot;</td><td>&quot;genesis&quot;</td><td>1</td><td>5</td><td>&quot;sewi Elowin li nimi Tenpo Suno…</td><td>null</td><td>&quot;Işığa “gündüz”, karanlığa “gec…</td></tr></tbody></table></div>"
      ],
      "text/plain": [
       "shape: (5, 8)\n",
       "┌─────────────┬───────────────┬─────────┬─────────┬───────┬───────────────┬────────┬───────────────┐\n",
       "│ key         ┆ part          ┆ book    ┆ chapter ┆ verse ┆ tok           ┆ turobt ┆ turytc        │\n",
       "│ ---         ┆ ---           ┆ ---     ┆ ---     ┆ ---   ┆ ---           ┆ ---    ┆ ---           │\n",
       "│ str         ┆ str           ┆ str     ┆ i64     ┆ i64   ┆ str           ┆ str    ┆ str           │\n",
       "╞═════════════╪═══════════════╪═════════╪═════════╪═══════╪═══════════════╪════════╪═══════════════╡\n",
       "│ genesis_1_1 ┆ old testament ┆ genesis ┆ 1       ┆ 1     ┆ open la, sewi ┆ null   ┆ Başlangıçta   │\n",
       "│             ┆               ┆         ┆         ┆       ┆ Elowin li lon ┆        ┆ Tanrı gökleri │\n",
       "│             ┆               ┆         ┆         ┆       ┆ e …           ┆        ┆ ve y…         │\n",
       "│ genesis_1_2 ┆ old testament ┆ genesis ┆ 1       ┆ 2     ┆ ma li nasa li ┆ null   ┆ Yer biçimsiz  │\n",
       "│             ┆               ┆         ┆         ┆       ┆ ala. pimeja   ┆        ┆ ve boştu.     │\n",
       "│             ┆               ┆         ┆         ┆       ┆ li l…         ┆        ┆ Derinli…      │\n",
       "│ genesis_1_3 ┆ old testament ┆ genesis ┆ 1       ┆ 3     ┆ sewi Elowin   ┆ null   ┆ Tanrı, “Işık  │\n",
       "│             ┆               ┆         ┆         ┆       ┆ li toki. suno ┆        ┆ olsun” dedi   │\n",
       "│             ┆               ┆         ┆         ┆       ┆ o lo…         ┆        ┆ ve ış…        │\n",
       "│ genesis_1_4 ┆ old testament ┆ genesis ┆ 1       ┆ 4     ┆ sewi Elowin   ┆ null   ┆ Tanrı ışığın  │\n",
       "│             ┆               ┆         ┆         ┆       ┆ li lukin e    ┆        ┆ iyi olduğunu  │\n",
       "│             ┆               ┆         ┆         ┆       ┆ suno: o…      ┆        ┆ görd…         │\n",
       "│ genesis_1_5 ┆ old testament ┆ genesis ┆ 1       ┆ 5     ┆ sewi Elowin   ┆ null   ┆ Işığa         │\n",
       "│             ┆               ┆         ┆         ┆       ┆ li nimi Tenpo ┆        ┆ “gündüz”,     │\n",
       "│             ┆               ┆         ┆         ┆       ┆ Suno…         ┆        ┆ karanlığa     │\n",
       "│             ┆               ┆         ┆         ┆       ┆               ┆        ┆ “gec…         │\n",
       "└─────────────┴───────────────┴─────────┴─────────┴───────┴───────────────┴────────┴───────────────┘"
      ]
     },
     "metadata": {},
     "output_type": "display_data"
    },
    {
     "name": "stdout",
     "output_type": "stream",
     "text": [
      "la (1232, 7)\n"
     ]
    },
    {
     "data": {
      "text/html": [
       "<div><style>\n",
       ".dataframe > thead > tr,\n",
       ".dataframe > tbody > tr {\n",
       "  text-align: right;\n",
       "  white-space: pre-wrap;\n",
       "}\n",
       "</style>\n",
       "<small>shape: (5, 7)</small><table border=\"1\" class=\"dataframe\"><thead><tr><th>key</th><th>part</th><th>book</th><th>chapter</th><th>verse</th><th>tok</th><th>latVUC</th></tr><tr><td>str</td><td>str</td><td>str</td><td>i64</td><td>i64</td><td>str</td><td>str</td></tr></thead><tbody><tr><td>&quot;genesis_1_1&quot;</td><td>&quot;old testament&quot;</td><td>&quot;genesis&quot;</td><td>1</td><td>1</td><td>&quot;open la, sewi Elowin li lon e …</td><td>&quot;In principio creavit Deus cælu…</td></tr><tr><td>&quot;genesis_1_2&quot;</td><td>&quot;old testament&quot;</td><td>&quot;genesis&quot;</td><td>1</td><td>2</td><td>&quot;ma li nasa li ala. pimeja li l…</td><td>&quot;Terra autem erat inanis et vac…</td></tr><tr><td>&quot;genesis_1_3&quot;</td><td>&quot;old testament&quot;</td><td>&quot;genesis&quot;</td><td>1</td><td>3</td><td>&quot;sewi Elowin li toki. suno o lo…</td><td>&quot;Dixitque Deus: Fiat lux. Et fa…</td></tr><tr><td>&quot;genesis_1_4&quot;</td><td>&quot;old testament&quot;</td><td>&quot;genesis&quot;</td><td>1</td><td>4</td><td>&quot;sewi Elowin li lukin e suno: o…</td><td>&quot;Et vidit Deus lucem quod esset…</td></tr><tr><td>&quot;genesis_1_5&quot;</td><td>&quot;old testament&quot;</td><td>&quot;genesis&quot;</td><td>1</td><td>5</td><td>&quot;sewi Elowin li nimi Tenpo Suno…</td><td>&quot;Appellavitque lucem Diem, et t…</td></tr></tbody></table></div>"
      ],
      "text/plain": [
       "shape: (5, 7)\n",
       "┌─────────────┬───────────────┬─────────┬─────────┬───────┬────────────────────┬───────────────────┐\n",
       "│ key         ┆ part          ┆ book    ┆ chapter ┆ verse ┆ tok                ┆ latVUC            │\n",
       "│ ---         ┆ ---           ┆ ---     ┆ ---     ┆ ---   ┆ ---                ┆ ---               │\n",
       "│ str         ┆ str           ┆ str     ┆ i64     ┆ i64   ┆ str                ┆ str               │\n",
       "╞═════════════╪═══════════════╪═════════╪═════════╪═══════╪════════════════════╪═══════════════════╡\n",
       "│ genesis_1_1 ┆ old testament ┆ genesis ┆ 1       ┆ 1     ┆ open la, sewi      ┆ In principio      │\n",
       "│             ┆               ┆         ┆         ┆       ┆ Elowin li lon e …  ┆ creavit Deus      │\n",
       "│             ┆               ┆         ┆         ┆       ┆                    ┆ cælu…             │\n",
       "│ genesis_1_2 ┆ old testament ┆ genesis ┆ 1       ┆ 2     ┆ ma li nasa li ala. ┆ Terra autem erat  │\n",
       "│             ┆               ┆         ┆         ┆       ┆ pimeja li l…       ┆ inanis et vac…    │\n",
       "│ genesis_1_3 ┆ old testament ┆ genesis ┆ 1       ┆ 3     ┆ sewi Elowin li     ┆ Dixitque Deus:    │\n",
       "│             ┆               ┆         ┆         ┆       ┆ toki. suno o lo…   ┆ Fiat lux. Et fa…  │\n",
       "│ genesis_1_4 ┆ old testament ┆ genesis ┆ 1       ┆ 4     ┆ sewi Elowin li     ┆ Et vidit Deus     │\n",
       "│             ┆               ┆         ┆         ┆       ┆ lukin e suno: o…   ┆ lucem quod esset… │\n",
       "│ genesis_1_5 ┆ old testament ┆ genesis ┆ 1       ┆ 5     ┆ sewi Elowin li     ┆ Appellavitque     │\n",
       "│             ┆               ┆         ┆         ┆       ┆ nimi Tenpo Suno…   ┆ lucem Diem, et t… │\n",
       "└─────────────┴───────────────┴─────────┴─────────┴───────┴────────────────────┴───────────────────┘"
      ]
     },
     "metadata": {},
     "output_type": "display_data"
    },
    {
     "name": "stdout",
     "output_type": "stream",
     "text": [
      "el (1232, 14)\n"
     ]
    },
    {
     "data": {
      "text/html": [
       "<div><style>\n",
       ".dataframe > thead > tr,\n",
       ".dataframe > tbody > tr {\n",
       "  text-align: right;\n",
       "  white-space: pre-wrap;\n",
       "}\n",
       "</style>\n",
       "<small>shape: (5, 14)</small><table border=\"1\" class=\"dataframe\"><thead><tr><th>key</th><th>part</th><th>book</th><th>chapter</th><th>verse</th><th>tok</th><th>grc-tisch</th><th>grcbrent</th><th>grcbyz</th><th>grcf35</th><th>grcmt</th><th>grcsr</th><th>grctcgnt</th><th>grctr</th></tr><tr><td>str</td><td>str</td><td>str</td><td>i64</td><td>i64</td><td>str</td><td>str</td><td>str</td><td>str</td><td>str</td><td>str</td><td>str</td><td>str</td><td>str</td></tr></thead><tbody><tr><td>&quot;genesis_1_1&quot;</td><td>&quot;old testament&quot;</td><td>&quot;genesis&quot;</td><td>1</td><td>1</td><td>&quot;open la, sewi Elowin li lon e …</td><td>null</td><td>&quot;ἘΝ ἀρχῇ ἐποίησεν ὁ Θεὸς τὸν οὐ…</td><td>null</td><td>null</td><td>null</td><td>null</td><td>null</td><td>null</td></tr><tr><td>&quot;genesis_1_2&quot;</td><td>&quot;old testament&quot;</td><td>&quot;genesis&quot;</td><td>1</td><td>2</td><td>&quot;ma li nasa li ala. pimeja li l…</td><td>null</td><td>&quot;Ἡ δὲ γῆ ἦν ἀόρατος καὶ ἀκατασκ…</td><td>null</td><td>null</td><td>null</td><td>null</td><td>null</td><td>null</td></tr><tr><td>&quot;genesis_1_3&quot;</td><td>&quot;old testament&quot;</td><td>&quot;genesis&quot;</td><td>1</td><td>3</td><td>&quot;sewi Elowin li toki. suno o lo…</td><td>null</td><td>&quot;Καὶ εἶπεν ὁ Θεὸς, γενηθήτω φῶς…</td><td>null</td><td>null</td><td>null</td><td>null</td><td>null</td><td>null</td></tr><tr><td>&quot;genesis_1_4&quot;</td><td>&quot;old testament&quot;</td><td>&quot;genesis&quot;</td><td>1</td><td>4</td><td>&quot;sewi Elowin li lukin e suno: o…</td><td>null</td><td>&quot;Καὶ εἶδεν ὁ Θεὸς τὸ φῶς, ὅτι κ…</td><td>null</td><td>null</td><td>null</td><td>null</td><td>null</td><td>null</td></tr><tr><td>&quot;genesis_1_5&quot;</td><td>&quot;old testament&quot;</td><td>&quot;genesis&quot;</td><td>1</td><td>5</td><td>&quot;sewi Elowin li nimi Tenpo Suno…</td><td>null</td><td>&quot;Καὶ ἐκάλεσεν ὁ Θεὸς τὸ φῶς ἡμέ…</td><td>null</td><td>null</td><td>null</td><td>null</td><td>null</td><td>null</td></tr></tbody></table></div>"
      ],
      "text/plain": [
       "shape: (5, 14)\n",
       "┌─────────────┬───────────────┬─────────┬─────────┬───┬───────┬───────┬──────────┬───────┐\n",
       "│ key         ┆ part          ┆ book    ┆ chapter ┆ … ┆ grcmt ┆ grcsr ┆ grctcgnt ┆ grctr │\n",
       "│ ---         ┆ ---           ┆ ---     ┆ ---     ┆   ┆ ---   ┆ ---   ┆ ---      ┆ ---   │\n",
       "│ str         ┆ str           ┆ str     ┆ i64     ┆   ┆ str   ┆ str   ┆ str      ┆ str   │\n",
       "╞═════════════╪═══════════════╪═════════╪═════════╪═══╪═══════╪═══════╪══════════╪═══════╡\n",
       "│ genesis_1_1 ┆ old testament ┆ genesis ┆ 1       ┆ … ┆ null  ┆ null  ┆ null     ┆ null  │\n",
       "│ genesis_1_2 ┆ old testament ┆ genesis ┆ 1       ┆ … ┆ null  ┆ null  ┆ null     ┆ null  │\n",
       "│ genesis_1_3 ┆ old testament ┆ genesis ┆ 1       ┆ … ┆ null  ┆ null  ┆ null     ┆ null  │\n",
       "│ genesis_1_4 ┆ old testament ┆ genesis ┆ 1       ┆ … ┆ null  ┆ null  ┆ null     ┆ null  │\n",
       "│ genesis_1_5 ┆ old testament ┆ genesis ┆ 1       ┆ … ┆ null  ┆ null  ┆ null     ┆ null  │\n",
       "└─────────────┴───────────────┴─────────┴─────────┴───┴───────┴───────┴──────────┴───────┘"
      ]
     },
     "metadata": {},
     "output_type": "display_data"
    }
   ],
   "source": [
    "cols = {\n",
    "    \"en\": [\"engfbv\", \"eng-asv\", \"eng-web\", \"eng-web-c\"],\n",
    "    \"ru\": [\"russyn\"],\n",
    "    \"uk\": [\"ukronpu\", \"ukr1871\", \"ukr1996\", \"ukrfb\"],\n",
    "    \"be\": [\"bel\", \"beln\"],\n",
    "    \"fr\": [\"fra_fob\", \"fraLSG\", \"francl\", \"frasbl\"],\n",
    "    \"es\": [\"spabes\", \"spablm\", \"spapddpt\", \"spaRV1909\", \"sparvg\", \"spav1602p\", \"spavbl\"],\n",
    "    \"pt\": [\"porblt\", \"porbr2018\", \"porbrbsl\", \"portft\"],\n",
    "    \"it\": [\"ita1885\", \"ita1927\"],\n",
    "    \"de\": [\"deu1912\", \"deu1951\", \"deuelbbk\", \"deuelo\", \"deutkw\"],\n",
    "    \"vi\": [\"vie1934\", \"vieovcb\"],\n",
    "    \"ja\": [\"jpn1965\"],\n",
    "    \"zh\": [\"cmn-cu89s\", \"cmn-cu89t\", \"cmnfeb\"],\n",
    "    \"ko\": [\"kor\"],\n",
    "    \"ar\": [\"arb-vd\", \"arbnav\"],\n",
    "    \"he\": [\"heb\", \"heblb\", \"hbo\", \"hboWLC\"],\n",
    "    \"pl\": [\"polsz\", \"polubg\"],\n",
    "    \"tr\": [\"turobt\", \"turytc\"],\n",
    "    \"la\": [\"latVUC\"],\n",
    "    \"el\": [\"grc-tisch\", \"grcbrent\", \"grcbyz\", \"grcf35\", \"grcmt\", \"grcsr\", \"grctcgnt\", \"grctr\"],\n",
    "}\n",
    "\n",
    "dfs = {}\n",
    "for lang in cols.keys():\n",
    "    tmp_df = joined[[\"key\", \"part\", \"book\", \"chapter\", \"verse\", \"tok\"] + cols[lang]]\n",
    "    dfs[lang] = tmp_df\n",
    "    print(lang, tmp_df.shape)\n",
    "    display(tmp_df.head())"
   ]
  },
  {
   "cell_type": "code",
   "execution_count": 10,
   "id": "76d997ba",
   "metadata": {},
   "outputs": [
    {
     "name": "stdout",
     "output_type": "stream",
     "text": [
      "en\n"
     ]
    },
    {
     "data": {
      "text/html": [
       "<div><style>\n",
       ".dataframe > thead > tr,\n",
       ".dataframe > tbody > tr {\n",
       "  text-align: right;\n",
       "  white-space: pre-wrap;\n",
       "}\n",
       "</style>\n",
       "<small>shape: (1, 10)</small><table border=\"1\" class=\"dataframe\"><thead><tr><th>key</th><th>part</th><th>book</th><th>chapter</th><th>verse</th><th>tok</th><th>engfbv</th><th>eng-asv</th><th>eng-web</th><th>eng-web-c</th></tr><tr><td>u32</td><td>u32</td><td>u32</td><td>u32</td><td>u32</td><td>u32</td><td>u32</td><td>u32</td><td>u32</td><td>u32</td></tr></thead><tbody><tr><td>0</td><td>0</td><td>0</td><td>0</td><td>0</td><td>0</td><td>98</td><td>99</td><td>96</td><td>163</td></tr></tbody></table></div>"
      ],
      "text/plain": [
       "shape: (1, 10)\n",
       "┌─────┬──────┬──────┬─────────┬───┬────────┬─────────┬─────────┬───────────┐\n",
       "│ key ┆ part ┆ book ┆ chapter ┆ … ┆ engfbv ┆ eng-asv ┆ eng-web ┆ eng-web-c │\n",
       "│ --- ┆ ---  ┆ ---  ┆ ---     ┆   ┆ ---    ┆ ---     ┆ ---     ┆ ---       │\n",
       "│ u32 ┆ u32  ┆ u32  ┆ u32     ┆   ┆ u32    ┆ u32     ┆ u32     ┆ u32       │\n",
       "╞═════╪══════╪══════╪═════════╪═══╪════════╪═════════╪═════════╪═══════════╡\n",
       "│ 0   ┆ 0    ┆ 0    ┆ 0       ┆ … ┆ 98     ┆ 99      ┆ 96      ┆ 163       │\n",
       "└─────┴──────┴──────┴─────────┴───┴────────┴─────────┴─────────┴───────────┘"
      ]
     },
     "metadata": {},
     "output_type": "display_data"
    },
    {
     "name": "stdout",
     "output_type": "stream",
     "text": [
      "ru\n"
     ]
    },
    {
     "data": {
      "text/html": [
       "<div><style>\n",
       ".dataframe > thead > tr,\n",
       ".dataframe > tbody > tr {\n",
       "  text-align: right;\n",
       "  white-space: pre-wrap;\n",
       "}\n",
       "</style>\n",
       "<small>shape: (1, 7)</small><table border=\"1\" class=\"dataframe\"><thead><tr><th>key</th><th>part</th><th>book</th><th>chapter</th><th>verse</th><th>tok</th><th>russyn</th></tr><tr><td>u32</td><td>u32</td><td>u32</td><td>u32</td><td>u32</td><td>u32</td><td>u32</td></tr></thead><tbody><tr><td>0</td><td>0</td><td>0</td><td>0</td><td>0</td><td>0</td><td>393</td></tr></tbody></table></div>"
      ],
      "text/plain": [
       "shape: (1, 7)\n",
       "┌─────┬──────┬──────┬─────────┬───────┬─────┬────────┐\n",
       "│ key ┆ part ┆ book ┆ chapter ┆ verse ┆ tok ┆ russyn │\n",
       "│ --- ┆ ---  ┆ ---  ┆ ---     ┆ ---   ┆ --- ┆ ---    │\n",
       "│ u32 ┆ u32  ┆ u32  ┆ u32     ┆ u32   ┆ u32 ┆ u32    │\n",
       "╞═════╪══════╪══════╪═════════╪═══════╪═════╪════════╡\n",
       "│ 0   ┆ 0    ┆ 0    ┆ 0       ┆ 0     ┆ 0   ┆ 393    │\n",
       "└─────┴──────┴──────┴─────────┴───────┴─────┴────────┘"
      ]
     },
     "metadata": {},
     "output_type": "display_data"
    },
    {
     "name": "stdout",
     "output_type": "stream",
     "text": [
      "uk\n"
     ]
    },
    {
     "data": {
      "text/html": [
       "<div><style>\n",
       ".dataframe > thead > tr,\n",
       ".dataframe > tbody > tr {\n",
       "  text-align: right;\n",
       "  white-space: pre-wrap;\n",
       "}\n",
       "</style>\n",
       "<small>shape: (1, 10)</small><table border=\"1\" class=\"dataframe\"><thead><tr><th>key</th><th>part</th><th>book</th><th>chapter</th><th>verse</th><th>tok</th><th>ukronpu</th><th>ukr1871</th><th>ukr1996</th><th>ukrfb</th></tr><tr><td>u32</td><td>u32</td><td>u32</td><td>u32</td><td>u32</td><td>u32</td><td>u32</td><td>u32</td><td>u32</td><td>u32</td></tr></thead><tbody><tr><td>0</td><td>0</td><td>0</td><td>0</td><td>0</td><td>0</td><td>854</td><td>102</td><td>102</td><td>102</td></tr></tbody></table></div>"
      ],
      "text/plain": [
       "shape: (1, 10)\n",
       "┌─────┬──────┬──────┬─────────┬───┬─────────┬─────────┬─────────┬───────┐\n",
       "│ key ┆ part ┆ book ┆ chapter ┆ … ┆ ukronpu ┆ ukr1871 ┆ ukr1996 ┆ ukrfb │\n",
       "│ --- ┆ ---  ┆ ---  ┆ ---     ┆   ┆ ---     ┆ ---     ┆ ---     ┆ ---   │\n",
       "│ u32 ┆ u32  ┆ u32  ┆ u32     ┆   ┆ u32     ┆ u32     ┆ u32     ┆ u32   │\n",
       "╞═════╪══════╪══════╪═════════╪═══╪═════════╪═════════╪═════════╪═══════╡\n",
       "│ 0   ┆ 0    ┆ 0    ┆ 0       ┆ … ┆ 854     ┆ 102     ┆ 102     ┆ 102   │\n",
       "└─────┴──────┴──────┴─────────┴───┴─────────┴─────────┴─────────┴───────┘"
      ]
     },
     "metadata": {},
     "output_type": "display_data"
    },
    {
     "name": "stdout",
     "output_type": "stream",
     "text": [
      "be\n"
     ]
    },
    {
     "data": {
      "text/html": [
       "<div><style>\n",
       ".dataframe > thead > tr,\n",
       ".dataframe > tbody > tr {\n",
       "  text-align: right;\n",
       "  white-space: pre-wrap;\n",
       "}\n",
       "</style>\n",
       "<small>shape: (1, 8)</small><table border=\"1\" class=\"dataframe\"><thead><tr><th>key</th><th>part</th><th>book</th><th>chapter</th><th>verse</th><th>tok</th><th>bel</th><th>beln</th></tr><tr><td>u32</td><td>u32</td><td>u32</td><td>u32</td><td>u32</td><td>u32</td><td>u32</td><td>u32</td></tr></thead><tbody><tr><td>0</td><td>0</td><td>0</td><td>0</td><td>0</td><td>0</td><td>91</td><td>734</td></tr></tbody></table></div>"
      ],
      "text/plain": [
       "shape: (1, 8)\n",
       "┌─────┬──────┬──────┬─────────┬───────┬─────┬─────┬──────┐\n",
       "│ key ┆ part ┆ book ┆ chapter ┆ verse ┆ tok ┆ bel ┆ beln │\n",
       "│ --- ┆ ---  ┆ ---  ┆ ---     ┆ ---   ┆ --- ┆ --- ┆ ---  │\n",
       "│ u32 ┆ u32  ┆ u32  ┆ u32     ┆ u32   ┆ u32 ┆ u32 ┆ u32  │\n",
       "╞═════╪══════╪══════╪═════════╪═══════╪═════╪═════╪══════╡\n",
       "│ 0   ┆ 0    ┆ 0    ┆ 0       ┆ 0     ┆ 0   ┆ 91  ┆ 734  │\n",
       "└─────┴──────┴──────┴─────────┴───────┴─────┴─────┴──────┘"
      ]
     },
     "metadata": {},
     "output_type": "display_data"
    },
    {
     "name": "stdout",
     "output_type": "stream",
     "text": [
      "fr\n"
     ]
    },
    {
     "data": {
      "text/html": [
       "<div><style>\n",
       ".dataframe > thead > tr,\n",
       ".dataframe > tbody > tr {\n",
       "  text-align: right;\n",
       "  white-space: pre-wrap;\n",
       "}\n",
       "</style>\n",
       "<small>shape: (1, 10)</small><table border=\"1\" class=\"dataframe\"><thead><tr><th>key</th><th>part</th><th>book</th><th>chapter</th><th>verse</th><th>tok</th><th>fra_fob</th><th>fraLSG</th><th>francl</th><th>frasbl</th></tr><tr><td>u32</td><td>u32</td><td>u32</td><td>u32</td><td>u32</td><td>u32</td><td>u32</td><td>u32</td><td>u32</td><td>u32</td></tr></thead><tbody><tr><td>0</td><td>0</td><td>0</td><td>0</td><td>0</td><td>0</td><td>98</td><td>99</td><td>87</td><td>96</td></tr></tbody></table></div>"
      ],
      "text/plain": [
       "shape: (1, 10)\n",
       "┌─────┬──────┬──────┬─────────┬───┬─────────┬────────┬────────┬────────┐\n",
       "│ key ┆ part ┆ book ┆ chapter ┆ … ┆ fra_fob ┆ fraLSG ┆ francl ┆ frasbl │\n",
       "│ --- ┆ ---  ┆ ---  ┆ ---     ┆   ┆ ---     ┆ ---    ┆ ---    ┆ ---    │\n",
       "│ u32 ┆ u32  ┆ u32  ┆ u32     ┆   ┆ u32     ┆ u32    ┆ u32    ┆ u32    │\n",
       "╞═════╪══════╪══════╪═════════╪═══╪═════════╪════════╪════════╪════════╡\n",
       "│ 0   ┆ 0    ┆ 0    ┆ 0       ┆ … ┆ 98      ┆ 99     ┆ 87     ┆ 96     │\n",
       "└─────┴──────┴──────┴─────────┴───┴─────────┴────────┴────────┴────────┘"
      ]
     },
     "metadata": {},
     "output_type": "display_data"
    },
    {
     "name": "stdout",
     "output_type": "stream",
     "text": [
      "es\n"
     ]
    },
    {
     "data": {
      "text/html": [
       "<div><style>\n",
       ".dataframe > thead > tr,\n",
       ".dataframe > tbody > tr {\n",
       "  text-align: right;\n",
       "  white-space: pre-wrap;\n",
       "}\n",
       "</style>\n",
       "<small>shape: (1, 13)</small><table border=\"1\" class=\"dataframe\"><thead><tr><th>key</th><th>part</th><th>book</th><th>chapter</th><th>verse</th><th>tok</th><th>spabes</th><th>spablm</th><th>spapddpt</th><th>spaRV1909</th><th>sparvg</th><th>spav1602p</th><th>spavbl</th></tr><tr><td>u32</td><td>u32</td><td>u32</td><td>u32</td><td>u32</td><td>u32</td><td>u32</td><td>u32</td><td>u32</td><td>u32</td><td>u32</td><td>u32</td><td>u32</td></tr></thead><tbody><tr><td>0</td><td>0</td><td>0</td><td>0</td><td>0</td><td>0</td><td>99</td><td>96</td><td>98</td><td>100</td><td>99</td><td>100</td><td>99</td></tr></tbody></table></div>"
      ],
      "text/plain": [
       "shape: (1, 13)\n",
       "┌─────┬──────┬──────┬─────────┬───┬───────────┬────────┬───────────┬────────┐\n",
       "│ key ┆ part ┆ book ┆ chapter ┆ … ┆ spaRV1909 ┆ sparvg ┆ spav1602p ┆ spavbl │\n",
       "│ --- ┆ ---  ┆ ---  ┆ ---     ┆   ┆ ---       ┆ ---    ┆ ---       ┆ ---    │\n",
       "│ u32 ┆ u32  ┆ u32  ┆ u32     ┆   ┆ u32       ┆ u32    ┆ u32       ┆ u32    │\n",
       "╞═════╪══════╪══════╪═════════╪═══╪═══════════╪════════╪═══════════╪════════╡\n",
       "│ 0   ┆ 0    ┆ 0    ┆ 0       ┆ … ┆ 100       ┆ 99     ┆ 100       ┆ 99     │\n",
       "└─────┴──────┴──────┴─────────┴───┴───────────┴────────┴───────────┴────────┘"
      ]
     },
     "metadata": {},
     "output_type": "display_data"
    },
    {
     "name": "stdout",
     "output_type": "stream",
     "text": [
      "pt\n"
     ]
    },
    {
     "data": {
      "text/html": [
       "<div><style>\n",
       ".dataframe > thead > tr,\n",
       ".dataframe > tbody > tr {\n",
       "  text-align: right;\n",
       "  white-space: pre-wrap;\n",
       "}\n",
       "</style>\n",
       "<small>shape: (1, 10)</small><table border=\"1\" class=\"dataframe\"><thead><tr><th>key</th><th>part</th><th>book</th><th>chapter</th><th>verse</th><th>tok</th><th>porblt</th><th>porbr2018</th><th>porbrbsl</th><th>portft</th></tr><tr><td>u32</td><td>u32</td><td>u32</td><td>u32</td><td>u32</td><td>u32</td><td>u32</td><td>u32</td><td>u32</td><td>u32</td></tr></thead><tbody><tr><td>0</td><td>0</td><td>0</td><td>0</td><td>0</td><td>0</td><td>1000</td><td>99</td><td>99</td><td>1000</td></tr></tbody></table></div>"
      ],
      "text/plain": [
       "shape: (1, 10)\n",
       "┌─────┬──────┬──────┬─────────┬───┬────────┬───────────┬──────────┬────────┐\n",
       "│ key ┆ part ┆ book ┆ chapter ┆ … ┆ porblt ┆ porbr2018 ┆ porbrbsl ┆ portft │\n",
       "│ --- ┆ ---  ┆ ---  ┆ ---     ┆   ┆ ---    ┆ ---       ┆ ---      ┆ ---    │\n",
       "│ u32 ┆ u32  ┆ u32  ┆ u32     ┆   ┆ u32    ┆ u32       ┆ u32      ┆ u32    │\n",
       "╞═════╪══════╪══════╪═════════╪═══╪════════╪═══════════╪══════════╪════════╡\n",
       "│ 0   ┆ 0    ┆ 0    ┆ 0       ┆ … ┆ 1000   ┆ 99        ┆ 99       ┆ 1000   │\n",
       "└─────┴──────┴──────┴─────────┴───┴────────┴───────────┴──────────┴────────┘"
      ]
     },
     "metadata": {},
     "output_type": "display_data"
    },
    {
     "name": "stdout",
     "output_type": "stream",
     "text": [
      "it\n"
     ]
    },
    {
     "data": {
      "text/html": [
       "<div><style>\n",
       ".dataframe > thead > tr,\n",
       ".dataframe > tbody > tr {\n",
       "  text-align: right;\n",
       "  white-space: pre-wrap;\n",
       "}\n",
       "</style>\n",
       "<small>shape: (1, 8)</small><table border=\"1\" class=\"dataframe\"><thead><tr><th>key</th><th>part</th><th>book</th><th>chapter</th><th>verse</th><th>tok</th><th>ita1885</th><th>ita1927</th></tr><tr><td>u32</td><td>u32</td><td>u32</td><td>u32</td><td>u32</td><td>u32</td><td>u32</td><td>u32</td></tr></thead><tbody><tr><td>0</td><td>0</td><td>0</td><td>0</td><td>0</td><td>0</td><td>99</td><td>99</td></tr></tbody></table></div>"
      ],
      "text/plain": [
       "shape: (1, 8)\n",
       "┌─────┬──────┬──────┬─────────┬───────┬─────┬─────────┬─────────┐\n",
       "│ key ┆ part ┆ book ┆ chapter ┆ verse ┆ tok ┆ ita1885 ┆ ita1927 │\n",
       "│ --- ┆ ---  ┆ ---  ┆ ---     ┆ ---   ┆ --- ┆ ---     ┆ ---     │\n",
       "│ u32 ┆ u32  ┆ u32  ┆ u32     ┆ u32   ┆ u32 ┆ u32     ┆ u32     │\n",
       "╞═════╪══════╪══════╪═════════╪═══════╪═════╪═════════╪═════════╡\n",
       "│ 0   ┆ 0    ┆ 0    ┆ 0       ┆ 0     ┆ 0   ┆ 99      ┆ 99      │\n",
       "└─────┴──────┴──────┴─────────┴───────┴─────┴─────────┴─────────┘"
      ]
     },
     "metadata": {},
     "output_type": "display_data"
    },
    {
     "name": "stdout",
     "output_type": "stream",
     "text": [
      "de\n"
     ]
    },
    {
     "data": {
      "text/html": [
       "<div><style>\n",
       ".dataframe > thead > tr,\n",
       ".dataframe > tbody > tr {\n",
       "  text-align: right;\n",
       "  white-space: pre-wrap;\n",
       "}\n",
       "</style>\n",
       "<small>shape: (1, 11)</small><table border=\"1\" class=\"dataframe\"><thead><tr><th>key</th><th>part</th><th>book</th><th>chapter</th><th>verse</th><th>tok</th><th>deu1912</th><th>deu1951</th><th>deuelbbk</th><th>deuelo</th><th>deutkw</th></tr><tr><td>u32</td><td>u32</td><td>u32</td><td>u32</td><td>u32</td><td>u32</td><td>u32</td><td>u32</td><td>u32</td><td>u32</td><td>u32</td></tr></thead><tbody><tr><td>0</td><td>0</td><td>0</td><td>0</td><td>0</td><td>0</td><td>99</td><td>99</td><td>90</td><td>99</td><td>91</td></tr></tbody></table></div>"
      ],
      "text/plain": [
       "shape: (1, 11)\n",
       "┌─────┬──────┬──────┬─────────┬───┬─────────┬──────────┬────────┬────────┐\n",
       "│ key ┆ part ┆ book ┆ chapter ┆ … ┆ deu1951 ┆ deuelbbk ┆ deuelo ┆ deutkw │\n",
       "│ --- ┆ ---  ┆ ---  ┆ ---     ┆   ┆ ---     ┆ ---      ┆ ---    ┆ ---    │\n",
       "│ u32 ┆ u32  ┆ u32  ┆ u32     ┆   ┆ u32     ┆ u32      ┆ u32    ┆ u32    │\n",
       "╞═════╪══════╪══════╪═════════╪═══╪═════════╪══════════╪════════╪════════╡\n",
       "│ 0   ┆ 0    ┆ 0    ┆ 0       ┆ … ┆ 99      ┆ 90       ┆ 99     ┆ 91     │\n",
       "└─────┴──────┴──────┴─────────┴───┴─────────┴──────────┴────────┴────────┘"
      ]
     },
     "metadata": {},
     "output_type": "display_data"
    },
    {
     "name": "stdout",
     "output_type": "stream",
     "text": [
      "vi\n"
     ]
    },
    {
     "data": {
      "text/html": [
       "<div><style>\n",
       ".dataframe > thead > tr,\n",
       ".dataframe > tbody > tr {\n",
       "  text-align: right;\n",
       "  white-space: pre-wrap;\n",
       "}\n",
       "</style>\n",
       "<small>shape: (1, 8)</small><table border=\"1\" class=\"dataframe\"><thead><tr><th>key</th><th>part</th><th>book</th><th>chapter</th><th>verse</th><th>tok</th><th>vie1934</th><th>vieovcb</th></tr><tr><td>u32</td><td>u32</td><td>u32</td><td>u32</td><td>u32</td><td>u32</td><td>u32</td><td>u32</td></tr></thead><tbody><tr><td>0</td><td>0</td><td>0</td><td>0</td><td>0</td><td>0</td><td>99</td><td>98</td></tr></tbody></table></div>"
      ],
      "text/plain": [
       "shape: (1, 8)\n",
       "┌─────┬──────┬──────┬─────────┬───────┬─────┬─────────┬─────────┐\n",
       "│ key ┆ part ┆ book ┆ chapter ┆ verse ┆ tok ┆ vie1934 ┆ vieovcb │\n",
       "│ --- ┆ ---  ┆ ---  ┆ ---     ┆ ---   ┆ --- ┆ ---     ┆ ---     │\n",
       "│ u32 ┆ u32  ┆ u32  ┆ u32     ┆ u32   ┆ u32 ┆ u32     ┆ u32     │\n",
       "╞═════╪══════╪══════╪═════════╪═══════╪═════╪═════════╪═════════╡\n",
       "│ 0   ┆ 0    ┆ 0    ┆ 0       ┆ 0     ┆ 0   ┆ 99      ┆ 98      │\n",
       "└─────┴──────┴──────┴─────────┴───────┴─────┴─────────┴─────────┘"
      ]
     },
     "metadata": {},
     "output_type": "display_data"
    },
    {
     "name": "stdout",
     "output_type": "stream",
     "text": [
      "ja\n"
     ]
    },
    {
     "data": {
      "text/html": [
       "<div><style>\n",
       ".dataframe > thead > tr,\n",
       ".dataframe > tbody > tr {\n",
       "  text-align: right;\n",
       "  white-space: pre-wrap;\n",
       "}\n",
       "</style>\n",
       "<small>shape: (1, 7)</small><table border=\"1\" class=\"dataframe\"><thead><tr><th>key</th><th>part</th><th>book</th><th>chapter</th><th>verse</th><th>tok</th><th>jpn1965</th></tr><tr><td>u32</td><td>u32</td><td>u32</td><td>u32</td><td>u32</td><td>u32</td><td>u32</td></tr></thead><tbody><tr><td>0</td><td>0</td><td>0</td><td>0</td><td>0</td><td>0</td><td>1000</td></tr></tbody></table></div>"
      ],
      "text/plain": [
       "shape: (1, 7)\n",
       "┌─────┬──────┬──────┬─────────┬───────┬─────┬─────────┐\n",
       "│ key ┆ part ┆ book ┆ chapter ┆ verse ┆ tok ┆ jpn1965 │\n",
       "│ --- ┆ ---  ┆ ---  ┆ ---     ┆ ---   ┆ --- ┆ ---     │\n",
       "│ u32 ┆ u32  ┆ u32  ┆ u32     ┆ u32   ┆ u32 ┆ u32     │\n",
       "╞═════╪══════╪══════╪═════════╪═══════╪═════╪═════════╡\n",
       "│ 0   ┆ 0    ┆ 0    ┆ 0       ┆ 0     ┆ 0   ┆ 1000    │\n",
       "└─────┴──────┴──────┴─────────┴───────┴─────┴─────────┘"
      ]
     },
     "metadata": {},
     "output_type": "display_data"
    },
    {
     "name": "stdout",
     "output_type": "stream",
     "text": [
      "zh\n"
     ]
    },
    {
     "data": {
      "text/html": [
       "<div><style>\n",
       ".dataframe > thead > tr,\n",
       ".dataframe > tbody > tr {\n",
       "  text-align: right;\n",
       "  white-space: pre-wrap;\n",
       "}\n",
       "</style>\n",
       "<small>shape: (1, 9)</small><table border=\"1\" class=\"dataframe\"><thead><tr><th>key</th><th>part</th><th>book</th><th>chapter</th><th>verse</th><th>tok</th><th>cmn-cu89s</th><th>cmn-cu89t</th><th>cmnfeb</th></tr><tr><td>u32</td><td>u32</td><td>u32</td><td>u32</td><td>u32</td><td>u32</td><td>u32</td><td>u32</td><td>u32</td></tr></thead><tbody><tr><td>0</td><td>0</td><td>0</td><td>0</td><td>0</td><td>0</td><td>98</td><td>98</td><td>1000</td></tr></tbody></table></div>"
      ],
      "text/plain": [
       "shape: (1, 9)\n",
       "┌─────┬──────┬──────┬─────────┬───┬─────┬───────────┬───────────┬────────┐\n",
       "│ key ┆ part ┆ book ┆ chapter ┆ … ┆ tok ┆ cmn-cu89s ┆ cmn-cu89t ┆ cmnfeb │\n",
       "│ --- ┆ ---  ┆ ---  ┆ ---     ┆   ┆ --- ┆ ---       ┆ ---       ┆ ---    │\n",
       "│ u32 ┆ u32  ┆ u32  ┆ u32     ┆   ┆ u32 ┆ u32       ┆ u32       ┆ u32    │\n",
       "╞═════╪══════╪══════╪═════════╪═══╪═════╪═══════════╪═══════════╪════════╡\n",
       "│ 0   ┆ 0    ┆ 0    ┆ 0       ┆ … ┆ 0   ┆ 98        ┆ 98        ┆ 1000   │\n",
       "└─────┴──────┴──────┴─────────┴───┴─────┴───────────┴───────────┴────────┘"
      ]
     },
     "metadata": {},
     "output_type": "display_data"
    },
    {
     "name": "stdout",
     "output_type": "stream",
     "text": [
      "ko\n"
     ]
    },
    {
     "data": {
      "text/html": [
       "<div><style>\n",
       ".dataframe > thead > tr,\n",
       ".dataframe > tbody > tr {\n",
       "  text-align: right;\n",
       "  white-space: pre-wrap;\n",
       "}\n",
       "</style>\n",
       "<small>shape: (1, 7)</small><table border=\"1\" class=\"dataframe\"><thead><tr><th>key</th><th>part</th><th>book</th><th>chapter</th><th>verse</th><th>tok</th><th>kor</th></tr><tr><td>u32</td><td>u32</td><td>u32</td><td>u32</td><td>u32</td><td>u32</td><td>u32</td></tr></thead><tbody><tr><td>0</td><td>0</td><td>0</td><td>0</td><td>0</td><td>0</td><td>100</td></tr></tbody></table></div>"
      ],
      "text/plain": [
       "shape: (1, 7)\n",
       "┌─────┬──────┬──────┬─────────┬───────┬─────┬─────┐\n",
       "│ key ┆ part ┆ book ┆ chapter ┆ verse ┆ tok ┆ kor │\n",
       "│ --- ┆ ---  ┆ ---  ┆ ---     ┆ ---   ┆ --- ┆ --- │\n",
       "│ u32 ┆ u32  ┆ u32  ┆ u32     ┆ u32   ┆ u32 ┆ u32 │\n",
       "╞═════╪══════╪══════╪═════════╪═══════╪═════╪═════╡\n",
       "│ 0   ┆ 0    ┆ 0    ┆ 0       ┆ 0     ┆ 0   ┆ 100 │\n",
       "└─────┴──────┴──────┴─────────┴───────┴─────┴─────┘"
      ]
     },
     "metadata": {},
     "output_type": "display_data"
    },
    {
     "name": "stdout",
     "output_type": "stream",
     "text": [
      "ar\n"
     ]
    },
    {
     "data": {
      "text/html": [
       "<div><style>\n",
       ".dataframe > thead > tr,\n",
       ".dataframe > tbody > tr {\n",
       "  text-align: right;\n",
       "  white-space: pre-wrap;\n",
       "}\n",
       "</style>\n",
       "<small>shape: (1, 8)</small><table border=\"1\" class=\"dataframe\"><thead><tr><th>key</th><th>part</th><th>book</th><th>chapter</th><th>verse</th><th>tok</th><th>arb-vd</th><th>arbnav</th></tr><tr><td>u32</td><td>u32</td><td>u32</td><td>u32</td><td>u32</td><td>u32</td><td>u32</td><td>u32</td></tr></thead><tbody><tr><td>0</td><td>0</td><td>0</td><td>0</td><td>0</td><td>0</td><td>98</td><td>98</td></tr></tbody></table></div>"
      ],
      "text/plain": [
       "shape: (1, 8)\n",
       "┌─────┬──────┬──────┬─────────┬───────┬─────┬────────┬────────┐\n",
       "│ key ┆ part ┆ book ┆ chapter ┆ verse ┆ tok ┆ arb-vd ┆ arbnav │\n",
       "│ --- ┆ ---  ┆ ---  ┆ ---     ┆ ---   ┆ --- ┆ ---    ┆ ---    │\n",
       "│ u32 ┆ u32  ┆ u32  ┆ u32     ┆ u32   ┆ u32 ┆ u32    ┆ u32    │\n",
       "╞═════╪══════╪══════╪═════════╪═══════╪═════╪════════╪════════╡\n",
       "│ 0   ┆ 0    ┆ 0    ┆ 0       ┆ 0     ┆ 0   ┆ 98     ┆ 98     │\n",
       "└─────┴──────┴──────┴─────────┴───────┴─────┴────────┴────────┘"
      ]
     },
     "metadata": {},
     "output_type": "display_data"
    },
    {
     "name": "stdout",
     "output_type": "stream",
     "text": [
      "he\n"
     ]
    },
    {
     "data": {
      "text/html": [
       "<div><style>\n",
       ".dataframe > thead > tr,\n",
       ".dataframe > tbody > tr {\n",
       "  text-align: right;\n",
       "  white-space: pre-wrap;\n",
       "}\n",
       "</style>\n",
       "<small>shape: (1, 10)</small><table border=\"1\" class=\"dataframe\"><thead><tr><th>key</th><th>part</th><th>book</th><th>chapter</th><th>verse</th><th>tok</th><th>heb</th><th>heblb</th><th>hbo</th><th>hboWLC</th></tr><tr><td>u32</td><td>u32</td><td>u32</td><td>u32</td><td>u32</td><td>u32</td><td>u32</td><td>u32</td><td>u32</td><td>u32</td></tr></thead><tbody><tr><td>0</td><td>0</td><td>0</td><td>0</td><td>0</td><td>0</td><td>99</td><td>1000</td><td>322</td><td>322</td></tr></tbody></table></div>"
      ],
      "text/plain": [
       "shape: (1, 10)\n",
       "┌─────┬──────┬──────┬─────────┬───┬─────┬───────┬─────┬────────┐\n",
       "│ key ┆ part ┆ book ┆ chapter ┆ … ┆ heb ┆ heblb ┆ hbo ┆ hboWLC │\n",
       "│ --- ┆ ---  ┆ ---  ┆ ---     ┆   ┆ --- ┆ ---   ┆ --- ┆ ---    │\n",
       "│ u32 ┆ u32  ┆ u32  ┆ u32     ┆   ┆ u32 ┆ u32   ┆ u32 ┆ u32    │\n",
       "╞═════╪══════╪══════╪═════════╪═══╪═════╪═══════╪═════╪════════╡\n",
       "│ 0   ┆ 0    ┆ 0    ┆ 0       ┆ … ┆ 99  ┆ 1000  ┆ 322 ┆ 322    │\n",
       "└─────┴──────┴──────┴─────────┴───┴─────┴───────┴─────┴────────┘"
      ]
     },
     "metadata": {},
     "output_type": "display_data"
    },
    {
     "name": "stdout",
     "output_type": "stream",
     "text": [
      "pl\n"
     ]
    },
    {
     "data": {
      "text/html": [
       "<div><style>\n",
       ".dataframe > thead > tr,\n",
       ".dataframe > tbody > tr {\n",
       "  text-align: right;\n",
       "  white-space: pre-wrap;\n",
       "}\n",
       "</style>\n",
       "<small>shape: (1, 8)</small><table border=\"1\" class=\"dataframe\"><thead><tr><th>key</th><th>part</th><th>book</th><th>chapter</th><th>verse</th><th>tok</th><th>polsz</th><th>polubg</th></tr><tr><td>u32</td><td>u32</td><td>u32</td><td>u32</td><td>u32</td><td>u32</td><td>u32</td><td>u32</td></tr></thead><tbody><tr><td>0</td><td>0</td><td>0</td><td>0</td><td>0</td><td>0</td><td>1000</td><td>99</td></tr></tbody></table></div>"
      ],
      "text/plain": [
       "shape: (1, 8)\n",
       "┌─────┬──────┬──────┬─────────┬───────┬─────┬───────┬────────┐\n",
       "│ key ┆ part ┆ book ┆ chapter ┆ verse ┆ tok ┆ polsz ┆ polubg │\n",
       "│ --- ┆ ---  ┆ ---  ┆ ---     ┆ ---   ┆ --- ┆ ---   ┆ ---    │\n",
       "│ u32 ┆ u32  ┆ u32  ┆ u32     ┆ u32   ┆ u32 ┆ u32   ┆ u32    │\n",
       "╞═════╪══════╪══════╪═════════╪═══════╪═════╪═══════╪════════╡\n",
       "│ 0   ┆ 0    ┆ 0    ┆ 0       ┆ 0     ┆ 0   ┆ 1000  ┆ 99     │\n",
       "└─────┴──────┴──────┴─────────┴───────┴─────┴───────┴────────┘"
      ]
     },
     "metadata": {},
     "output_type": "display_data"
    },
    {
     "name": "stdout",
     "output_type": "stream",
     "text": [
      "tr\n"
     ]
    },
    {
     "data": {
      "text/html": [
       "<div><style>\n",
       ".dataframe > thead > tr,\n",
       ".dataframe > tbody > tr {\n",
       "  text-align: right;\n",
       "  white-space: pre-wrap;\n",
       "}\n",
       "</style>\n",
       "<small>shape: (1, 8)</small><table border=\"1\" class=\"dataframe\"><thead><tr><th>key</th><th>part</th><th>book</th><th>chapter</th><th>verse</th><th>tok</th><th>turobt</th><th>turytc</th></tr><tr><td>u32</td><td>u32</td><td>u32</td><td>u32</td><td>u32</td><td>u32</td><td>u32</td><td>u32</td></tr></thead><tbody><tr><td>0</td><td>0</td><td>0</td><td>0</td><td>0</td><td>0</td><td>1000</td><td>99</td></tr></tbody></table></div>"
      ],
      "text/plain": [
       "shape: (1, 8)\n",
       "┌─────┬──────┬──────┬─────────┬───────┬─────┬────────┬────────┐\n",
       "│ key ┆ part ┆ book ┆ chapter ┆ verse ┆ tok ┆ turobt ┆ turytc │\n",
       "│ --- ┆ ---  ┆ ---  ┆ ---     ┆ ---   ┆ --- ┆ ---    ┆ ---    │\n",
       "│ u32 ┆ u32  ┆ u32  ┆ u32     ┆ u32   ┆ u32 ┆ u32    ┆ u32    │\n",
       "╞═════╪══════╪══════╪═════════╪═══════╪═════╪════════╪════════╡\n",
       "│ 0   ┆ 0    ┆ 0    ┆ 0       ┆ 0     ┆ 0   ┆ 1000   ┆ 99     │\n",
       "└─────┴──────┴──────┴─────────┴───────┴─────┴────────┴────────┘"
      ]
     },
     "metadata": {},
     "output_type": "display_data"
    },
    {
     "name": "stdout",
     "output_type": "stream",
     "text": [
      "la\n"
     ]
    },
    {
     "data": {
      "text/html": [
       "<div><style>\n",
       ".dataframe > thead > tr,\n",
       ".dataframe > tbody > tr {\n",
       "  text-align: right;\n",
       "  white-space: pre-wrap;\n",
       "}\n",
       "</style>\n",
       "<small>shape: (1, 7)</small><table border=\"1\" class=\"dataframe\"><thead><tr><th>key</th><th>part</th><th>book</th><th>chapter</th><th>verse</th><th>tok</th><th>latVUC</th></tr><tr><td>u32</td><td>u32</td><td>u32</td><td>u32</td><td>u32</td><td>u32</td><td>u32</td></tr></thead><tbody><tr><td>0</td><td>0</td><td>0</td><td>0</td><td>0</td><td>0</td><td>393</td></tr></tbody></table></div>"
      ],
      "text/plain": [
       "shape: (1, 7)\n",
       "┌─────┬──────┬──────┬─────────┬───────┬─────┬────────┐\n",
       "│ key ┆ part ┆ book ┆ chapter ┆ verse ┆ tok ┆ latVUC │\n",
       "│ --- ┆ ---  ┆ ---  ┆ ---     ┆ ---   ┆ --- ┆ ---    │\n",
       "│ u32 ┆ u32  ┆ u32  ┆ u32     ┆ u32   ┆ u32 ┆ u32    │\n",
       "╞═════╪══════╪══════╪═════════╪═══════╪═════╪════════╡\n",
       "│ 0   ┆ 0    ┆ 0    ┆ 0       ┆ 0     ┆ 0   ┆ 393    │\n",
       "└─────┴──────┴──────┴─────────┴───────┴─────┴────────┘"
      ]
     },
     "metadata": {},
     "output_type": "display_data"
    },
    {
     "name": "stdout",
     "output_type": "stream",
     "text": [
      "el\n"
     ]
    },
    {
     "data": {
      "text/html": [
       "<div><style>\n",
       ".dataframe > thead > tr,\n",
       ".dataframe > tbody > tr {\n",
       "  text-align: right;\n",
       "  white-space: pre-wrap;\n",
       "}\n",
       "</style>\n",
       "<small>shape: (1, 14)</small><table border=\"1\" class=\"dataframe\"><thead><tr><th>key</th><th>part</th><th>book</th><th>chapter</th><th>verse</th><th>tok</th><th>grc-tisch</th><th>grcbrent</th><th>grcbyz</th><th>grcf35</th><th>grcmt</th><th>grcsr</th><th>grctcgnt</th><th>grctr</th></tr><tr><td>u32</td><td>u32</td><td>u32</td><td>u32</td><td>u32</td><td>u32</td><td>u32</td><td>u32</td><td>u32</td><td>u32</td><td>u32</td><td>u32</td><td>u32</td><td>u32</td></tr></thead><tbody><tr><td>0</td><td>0</td><td>0</td><td>0</td><td>0</td><td>0</td><td>1000</td><td>425</td><td>1000</td><td>1000</td><td>1001</td><td>1000</td><td>1001</td><td>1001</td></tr></tbody></table></div>"
      ],
      "text/plain": [
       "shape: (1, 14)\n",
       "┌─────┬──────┬──────┬─────────┬───┬───────┬───────┬──────────┬───────┐\n",
       "│ key ┆ part ┆ book ┆ chapter ┆ … ┆ grcmt ┆ grcsr ┆ grctcgnt ┆ grctr │\n",
       "│ --- ┆ ---  ┆ ---  ┆ ---     ┆   ┆ ---   ┆ ---   ┆ ---      ┆ ---   │\n",
       "│ u32 ┆ u32  ┆ u32  ┆ u32     ┆   ┆ u32   ┆ u32   ┆ u32      ┆ u32   │\n",
       "╞═════╪══════╪══════╪═════════╪═══╪═══════╪═══════╪══════════╪═══════╡\n",
       "│ 0   ┆ 0    ┆ 0    ┆ 0       ┆ … ┆ 1001  ┆ 1000  ┆ 1001     ┆ 1001  │\n",
       "└─────┴──────┴──────┴─────────┴───┴───────┴───────┴──────────┴───────┘"
      ]
     },
     "metadata": {},
     "output_type": "display_data"
    }
   ],
   "source": [
    "for lang, tmp_df in dfs.items():\n",
    "    print(lang)\n",
    "    display(tmp_df.null_count())"
   ]
  },
  {
   "cell_type": "code",
   "execution_count": 11,
   "id": "768432c2",
   "metadata": {},
   "outputs": [
    {
     "name": "stdout",
     "output_type": "stream",
     "text": [
      "(1232, 6)\n"
     ]
    },
    {
     "data": {
      "text/html": [
       "<div><style>\n",
       ".dataframe > thead > tr,\n",
       ".dataframe > tbody > tr {\n",
       "  text-align: right;\n",
       "  white-space: pre-wrap;\n",
       "}\n",
       "</style>\n",
       "<small>shape: (1, 6)</small><table border=\"1\" class=\"dataframe\"><thead><tr><th>key</th><th>part</th><th>book</th><th>chapter</th><th>verse</th><th>tok</th></tr><tr><td>u32</td><td>u32</td><td>u32</td><td>u32</td><td>u32</td><td>u32</td></tr></thead><tbody><tr><td>0</td><td>0</td><td>0</td><td>0</td><td>0</td><td>0</td></tr></tbody></table></div>"
      ],
      "text/plain": [
       "shape: (1, 6)\n",
       "┌─────┬──────┬──────┬─────────┬───────┬─────┐\n",
       "│ key ┆ part ┆ book ┆ chapter ┆ verse ┆ tok │\n",
       "│ --- ┆ ---  ┆ ---  ┆ ---     ┆ ---   ┆ --- │\n",
       "│ u32 ┆ u32  ┆ u32  ┆ u32     ┆ u32   ┆ u32 │\n",
       "╞═════╪══════╪══════╪═════════╪═══════╪═════╡\n",
       "│ 0   ┆ 0    ┆ 0    ┆ 0       ┆ 0     ┆ 0   │\n",
       "└─────┴──────┴──────┴─────────┴───────┴─────┘"
      ]
     },
     "execution_count": 11,
     "metadata": {},
     "output_type": "execute_result"
    }
   ],
   "source": [
    "tmp = joined[[\"key\", \"part\", \"book\", \"chapter\", \"verse\", \"tok\"]]\n",
    "print(tmp.shape)\n",
    "tmp.null_count()"
   ]
  },
  {
   "cell_type": "code",
   "execution_count": 12,
   "id": "beac60a0",
   "metadata": {},
   "outputs": [
    {
     "name": "stderr",
     "output_type": "stream",
     "text": [
      "100%|██████████| 19/19 [00:00<00:00, 353.10it/s]"
     ]
    },
    {
     "name": "stdout",
     "output_type": "stream",
     "text": [
      "(1232, 25)\n"
     ]
    },
    {
     "name": "stderr",
     "output_type": "stream",
     "text": [
      "\n"
     ]
    },
    {
     "data": {
      "text/html": [
       "<div><style>\n",
       ".dataframe > thead > tr,\n",
       ".dataframe > tbody > tr {\n",
       "  text-align: right;\n",
       "  white-space: pre-wrap;\n",
       "}\n",
       "</style>\n",
       "<small>shape: (5, 25)</small><table border=\"1\" class=\"dataframe\"><thead><tr><th>key</th><th>part</th><th>book</th><th>chapter</th><th>verse</th><th>tok</th><th>en</th><th>ru</th><th>uk</th><th>be</th><th>fr</th><th>es</th><th>pt</th><th>it</th><th>de</th><th>vi</th><th>ja</th><th>zh</th><th>ko</th><th>ar</th><th>he</th><th>pl</th><th>tr</th><th>la</th><th>el</th></tr><tr><td>str</td><td>str</td><td>str</td><td>i64</td><td>i64</td><td>str</td><td>str</td><td>str</td><td>str</td><td>str</td><td>str</td><td>str</td><td>str</td><td>str</td><td>str</td><td>str</td><td>str</td><td>str</td><td>str</td><td>str</td><td>str</td><td>str</td><td>str</td><td>str</td><td>str</td></tr></thead><tbody><tr><td>&quot;genesis_1_1&quot;</td><td>&quot;old testament&quot;</td><td>&quot;genesis&quot;</td><td>1</td><td>1</td><td>&quot;open la, sewi Elowin li lon e …</td><td>&quot;In the beginning God created t…</td><td>&quot;В начале сотворил Бог небо и з…</td><td>&quot;У початку сотворив Бог небо та…</td><td>&quot;На пачатку стварыў Бог неба і …</td><td>&quot;Au commencement, Dieu créa les…</td><td>&quot;Al principio Dios hizo el ciel…</td><td>&quot;No princípio criou Deus os céu…</td><td>&quot;NEL principio Iddio creò il ci…</td><td>&quot;Am Anfang schuf Gott Himmel un…</td><td>&quot;Ban đầu Đức Chúa Trời dựng nên…</td><td>null</td><td>&quot;起初，　神创造天地。&quot;</td><td>&quot;태초에 하나님이 천지를 창조하시니라&quot;</td><td>&quot;فِي ٱلْبَدْءِ خَلَقَ ٱللهُ ٱلس…</td><td>&quot;בראשית ברא אלהים את השמים ואת …</td><td>&quot;Na początku Bóg stworzył niebo…</td><td>&quot;Başlangıçta Tanrı gökleri ve y…</td><td>&quot;In principio creavit Deus cælu…</td><td>&quot;ἘΝ ἀρχῇ ἐποίησεν ὁ Θεὸς τὸν οὐ…</td></tr><tr><td>&quot;genesis_1_2&quot;</td><td>&quot;old testament&quot;</td><td>&quot;genesis&quot;</td><td>1</td><td>2</td><td>&quot;ma li nasa li ala. pimeja li l…</td><td>&quot;The earth was formless and emp…</td><td>&quot;Земля же была безвидна и пуста…</td><td>&quot;Земля ж була пуста і пустошня,…</td><td>&quot;А зямля была нябачная і пустая…</td><td>&quot;Or la terre était informe et v…</td><td>&quot;Y la tierra estaba desordenada…</td><td>&quot;E a terra estava desordenada e…</td><td>&quot;E la terra era una cosa desert…</td><td>&quot;Und die Erde war wüst und leer…</td><td>&quot;Vả, đất là vô hình và trống kh…</td><td>null</td><td>&quot;地是空虚混沌，渊面黑暗；　神的灵运行在水面上。&quot;</td><td>&quot;땅이 혼돈하고 공허하며 흑암이 깊음 위에 있고 하나님의…</td><td>&quot;وَكَانَتِ ٱلْأَرْضُ خَرِبَةً و…</td><td>&quot;והארץ היתה תהו ובהו וחשך על פנ…</td><td>&quot;A ziemia była bezkształtna i p…</td><td>&quot;Yer biçimsiz ve boştu. Derinli…</td><td>&quot;Terra autem erat inanis et vac…</td><td>&quot;Ἡ δὲ γῆ ἦν ἀόρατος καὶ ἀκατασκ…</td></tr><tr><td>&quot;genesis_1_3&quot;</td><td>&quot;old testament&quot;</td><td>&quot;genesis&quot;</td><td>1</td><td>3</td><td>&quot;sewi Elowin li toki. suno o lo…</td><td>&quot;God said, “Let there be light!…</td><td>&quot;И сказал Бог: да будет свет. И…</td><td>&quot;І рече Бог: Настань, сьвіте! І…</td><td>&quot;І сказаў Бог: хай будзе сьвятл…</td><td>&quot;Et Dieu dit: Que la lumière so…</td><td>&quot;Y dijo Dios: Hágase la luz, y …</td><td>&quot;E disse Deus: Haja luz; e houv…</td><td>&quot;E Iddio disse: Sia la luce. E …</td><td>&quot;Und Gott sprach: Es werde Lich…</td><td>&quot;Đức Chúa Trời phán rằng: Phải …</td><td>null</td><td>&quot;神说：「要有光」，就有了光。&quot;</td><td>&quot;하나님이 가라사대 빛이 있으라 하시매 빛이 있었고&quot;</td><td>&quot;وَقَالَ ٱللهُ: «لِيَكُنْ نُورٌ…</td><td>&quot;ויאמר אלהים יהי אור ויהי אור׃&quot;</td><td>&quot;I Bóg powiedział: Niech stanie…</td><td>&quot;Tanrı, “Işık olsun” dedi ve ış…</td><td>&quot;Dixitque Deus: Fiat lux. Et fa…</td><td>&quot;Καὶ εἶπεν ὁ Θεὸς, γενηθήτω φῶς…</td></tr><tr><td>&quot;genesis_1_4&quot;</td><td>&quot;old testament&quot;</td><td>&quot;genesis&quot;</td><td>1</td><td>4</td><td>&quot;sewi Elowin li lukin e suno: o…</td><td>&quot;God saw that the light was goo…</td><td>&quot;И увидел Бог свет, что он хоро…</td><td>&quot;І бачив Бог сьвіт, що воно доб…</td><td>&quot;І ўбачыў Бог сьвятло, што яно …</td><td>&quot;Et Dieu vit que la lumière éta…</td><td>&quot;Y mirando Dios a la luz, vio q…</td><td>&quot;E viu Deus que a luz era boa: …</td><td>&quot;E Iddio vide che la luce era b…</td><td>&quot;Und Gott sah, daß das Licht gu…</td><td>&quot;Đức Chúa Trời thấy sáng là tốt…</td><td>null</td><td>&quot;神看光是好的，就把光暗分开了。&quot;</td><td>&quot;그 빛이 하나님의 보시기에 좋았더라 하나님이 빛과 어두…</td><td>&quot;وَرَأَى ٱللهُ ٱلنُّورَ أَنَّهُ…</td><td>&quot;וירא אלהים את האור כי טוב ויבד…</td><td>&quot;Bóg widział, że światłość była…</td><td>&quot;Tanrı ışığın iyi olduğunu görd…</td><td>&quot;Et vidit Deus lucem quod esset…</td><td>&quot;Καὶ εἶδεν ὁ Θεὸς τὸ φῶς, ὅτι κ…</td></tr><tr><td>&quot;genesis_1_5&quot;</td><td>&quot;old testament&quot;</td><td>&quot;genesis&quot;</td><td>1</td><td>5</td><td>&quot;sewi Elowin li nimi Tenpo Suno…</td><td>&quot;God called the light “day,” an…</td><td>&quot;И назвал Бог свет днем, а тьму…</td><td>&quot;І назве Бог сьвіт день, а темр…</td><td>&quot;І назваў Бог сьвятло днём, а ц…</td><td>&quot;Et Dieu nomma la lumière, jour…</td><td>&quot;Nombrando la luz, el día y la …</td><td>&quot;E chamou Deus à luz Dia, e às …</td><td>&quot;E Iddio nominò la luce Giorno,…</td><td>&quot;und nannte das Licht Tag und d…</td><td>&quot;Đức Chúa Trời đặt tên sự sáng …</td><td>null</td><td>&quot;神称光为「昼」，称暗为「夜」。有晚上，有早晨，这是头一日。&quot;</td><td>&quot;빛을 낮이라 칭하시고 어두움을 밤이라 칭하시니라 저녁이…</td><td>&quot;وَدَعَا ٱللهُ ٱلنُّورَ نَهَارً…</td><td>&quot;ויקרא אלהים לאור יום ולחשך קרא…</td><td>&quot;I nazwał Bóg światłość dniem, …</td><td>&quot;Işığa “gündüz”, karanlığa “gec…</td><td>&quot;Appellavitque lucem Diem, et t…</td><td>&quot;Καὶ ἐκάλεσεν ὁ Θεὸς τὸ φῶς ἡμέ…</td></tr></tbody></table></div>"
      ],
      "text/plain": [
       "shape: (5, 25)\n",
       "┌────────────┬────────────┬─────────┬─────────┬───┬────────────┬───────────┬───────────┬───────────┐\n",
       "│ key        ┆ part       ┆ book    ┆ chapter ┆ … ┆ pl         ┆ tr        ┆ la        ┆ el        │\n",
       "│ ---        ┆ ---        ┆ ---     ┆ ---     ┆   ┆ ---        ┆ ---       ┆ ---       ┆ ---       │\n",
       "│ str        ┆ str        ┆ str     ┆ i64     ┆   ┆ str        ┆ str       ┆ str       ┆ str       │\n",
       "╞════════════╪════════════╪═════════╪═════════╪═══╪════════════╪═══════════╪═══════════╪═══════════╡\n",
       "│ genesis_1_ ┆ old        ┆ genesis ┆ 1       ┆ … ┆ Na         ┆ Başlangıç ┆ In        ┆ ἘΝ ἀρχῇ   │\n",
       "│ 1          ┆ testament  ┆         ┆         ┆   ┆ początku   ┆ ta Tanrı  ┆ principio ┆ ἐποίησεν  │\n",
       "│            ┆            ┆         ┆         ┆   ┆ Bóg        ┆ gökleri   ┆ creavit   ┆ ὁ Θεὸς    │\n",
       "│            ┆            ┆         ┆         ┆   ┆ stworzył   ┆ ve y…     ┆ Deus      ┆ τὸν οὐ…   │\n",
       "│            ┆            ┆         ┆         ┆   ┆ niebo…     ┆           ┆ cælu…     ┆           │\n",
       "│ genesis_1_ ┆ old        ┆ genesis ┆ 1       ┆ … ┆ A ziemia   ┆ Yer       ┆ Terra     ┆ Ἡ δὲ γῆ   │\n",
       "│ 2          ┆ testament  ┆         ┆         ┆   ┆ była bezks ┆ biçimsiz  ┆ autem     ┆ ἦν        │\n",
       "│            ┆            ┆         ┆         ┆   ┆ ztałtna i  ┆ ve boştu. ┆ erat      ┆ ἀόρατος   │\n",
       "│            ┆            ┆         ┆         ┆   ┆ p…         ┆ Derinli…  ┆ inanis et ┆ καὶ       │\n",
       "│            ┆            ┆         ┆         ┆   ┆            ┆           ┆ vac…      ┆ ἀκατασκ…  │\n",
       "│ genesis_1_ ┆ old        ┆ genesis ┆ 1       ┆ … ┆ I Bóg powi ┆ Tanrı,    ┆ Dixitque  ┆ Καὶ εἶπεν │\n",
       "│ 3          ┆ testament  ┆         ┆         ┆   ┆ edział:    ┆ “Işık     ┆ Deus:     ┆ ὁ Θεὸς,   │\n",
       "│            ┆            ┆         ┆         ┆   ┆ Niech      ┆ olsun”    ┆ Fiat lux. ┆ γενηθήτω  │\n",
       "│            ┆            ┆         ┆         ┆   ┆ stanie…    ┆ dedi ve   ┆ Et fa…    ┆ φῶς…      │\n",
       "│            ┆            ┆         ┆         ┆   ┆            ┆ ış…       ┆           ┆           │\n",
       "│ genesis_1_ ┆ old        ┆ genesis ┆ 1       ┆ … ┆ Bóg        ┆ Tanrı     ┆ Et vidit  ┆ Καὶ εἶδεν │\n",
       "│ 4          ┆ testament  ┆         ┆         ┆   ┆ widział,   ┆ ışığın    ┆ Deus      ┆ ὁ Θεὸς τὸ │\n",
       "│            ┆            ┆         ┆         ┆   ┆ że         ┆ iyi       ┆ lucem     ┆ φῶς, ὅτι  │\n",
       "│            ┆            ┆         ┆         ┆   ┆ światłość  ┆ olduğunu  ┆ quod      ┆ κ…        │\n",
       "│            ┆            ┆         ┆         ┆   ┆ była…      ┆ görd…     ┆ esset…    ┆           │\n",
       "│ genesis_1_ ┆ old        ┆ genesis ┆ 1       ┆ … ┆ I nazwał   ┆ Işığa     ┆ Appellavi ┆ Καὶ       │\n",
       "│ 5          ┆ testament  ┆         ┆         ┆   ┆ Bóg        ┆ “gündüz”, ┆ tque      ┆ ἐκάλεσεν  │\n",
       "│            ┆            ┆         ┆         ┆   ┆ światłość  ┆ karanlığa ┆ lucem     ┆ ὁ Θεὸς τὸ │\n",
       "│            ┆            ┆         ┆         ┆   ┆ dniem, …   ┆ “gec…     ┆ Diem, et  ┆ φῶς ἡμέ…  │\n",
       "│            ┆            ┆         ┆         ┆   ┆            ┆           ┆ t…        ┆           │\n",
       "└────────────┴────────────┴─────────┴─────────┴───┴────────────┴───────────┴───────────┴───────────┘"
      ]
     },
     "execution_count": 12,
     "metadata": {},
     "output_type": "execute_result"
    }
   ],
   "source": [
    "merged_df = joined[[\"key\", \"part\", \"book\", \"chapter\", \"verse\", \"tok\"]]\n",
    "\n",
    "for lang, tmp_df in tqdm(dfs.items()):\n",
    "    merged_col = []\n",
    "    not_null_keys = set()\n",
    "    for row in tmp_df.iter_rows(named=True):\n",
    "        value = None\n",
    "        key = row[\"key\"]\n",
    "        if not key or key in not_null_keys:\n",
    "            continue\n",
    "\n",
    "        for col in cols[lang]:\n",
    "            value = row[col]\n",
    "            if value is not None:\n",
    "                not_null_keys.add(key)\n",
    "                break\n",
    "\n",
    "        merged_col.append({\"key\": key, lang: value})\n",
    "\n",
    "    merged_df = merged_df.join(\n",
    "        pl.DataFrame(merged_col, infer_schema_length=int(1e12))\n",
    "            .group_by(\"key\")\n",
    "            .agg(pl.col(lang).first()),\n",
    "        on=\"key\",\n",
    "        how=\"left\",\n",
    "        maintain_order=\"left\"\n",
    "    )\n",
    "\n",
    "print(merged_df.shape)\n",
    "merged_df.head()"
   ]
  },
  {
   "cell_type": "code",
   "execution_count": 13,
   "id": "734912a5",
   "metadata": {},
   "outputs": [
    {
     "name": "stdout",
     "output_type": "stream",
     "text": [
      "(1146, 25)\n"
     ]
    },
    {
     "data": {
      "text/html": [
       "<div><style>\n",
       ".dataframe > thead > tr,\n",
       ".dataframe > tbody > tr {\n",
       "  text-align: right;\n",
       "  white-space: pre-wrap;\n",
       "}\n",
       "</style>\n",
       "<small>shape: (5, 25)</small><table border=\"1\" class=\"dataframe\"><thead><tr><th>key</th><th>part</th><th>book</th><th>chapter</th><th>verse</th><th>tok</th><th>en</th><th>ru</th><th>uk</th><th>be</th><th>fr</th><th>es</th><th>pt</th><th>it</th><th>de</th><th>vi</th><th>ja</th><th>zh</th><th>ko</th><th>ar</th><th>he</th><th>pl</th><th>tr</th><th>la</th><th>el</th></tr><tr><td>str</td><td>str</td><td>str</td><td>i64</td><td>i64</td><td>str</td><td>str</td><td>str</td><td>str</td><td>str</td><td>str</td><td>str</td><td>str</td><td>str</td><td>str</td><td>str</td><td>str</td><td>str</td><td>str</td><td>str</td><td>str</td><td>str</td><td>str</td><td>str</td><td>str</td></tr></thead><tbody><tr><td>&quot;genesis_38_22&quot;</td><td>&quot;old testament&quot;</td><td>&quot;genesis&quot;</td><td>38</td><td>22</td><td>&quot;ona li kama sin tawa jan Judah…</td><td>&quot;Hirah went back to Judah and t…</td><td>&quot;И возвратился он к Иуде и сказ…</td><td>&quot;І вернувся до Юди та й каже: Н…</td><td>&quot;І вярнуўся ён да Юды і сказаў:…</td><td>&quot;Et il retourna vers Juda, et d…</td><td>&quot;Entonces él regresó a Judá y d…</td><td>&quot;Então ele se voltou a Judá, e …</td><td>&quot;Ed egli se ne ritornò a Giuda,…</td><td>&quot;Und er kam wieder zu Juda und …</td><td>&quot;Bạn bèn trở về Giu-đa mà rằng:…</td><td>null</td><td>&quot;他回去见犹大说：「我没有找着她，并且那地方的人说：『这里没有…</td><td>&quot;그가 유다에게로 돌아와 가로되 `내가 그를 찾지 못하고…</td><td>&quot;فَرَجَعَ إِلَى يَهُوذَا وَقَال…</td><td>&quot;וישב אל יהודה ויאמר לא מצאתיה …</td><td>&quot;Wrócił więc do Judy i powiedzi…</td><td>&quot;Yahuda&#x27;ya döndü ve şöyle dedi:…</td><td>&quot;Reversus est ad Judam, et dixi…</td><td>&quot;Καὶ ἀπεστράφη πρὸς Ἰούδαν, καὶ…</td></tr><tr><td>&quot;esther_3_9&quot;</td><td>&quot;old testament&quot;</td><td>&quot;esther&quot;</td><td>3</td><td>9</td><td>&quot;ni li pona tawa jan lawa la, o…</td><td>&quot;If it please Your Majesty, iss…</td><td>&quot;Если царю благоугодно, то пуст…</td><td>&quot;Коли цареві до вподоби, то нех…</td><td>&quot;Калі цару будзе заўгодна, дык …</td><td>&quot;Si donc le roi le trouve bon, …</td><td>&quot;Si es un placer del rey, que s…</td><td>&quot;Se for do agrado do rei, escre…</td><td>&quot;Se così par bene al re, scriva…</td><td>&quot;Gefällt es dem König, so lasse…</td><td>&quot;Nếu điều đó vừa ý vua, khá giá…</td><td>null</td><td>&quot;王若以为美，请下旨意灭绝他们；我就捐一万他连得银子交给掌管国…</td><td>&quot;왕이 옳게 여기시거든 조서를 내려 저희를 진멸하소서 내…</td><td>&quot;فَإِذَا حَسُنَ عِنْدَ ٱلْمَلِك…</td><td>&quot;אם על המלך טוב יכתב לאבדם ועשר…</td><td>&quot;Jeśli król uzna to za słuszne,…</td><td>&quot;Kral uygun görürse, yok edilsi…</td><td>&quot;Si tibi placet, decerne, ut pe…</td><td>null</td></tr><tr><td>&quot;psalms_7_15&quot;</td><td>&quot;old testament&quot;</td><td>&quot;psalms&quot;</td><td>7</td><td>15</td><td>&quot;a! ona li pali mute tawa ike. …</td><td>&quot;See how the wicked conceive ev…</td><td>&quot;Вот, нечестивый зачал неправду…</td><td>&quot;Ось той, хто зачинає беззаконн…</td><td>&quot;Вось напраўду зачаў бязбожны, …</td><td>&quot;Voici, le méchant est en trava…</td><td>&quot;Miren al malvado; concibió mal…</td><td>&quot;Eis que o injusto está com dor…</td><td>&quot;Ecco, il mio nemico partorisce…</td><td>&quot;Siehe, der hat Böses im Sinn; …</td><td>&quot;Kìa, kẻ dữ đang đẻ gian ác; Th…</td><td>null</td><td>&quot;试看恶人因奸恶而劬劳， 所怀的是毒害，所生的是虚假。&quot;</td><td>&quot;악인이 죄악을 해산함이여 잔해를 잉태하며 궤휼을 낳았도…</td><td>&quot;هُوَذَا يَمْخَضُ بِٱلْإِثْمِ. …</td><td>&quot;הנה יחבל און והרה עמל וילד שקר…</td><td>&quot;Oto bezbożny rodzi nieprawość,…</td><td>&quot;İşte o kişi, kötülük sancısı ç…</td><td>&quot;Ecce parturiit injustitiam; co…</td><td>&quot;Καὶ ἐν αὐτῷ ἡτοίμασε σκεύη θαν…</td></tr><tr><td>&quot;john_1_11&quot;</td><td>&quot;new testament&quot;</td><td>&quot;john&quot;</td><td>1</td><td>11</td><td>&quot;ona li kama tawa jan ona. jan …</td><td>&quot;He came to his own people, but…</td><td>null</td><td>&quot;Він прийшов до своїх, та свої …</td><td>&quot;прыйшоў да сваіх, і свае Яго н…</td><td>&quot;Il est venu chez les siens; et…</td><td>&quot;Llegó a las cosas que eran suy…</td><td>&quot;Ele romveio para o seu próprio…</td><td>&quot;Egli è venuto in casa sua, ed …</td><td>&quot;Er kam in sein Eigentum; und d…</td><td>&quot;Ngài đã đến trong xứ mình, son…</td><td>&quot;この方はご自分のくにに来られたのに、ご自分の民は受け入れなか…</td><td>&quot;他到自己的地方来，自己的人倒不接待他。&quot;</td><td>&quot;자기 땅에 오매 자기 백성이 영접지 아니하였으나&quot;</td><td>&quot;إِلَى خَاصَّتِهِ جَاءَ، وَخَاص…</td><td>&quot;הוא בא אל אשר לו ואשר המה לו ל…</td><td>&quot;Przyszło do swojej własności, …</td><td>&quot;O kendi memleketine geldi, ken…</td><td>null</td><td>&quot;εἰς τὰ ἴδια ἦλθεν, καὶ οἱ ἴδιο…</td></tr><tr><td>&quot;daniel_1_2&quot;</td><td>&quot;old testament&quot;</td><td>&quot;daniel&quot;</td><td>1</td><td>2</td><td>&quot;sewi Atona li pana tawa luka o…</td><td>&quot;The Lord allowed him to defeat…</td><td>&quot;И предал Господь в руку его Ио…</td><td>&quot;І віддав Господь в його руки Й…</td><td>&quot;І аддаў Гасподзь у рукі ягоныя…</td><td>&quot;Et le Seigneur livra entre ses…</td><td>&quot;Y el Señor entregó en sus mano…</td><td>&quot;E o Senhor entregou em suas mã…</td><td>&quot;E il Signore diede in man sua …</td><td>&quot;Und der Herr übergab ihm Jojak…</td><td>&quot;Chúa phó Giê-hô-gia-kim vua Gi…</td><td>null</td><td>&quot;主将犹大王约雅敬，并　神殿中器皿的几分交付他手。他就把这器皿…</td><td>&quot;주께서 유다 왕 여호야김과 하나님의 전 기구 얼마를 그…</td><td>&quot;وَسَلَّمَ ٱلرَّبُّ بِيَدِهِ يَ…</td><td>&quot;ויתן אדני בידו את יהויקים מלך …</td><td>&quot;I Pan wydał w jego rękę Joakim…</td><td>&quot;Efendi, Yahuda Kralı Yehoyakim…</td><td>&quot;et tradidit Dominus in manu ej…</td><td>null</td></tr></tbody></table></div>"
      ],
      "text/plain": [
       "shape: (5, 25)\n",
       "┌────────────┬────────────┬─────────┬─────────┬───┬────────────┬───────────┬───────────┬───────────┐\n",
       "│ key        ┆ part       ┆ book    ┆ chapter ┆ … ┆ pl         ┆ tr        ┆ la        ┆ el        │\n",
       "│ ---        ┆ ---        ┆ ---     ┆ ---     ┆   ┆ ---        ┆ ---       ┆ ---       ┆ ---       │\n",
       "│ str        ┆ str        ┆ str     ┆ i64     ┆   ┆ str        ┆ str       ┆ str       ┆ str       │\n",
       "╞════════════╪════════════╪═════════╪═════════╪═══╪════════════╪═══════════╪═══════════╪═══════════╡\n",
       "│ genesis_38 ┆ old        ┆ genesis ┆ 38      ┆ … ┆ Wrócił     ┆ Yahuda'ya ┆ Reversus  ┆ Καὶ       │\n",
       "│ _22        ┆ testament  ┆         ┆         ┆   ┆ więc do    ┆ döndü ve  ┆ est ad    ┆ ἀπεστράφη │\n",
       "│            ┆            ┆         ┆         ┆   ┆ Judy i     ┆ şöyle     ┆ Judam, et ┆ πρὸς      │\n",
       "│            ┆            ┆         ┆         ┆   ┆ powiedzi…  ┆ dedi:…    ┆ dixi…     ┆ Ἰούδαν,   │\n",
       "│            ┆            ┆         ┆         ┆   ┆            ┆           ┆           ┆ καὶ…      │\n",
       "│ esther_3_9 ┆ old        ┆ esther  ┆ 3       ┆ … ┆ Jeśli król ┆ Kral      ┆ Si tibi   ┆ null      │\n",
       "│            ┆ testament  ┆         ┆         ┆   ┆ uzna to za ┆ uygun     ┆ placet,   ┆           │\n",
       "│            ┆            ┆         ┆         ┆   ┆ słuszne,…  ┆ görürse,  ┆ decerne,  ┆           │\n",
       "│            ┆            ┆         ┆         ┆   ┆            ┆ yok       ┆ ut pe…    ┆           │\n",
       "│            ┆            ┆         ┆         ┆   ┆            ┆ edilsi…   ┆           ┆           │\n",
       "│ psalms_7_1 ┆ old        ┆ psalms  ┆ 7       ┆ … ┆ Oto        ┆ İşte o    ┆ Ecce      ┆ Καὶ ἐν    │\n",
       "│ 5          ┆ testament  ┆         ┆         ┆   ┆ bezbożny   ┆ kişi,     ┆ parturiit ┆ αὐτῷ      │\n",
       "│            ┆            ┆         ┆         ┆   ┆ rodzi niep ┆ kötülük   ┆ injustiti ┆ ἡτοίμασε  │\n",
       "│            ┆            ┆         ┆         ┆   ┆ rawość,…   ┆ sancısı   ┆ am; co…   ┆ σκεύη     │\n",
       "│            ┆            ┆         ┆         ┆   ┆            ┆ ç…        ┆           ┆ θαν…      │\n",
       "│ john_1_11  ┆ new        ┆ john    ┆ 1       ┆ … ┆ Przyszło   ┆ O kendi   ┆ null      ┆ εἰς τὰ    │\n",
       "│            ┆ testament  ┆         ┆         ┆   ┆ do swojej  ┆ memleketi ┆           ┆ ἴδια      │\n",
       "│            ┆            ┆         ┆         ┆   ┆ własności, ┆ ne geldi, ┆           ┆ ἦλθεν,    │\n",
       "│            ┆            ┆         ┆         ┆   ┆ …          ┆ ken…      ┆           ┆ καὶ οἱ    │\n",
       "│            ┆            ┆         ┆         ┆   ┆            ┆           ┆           ┆ ἴδιο…     │\n",
       "│ daniel_1_2 ┆ old        ┆ daniel  ┆ 1       ┆ … ┆ I Pan      ┆ Efendi,   ┆ et        ┆ null      │\n",
       "│            ┆ testament  ┆         ┆         ┆   ┆ wydał w    ┆ Yahuda    ┆ tradidit  ┆           │\n",
       "│            ┆            ┆         ┆         ┆   ┆ jego rękę  ┆ Kralı Yeh ┆ Dominus   ┆           │\n",
       "│            ┆            ┆         ┆         ┆   ┆ Joakim…    ┆ oyakim…   ┆ in manu   ┆           │\n",
       "│            ┆            ┆         ┆         ┆   ┆            ┆           ┆ ej…       ┆           │\n",
       "└────────────┴────────────┴─────────┴─────────┴───┴────────────┴───────────┴───────────┴───────────┘"
      ]
     },
     "execution_count": 13,
     "metadata": {},
     "output_type": "execute_result"
    }
   ],
   "source": [
    "merged_df = merged_df.with_columns(\n",
    "    (pl.sum_horizontal([pl.all().is_null().cast(pl.Int8)])).alias(\"null_count\")\n",
    ").sort(\"null_count\")\n",
    "\n",
    "merged_df = merged_df.unique(subset=\"key\", keep=\"first\")[merged_df.columns[:-1]]\n",
    "\n",
    "print(merged_df.shape)\n",
    "merged_df.head()"
   ]
  },
  {
   "cell_type": "code",
   "execution_count": 14,
   "id": "d09d1c5c",
   "metadata": {},
   "outputs": [
    {
     "data": {
      "text/html": [
       "<div><style>\n",
       ".dataframe > thead > tr,\n",
       ".dataframe > tbody > tr {\n",
       "  text-align: right;\n",
       "  white-space: pre-wrap;\n",
       "}\n",
       "</style>\n",
       "<small>shape: (1, 25)</small><table border=\"1\" class=\"dataframe\"><thead><tr><th>key</th><th>part</th><th>book</th><th>chapter</th><th>verse</th><th>tok</th><th>en</th><th>ru</th><th>uk</th><th>be</th><th>fr</th><th>es</th><th>pt</th><th>it</th><th>de</th><th>vi</th><th>ja</th><th>zh</th><th>ko</th><th>ar</th><th>he</th><th>pl</th><th>tr</th><th>la</th><th>el</th></tr><tr><td>u32</td><td>u32</td><td>u32</td><td>u32</td><td>u32</td><td>u32</td><td>u32</td><td>u32</td><td>u32</td><td>u32</td><td>u32</td><td>u32</td><td>u32</td><td>u32</td><td>u32</td><td>u32</td><td>u32</td><td>u32</td><td>u32</td><td>u32</td><td>u32</td><td>u32</td><td>u32</td><td>u32</td><td>u32</td></tr></thead><tbody><tr><td>0</td><td>0</td><td>0</td><td>0</td><td>0</td><td>0</td><td>9</td><td>307</td><td>7</td><td>5</td><td>1</td><td>9</td><td>12</td><td>12</td><td>4</td><td>12</td><td>914</td><td>12</td><td>14</td><td>12</td><td>4</td><td>12</td><td>12</td><td>307</td><td>107</td></tr></tbody></table></div>"
      ],
      "text/plain": [
       "shape: (1, 25)\n",
       "┌─────┬──────┬──────┬─────────┬───┬─────┬─────┬─────┬─────┐\n",
       "│ key ┆ part ┆ book ┆ chapter ┆ … ┆ pl  ┆ tr  ┆ la  ┆ el  │\n",
       "│ --- ┆ ---  ┆ ---  ┆ ---     ┆   ┆ --- ┆ --- ┆ --- ┆ --- │\n",
       "│ u32 ┆ u32  ┆ u32  ┆ u32     ┆   ┆ u32 ┆ u32 ┆ u32 ┆ u32 │\n",
       "╞═════╪══════╪══════╪═════════╪═══╪═════╪═════╪═════╪═════╡\n",
       "│ 0   ┆ 0    ┆ 0    ┆ 0       ┆ … ┆ 12  ┆ 12  ┆ 307 ┆ 107 │\n",
       "└─────┴──────┴──────┴─────────┴───┴─────┴─────┴─────┴─────┘"
      ]
     },
     "execution_count": 14,
     "metadata": {},
     "output_type": "execute_result"
    }
   ],
   "source": [
    "merged_df.null_count()"
   ]
  },
  {
   "cell_type": "code",
   "execution_count": 15,
   "id": "fcfb1337",
   "metadata": {},
   "outputs": [],
   "source": [
    "merged_df.write_parquet(\"ebible_merged.pq\")"
   ]
  }
 ],
 "metadata": {
  "kernelspec": {
   "display_name": "ilo-toki",
   "language": "python",
   "name": "python3"
  },
  "language_info": {
   "codemirror_mode": {
    "name": "ipython",
    "version": 3
   },
   "file_extension": ".py",
   "mimetype": "text/x-python",
   "name": "python",
   "nbconvert_exporter": "python",
   "pygments_lexer": "ipython3",
   "version": "3.12.2"
  }
 },
 "nbformat": 4,
 "nbformat_minor": 5
}
