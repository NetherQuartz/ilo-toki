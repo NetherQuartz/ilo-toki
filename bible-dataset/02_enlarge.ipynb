{
 "cells": [
  {
   "cell_type": "code",
   "execution_count": 1,
   "id": "557742b1",
   "metadata": {},
   "outputs": [
    {
     "data": {
      "text/plain": [
       "DatasetDict({\n",
       "    train: Dataset({\n",
       "        features: ['id', 'osisID', 'book', 'chapter', 'start_verse', 'end_verse', 'dar_text', 'ru_text', 'rus_version'],\n",
       "        num_rows: 26339\n",
       "    })\n",
       "})"
      ]
     },
     "execution_count": 1,
     "metadata": {},
     "output_type": "execute_result"
    }
   ],
   "source": [
    "from datasets import load_dataset\n",
    "\n",
    "ds = load_dataset(\"Murtazali/bible-dargwa-russian\")\n",
    "ds"
   ]
  },
  {
   "cell_type": "code",
   "execution_count": 2,
   "id": "377077da",
   "metadata": {},
   "outputs": [
    {
     "data": {
      "text/html": [
       "<div><style>\n",
       ".dataframe > thead > tr,\n",
       ".dataframe > tbody > tr {\n",
       "  text-align: right;\n",
       "  white-space: pre-wrap;\n",
       "}\n",
       "</style>\n",
       "<small>shape: (26_239, 10)</small><table border=\"1\" class=\"dataframe\"><thead><tr><th>id</th><th>osisID</th><th>book</th><th>chapter</th><th>start_verse</th><th>end_verse</th><th>dar_text</th><th>ru_text</th><th>rus_version</th><th>key</th></tr><tr><td>f64</td><td>str</td><td>str</td><td>f64</td><td>f64</td><td>f64</td><td>str</td><td>str</td><td>str</td><td>str</td></tr></thead><tbody><tr><td>0.0</td><td>&quot;Gen&quot;</td><td>&quot;Genesis&quot;</td><td>1.0</td><td>1.0</td><td>1.0</td><td>&quot;Гьаланачи Аллагьли зак ва ванз…</td><td>&quot;В начале сотворил Бог небо и з…</td><td>&quot;Sinodal&quot;</td><td>&quot;genesis_1_1&quot;</td></tr><tr><td>1.0</td><td>&quot;Gen&quot;</td><td>&quot;Genesis&quot;</td><td>1.0</td><td>2.0</td><td>2.0</td><td>&quot;Ванза куцагарлири ва бацӀлири,…</td><td>&quot;Земля же была безвидна и пуста…</td><td>&quot;Sinodal&quot;</td><td>&quot;genesis_1_2&quot;</td></tr><tr><td>2.0</td><td>&quot;Gen&quot;</td><td>&quot;Genesis&quot;</td><td>1.0</td><td>3.0</td><td>3.0</td><td>&quot;Аллагьли иб: «Шала биаб» ва ша…</td><td>&quot;И сказал Бог: да будет свет. И…</td><td>&quot;Sinodal&quot;</td><td>&quot;genesis_1_3&quot;</td></tr><tr><td>3.0</td><td>&quot;Gen&quot;</td><td>&quot;Genesis&quot;</td><td>1.0</td><td>4.0</td><td>4.0</td><td>&quot;Шала гӀяхӀси биъни Аллагьли че…</td><td>&quot;И увидел Бог свет, что он хоро…</td><td>&quot;Sinodal&quot;</td><td>&quot;genesis_1_4&quot;</td></tr><tr><td>4.0</td><td>&quot;Gen&quot;</td><td>&quot;Genesis&quot;</td><td>1.0</td><td>5.0</td><td>5.0</td><td>&quot;Аллагьли шалалис «бархӀи» бихь…</td><td>&quot;И назвал Бог свет днём, а тьму…</td><td>&quot;Sinodal&quot;</td><td>&quot;genesis_1_5&quot;</td></tr><tr><td>&hellip;</td><td>&hellip;</td><td>&hellip;</td><td>&hellip;</td><td>&hellip;</td><td>&hellip;</td><td>&hellip;</td><td>&hellip;</td><td>&hellip;</td><td>&hellip;</td></tr><tr><td>26334.0</td><td>&quot;Rev&quot;</td><td>&quot;Revelation&quot;</td><td>22.0</td><td>17.0</td><td>17.0</td><td>&quot;РухӀ ва цӀикури дикӀар: «ВакӀи…</td><td>&quot;И Дух и невеста Его говорят: &quot;…</td><td>&quot;Modern&quot;</td><td>&quot;revelation_22_17&quot;</td></tr><tr><td>26335.0</td><td>&quot;Rev&quot;</td><td>&quot;Revelation&quot;</td><td>22.0</td><td>18.0</td><td>18.0</td><td>&quot; Иш бергараг-белкӀла гьалахили…</td><td>&quot;И я свидетельствую перед всеми…</td><td>&quot;Modern&quot;</td><td>&quot;revelation_22_18&quot;</td></tr><tr><td>26336.0</td><td>&quot;Rev&quot;</td><td>&quot;Revelation&quot;</td><td>22.0</td><td>19.0</td><td>19.0</td><td>&quot; чили-биалра гьалахили дурутал…</td><td>&quot;И если кто опустит что-то из п…</td><td>&quot;Modern&quot;</td><td>&quot;revelation_22_19&quot;</td></tr><tr><td>26337.0</td><td>&quot;Rev&quot;</td><td>&quot;Revelation&quot;</td><td>22.0</td><td>20.0</td><td>20.0</td><td>&quot; Иличила Бикьридешдируси викӀа…</td><td>&quot;Тот, Кто свидетельствует обо в…</td><td>&quot;Modern&quot;</td><td>&quot;revelation_22_20&quot;</td></tr><tr><td>26338.0</td><td>&quot;Rev&quot;</td><td>&quot;Revelation&quot;</td><td>22.0</td><td>21.0</td><td>21.0</td><td>&quot;ХалавегӀил ГӀисала баркат лебт…</td><td>&quot;Да будет благодать Господа Иис…</td><td>&quot;Modern&quot;</td><td>&quot;revelation_22_21&quot;</td></tr></tbody></table></div>"
      ],
      "text/plain": [
       "shape: (26_239, 10)\n",
       "┌─────────┬────────┬────────────┬─────────┬───┬─────────────┬────────────┬────────────┬────────────┐\n",
       "│ id      ┆ osisID ┆ book       ┆ chapter ┆ … ┆ dar_text    ┆ ru_text    ┆ rus_versio ┆ key        │\n",
       "│ ---     ┆ ---    ┆ ---        ┆ ---     ┆   ┆ ---         ┆ ---        ┆ n          ┆ ---        │\n",
       "│ f64     ┆ str    ┆ str        ┆ f64     ┆   ┆ str         ┆ str        ┆ ---        ┆ str        │\n",
       "│         ┆        ┆            ┆         ┆   ┆             ┆            ┆ str        ┆            │\n",
       "╞═════════╪════════╪════════════╪═════════╪═══╪═════════════╪════════════╪════════════╪════════════╡\n",
       "│ 0.0     ┆ Gen    ┆ Genesis    ┆ 1.0     ┆ … ┆ Гьаланачи   ┆ В начале   ┆ Sinodal    ┆ genesis_1_ │\n",
       "│         ┆        ┆            ┆         ┆   ┆ Аллагьли    ┆ сотворил   ┆            ┆ 1          │\n",
       "│         ┆        ┆            ┆         ┆   ┆ зак ва      ┆ Бог небо и ┆            ┆            │\n",
       "│         ┆        ┆            ┆         ┆   ┆ ванз…       ┆ з…         ┆            ┆            │\n",
       "│ 1.0     ┆ Gen    ┆ Genesis    ┆ 1.0     ┆ … ┆ Ванза       ┆ Земля же   ┆ Sinodal    ┆ genesis_1_ │\n",
       "│         ┆        ┆            ┆         ┆   ┆ куцагарлири ┆ была       ┆            ┆ 2          │\n",
       "│         ┆        ┆            ┆         ┆   ┆ ва          ┆ безвидна и ┆            ┆            │\n",
       "│         ┆        ┆            ┆         ┆   ┆ бацӀлири,…  ┆ пуста…     ┆            ┆            │\n",
       "│ 2.0     ┆ Gen    ┆ Genesis    ┆ 1.0     ┆ … ┆ Аллагьли    ┆ И сказал   ┆ Sinodal    ┆ genesis_1_ │\n",
       "│         ┆        ┆            ┆         ┆   ┆ иб: «Шала   ┆ Бог: да    ┆            ┆ 3          │\n",
       "│         ┆        ┆            ┆         ┆   ┆ биаб» ва    ┆ будет      ┆            ┆            │\n",
       "│         ┆        ┆            ┆         ┆   ┆ ша…         ┆ свет. И…   ┆            ┆            │\n",
       "│ 3.0     ┆ Gen    ┆ Genesis    ┆ 1.0     ┆ … ┆ Шала        ┆ И увидел   ┆ Sinodal    ┆ genesis_1_ │\n",
       "│         ┆        ┆            ┆         ┆   ┆ гӀяхӀси     ┆ Бог свет,  ┆            ┆ 4          │\n",
       "│         ┆        ┆            ┆         ┆   ┆ биъни       ┆ что он     ┆            ┆            │\n",
       "│         ┆        ┆            ┆         ┆   ┆ Аллагьли    ┆ хоро…      ┆            ┆            │\n",
       "│         ┆        ┆            ┆         ┆   ┆ че…         ┆            ┆            ┆            │\n",
       "│ 4.0     ┆ Gen    ┆ Genesis    ┆ 1.0     ┆ … ┆ Аллагьли    ┆ И назвал   ┆ Sinodal    ┆ genesis_1_ │\n",
       "│         ┆        ┆            ┆         ┆   ┆ шалалис     ┆ Бог свет   ┆            ┆ 5          │\n",
       "│         ┆        ┆            ┆         ┆   ┆ «бархӀи»    ┆ днём, а    ┆            ┆            │\n",
       "│         ┆        ┆            ┆         ┆   ┆ бихь…       ┆ тьму…      ┆            ┆            │\n",
       "│ …       ┆ …      ┆ …          ┆ …       ┆ … ┆ …           ┆ …          ┆ …          ┆ …          │\n",
       "│ 26334.0 ┆ Rev    ┆ Revelation ┆ 22.0    ┆ … ┆ РухӀ ва     ┆ И Дух и    ┆ Modern     ┆ revelation │\n",
       "│         ┆        ┆            ┆         ┆   ┆ цӀикури     ┆ невеста    ┆            ┆ _22_17     │\n",
       "│         ┆        ┆            ┆         ┆   ┆ дикӀар:     ┆ Его        ┆            ┆            │\n",
       "│         ┆        ┆            ┆         ┆   ┆ «ВакӀи…     ┆ говорят:   ┆            ┆            │\n",
       "│         ┆        ┆            ┆         ┆   ┆             ┆ \"…         ┆            ┆            │\n",
       "│ 26335.0 ┆ Rev    ┆ Revelation ┆ 22.0    ┆ … ┆ Иш бергараг ┆ И я свидет ┆ Modern     ┆ revelation │\n",
       "│         ┆        ┆            ┆         ┆   ┆ -белкӀла    ┆ ельствую   ┆            ┆ _22_18     │\n",
       "│         ┆        ┆            ┆         ┆   ┆ гьалахили…  ┆ перед      ┆            ┆            │\n",
       "│         ┆        ┆            ┆         ┆   ┆             ┆ всеми…     ┆            ┆            │\n",
       "│ 26336.0 ┆ Rev    ┆ Revelation ┆ 22.0    ┆ … ┆ чили-биалра ┆ И если кто ┆ Modern     ┆ revelation │\n",
       "│         ┆        ┆            ┆         ┆   ┆ гьалахили   ┆ опустит    ┆            ┆ _22_19     │\n",
       "│         ┆        ┆            ┆         ┆   ┆ дурутал…    ┆ что-то из  ┆            ┆            │\n",
       "│         ┆        ┆            ┆         ┆   ┆             ┆ п…         ┆            ┆            │\n",
       "│ 26337.0 ┆ Rev    ┆ Revelation ┆ 22.0    ┆ … ┆ Иличила Бик ┆ Тот, Кто   ┆ Modern     ┆ revelation │\n",
       "│         ┆        ┆            ┆         ┆   ┆ ьридешдирус ┆ свидетельс ┆            ┆ _22_20     │\n",
       "│         ┆        ┆            ┆         ┆   ┆ и викӀа…    ┆ твует обо  ┆            ┆            │\n",
       "│         ┆        ┆            ┆         ┆   ┆             ┆ в…         ┆            ┆            │\n",
       "│ 26338.0 ┆ Rev    ┆ Revelation ┆ 22.0    ┆ … ┆ ХалавегӀил  ┆ Да будет   ┆ Modern     ┆ revelation │\n",
       "│         ┆        ┆            ┆         ┆   ┆ ГӀисала     ┆ благодать  ┆            ┆ _22_21     │\n",
       "│         ┆        ┆            ┆         ┆   ┆ баркат      ┆ Господа    ┆            ┆            │\n",
       "│         ┆        ┆            ┆         ┆   ┆ лебт…       ┆ Иис…       ┆            ┆            │\n",
       "└─────────┴────────┴────────────┴─────────┴───┴─────────────┴────────────┴────────────┴────────────┘"
      ]
     },
     "execution_count": 2,
     "metadata": {},
     "output_type": "execute_result"
    }
   ],
   "source": [
    "import polars as pl\n",
    "\n",
    "df = ds[\"train\"].to_polars().filter(pl.col(\"start_verse\") == pl.col(\"end_verse\"))\n",
    "df = df.with_columns(\n",
    "    (df[\"book\"].str.to_lowercase() + \"_\" + df[\"chapter\"].cast(int) + \"_\" + df[\"start_verse\"].cast(int)).alias(\"key\")\n",
    ")\n",
    "\n",
    "df"
   ]
  },
  {
   "cell_type": "code",
   "execution_count": 4,
   "id": "a6916bd4",
   "metadata": {},
   "outputs": [
    {
     "data": {
      "text/plain": [
       "(1146, 25)"
      ]
     },
     "execution_count": 4,
     "metadata": {},
     "output_type": "execute_result"
    }
   ],
   "source": [
    "data = pl.read_parquet(\"ebible_merged.pq\")\n",
    "data.shape"
   ]
  },
  {
   "cell_type": "code",
   "execution_count": 8,
   "id": "4bbd48be",
   "metadata": {},
   "outputs": [
    {
     "data": {
      "text/html": [
       "<div><style>\n",
       ".dataframe > thead > tr,\n",
       ".dataframe > tbody > tr {\n",
       "  text-align: right;\n",
       "  white-space: pre-wrap;\n",
       "}\n",
       "</style>\n",
       "<small>shape: (1, 25)</small><table border=\"1\" class=\"dataframe\"><thead><tr><th>key</th><th>part</th><th>book</th><th>chapter</th><th>verse</th><th>tok</th><th>en</th><th>ru</th><th>uk</th><th>be</th><th>fr</th><th>es</th><th>pt</th><th>it</th><th>de</th><th>vi</th><th>ja</th><th>zh</th><th>ko</th><th>ar</th><th>he</th><th>pl</th><th>tr</th><th>la</th><th>el</th></tr><tr><td>u32</td><td>u32</td><td>u32</td><td>u32</td><td>u32</td><td>u32</td><td>u32</td><td>u32</td><td>u32</td><td>u32</td><td>u32</td><td>u32</td><td>u32</td><td>u32</td><td>u32</td><td>u32</td><td>u32</td><td>u32</td><td>u32</td><td>u32</td><td>u32</td><td>u32</td><td>u32</td><td>u32</td><td>u32</td></tr></thead><tbody><tr><td>0</td><td>0</td><td>0</td><td>0</td><td>0</td><td>0</td><td>9</td><td>307</td><td>7</td><td>5</td><td>1</td><td>9</td><td>12</td><td>12</td><td>4</td><td>12</td><td>914</td><td>12</td><td>14</td><td>12</td><td>4</td><td>12</td><td>12</td><td>307</td><td>107</td></tr></tbody></table></div>"
      ],
      "text/plain": [
       "shape: (1, 25)\n",
       "┌─────┬──────┬──────┬─────────┬───┬─────┬─────┬─────┬─────┐\n",
       "│ key ┆ part ┆ book ┆ chapter ┆ … ┆ pl  ┆ tr  ┆ la  ┆ el  │\n",
       "│ --- ┆ ---  ┆ ---  ┆ ---     ┆   ┆ --- ┆ --- ┆ --- ┆ --- │\n",
       "│ u32 ┆ u32  ┆ u32  ┆ u32     ┆   ┆ u32 ┆ u32 ┆ u32 ┆ u32 │\n",
       "╞═════╪══════╪══════╪═════════╪═══╪═════╪═════╪═════╪═════╡\n",
       "│ 0   ┆ 0    ┆ 0    ┆ 0       ┆ … ┆ 12  ┆ 12  ┆ 307 ┆ 107 │\n",
       "└─────┴──────┴──────┴─────────┴───┴─────┴─────┴─────┴─────┘"
      ]
     },
     "execution_count": 8,
     "metadata": {},
     "output_type": "execute_result"
    }
   ],
   "source": [
    "data.null_count()"
   ]
  },
  {
   "cell_type": "code",
   "execution_count": 22,
   "id": "00c17ae0",
   "metadata": {},
   "outputs": [
    {
     "data": {
      "text/html": [
       "<div><style>\n",
       ".dataframe > thead > tr,\n",
       ".dataframe > tbody > tr {\n",
       "  text-align: right;\n",
       "  white-space: pre-wrap;\n",
       "}\n",
       "</style>\n",
       "<small>shape: (1, 26)</small><table border=\"1\" class=\"dataframe\"><thead><tr><th>key</th><th>part</th><th>book</th><th>chapter</th><th>verse</th><th>tok</th><th>en</th><th>ru</th><th>uk</th><th>be</th><th>fr</th><th>es</th><th>pt</th><th>it</th><th>de</th><th>vi</th><th>ja</th><th>zh</th><th>ko</th><th>ar</th><th>he</th><th>pl</th><th>tr</th><th>la</th><th>el</th><th>ru_text</th></tr><tr><td>u32</td><td>u32</td><td>u32</td><td>u32</td><td>u32</td><td>u32</td><td>u32</td><td>u32</td><td>u32</td><td>u32</td><td>u32</td><td>u32</td><td>u32</td><td>u32</td><td>u32</td><td>u32</td><td>u32</td><td>u32</td><td>u32</td><td>u32</td><td>u32</td><td>u32</td><td>u32</td><td>u32</td><td>u32</td><td>u32</td></tr></thead><tbody><tr><td>0</td><td>0</td><td>0</td><td>0</td><td>0</td><td>0</td><td>9</td><td>110</td><td>7</td><td>5</td><td>1</td><td>9</td><td>12</td><td>12</td><td>4</td><td>12</td><td>914</td><td>12</td><td>14</td><td>12</td><td>4</td><td>12</td><td>12</td><td>307</td><td>107</td><td>511</td></tr></tbody></table></div>"
      ],
      "text/plain": [
       "shape: (1, 26)\n",
       "┌─────┬──────┬──────┬─────────┬───┬─────┬─────┬─────┬─────────┐\n",
       "│ key ┆ part ┆ book ┆ chapter ┆ … ┆ tr  ┆ la  ┆ el  ┆ ru_text │\n",
       "│ --- ┆ ---  ┆ ---  ┆ ---     ┆   ┆ --- ┆ --- ┆ --- ┆ ---     │\n",
       "│ u32 ┆ u32  ┆ u32  ┆ u32     ┆   ┆ u32 ┆ u32 ┆ u32 ┆ u32     │\n",
       "╞═════╪══════╪══════╪═════════╪═══╪═════╪═════╪═════╪═════════╡\n",
       "│ 0   ┆ 0    ┆ 0    ┆ 0       ┆ … ┆ 12  ┆ 307 ┆ 107 ┆ 511     │\n",
       "└─────┴──────┴──────┴─────────┴───┴─────┴─────┴─────┴─────────┘"
      ]
     },
     "execution_count": 22,
     "metadata": {},
     "output_type": "execute_result"
    }
   ],
   "source": [
    "joined = data.join(df[[\"key\", \"ru_text\"]].unique(\"key\"), on=\"key\", how=\"left\")\n",
    "joined = joined.with_columns(joined[\"ru\"].fill_null(joined[\"ru_text\"]))\n",
    "joined.null_count()"
   ]
  },
  {
   "cell_type": "code",
   "execution_count": 23,
   "id": "0f2b5608",
   "metadata": {},
   "outputs": [
    {
     "name": "stdout",
     "output_type": "stream",
     "text": [
      "(1146, 25)\n"
     ]
    },
    {
     "data": {
      "text/html": [
       "<div><style>\n",
       ".dataframe > thead > tr,\n",
       ".dataframe > tbody > tr {\n",
       "  text-align: right;\n",
       "  white-space: pre-wrap;\n",
       "}\n",
       "</style>\n",
       "<small>shape: (1, 25)</small><table border=\"1\" class=\"dataframe\"><thead><tr><th>key</th><th>part</th><th>book</th><th>chapter</th><th>verse</th><th>tok</th><th>en</th><th>ru</th><th>uk</th><th>be</th><th>fr</th><th>es</th><th>pt</th><th>it</th><th>de</th><th>vi</th><th>ja</th><th>zh</th><th>ko</th><th>ar</th><th>he</th><th>pl</th><th>tr</th><th>la</th><th>el</th></tr><tr><td>u32</td><td>u32</td><td>u32</td><td>u32</td><td>u32</td><td>u32</td><td>u32</td><td>u32</td><td>u32</td><td>u32</td><td>u32</td><td>u32</td><td>u32</td><td>u32</td><td>u32</td><td>u32</td><td>u32</td><td>u32</td><td>u32</td><td>u32</td><td>u32</td><td>u32</td><td>u32</td><td>u32</td><td>u32</td></tr></thead><tbody><tr><td>0</td><td>0</td><td>0</td><td>0</td><td>0</td><td>0</td><td>9</td><td>110</td><td>7</td><td>5</td><td>1</td><td>9</td><td>12</td><td>12</td><td>4</td><td>12</td><td>914</td><td>12</td><td>14</td><td>12</td><td>4</td><td>12</td><td>12</td><td>307</td><td>107</td></tr></tbody></table></div>"
      ],
      "text/plain": [
       "shape: (1, 25)\n",
       "┌─────┬──────┬──────┬─────────┬───┬─────┬─────┬─────┬─────┐\n",
       "│ key ┆ part ┆ book ┆ chapter ┆ … ┆ pl  ┆ tr  ┆ la  ┆ el  │\n",
       "│ --- ┆ ---  ┆ ---  ┆ ---     ┆   ┆ --- ┆ --- ┆ --- ┆ --- │\n",
       "│ u32 ┆ u32  ┆ u32  ┆ u32     ┆   ┆ u32 ┆ u32 ┆ u32 ┆ u32 │\n",
       "╞═════╪══════╪══════╪═════════╪═══╪═════╪═════╪═════╪═════╡\n",
       "│ 0   ┆ 0    ┆ 0    ┆ 0       ┆ … ┆ 12  ┆ 12  ┆ 307 ┆ 107 │\n",
       "└─────┴──────┴──────┴─────────┴───┴─────┴─────┴─────┴─────┘"
      ]
     },
     "execution_count": 23,
     "metadata": {},
     "output_type": "execute_result"
    }
   ],
   "source": [
    "data = joined[data.columns]\n",
    "print(data.shape)\n",
    "data.null_count()"
   ]
  },
  {
   "cell_type": "code",
   "execution_count": 24,
   "id": "e74b390d",
   "metadata": {},
   "outputs": [],
   "source": [
    "data.write_parquet(\"enlarged.pq\")"
   ]
  }
 ],
 "metadata": {
  "kernelspec": {
   "display_name": "ilo-toki",
   "language": "python",
   "name": "python3"
  },
  "language_info": {
   "codemirror_mode": {
    "name": "ipython",
    "version": 3
   },
   "file_extension": ".py",
   "mimetype": "text/x-python",
   "name": "python",
   "nbconvert_exporter": "python",
   "pygments_lexer": "ipython3",
   "version": "3.12.2"
  }
 },
 "nbformat": 4,
 "nbformat_minor": 5
}
